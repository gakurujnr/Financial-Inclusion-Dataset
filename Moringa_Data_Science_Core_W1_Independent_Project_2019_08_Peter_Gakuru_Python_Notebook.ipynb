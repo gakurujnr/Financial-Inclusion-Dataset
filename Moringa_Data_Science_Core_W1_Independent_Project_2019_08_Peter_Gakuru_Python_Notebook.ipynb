{
  "nbformat": 4,
  "nbformat_minor": 0,
  "metadata": {
    "colab": {
      "name": "Moringa_Data_Science_Core_W1_Independent_Project_2019_08_Peter_Gakuru_Python_Notebook",
      "version": "0.3.2",
      "provenance": [],
      "collapsed_sections": [],
      "include_colab_link": true
    },
    "kernelspec": {
      "name": "python3",
      "display_name": "Python 3"
    }
  },
  "cells": [
    {
      "cell_type": "markdown",
      "metadata": {
        "id": "view-in-github",
        "colab_type": "text"
      },
      "source": [
        "<a href=\"https://colab.research.google.com/github/gakurujnr/Financial-Inclusion-Dataset/blob/master/Moringa_Data_Science_Core_W1_Independent_Project_2019_08_Peter_Gakuru_Python_Notebook.ipynb\" target=\"_parent\"><img src=\"https://colab.research.google.com/assets/colab-badge.svg\" alt=\"Open In Colab\"/></a>"
      ]
    },
    {
      "cell_type": "markdown",
      "metadata": {
        "id": "zEKRFQUeWC7y",
        "colab_type": "text"
      },
      "source": [
        "## All Imports"
      ]
    },
    {
      "cell_type": "code",
      "metadata": {
        "id": "laK2kiaUWSlN",
        "colab_type": "code",
        "colab": {}
      },
      "source": [
        "##\n",
        "###\n",
        "# All imports\n",
        "# Importing Numpy\n",
        "import numpy as np\n",
        "\n",
        "# Importing Pandas\n",
        "import pandas as pd\n",
        "\n",
        "# Importing Matplotlib\n",
        "import matplotlib.pyplot as plt\n",
        "%matplotlib inline\n",
        "\n",
        "# Importing Seaborn\n",
        "import seaborn as sns\n",
        "\n",
        "import pandas_profiling\n",
        "\n",
        "from sklearn.linear_model import LinearRegression\n",
        "from sklearn import model_selection\n",
        "from sklearn.metrics import r2_score\n",
        "from sklearn.model_selection import train_test_split\n",
        "import statsmodels.api as sm\n"
      ],
      "execution_count": 0,
      "outputs": []
    },
    {
      "cell_type": "markdown",
      "metadata": {
        "id": "_z3JEBSeWrbx",
        "colab_type": "text"
      },
      "source": [
        "## Reading the Dataset"
      ]
    },
    {
      "cell_type": "code",
      "metadata": {
        "id": "xy4O9bYZWvkx",
        "colab_type": "code",
        "colab": {
          "base_uri": "https://localhost:8080/",
          "height": 367
        },
        "outputId": "fb3f0e5d-caab-4e92-b797-dd1170616723"
      },
      "source": [
        "##\n",
        "## \n",
        "# Loading the Data from the source \n",
        "# ---\n",
        "# Dataset: http://bit.ly/FinancialDataset\n",
        "# ---\n",
        "proj = pd.read_csv(\"http://bit.ly/FinancialDataset\")\n",
        "proj.head()"
      ],
      "execution_count": 2,
      "outputs": [
        {
          "output_type": "execute_result",
          "data": {
            "text/html": [
              "<div>\n",
              "<style scoped>\n",
              "    .dataframe tbody tr th:only-of-type {\n",
              "        vertical-align: middle;\n",
              "    }\n",
              "\n",
              "    .dataframe tbody tr th {\n",
              "        vertical-align: top;\n",
              "    }\n",
              "\n",
              "    .dataframe thead th {\n",
              "        text-align: right;\n",
              "    }\n",
              "</style>\n",
              "<table border=\"1\" class=\"dataframe\">\n",
              "  <thead>\n",
              "    <tr style=\"text-align: right;\">\n",
              "      <th></th>\n",
              "      <th>country</th>\n",
              "      <th>year</th>\n",
              "      <th>uniqueid</th>\n",
              "      <th>Has a Bank account</th>\n",
              "      <th>Type of Location</th>\n",
              "      <th>Cell Phone Access</th>\n",
              "      <th>household_size</th>\n",
              "      <th>Respondent Age</th>\n",
              "      <th>gender_of_respondent</th>\n",
              "      <th>The relathip with head</th>\n",
              "      <th>marital_status</th>\n",
              "      <th>Level of Educuation</th>\n",
              "      <th>Type of Job</th>\n",
              "    </tr>\n",
              "  </thead>\n",
              "  <tbody>\n",
              "    <tr>\n",
              "      <th>0</th>\n",
              "      <td>Kenya</td>\n",
              "      <td>2018</td>\n",
              "      <td>uniqueid_1</td>\n",
              "      <td>Yes</td>\n",
              "      <td>Rural</td>\n",
              "      <td>Yes</td>\n",
              "      <td>3.0</td>\n",
              "      <td>24.0</td>\n",
              "      <td>Female</td>\n",
              "      <td>Spouse</td>\n",
              "      <td>Married/Living together</td>\n",
              "      <td>Secondary education</td>\n",
              "      <td>Self employed</td>\n",
              "    </tr>\n",
              "    <tr>\n",
              "      <th>1</th>\n",
              "      <td>Kenya</td>\n",
              "      <td>2018</td>\n",
              "      <td>uniqueid_2</td>\n",
              "      <td>No</td>\n",
              "      <td>Rural</td>\n",
              "      <td>No</td>\n",
              "      <td>5.0</td>\n",
              "      <td>70.0</td>\n",
              "      <td>Female</td>\n",
              "      <td>Head of Household</td>\n",
              "      <td>Widowed</td>\n",
              "      <td>No formal education</td>\n",
              "      <td>Government Dependent</td>\n",
              "    </tr>\n",
              "    <tr>\n",
              "      <th>2</th>\n",
              "      <td>Kenya</td>\n",
              "      <td>2018</td>\n",
              "      <td>uniqueid_3</td>\n",
              "      <td>Yes</td>\n",
              "      <td>Urban</td>\n",
              "      <td>Yes</td>\n",
              "      <td>5.0</td>\n",
              "      <td>26.0</td>\n",
              "      <td>Male</td>\n",
              "      <td>Other relative</td>\n",
              "      <td>Single/Never Married</td>\n",
              "      <td>Vocational/Specialised training</td>\n",
              "      <td>Self employed</td>\n",
              "    </tr>\n",
              "    <tr>\n",
              "      <th>3</th>\n",
              "      <td>Kenya</td>\n",
              "      <td>2018</td>\n",
              "      <td>uniqueid_4</td>\n",
              "      <td>No</td>\n",
              "      <td>Rural</td>\n",
              "      <td>Yes</td>\n",
              "      <td>5.0</td>\n",
              "      <td>34.0</td>\n",
              "      <td>Female</td>\n",
              "      <td>Head of Household</td>\n",
              "      <td>Married/Living together</td>\n",
              "      <td>Primary education</td>\n",
              "      <td>Formally employed Private</td>\n",
              "    </tr>\n",
              "    <tr>\n",
              "      <th>4</th>\n",
              "      <td>Kenya</td>\n",
              "      <td>2018</td>\n",
              "      <td>uniqueid_5</td>\n",
              "      <td>No</td>\n",
              "      <td>Urban</td>\n",
              "      <td>No</td>\n",
              "      <td>8.0</td>\n",
              "      <td>26.0</td>\n",
              "      <td>Male</td>\n",
              "      <td>Child</td>\n",
              "      <td>Single/Never Married</td>\n",
              "      <td>Primary education</td>\n",
              "      <td>Informally employed</td>\n",
              "    </tr>\n",
              "  </tbody>\n",
              "</table>\n",
              "</div>"
            ],
            "text/plain": [
              "  country  year  ...              Level of Educuation                Type of Job\n",
              "0   Kenya  2018  ...              Secondary education              Self employed\n",
              "1   Kenya  2018  ...              No formal education       Government Dependent\n",
              "2   Kenya  2018  ...  Vocational/Specialised training              Self employed\n",
              "3   Kenya  2018  ...                Primary education  Formally employed Private\n",
              "4   Kenya  2018  ...                Primary education        Informally employed\n",
              "\n",
              "[5 rows x 13 columns]"
            ]
          },
          "metadata": {
            "tags": []
          },
          "execution_count": 2
        }
      ]
    },
    {
      "cell_type": "markdown",
      "metadata": {
        "id": "AzuXQ8rTaIsu",
        "colab_type": "text"
      },
      "source": [
        "## Checking Data"
      ]
    },
    {
      "cell_type": "code",
      "metadata": {
        "id": "4idTGgMsaNQH",
        "colab_type": "code",
        "colab": {
          "base_uri": "https://localhost:8080/",
          "height": 34
        },
        "outputId": "a5621855-4e73-4cbf-a2b4-b96bff992a7c"
      },
      "source": [
        "##\n",
        "## Determining the no. of records in our dataset\n",
        "proj.shape"
      ],
      "execution_count": 3,
      "outputs": [
        {
          "output_type": "execute_result",
          "data": {
            "text/plain": [
              "(23524, 13)"
            ]
          },
          "metadata": {
            "tags": []
          },
          "execution_count": 3
        }
      ]
    },
    {
      "cell_type": "code",
      "metadata": {
        "id": "QVE9PAFyckJq",
        "colab_type": "code",
        "colab": {
          "base_uri": "https://localhost:8080/",
          "height": 34
        },
        "outputId": "f8b6eb8e-5d60-48a6-e57a-f43e3c81b0d9"
      },
      "source": [
        "##\n",
        "## no of records\n",
        "len(proj)"
      ],
      "execution_count": 4,
      "outputs": [
        {
          "output_type": "execute_result",
          "data": {
            "text/plain": [
              "23524"
            ]
          },
          "metadata": {
            "tags": []
          },
          "execution_count": 4
        }
      ]
    },
    {
      "cell_type": "code",
      "metadata": {
        "id": "HPrljOK8apOU",
        "colab_type": "code",
        "colab": {
          "base_uri": "https://localhost:8080/",
          "height": 265
        },
        "outputId": "1f74bd3f-4ecb-4444-a00c-c8f05680db92"
      },
      "source": [
        "##\n",
        "## Checking whether each column has an appropriate datatype\n",
        "proj.dtypes"
      ],
      "execution_count": 5,
      "outputs": [
        {
          "output_type": "execute_result",
          "data": {
            "text/plain": [
              "country                    object\n",
              "year                        int64\n",
              "uniqueid                   object\n",
              "Has a Bank account         object\n",
              "Type of Location           object\n",
              "Cell Phone Access          object\n",
              "household_size            float64\n",
              "Respondent Age            float64\n",
              "gender_of_respondent       object\n",
              "The relathip with head     object\n",
              "marital_status             object\n",
              "Level of Educuation        object\n",
              "Type of Job                object\n",
              "dtype: object"
            ]
          },
          "metadata": {
            "tags": []
          },
          "execution_count": 5
        }
      ]
    },
    {
      "cell_type": "code",
      "metadata": {
        "id": "SWmfdVFWa0E3",
        "colab_type": "code",
        "colab": {
          "base_uri": "https://localhost:8080/",
          "height": 336
        },
        "outputId": "1c74aeb3-7b07-44f2-e854-d4cd357b3b54"
      },
      "source": [
        "##\n",
        "## Checking the information of our dataset\n",
        "proj.info()"
      ],
      "execution_count": 6,
      "outputs": [
        {
          "output_type": "stream",
          "text": [
            "<class 'pandas.core.frame.DataFrame'>\n",
            "RangeIndex: 23524 entries, 0 to 23523\n",
            "Data columns (total 13 columns):\n",
            "country                   23510 non-null object\n",
            "year                      23524 non-null int64\n",
            "uniqueid                  23524 non-null object\n",
            "Has a Bank account        23488 non-null object\n",
            "Type of Location          23509 non-null object\n",
            "Cell Phone Access         23513 non-null object\n",
            "household_size            23496 non-null float64\n",
            "Respondent Age            23490 non-null float64\n",
            "gender_of_respondent      23490 non-null object\n",
            "The relathip with head    23520 non-null object\n",
            "marital_status            23492 non-null object\n",
            "Level of Educuation       23495 non-null object\n",
            "Type of Job               23494 non-null object\n",
            "dtypes: float64(2), int64(1), object(10)\n",
            "memory usage: 2.3+ MB\n"
          ],
          "name": "stdout"
        }
      ]
    },
    {
      "cell_type": "code",
      "metadata": {
        "id": "T7_b8_3Lfdau",
        "colab_type": "code",
        "colab": {
          "base_uri": "https://localhost:8080/",
          "height": 1000
        },
        "outputId": "3b9bbe24-a3ee-48b0-a8f7-424b27d80c3b"
      },
      "source": [
        "##\n",
        "## Pandas profiling \n",
        "import pandas_profiling\n",
        "pandas_profiling.ProfileReport(proj)"
      ],
      "execution_count": 7,
      "outputs": [
        {
          "output_type": "execute_result",
          "data": {
            "text/html": [
              "<meta charset=\"UTF-8\">\n",
              "\n",
              "<style>\n",
              "\n",
              "        .variablerow {\n",
              "            border: 1px solid #e1e1e8;\n",
              "            border-top: hidden;\n",
              "            padding-top: 2em;\n",
              "            padding-bottom: 2em;\n",
              "            padding-left: 1em;\n",
              "            padding-right: 1em;\n",
              "        }\n",
              "\n",
              "        .headerrow {\n",
              "            border: 1px solid #e1e1e8;\n",
              "            background-color: #f5f5f5;\n",
              "            padding: 2em;\n",
              "        }\n",
              "        .namecol {\n",
              "            margin-top: -1em;\n",
              "            overflow-x: auto;\n",
              "        }\n",
              "\n",
              "        .dl-horizontal dt {\n",
              "            text-align: left;\n",
              "            padding-right: 1em;\n",
              "            white-space: normal;\n",
              "        }\n",
              "\n",
              "        .dl-horizontal dd {\n",
              "            margin-left: 0;\n",
              "        }\n",
              "\n",
              "        .ignore {\n",
              "            opacity: 0.4;\n",
              "        }\n",
              "\n",
              "        .container.pandas-profiling {\n",
              "            max-width:975px;\n",
              "        }\n",
              "\n",
              "        .col-md-12 {\n",
              "            padding-left: 2em;\n",
              "        }\n",
              "\n",
              "        .indent {\n",
              "            margin-left: 1em;\n",
              "        }\n",
              "\n",
              "        .center-img {\n",
              "            margin-left: auto !important;\n",
              "            margin-right: auto !important;\n",
              "            display: block;\n",
              "        }\n",
              "\n",
              "        /* Table example_values */\n",
              "            table.example_values {\n",
              "                border: 0;\n",
              "            }\n",
              "\n",
              "            .example_values th {\n",
              "                border: 0;\n",
              "                padding: 0 ;\n",
              "                color: #555;\n",
              "                font-weight: 600;\n",
              "            }\n",
              "\n",
              "            .example_values tr, .example_values td{\n",
              "                border: 0;\n",
              "                padding: 0;\n",
              "                color: #555;\n",
              "            }\n",
              "\n",
              "        /* STATS */\n",
              "            table.stats {\n",
              "                border: 0;\n",
              "            }\n",
              "\n",
              "            .stats th {\n",
              "                border: 0;\n",
              "                padding: 0 2em 0 0;\n",
              "                color: #555;\n",
              "                font-weight: 600;\n",
              "            }\n",
              "\n",
              "            .stats tr {\n",
              "                border: 0;\n",
              "            }\n",
              "\n",
              "            .stats td{\n",
              "                color: #555;\n",
              "                padding: 1px;\n",
              "                border: 0;\n",
              "            }\n",
              "\n",
              "\n",
              "        /* Sample table */\n",
              "            table.sample {\n",
              "                border: 0;\n",
              "                margin-bottom: 2em;\n",
              "                margin-left:1em;\n",
              "            }\n",
              "            .sample tr {\n",
              "                border:0;\n",
              "            }\n",
              "            .sample td, .sample th{\n",
              "                padding: 0.5em;\n",
              "                white-space: nowrap;\n",
              "                border: none;\n",
              "\n",
              "            }\n",
              "\n",
              "            .sample thead {\n",
              "                border-top: 0;\n",
              "                border-bottom: 2px solid #ddd;\n",
              "            }\n",
              "\n",
              "            .sample td {\n",
              "                width:100%;\n",
              "            }\n",
              "\n",
              "\n",
              "        /* There is no good solution available to make the divs equal height and then center ... */\n",
              "            .histogram {\n",
              "                margin-top: 3em;\n",
              "            }\n",
              "        /* Freq table */\n",
              "\n",
              "            table.freq {\n",
              "                margin-bottom: 2em;\n",
              "                border: 0;\n",
              "            }\n",
              "            table.freq th, table.freq tr, table.freq td {\n",
              "                border: 0;\n",
              "                padding: 0;\n",
              "            }\n",
              "\n",
              "            .freq thead {\n",
              "                font-weight: 600;\n",
              "                white-space: nowrap;\n",
              "                overflow: hidden;\n",
              "                text-overflow: ellipsis;\n",
              "\n",
              "            }\n",
              "\n",
              "            td.fillremaining{\n",
              "                width:auto;\n",
              "                max-width: none;\n",
              "            }\n",
              "\n",
              "            td.number, th.number {\n",
              "                text-align:right ;\n",
              "            }\n",
              "\n",
              "        /* Freq mini */\n",
              "            .freq.mini td{\n",
              "                width: 50%;\n",
              "                padding: 1px;\n",
              "                font-size: 12px;\n",
              "\n",
              "            }\n",
              "            table.freq.mini {\n",
              "                 width:100%;\n",
              "            }\n",
              "            .freq.mini th {\n",
              "                overflow: hidden;\n",
              "                text-overflow: ellipsis;\n",
              "                white-space: nowrap;\n",
              "                max-width: 5em;\n",
              "                font-weight: 400;\n",
              "                text-align:right;\n",
              "                padding-right: 0.5em;\n",
              "            }\n",
              "\n",
              "            .missing {\n",
              "                color: #a94442;\n",
              "            }\n",
              "            .alert, .alert > th, .alert > td {\n",
              "                color: #a94442;\n",
              "            }\n",
              "\n",
              "\n",
              "        /* Bars in tables */\n",
              "            .freq .bar{\n",
              "                float: left;\n",
              "                width: 0;\n",
              "                height: 100%;\n",
              "                line-height: 20px;\n",
              "                color: #fff;\n",
              "                text-align: center;\n",
              "                background-color: #337ab7;\n",
              "                border-radius: 3px;\n",
              "                margin-right: 4px;\n",
              "            }\n",
              "            .other .bar {\n",
              "                background-color: #999;\n",
              "            }\n",
              "            .missing .bar{\n",
              "                background-color: #a94442;\n",
              "            }\n",
              "            .tooltip-inner {\n",
              "                width: 100%;\n",
              "                white-space: nowrap;\n",
              "                text-align:left;\n",
              "            }\n",
              "\n",
              "            .extrapadding{\n",
              "                padding: 2em;\n",
              "            }\n",
              "\n",
              "            .pp-anchor{\n",
              "\n",
              "            }\n",
              "\n",
              "</style>\n",
              "\n",
              "<div class=\"container pandas-profiling\">\n",
              "    <div class=\"row headerrow highlight\">\n",
              "        <h1>Overview</h1>\n",
              "    </div>\n",
              "    <div class=\"row variablerow\">\n",
              "    <div class=\"col-md-6 namecol\">\n",
              "        <p class=\"h4\">Dataset info</p>\n",
              "        <table class=\"stats\" style=\"margin-left: 1em;\">\n",
              "            <tbody>\n",
              "            <tr>\n",
              "                <th>Number of variables</th>\n",
              "                <td>13 </td>\n",
              "            </tr>\n",
              "            <tr>\n",
              "                <th>Number of observations</th>\n",
              "                <td>23524 </td>\n",
              "            </tr>\n",
              "            <tr>\n",
              "                <th>Total Missing (%)</th>\n",
              "                <td>0.1% </td>\n",
              "            </tr>\n",
              "            <tr>\n",
              "                <th>Total size in memory</th>\n",
              "                <td>2.3 MiB </td>\n",
              "            </tr>\n",
              "            <tr>\n",
              "                <th>Average record size in memory</th>\n",
              "                <td>104.0 B </td>\n",
              "            </tr>\n",
              "            </tbody>\n",
              "        </table>\n",
              "    </div>\n",
              "    <div class=\"col-md-6 namecol\">\n",
              "        <p class=\"h4\">Variables types</p>\n",
              "        <table class=\"stats\" style=\"margin-left: 1em;\">\n",
              "            <tbody>\n",
              "            <tr>\n",
              "                <th>Numeric</th>\n",
              "                <td>3 </td>\n",
              "            </tr>\n",
              "            <tr>\n",
              "                <th>Categorical</th>\n",
              "                <td>10 </td>\n",
              "            </tr>\n",
              "            <tr>\n",
              "                <th>Boolean</th>\n",
              "                <td>0 </td>\n",
              "            </tr>\n",
              "            <tr>\n",
              "                <th>Date</th>\n",
              "                <td>0 </td>\n",
              "            </tr>\n",
              "            <tr>\n",
              "                <th>Text (Unique)</th>\n",
              "                <td>0 </td>\n",
              "            </tr>\n",
              "            <tr>\n",
              "                <th>Rejected</th>\n",
              "                <td>0 </td>\n",
              "            </tr>\n",
              "            <tr>\n",
              "                <th>Unsupported</th>\n",
              "                <td>0 </td>\n",
              "            </tr>\n",
              "            </tbody>\n",
              "        </table>\n",
              "    </div>\n",
              "    <div class=\"col-md-12\" style=\"padding-left: 1em;\">\n",
              "        \n",
              "        <p class=\"h4\">Warnings</p>\n",
              "        <ul class=\"list-unstyled\"><li><a href=\"#pp_var_uniqueid\"><code>uniqueid</code></a> has a high cardinality: 8735 distinct values  <span class=\"label label-warning\">Warning</span></li> </ul>\n",
              "    </div>\n",
              "</div>\n",
              "    <div class=\"row headerrow highlight\">\n",
              "        <h1>Variables</h1>\n",
              "    </div>\n",
              "    <div class=\"row variablerow\">\n",
              "    <div class=\"col-md-3 namecol\">\n",
              "        <p class=\"h4 pp-anchor\" id=\"pp_var_Cell Phone Access\">Cell Phone Access<br/>\n",
              "            <small>Categorical</small>\n",
              "        </p>\n",
              "    </div><div class=\"col-md-3\">\n",
              "    <table class=\"stats \">\n",
              "        <tr class=\"\">\n",
              "            <th>Distinct count</th>\n",
              "            <td>3</td>\n",
              "        </tr>\n",
              "        <tr>\n",
              "            <th>Unique (%)</th>\n",
              "            <td>0.0%</td>\n",
              "        </tr>\n",
              "        <tr class=\"ignore\">\n",
              "            <th>Missing (%)</th>\n",
              "            <td>0.0%</td>\n",
              "        </tr>\n",
              "        <tr class=\"ignore\">\n",
              "            <th>Missing (n)</th>\n",
              "            <td>11</td>\n",
              "        </tr>\n",
              "    </table>\n",
              "</div>\n",
              "<div class=\"col-md-6 collapse in\" id=\"minifreqtable4972045425045990542\">\n",
              "    <table class=\"mini freq\">\n",
              "        <tr class=\"\">\n",
              "    <th>Yes</th>\n",
              "    <td>\n",
              "        <div class=\"bar\" style=\"width:100%\" data-toggle=\"tooltip\" data-placement=\"right\" data-html=\"true\"\n",
              "             data-delay=500 title=\"Percentage: 74.2%\">\n",
              "            17449\n",
              "        </div>\n",
              "        \n",
              "    </td>\n",
              "</tr><tr class=\"\">\n",
              "    <th>No</th>\n",
              "    <td>\n",
              "        <div class=\"bar\" style=\"width:35%\" data-toggle=\"tooltip\" data-placement=\"right\" data-html=\"true\"\n",
              "             data-delay=500 title=\"Percentage: 25.8%\">\n",
              "            6064\n",
              "        </div>\n",
              "        \n",
              "    </td>\n",
              "</tr><tr class=\"missing\">\n",
              "    <th>(Missing)</th>\n",
              "    <td>\n",
              "        <div class=\"bar\" style=\"width:1%\" data-toggle=\"tooltip\" data-placement=\"right\" data-html=\"true\"\n",
              "             data-delay=500 title=\"Percentage: 0.0%\">\n",
              "            &nbsp;\n",
              "        </div>\n",
              "        11\n",
              "    </td>\n",
              "</tr>\n",
              "    </table>\n",
              "</div>\n",
              "<div class=\"col-md-12 text-right\">\n",
              "    <a role=\"button\" data-toggle=\"collapse\" data-target=\"#freqtable4972045425045990542, #minifreqtable4972045425045990542\"\n",
              "       aria-expanded=\"true\" aria-controls=\"collapseExample\">\n",
              "        Toggle details\n",
              "    </a>\n",
              "</div>\n",
              "<div class=\"col-md-12 extrapadding collapse\" id=\"freqtable4972045425045990542\">\n",
              "    \n",
              "<table class=\"freq table table-hover\">\n",
              "    <thead>\n",
              "    <tr>\n",
              "        <td class=\"fillremaining\">Value</td>\n",
              "        <td class=\"number\">Count</td>\n",
              "        <td class=\"number\">Frequency (%)</td>\n",
              "        <td style=\"min-width:200px\">&nbsp;</td>\n",
              "    </tr>\n",
              "    </thead>\n",
              "    <tr class=\"\">\n",
              "        <td class=\"fillremaining\">Yes</td>\n",
              "        <td class=\"number\">17449</td>\n",
              "        <td class=\"number\">74.2%</td>\n",
              "        <td>\n",
              "            <div class=\"bar\" style=\"width:100%\">&nbsp;</div>\n",
              "        </td>\n",
              "</tr><tr class=\"\">\n",
              "        <td class=\"fillremaining\">No</td>\n",
              "        <td class=\"number\">6064</td>\n",
              "        <td class=\"number\">25.8%</td>\n",
              "        <td>\n",
              "            <div class=\"bar\" style=\"width:35%\">&nbsp;</div>\n",
              "        </td>\n",
              "</tr><tr class=\"missing\">\n",
              "        <td class=\"fillremaining\">(Missing)</td>\n",
              "        <td class=\"number\">11</td>\n",
              "        <td class=\"number\">0.0%</td>\n",
              "        <td>\n",
              "            <div class=\"bar\" style=\"width:1%\">&nbsp;</div>\n",
              "        </td>\n",
              "</tr>\n",
              "</table>\n",
              "</div>\n",
              "</div><div class=\"row variablerow\">\n",
              "    <div class=\"col-md-3 namecol\">\n",
              "        <p class=\"h4 pp-anchor\" id=\"pp_var_Has a Bank account\">Has a Bank account<br/>\n",
              "            <small>Categorical</small>\n",
              "        </p>\n",
              "    </div><div class=\"col-md-3\">\n",
              "    <table class=\"stats \">\n",
              "        <tr class=\"\">\n",
              "            <th>Distinct count</th>\n",
              "            <td>3</td>\n",
              "        </tr>\n",
              "        <tr>\n",
              "            <th>Unique (%)</th>\n",
              "            <td>0.0%</td>\n",
              "        </tr>\n",
              "        <tr class=\"ignore\">\n",
              "            <th>Missing (%)</th>\n",
              "            <td>0.2%</td>\n",
              "        </tr>\n",
              "        <tr class=\"ignore\">\n",
              "            <th>Missing (n)</th>\n",
              "            <td>36</td>\n",
              "        </tr>\n",
              "    </table>\n",
              "</div>\n",
              "<div class=\"col-md-6 collapse in\" id=\"minifreqtable5378257221772530368\">\n",
              "    <table class=\"mini freq\">\n",
              "        <tr class=\"\">\n",
              "    <th>No</th>\n",
              "    <td>\n",
              "        <div class=\"bar\" style=\"width:100%\" data-toggle=\"tooltip\" data-placement=\"right\" data-html=\"true\"\n",
              "             data-delay=500 title=\"Percentage: 85.8%\">\n",
              "            20179\n",
              "        </div>\n",
              "        \n",
              "    </td>\n",
              "</tr><tr class=\"\">\n",
              "    <th>Yes</th>\n",
              "    <td>\n",
              "        <div class=\"bar\" style=\"width:17%\" data-toggle=\"tooltip\" data-placement=\"right\" data-html=\"true\"\n",
              "             data-delay=500 title=\"Percentage: 14.1%\">\n",
              "            &nbsp;\n",
              "        </div>\n",
              "        3309\n",
              "    </td>\n",
              "</tr><tr class=\"missing\">\n",
              "    <th>(Missing)</th>\n",
              "    <td>\n",
              "        <div class=\"bar\" style=\"width:1%\" data-toggle=\"tooltip\" data-placement=\"right\" data-html=\"true\"\n",
              "             data-delay=500 title=\"Percentage: 0.2%\">\n",
              "            &nbsp;\n",
              "        </div>\n",
              "        36\n",
              "    </td>\n",
              "</tr>\n",
              "    </table>\n",
              "</div>\n",
              "<div class=\"col-md-12 text-right\">\n",
              "    <a role=\"button\" data-toggle=\"collapse\" data-target=\"#freqtable5378257221772530368, #minifreqtable5378257221772530368\"\n",
              "       aria-expanded=\"true\" aria-controls=\"collapseExample\">\n",
              "        Toggle details\n",
              "    </a>\n",
              "</div>\n",
              "<div class=\"col-md-12 extrapadding collapse\" id=\"freqtable5378257221772530368\">\n",
              "    \n",
              "<table class=\"freq table table-hover\">\n",
              "    <thead>\n",
              "    <tr>\n",
              "        <td class=\"fillremaining\">Value</td>\n",
              "        <td class=\"number\">Count</td>\n",
              "        <td class=\"number\">Frequency (%)</td>\n",
              "        <td style=\"min-width:200px\">&nbsp;</td>\n",
              "    </tr>\n",
              "    </thead>\n",
              "    <tr class=\"\">\n",
              "        <td class=\"fillremaining\">No</td>\n",
              "        <td class=\"number\">20179</td>\n",
              "        <td class=\"number\">85.8%</td>\n",
              "        <td>\n",
              "            <div class=\"bar\" style=\"width:100%\">&nbsp;</div>\n",
              "        </td>\n",
              "</tr><tr class=\"\">\n",
              "        <td class=\"fillremaining\">Yes</td>\n",
              "        <td class=\"number\">3309</td>\n",
              "        <td class=\"number\">14.1%</td>\n",
              "        <td>\n",
              "            <div class=\"bar\" style=\"width:17%\">&nbsp;</div>\n",
              "        </td>\n",
              "</tr><tr class=\"missing\">\n",
              "        <td class=\"fillremaining\">(Missing)</td>\n",
              "        <td class=\"number\">36</td>\n",
              "        <td class=\"number\">0.2%</td>\n",
              "        <td>\n",
              "            <div class=\"bar\" style=\"width:1%\">&nbsp;</div>\n",
              "        </td>\n",
              "</tr>\n",
              "</table>\n",
              "</div>\n",
              "</div><div class=\"row variablerow\">\n",
              "    <div class=\"col-md-3 namecol\">\n",
              "        <p class=\"h4 pp-anchor\" id=\"pp_var_Level of Educuation\">Level of Educuation<br/>\n",
              "            <small>Categorical</small>\n",
              "        </p>\n",
              "    </div><div class=\"col-md-3\">\n",
              "    <table class=\"stats \">\n",
              "        <tr class=\"\">\n",
              "            <th>Distinct count</th>\n",
              "            <td>8</td>\n",
              "        </tr>\n",
              "        <tr>\n",
              "            <th>Unique (%)</th>\n",
              "            <td>0.0%</td>\n",
              "        </tr>\n",
              "        <tr class=\"ignore\">\n",
              "            <th>Missing (%)</th>\n",
              "            <td>0.1%</td>\n",
              "        </tr>\n",
              "        <tr class=\"ignore\">\n",
              "            <th>Missing (n)</th>\n",
              "            <td>29</td>\n",
              "        </tr>\n",
              "    </table>\n",
              "</div>\n",
              "<div class=\"col-md-6 collapse in\" id=\"minifreqtable2192218320453720736\">\n",
              "    <table class=\"mini freq\">\n",
              "        <tr class=\"\">\n",
              "    <th>Primary education</th>\n",
              "    <td>\n",
              "        <div class=\"bar\" style=\"width:100%\" data-toggle=\"tooltip\" data-placement=\"right\" data-html=\"true\"\n",
              "             data-delay=500 title=\"Percentage: 54.3%\">\n",
              "            12775\n",
              "        </div>\n",
              "        \n",
              "    </td>\n",
              "</tr><tr class=\"\">\n",
              "    <th>No formal education</th>\n",
              "    <td>\n",
              "        <div class=\"bar\" style=\"width:35%\" data-toggle=\"tooltip\" data-placement=\"right\" data-html=\"true\"\n",
              "             data-delay=500 title=\"Percentage: 19.2%\">\n",
              "            4506\n",
              "        </div>\n",
              "        \n",
              "    </td>\n",
              "</tr><tr class=\"\">\n",
              "    <th>Secondary education</th>\n",
              "    <td>\n",
              "        <div class=\"bar\" style=\"width:33%\" data-toggle=\"tooltip\" data-placement=\"right\" data-html=\"true\"\n",
              "             data-delay=500 title=\"Percentage: 17.9%\">\n",
              "            4220\n",
              "        </div>\n",
              "        \n",
              "    </td>\n",
              "</tr><tr class=\"other\">\n",
              "    <th>Other values (4)</th>\n",
              "    <td>\n",
              "        <div class=\"bar\" style=\"width:16%\" data-toggle=\"tooltip\" data-placement=\"right\" data-html=\"true\"\n",
              "             data-delay=500 title=\"Percentage: 8.5%\">\n",
              "            &nbsp;\n",
              "        </div>\n",
              "        1994\n",
              "    </td>\n",
              "</tr>\n",
              "    </table>\n",
              "</div>\n",
              "<div class=\"col-md-12 text-right\">\n",
              "    <a role=\"button\" data-toggle=\"collapse\" data-target=\"#freqtable2192218320453720736, #minifreqtable2192218320453720736\"\n",
              "       aria-expanded=\"true\" aria-controls=\"collapseExample\">\n",
              "        Toggle details\n",
              "    </a>\n",
              "</div>\n",
              "<div class=\"col-md-12 extrapadding collapse\" id=\"freqtable2192218320453720736\">\n",
              "    \n",
              "<table class=\"freq table table-hover\">\n",
              "    <thead>\n",
              "    <tr>\n",
              "        <td class=\"fillremaining\">Value</td>\n",
              "        <td class=\"number\">Count</td>\n",
              "        <td class=\"number\">Frequency (%)</td>\n",
              "        <td style=\"min-width:200px\">&nbsp;</td>\n",
              "    </tr>\n",
              "    </thead>\n",
              "    <tr class=\"\">\n",
              "        <td class=\"fillremaining\">Primary education</td>\n",
              "        <td class=\"number\">12775</td>\n",
              "        <td class=\"number\">54.3%</td>\n",
              "        <td>\n",
              "            <div class=\"bar\" style=\"width:100%\">&nbsp;</div>\n",
              "        </td>\n",
              "</tr><tr class=\"\">\n",
              "        <td class=\"fillremaining\">No formal education</td>\n",
              "        <td class=\"number\">4506</td>\n",
              "        <td class=\"number\">19.2%</td>\n",
              "        <td>\n",
              "            <div class=\"bar\" style=\"width:35%\">&nbsp;</div>\n",
              "        </td>\n",
              "</tr><tr class=\"\">\n",
              "        <td class=\"fillremaining\">Secondary education</td>\n",
              "        <td class=\"number\">4220</td>\n",
              "        <td class=\"number\">17.9%</td>\n",
              "        <td>\n",
              "            <div class=\"bar\" style=\"width:33%\">&nbsp;</div>\n",
              "        </td>\n",
              "</tr><tr class=\"\">\n",
              "        <td class=\"fillremaining\">Tertiary education</td>\n",
              "        <td class=\"number\">1156</td>\n",
              "        <td class=\"number\">4.9%</td>\n",
              "        <td>\n",
              "            <div class=\"bar\" style=\"width:9%\">&nbsp;</div>\n",
              "        </td>\n",
              "</tr><tr class=\"\">\n",
              "        <td class=\"fillremaining\">Vocational/Specialised training</td>\n",
              "        <td class=\"number\">803</td>\n",
              "        <td class=\"number\">3.4%</td>\n",
              "        <td>\n",
              "            <div class=\"bar\" style=\"width:7%\">&nbsp;</div>\n",
              "        </td>\n",
              "</tr><tr class=\"\">\n",
              "        <td class=\"fillremaining\">6</td>\n",
              "        <td class=\"number\">27</td>\n",
              "        <td class=\"number\">0.1%</td>\n",
              "        <td>\n",
              "            <div class=\"bar\" style=\"width:1%\">&nbsp;</div>\n",
              "        </td>\n",
              "</tr><tr class=\"\">\n",
              "        <td class=\"fillremaining\">Other/Dont know/RTA</td>\n",
              "        <td class=\"number\">8</td>\n",
              "        <td class=\"number\">0.0%</td>\n",
              "        <td>\n",
              "            <div class=\"bar\" style=\"width:1%\">&nbsp;</div>\n",
              "        </td>\n",
              "</tr><tr class=\"missing\">\n",
              "        <td class=\"fillremaining\">(Missing)</td>\n",
              "        <td class=\"number\">29</td>\n",
              "        <td class=\"number\">0.1%</td>\n",
              "        <td>\n",
              "            <div class=\"bar\" style=\"width:1%\">&nbsp;</div>\n",
              "        </td>\n",
              "</tr>\n",
              "</table>\n",
              "</div>\n",
              "</div><div class=\"row variablerow\">\n",
              "    <div class=\"col-md-3 namecol\">\n",
              "        <p class=\"h4 pp-anchor\" id=\"pp_var_Respondent Age\">Respondent Age<br/>\n",
              "            <small>Numeric</small>\n",
              "        </p>\n",
              "    </div><div class=\"col-md-6\">\n",
              "    <div class=\"row\">\n",
              "        <div class=\"col-sm-6\">\n",
              "            <table class=\"stats \">\n",
              "                <tr>\n",
              "                    <th>Distinct count</th>\n",
              "                    <td>86</td>\n",
              "                </tr>\n",
              "                <tr>\n",
              "                    <th>Unique (%)</th>\n",
              "                    <td>0.4%</td>\n",
              "                </tr>\n",
              "                <tr class=\"ignore\">\n",
              "                    <th>Missing (%)</th>\n",
              "                    <td>0.1%</td>\n",
              "                </tr>\n",
              "                <tr class=\"ignore\">\n",
              "                    <th>Missing (n)</th>\n",
              "                    <td>34</td>\n",
              "                </tr>\n",
              "                <tr class=\"ignore\">\n",
              "                    <th>Infinite (%)</th>\n",
              "                    <td>0.0%</td>\n",
              "                </tr>\n",
              "                <tr class=\"ignore\">\n",
              "                    <th>Infinite (n)</th>\n",
              "                    <td>0</td>\n",
              "                </tr>\n",
              "            </table>\n",
              "\n",
              "        </div>\n",
              "        <div class=\"col-sm-6\">\n",
              "            <table class=\"stats \">\n",
              "\n",
              "                <tr>\n",
              "                    <th>Mean</th>\n",
              "                    <td>38.804</td>\n",
              "                </tr>\n",
              "                <tr>\n",
              "                    <th>Minimum</th>\n",
              "                    <td>16</td>\n",
              "                </tr>\n",
              "                <tr>\n",
              "                    <th>Maximum</th>\n",
              "                    <td>100</td>\n",
              "                </tr>\n",
              "                <tr class=\"ignore\">\n",
              "                    <th>Zeros (%)</th>\n",
              "                    <td>0.0%</td>\n",
              "                </tr>\n",
              "            </table>\n",
              "        </div>\n",
              "    </div>\n",
              "</div>\n",
              "<div class=\"col-md-3 collapse in\" id=\"minihistogram-8020894764026066743\">\n",
              "    <img src=\"data:image/png;base64,iVBORw0KGgoAAAANSUhEUgAAAMgAAABLCAYAAAA1fMjoAAAABHNCSVQICAgIfAhkiAAAAAlwSFlzAAAPYQAAD2EBqD%2BnaQAAADl0RVh0U29mdHdhcmUAbWF0cGxvdGxpYiB2ZXJzaW9uIDMuMC4zLCBodHRwOi8vbWF0cGxvdGxpYi5vcmcvnQurowAAATVJREFUeJzt3MFtAjEQQNEQUVKKSE8501OKSE9OA9HXgmLW7L53R/LlaxgjcxljjDfgT%2B97HwBWdt37AP/h4%2Bv77s/83D4nnISjMUEgCASCQCAIBIJAICx3i/XIjRTMslwgz%2BJqmC18xYIgEAgCgSAQCAKBIBAIAoEgEAgCgSAQCAKBIBAIAoEgEAgCgXDa9yCPuPcNifcjr88EgSAQCAKBIBAIlvSJ/DHE6zNBIAgEgkAg2EEWY29ZiwkCQSAQBAJBIBAEAkEgEFzzHoB3KvOYIBBMkBPyY%2BR2JggEgUAQCAQ7CJucdW8RCNMcIarLGGPsfQhYlR0EgkAgCASCQCAIBIJAIAgEgkAgCASCQCAIBIJAIAgEgkAgCASCQCAIBIJAIAgEgkAgCASCQCAIBIJAIAgEwi//BiUIUBDyowAAAABJRU5ErkJggg%3D%3D\">\n",
              "\n",
              "</div>\n",
              "<div class=\"col-md-12 text-right\">\n",
              "    <a role=\"button\" data-toggle=\"collapse\" data-target=\"#descriptives-8020894764026066743,#minihistogram-8020894764026066743\"\n",
              "       aria-expanded=\"false\" aria-controls=\"collapseExample\">\n",
              "        Toggle details\n",
              "    </a>\n",
              "</div>\n",
              "<div class=\"row collapse col-md-12\" id=\"descriptives-8020894764026066743\">\n",
              "    <ul class=\"nav nav-tabs\" role=\"tablist\">\n",
              "        <li role=\"presentation\" class=\"active\"><a href=\"#quantiles-8020894764026066743\"\n",
              "                                                  aria-controls=\"quantiles-8020894764026066743\" role=\"tab\"\n",
              "                                                  data-toggle=\"tab\">Statistics</a></li>\n",
              "        <li role=\"presentation\"><a href=\"#histogram-8020894764026066743\" aria-controls=\"histogram-8020894764026066743\"\n",
              "                                   role=\"tab\" data-toggle=\"tab\">Histogram</a></li>\n",
              "        <li role=\"presentation\"><a href=\"#common-8020894764026066743\" aria-controls=\"common-8020894764026066743\"\n",
              "                                   role=\"tab\" data-toggle=\"tab\">Common Values</a></li>\n",
              "        <li role=\"presentation\"><a href=\"#extreme-8020894764026066743\" aria-controls=\"extreme-8020894764026066743\"\n",
              "                                   role=\"tab\" data-toggle=\"tab\">Extreme Values</a></li>\n",
              "\n",
              "    </ul>\n",
              "\n",
              "    <div class=\"tab-content\">\n",
              "        <div role=\"tabpanel\" class=\"tab-pane active row\" id=\"quantiles-8020894764026066743\">\n",
              "            <div class=\"col-md-4 col-md-offset-1\">\n",
              "                <p class=\"h4\">Quantile statistics</p>\n",
              "                <table class=\"stats indent\">\n",
              "                    <tr>\n",
              "                        <th>Minimum</th>\n",
              "                        <td>16</td>\n",
              "                    </tr>\n",
              "                    <tr>\n",
              "                        <th>5-th percentile</th>\n",
              "                        <td>18</td>\n",
              "                    </tr>\n",
              "                    <tr>\n",
              "                        <th>Q1</th>\n",
              "                        <td>26</td>\n",
              "                    </tr>\n",
              "                    <tr>\n",
              "                        <th>Median</th>\n",
              "                        <td>35</td>\n",
              "                    </tr>\n",
              "                    <tr>\n",
              "                        <th>Q3</th>\n",
              "                        <td>49</td>\n",
              "                    </tr>\n",
              "                    <tr>\n",
              "                        <th>95-th percentile</th>\n",
              "                        <td>71</td>\n",
              "                    </tr>\n",
              "                    <tr>\n",
              "                        <th>Maximum</th>\n",
              "                        <td>100</td>\n",
              "                    </tr>\n",
              "                    <tr>\n",
              "                        <th>Range</th>\n",
              "                        <td>84</td>\n",
              "                    </tr>\n",
              "                    <tr>\n",
              "                        <th>Interquartile range</th>\n",
              "                        <td>23</td>\n",
              "                    </tr>\n",
              "                </table>\n",
              "            </div>\n",
              "            <div class=\"col-md-4 col-md-offset-2\">\n",
              "                <p class=\"h4\">Descriptive statistics</p>\n",
              "                <table class=\"stats indent\">\n",
              "                    <tr>\n",
              "                        <th>Standard deviation</th>\n",
              "                        <td>16.52</td>\n",
              "                    </tr>\n",
              "                    <tr>\n",
              "                        <th>Coef of variation</th>\n",
              "                        <td>0.42573</td>\n",
              "                    </tr>\n",
              "                    <tr>\n",
              "                        <th>Kurtosis</th>\n",
              "                        <td>0.10111</td>\n",
              "                    </tr>\n",
              "                    <tr>\n",
              "                        <th>Mean</th>\n",
              "                        <td>38.804</td>\n",
              "                    </tr>\n",
              "                    <tr>\n",
              "                        <th>MAD</th>\n",
              "                        <td>13.39</td>\n",
              "                    </tr>\n",
              "                    <tr class=\"\">\n",
              "                        <th>Skewness</th>\n",
              "                        <td>0.8418</td>\n",
              "                    </tr>\n",
              "                    <tr>\n",
              "                        <th>Sum</th>\n",
              "                        <td>911510</td>\n",
              "                    </tr>\n",
              "                    <tr>\n",
              "                        <th>Variance</th>\n",
              "                        <td>272.91</td>\n",
              "                    </tr>\n",
              "                    <tr>\n",
              "                        <th>Memory size</th>\n",
              "                        <td>183.9 KiB</td>\n",
              "                    </tr>\n",
              "                </table>\n",
              "            </div>\n",
              "        </div>\n",
              "        <div role=\"tabpanel\" class=\"tab-pane col-md-8 col-md-offset-2\" id=\"histogram-8020894764026066743\">\n",
              "            <img src=\"data:image/png;base64,iVBORw0KGgoAAAANSUhEUgAAAlgAAAGQCAYAAAByNR6YAAAABHNCSVQICAgIfAhkiAAAAAlwSFlzAAAPYQAAD2EBqD%2BnaQAAADl0RVh0U29mdHdhcmUAbWF0cGxvdGxpYiB2ZXJzaW9uIDMuMC4zLCBodHRwOi8vbWF0cGxvdGxpYi5vcmcvnQurowAAIABJREFUeJzt3X9YlHW%2B//EXMIkJ8ksFW7Nw/bUgSFnKLlokZmaGJRFK2yl31U2luCTdo2mmlRu2atrBLo3dq84xO6dZ2E5qaXrKH/1i99p%2BGYxWK%2BmmXCqkMyIEKDDfP/o2uxP9wPxwzww%2BH9flhX4%2B99zzvn2LvOZz33NPkNvtdgsAAADGBPu6AAAAgM6GgAUAAGAYAQsAAMAwAhYAAIBhBCwAAADDCFgAAACGEbAAAAAMI2ABAAAYRsACAAAwjIAFAABgGAELAADAMAIWAACAYQQsAAAAwwhYAAAAhhGwAAAADCNgAQAAGEbAAgAAMIyABQAAYBgBCwAAwDACFgAAgGEELAAAAMMIWAAAAIYRsAAAAAwjYAEAABhGwAIAADCMgAUAAGAYAQsAAMAwAhYAAIBhBCwAAADDCFgAAACGEbAAAAAMI2ABAAAYRsACAAAwjIAFAABgGAELAADAMAIWAACAYQQsAAAAwwhYAAAAhhGwAAAADLP5uoALRU3NaV%2BX0C7BwUGKiQnTyZP1am11%2B7oc/At649/oj3%2BjP/6tI/vTq1d3o/trL1aw4CU4OEhBQUEKDg7ydSn4Bnrj3%2BiPf6M//q0z9oeABQAAYBgBCwAAwDACFgAAgGEELAAAAMMIWAAAAIYRsAAAAAwjYAEAABhGwAIAADCMgAUAAGAYAQsAAMAwAhYAAIBhBCwAAADDCFgAAACG2XxdAC4c49e87esSzsm2OSN9XQIAIECxggUAAGAYAQsAAMAwAhYAAIBhBCwAAADDCFgAAACGEbAAAAAMI2ABAAAYRsACAAAwjIAFAABgGAELAADAMAIWAACAYQQsAAAAwwhYAAAAhhGwAAAADCNgAQAAGEbAAgAAMIyABQAAYBgBCwAAwDACFgAAgGEELAAAAMMIWAAAAIYFbMAaPHiwkpKSlJyc7Pn16KOPSpLKysqUnZ2tYcOGacKECdq8ebPXYzds2KBx48Zp2LBhys3NVUVFhWeuqalJDz30kK699lqlpqYqPz9fTqfT0mMDAACBzebrAs7Hq6%2B%2BqksvvdRrrLq6WrNnz9aiRYuUmZmp9957T7NmzVK/fv2UnJysnTt3qqioSH/84x81ePBgbdiwQTNnztSOHTvUrVs3rV69Wg6HQ3a7XRdffLEWL16sBx54QOvXr/fRUQIAgEATsCtY32XLli2Kj49Xdna2QkNDlZaWpoyMDJWUlEiS7Ha7srKylJKSoq5du2r69OmSpF27dqm5uVmlpaWaPXu2LrnkEkVFRWnOnDnavXu3jh8/7svDAgAAASSgV7BWrVqlDz74QHV1dRo/frwWLFggh8OhxMREr%2B0SExO1bds2SZLD4dBNN93kmQsODlZCQoLKy8uVkJCg06dPa8iQIZ75/v37q2vXrnI4HIqLi2tXXdXV1aqpqfEas9m6KTY29sceqmVCQoK9vl7IbDb/%2BjugN/6N/vg3%2BuPfOmN/AjZgXXHFFUpLS9Pjjz%2Buw4cPa86cOXr44YflcrnaBKGoqCjPdVQul0uRkZFe85GRkXI6nXK5XJKkiIgIr/mIiIhzug7Lbrdr7dq1XmN5eXnKz89v9z58LSLiYl%2BX4HPR0WG%2BLuFb0Rv/Rn/8G/3xb52pPwEbsOx2u%2Bf3/fv317x58zRr1ixdddVVP/hYt9t9XvM/ZPLkycrIyPAas9m6yemsP6/9WiEkJFgRERertrZBLS2tvi7Hp/ytX/TGv9Ef/0Z//FtH9sdXL5YDNmB906WXXqqWlhYFBwd7VqK%2B5nQ6FRMTI0mKjo5uM%2B9yuTRw4EDPNi6XS2Fh/2zIqVOn1KNHj3bXEhsb2%2BZ0YE3NaTU3B843dUtLa0DV2xH89fjpjX%2BjP/6N/vi3ztSfgDzZuW/fPi1fvtxrrLKyUl26dFF6errXbRckqaKiQikpKZKkpKQkORwOz1xLS4v27dunlJQU9e3bV5GRkV7zn376qc6cOaOkpKQOPCIAANCZBGTA6tGjh%2Bx2u4qLi3XmzBkdPHhQTz75pCZPnqxbbrlFVVVVKikpUVNTk/bs2aM9e/YoJydHkpSbm6uXXnpJH374oRoaGrRu3Tp16dJF1113nUJCQpSTk6P169fr6NGjcjqdeuKJJzR27Fj17NnTx0cNAAACRUCeIoyLi1NxcbFWrVrlCUiTJk1SQUGBQkND9fTTT2vZsmV6%2BOGH1adPH61YsUI/%2B9nPJEnXXnut7r//fs2ZM0cnTpxQcnKyiouL1bVrV0lSfn6%2B6uvrdcstt6i5uVmjR4/W0qVLfXi0AAAg0AS5z/eKbrRLTc1pX5fQLjZbsKKjw%2BR01hs/Dz5%2BzdtG99fRts0Z6esSvHRkb3D%2B6I9/oz/%2BrSP706tXd6P7a6%2BAPEUIAADgzwhYAAAAhhGwAAAADCNgAQAAGEbAAgAAMCwgb9OAfwq0d%2BYBAHAhYAULAADAMAIWAACAYQQsAAAAwwhYAAAAhnGRO/AdAu0NBP720T4AcCFjBQsAAMAwAhYAAIBhBCwAAADDCFgAAACGEbAAAAAMI2ABAAAYRsACAAAwjIAFAABgGAELAADAMAIWAACAYQQsAAAAwwhYAAAAhhGwAAAADCNgAQAAGEbAAgAAMIyABQAAYBgBCwAAwDACFgAAgGEELAAAAMMIWAAAAIYRsAAAAAwjYAEAABhGwAIAADCMgAUAAGAYAQsAAMAwAhYAAIBhBCwAAADDCFgAAACGEbAAAAAMI2ABAAAYRsACAAAwjIAFAABgGAELAADAMAIWAACAYZ0iYD322GMaPHiw589lZWXKzs7WsGHDNGHCBG3evNlr%2Bw0bNmjcuHEaNmyYcnNzVVFR4ZlramrSQw89pGuvvVapqanKz8%2BX0%2Bm07FgAAEDgC/iAtX//fm3atMnz5%2Brqas2ePVtTpkxRWVmZFi1apMWLF6u8vFyStHPnThUVFen3v/%2B93nnnHY0ePVozZ87Ul19%2BKUlavXq1HA6H7Ha7tm/fLrfbrQceeMAnxwYAAAJTQAes1tZWLVmyRFOnTvWMbdmyRfHx8crOzlZoaKjS0tKUkZGhkpISSZLdbldWVpZSUlLUtWtXTZ8%2BXZK0a9cuNTc3q7S0VLNnz9Yll1yiqKgozZkzR7t379bx48d9cYgAACAA2XxdwPl44YUXFBoaqszMTK1Zs0aS5HA4lJiY6LVdYmKitm3b5pm/6aabPHPBwcFKSEhQeXm5EhISdPr0aQ0ZMsQz379/f3Xt2lUOh0NxcXHtqqu6ulo1NTVeYzZbN8XGxv6o4wTaw2YL6NdLAS8kJNjrK/wL/fFvnbE/ARuwvvjiCxUVFem5557zGne5XG2CUFRUlOc6KpfLpcjISK/5yMhIOZ1OuVwuSVJERITXfERExDldh2W327V27Vqvsby8POXn57d7H8C5io4O83UJkBQRcbGvS8D3oD/%2BrTP1J2ADVmFhobKysjRgwAAdOXLknB7rdrvPa/6HTJ48WRkZGV5jNls3OZ3157Vf4Pvw78u3QkKCFRFxsWprG9TS0urrcvAN9Me/dWR/fPXiMyADVllZmT744AO9/PLLbeaio6M9K1FfczqdiomJ%2Bc55l8ulgQMHerZxuVwKC/tnQ06dOqUePXq0u77Y2Ng2pwNrak6ruZlvanQc/n35h5aWVnrhx%2BiPf%2BtM/QnIk52bN2/WiRMnNHr0aKWmpiorK0uSlJqaqkGDBnnddkGSKioqlJKSIklKSkqSw%2BHwzLW0tGjfvn1KSUlR3759FRkZ6TX/6aef6syZM0pKSrLgyAAAQGcQkAFrwYIF2r59uzZt2qRNmzapuLhYkrRp0yZlZmaqqqpKJSUlampq0p49e7Rnzx7l5ORIknJzc/XSSy/pww8/VENDg9atW6cuXbrouuuuU0hIiHJycrR%2B/XodPXpUTqdTTzzxhMaOHauePXv68pABAEAACchThJGRkV4Xqjc3N0uSevfuLUl6%2BumntWzZMj388MPq06ePVqxYoZ/97GeSpGuvvVb333%2B/5syZoxMnTig5OVnFxcXq2rWrJCk/P1/19fW65ZZb1NzcrNGjR2vp0qXWHiAAAAhoQe7zvaIb7VJTc7pD9jt%2Bzdsdsl8Enm1zRvq6hAuazRas6OgwOZ31neYaks6E/vi3juxPr17dje6vvQLyFCEAAIA/I2ABAAAYRsACAAAwjIAFAABgGAELAADAMAIWAACAYQQsAAAAwwhYAAAAhhGwAAAADCNgAQAAGEbAAgAAMIyABQAAYBgBCwAAwDACFgAAgGEELAAAAMMIWAAAAIYRsAAAAAwjYAEAABhGwAIAADCMgAUAAGAYAQsAAMAwAhYAAIBhBCwAAADDLA9YGRkZWrt2rY4ePWr1UwMAAFjC8oB12223aevWrbr%2B%2Bus1ffp07dixQ83NzVaXAQAA0GEsD1h5eXnaunWr/vSnP2ngwIF67LHHlJ6erhUrVujgwYNWlwMAAGCcz67BGjJkiObPn69du3Zp4cKF%2BtOf/qSbbrpJ06ZN00cffeSrsgAAAM6bzwLW2bNntXXrVs2YMUPz589XXFycHnjgASUkJGjq1KnasmWLr0oDAAA4Lzarn7CyslKlpaV66aWXVF9fr3Hjxum//uu/dNVVV3m2GT58uJYuXarMzEyrywMAADhvlgesCRMmqF%2B/frrnnnt06623Kioqqs026enpOnnypNWlAQAAGGF5wNqwYYNGjBjxg9vt3bvXgmoAAADMs/warMGDB2vmzJl67bXXPGP/%2BZ//qRkzZsjlclldDgAAgHGWB6zCwkKdPn1aAwYM8Ixdd911am1t1fLly60uBwAAwDjLTxG%2B9dZb2rJli6Kjoz1j8fHxWrlypW6%2B%2BWarywEAADDO8hWsxsZGhYaGti0kOFgNDQ1WlwMAAGCc5QFr%2BPDhWr58uU6dOuUZO378uB5%2B%2BGGvWzUAAAAEKstPES5cuFC//vWv9Ytf/ELh4eFqbW1VfX29%2Bvbtq%2Beee87qcgAAAIyzPGD17dtXr7zyit544w19/vnnCg4OVr9%2B/TRq1CiFhIRYXQ4AAIBxlgcsSerSpYuuv/56Xzw1AABAh7M8YB0%2BfFirVq3S3//%2BdzU2NraZf/31160uCQAAwCifXINVXV2tUaNGqVu3blY/PQAAQIezPGBVVFTo9ddfV0xMjNVPDQAAYAnLb9PQo0cPVq4AAECnZnnAuueee7R27Vq53W6rnxoAAMASlp8ifOONN/T%2B%2B%2B/rxRdf1KWXXqrgYO%2BM98ILL7RrPx9//LEKCwtVUVGh0NBQjRgxQosWLVKvXr1UVlamVatW6bPPPtMll1yie%2B65RxMnTvQ8dsOGDXr%2B%2BedVU1OjwYMHa9GiRUpKSpIkNTU16Xe/%2B512796tpqYmpaam6uGHH/b6aB8AAIDvY/kKVnh4uK699lqlp6erf//%2B6tevn9ev9jhz5ox%2B/etfa8SIESorK9PLL7%2BsEydOaOnSpaqurtbs2bM1ZcoUlZWVadGiRVq8eLHKy8slSTt37lRRUZF%2B//vf65133tHo0aM1c%2BZMffnll5Kk1atXy%2BFwyG63a/v27XK73XrggQc67O8DAAB0PpavYBUWFp73PhoaGlRQUKBJkybJZrMpJiZGY8eO1caNG7VlyxbFx8crOztbkpSWlqaMjAyVlJQoOTlZdrtdWVlZSklJkSRNnz5dGzZs0K5duzRu3DiVlpbq8ccf1yWXXCJJmjNnjiZMmKDjx48rLi7uvGsHAACdn%2BUrWJL02WefqaioyGtl6IMPPmj34yMjI3X77bfLZrN59ve///u/Gj9%2BvBwOhxITE722T0xMVEVFhSS1mQ8ODlZCQoLKy8v1%2Beef6/Tp0xoyZIhnvn///uratascDsePOlYAAHDhsXwFq6ysTDNmzFC/fv106NAhFRYW6vDhw7rrrru0Zs0ajRkzpt37qqqq0rhx49Tc3KycnBzl5%2BdrxowZbVaaoqKi5HQ6JUkul0uRkZFe85GRkXI6nXK5XJKkiIgIr/mIiAjP49ujurpaNTU1XmM2WzfFxsa2ex/AubLZfPJ6Cf9fSEiw11f4F/rj3zpjfywPWKtXr9Zvf/tb3X333Ro6dKikrz6fcPny5XrqqafOKWD16dNH5eXl%2Bsc//qGHHnpI//7v/96ux/3QOxjP9x2Odrtda9eu9RrLy8tTfn7%2Bee0X%2BD7R0WG%2BLgGSIiIu9nUJ%2BB70x791pv5YHrA%2B/fRTbdy4UZIUFBTkGb/xxhu1cOHCc95fUFCQ4uPjVVBQoClTpig9Pd2zEvU1p9PpubFpdHR0m3mXy6WBAwd6tnG5XAoL%2B%2BcPq1OnTqlHjx7trmny5MnKyMjwGrPZusnprD%2BnYwPOBf%2B%2BfCskJFgRERertrZBLS2tvi4H30B//FtH9sdXLz4tD1jdu3dXY2OjunTp4jVeXV3dZuy7lJWVaenSpdq2bZvnNg9ffx06dKi2b9/utX1FRYXnovakpCQ5HA5NmjRJktTS0qJ9%2B/YpOztbffv2VWRkpBwOh/r06SPpq0B45swZz20c2iM2NrbN6cCamtNqbuabGh2Hf1/%2BoaWllV74Mfrj3zpTfyw/2Tls2DA99thjqqur84wdPHhQ8%2BfP1y9%2B8Yt27SMpKUl1dXVasWKFGhoadPLkSRUVFenqq69Wbm6uqqqqVFJSoqamJu3Zs0d79uxRTk6OJCk3N1cvvfSSPvzwQzU0NGjdunXq0qWLrrvuOoWEhCgnJ0fr16/X0aNH5XQ69cQTT2js2LHq2bNnh/x9AACAzifIbfEt1Y8dO6a7775bR44cUUtLi7p166aGhgYNHDhQ69ev109%2B8pN27eeTTz7RsmXL9NFHH6lbt276%2Bc9/rgULFiguLk5/%2B9vftGzZMlVWVqpPnz6aO3eubrjhBs9j//u//1vFxcU6ceKEkpOTtXTpUg0aNEjSV/fYKiws1CuvvKLm5maNHj1aS5cuVffu3c/ruGtqTp/X47/L%2BDVvd8h%2BEXi2zRnp6xIuaDZbsKKjw%2BR01neaV%2BCdCf3xbx3Zn169zu/n949lecCSpLNnz2rPnj06ePCgunbtqn79%2BmnkyJFe12R1NgQsdDQClm/xA9y/0R//1hkDluXXYEnSRRddpOuvv94XTw0AANDhLA9YGRkZ37tS9frrr1tYDQAAgHmWB6ybbrrJK2C1tLTo4MGDKi8v19133211OQAAAMZZHrDmzZv3rePbt2/XX//6V4urAQAAMM9v7kl//fXX65VXXvF1GQAAAOfNbwLWvn37zvsjagAAAPyB5acIp0yZ0masoaFBlZWVXveqAnBuAumWHdxSAkBnZ3nAio%2BPb/MuwtDQUGVnZ%2Bv222%2B3uhwAAADjLA9Yy5cvt/opAQAALGV5wHrppZfave2tt97agZUAAAB0DMsD1qJFi9Ta2trmgvagoCCvsaCgIAIWAAAISJYHrD/%2B8Y965plnNHPmTA0ePFhut1uffPKJ/vCHP%2BjOO%2B9Uamqq1SUBAAAY5ZNrsIqLixUXF%2BcZu/rqq9W3b19NmzZNL7/8stUlAQAAGGX5fbAOHTqkyMjINuMRERGqqqqyuhwAAADjLA9Yffr00fLly%2BV0Oj1jtbW1WrVqlS677DKrywEAADDO8lOECxcu1Ny5c2W32xUWFqbg4GDV1dWpa9eueuqpp6wuBwAAwDjLA9aoUaO0e/du7dmzR8eOHZPb7VZcXJyuueYade/e3epyAAAAjLM8YEnSxRdfrDFjxujYsWPq27evL0oAAADoMJZfg9XY2Kj58%2Bfryiuv1Pjx4yV9dQ3W9OnTVVtba3U5AAAAxlkesFasWKH9%2B/dr5cqVCg7%2B59O3tLRo5cqVVpcDAABgnOUBa/v27fqP//gP3XjjjZ4PfY6IiFBhYaF27NhhdTkAAADGWR6w6uvrFR8f32Y8JiZGX375pdXlAAAAGGd5wLrsssv017/%2BVZK8Pnvw1Vdf1U9%2B8hOrywEAADDO8ncR3nHHHbrvvvt02223qbW1Vc8%2B%2B6wqKiq0fft2LVq0yOpyAAAAjLM8YE2ePFk2m00bN25USEiI1q9fr379%2BmnlypW68cYbrS4HAADAOMsD1smTJ3Xbbbfptttus/qpAQAALGH5NVhjxozxuvYKAACgs7E8YKWmpmrbtm1WPy0AAIBlLD9FeMkll%2Bh3v/udiouLddlll%2Bmiiy7yml%2B1apXVJQEAABhlecA6cOCAfvrTn0qSnE6n1U8PAADQ4SwLWAUFBVq9erWee%2B45z9hTTz2lvLw8q0oAAACwhGXXYO3cubPNWHFxsVVPDwAAYBnLAta3vXOQdxMCAIDOyLKA9fUHO//QGAAAQKCz/DYNAAAAnR0BCwAAwDDL3kV49uxZzZ079wfHuA8WAAAIdJYFrKuuukrV1dU/OAYAABDoLAtY/3r/KwAAgM6Ma7AAAAAMI2ABAAAYZvlnEQLA%2BDVv%2B7qEc7JtzkhflwAgwLCCBQAAYBgBCwAAwDACFgAAgGEBG7CqqqqUl5en1NRUpaWlacGCBaqtrZUk7d%2B/X3feeaeuuuoq3XDDDXrmmWe8Hrt161ZlZmbqyiuvVFZWlt566y3PXGtrq1avXq0xY8Zo%2BPDhmjZtmg4fPmzpsQEAgMAWsAFr5syZioiI0M6dO/Xiiy/q73//ux5//HE1Njbqnnvu0c9//nO9%2BeabWr16tZ5%2B%2Bmnt2LFD0lfha/78%2BZo3b57%2B8pe/aOrUqbr33nt17NgxSdLzzz%2BvLVu2qLi4WLt27VJ8fLzy8vLkdrt9ebgAACCABGTAqq2tVVJSkubOnauwsDD17t1bkyZN0rvvvqvdu3fr7NmzmjVrlrp166YhQ4bo9ttvl91ulySVlJQoPT1d6enpCg0N1cSJEzVo0CBt3rxZkmS32zV16lT1799f4eHhKigoUGVlpfbu3evLQwYAAAEkIANWRESECgsL1bNnT8/Y0aNHFRsbK4fDocGDByskJMQzl5iYqIqKCkmSw%2BFQYmKi1/4SExNVXl6uxsZGHThwwGs%2BPDxcl19%2BucrLyzv4qAAAQGfRKe6DVV5ero0bN2rdunXatm2bIiIivOajoqLkcrnU2toql8ulyMhIr/nIyEgdOHBAp06dktvt/tZ5p9PZ7nqqq6tVU1PjNWazdVNsbOw5HhkAf2Cz/fBr0ZCQYK%2Bv8C/0x791xv4EfMB67733NGvWLM2dO1dpaWnatm3bt24XFBTk%2Bf0PXU91vtdb2e12rV271mssLy9P%2Bfn557VfAL4RHR3W7m0jIi7uwEpwvuiPf%2BtM/QnogLVz50799re/1eLFi3XrrbdKkmJiYnTo0CGv7Vwul6KiohQcHKzo6Gi5XK428zExMZ5tvm2%2BR48e7a5r8uTJysjI8Bqz2brJ6aw/h6MD4C/a870bEhKsiIiLVVvboJaWVguqwrmgP/6tI/tzLi%2BQTArYgPX%2B%2B%2B9r/vz5evLJJzVq1CjPeFJSkv7nf/5Hzc3Nstm%2BOrzy8nKlpKR45r%2B%2BHutr5eXlmjBhgkJDQzVw4EA5HA6NGDFC0lcX1H/%2B%2BecaOnRou2uLjY1tczqwpua0mpv5pgYC0bl877a0tPK97sfoj3/rTP0JyJOdzc3NevDBBzVv3jyvcCVJ6enpCg8P17p169TQ0KC9e/eqtLRUubm5kqScnBy988472r17t5qamlRaWqpDhw5p4sSJkqTc3Fxt2LBBlZWVqqur08qVK5WQkKDk5GTLjxMAAASmIHcA3uDp3Xff1S9/%2BUt16dKlzdyrr76q%2Bvp6LVmyRBUVFerZs6dmzJihO%2B64w7PNjh07tGrVKlVVVWnAgAFatGiRhg8fLumr66%2BKior0wgsvqL6%2BXqmpqXrkkUfUu3fv86q5pub0eT3%2BuwTah%2BYCgag9H/ZsswUrOjpMTmd9p3kF3pnQH//Wkf3p1au70f21V0AGrEBEwAICFwEr8NEf/9YZA1ZAniIEAADwZwQsAAAAwwhYAAAAhhGwAAAADCNgAQAAGEbAAgAAMIyABQAAYBgBCwAAwDACFgAAgGEB%2B2HPAGCVQPvEhPbceR5Ax2IFCwAAwDACFgAAgGEELAAAAMMIWAAAAIYRsAAAAAwjYAEAABhGwAIAADCMgAUAAGAYAQsAAMAwAhYAAIBhBCwAAADDCFgAAACGEbAAAAAMI2ABAAAYRsACAAAwjIAFAABgGAELAADAMAIWAACAYQQsAAAAwwhYAAAAhhGwAAAADCNgAQAAGEbAAgAAMIyABQAAYBgBCwAAwDACFgAAgGEELAAAAMMIWAAAAIYRsAAAAAwjYAEAABhGwAIAADCMgAUAAGAYAQsAAMAwAhYAAIBhBCwAAADDAjpgvfnmm0pLS1NBQUGbua1btyozM1NXXnmlsrKy9NZbb3nmWltbtXr1ao0ZM0bDhw/XtGnTdPjwYc%2B8y%2BXSnDlzlJaWplGjRmnRokVqbGy05JgAAEDgC9iA9Yc//EHLli3T5Zdf3mZu//79mj9/vubNm6e//OUvmjp1qu69914dO3ZMkvT8889ry5YtKi4u1q5duxQfH6%2B8vDy53W5J0uLFi9XQ0KCXX35Zf/7zn1VZWamVK1daenwAACBwBWzACg0NVWlp6bcGrJKSEqWnpys9PV2hoaGaOHGiBg0apM2bN0uS7Ha7pk6dqv79%2Bys8PFwFBQWqrKzU3r179cUXX%2Bi1115TQUGBYmJiFBcXp9mzZ%2BvPf/6zzp49a/VhAgCAAGTzdQE/1l133fWdcw6HQ%2Bnp6V5jiYmJKi8vV2Njow4cOKDExETPXHh4uC6//HKVl5fr9OnTCgkJ0eDBgz3zQ4YM0ZdffqnPPvvMa/y7VFdXq6amxmvMZuum2NjY9h4eAPxoNlvAvnbuMCEhwV5f4V86Y38CNmB9H5fLpcjISK%2BxyMhIHThwQKdOnZLb7f7WeafTqaioKIWHhysoKMhrTpKcTme7nt9ut2vt2rVeY3l5ecrPz/8xhwMA5yQ6OszXJfitiIiLfV0Cvkdn6k%2B/aukmAAAMnklEQVSnDFiSPNdT/Zj5H3rsD5k8ebIyMjK8xmy2bnI6689rvwDQHvxf01ZISLAiIi5WbW2DWlpafV0OvqEj%2B%2BOrFxydMmBFR0fL5XJ5jblcLsXExCgqKkrBwcHfOt%2BjRw/FxMSorq5OLS0tCgkJ8cxJUo8ePdr1/LGxsW1OB9bUnFZzM9/UADre2JVv%2BrqEdts2Z6Slz9fS0sr/xX6sM/Wn85zs/BdJSUmqqKjwGisvL1dKSopCQ0M1cOBAORwOz1xtba0%2B//xzDR06VAkJCXK73fr444%2B9HhsREaF%2B/fpZdgwAACBwdcqAlZOTo3feeUe7d%2B9WU1OTSktLdejQIU2cOFGSlJubqw0bNqiyslJ1dXVauXKlEhISlJycrJiYGI0bN05r1qzRyZMndezYMT311FPKzs6WzdYpF/wAAIBhAZsYkpOTJUnNzc2SpNdee03SV6tNgwYN0sqVK1VYWKiqqioNGDBATz/9tHr16iVJmjJlimpqavRv//Zvqq%2BvV2pqqtdF6Y888oiWLFmiMWPG6KKLLtLNN9/8rTczBQAA%2BDZB7vO9ohvtUlNzukP2O37N2x2yXwCwglXXYNlswYqODpPTWd9prvHpTDqyP716dTe6v/bqlKcIAQAAfImABQAAYBgBCwAAwDACFgAAgGEELAAAAMMIWAAAAIYRsAAAAAwjYAEAABhGwAIAADCMgAUAAGAYAQsAAMAwAhYAAIBhBCwAAADDbL4uAABw4Rq/5m1fl3BOts0Z6esSECBYwQIAADCMgAUAAGAYAQsAAMAwAhYAAIBhBCwAAADDCFgAAACGEbAAAAAMI2ABAAAYRsACAAAwjIAFAABgGAELAADAMAIWAACAYQQsAAAAwwhYAAAAhhGwAAAADCNgAQAAGEbAAgAAMIyABQAAYBgBCwAAwDACFgAAgGEELAAAAMMIWAAAAIYRsAAAAAwjYAEAABhm83UBAAAEivFr3vZ1Cedk25yRvi7hgsUKFgAAgGEELAAAAMMIWAAAAIYRsAAAAAwjYAEAABhGwAIAADCMgPUtqqqq9Jvf/EapqakaPXq0VqxYodbWVl%2BXBQAAAgT3wfoW9913n4YMGaLXXntNJ06c0D333KOePXvqV7/6la9LAwCg3QLpvl3v/u5GX5dgFCtY31BeXq6PP/5Y8%2BbNU/fu3RUfH6%2BpU6fKbrf7ujQAABAgWMH6BofDoT59%2BigyMtIzNmTIEB08eFB1dXUKDw//wX1UV1erpqbGa8xm66bY2Fjj9QIA0FmEhHSedR8C1je4XC5FRER4jX0dtpxOZ7sClt1u19q1a73G7r33Xt13333mCv3/TC%2BpVldXy263a/LkyQRCP0Nv/Bv98W/0x79VV1erqKioU/Wn80RFg9xu93k9fvLkyXrxxRe9fk2ePNlQdR2rpqZGa9eubbMCB9%2BjN/6N/vg3%2BuPfOmN/WMH6hpiYGLlcLq8xl8uloKAgxcTEtGsfsbGxnSaBAwCAc8cK1jckJSXp6NGjOnnypGesvLxcAwYMUFhYmA8rAwAAgYKA9Q2JiYlKTk7WqlWrVFdXp8rKSj377LPKzc31dWkAACBAhCxdunSpr4vwN9dcc41efvllPfroo3rllVeUnZ2tadOmKSgoyNelWSIsLEwjRoxgxc4P0Rv/Rn/8G/3xb52tP0Hu872iGwAAAF44RQgAAGAYAQsAAMAwAhYAAIBhBCwAAADDCFgAAACGEbAAAAAMI2ABAAAYRsACAAAwjIAFAABgGAHrAlZVVaW8vDylpqYqLS1NCxYsUG1trSRp//79uvPOO3XVVVfphhtu0DPPPOPjai9cjz32mAYPHuz5c1lZmbKzszVs2DBNmDBBmzdv9mF1F65169Zp1KhRuuKKKzR16lQdOXJEEv3xB/v27dNdd92lq6%2B%2BWiNHjtS8efN08uRJSfTHV958802lpaWpoKCgzdzWrVuVmZmpK6%2B8UllZWXrrrbc8c62trVq9erXGjBmj4cOHa9q0aTp8%2BLCVpf94blywbr75ZveCBQvcdXV17qNHj7qzsrLcCxcudDc0NLivueYad1FRkbu%2Bvt5dUVHhHjFihHv79u2%2BLvmCs2/fPveIESPcgwYNcrvdbvfx48fdV1xxhbukpMTd2Njofvvtt91Dhw51f/TRRz6u9MKyceNG94033uiurKx0nz592v3oo4%2B6H330UfrjB86ePeseOXKke9WqVe6mpib3yZMn3b/61a/c9913H/3xkeLiYvcNN9zgnjJlinvOnDlec/v27XMnJSW5d%2B/e7W5sbHRv2rTJnZKS4j569Kjb7Xa7N2zY4B49erT7wIED7tOnT7sfeeQRd2Zmpru1tdUXh3JOWMG6QNXW1iopKUlz585VWFiYevfurUmTJundd9/V7t27dfbsWc2aNUvdunXTkCFDdPvtt8tut/u67AtKa2urlixZoqlTp3rGtmzZovj4eGVnZys0NFRpaWnKyMhQSUmJ7wq9AD3zzDMqKCjQT3/6U4WHh%2BvBBx/Ugw8%2BSH/8QE1NjWpqanTLLbeoS5cuio6O1tixY7V//3764yOhoaEqLS3V5Zdf3maupKRE6enpSk9PV2hoqCZOnKhBgwZ5VhbtdrumTp2q/v37Kzw8XAUFBaqsrNTevXutPoxzRsC6QEVERKiwsFA9e/b0jB09elSxsbFyOBwaPHiwQkJCPHOJiYmqqKjwRakXrBdeeEGhoaHKzMz0jDkcDiUmJnptR2%2Bsdfz4cR05ckSnTp3STTfdpNTUVOXn5%2BvkyZP0xw/ExcUpISFBdrtd9fX1OnHihHbs2KHrrruO/vjIXXfdpe7du3/r3Hf1pLy8XI2NjTpw4IDXfHh4uC6//HKVl5d3aM0mELAgSSovL9fGjRs1a9YsuVwuRUREeM1HRUXJ5XKptbXVRxVeWL744gsVFRVpyZIlXuPf1Run02lleRe0Y8eOSZJeffVVPfvss9q0aZOOHTumBx98kP74geDgYBUVFen111/XsGHDlJaWpubmZs2dO5f%2B%2BCGXy6XIyEivscjISDmdTp06dUput/s75/0dAQt67733NG3aNM2dO1dpaWnfuV1QUJCFVV3YCgsLlZWVpQEDBvi6FHyD2%2B2WJE2fPl1xcXHq3bu37rvvPu3cudPHlUGSzpw5o5kzZ%2BrGG2/Uu%2B%2B%2BqzfeeEPdu3fXvHnzfF0avsPX31M/dt5fEbAucDt37tRvfvMbLVy4UHfddZckKSYmps2rA5fLpaioKAUH80%2Bmo5WVlemDDz5QXl5em7no6Gi5XC6vMafTqZiYGKvKu%2BB9fVr9X1dC%2BvTpI7fbrbNnz9IfHysrK9ORI0d0//33q3v37oqLi1N%2Bfr7%2B7//%2BT8HBwfTHz3zb/2kul0sxMTGenznfNt%2BjRw8ry/xR%2BGl5AXv//fc1f/58Pfnkk7r11ls940lJSfrkk0/U3NzsGSsvL1dKSoovyrzgbN68WSdOnNDo0aOVmpqqrKwsSVJqaqoGDRrU5nqRiooKemOh3r17Kzw8XPv37/eMVVVV6aKLLlJ6ejr98bGWlha1trZ6rXqcOXNGkpSWlkZ//ExSUlKbnnz98yY0NFQDBw6Uw%2BHwzNXW1urzzz/X0KFDrS71nBGwLlDNzc168MEHNW/ePI0aNcprLj09XeHh4Vq3bp0aGhq0d%2B9elZaWKjc310fVXlgWLFig7du3a9OmTdq0aZOKi4slSZs2bVJmZqaqqqpUUlKipqYm7dmzR3v27FFOTo6Pq75w2Gw2ZWdna/369frHP/6hEydO6KmnnlJmZqYmTZpEf3zsyiuvVLdu3VRUVKSGhgY5nU6tW7dOw4cP1y233EJ//ExOTo7eeecd7d69W01NTSotLdWhQ4c0ceJESVJubq42bNigyspK1dXVaeXKlUpISFBycrKPK/9hQe5APbmJ8/Luu%2B/ql7/8pbp06dJm7tVXX1V9fb2WLFmiiooK9ezZUzNmzNAdd9zhg0px5MgRjRkzRp988okk6W9/%2B5uWLVumyspK9enTR3PnztUNN9zg4yovLGfOnFFhYaFeeeUVnT17VuPGjdPixYsVFhZGf/xARUWFHn/8cX388cfq0qWLRowYoQULFiguLo7%2B%2BMDXYejrsyI2m02SPO8E3LFjh1atWqWqqioNGDBAixYt0vDhwyV9df1VUVGRXnjhBdXX1ys1NVWPPPKIevfu7YMjOTcELAAAAMM4RQgAAGAYAQsAAMAwAhYAAIBhBCwAAADDCFgAAACGEbAAAAAMI2ABAAAYRsACAAAwjIAFAABgGAELAADAMAIWAACAYQQsAAAAwwhYAAAAhv0/9RHD9jUUK7IAAAAASUVORK5CYII%3D\"/>\n",
              "        </div>\n",
              "        <div role=\"tabpanel\" class=\"tab-pane col-md-12\" id=\"common-8020894764026066743\">\n",
              "            \n",
              "<table class=\"freq table table-hover\">\n",
              "    <thead>\n",
              "    <tr>\n",
              "        <td class=\"fillremaining\">Value</td>\n",
              "        <td class=\"number\">Count</td>\n",
              "        <td class=\"number\">Frequency (%)</td>\n",
              "        <td style=\"min-width:200px\">&nbsp;</td>\n",
              "    </tr>\n",
              "    </thead>\n",
              "    <tr class=\"\">\n",
              "        <td class=\"fillremaining\">30.0</td>\n",
              "        <td class=\"number\">1052</td>\n",
              "        <td class=\"number\">4.5%</td>\n",
              "        <td>\n",
              "            <div class=\"bar\" style=\"width:7%\">&nbsp;</div>\n",
              "        </td>\n",
              "</tr><tr class=\"\">\n",
              "        <td class=\"fillremaining\">35.0</td>\n",
              "        <td class=\"number\">834</td>\n",
              "        <td class=\"number\">3.5%</td>\n",
              "        <td>\n",
              "            <div class=\"bar\" style=\"width:6%\">&nbsp;</div>\n",
              "        </td>\n",
              "</tr><tr class=\"\">\n",
              "        <td class=\"fillremaining\">25.0</td>\n",
              "        <td class=\"number\">790</td>\n",
              "        <td class=\"number\">3.4%</td>\n",
              "        <td>\n",
              "            <div class=\"bar\" style=\"width:5%\">&nbsp;</div>\n",
              "        </td>\n",
              "</tr><tr class=\"\">\n",
              "        <td class=\"fillremaining\">28.0</td>\n",
              "        <td class=\"number\">747</td>\n",
              "        <td class=\"number\">3.2%</td>\n",
              "        <td>\n",
              "            <div class=\"bar\" style=\"width:5%\">&nbsp;</div>\n",
              "        </td>\n",
              "</tr><tr class=\"\">\n",
              "        <td class=\"fillremaining\">32.0</td>\n",
              "        <td class=\"number\">714</td>\n",
              "        <td class=\"number\">3.0%</td>\n",
              "        <td>\n",
              "            <div class=\"bar\" style=\"width:5%\">&nbsp;</div>\n",
              "        </td>\n",
              "</tr><tr class=\"\">\n",
              "        <td class=\"fillremaining\">40.0</td>\n",
              "        <td class=\"number\">685</td>\n",
              "        <td class=\"number\">2.9%</td>\n",
              "        <td>\n",
              "            <div class=\"bar\" style=\"width:5%\">&nbsp;</div>\n",
              "        </td>\n",
              "</tr><tr class=\"\">\n",
              "        <td class=\"fillremaining\">20.0</td>\n",
              "        <td class=\"number\">625</td>\n",
              "        <td class=\"number\">2.7%</td>\n",
              "        <td>\n",
              "            <div class=\"bar\" style=\"width:4%\">&nbsp;</div>\n",
              "        </td>\n",
              "</tr><tr class=\"\">\n",
              "        <td class=\"fillremaining\">26.0</td>\n",
              "        <td class=\"number\">614</td>\n",
              "        <td class=\"number\">2.6%</td>\n",
              "        <td>\n",
              "            <div class=\"bar\" style=\"width:4%\">&nbsp;</div>\n",
              "        </td>\n",
              "</tr><tr class=\"\">\n",
              "        <td class=\"fillremaining\">23.0</td>\n",
              "        <td class=\"number\">586</td>\n",
              "        <td class=\"number\">2.5%</td>\n",
              "        <td>\n",
              "            <div class=\"bar\" style=\"width:4%\">&nbsp;</div>\n",
              "        </td>\n",
              "</tr><tr class=\"\">\n",
              "        <td class=\"fillremaining\">18.0</td>\n",
              "        <td class=\"number\">584</td>\n",
              "        <td class=\"number\">2.5%</td>\n",
              "        <td>\n",
              "            <div class=\"bar\" style=\"width:4%\">&nbsp;</div>\n",
              "        </td>\n",
              "</tr><tr class=\"other\">\n",
              "        <td class=\"fillremaining\">Other values (75)</td>\n",
              "        <td class=\"number\">16259</td>\n",
              "        <td class=\"number\">69.1%</td>\n",
              "        <td>\n",
              "            <div class=\"bar\" style=\"width:100%\">&nbsp;</div>\n",
              "        </td>\n",
              "</tr>\n",
              "</table>\n",
              "        </div>\n",
              "        <div role=\"tabpanel\" class=\"tab-pane col-md-12\"  id=\"extreme-8020894764026066743\">\n",
              "            <p class=\"h4\">Minimum 5 values</p>\n",
              "            \n",
              "<table class=\"freq table table-hover\">\n",
              "    <thead>\n",
              "    <tr>\n",
              "        <td class=\"fillremaining\">Value</td>\n",
              "        <td class=\"number\">Count</td>\n",
              "        <td class=\"number\">Frequency (%)</td>\n",
              "        <td style=\"min-width:200px\">&nbsp;</td>\n",
              "    </tr>\n",
              "    </thead>\n",
              "    <tr class=\"\">\n",
              "        <td class=\"fillremaining\">16.0</td>\n",
              "        <td class=\"number\">462</td>\n",
              "        <td class=\"number\">2.0%</td>\n",
              "        <td>\n",
              "            <div class=\"bar\" style=\"width:74%\">&nbsp;</div>\n",
              "        </td>\n",
              "</tr><tr class=\"\">\n",
              "        <td class=\"fillremaining\">17.0</td>\n",
              "        <td class=\"number\">477</td>\n",
              "        <td class=\"number\">2.0%</td>\n",
              "        <td>\n",
              "            <div class=\"bar\" style=\"width:76%\">&nbsp;</div>\n",
              "        </td>\n",
              "</tr><tr class=\"\">\n",
              "        <td class=\"fillremaining\">18.0</td>\n",
              "        <td class=\"number\">584</td>\n",
              "        <td class=\"number\">2.5%</td>\n",
              "        <td>\n",
              "            <div class=\"bar\" style=\"width:93%\">&nbsp;</div>\n",
              "        </td>\n",
              "</tr><tr class=\"\">\n",
              "        <td class=\"fillremaining\">19.0</td>\n",
              "        <td class=\"number\">469</td>\n",
              "        <td class=\"number\">2.0%</td>\n",
              "        <td>\n",
              "            <div class=\"bar\" style=\"width:75%\">&nbsp;</div>\n",
              "        </td>\n",
              "</tr><tr class=\"\">\n",
              "        <td class=\"fillremaining\">20.0</td>\n",
              "        <td class=\"number\">625</td>\n",
              "        <td class=\"number\">2.7%</td>\n",
              "        <td>\n",
              "            <div class=\"bar\" style=\"width:100%\">&nbsp;</div>\n",
              "        </td>\n",
              "</tr>\n",
              "</table>\n",
              "            <p class=\"h4\">Maximum 5 values</p>\n",
              "            \n",
              "<table class=\"freq table table-hover\">\n",
              "    <thead>\n",
              "    <tr>\n",
              "        <td class=\"fillremaining\">Value</td>\n",
              "        <td class=\"number\">Count</td>\n",
              "        <td class=\"number\">Frequency (%)</td>\n",
              "        <td style=\"min-width:200px\">&nbsp;</td>\n",
              "    </tr>\n",
              "    </thead>\n",
              "    <tr class=\"\">\n",
              "        <td class=\"fillremaining\">96.0</td>\n",
              "        <td class=\"number\">3</td>\n",
              "        <td class=\"number\">0.0%</td>\n",
              "        <td>\n",
              "            <div class=\"bar\" style=\"width:50%\">&nbsp;</div>\n",
              "        </td>\n",
              "</tr><tr class=\"\">\n",
              "        <td class=\"fillremaining\">97.0</td>\n",
              "        <td class=\"number\">1</td>\n",
              "        <td class=\"number\">0.0%</td>\n",
              "        <td>\n",
              "            <div class=\"bar\" style=\"width:17%\">&nbsp;</div>\n",
              "        </td>\n",
              "</tr><tr class=\"\">\n",
              "        <td class=\"fillremaining\">98.0</td>\n",
              "        <td class=\"number\">6</td>\n",
              "        <td class=\"number\">0.0%</td>\n",
              "        <td>\n",
              "            <div class=\"bar\" style=\"width:100%\">&nbsp;</div>\n",
              "        </td>\n",
              "</tr><tr class=\"\">\n",
              "        <td class=\"fillremaining\">99.0</td>\n",
              "        <td class=\"number\">2</td>\n",
              "        <td class=\"number\">0.0%</td>\n",
              "        <td>\n",
              "            <div class=\"bar\" style=\"width:34%\">&nbsp;</div>\n",
              "        </td>\n",
              "</tr><tr class=\"\">\n",
              "        <td class=\"fillremaining\">100.0</td>\n",
              "        <td class=\"number\">5</td>\n",
              "        <td class=\"number\">0.0%</td>\n",
              "        <td>\n",
              "            <div class=\"bar\" style=\"width:83%\">&nbsp;</div>\n",
              "        </td>\n",
              "</tr>\n",
              "</table>\n",
              "        </div>\n",
              "    </div>\n",
              "</div>\n",
              "</div><div class=\"row variablerow\">\n",
              "    <div class=\"col-md-3 namecol\">\n",
              "        <p class=\"h4 pp-anchor\" id=\"pp_var_The relathip with head\">The relathip with head<br/>\n",
              "            <small>Categorical</small>\n",
              "        </p>\n",
              "    </div><div class=\"col-md-3\">\n",
              "    <table class=\"stats \">\n",
              "        <tr class=\"\">\n",
              "            <th>Distinct count</th>\n",
              "            <td>7</td>\n",
              "        </tr>\n",
              "        <tr>\n",
              "            <th>Unique (%)</th>\n",
              "            <td>0.0%</td>\n",
              "        </tr>\n",
              "        <tr class=\"ignore\">\n",
              "            <th>Missing (%)</th>\n",
              "            <td>0.0%</td>\n",
              "        </tr>\n",
              "        <tr class=\"ignore\">\n",
              "            <th>Missing (n)</th>\n",
              "            <td>4</td>\n",
              "        </tr>\n",
              "    </table>\n",
              "</div>\n",
              "<div class=\"col-md-6 collapse in\" id=\"minifreqtable4912683548877925520\">\n",
              "    <table class=\"mini freq\">\n",
              "        <tr class=\"\">\n",
              "    <th>Head of Household</th>\n",
              "    <td>\n",
              "        <div class=\"bar\" style=\"width:100%\" data-toggle=\"tooltip\" data-placement=\"right\" data-html=\"true\"\n",
              "             data-delay=500 title=\"Percentage: 54.5%\">\n",
              "            12829\n",
              "        </div>\n",
              "        \n",
              "    </td>\n",
              "</tr><tr class=\"\">\n",
              "    <th>Spouse</th>\n",
              "    <td>\n",
              "        <div class=\"bar\" style=\"width:51%\" data-toggle=\"tooltip\" data-placement=\"right\" data-html=\"true\"\n",
              "             data-delay=500 title=\"Percentage: 27.7%\">\n",
              "            6518\n",
              "        </div>\n",
              "        \n",
              "    </td>\n",
              "</tr><tr class=\"\">\n",
              "    <th>Child</th>\n",
              "    <td>\n",
              "        <div class=\"bar\" style=\"width:18%\" data-toggle=\"tooltip\" data-placement=\"right\" data-html=\"true\"\n",
              "             data-delay=500 title=\"Percentage: 9.5%\">\n",
              "            &nbsp;\n",
              "        </div>\n",
              "        2229\n",
              "    </td>\n",
              "</tr><tr class=\"other\">\n",
              "    <th>Other values (3)</th>\n",
              "    <td>\n",
              "        <div class=\"bar\" style=\"width:16%\" data-toggle=\"tooltip\" data-placement=\"right\" data-html=\"true\"\n",
              "             data-delay=500 title=\"Percentage: 8.3%\">\n",
              "            &nbsp;\n",
              "        </div>\n",
              "        1944\n",
              "    </td>\n",
              "</tr>\n",
              "    </table>\n",
              "</div>\n",
              "<div class=\"col-md-12 text-right\">\n",
              "    <a role=\"button\" data-toggle=\"collapse\" data-target=\"#freqtable4912683548877925520, #minifreqtable4912683548877925520\"\n",
              "       aria-expanded=\"true\" aria-controls=\"collapseExample\">\n",
              "        Toggle details\n",
              "    </a>\n",
              "</div>\n",
              "<div class=\"col-md-12 extrapadding collapse\" id=\"freqtable4912683548877925520\">\n",
              "    \n",
              "<table class=\"freq table table-hover\">\n",
              "    <thead>\n",
              "    <tr>\n",
              "        <td class=\"fillremaining\">Value</td>\n",
              "        <td class=\"number\">Count</td>\n",
              "        <td class=\"number\">Frequency (%)</td>\n",
              "        <td style=\"min-width:200px\">&nbsp;</td>\n",
              "    </tr>\n",
              "    </thead>\n",
              "    <tr class=\"\">\n",
              "        <td class=\"fillremaining\">Head of Household</td>\n",
              "        <td class=\"number\">12829</td>\n",
              "        <td class=\"number\">54.5%</td>\n",
              "        <td>\n",
              "            <div class=\"bar\" style=\"width:100%\">&nbsp;</div>\n",
              "        </td>\n",
              "</tr><tr class=\"\">\n",
              "        <td class=\"fillremaining\">Spouse</td>\n",
              "        <td class=\"number\">6518</td>\n",
              "        <td class=\"number\">27.7%</td>\n",
              "        <td>\n",
              "            <div class=\"bar\" style=\"width:51%\">&nbsp;</div>\n",
              "        </td>\n",
              "</tr><tr class=\"\">\n",
              "        <td class=\"fillremaining\">Child</td>\n",
              "        <td class=\"number\">2229</td>\n",
              "        <td class=\"number\">9.5%</td>\n",
              "        <td>\n",
              "            <div class=\"bar\" style=\"width:18%\">&nbsp;</div>\n",
              "        </td>\n",
              "</tr><tr class=\"\">\n",
              "        <td class=\"fillremaining\">Parent</td>\n",
              "        <td class=\"number\">1086</td>\n",
              "        <td class=\"number\">4.6%</td>\n",
              "        <td>\n",
              "            <div class=\"bar\" style=\"width:9%\">&nbsp;</div>\n",
              "        </td>\n",
              "</tr><tr class=\"\">\n",
              "        <td class=\"fillremaining\">Other relative</td>\n",
              "        <td class=\"number\">668</td>\n",
              "        <td class=\"number\">2.8%</td>\n",
              "        <td>\n",
              "            <div class=\"bar\" style=\"width:6%\">&nbsp;</div>\n",
              "        </td>\n",
              "</tr><tr class=\"\">\n",
              "        <td class=\"fillremaining\">Other non-relatives</td>\n",
              "        <td class=\"number\">190</td>\n",
              "        <td class=\"number\">0.8%</td>\n",
              "        <td>\n",
              "            <div class=\"bar\" style=\"width:2%\">&nbsp;</div>\n",
              "        </td>\n",
              "</tr><tr class=\"missing\">\n",
              "        <td class=\"fillremaining\">(Missing)</td>\n",
              "        <td class=\"number\">4</td>\n",
              "        <td class=\"number\">0.0%</td>\n",
              "        <td>\n",
              "            <div class=\"bar\" style=\"width:1%\">&nbsp;</div>\n",
              "        </td>\n",
              "</tr>\n",
              "</table>\n",
              "</div>\n",
              "</div><div class=\"row variablerow\">\n",
              "    <div class=\"col-md-3 namecol\">\n",
              "        <p class=\"h4 pp-anchor\" id=\"pp_var_Type of Job\">Type of Job<br/>\n",
              "            <small>Categorical</small>\n",
              "        </p>\n",
              "    </div><div class=\"col-md-3\">\n",
              "    <table class=\"stats \">\n",
              "        <tr class=\"\">\n",
              "            <th>Distinct count</th>\n",
              "            <td>11</td>\n",
              "        </tr>\n",
              "        <tr>\n",
              "            <th>Unique (%)</th>\n",
              "            <td>0.0%</td>\n",
              "        </tr>\n",
              "        <tr class=\"ignore\">\n",
              "            <th>Missing (%)</th>\n",
              "            <td>0.1%</td>\n",
              "        </tr>\n",
              "        <tr class=\"ignore\">\n",
              "            <th>Missing (n)</th>\n",
              "            <td>30</td>\n",
              "        </tr>\n",
              "    </table>\n",
              "</div>\n",
              "<div class=\"col-md-6 collapse in\" id=\"minifreqtable2331158424088578421\">\n",
              "    <table class=\"mini freq\">\n",
              "        <tr class=\"\">\n",
              "    <th>Self employed</th>\n",
              "    <td>\n",
              "        <div class=\"bar\" style=\"width:100%\" data-toggle=\"tooltip\" data-placement=\"right\" data-html=\"true\"\n",
              "             data-delay=500 title=\"Percentage: 27.3%\">\n",
              "            6428\n",
              "        </div>\n",
              "        \n",
              "    </td>\n",
              "</tr><tr class=\"\">\n",
              "    <th>Informally employed</th>\n",
              "    <td>\n",
              "        <div class=\"bar\" style=\"width:87%\" data-toggle=\"tooltip\" data-placement=\"right\" data-html=\"true\"\n",
              "             data-delay=500 title=\"Percentage: 23.8%\">\n",
              "            5587\n",
              "        </div>\n",
              "        \n",
              "    </td>\n",
              "</tr><tr class=\"\">\n",
              "    <th>Farming and Fishing</th>\n",
              "    <td>\n",
              "        <div class=\"bar\" style=\"width:84%\" data-toggle=\"tooltip\" data-placement=\"right\" data-html=\"true\"\n",
              "             data-delay=500 title=\"Percentage: 23.1%\">\n",
              "            5433\n",
              "        </div>\n",
              "        \n",
              "    </td>\n",
              "</tr><tr class=\"other\">\n",
              "    <th>Other values (7)</th>\n",
              "    <td>\n",
              "        <div class=\"bar\" style=\"width:94%\" data-toggle=\"tooltip\" data-placement=\"right\" data-html=\"true\"\n",
              "             data-delay=500 title=\"Percentage: 25.7%\">\n",
              "            6046\n",
              "        </div>\n",
              "        \n",
              "    </td>\n",
              "</tr>\n",
              "    </table>\n",
              "</div>\n",
              "<div class=\"col-md-12 text-right\">\n",
              "    <a role=\"button\" data-toggle=\"collapse\" data-target=\"#freqtable2331158424088578421, #minifreqtable2331158424088578421\"\n",
              "       aria-expanded=\"true\" aria-controls=\"collapseExample\">\n",
              "        Toggle details\n",
              "    </a>\n",
              "</div>\n",
              "<div class=\"col-md-12 extrapadding collapse\" id=\"freqtable2331158424088578421\">\n",
              "    \n",
              "<table class=\"freq table table-hover\">\n",
              "    <thead>\n",
              "    <tr>\n",
              "        <td class=\"fillremaining\">Value</td>\n",
              "        <td class=\"number\">Count</td>\n",
              "        <td class=\"number\">Frequency (%)</td>\n",
              "        <td style=\"min-width:200px\">&nbsp;</td>\n",
              "    </tr>\n",
              "    </thead>\n",
              "    <tr class=\"\">\n",
              "        <td class=\"fillremaining\">Self employed</td>\n",
              "        <td class=\"number\">6428</td>\n",
              "        <td class=\"number\">27.3%</td>\n",
              "        <td>\n",
              "            <div class=\"bar\" style=\"width:100%\">&nbsp;</div>\n",
              "        </td>\n",
              "</tr><tr class=\"\">\n",
              "        <td class=\"fillremaining\">Informally employed</td>\n",
              "        <td class=\"number\">5587</td>\n",
              "        <td class=\"number\">23.8%</td>\n",
              "        <td>\n",
              "            <div class=\"bar\" style=\"width:87%\">&nbsp;</div>\n",
              "        </td>\n",
              "</tr><tr class=\"\">\n",
              "        <td class=\"fillremaining\">Farming and Fishing</td>\n",
              "        <td class=\"number\">5433</td>\n",
              "        <td class=\"number\">23.1%</td>\n",
              "        <td>\n",
              "            <div class=\"bar\" style=\"width:84%\">&nbsp;</div>\n",
              "        </td>\n",
              "</tr><tr class=\"\">\n",
              "        <td class=\"fillremaining\">Remittance Dependent</td>\n",
              "        <td class=\"number\">2524</td>\n",
              "        <td class=\"number\">10.7%</td>\n",
              "        <td>\n",
              "            <div class=\"bar\" style=\"width:39%\">&nbsp;</div>\n",
              "        </td>\n",
              "</tr><tr class=\"\">\n",
              "        <td class=\"fillremaining\">Other Income</td>\n",
              "        <td class=\"number\">1080</td>\n",
              "        <td class=\"number\">4.6%</td>\n",
              "        <td>\n",
              "            <div class=\"bar\" style=\"width:17%\">&nbsp;</div>\n",
              "        </td>\n",
              "</tr><tr class=\"\">\n",
              "        <td class=\"fillremaining\">Formally employed Private</td>\n",
              "        <td class=\"number\">1055</td>\n",
              "        <td class=\"number\">4.5%</td>\n",
              "        <td>\n",
              "            <div class=\"bar\" style=\"width:17%\">&nbsp;</div>\n",
              "        </td>\n",
              "</tr><tr class=\"\">\n",
              "        <td class=\"fillremaining\">No Income</td>\n",
              "        <td class=\"number\">627</td>\n",
              "        <td class=\"number\">2.7%</td>\n",
              "        <td>\n",
              "            <div class=\"bar\" style=\"width:10%\">&nbsp;</div>\n",
              "        </td>\n",
              "</tr><tr class=\"\">\n",
              "        <td class=\"fillremaining\">Formally employed Government</td>\n",
              "        <td class=\"number\">387</td>\n",
              "        <td class=\"number\">1.6%</td>\n",
              "        <td>\n",
              "            <div class=\"bar\" style=\"width:6%\">&nbsp;</div>\n",
              "        </td>\n",
              "</tr><tr class=\"\">\n",
              "        <td class=\"fillremaining\">Government Dependent</td>\n",
              "        <td class=\"number\">247</td>\n",
              "        <td class=\"number\">1.0%</td>\n",
              "        <td>\n",
              "            <div class=\"bar\" style=\"width:4%\">&nbsp;</div>\n",
              "        </td>\n",
              "</tr><tr class=\"\">\n",
              "        <td class=\"fillremaining\">Dont Know/Refuse to answer</td>\n",
              "        <td class=\"number\">126</td>\n",
              "        <td class=\"number\">0.5%</td>\n",
              "        <td>\n",
              "            <div class=\"bar\" style=\"width:2%\">&nbsp;</div>\n",
              "        </td>\n",
              "</tr><tr class=\"missing\">\n",
              "        <td class=\"fillremaining\">(Missing)</td>\n",
              "        <td class=\"number\">30</td>\n",
              "        <td class=\"number\">0.1%</td>\n",
              "        <td>\n",
              "            <div class=\"bar\" style=\"width:1%\">&nbsp;</div>\n",
              "        </td>\n",
              "</tr>\n",
              "</table>\n",
              "</div>\n",
              "</div><div class=\"row variablerow\">\n",
              "    <div class=\"col-md-3 namecol\">\n",
              "        <p class=\"h4 pp-anchor\" id=\"pp_var_Type of Location\">Type of Location<br/>\n",
              "            <small>Categorical</small>\n",
              "        </p>\n",
              "    </div><div class=\"col-md-3\">\n",
              "    <table class=\"stats \">\n",
              "        <tr class=\"\">\n",
              "            <th>Distinct count</th>\n",
              "            <td>3</td>\n",
              "        </tr>\n",
              "        <tr>\n",
              "            <th>Unique (%)</th>\n",
              "            <td>0.0%</td>\n",
              "        </tr>\n",
              "        <tr class=\"ignore\">\n",
              "            <th>Missing (%)</th>\n",
              "            <td>0.1%</td>\n",
              "        </tr>\n",
              "        <tr class=\"ignore\">\n",
              "            <th>Missing (n)</th>\n",
              "            <td>15</td>\n",
              "        </tr>\n",
              "    </table>\n",
              "</div>\n",
              "<div class=\"col-md-6 collapse in\" id=\"minifreqtable4196985889136388200\">\n",
              "    <table class=\"mini freq\">\n",
              "        <tr class=\"\">\n",
              "    <th>Rural</th>\n",
              "    <td>\n",
              "        <div class=\"bar\" style=\"width:100%\" data-toggle=\"tooltip\" data-placement=\"right\" data-html=\"true\"\n",
              "             data-delay=500 title=\"Percentage: 61.0%\">\n",
              "            14338\n",
              "        </div>\n",
              "        \n",
              "    </td>\n",
              "</tr><tr class=\"\">\n",
              "    <th>Urban</th>\n",
              "    <td>\n",
              "        <div class=\"bar\" style=\"width:64%\" data-toggle=\"tooltip\" data-placement=\"right\" data-html=\"true\"\n",
              "             data-delay=500 title=\"Percentage: 39.0%\">\n",
              "            9171\n",
              "        </div>\n",
              "        \n",
              "    </td>\n",
              "</tr><tr class=\"missing\">\n",
              "    <th>(Missing)</th>\n",
              "    <td>\n",
              "        <div class=\"bar\" style=\"width:1%\" data-toggle=\"tooltip\" data-placement=\"right\" data-html=\"true\"\n",
              "             data-delay=500 title=\"Percentage: 0.1%\">\n",
              "            &nbsp;\n",
              "        </div>\n",
              "        15\n",
              "    </td>\n",
              "</tr>\n",
              "    </table>\n",
              "</div>\n",
              "<div class=\"col-md-12 text-right\">\n",
              "    <a role=\"button\" data-toggle=\"collapse\" data-target=\"#freqtable4196985889136388200, #minifreqtable4196985889136388200\"\n",
              "       aria-expanded=\"true\" aria-controls=\"collapseExample\">\n",
              "        Toggle details\n",
              "    </a>\n",
              "</div>\n",
              "<div class=\"col-md-12 extrapadding collapse\" id=\"freqtable4196985889136388200\">\n",
              "    \n",
              "<table class=\"freq table table-hover\">\n",
              "    <thead>\n",
              "    <tr>\n",
              "        <td class=\"fillremaining\">Value</td>\n",
              "        <td class=\"number\">Count</td>\n",
              "        <td class=\"number\">Frequency (%)</td>\n",
              "        <td style=\"min-width:200px\">&nbsp;</td>\n",
              "    </tr>\n",
              "    </thead>\n",
              "    <tr class=\"\">\n",
              "        <td class=\"fillremaining\">Rural</td>\n",
              "        <td class=\"number\">14338</td>\n",
              "        <td class=\"number\">61.0%</td>\n",
              "        <td>\n",
              "            <div class=\"bar\" style=\"width:100%\">&nbsp;</div>\n",
              "        </td>\n",
              "</tr><tr class=\"\">\n",
              "        <td class=\"fillremaining\">Urban</td>\n",
              "        <td class=\"number\">9171</td>\n",
              "        <td class=\"number\">39.0%</td>\n",
              "        <td>\n",
              "            <div class=\"bar\" style=\"width:64%\">&nbsp;</div>\n",
              "        </td>\n",
              "</tr><tr class=\"missing\">\n",
              "        <td class=\"fillremaining\">(Missing)</td>\n",
              "        <td class=\"number\">15</td>\n",
              "        <td class=\"number\">0.1%</td>\n",
              "        <td>\n",
              "            <div class=\"bar\" style=\"width:1%\">&nbsp;</div>\n",
              "        </td>\n",
              "</tr>\n",
              "</table>\n",
              "</div>\n",
              "</div><div class=\"row variablerow\">\n",
              "    <div class=\"col-md-3 namecol\">\n",
              "        <p class=\"h4 pp-anchor\" id=\"pp_var_country\">country<br/>\n",
              "            <small>Categorical</small>\n",
              "        </p>\n",
              "    </div><div class=\"col-md-3\">\n",
              "    <table class=\"stats \">\n",
              "        <tr class=\"\">\n",
              "            <th>Distinct count</th>\n",
              "            <td>5</td>\n",
              "        </tr>\n",
              "        <tr>\n",
              "            <th>Unique (%)</th>\n",
              "            <td>0.0%</td>\n",
              "        </tr>\n",
              "        <tr class=\"ignore\">\n",
              "            <th>Missing (%)</th>\n",
              "            <td>0.1%</td>\n",
              "        </tr>\n",
              "        <tr class=\"ignore\">\n",
              "            <th>Missing (n)</th>\n",
              "            <td>14</td>\n",
              "        </tr>\n",
              "    </table>\n",
              "</div>\n",
              "<div class=\"col-md-6 collapse in\" id=\"minifreqtable7022903966509089952\">\n",
              "    <table class=\"mini freq\">\n",
              "        <tr class=\"\">\n",
              "    <th>Rwanda</th>\n",
              "    <td>\n",
              "        <div class=\"bar\" style=\"width:100%\" data-toggle=\"tooltip\" data-placement=\"right\" data-html=\"true\"\n",
              "             data-delay=500 title=\"Percentage: 37.1%\">\n",
              "            8735\n",
              "        </div>\n",
              "        \n",
              "    </td>\n",
              "</tr><tr class=\"\">\n",
              "    <th>Tanzania</th>\n",
              "    <td>\n",
              "        <div class=\"bar\" style=\"width:75%\" data-toggle=\"tooltip\" data-placement=\"right\" data-html=\"true\"\n",
              "             data-delay=500 title=\"Percentage: 28.1%\">\n",
              "            6606\n",
              "        </div>\n",
              "        \n",
              "    </td>\n",
              "</tr><tr class=\"\">\n",
              "    <th>Kenya</th>\n",
              "    <td>\n",
              "        <div class=\"bar\" style=\"width:69%\" data-toggle=\"tooltip\" data-placement=\"right\" data-html=\"true\"\n",
              "             data-delay=500 title=\"Percentage: 25.8%\">\n",
              "            6068\n",
              "        </div>\n",
              "        \n",
              "    </td>\n",
              "</tr>\n",
              "    </table>\n",
              "</div>\n",
              "<div class=\"col-md-12 text-right\">\n",
              "    <a role=\"button\" data-toggle=\"collapse\" data-target=\"#freqtable7022903966509089952, #minifreqtable7022903966509089952\"\n",
              "       aria-expanded=\"true\" aria-controls=\"collapseExample\">\n",
              "        Toggle details\n",
              "    </a>\n",
              "</div>\n",
              "<div class=\"col-md-12 extrapadding collapse\" id=\"freqtable7022903966509089952\">\n",
              "    \n",
              "<table class=\"freq table table-hover\">\n",
              "    <thead>\n",
              "    <tr>\n",
              "        <td class=\"fillremaining\">Value</td>\n",
              "        <td class=\"number\">Count</td>\n",
              "        <td class=\"number\">Frequency (%)</td>\n",
              "        <td style=\"min-width:200px\">&nbsp;</td>\n",
              "    </tr>\n",
              "    </thead>\n",
              "    <tr class=\"\">\n",
              "        <td class=\"fillremaining\">Rwanda</td>\n",
              "        <td class=\"number\">8735</td>\n",
              "        <td class=\"number\">37.1%</td>\n",
              "        <td>\n",
              "            <div class=\"bar\" style=\"width:100%\">&nbsp;</div>\n",
              "        </td>\n",
              "</tr><tr class=\"\">\n",
              "        <td class=\"fillremaining\">Tanzania</td>\n",
              "        <td class=\"number\">6606</td>\n",
              "        <td class=\"number\">28.1%</td>\n",
              "        <td>\n",
              "            <div class=\"bar\" style=\"width:75%\">&nbsp;</div>\n",
              "        </td>\n",
              "</tr><tr class=\"\">\n",
              "        <td class=\"fillremaining\">Kenya</td>\n",
              "        <td class=\"number\">6068</td>\n",
              "        <td class=\"number\">25.8%</td>\n",
              "        <td>\n",
              "            <div class=\"bar\" style=\"width:69%\">&nbsp;</div>\n",
              "        </td>\n",
              "</tr><tr class=\"\">\n",
              "        <td class=\"fillremaining\">Uganda</td>\n",
              "        <td class=\"number\">2101</td>\n",
              "        <td class=\"number\">8.9%</td>\n",
              "        <td>\n",
              "            <div class=\"bar\" style=\"width:24%\">&nbsp;</div>\n",
              "        </td>\n",
              "</tr><tr class=\"missing\">\n",
              "        <td class=\"fillremaining\">(Missing)</td>\n",
              "        <td class=\"number\">14</td>\n",
              "        <td class=\"number\">0.1%</td>\n",
              "        <td>\n",
              "            <div class=\"bar\" style=\"width:1%\">&nbsp;</div>\n",
              "        </td>\n",
              "</tr>\n",
              "</table>\n",
              "</div>\n",
              "</div><div class=\"row variablerow\">\n",
              "    <div class=\"col-md-3 namecol\">\n",
              "        <p class=\"h4 pp-anchor\" id=\"pp_var_gender_of_respondent\">gender_of_respondent<br/>\n",
              "            <small>Categorical</small>\n",
              "        </p>\n",
              "    </div><div class=\"col-md-3\">\n",
              "    <table class=\"stats \">\n",
              "        <tr class=\"\">\n",
              "            <th>Distinct count</th>\n",
              "            <td>3</td>\n",
              "        </tr>\n",
              "        <tr>\n",
              "            <th>Unique (%)</th>\n",
              "            <td>0.0%</td>\n",
              "        </tr>\n",
              "        <tr class=\"ignore\">\n",
              "            <th>Missing (%)</th>\n",
              "            <td>0.1%</td>\n",
              "        </tr>\n",
              "        <tr class=\"ignore\">\n",
              "            <th>Missing (n)</th>\n",
              "            <td>34</td>\n",
              "        </tr>\n",
              "    </table>\n",
              "</div>\n",
              "<div class=\"col-md-6 collapse in\" id=\"minifreqtable-5893237697360630354\">\n",
              "    <table class=\"mini freq\">\n",
              "        <tr class=\"\">\n",
              "    <th>Female</th>\n",
              "    <td>\n",
              "        <div class=\"bar\" style=\"width:100%\" data-toggle=\"tooltip\" data-placement=\"right\" data-html=\"true\"\n",
              "             data-delay=500 title=\"Percentage: 58.9%\">\n",
              "            13859\n",
              "        </div>\n",
              "        \n",
              "    </td>\n",
              "</tr><tr class=\"\">\n",
              "    <th>Male</th>\n",
              "    <td>\n",
              "        <div class=\"bar\" style=\"width:69%\" data-toggle=\"tooltip\" data-placement=\"right\" data-html=\"true\"\n",
              "             data-delay=500 title=\"Percentage: 40.9%\">\n",
              "            9631\n",
              "        </div>\n",
              "        \n",
              "    </td>\n",
              "</tr><tr class=\"missing\">\n",
              "    <th>(Missing)</th>\n",
              "    <td>\n",
              "        <div class=\"bar\" style=\"width:1%\" data-toggle=\"tooltip\" data-placement=\"right\" data-html=\"true\"\n",
              "             data-delay=500 title=\"Percentage: 0.1%\">\n",
              "            &nbsp;\n",
              "        </div>\n",
              "        34\n",
              "    </td>\n",
              "</tr>\n",
              "    </table>\n",
              "</div>\n",
              "<div class=\"col-md-12 text-right\">\n",
              "    <a role=\"button\" data-toggle=\"collapse\" data-target=\"#freqtable-5893237697360630354, #minifreqtable-5893237697360630354\"\n",
              "       aria-expanded=\"true\" aria-controls=\"collapseExample\">\n",
              "        Toggle details\n",
              "    </a>\n",
              "</div>\n",
              "<div class=\"col-md-12 extrapadding collapse\" id=\"freqtable-5893237697360630354\">\n",
              "    \n",
              "<table class=\"freq table table-hover\">\n",
              "    <thead>\n",
              "    <tr>\n",
              "        <td class=\"fillremaining\">Value</td>\n",
              "        <td class=\"number\">Count</td>\n",
              "        <td class=\"number\">Frequency (%)</td>\n",
              "        <td style=\"min-width:200px\">&nbsp;</td>\n",
              "    </tr>\n",
              "    </thead>\n",
              "    <tr class=\"\">\n",
              "        <td class=\"fillremaining\">Female</td>\n",
              "        <td class=\"number\">13859</td>\n",
              "        <td class=\"number\">58.9%</td>\n",
              "        <td>\n",
              "            <div class=\"bar\" style=\"width:100%\">&nbsp;</div>\n",
              "        </td>\n",
              "</tr><tr class=\"\">\n",
              "        <td class=\"fillremaining\">Male</td>\n",
              "        <td class=\"number\">9631</td>\n",
              "        <td class=\"number\">40.9%</td>\n",
              "        <td>\n",
              "            <div class=\"bar\" style=\"width:69%\">&nbsp;</div>\n",
              "        </td>\n",
              "</tr><tr class=\"missing\">\n",
              "        <td class=\"fillremaining\">(Missing)</td>\n",
              "        <td class=\"number\">34</td>\n",
              "        <td class=\"number\">0.1%</td>\n",
              "        <td>\n",
              "            <div class=\"bar\" style=\"width:1%\">&nbsp;</div>\n",
              "        </td>\n",
              "</tr>\n",
              "</table>\n",
              "</div>\n",
              "</div><div class=\"row variablerow\">\n",
              "    <div class=\"col-md-3 namecol\">\n",
              "        <p class=\"h4 pp-anchor\" id=\"pp_var_household_size\">household_size<br/>\n",
              "            <small>Numeric</small>\n",
              "        </p>\n",
              "    </div><div class=\"col-md-6\">\n",
              "    <div class=\"row\">\n",
              "        <div class=\"col-sm-6\">\n",
              "            <table class=\"stats \">\n",
              "                <tr>\n",
              "                    <th>Distinct count</th>\n",
              "                    <td>22</td>\n",
              "                </tr>\n",
              "                <tr>\n",
              "                    <th>Unique (%)</th>\n",
              "                    <td>0.1%</td>\n",
              "                </tr>\n",
              "                <tr class=\"ignore\">\n",
              "                    <th>Missing (%)</th>\n",
              "                    <td>0.1%</td>\n",
              "                </tr>\n",
              "                <tr class=\"ignore\">\n",
              "                    <th>Missing (n)</th>\n",
              "                    <td>28</td>\n",
              "                </tr>\n",
              "                <tr class=\"ignore\">\n",
              "                    <th>Infinite (%)</th>\n",
              "                    <td>0.0%</td>\n",
              "                </tr>\n",
              "                <tr class=\"ignore\">\n",
              "                    <th>Infinite (n)</th>\n",
              "                    <td>0</td>\n",
              "                </tr>\n",
              "            </table>\n",
              "\n",
              "        </div>\n",
              "        <div class=\"col-sm-6\">\n",
              "            <table class=\"stats \">\n",
              "\n",
              "                <tr>\n",
              "                    <th>Mean</th>\n",
              "                    <td>3.6818</td>\n",
              "                </tr>\n",
              "                <tr>\n",
              "                    <th>Minimum</th>\n",
              "                    <td>0</td>\n",
              "                </tr>\n",
              "                <tr>\n",
              "                    <th>Maximum</th>\n",
              "                    <td>21</td>\n",
              "                </tr>\n",
              "                <tr class=\"ignore\">\n",
              "                    <th>Zeros (%)</th>\n",
              "                    <td>0.2%</td>\n",
              "                </tr>\n",
              "            </table>\n",
              "        </div>\n",
              "    </div>\n",
              "</div>\n",
              "<div class=\"col-md-3 collapse in\" id=\"minihistogram-1154022043818614548\">\n",
              "    <img src=\"data:image/png;base64,iVBORw0KGgoAAAANSUhEUgAAAMgAAABLCAYAAAA1fMjoAAAABHNCSVQICAgIfAhkiAAAAAlwSFlzAAAPYQAAD2EBqD%2BnaQAAADl0RVh0U29mdHdhcmUAbWF0cGxvdGxpYiB2ZXJzaW9uIDMuMC4zLCBodHRwOi8vbWF0cGxvdGxpYi5vcmcvnQurowAAAR9JREFUeJzt3MEJwkAQQFEVS7IIe/JsTxZhT%2Btd5KOBkFXfuwfm8plAhuzHGGMHvHTYegCY2XHrAZ6dLrePn7lfzytMAjYIJIFAEAgEgUAQCASBQBAIBIFAEAgEgUAQCITpbrGWcL/FWmwQCAKBIBAIAoEgEAgCgSAQCAKBIBAIAoHwE6cmSzhP4R02CASBQBAIBIFAEAgEgUAQCASBQBAIBIFAEAgEgUD422PFJT49cHTc%2BP1sEAgCgSAQCAKBIBAIAoEgEAi%2Bg6zIjyG%2Bnw0CwQaZjK0zl/0YY2w9BMzKKxYEgUAQCASBQBAIBIFAEAgEgUAQCASBQBAIBIFAEAgEgUAQCASBQBAIBIFAEAgEgUAQCASBQBAIBIFAEAiEB/cWGpkyyCZpAAAAAElFTkSuQmCC\">\n",
              "\n",
              "</div>\n",
              "<div class=\"col-md-12 text-right\">\n",
              "    <a role=\"button\" data-toggle=\"collapse\" data-target=\"#descriptives-1154022043818614548,#minihistogram-1154022043818614548\"\n",
              "       aria-expanded=\"false\" aria-controls=\"collapseExample\">\n",
              "        Toggle details\n",
              "    </a>\n",
              "</div>\n",
              "<div class=\"row collapse col-md-12\" id=\"descriptives-1154022043818614548\">\n",
              "    <ul class=\"nav nav-tabs\" role=\"tablist\">\n",
              "        <li role=\"presentation\" class=\"active\"><a href=\"#quantiles-1154022043818614548\"\n",
              "                                                  aria-controls=\"quantiles-1154022043818614548\" role=\"tab\"\n",
              "                                                  data-toggle=\"tab\">Statistics</a></li>\n",
              "        <li role=\"presentation\"><a href=\"#histogram-1154022043818614548\" aria-controls=\"histogram-1154022043818614548\"\n",
              "                                   role=\"tab\" data-toggle=\"tab\">Histogram</a></li>\n",
              "        <li role=\"presentation\"><a href=\"#common-1154022043818614548\" aria-controls=\"common-1154022043818614548\"\n",
              "                                   role=\"tab\" data-toggle=\"tab\">Common Values</a></li>\n",
              "        <li role=\"presentation\"><a href=\"#extreme-1154022043818614548\" aria-controls=\"extreme-1154022043818614548\"\n",
              "                                   role=\"tab\" data-toggle=\"tab\">Extreme Values</a></li>\n",
              "\n",
              "    </ul>\n",
              "\n",
              "    <div class=\"tab-content\">\n",
              "        <div role=\"tabpanel\" class=\"tab-pane active row\" id=\"quantiles-1154022043818614548\">\n",
              "            <div class=\"col-md-4 col-md-offset-1\">\n",
              "                <p class=\"h4\">Quantile statistics</p>\n",
              "                <table class=\"stats indent\">\n",
              "                    <tr>\n",
              "                        <th>Minimum</th>\n",
              "                        <td>0</td>\n",
              "                    </tr>\n",
              "                    <tr>\n",
              "                        <th>5-th percentile</th>\n",
              "                        <td>1</td>\n",
              "                    </tr>\n",
              "                    <tr>\n",
              "                        <th>Q1</th>\n",
              "                        <td>2</td>\n",
              "                    </tr>\n",
              "                    <tr>\n",
              "                        <th>Median</th>\n",
              "                        <td>3</td>\n",
              "                    </tr>\n",
              "                    <tr>\n",
              "                        <th>Q3</th>\n",
              "                        <td>5</td>\n",
              "                    </tr>\n",
              "                    <tr>\n",
              "                        <th>95-th percentile</th>\n",
              "                        <td>8</td>\n",
              "                    </tr>\n",
              "                    <tr>\n",
              "                        <th>Maximum</th>\n",
              "                        <td>21</td>\n",
              "                    </tr>\n",
              "                    <tr>\n",
              "                        <th>Range</th>\n",
              "                        <td>21</td>\n",
              "                    </tr>\n",
              "                    <tr>\n",
              "                        <th>Interquartile range</th>\n",
              "                        <td>3</td>\n",
              "                    </tr>\n",
              "                </table>\n",
              "            </div>\n",
              "            <div class=\"col-md-4 col-md-offset-2\">\n",
              "                <p class=\"h4\">Descriptive statistics</p>\n",
              "                <table class=\"stats indent\">\n",
              "                    <tr>\n",
              "                        <th>Standard deviation</th>\n",
              "                        <td>2.2799</td>\n",
              "                    </tr>\n",
              "                    <tr>\n",
              "                        <th>Coef of variation</th>\n",
              "                        <td>0.61924</td>\n",
              "                    </tr>\n",
              "                    <tr>\n",
              "                        <th>Kurtosis</th>\n",
              "                        <td>1.1582</td>\n",
              "                    </tr>\n",
              "                    <tr>\n",
              "                        <th>Mean</th>\n",
              "                        <td>3.6818</td>\n",
              "                    </tr>\n",
              "                    <tr>\n",
              "                        <th>MAD</th>\n",
              "                        <td>1.8567</td>\n",
              "                    </tr>\n",
              "                    <tr class=\"\">\n",
              "                        <th>Skewness</th>\n",
              "                        <td>0.97765</td>\n",
              "                    </tr>\n",
              "                    <tr>\n",
              "                        <th>Sum</th>\n",
              "                        <td>86508</td>\n",
              "                    </tr>\n",
              "                    <tr>\n",
              "                        <th>Variance</th>\n",
              "                        <td>5.1981</td>\n",
              "                    </tr>\n",
              "                    <tr>\n",
              "                        <th>Memory size</th>\n",
              "                        <td>183.9 KiB</td>\n",
              "                    </tr>\n",
              "                </table>\n",
              "            </div>\n",
              "        </div>\n",
              "        <div role=\"tabpanel\" class=\"tab-pane col-md-8 col-md-offset-2\" id=\"histogram-1154022043818614548\">\n",
              "            <img src=\"data:image/png;base64,iVBORw0KGgoAAAANSUhEUgAAAlgAAAGQCAYAAAByNR6YAAAABHNCSVQICAgIfAhkiAAAAAlwSFlzAAAPYQAAD2EBqD%2BnaQAAADl0RVh0U29mdHdhcmUAbWF0cGxvdGxpYiB2ZXJzaW9uIDMuMC4zLCBodHRwOi8vbWF0cGxvdGxpYi5vcmcvnQurowAAIABJREFUeJzt3Xt01PWd//FXkjGJJEwuYMAN2FigSBIaRTFtwISgiMICQsMltkdRQRAkCyQu5aawWkEhUhc8QepqxfasU3JYLpHbz3LxQuoutdLJQL2wuC45QLIwQyCGS5L5/WEZO4RCgA/f74w8H%2Bd4Tv1%2BJ995Tz%2BZk2e%2B36%2BTCL/f7xcAAACMibR7AAAAgO8aAgsAAMAwAgsAAMAwAgsAAMAwAgsAAMAwAgsAAMAwAgsAAMAwAgsAAMAwAgsAAMAwAgsAAMAwAgsAAMAwAgsAAMAwAgsAAMAwAgsAAMAwAgsAAMAwAgsAAMAwAgsAAMAwAgsAAMAwAgsAAMAwAgsAAMAwAgsAAMAwAgsAAMAwAgsAAMAwAgsAAMAwAgsAAMAwAgsAAMAwAgsAAMAwAgsAAMAwAgsAAMAwAgsAAMAwAgsAAMAwAgsAAMAwAgsAAMAwAgsAAMAwAgsAAMAwAgsAAMAwAgsAAMAwAgsAAMAwAgsAAMAwh90DXCtqa48bP2ZkZISSk%2BN09Gi9mpv9xo%2BPK8P6hDbWJ7SxPqEr3Nbmhhva2vK8nMEKY5GREYqIiFBkZITdo%2BA8WJ/QxvqENtYndLE2rUNgAQAAGEZgAQAAGEZgAQAAGEZgAQAAGEZgAQAAGEZgAQAAGEZgAQAAGEZgAQAAGEZgAQAAGEZgAQAAGEZgAQAAGEZgAQAAGEZgAQAAGOawewBcmTtmb7J7hFbbOLWP3SMAAGAJzmABAAAYRmABAAAYRmABAAAYRmABAAAYRmABAAAYRmABAAAYRmABAAAYRmABAAAYRmABAAAYRmABAAAYRmABAAAYRmABAAAYRmABAAAYRmABAAAYRmABAAAYRmABAAAYRmABAAAYRmABAAAYRmABAAAYRmABAAAYRmABAAAYRmABAAAYRmABAAAYRmABAAAYRmABAAAYRmABAAAYRmABAAAYRmABAAAYRmABAAAYRmABAAAYRmABAAAYRmABAAAYRmABAAAYFraBtWfPHj300EO644471KdPH5WUlOjo0aOSpMrKShUUFKhXr14aPHiw1q1bF/S1K1eu1MCBA9WrVy8VFhaqqqoqsO/UqVN6%2BumnlZubq%2BzsbBUVFcnr9Vr62gAAQHgLy8BqbGzU448/rltvvVU7d%2B5URUWFjh49qnnz5qmmpkaTJk3SmDFjVFlZqdmzZ2vu3Llyu92SpK1bt2rp0qV68cUXtXPnTuXn52vixIn6%2BuuvJUlLliyRx%2BORy%2BXS5s2b5ff7NXPmTDtfLgAACDNhGVi1tbWqra3VsGHDFB0draSkJA0YMEB79%2B7V%2BvXrlZaWpoKCAsXExCgnJ0f9%2B/fXqlWrJEkul0sjRoxQVlaWYmNjNW7cOEnStm3b1NjYqPLyck2aNEk33nijEhMTNXXqVG3fvl2HDx%2B28yUDAIAw4rB7gMvRoUMH9ejRQy6XS//0T/%2BkkydPasuWLerXr588Ho/S09ODHp%2Benq6NGzdKkjwejwYNGhTYFxkZqR49esjtdqtHjx46fvy4MjIyAvu7dOmi2NhYeTwedejQoVXz1dTUqLa2Nmibw9FGKSkpl/uSzysqKrz62OEIr3mv1Nn1Cbd1ulawPqGN9QldrE3rhGVgRUZGaunSpRo7dqzefPNNSdKdd96p4uJiTZo0qUUIJSYmBu6j8vl8SkhICNqfkJAgr9crn88nSXI6nUH7nU7nJd2H5XK5tGzZsqBtkydPVlFRUauP8V2UlBRn9wi2cDqvt3sEXADrE9pYn9DF2lxYWAbW6dOnNXHiRN13332B%2B6fmz5%2BvkpKSVn293%2B%2B/ov0XM3r0aPXv3z9om8PRRl5v/RUd91zh9tuD6dcf6qKiIuV0Xq%2B6ugY1NTXbPQ7OwfqENtYndIXb2tj1y31YBlZlZaUOHDig6dOnKyoqSm3btlVRUZGGDRumu%2B66K3Am6iyv16vk5GRJUlJSUov9Pp9P3bp1CzzG5/MpLu7bBTl27JjatWvX6vlSUlJaXA6srT2uxsbQ/0a8mq7V19/U1HzNvvZwwPqENtYndLE2FxZep0D%2BqqmpSc3NzUFnmk6fPi1JysnJCfrYBUmqqqpSVlaWJCkzM1MejyfoWHv27FFWVpY6d%2B6shISEoP2fffaZTp8%2BrczMzKv5kgAAwHdIWAbWbbfdpjZt2mjp0qVqaGiQ1%2BtVWVmZevfurWHDhqm6ulqrVq3SqVOntGPHDu3YsUOjRo2SJBUWFmrNmjX65JNP1NDQoLKyMkVHR6tfv36KiorSqFGjtHz5ch08eFBer1cvvfSSBgwYoPbt29v8qgEAQLgIy0uESUlJ%2Brd/%2Bze98MILys3NVXR0tO68807NmzdP7dq106uvvqrnnntO8%2BfPV2pqqhYtWqRbbrlFkpSbm6vp06dr6tSpOnLkiHr27KkVK1YoNjZWklRUVKT6%2BnoNGzZMjY2Nys/P17x582x8tQAAINxE%2BK/0jm60Sm3tcePHdDgiNWDx%2B8aPe7VsnNrH7hEs5XBEKikpTl5vPfcphCDWJ7SxPqEr3Nbmhhva2vK8YXmJEAAAIJQRWAAAAIYRWAAAAIYRWAAAAIYRWAAAAIYRWAAAAIYRWAAAAIYRWAAAAIYRWAAAAIYRWAAAAIYRWAAAAIYRWAAAAIYRWAAAAIYRWAAAAIYRWAAAAIYRWAAAAIYRWAAAAIYRWAAAAIYRWAAAAIYRWAAAAIYRWAAAAIYRWAAAAIYRWAAAAIYRWAAAAIYRWAAAAIYRWAAAAIYRWAAAAIYRWAAAAIYRWAAAAIYRWAAAAIYRWAAAAIYRWAAAAIYRWAAAAIYRWAAAAIYRWAAAAIY57B4A1477f/mh3SNcko1T%2B9g9AgAgTHEGCwAAwDACCwAAwDACCwAAwDACCwAAwDACCwAAwDACCwAAwDACCwAAwDACCwAAwDACCwAAwDACCwAAwDACCwAAwDACCwAAwDACCwAAwDACCwAAwDACCwAAwDACCwAAwDACCwAAwDACCwAAwDACCwAAwLCwDqyysjL17dtXt956q8aOHasDBw5IkiorK1VQUKBevXpp8ODBWrduXdDXrVy5UgMHDlSvXr1UWFioqqqqwL5Tp07p6aefVm5urrKzs1VUVCSv12vp6wIAAOEtbAPrt7/9rdatW6eVK1fqgw8%2BUNeuXfXrX/9aNTU1mjRpksaMGaPKykrNnj1bc%2BfOldvtliRt3bpVS5cu1YsvvqidO3cqPz9fEydO1Ndffy1JWrJkiTwej1wulzZv3iy/36%2BZM2fa%2BVIBAECYCdvAev311zVt2jR9//vfV3x8vObMmaM5c%2BZo/fr1SktLU0FBgWJiYpSTk6P%2B/ftr1apVkiSXy6URI0YoKytLsbGxGjdunCRp27ZtamxsVHl5uSZNmqQbb7xRiYmJmjp1qrZv367Dhw/b%2BXIBAEAYCcvAOnz4sA4cOKBjx45p0KBBgUt5R48elcfjUXp6etDj09PTA5cBz90fGRmpHj16yO1266uvvtLx48eVkZER2N%2BlSxfFxsbK4/FY8%2BIAAEDYc9g9wOU4dOiQJGnTpk1644035Pf7VVRUpDlz5ujkyZPq0KFD0OMTExMD91H5fD4lJCQE7U9ISJDX65XP55MkOZ3OoP1Op/OS7sOqqalRbW1t0DaHo41SUlJafYzWiIoKyz4OGw7Hlf3/e3Z9WKfQxPqENtYndLE2rROWgeX3%2ByVJ48aNC8TUlClTNH78eOXk5LT66y93/8W4XC4tW7YsaNvkyZNVVFR0RceFtZKS4owcx%2Bm83shxcHWwPqGN9QldrM2FhWVgtW/fXlLwmabU1FT5/X6dOXMmcCbqLK/Xq%2BTkZElSUlJSi/0%2Bn0/dunULPMbn8yku7tsfrseOHVO7du1aPd/o0aPVv3//oG0ORxt5vfWtPkZr8NvD1XWl6xUVFSmn83rV1TWoqanZ0FQwhfUJbaxP6Aq3tTH1y/KlCsvA6tixo%2BLj47V3797A/VLV1dW67rrrlJeXp7Vr1wY9vqqqSllZWZKkzMxMeTweDR8%2BXJLU1NSkPXv2qKCgQJ07d1ZCQoI8Ho9SU1MlSZ999plOnz6tzMzMVs%2BXkpLS4nJgbe1xNTaG/jcivmVqvZqamln7EMb6hDbWJ3SxNhcWlqdAHA6HCgoKtHz5cv3P//yPjhw5oldeeUVDhgzR8OHDVV1drVWrVunUqVPasWOHduzYoVGjRkmSCgsLtWbNGn3yySdqaGhQWVmZoqOj1a9fP0VFRWnUqFFavny5Dh48KK/Xq5deekkDBgwInDUDAAC4mLA8gyVJxcXFOn36tEaOHKkzZ85o4MCBmjNnjuLi4vTqq6/queee0/z585WamqpFixbplltukSTl5uZq%2BvTpmjp1qo4cOaKePXtqxYoVio2NlSQVFRWpvr5ew4YNU2Njo/Lz8zVv3jwbXykAAAg3Ef4rvaMbrVJbe9z4MR2OSA1Y/L7x4%2BIbG6f2uaKvdzgilZQUJ6%2B3ntPoIYj1CW2sT%2BgKt7W54Ya2tjxvWF4iBAAACGWWB1b//v21bNkyHTx40OqnBgAAsITlgfWTn/xEGzZs0D333KNx48Zpy5YtamxstHoMAACAq8bywJo8ebI2bNig3/3ud%2BrWrZuef/555eXladGiRdq/f7/V4wAAABhn2z1YGRkZmjFjhrZt26ZZs2bpd7/7nQYNGqTHHntMf/7zn%2B0aCwAA4IrZFlhnzpzRhg0bNH78eM2YMUMdOnTQzJkz1aNHD40dO1br16%2B3azQAAIArYvnnYO3bt0/l5eVas2aN6uvrNXDgQL355pu6/fbbA4/p3bu35s2bpyFDhlg9HgAAwBWzPLAGDx6sm2%2B%2BWRMmTNADDzygxMTEFo/Jy8vT0aNHrR4NAADACMsDa%2BXKlbrzzjsv%2Brjdu3dbMA0AAIB5lt%2BD1b17d02cOFHvvvtuYNuvf/1rjR8/Xj6fz%2BpxAAAAjLM8sBYsWKDjx4%2Bra9eugW39%2BvVTc3OzFi5caPU4AAAAxll%2BifCDDz7Q%2BvXrlZSUFNiWlpamxYsX6x//8R%2BtHgcAAMA4y89gnTx5UjExMS0HiYxUQ0OD1eMAAAAYZ3lg9e7dWwsXLtSxY8cC2w4fPqz58%2BcHfVQDAABAuLL8EuGsWbP06KOP6sc//rHi4%2BPV3Nys%2Bvp6de7cWW%2B99ZbV4wAAABhneWB17txZ77zzjt577z199dVXioyM1M0336y%2BffsqKirK6nEAAACMszywJCk6Olr33HOPHU8NAABw1VkeWP/7v/%2Br0tJSff755zp58mSL/b///e%2BtHgkAAMAoW%2B7BqqmpUd%2B%2BfdWmTRurnx4AAOCqszywqqqq9Pvf/17JyclWPzUAAIAlLP%2BYhnbt2nHmCgAAfKdZHlgTJkzQsmXL5Pf7rX5qAAAAS1h%2BifC9997Txx9/rNWrV6tTp06KjAxuvLffftvqkQAAAIyyPLDi4%2BOVm5tr9dMCAABYxvLAWrBggdVPCQAAYCnL78GSpP/%2B7//W0qVLNXPmzMC2P/3pT3aMAgAAYJzlgVVZWamhQ4dqy5YtqqiokPTNh48%2B9NBDfMgoAAD4TrA8sJYsWaKnnnpK69evV0REhKRv/j7hwoUL9corr1g9DgAAgHGWB9Znn32mwsJCSQoEliTdd9992rdvn9XjAAAAGGd5YLVt2/a8f4OwpqZG0dHRVo8DAABgnOWB1atXLz3//PM6ceJEYNv%2B/fs1Y8YM/fjHP7Z6HAAAAOMs/5iGmTNn6uGHH1Z2draamprUq1cvNTQ0qFu3blq4cKHV4wAAABhneWB17NhRFRUV2rFjh/bv36/Y2FjdfPPN6tOnT9A9WQAAAOHK8sCSpOuuu0733HOPHU8NAABw1VkeWP3797/gmSo%2BCwsAAIQ7ywNr0KBBQYHV1NSk/fv3y%2B126%2BGHH7Z6HODvuv%2BXH9o9wiXZOLWP3SMAAP7K8sAqKSk57/bNmzfro48%2BsngaAAAA82z5W4Tnc8899%2Bidd96xewwAAIArFjKBtWfPHvn9frvHAAAAuGKWXyIcM2ZMi20NDQ3at2%2Bf7r33XqvHAQAAMM7ywEpLS2vxXxHGxMSooKBAI0eOtHocAAAA4ywPLD6tHQAAfNdZHlhr1qxp9WMfeOCBqzgJAADA1WF5YM2ePVvNzc0tbmiPiIgI2hYREUFgAQCAsGR5YL322mt6/fXXNXHiRHXv3l1%2Bv1%2BffvqpfvWrX%2BlnP/uZsrOzrR4JAADAKFvuwVqxYoU6dOgQ2HbHHXeoc%2BfOeuyxx1RRUWH1SAAAAEZZ/jlYX375pRISElpsdzqdqq6utnocAAAA4ywPrNTUVC1cuFBerzewra6uTqWlpbrpppusHgcAAMA4yy8Rzpo1S8XFxXK5XIqLi1NkZKROnDih2NhYvfLKK1aPAwAAYJzlgdW3b19t375dO3bs0KFDh%2BT3%2B9WhQwfdddddatu2rdXjAAAAGGd5YEnS9ddfr7vvvluHDh1S586d7RgBAADgqrH8HqyTJ09qxowZuu2223T//fdL%2BuYerHHjxqmurs7qcQAAAIyzPLAWLVqkvXv3avHixYqM/Pbpm5qatHjxYqvHAQAAMM7ywNq8ebP%2B9V//Vffdd1/gjz47nU4tWLBAW7ZssXocAAAA4ywPrPr6eqWlpbXYnpycrK%2B//trqcQAAAIyzPLBuuukmffTRR5IU9LcHN23apH/4h3%2BwehwAAADjLA%2BsBx98UFOmTNELL7yg5uZmvfHGGyouLtasWbP08MMPX9Yxn3/%2BeXXv3j3w75WVlSooKFCvXr00ePBgrVu3LujxK1eu1MCBA9WrVy8VFhaqqqoqsO/UqVN6%2BumnlZubq%2BzsbBUVFQV9KCoAAMDFWB5Yo0eP1owZM/SHP/xBUVFRWr58uaqrq7V48WIVFhZe8vH27t2rtWvXBv69pqZGkyZN0pgxY1RZWanZs2dr7ty5crvdkqStW7dq6dKlevHFF7Vz507l5%2Bdr4sSJgcuTS5Yskcfjkcvl0ubNm%2BX3%2BzVz5kwzLx4AAFwTLA%2Bso0eP6ic/%2BYn%2B4z/%2BQ7t379ZHH32kt99%2BW/fdd98lH6u5uVnPPPOMxo4dG9i2fv16paWlqaCgQDExMcrJyVH//v21atUqSZLL5dKIESOUlZWl2NhYjRs3TpK0bds2NTY2qry8XJMmTdKNN96oxMRETZ06Vdu3b9fhw4eNvH4AAPDdZ3lg3X333UH3Xl2Jt99%2BWzExMRoyZEhgm8fjUXp6etDj0tPTA5cBz90fGRmpHj16yO1266uvvtLx48eVkZER2N%2BlSxfFxsbK4/EYmRkAAHz3Wf5J7tnZ2dq4caMGDRp0Rcf5v//7Py1dulRvvfVW0Hafz6cOHToEbUtMTAzcR%2BXz%2BZSQkBC0PyEhQV6vVz6fT9I3Hxvxt5xO5yXdh1VTU6Pa2tqgbQ5HG6WkpLT6GK0RFWV5HyOEORx8P1yKs%2B8f3kehifUJXaxN61geWDfeeKN%2B8YtfaMWKFbrpppt03XXXBe0vLS1t1XEWLFigESNGqGvXrjpw4MAlzXCxM2hXeobN5XJp2bJlQdsmT56soqKiKzoucCFJSXF2jxCWnM7r7R4BF8D6hC7W5sIsD6wvvvhC3//%2B9yXpsv/rvMrKSv3pT39SRUVFi31JSUmBM1Fneb1eJScn/939Pp9P3bp1CzzG5/MpLu7bH1bHjh1Tu3btWj3f6NGj1b9//6BtDkcbeb31rT5Ga/DbA/6W6e%2Bv77qoqEg5nderrq5BTU3Ndo%2BDc7A%2BoSvc1sauXz4tC6xp06ZpyZIlQZf0XnnlFU2ePPmSj7Vu3TodOXJE%2Bfn5kr4945Sdna1HH320RXhVVVUpKytLkpSZmSmPx6Phw4dL%2BuZP9OzZs0cFBQXq3LmzEhIS5PF4lJqaKkn67LPPdPr0aWVmZrZ6vpSUlBaXA2trj6uxMfS/ERG%2B%2BP66PE1Nzfx/F8JYn9DF2lyYZadAtm7d2mLbihUrLutYP//5z7V582atXbtWa9euDRxn7dq1GjJkiKqrq7Vq1SqdOnVKO3bs0I4dOzRq1ChJUmFhodasWaNPPvlEDQ0NKisrU3R0tPr166eoqCiNGjVKy5cv18GDB%2BX1evXSSy9pwIABat%2B%2B/eW/eAAAcE2x7AzW%2Be5rutx7nRISEoJuVG9sbJQkdezYUZL06quv6rnnntP8%2BfOVmpqqRYsW6ZZbbpEk5ebmavr06Zo6daqOHDminj17asWKFYqNjZUkFRUVqb6%2BXsOGDVNjY6Py8/M1b968y5oTAABcmyL8pj4z4SKysrK0e/fui277rqqtPW78mA5HpAYsft/4cRGeNk7tY/cIYcXhiFRSUpy83nouc4Qg1id0hdva3HBDW1uel7ukAQAADCOwAAAADLPsHqwzZ86ouLj4otta%2BzlYAAAAocqywLr99ttVU1Nz0W0AAADhzrLAOvdP2gAAAHxXcQ8WAACAYQQWAACAYQQWAACAYQQWAACAYQQWAACAYQQWAACAYQQWAACAYQQWAACAYQQWAACAYQQWAACAYQQWAACAYQQWAACAYQQWAACAYQQWAACAYQQWAACAYQQWAACAYQQWAACAYQQWAACAYQQWAACAYQQWAACAYQQWAACAYQQWAACAYQQWAACAYQQWAACAYQQWAACAYQQWAACAYQQWAACAYQQWAACAYQQWAACAYQQWAACAYQQWAACAYQQWAACAYQQWAACAYQQWAACAYQQWAACAYQQWAACAYQQWAACAYQQWAACAYQQWAACAYQQWAACAYQQWAACAYQQWAACAYQQWAACAYQQWAACAYQQWAACAYQQWAACAYQQWAACAYQQWAACAYQQWAACAYQQWAACAYQQWAACAYQ67B7hc1dXVev7557Vr1y5FRUUpNzdXs2bNktPp1N69e/WLX/xCe/fuVbt27TRmzBg9%2Buijga/dsGGDysrKdODAAd18882aPn26%2BvbtK0lqbm7Wyy%2B/rIqKCtXV1emHP/yh5s2bp86dO9v1UoFWuf%2BXH9o9QqttnNrH7hEA4KoK2zNYEydOlNPp1NatW7V69Wp9/vnneuGFF3Ty5ElNmDBBP/rRj/T%2B%2B%2B9ryZIlevXVV7VlyxZJ0t69ezVjxgyVlJToD3/4g8aOHasnn3xShw4dkiT99re/1fr167VixQpt27ZNaWlpmjx5svx%2Bv50vFwAAhJGwDKy6ujplZmaquLhYcXFx6tixo4YPH65du3Zp%2B/btOnPmjJ544gm1adNGGRkZGjlypFwulyRp1apVysvLU15enmJiYjR06FD94Ac/0Lp16yRJLpdLY8eOVZcuXRQfH69p06Zp37592r17t50vGQAAhJGwvETodDq1YMGCoG0HDx5USkqKPB6PunfvrqioqMC%2B9PR0rVq1SpLk8XiUl5cX9LXp6elyu906efKkvvjiC6Wnpwf2xcfH63vf%2B57cbrduvfXWVs1XU1Oj2traoG0ORxulpKRc0uu8mKiosOxjQA6H/d%2B7Z98/vI9CE%2BsTulib1gnLwDqX2%2B3Wb37zG5WVlWnjxo1yOp1B%2BxMTE%2BXz%2BdTc3Cyfz6eEhISg/QkJCfriiy907Ngx%2Bf3%2B8%2B73er2tnsflcmnZsmVB2yZPnqyioqJLfGXAd1NSUpzdIwQ4ndfbPQIugPUJXazNhYV9YP3xj3/UE088oeLiYuXk5Gjjxo3nfVxERETgf1/sfqorvd9q9OjR6t%2B/f9A2h6ONvN76KzruufjtAeHK9HvhckRFRcrpvF51dQ1qamq2exycg/UJXeG2Nnb9QhfWgbV161Y99dRTmjt3rh544AFJUnJysr788sugx/l8PiUmJioyMlJJSUny%2BXwt9icnJwcec7797dq1a/VcKSkpLS4H1tYeV2Nj6H8jAlYIpfdCU1NzSM2DYKxP6GJtLixsT4F8/PHHmjFjhl5%2B%2BeVAXElSZmamPv30UzU2Nga2ud1uZWVlBfZXVVUFHevs/piYGHXr1k0ejyewr66uTl999ZV%2B%2BMMfXuVXBAAAvivCMrAaGxs1Z84clZSUBD6/6qy8vDzFx8errKxMDQ0N2r17t8rLy1VYWChJGjVqlHbu3Knt27fr1KlTKi8v15dffqmhQ4dKkgoLC7Vy5Urt27dPJ06c0OLFi9WjRw/17NnT8tcJAADCU4Q/DD/gadeuXfrpT3%2Bq6OjoFvs2bdqk%2Bvp6PfPMM6qqqlL79u01fvx4Pfjgg4HHbNmyRaWlpaqurlbXrl01e/Zs9e7dW9I3918tXbpUb7/9turr65Wdna1/%2BZd/UceOHa9o5tra41f09efjcERqwOL3jR8XuNpC4YNGHY5IJSXFyeut5zJHCGJ9Qle4rc0NN7S15XnDMrDCEYEFfIvAwsWwPqEr3NbGrsAKy0uEAAAAoYzAAgAAMIzAAgAAMIzAAgAAMIzAAgAAMIzAAgAAMIzAAgAAMIzAAgAAMIzAAgAAMIzAAgAAMIzAAgAAMIzAAgAAMIzAAgAAMIzAAgAAMIzAAgAAMIzAAgAAMIzAAgAAMIzAAgAAMIzAAgAAMIzAAgAAMIzAAgAAMIzAAgAAMIzAAgAAMIzAAgAAMIzAAgAAMIzAAgAAMIzAAgAAMIzAAgAAMIzAAgAAMIzAAgAAMIzAAgAAMIzAAgAAMIzAAgAAMIzAAgAAMIzAAgAAMIzAAgAAMIzAAgAAMIzAAgAAMIzAAgAAMIzAAgAAMIzAAgAAMIzAAgAAMMxh9wAArj33//JDu0e4JBun9rF7BABhhjNYAAAAhhFYAAAAhhFYAAAAhhFYAAAAhhFYAAAAhhFYAAAAhhFYAAAAhhFYAAAAhhFYAAAAhhFYAAAAhhFYAAAAhhFYAAAAhhFYAAAAhjnsHiAUVVdXa/78%2Bdq9e7fatGmjQYMGqbi4WJGR9ChwLbr/lx/aPcIl2Ti1j90jANc8Aus8pkyZooyMDL377rs6cuSIJkyYoPbt2%2BuRRx6xezQAABAGOCWwQebDAAAHlUlEQVRzDrfbrb/85S8qKSlR27ZtlZaWprFjx8rlctk9GgAACBOcwTqHx%2BNRamqqEhISAtsyMjK0f/9%2BnThxQvHx8Rc9Rk1NjWpra4O2ORxtlJKSYnTWqCj6GEBL4XZJM5z8v5K77B7Bdmd/9vAz6MIIrHP4fD45nc6gbWdjy%2Bv1tiqwXC6Xli1bFrTtySef1JQpU8wNqm9C7uGOn2v06NHG4w1XrqamRi6Xi/UJUaxPaGN9QldNTY3efPM11uYiyM/z8Pv9V/T1o0eP1urVq4P%2BGT16tKHpvlVbW6tly5a1OFuG0MD6hDbWJ7SxPqGLtWkdzmCdIzk5WT6fL2ibz%2BdTRESEkpOTW3WMlJQUqh4AgGsYZ7DOkZmZqYMHD%2Bro0aOBbW63W127dlVcXJyNkwEAgHBBYJ0jPT1dPXv2VGlpqU6cOKF9%2B/bpjTfeUGFhod2jAQCAMBE1b968eXYPEWruuusuVVRU6Nlnn9U777yjgoICPfbYY4qIiLB7tBbi4uJ05513cnYtRLE%2BoY31CW2sT%2BhibS4uwn%2Bld3QDAAAgCJcIAQAADCOwAAAADCOwAAAADCOwAAAADCOwAAAADCOwAAAADCOwAAAADCOwAAAADCOwAAAADCOwwlB1dbUef/xxZWdnKz8/X4sWLVJzc7PdY%2BGvunfvrszMTPXs2TPwz7PPPmv3WNe0999/Xzk5OZo2bVqLfRs2bNCQIUN02223acSIEfrggw9smPDa9vfWZ/Xq1brllluC3ks9e/bUn//8Z5smvfZUV1dr8uTJys7OVk5Ojn7%2B85%2Brrq5OkrR371797Gc/0%2B233657771Xr7/%2Bus3ThhaH3QPg0k2ZMkUZGRl69913deTIEU2YMEHt27fXI488Yvdo%2BKtNmzapU6dOdo8BSb/61a9UXl6u733vey327d27VzNmzNCyZcv0ox/9SJs3b9aTTz6pTZs2qWPHjjZMe%2B250PpIUu/evfXWW29ZPBXOmjhxojIzM7V161YdP35ckydP1gsvvKC5c%2BdqwoQJGjVqlFasWKH9%2B/fr0UcfVadOnXTvvffaPXZI4AxWmHG73frLX/6ikpIStW3bVmlpaRo7dqxcLpfdowEhKSYm5u/%2BAF%2B1apXy8vKUl5enmJgYDR06VD/4wQ%2B0bt06Gya9Nl1ofWCvuro6ZWZmqri4WHFxcerYsaOGDx%2BuXbt2afv27Tpz5oyeeOIJtWnTRhkZGRo5ciQ/i/4GgRVmPB6PUlNTlZCQENiWkZGh/fv368SJEzZOhr9VWlqqfv366Y477tDcuXNVX19v90jXrIceekht27Y97z6Px6P09PSgbenp6XK73VaMBl14fSTp4MGDeuSRR9S7d2/dfffdWrt2rYXTXducTqcWLFig9u3bB7YdPHhQKSkp8ng86t69u6KiogL70tPTVVVVZceoIYnACjM%2Bn09OpzNo29nY8nq9doyEc9x6663KycnRli1b5HK59Mknn2j%2B/Pl2j4Xz8Pl8Qb%2BsSN%2B8n3gvhYbk5GSlpaXpqaee0ocffqjp06dr1qxZqqystHu0a5Lb7dZvfvMbPfHEE%2Bf9WZSYmCifz8c9wX9FYIUhv99v9wi4AJfLpZEjRyo6OlpdunRRSUmJKioqdPr0abtHw3nwfgpd/fr102uvvab09HRFR0dr8ODBGjBggFavXm33aNecP/7xj3rsscdUXFysnJycv/u4iIgIC6cKbQRWmElOTpbP5wva5vP5FBERoeTkZJumwoV06tRJTU1NOnLkiN2j4BxJSUnnfT/xXgpdqampqqmpsXuMa8rWrVv1%2BOOPa9asWXrooYckffOz6NwzvT6fT4mJiYqMJC0kAivsZGZm6uDBgzp69Ghgm9vtVteuXRUXF2fjZJCkPXv2aOHChUHb9u3bp%2BjoaKWkpNg0Ff6ezMzMFveMuN1uZWVl2TQR/ta///u/a8OGDUHb9u3bp86dO9s00bXn448/1owZM/Tyyy/rgQceCGzPzMzUp59%2BqsbGxsA23jvBCKwwk56erp49e6q0tFQnTpzQvn379MYbb6iwsNDu0SCpXbt2crlcWrFihU6fPq39%2B/fr5Zdf1ujRo4NuBkVoGDVqlHbu3Knt27fr1KlTKi8v15dffqmhQ4faPRoknT59Ws8%2B%2B6zcbrfOnDmjiooKvffeexozZozdo10TGhsbNWfOHJWUlKhv375B%2B/Ly8hQfH6%2BysjI1NDRo9%2B7dKi8v52fR34jwcwNC2Dl06JDmzp2r//zP/1R8fLzGjBmjJ598kmvfIeK//uu/VFpaqk8//VTR0dEaPny4pk2bppiYGLtHuyb17NlTkgK/aTsc33z839n/UnDLli0qLS1VdXW1unbtqtmzZ6t37972DHsNutD6%2BP1%2BlZWVqby8XLW1terUqZP%2B%2BZ//Wfn5%2BbbNey3ZtWuXfvrTnyo6OrrFvk2bNqm%2Bvl7PPPOMqqqq1L59e40fP14PPvigDZOGJgILAADAMC4RAgAAGEZgAQAAGEZgAQAAGEZgAQAAGEZgAQAAGEZgAQAAGEZgAQAAGEZgAQAAGEZgAQAAGEZgAQAAGEZgAQAAGEZgAQAAGEZgAQAAGPb/AdJ6osetaa8nAAAAAElFTkSuQmCC\"/>\n",
              "        </div>\n",
              "        <div role=\"tabpanel\" class=\"tab-pane col-md-12\" id=\"common-1154022043818614548\">\n",
              "            \n",
              "<table class=\"freq table table-hover\">\n",
              "    <thead>\n",
              "    <tr>\n",
              "        <td class=\"fillremaining\">Value</td>\n",
              "        <td class=\"number\">Count</td>\n",
              "        <td class=\"number\">Frequency (%)</td>\n",
              "        <td style=\"min-width:200px\">&nbsp;</td>\n",
              "    </tr>\n",
              "    </thead>\n",
              "    <tr class=\"\">\n",
              "        <td class=\"fillremaining\">2.0</td>\n",
              "        <td class=\"number\">5132</td>\n",
              "        <td class=\"number\">21.8%</td>\n",
              "        <td>\n",
              "            <div class=\"bar\" style=\"width:100%\">&nbsp;</div>\n",
              "        </td>\n",
              "</tr><tr class=\"\">\n",
              "        <td class=\"fillremaining\">1.0</td>\n",
              "        <td class=\"number\">3967</td>\n",
              "        <td class=\"number\">16.9%</td>\n",
              "        <td>\n",
              "            <div class=\"bar\" style=\"width:77%\">&nbsp;</div>\n",
              "        </td>\n",
              "</tr><tr class=\"\">\n",
              "        <td class=\"fillremaining\">3.0</td>\n",
              "        <td class=\"number\">3535</td>\n",
              "        <td class=\"number\">15.0%</td>\n",
              "        <td>\n",
              "            <div class=\"bar\" style=\"width:69%\">&nbsp;</div>\n",
              "        </td>\n",
              "</tr><tr class=\"\">\n",
              "        <td class=\"fillremaining\">4.0</td>\n",
              "        <td class=\"number\">3211</td>\n",
              "        <td class=\"number\">13.6%</td>\n",
              "        <td>\n",
              "            <div class=\"bar\" style=\"width:62%\">&nbsp;</div>\n",
              "        </td>\n",
              "</tr><tr class=\"\">\n",
              "        <td class=\"fillremaining\">5.0</td>\n",
              "        <td class=\"number\">2727</td>\n",
              "        <td class=\"number\">11.6%</td>\n",
              "        <td>\n",
              "            <div class=\"bar\" style=\"width:53%\">&nbsp;</div>\n",
              "        </td>\n",
              "</tr><tr class=\"\">\n",
              "        <td class=\"fillremaining\">6.0</td>\n",
              "        <td class=\"number\">2031</td>\n",
              "        <td class=\"number\">8.6%</td>\n",
              "        <td>\n",
              "            <div class=\"bar\" style=\"width:40%\">&nbsp;</div>\n",
              "        </td>\n",
              "</tr><tr class=\"\">\n",
              "        <td class=\"fillremaining\">7.0</td>\n",
              "        <td class=\"number\">1383</td>\n",
              "        <td class=\"number\">5.9%</td>\n",
              "        <td>\n",
              "            <div class=\"bar\" style=\"width:27%\">&nbsp;</div>\n",
              "        </td>\n",
              "</tr><tr class=\"\">\n",
              "        <td class=\"fillremaining\">8.0</td>\n",
              "        <td class=\"number\">741</td>\n",
              "        <td class=\"number\">3.1%</td>\n",
              "        <td>\n",
              "            <div class=\"bar\" style=\"width:15%\">&nbsp;</div>\n",
              "        </td>\n",
              "</tr><tr class=\"\">\n",
              "        <td class=\"fillremaining\">9.0</td>\n",
              "        <td class=\"number\">356</td>\n",
              "        <td class=\"number\">1.5%</td>\n",
              "        <td>\n",
              "            <div class=\"bar\" style=\"width:7%\">&nbsp;</div>\n",
              "        </td>\n",
              "</tr><tr class=\"\">\n",
              "        <td class=\"fillremaining\">10.0</td>\n",
              "        <td class=\"number\">192</td>\n",
              "        <td class=\"number\">0.8%</td>\n",
              "        <td>\n",
              "            <div class=\"bar\" style=\"width:4%\">&nbsp;</div>\n",
              "        </td>\n",
              "</tr><tr class=\"other\">\n",
              "        <td class=\"fillremaining\">Other values (11)</td>\n",
              "        <td class=\"number\">221</td>\n",
              "        <td class=\"number\">0.9%</td>\n",
              "        <td>\n",
              "            <div class=\"bar\" style=\"width:5%\">&nbsp;</div>\n",
              "        </td>\n",
              "</tr>\n",
              "</table>\n",
              "        </div>\n",
              "        <div role=\"tabpanel\" class=\"tab-pane col-md-12\"  id=\"extreme-1154022043818614548\">\n",
              "            <p class=\"h4\">Minimum 5 values</p>\n",
              "            \n",
              "<table class=\"freq table table-hover\">\n",
              "    <thead>\n",
              "    <tr>\n",
              "        <td class=\"fillremaining\">Value</td>\n",
              "        <td class=\"number\">Count</td>\n",
              "        <td class=\"number\">Frequency (%)</td>\n",
              "        <td style=\"min-width:200px\">&nbsp;</td>\n",
              "    </tr>\n",
              "    </thead>\n",
              "    <tr class=\"\">\n",
              "        <td class=\"fillremaining\">0.0</td>\n",
              "        <td class=\"number\">36</td>\n",
              "        <td class=\"number\">0.2%</td>\n",
              "        <td>\n",
              "            <div class=\"bar\" style=\"width:1%\">&nbsp;</div>\n",
              "        </td>\n",
              "</tr><tr class=\"\">\n",
              "        <td class=\"fillremaining\">1.0</td>\n",
              "        <td class=\"number\">3967</td>\n",
              "        <td class=\"number\">16.9%</td>\n",
              "        <td>\n",
              "            <div class=\"bar\" style=\"width:77%\">&nbsp;</div>\n",
              "        </td>\n",
              "</tr><tr class=\"\">\n",
              "        <td class=\"fillremaining\">2.0</td>\n",
              "        <td class=\"number\">5132</td>\n",
              "        <td class=\"number\">21.8%</td>\n",
              "        <td>\n",
              "            <div class=\"bar\" style=\"width:100%\">&nbsp;</div>\n",
              "        </td>\n",
              "</tr><tr class=\"\">\n",
              "        <td class=\"fillremaining\">3.0</td>\n",
              "        <td class=\"number\">3535</td>\n",
              "        <td class=\"number\">15.0%</td>\n",
              "        <td>\n",
              "            <div class=\"bar\" style=\"width:69%\">&nbsp;</div>\n",
              "        </td>\n",
              "</tr><tr class=\"\">\n",
              "        <td class=\"fillremaining\">4.0</td>\n",
              "        <td class=\"number\">3211</td>\n",
              "        <td class=\"number\">13.6%</td>\n",
              "        <td>\n",
              "            <div class=\"bar\" style=\"width:62%\">&nbsp;</div>\n",
              "        </td>\n",
              "</tr>\n",
              "</table>\n",
              "            <p class=\"h4\">Maximum 5 values</p>\n",
              "            \n",
              "<table class=\"freq table table-hover\">\n",
              "    <thead>\n",
              "    <tr>\n",
              "        <td class=\"fillremaining\">Value</td>\n",
              "        <td class=\"number\">Count</td>\n",
              "        <td class=\"number\">Frequency (%)</td>\n",
              "        <td style=\"min-width:200px\">&nbsp;</td>\n",
              "    </tr>\n",
              "    </thead>\n",
              "    <tr class=\"\">\n",
              "        <td class=\"fillremaining\">16.0</td>\n",
              "        <td class=\"number\">4</td>\n",
              "        <td class=\"number\">0.0%</td>\n",
              "        <td>\n",
              "            <div class=\"bar\" style=\"width:100%\">&nbsp;</div>\n",
              "        </td>\n",
              "</tr><tr class=\"\">\n",
              "        <td class=\"fillremaining\">17.0</td>\n",
              "        <td class=\"number\">1</td>\n",
              "        <td class=\"number\">0.0%</td>\n",
              "        <td>\n",
              "            <div class=\"bar\" style=\"width:25%\">&nbsp;</div>\n",
              "        </td>\n",
              "</tr><tr class=\"\">\n",
              "        <td class=\"fillremaining\">18.0</td>\n",
              "        <td class=\"number\">1</td>\n",
              "        <td class=\"number\">0.0%</td>\n",
              "        <td>\n",
              "            <div class=\"bar\" style=\"width:25%\">&nbsp;</div>\n",
              "        </td>\n",
              "</tr><tr class=\"\">\n",
              "        <td class=\"fillremaining\">20.0</td>\n",
              "        <td class=\"number\">1</td>\n",
              "        <td class=\"number\">0.0%</td>\n",
              "        <td>\n",
              "            <div class=\"bar\" style=\"width:25%\">&nbsp;</div>\n",
              "        </td>\n",
              "</tr><tr class=\"\">\n",
              "        <td class=\"fillremaining\">21.0</td>\n",
              "        <td class=\"number\">1</td>\n",
              "        <td class=\"number\">0.0%</td>\n",
              "        <td>\n",
              "            <div class=\"bar\" style=\"width:25%\">&nbsp;</div>\n",
              "        </td>\n",
              "</tr>\n",
              "</table>\n",
              "        </div>\n",
              "    </div>\n",
              "</div>\n",
              "</div><div class=\"row variablerow\">\n",
              "    <div class=\"col-md-3 namecol\">\n",
              "        <p class=\"h4 pp-anchor\" id=\"pp_var_marital_status\">marital_status<br/>\n",
              "            <small>Categorical</small>\n",
              "        </p>\n",
              "    </div><div class=\"col-md-3\">\n",
              "    <table class=\"stats \">\n",
              "        <tr class=\"\">\n",
              "            <th>Distinct count</th>\n",
              "            <td>6</td>\n",
              "        </tr>\n",
              "        <tr>\n",
              "            <th>Unique (%)</th>\n",
              "            <td>0.0%</td>\n",
              "        </tr>\n",
              "        <tr class=\"ignore\">\n",
              "            <th>Missing (%)</th>\n",
              "            <td>0.1%</td>\n",
              "        </tr>\n",
              "        <tr class=\"ignore\">\n",
              "            <th>Missing (n)</th>\n",
              "            <td>32</td>\n",
              "        </tr>\n",
              "    </table>\n",
              "</div>\n",
              "<div class=\"col-md-6 collapse in\" id=\"minifreqtable-3101531687163558323\">\n",
              "    <table class=\"mini freq\">\n",
              "        <tr class=\"\">\n",
              "    <th>Married/Living together</th>\n",
              "    <td>\n",
              "        <div class=\"bar\" style=\"width:100%\" data-toggle=\"tooltip\" data-placement=\"right\" data-html=\"true\"\n",
              "             data-delay=500 title=\"Percentage: 45.7%\">\n",
              "            10739\n",
              "        </div>\n",
              "        \n",
              "    </td>\n",
              "</tr><tr class=\"\">\n",
              "    <th>Single/Never Married</th>\n",
              "    <td>\n",
              "        <div class=\"bar\" style=\"width:74%\" data-toggle=\"tooltip\" data-placement=\"right\" data-html=\"true\"\n",
              "             data-delay=500 title=\"Percentage: 33.9%\">\n",
              "            7971\n",
              "        </div>\n",
              "        \n",
              "    </td>\n",
              "</tr><tr class=\"\">\n",
              "    <th>Widowed</th>\n",
              "    <td>\n",
              "        <div class=\"bar\" style=\"width:25%\" data-toggle=\"tooltip\" data-placement=\"right\" data-html=\"true\"\n",
              "             data-delay=500 title=\"Percentage: 11.5%\">\n",
              "            2702\n",
              "        </div>\n",
              "        \n",
              "    </td>\n",
              "</tr><tr class=\"other\">\n",
              "    <th>Other values (2)</th>\n",
              "    <td>\n",
              "        <div class=\"bar\" style=\"width:20%\" data-toggle=\"tooltip\" data-placement=\"right\" data-html=\"true\"\n",
              "             data-delay=500 title=\"Percentage: 8.8%\">\n",
              "            &nbsp;\n",
              "        </div>\n",
              "        2080\n",
              "    </td>\n",
              "</tr>\n",
              "    </table>\n",
              "</div>\n",
              "<div class=\"col-md-12 text-right\">\n",
              "    <a role=\"button\" data-toggle=\"collapse\" data-target=\"#freqtable-3101531687163558323, #minifreqtable-3101531687163558323\"\n",
              "       aria-expanded=\"true\" aria-controls=\"collapseExample\">\n",
              "        Toggle details\n",
              "    </a>\n",
              "</div>\n",
              "<div class=\"col-md-12 extrapadding collapse\" id=\"freqtable-3101531687163558323\">\n",
              "    \n",
              "<table class=\"freq table table-hover\">\n",
              "    <thead>\n",
              "    <tr>\n",
              "        <td class=\"fillremaining\">Value</td>\n",
              "        <td class=\"number\">Count</td>\n",
              "        <td class=\"number\">Frequency (%)</td>\n",
              "        <td style=\"min-width:200px\">&nbsp;</td>\n",
              "    </tr>\n",
              "    </thead>\n",
              "    <tr class=\"\">\n",
              "        <td class=\"fillremaining\">Married/Living together</td>\n",
              "        <td class=\"number\">10739</td>\n",
              "        <td class=\"number\">45.7%</td>\n",
              "        <td>\n",
              "            <div class=\"bar\" style=\"width:100%\">&nbsp;</div>\n",
              "        </td>\n",
              "</tr><tr class=\"\">\n",
              "        <td class=\"fillremaining\">Single/Never Married</td>\n",
              "        <td class=\"number\">7971</td>\n",
              "        <td class=\"number\">33.9%</td>\n",
              "        <td>\n",
              "            <div class=\"bar\" style=\"width:74%\">&nbsp;</div>\n",
              "        </td>\n",
              "</tr><tr class=\"\">\n",
              "        <td class=\"fillremaining\">Widowed</td>\n",
              "        <td class=\"number\">2702</td>\n",
              "        <td class=\"number\">11.5%</td>\n",
              "        <td>\n",
              "            <div class=\"bar\" style=\"width:25%\">&nbsp;</div>\n",
              "        </td>\n",
              "</tr><tr class=\"\">\n",
              "        <td class=\"fillremaining\">Divorced/Seperated</td>\n",
              "        <td class=\"number\">2072</td>\n",
              "        <td class=\"number\">8.8%</td>\n",
              "        <td>\n",
              "            <div class=\"bar\" style=\"width:20%\">&nbsp;</div>\n",
              "        </td>\n",
              "</tr><tr class=\"\">\n",
              "        <td class=\"fillremaining\">Dont know</td>\n",
              "        <td class=\"number\">8</td>\n",
              "        <td class=\"number\">0.0%</td>\n",
              "        <td>\n",
              "            <div class=\"bar\" style=\"width:1%\">&nbsp;</div>\n",
              "        </td>\n",
              "</tr><tr class=\"missing\">\n",
              "        <td class=\"fillremaining\">(Missing)</td>\n",
              "        <td class=\"number\">32</td>\n",
              "        <td class=\"number\">0.1%</td>\n",
              "        <td>\n",
              "            <div class=\"bar\" style=\"width:1%\">&nbsp;</div>\n",
              "        </td>\n",
              "</tr>\n",
              "</table>\n",
              "</div>\n",
              "</div><div class=\"row variablerow\">\n",
              "    <div class=\"col-md-3 namecol\">\n",
              "        <p class=\"h4 pp-anchor\" id=\"pp_var_uniqueid\">uniqueid<br/>\n",
              "            <small>Categorical</small>\n",
              "        </p>\n",
              "    </div><div class=\"col-md-3\">\n",
              "    <table class=\"stats \">\n",
              "        <tr class=\"alert\">\n",
              "            <th>Distinct count</th>\n",
              "            <td>8735</td>\n",
              "        </tr>\n",
              "        <tr>\n",
              "            <th>Unique (%)</th>\n",
              "            <td>37.1%</td>\n",
              "        </tr>\n",
              "        <tr class=\"ignore\">\n",
              "            <th>Missing (%)</th>\n",
              "            <td>0.0%</td>\n",
              "        </tr>\n",
              "        <tr class=\"ignore\">\n",
              "            <th>Missing (n)</th>\n",
              "            <td>0</td>\n",
              "        </tr>\n",
              "    </table>\n",
              "</div>\n",
              "<div class=\"col-md-6 collapse in\" id=\"minifreqtable8951757871393605556\">\n",
              "    <table class=\"mini freq\">\n",
              "        <tr class=\"\">\n",
              "    <th>uniqueid_766</th>\n",
              "    <td>\n",
              "        <div class=\"bar\" style=\"width:1%\" data-toggle=\"tooltip\" data-placement=\"right\" data-html=\"true\"\n",
              "             data-delay=500 title=\"Percentage: 0.0%\">\n",
              "            &nbsp;\n",
              "        </div>\n",
              "        4\n",
              "    </td>\n",
              "</tr><tr class=\"\">\n",
              "    <th>uniqueid_1080</th>\n",
              "    <td>\n",
              "        <div class=\"bar\" style=\"width:1%\" data-toggle=\"tooltip\" data-placement=\"right\" data-html=\"true\"\n",
              "             data-delay=500 title=\"Percentage: 0.0%\">\n",
              "            &nbsp;\n",
              "        </div>\n",
              "        4\n",
              "    </td>\n",
              "</tr><tr class=\"\">\n",
              "    <th>uniqueid_1871</th>\n",
              "    <td>\n",
              "        <div class=\"bar\" style=\"width:1%\" data-toggle=\"tooltip\" data-placement=\"right\" data-html=\"true\"\n",
              "             data-delay=500 title=\"Percentage: 0.0%\">\n",
              "            &nbsp;\n",
              "        </div>\n",
              "        4\n",
              "    </td>\n",
              "</tr><tr class=\"other\">\n",
              "    <th>Other values (8732)</th>\n",
              "    <td>\n",
              "        <div class=\"bar\" style=\"width:100%\" data-toggle=\"tooltip\" data-placement=\"right\" data-html=\"true\"\n",
              "             data-delay=500 title=\"Percentage: 99.9%\">\n",
              "            23512\n",
              "        </div>\n",
              "        \n",
              "    </td>\n",
              "</tr>\n",
              "    </table>\n",
              "</div>\n",
              "<div class=\"col-md-12 text-right\">\n",
              "    <a role=\"button\" data-toggle=\"collapse\" data-target=\"#freqtable8951757871393605556, #minifreqtable8951757871393605556\"\n",
              "       aria-expanded=\"true\" aria-controls=\"collapseExample\">\n",
              "        Toggle details\n",
              "    </a>\n",
              "</div>\n",
              "<div class=\"col-md-12 extrapadding collapse\" id=\"freqtable8951757871393605556\">\n",
              "    \n",
              "<table class=\"freq table table-hover\">\n",
              "    <thead>\n",
              "    <tr>\n",
              "        <td class=\"fillremaining\">Value</td>\n",
              "        <td class=\"number\">Count</td>\n",
              "        <td class=\"number\">Frequency (%)</td>\n",
              "        <td style=\"min-width:200px\">&nbsp;</td>\n",
              "    </tr>\n",
              "    </thead>\n",
              "    <tr class=\"\">\n",
              "        <td class=\"fillremaining\">uniqueid_766</td>\n",
              "        <td class=\"number\">4</td>\n",
              "        <td class=\"number\">0.0%</td>\n",
              "        <td>\n",
              "            <div class=\"bar\" style=\"width:1%\">&nbsp;</div>\n",
              "        </td>\n",
              "</tr><tr class=\"\">\n",
              "        <td class=\"fillremaining\">uniqueid_1080</td>\n",
              "        <td class=\"number\">4</td>\n",
              "        <td class=\"number\">0.0%</td>\n",
              "        <td>\n",
              "            <div class=\"bar\" style=\"width:1%\">&nbsp;</div>\n",
              "        </td>\n",
              "</tr><tr class=\"\">\n",
              "        <td class=\"fillremaining\">uniqueid_1871</td>\n",
              "        <td class=\"number\">4</td>\n",
              "        <td class=\"number\">0.0%</td>\n",
              "        <td>\n",
              "            <div class=\"bar\" style=\"width:1%\">&nbsp;</div>\n",
              "        </td>\n",
              "</tr><tr class=\"\">\n",
              "        <td class=\"fillremaining\">uniqueid_665</td>\n",
              "        <td class=\"number\">4</td>\n",
              "        <td class=\"number\">0.0%</td>\n",
              "        <td>\n",
              "            <div class=\"bar\" style=\"width:1%\">&nbsp;</div>\n",
              "        </td>\n",
              "</tr><tr class=\"\">\n",
              "        <td class=\"fillremaining\">uniqueid_1157</td>\n",
              "        <td class=\"number\">4</td>\n",
              "        <td class=\"number\">0.0%</td>\n",
              "        <td>\n",
              "            <div class=\"bar\" style=\"width:1%\">&nbsp;</div>\n",
              "        </td>\n",
              "</tr><tr class=\"\">\n",
              "        <td class=\"fillremaining\">uniqueid_1382</td>\n",
              "        <td class=\"number\">4</td>\n",
              "        <td class=\"number\">0.0%</td>\n",
              "        <td>\n",
              "            <div class=\"bar\" style=\"width:1%\">&nbsp;</div>\n",
              "        </td>\n",
              "</tr><tr class=\"\">\n",
              "        <td class=\"fillremaining\">uniqueid_1776</td>\n",
              "        <td class=\"number\">4</td>\n",
              "        <td class=\"number\">0.0%</td>\n",
              "        <td>\n",
              "            <div class=\"bar\" style=\"width:1%\">&nbsp;</div>\n",
              "        </td>\n",
              "</tr><tr class=\"\">\n",
              "        <td class=\"fillremaining\">uniqueid_498</td>\n",
              "        <td class=\"number\">4</td>\n",
              "        <td class=\"number\">0.0%</td>\n",
              "        <td>\n",
              "            <div class=\"bar\" style=\"width:1%\">&nbsp;</div>\n",
              "        </td>\n",
              "</tr><tr class=\"\">\n",
              "        <td class=\"fillremaining\">uniqueid_234</td>\n",
              "        <td class=\"number\">4</td>\n",
              "        <td class=\"number\">0.0%</td>\n",
              "        <td>\n",
              "            <div class=\"bar\" style=\"width:1%\">&nbsp;</div>\n",
              "        </td>\n",
              "</tr><tr class=\"\">\n",
              "        <td class=\"fillremaining\">uniqueid_860</td>\n",
              "        <td class=\"number\">4</td>\n",
              "        <td class=\"number\">0.0%</td>\n",
              "        <td>\n",
              "            <div class=\"bar\" style=\"width:1%\">&nbsp;</div>\n",
              "        </td>\n",
              "</tr><tr class=\"other\">\n",
              "        <td class=\"fillremaining\">Other values (8725)</td>\n",
              "        <td class=\"number\">23484</td>\n",
              "        <td class=\"number\">99.8%</td>\n",
              "        <td>\n",
              "            <div class=\"bar\" style=\"width:100%\">&nbsp;</div>\n",
              "        </td>\n",
              "</tr>\n",
              "</table>\n",
              "</div>\n",
              "</div><div class=\"row variablerow\">\n",
              "    <div class=\"col-md-3 namecol\">\n",
              "        <p class=\"h4 pp-anchor\" id=\"pp_var_year\">year<br/>\n",
              "            <small>Numeric</small>\n",
              "        </p>\n",
              "    </div><div class=\"col-md-6\">\n",
              "    <div class=\"row\">\n",
              "        <div class=\"col-sm-6\">\n",
              "            <table class=\"stats \">\n",
              "                <tr>\n",
              "                    <th>Distinct count</th>\n",
              "                    <td>6</td>\n",
              "                </tr>\n",
              "                <tr>\n",
              "                    <th>Unique (%)</th>\n",
              "                    <td>0.0%</td>\n",
              "                </tr>\n",
              "                <tr class=\"ignore\">\n",
              "                    <th>Missing (%)</th>\n",
              "                    <td>0.0%</td>\n",
              "                </tr>\n",
              "                <tr class=\"ignore\">\n",
              "                    <th>Missing (n)</th>\n",
              "                    <td>0</td>\n",
              "                </tr>\n",
              "                <tr class=\"ignore\">\n",
              "                    <th>Infinite (%)</th>\n",
              "                    <td>0.0%</td>\n",
              "                </tr>\n",
              "                <tr class=\"ignore\">\n",
              "                    <th>Infinite (n)</th>\n",
              "                    <td>0</td>\n",
              "                </tr>\n",
              "            </table>\n",
              "\n",
              "        </div>\n",
              "        <div class=\"col-sm-6\">\n",
              "            <table class=\"stats \">\n",
              "\n",
              "                <tr>\n",
              "                    <th>Mean</th>\n",
              "                    <td>2017</td>\n",
              "                </tr>\n",
              "                <tr>\n",
              "                    <th>Minimum</th>\n",
              "                    <td>2016</td>\n",
              "                </tr>\n",
              "                <tr>\n",
              "                    <th>Maximum</th>\n",
              "                    <td>2056</td>\n",
              "                </tr>\n",
              "                <tr class=\"ignore\">\n",
              "                    <th>Zeros (%)</th>\n",
              "                    <td>0.0%</td>\n",
              "                </tr>\n",
              "            </table>\n",
              "        </div>\n",
              "    </div>\n",
              "</div>\n",
              "<div class=\"col-md-3 collapse in\" id=\"minihistogram4037506400331194042\">\n",
              "    <img src=\"data:image/png;base64,iVBORw0KGgoAAAANSUhEUgAAAMgAAABLCAYAAAA1fMjoAAAABHNCSVQICAgIfAhkiAAAAAlwSFlzAAAPYQAAD2EBqD%2BnaQAAADl0RVh0U29mdHdhcmUAbWF0cGxvdGxpYiB2ZXJzaW9uIDMuMC4zLCBodHRwOi8vbWF0cGxvdGxpYi5vcmcvnQurowAAAPtJREFUeJzt1bEJAlEQRVFXLGmLsCdje7IIexpzkQsbyN/gnHzgJZfZZmYuwE/X1QPgzG6rB3zbH6/DN%2B/n/Q9LwAeBJBAIAoEgEAgCgSAQCAKBIBAIAoEgEAgCgSAQCAKBIBAIAoEgEAgCgSAQCAKBIBAIAoEgEAgCgSAQCAKBIBAIAoEgEAgCgSAQCAKBIBAIAoEgEAgCgSAQCAKBIBAIAoEgEAgCgSAQCAKBIBAIAoEgEAjbzMzqEXBWPggEgUAQCASBQBAIBIFAEAgEgUAQCASBQBAIBIFAEAgEgUAQCASBQBAIBIFAEAgEgUAQCASBQBAIBIFAEAiED9obC49m6JdFAAAAAElFTkSuQmCC\">\n",
              "\n",
              "</div>\n",
              "<div class=\"col-md-12 text-right\">\n",
              "    <a role=\"button\" data-toggle=\"collapse\" data-target=\"#descriptives4037506400331194042,#minihistogram4037506400331194042\"\n",
              "       aria-expanded=\"false\" aria-controls=\"collapseExample\">\n",
              "        Toggle details\n",
              "    </a>\n",
              "</div>\n",
              "<div class=\"row collapse col-md-12\" id=\"descriptives4037506400331194042\">\n",
              "    <ul class=\"nav nav-tabs\" role=\"tablist\">\n",
              "        <li role=\"presentation\" class=\"active\"><a href=\"#quantiles4037506400331194042\"\n",
              "                                                  aria-controls=\"quantiles4037506400331194042\" role=\"tab\"\n",
              "                                                  data-toggle=\"tab\">Statistics</a></li>\n",
              "        <li role=\"presentation\"><a href=\"#histogram4037506400331194042\" aria-controls=\"histogram4037506400331194042\"\n",
              "                                   role=\"tab\" data-toggle=\"tab\">Histogram</a></li>\n",
              "        <li role=\"presentation\"><a href=\"#common4037506400331194042\" aria-controls=\"common4037506400331194042\"\n",
              "                                   role=\"tab\" data-toggle=\"tab\">Common Values</a></li>\n",
              "        <li role=\"presentation\"><a href=\"#extreme4037506400331194042\" aria-controls=\"extreme4037506400331194042\"\n",
              "                                   role=\"tab\" data-toggle=\"tab\">Extreme Values</a></li>\n",
              "\n",
              "    </ul>\n",
              "\n",
              "    <div class=\"tab-content\">\n",
              "        <div role=\"tabpanel\" class=\"tab-pane active row\" id=\"quantiles4037506400331194042\">\n",
              "            <div class=\"col-md-4 col-md-offset-1\">\n",
              "                <p class=\"h4\">Quantile statistics</p>\n",
              "                <table class=\"stats indent\">\n",
              "                    <tr>\n",
              "                        <th>Minimum</th>\n",
              "                        <td>2016</td>\n",
              "                    </tr>\n",
              "                    <tr>\n",
              "                        <th>5-th percentile</th>\n",
              "                        <td>2016</td>\n",
              "                    </tr>\n",
              "                    <tr>\n",
              "                        <th>Q1</th>\n",
              "                        <td>2016</td>\n",
              "                    </tr>\n",
              "                    <tr>\n",
              "                        <th>Median</th>\n",
              "                        <td>2017</td>\n",
              "                    </tr>\n",
              "                    <tr>\n",
              "                        <th>Q3</th>\n",
              "                        <td>2018</td>\n",
              "                    </tr>\n",
              "                    <tr>\n",
              "                        <th>95-th percentile</th>\n",
              "                        <td>2018</td>\n",
              "                    </tr>\n",
              "                    <tr>\n",
              "                        <th>Maximum</th>\n",
              "                        <td>2056</td>\n",
              "                    </tr>\n",
              "                    <tr>\n",
              "                        <th>Range</th>\n",
              "                        <td>40</td>\n",
              "                    </tr>\n",
              "                    <tr>\n",
              "                        <th>Interquartile range</th>\n",
              "                        <td>2</td>\n",
              "                    </tr>\n",
              "                </table>\n",
              "            </div>\n",
              "            <div class=\"col-md-4 col-md-offset-2\">\n",
              "                <p class=\"h4\">Descriptive statistics</p>\n",
              "                <table class=\"stats indent\">\n",
              "                    <tr>\n",
              "                        <th>Standard deviation</th>\n",
              "                        <td>0.89967</td>\n",
              "                    </tr>\n",
              "                    <tr>\n",
              "                        <th>Coef of variation</th>\n",
              "                        <td>0.00044605</td>\n",
              "                    </tr>\n",
              "                    <tr>\n",
              "                        <th>Kurtosis</th>\n",
              "                        <td>165.2</td>\n",
              "                    </tr>\n",
              "                    <tr>\n",
              "                        <th>Mean</th>\n",
              "                        <td>2017</td>\n",
              "                    </tr>\n",
              "                    <tr>\n",
              "                        <th>MAD</th>\n",
              "                        <td>0.72697</td>\n",
              "                    </tr>\n",
              "                    <tr class=\"\">\n",
              "                        <th>Skewness</th>\n",
              "                        <td>4.2228</td>\n",
              "                    </tr>\n",
              "                    <tr>\n",
              "                        <th>Sum</th>\n",
              "                        <td>47447414</td>\n",
              "                    </tr>\n",
              "                    <tr>\n",
              "                        <th>Variance</th>\n",
              "                        <td>0.8094</td>\n",
              "                    </tr>\n",
              "                    <tr>\n",
              "                        <th>Memory size</th>\n",
              "                        <td>183.9 KiB</td>\n",
              "                    </tr>\n",
              "                </table>\n",
              "            </div>\n",
              "        </div>\n",
              "        <div role=\"tabpanel\" class=\"tab-pane col-md-8 col-md-offset-2\" id=\"histogram4037506400331194042\">\n",
              "            <img src=\"data:image/png;base64,iVBORw0KGgoAAAANSUhEUgAAAlgAAAGQCAYAAAByNR6YAAAABHNCSVQICAgIfAhkiAAAAAlwSFlzAAAPYQAAD2EBqD%2BnaQAAADl0RVh0U29mdHdhcmUAbWF0cGxvdGxpYiB2ZXJzaW9uIDMuMC4zLCBodHRwOi8vbWF0cGxvdGxpYi5vcmcvnQurowAAIABJREFUeJzt3XlwFVWix/FfFghLyHKBgA8QkCWSBYYlRjNoWBQQFJE9PnRQdBCiDBEUhOERURbL8KICg0THmWFUzBB4KouIyOIyOiUu8SaCSoSC4oGJkmtISCBLvz8s7ptrgFzkhNzbfj9VKWb6dPfpHydF/ezu3ARYlmUJAAAAxgQ29AUAAADYDQULAADAMAoWAACAYRQsAAAAwyhYAAAAhlGwAAAADKNgAQAAGEbBAgAAMIyCBQAAYBgFCwAAwDAKFgAAgGEULAAAAMMoWAAAAIZRsAAAAAyjYAEAABhGwQIAADCMggUAAGAYBQsAAMAwChYAAIBhFCwAAADDKFgAAACGUbAAAAAMo2ABAAAYRsECAAAwjIIFAABgGAULAADAMAoWAACAYRQsAAAAwyhYAAAAhlGwAAAADKNgAQAAGEbBAgAAMIyCBQAAYBgFCwAAwDAKFgAAgGEULAAAAMMoWAAAAIZRsAAAAAyjYAEAABgW3NAX8GtRVHTSq/0CAwPkcDTXiRNlqqmx6vmqLh%2B75pLI5o/smkuybza75pLsm81XcrVu3aJB5uUOlo8JDAxQQECAAgMDGvpSjLJrLols/siuuST7ZrNrLsm%2B2eyay1sULAAAAMMoWAAAAIZRsAAAAAyjYAEAABhGwQIAADCMggUAAGAYBQsAAMAwChYAAIBhFCwAAADDKFgAAACGUbAAAAAMo2ABAAAYRsECAAAwLLihLwCX5uanP2joS/Da3sXDGvoSAAC4LLiDBQAAYBgFCwAAwDAKFgAAgGEULAAAAMMoWAAAAIZRsAAAAAyjYAEAABhGwQIAADCMggUAAGAYBQsAAMAwChYAAIBhFCwAAADDKFgAAACGUbAAAAAMo2ABAAAYRsECAAAwjIIFAABgGAULAADAMAoWAACAYRQsAAAAwyhYAAAAhlGwAAAADKNgAQAAGEbBAgAAMIyCBQAAYBgFCwAAwDAKFgAAgGEULAAAAMMoWAAAAIZRsAAAAAyjYAEAABhGwQIAADCMggUAAGAYBQsAAMAwChYAAIBhFCwAAADDKFgAAACGUbAAAAAMo2ABAAAYRsECAAAwzGcL1tGjR5WamqrExEQlJSVp7ty5KikpkSTt27dPkyZNUt%2B%2BfTVkyBC9%2BOKLHsdu3bpVt956q3r37q3Ro0fr/fffd4/V1NQoMzNTgwcPVkJCgqZMmaIjR464x10ul2bOnKmkpCT1799f8%2BfPV0VFxeUJDQAAbMFnC9b999%2BvsLAw7dy5Uxs3btQ333yjJ598UhUVFZo6daquvfZavffee8rMzNSaNWu0fft2ST%2BVrzlz5mj27Nn66KOPNHnyZD3wwAM6fvy4JOnll1/Wpk2blJWVpV27dqlTp05KTU2VZVmSpAULFqi8vFybN2/Whg0bVFBQoIyMjAb7ewAAAP7HJwtWSUmJ4uLiNGvWLDVv3lxt27bV7bffrr1792r37t2qrKzUtGnT1KxZM8XGxmrcuHHKzs6WJK1fv17JyclKTk5WSEiIRo4cqe7du%2BuNN96QJGVnZ2vy5Mnq0qWLQkNDlZaWpoKCAuXm5ur777/Xjh07lJaWJofDoTZt2mj69OnasGGDKisrG/KvBAAA%2BBGfLFhhYWFaunSpWrVq5d527NgxRUVFKT8/X9HR0QoKCnKPxcTEKC8vT5KUn5%2BvmJgYj/PFxMTI6XSqoqJCBw4c8BgPDQ1Vx44d5XQ6tW/fPgUFBSk6Oto9Hhsbq1OnTunbb7%2Btr7gAAMBmghv6ArzhdDr10ksvafXq1XrzzTcVFhbmMR4RESGXy6Wamhq5XC6Fh4d7jIeHh%2BvAgQP68ccfZVnWOceLi4sVERGh0NBQBQQEeIxJUnFxsdfXW1hYqKKiIo9twcHNFBUVVeexQUGBHn/ajR1z2XnN7JrNrrkk%2B2azay7JvtnsmstbPl%2BwPvnkE02bNk2zZs1SUlKS3nzzzXPu9%2B%2Bl6Oz7VOdzofG6jvVGdna2Vq5c6bEtNTVVM2bM8PocYWFNL/k6fJFdc0lk80d2zSXZN5tdc0n2zWbXXHXx6YK1c%2BdOPfzww1qwYIFGjRolSXI4HDp06JDHfi6XSxEREQoMDFRkZKRcLletcYfD4d7nXOMtW7aUw%2BFQaWmpqqur3Y8gz%2B7bsmVLr697woQJGjRokMe24OBmKi4uq/PYoKBAhYU1VUlJuaqra7ye01/YMZed18yu2eyaS7JvNrvmkuybzVdyRUY2b5B5fbZgffrpp5ozZ46eeeYZ9e/f3709Li5O69atU1VVlYKDf7p8p9OpXr16ucfPvo91ltPp1IgRIxQSEqJu3bopPz9f11xzjaSfXqg/fPiwevbsqXbt2smyLO3fv1%2BxsbHuY8PCwtS5c2evrz0qKqrW48CiopOqqvL%2BG6y6uuai9vcXds0lkc0f2TWXZN9sds0l2TebXXPVxScfjFZVVemPf/yjZs%2Be7VGuJCk5OVmhoaFavXq1ysvLlZubq5ycHKWkpEiSxo8fr3/%2B85/avXu3Tp8%2BrZycHB06dEgjR46UJKWkpGjt2rUqKChQaWmpMjIy1KNHD8XHx8vhcGjo0KF6%2BumndeLECR0/flyrVq3S2LFj3WUOAACgLj7ZGj7//HMVFBToiSee0BNPPOExtm3bNj333HNauHChsrKy1KpVK6WlpWnAgAGSpO7duysjI0NLly7V0aNH1bVrV61Zs0atW7eWJE2cOFFFRUW68847VVZWpsTERI/3pRYtWqSFCxdq8ODBatSokW655RalpaVdtuwAAMD/BVgm3upGnYqKTnq1X3BwoCIjm6u4uMyrW6o3P/3BpV7aZbN38TCvc/mTi10zf2LXbHbNJdk3m11zSfbN5iu5Wrdu0SDz%2BuQjQgAAAH9GwQIAADCMggUAAGAYBQsAAMAwChYAAIBhFCwAAADDKFgAAACGUbAAAAAMo2ABAAAYRsECAAAwjIIFAABgGAULAADAMAoWAACAYRQsAAAAwyhYAAAAhlGwAAAADKNgAQAAGEbBAgAAMIyCBQAAYBgFCwAAwDAKFgAAgGEULAAAAMMoWAAAAIZRsAAAAAyjYAEAABhGwQIAADCMggUAAGAYBQsAAMAwChYAAIBhFCwAAADDKFgAAACGUbAAAAAMo2ABAAAYRsECAAAwjIIFAABgGAULAADAMAoWAACAYRQsAAAAwyhYAAAAhlGwAAAADKNgAQAAGEbBAgAAMIyCBQAAYBgFCwAAwDAKFgAAgGEULAAAAMMoWAAAAIZRsAAAAAyjYAEAABhGwQIAADCMggUAAGAYBQsAAMAwChYAAIBhFCwAAADDfLpgvffee0pKSlJaWprH9o0bN%2Brqq69WfHy8x9cXX3whSaqpqVFmZqYGDx6shIQETZkyRUeOHHEf73K5NHPmTCUlJal///6aP3%2B%2BKioq3OP79u3TpEmT1LdvXw0ZMkQvvvji5QkMAABswWcL1vPPP68nnnhCHTt2POd4QkKCnE6nx1fPnj0lSS%2B//LI2bdqkrKws7dq1S506dVJqaqosy5IkLViwQOXl5dq8ebM2bNiggoICZWRkSJIqKio0depUXXvttXrvvfeUmZmpNWvWaPv27ZcnOAAA8Hs%2BW7BCQkKUk5Nz3oJ1IdnZ2Zo8ebK6dOmi0NBQpaWlqaCgQLm5ufr%2B%2B%2B%2B1Y8cOpaWlyeFwqE2bNpo%2Bfbo2bNigyspK7d69W5WVlZo2bZqaNWum2NhYjRs3TtnZ2fWQEgAA2JHPFqy77rpLLVq0OO/4sWPHdPfddyshIUGDBw/W66%2B/LumnO1AHDhxQTEyMe9/Q0FB17NhRTqdT%2B/btU1BQkKKjo93jsbGxOnXqlL799lvl5%2BcrOjpaQUFB7vGYmBjl5eXVQ0oAAGBHwQ19Ab%2BEw%2BFQp06d9NBDD6lr1656%2B%2B239cgjjygqKkpXXXWVLMtSeHi4xzHh4eEqLi5WRESEQkNDFRAQ4DEmScXFxXK5XAoLC/M4NiIiQi6XSzU1NQoMrLuTFhYWqqioyGNbcHAzRUVF1XlsUFCgx592Y8dcdl4zu2azay7Jvtnsmkuybza75vKWXxasAQMGaMCAAe7/P2LECL399tvauHGjZs%2BeLUnu963O5UJj5/Pvhawu2dnZWrlypce21NRUzZgxw%2BtzhIU19Xpff2LXXBLZ/JFdc0n2zWbXXJJ9s9k1V12MF6xBgwZp9OjRGjNmjK644grTpz%2Bvdu3aKS8vTxEREQoMDJTL5fIYd7lcatmypRwOh0pLS1VdXe1%2BDHh237Pjhw4dqnXs2fN6Y8KECRo0aJDHtuDgZiouLqvz2KCgQIWFNVVJSbmqq2u8ms%2Bf2DGXndfMrtnsmkuybza75pLsm81XckVGNm%2BQeY0XrDFjxmjLli1avXq1rrvuOo0fP16DBg1ScLC5qdatW6fw8HANHz7cva2goEAdOnRQSEiIunXrpvz8fF1zzTWSpJKSEh0%2BfFg9e/ZUu3btZFmW9u/fr9jYWEmS0%2BlUWFiYOnfurLi4OK1bt05VVVXua3Y6nerVq5fX1xcVFVXrcWBR0UlVVXn/DVZdXXNR%2B/sLu%2BaSyOaP7JpLsm82u%2BaS7JvNrrnqYvzBaGpqqrZu3ap//OMf6tatm5YsWaLk5GQ99dRTOnjwoJE5zpw5o8cff1xOp1OVlZXavHmz3n33XU2cOFGSlJKSorVr16qgoEClpaXKyMhQjx49FB8fL4fDoaFDh%2Brpp5/WiRMndPz4ca1atUpjx45VcHCwkpOTFRoaqtWrV6u8vFy5ubnKyclRSkqKkWsHAAD2F2D9kheSLoJlWdq6davS09NVWlqqpKQk/eEPf3B/ZtX5xMfHS5KqqqokyeNukmVZWr16tXJyclRUVKT27dvrkUce0cCBA91zrlixQq%2B%2B%2BqrKysqUmJioRYsWqW3btpKkkydPauHChdq1a5caNWqkW265RXPnzlXjxo0lSV9//bUWLlyovLw8tWrVSvfdd5/uuOOOS/p7KCo66dV%2BwcGBioxsruLiMq8a/81Pf3BJ13U57V08zOtc/uRi18yf2DWbXXNJ9s1m11ySfbP5Sq7Wrc//iQT1qd4KVmVlpfvF848%2B%2BkidOnXS%2BPHjVVhYqFdeeUWPPfaYbr311vqY2idRsChY/siu2eyaS7JvNrvmkuybzVdyNVTBMv4OVkFBgXJycvTaa6%2BprKxMQ4cO1d/%2B9jf17dvXvU9CQoLS09N/VQULAAD8ehgvWCNGjFDnzp01depUjRo1ShEREbX2SU5O1okTJ0xPDQAA4BOMF6y1a9e6f3rvQnJzc01PDQAA4BOM/xRhdHS07r//fu3YscO97a9//avuu%2B%2B%2BWp9NBQAAYEfGC9bSpUt18uRJde3a1b1twIABqqmp0bJly0xPBwAA4HOMPyJ8//33tWnTJkVGRrq3derUSRkZGbrllltMTwcAAOBzjN/BqqioUEhISO2JAgNVXl5uejoAAACfY7xgJSQkaNmyZfrxxx/d27777js99thjHh/VAAAAYFfGHxHOmzdP99xzj6677jqFhoaqpqZGZWVl6tChg/7%2B97%2Bbng4AAMDnGC9YHTp00JYtW/Tuu%2B/q8OHDCgwMVOfOndW/f38FBQWZng4AAMDnGC9YktS4cWPdeOON9XFqAAAAn2e8YB05ckTLly/XN998o4qKilrj77zzjukpAQAAfEq9vINVWFio/v37q1mzZqZPDwAA4POMF6y8vDy98847cjgcpk8NAADgF4x/TEPLli25cwUAAH7VjBesqVOnauXKlbIsy/SpAQAA/ILxR4TvvvuuPv30U23cuFHt27dXYKBnh3v11VdNTwkAAOBTjBes0NBQ3XDDDaZPCwAA4DeMF6ylS5eaPiUAAIBfMf4OliR9%2B%2B23WrFihR599FH3ts8%2B%2B6w%2BpgIAAPA5xgvWhx9%2BqJEjR2r79u3avHmzpJ8%2BfPSuu%2B7iQ0YBAMCvgvGClZmZqYcfflibNm1SQECApJ9%2BP%2BGyZcu0atUq09MBAAD4HOMF6%2Buvv1ZKSookuQuWJA0bNkwFBQWmpwMAAPA5xgtWixYtzvk7CAsLC9W4cWPT0wEAAPgc4wWrT58%2BWrJkiUpLS93bDh48qDlz5ui6664zPR0AAIDPMf4xDY8%2B%2Bqh%2B97vfKTExUdXV1erTp4/Ky8vVrVs3LVu2zPR0AAAAPsd4wWrbtq02b96sPXv26ODBg2rSpIk6d%2B6s3/72tx7vZAEAANiV8YIlSY0aNdKNN95YH6cGAADwecYL1qBBgy54p4rPwgIAAHZnvGANHz7co2BVV1fr4MGDcjqd%2Bt3vfmd6OgAAAJ9jvGDNnj37nNvfeust/etf/zI9HQAAgM%2Bpl99FeC433nijtmzZcrmmAwAAaDCXrWB9%2BeWXsizrck0HAADQYIw/Ipw4cWKtbeXl5SooKNCQIUNMTwcAAOBzjBesTp061fopwpCQEI0dO1bjxo0zPR0AAIDPMV6w%2BLR2AADwa2e8YL322mte7ztq1CjT0wMAADQ44wVr/vz5qqmpqfVCe0BAgMe2gIAAChYAALAl4wXrhRde0Isvvqj7779f0dHRsixLX331lZ5//nlNmjRJiYmJpqcEAADwKfXyDlZWVpbatGnj3tavXz916NBBU6ZM0ebNm01PCQAA4FOMfw7WoUOHFB4eXmt7WFiYjh49ano6AAAAn2O8YLVr107Lli1TcXGxe1tJSYmWL1%2BuK6%2B80vR0AAAAPsf4I8J58%2BZp1qxZys7OVvPmzRUYGKjS0lI1adJEq1atMj0dAACAzzFesPr376/du3drz549On78uCzLUps2bXT99derRYsWpqcDAADwOcYLliQ1bdpUgwcP1vHjx9WhQ4f6mAIAAMBnGX8Hq6KiQnPmzFHv3r118803S/rpHax7771XJSUlpqcDAADwOcYL1lNPPaV9%2B/YpIyNDgYH/f/rq6mplZGSYng4AAMDnGC9Yb731lp599lkNGzbM/Uufw8LCtHTpUm3fvt30dAAAAD7HeMEqKytTp06dam13OBw6deqU6ekAAAB8jvGCdeWVV%2Bpf//qXJHn87sFt27bpP/7jP0xPBwAA4HOM/xThHXfcoQcffFBjxoxRTU2N/vKXvygvL09vvfWW5s%2Bfb3o6AAAAn2O8YE2YMEHBwcF66aWXFBQUpOeee06dO3dWRkaGhg0bZno6AAAAn2O8YJ04cUJjxozRmDFjTJ8aAADALxh/B2vw4MEe714BAAD82hgvWImJiXrzzTeNnOu9995TUlKS0tLSao1t3bpVt956q3r37q3Ro0fr/fffd4/V1NQoMzNTgwcPVkJCgqZMmaIjR464x10ul2bOnKmkpCT1799f8%2BfPV0VFhXt83759mjRpkvr27ashQ4boxRdfNJIHAAD8Ohh/RHjFFVdo8eLFysrK0pVXXqlGjRp5jC9fvtyr8zz//PPKyclRx44da43t27dPc%2BbM0cqVK3Xttdfqrbfe0gMPPKBt27apbdu2evnll7Vp0yY9//zzatOmjTIzM5WamqrXX39dAQEBWrBggc6cOaPNmzersrJSf/jDH5SRkaE//vGPqqio0NSpUzV%2B/HhlZWXp4MGDuueee9S%2BfXsNGTLEyN8RAACwN%2BN3sA4cOKCrrrpKLVq0UHFxsQoLCz2%2BvBUSEnLegrV%2B/XolJycrOTlZISEhGjlypLp376433nhDkpSdna3JkyerS5cuCg0NVVpamgoKCpSbm6vvv/9eO3bsUFpamhwOh9q0aaPp06drw4YNqqys1O7du1VZWalp06apWbNmio2N1bhx45SdnW3s7wgAANibsTtYaWlpyszM1N///nf3tlWrVik1NfUXne%2Buu%2B4671h%2Bfr6Sk5M9tsXExMjpdKqiokIHDhxQTEyMeyw0NFQdO3aU0%2BnUyZMnFRQUpOjoaPd4bGysTp06pW%2B//Vb5%2BfmKjo5WUFCQx7nXr1/v9bUXFhaqqKjIY1twcDNFRUXVeWxQUKDHn3Zjx1x2XjO7ZrNrLsm%2B2eyaS7JvNrvm8paxgrVz585a27Kysn5xwboQl8ul8PBwj23h4eE6cOCAfvzxR1mWdc7x4uJiRUREKDQ01P1rfM6OSVJxcbFcLpfCwsI8jo2IiJDL5VJNTY3H71c8n%2BzsbK1cudJjW2pqqmbMmOF1xrCwpl7v60/smksimz%2Byay7Jvtnsmkuybza75qqLsYJ1rp8crM%2BfJqzr3Bca/yXX9e%2BFrC4TJkzQoEGDPLYFBzdTcXFZnccGBQUqLKypSkrKVV1dc9HX6evsmMvOa2bXbHbNJdk3m11zSfbN5iu5IiObN8i8xgrWuQrIxZSSixEZGSmXy%2BWxzeVyyeFwKCIiQoGBgeccb9mypRwOh0pLS1VdXe1%2BDHh237Pjhw4dqnXs2fN6IyoqqtbjwKKik6qq8v4brLq65qL29xd2zSWRzR/ZNZdk32x2zSXZN5tdc9XFLx%2BMxsXFKS8vz2Ob0%2BlUr169FBISom7duik/P989VlJSosOHD6tnz57q0aOHLMvS/v37PY4NCwtT586dFRcXp6%2B%2B%2BkpVVVW1zg0AAOANvyxY48eP1z//%2BU/t3r1bp0%2BfVk5Ojg4dOqSRI0dKklJSUrR27VoVFBSotLRUGRkZ6tGjh%2BLj4%2BVwODR06FA9/fTTOnHihI4fP65Vq1Zp7NixCg4OVnJyskJDQ7V69WqVl5crNzdXOTk5SklJaeDUAADAXxh7RFhZWalZs2bVuc3bz8GKj4%2BXJPedpB07dkj66W5S9%2B7dlZGRoaVLl%2Bro0aPq2rWr1qxZo9atW0uSJk6cqKKiIt15550qKytTYmKix0vnixYt0sKFCzV48GA1atRIt9xyi/vDTBs3bqznnntOCxcuVFZWllq1aqW0tDQNGDDg4v9SAADAr1KAZehN9DvvvNOr/f79Yxx%2BTYqKTnq1X3BwoCIjm6u4uMyrZ9Y3P/3BpV7aZbN38TCvc/mTi10zf2LXbHbNJdk3m11zSfbN5iu5Wrdu0SDzGruD9WstTgAAAD/nl%2B9gAQAA%2BDIKFgAAgGEULAAAAMMoWAAAAIZRsAAAAAyjYAEAABhGwQIAADCMggUAAGAYBQsAAMAwChYAAIBhFCwAAADDKFgAAACGUbAAAAAMo2ABAAAYRsECAAAwjIIFAABgGAULAADAMAoWAACAYRQsAAAAwyhYAAAAhlGwAAAADKNgAQAAGEbBAgAAMIyCBQAAYBgFCwAAwDAKFgAAgGEULAAAAMMoWAAAAIZRsAAAAAyjYAEAABhGwQIAADCMggUAAGAYBQsAAMAwChYAAIBhFCwAAADDKFgAAACGUbAAAAAMo2ABAAAYRsECAAAwjIIFAABgGAULAADAMAoWAACAYRQsAAAAwyhYAAAAhlGwAAAADKNgAQAAGEbBAgAAMIyCBQAAYBgFCwAAwDAKFgAAgGEULAAAAMMoWAAAAIZRsAAAAAzz24IVHR2tuLg4xcfHu78ef/xxSdKHH36osWPHqk%2BfPhoxYoTeeOMNj2PXrl2roUOHqk%2BfPkpJSVFeXp577PTp0/qv//ov3XDDDUpMTNSMGTNUXFx8WbMBAAD/FtzQF3Aptm3bpvbt23tsKyws1PTp0zV//nzdeuut%2BuSTTzRt2jR17txZ8fHx2rlzp1asWKEXXnhB0dHRWrt2re6//35t375dzZo1U2ZmpvLz85Wdna2mTZtqwYIFevTRR/Xcc881UEoAAOBv/PYO1vls2rRJnTp10tixYxUSEqKkpCQNGjRI69evlyRlZ2dr9OjR6tWrl5o0aaJ7771XkrRr1y5VVVUpJydH06dP1xVXXKGIiAjNnDlTu3fv1nfffdeQsQAAgB/x6ztYy5cv12effabS0lLdfPPNmjt3rvLz8xUTE%2BOxX0xMjN58801JUn5%2BvoYPH%2B4eCwwMVI8ePeR0OtWjRw%2BdPHlSsbGx7vEuXbqoSZMmys/PV5s2bby6rsLCQhUVFXlsCw5upqioqDqPDQoK9PjTbuyYy85rZtdsds0l2TebXXNJ9s1m11ze8tuC9Zvf/EZJSUl68skndeTIEc2cOVOPPfaYXC5XrSIUERHhfo/K5XIpPDzcYzw8PFzFxcVyuVySpLCwMI/xsLCwi3oPKzs7WytXrvTYlpqaqhkzZnh9jrCwpl7v60/smksimz%2Byay7Jvtnsmkuybza75qqL3xas7Oxs9//u0qWLZs%2BerWnTpqlv3751HmtZ1iWN12XChAkaNGiQx7bg4GYqLi6r89igoECFhTVVSUm5qqtrLuk6fJEdc9l5zeyaza65JPtms2suyb7ZfCVXZGTzBpnXbwvWz7Vv317V1dUKDAx034k6q7i4WA6HQ5IUGRlZa9zlcqlbt27ufVwul5o3//8F%2BfHHH9WyZUuvryUqKqrW48CiopOqqvL%2BG6y6uuai9vcXds0lkc0f2TWXZN9sds0l2TebXXPVxS8fjH755ZdatmyZx7aCggI1btxYycnJHh%2B7IEl5eXnq1auXJCkuLk75%2Bfnuserqan355Zfq1auXOnTooPDwcI/xr7/%2BWmfOnFFcXFw9JgIAAHbilwWrZcuWys7OVlZWls6cOaODBw/qmWee0YQJE3Tbbbfp6NGjWr9%2BvU6fPq09e/Zoz549Gj9%2BvCQpJSVFr732mj7//HOVl5dr9erVaty4sQYMGKCgoCCNHz9ezz33nI4dO6bi4mL993//t2666Sa1atWqgVMDAAB/4ZePCNu0aaOsrCwtX77cXZBuv/12paWlKSQkRGvWrNETTzyhxx57TO3atdNTTz2lq6%2B%2BWpJ0ww036KGHHtLMmTP1ww8/KD4%2BXllZWWrSpIkkacaMGSorK9Ntt92mqqoqDRw4UOnp6Q2YFgAA%2BJsA61Lf6IZXiopOerVfcHCgIiObq7i4zKtn1jc//cGlXtpls3fxMK9z%2BZOLXTN/Ytdsds0l2TebXXNJ9s3mK7lat27RIPP65SNCAAAAX0ZxBPySAAAOAklEQVTBAgAAMIyCBQAAYBgFCwAAwDAKFgAAgGEULAAAAMMoWAAAAIZRsAAAAAyjYAEAABhGwQIAADCMggUAAGAYBQsAAMAwChYAAIBhFCwAAADDKFgAAACGUbAAAAAMo2ABAAAYRsECAAAwjIIFAABgGAULAADAMAoWAACAYRQsAAAAwyhYAAAAhlGwAAAADKNgAQAAGEbBAgAAMIyCBQAAYBgFCwAAwDAKFgAAgGEULAAAAMMoWAAAAIZRsAAAAAyjYAEAABhGwQIAADCMggUAAGAYBQsAAMAwChYAAIBhFCwAAADDKFgAAACGUbAAAAAMo2ABAAAYRsECAAAwjIIFAABgGAULAADAMAoWAACAYRQsAAAAwyhYAAAAhlGwAAAADKNgAQAAGEbBAgAAMIyCBQAAYBgFCwAAwDAKFgAAgGEULAAAAMMoWOdw9OhR/f73v1diYqIGDhyop556SjU1NQ19WQAAwE8EN/QF%2BKIHH3xQsbGx2rFjh3744QdNnTpVrVq10t13393QlwYAAPwAd7B%2Bxul0av/%2B/Zo9e7ZatGihTp06afLkycrOzm7oSwMAAH6CO1g/k5%2Bfr3bt2ik8PNy9LTY2VgcPHlRpaalCQ0PrPEdhYaGKioo8tgUHN1NUVFSdxwYFBXr8aTd2zGXnNbNrNrvmkuybza65JPtms2sub1GwfsblciksLMxj29myVVxc7FXBys7O1sqVKz22PfDAA3rwwQfrPLawsFB/%2B9sLmjBhgleFbO/iYXXu4wsKCwu1YsUKr3P5k4tdM39i12x2zSXZN5tdc0n2zWbXXN76ddbKOliWdUnHT5gwQRs3bvT4mjBhglfHFhUVaeXKlbXugPk7u%2BaSyOaP7JpLsm82u%2BaS7JvNrrm8xR2sn3E4HHK5XB7bXC6XAgIC5HA4vDpHVFTUr7KtAwCAn3AH62fi4uJ07NgxnThxwr3N6XSqa9euat68eQNeGQAA8BcUrJ%2BJiYlRfHy8li9frtLSUhUUFOgvf/mLUlJSGvrSAACAnwhKT09Pb%2BiL8DXXX3%2B9Nm/erMcff1xbtmzR2LFjNWXKFAUEBFyW%2BZs3b65rrrnGdnfM7JpLIps/smsuyb7Z7JpLsm82u%2BbyRoB1qW90AwAAwAOPCAEAAAyjYAEAABhGwQIAADCMggUAAGAYBQsAAMAwChYAAIBhFCwAAADDKFgAAACGUbAAAAAMo2DVo6NHjyo1NVWJiYlKSkrS3LlzVVJSIknat2%2BfJk2apL59%2B2rIkCF68cUXPY6trKzUk08%2Bqauvvlrvvvuux9idd96p2NhYxcfHu79Gjhx52XJJl5Zt%2B/btGjlypHr37q2hQ4fqH//4h8f42rVrNXToUPXp00cpKSnKy8vz%2B1wrVqxQjx49PNYsPj5e33//vV9ke/nllzV06FD95je/0U033aQ///nP7rGamhplZmZq8ODBSkhI0JQpU3TkyBG/zzV37lz37yY9%2B9WvX7/LlutSs51VVlamAQMGaO7cue5t/rxmZ50rlz%2Bv2caNG3X11VfX%2Bjfiiy%2B%2BkOS/a1ZXLl9Ys3pjod7ccsst1ty5c63S0lLr2LFj1ujRo6158%2BZZ5eXl1vXXX2%2BtWLHCKisrs/Ly8qxrrrnGeuuttyzLsqyysjJr7Nix1ty5c63u3btbe/bs8TjvpEmTrA0bNjREJLdfmi03N9eKj4%2B33n77bauystLavXu3FRsba3388ceWZVnWO%2B%2B8Y/Xr18/6/PPPrfLycmvNmjXWb3/7W6usrMyvcz377LPWnDlzLkuG8/ml2d5%2B%2B23rmmuusXJzc63q6mrr448/dme1LMtau3atNXDgQOvAgQPWyZMnrUWLFlm33nqrVVNT49e55syZYz377LOXJcP5/NJs/27p0qVW3759Pb7//HXN6srlz2u2YcMGa9KkSec9r7%2BuWV25fGHN6gt3sOpJSUmJ4uLiNGvWLDVv3lxt27bV7bffrr1792r37t2qrKzUtGnT1KxZM8XGxmrcuHHKzs6WJJ06dUpjxozR0qVLGzjFuV1KNpfLpalTp%2BrGG29UcHCwkpOT1b17d%2B3du1eSlJ2drdGjR6tXr15q0qSJ7r33XknSrl27/DpXQ7uUbFFRUcrMzFTPnj0VGBiofv36qUuXLvrmm28k/bRmkydPVpcuXRQaGqq0tDQVFBQoNzfXr3M1tEvJdtb%2B/fu1efNm3X777R7b/XXN6srV0ExkOx9/X7NfIwpWPQkLC9PSpUvVqlUr97Zjx44pKipK%2Bfn5io6OVlBQkHssJibG/SisVatWmjhx4gXPv3XrVg0fPly9e/fW5MmTdfjw4foJcg6Xku2GG25Qamqqe6yqqkpFRUVq06aNJCk/P18xMTHu8cDAQPXo0UNOp7O%2BY9VrLkn66quvNHHiRPXp00cjRozQ%2B%2B%2B/X%2B%2BZzrqUbD179lRSUpKknx5dv/nmmzpy5IgGDhyoiooKHThwwGPNQkND1bFjR59fswvlOuujjz7SqFGj1Lt3b40dO/ayPq6%2BlGySZFmW0tPTlZaWprCwMPd2f14z6fy5zvLnNTt27JjuvvtuJSQkaPDgwXr99dcl%2Bf%2BanS/XWQ25ZvWJgnWZOJ1OvfTSS5o2bZpcLletfxgiIiLkcrlUU1NT57m6dOmibt266ZVXXtE777wjh8Ohe%2B%2B9V2fOnKmvy7%2BgS8mWkZGhZs2aafjw4ZJ%2BuhMUHh7usU94eLiKi4vrL8B5mMzVtm1bdejQQU8%2B%2BaQ%2B%2BOADjRs3Tvfff7%2B%2B/fbby5Ll535Jtj/96U/q2bOnFi1apGXLlunqq6/Wjz/%2BKMuy/HrNzpVLkjp06KCOHTtqzZo1eu%2B999SvXz/dc889DZJLuvhs2dnZCggI0OjRoz328/c1O18uyb/XzOFwqFOnTnr44Yf1wQcf6KGHHtK8efP04Ycf%2BvWaXSiX5HtrZhIF6zL45JNPNGXKFM2aNcv9X8znEhAQ4NX50tPTNWfOHEVERMjhcGjRokU6evSoPvnkE1OX7LVfms2yLD311FPavHmzVq9erZCQEI%2BxhmY617hx4/Tss8%2BqY8eOatq0qSZPnqwePXrojTfeqNcc5/JLs02fPl25ublavHix5s%2Bfrz179rjH/HnNzpcrNTVVS5YsUZs2bRQaGqqHH35YjRs31o4dO%2Bo1x7lcbLYffvhBzzzzjNLT08/774o/rlldufx5zQYMGKAXXnhBMTExaty4sUaMGKGbbrpJGzdudO/rj2tWVy5fWjPTKFj1bOfOnfr973%2BvefPm6a677pIkORyOWu3c5XIpIiJCgYEXvyShoaEKDw/Xd999Z%2BSavfVLs9XU1Gju3LnauXOn1q1bp6uuusq9b2RkpFwuV63jHQ5HPaf5f/WR61zatWunwsLC%2BglxHpf6/di4cWMNGjRIQ4cO1SuvvOLe51xr1rJly/oN829M5zqXoKAgXXHFFX6xZsuWLdOoUaMUHR1d63z%2BvGYXynUu/rRm53L23wh/XrNzudC/fQ21ZvWBglWPPv30U82ZM0fPPPOMRo0a5d4eFxenr776SlVVVe5tTqdTvXr1qvOcpaWlSk9P9yhTJ06c0IkTJ9ShQwezAS7gUrItWbJE33zzjdatW1frmuPi4pSfn%2B/%2B/9XV1fryyy%2B9%2Brsxob5y/elPf3LfEj%2BroKDAL9YsPT1dGRkZHucKCAhQcHCwQkJC1K1bN481Kykp0eHDh9WzZ896TvST%2BshlWZaWLl2q/fv3u8fOnDmjw4cP%2B8WavfHGG8rJyVFiYqISExP1wgsvaMuWLUpMTPTrNbtQLn9fs3Xr1mnr1q0e5zr7b4Q/r9mFcvnKmtWbhvjRxV%2BDyspK6%2Babb7ZeffXVWmOnT5%2B2Bg4caD377LPWqVOnrM8//9zq16%2BftWvXrlr7nutjGkaNGmU98MADVnFxseVyuawZM2ZYI0eOtKqrq%2BsrjodLybZ3714rISHBKioqOue59%2BzZY/Xt29f67LPPrFOnTlkrVqywkpOTrfLy8vqMZFlW/eZavHixNXToUKugoMCqqKiw/vznP1s9e/a0jh07Vp%2BR3C4l25YtW6zevXtbH330kVVVVWV98sknVt%2B%2Bfa3169dblmVZr7zyijVgwAD3j48vWLDAGjNmjN/nmj59ujVx4kTr%2BPHjVmlpqbV48eLL%2BpEhl5Lt2LFjHl9LliyxZsyY4f5%2B89c1qyuXP6/ZX//6V%2Bvaa6%2B1vvjiC%2BvMmTPWpk2brB49elhOp9OyLP9ds7pyNfSa1acAy/KBh7o2tHfvXv3nf/6nGjduXGts27ZtKisr08KFC5WXl6dWrVrpvvvu0x133CFJeu2117RgwQJJP7X5Ro0aKSAgQLfddpueeOIJ/e///q%2BWLFmijz/%2BWGfOnNF1112nhQsXevzEmq9mmzdvnv7nf/5HwcHBHsclJCS4P5zulVdeUVZWln744QfFx8crPT1d3bt39%2Btcp0%2Bf1vLly7Vt2za5XC517dpVCxYsUO/eves916Vmk376r9Dnn39e33//vdq2bavx48e7P0LDsiytWLFCr776qsrKypSYmKhFixapbdu2fp3L5XLpySef1LvvvqvS0lL17NlT6enp6tKlS73nMpHt361YsUJHjx7VsmXLJPn3mv27n%2Bfy5zWzLEurV69WTk6OioqK1L59ez3yyCPun2r11zWrK1dDr1l9omABAAAYxjtYAAAAhlGwAAAADKNgAQAAGEbBAgAAMIyCBQAAYBgFCwAAwDAKFgAAgGEULAAAAMMoWAAAAIZRsAAAAAyjYAEAABhGwQIAADCMggUAAGDY/wGRNYcwHHmT0AAAAABJRU5ErkJggg%3D%3D\"/>\n",
              "        </div>\n",
              "        <div role=\"tabpanel\" class=\"tab-pane col-md-12\" id=\"common4037506400331194042\">\n",
              "            \n",
              "<table class=\"freq table table-hover\">\n",
              "    <thead>\n",
              "    <tr>\n",
              "        <td class=\"fillremaining\">Value</td>\n",
              "        <td class=\"number\">Count</td>\n",
              "        <td class=\"number\">Frequency (%)</td>\n",
              "        <td style=\"min-width:200px\">&nbsp;</td>\n",
              "    </tr>\n",
              "    </thead>\n",
              "    <tr class=\"\">\n",
              "        <td class=\"fillremaining\">2016</td>\n",
              "        <td class=\"number\">8734</td>\n",
              "        <td class=\"number\">37.1%</td>\n",
              "        <td>\n",
              "            <div class=\"bar\" style=\"width:100%\">&nbsp;</div>\n",
              "        </td>\n",
              "</tr><tr class=\"\">\n",
              "        <td class=\"fillremaining\">2018</td>\n",
              "        <td class=\"number\">8167</td>\n",
              "        <td class=\"number\">34.7%</td>\n",
              "        <td>\n",
              "            <div class=\"bar\" style=\"width:93%\">&nbsp;</div>\n",
              "        </td>\n",
              "</tr><tr class=\"\">\n",
              "        <td class=\"fillremaining\">2017</td>\n",
              "        <td class=\"number\">6620</td>\n",
              "        <td class=\"number\">28.1%</td>\n",
              "        <td>\n",
              "            <div class=\"bar\" style=\"width:76%\">&nbsp;</div>\n",
              "        </td>\n",
              "</tr><tr class=\"\">\n",
              "        <td class=\"fillremaining\">2029</td>\n",
              "        <td class=\"number\">1</td>\n",
              "        <td class=\"number\">0.0%</td>\n",
              "        <td>\n",
              "            <div class=\"bar\" style=\"width:1%\">&nbsp;</div>\n",
              "        </td>\n",
              "</tr><tr class=\"\">\n",
              "        <td class=\"fillremaining\">2056</td>\n",
              "        <td class=\"number\">1</td>\n",
              "        <td class=\"number\">0.0%</td>\n",
              "        <td>\n",
              "            <div class=\"bar\" style=\"width:1%\">&nbsp;</div>\n",
              "        </td>\n",
              "</tr><tr class=\"\">\n",
              "        <td class=\"fillremaining\">2039</td>\n",
              "        <td class=\"number\">1</td>\n",
              "        <td class=\"number\">0.0%</td>\n",
              "        <td>\n",
              "            <div class=\"bar\" style=\"width:1%\">&nbsp;</div>\n",
              "        </td>\n",
              "</tr>\n",
              "</table>\n",
              "        </div>\n",
              "        <div role=\"tabpanel\" class=\"tab-pane col-md-12\"  id=\"extreme4037506400331194042\">\n",
              "            <p class=\"h4\">Minimum 5 values</p>\n",
              "            \n",
              "<table class=\"freq table table-hover\">\n",
              "    <thead>\n",
              "    <tr>\n",
              "        <td class=\"fillremaining\">Value</td>\n",
              "        <td class=\"number\">Count</td>\n",
              "        <td class=\"number\">Frequency (%)</td>\n",
              "        <td style=\"min-width:200px\">&nbsp;</td>\n",
              "    </tr>\n",
              "    </thead>\n",
              "    <tr class=\"\">\n",
              "        <td class=\"fillremaining\">2016</td>\n",
              "        <td class=\"number\">8734</td>\n",
              "        <td class=\"number\">37.1%</td>\n",
              "        <td>\n",
              "            <div class=\"bar\" style=\"width:100%\">&nbsp;</div>\n",
              "        </td>\n",
              "</tr><tr class=\"\">\n",
              "        <td class=\"fillremaining\">2017</td>\n",
              "        <td class=\"number\">6620</td>\n",
              "        <td class=\"number\">28.1%</td>\n",
              "        <td>\n",
              "            <div class=\"bar\" style=\"width:76%\">&nbsp;</div>\n",
              "        </td>\n",
              "</tr><tr class=\"\">\n",
              "        <td class=\"fillremaining\">2018</td>\n",
              "        <td class=\"number\">8167</td>\n",
              "        <td class=\"number\">34.7%</td>\n",
              "        <td>\n",
              "            <div class=\"bar\" style=\"width:93%\">&nbsp;</div>\n",
              "        </td>\n",
              "</tr><tr class=\"\">\n",
              "        <td class=\"fillremaining\">2029</td>\n",
              "        <td class=\"number\">1</td>\n",
              "        <td class=\"number\">0.0%</td>\n",
              "        <td>\n",
              "            <div class=\"bar\" style=\"width:1%\">&nbsp;</div>\n",
              "        </td>\n",
              "</tr><tr class=\"\">\n",
              "        <td class=\"fillremaining\">2039</td>\n",
              "        <td class=\"number\">1</td>\n",
              "        <td class=\"number\">0.0%</td>\n",
              "        <td>\n",
              "            <div class=\"bar\" style=\"width:1%\">&nbsp;</div>\n",
              "        </td>\n",
              "</tr>\n",
              "</table>\n",
              "            <p class=\"h4\">Maximum 5 values</p>\n",
              "            \n",
              "<table class=\"freq table table-hover\">\n",
              "    <thead>\n",
              "    <tr>\n",
              "        <td class=\"fillremaining\">Value</td>\n",
              "        <td class=\"number\">Count</td>\n",
              "        <td class=\"number\">Frequency (%)</td>\n",
              "        <td style=\"min-width:200px\">&nbsp;</td>\n",
              "    </tr>\n",
              "    </thead>\n",
              "    <tr class=\"\">\n",
              "        <td class=\"fillremaining\">2017</td>\n",
              "        <td class=\"number\">6620</td>\n",
              "        <td class=\"number\">28.1%</td>\n",
              "        <td>\n",
              "            <div class=\"bar\" style=\"width:81%\">&nbsp;</div>\n",
              "        </td>\n",
              "</tr><tr class=\"\">\n",
              "        <td class=\"fillremaining\">2018</td>\n",
              "        <td class=\"number\">8167</td>\n",
              "        <td class=\"number\">34.7%</td>\n",
              "        <td>\n",
              "            <div class=\"bar\" style=\"width:100%\">&nbsp;</div>\n",
              "        </td>\n",
              "</tr><tr class=\"\">\n",
              "        <td class=\"fillremaining\">2029</td>\n",
              "        <td class=\"number\">1</td>\n",
              "        <td class=\"number\">0.0%</td>\n",
              "        <td>\n",
              "            <div class=\"bar\" style=\"width:1%\">&nbsp;</div>\n",
              "        </td>\n",
              "</tr><tr class=\"\">\n",
              "        <td class=\"fillremaining\">2039</td>\n",
              "        <td class=\"number\">1</td>\n",
              "        <td class=\"number\">0.0%</td>\n",
              "        <td>\n",
              "            <div class=\"bar\" style=\"width:1%\">&nbsp;</div>\n",
              "        </td>\n",
              "</tr><tr class=\"\">\n",
              "        <td class=\"fillremaining\">2056</td>\n",
              "        <td class=\"number\">1</td>\n",
              "        <td class=\"number\">0.0%</td>\n",
              "        <td>\n",
              "            <div class=\"bar\" style=\"width:1%\">&nbsp;</div>\n",
              "        </td>\n",
              "</tr>\n",
              "</table>\n",
              "        </div>\n",
              "    </div>\n",
              "</div>\n",
              "</div>\n",
              "    <div class=\"row headerrow highlight\">\n",
              "        <h1>Correlations</h1>\n",
              "    </div>\n",
              "    <div class=\"row variablerow\">\n",
              "    <img src=\"data:image/png;base64,iVBORw0KGgoAAAANSUhEUgAAApcAAAJNCAYAAABkyV7YAAAABHNCSVQICAgIfAhkiAAAAAlwSFlzAAAPYQAAD2EBqD%2BnaQAAADl0RVh0U29mdHdhcmUAbWF0cGxvdGxpYiB2ZXJzaW9uIDMuMC4zLCBodHRwOi8vbWF0cGxvdGxpYi5vcmcvnQurowAAIABJREFUeJzs3X18z/X%2Bx/HnvrvCxhj7ssNcJHMxdKaYobApUp1JyUWJUtEYFkcXOHJV6ZBylYsOck45i3Uh6ZQ56ZTU78hi7ZiLESNssi82F7v6/v5wfM/nm8n4fNa%2B8rjfbt%2Bb7f25%2BL6%2B787Z9/V9fi6%2BXk6n0ykAAADAAraKLgAAAAC/HTSXAAAAsAzNJQAAACxDcwkAAADL0FwCAADAMjSXAAAAsAzNJQAAACxDcwkAAADL0FwCAADAMjSXAAAAsIxPRRcAAKVp2rTpJZf5%2BvqqevXqatmypXr16qXu3bvLy8vrV6wOAHApXny3OABPdKG5bN26tUJCQtyWnTt3Tnv37tWPP/4oSeratavmzJkjPz%2B/X71OAIA7mksAHulCczl//nx169at1HVSUlL0xz/%2BUadPn9ajjz6qp59%2B%2BtcsEQBQCs65BHDN6tatm8aMGSNJWrlypc6dO1fBFQEAOOcSwDXtjjvu0NSpU3XmzBn95z//UWRkpNvyzZs366233tJ3330nh8OhwMBANWvWTPfdd5/uueeeUvfpcDi0bNkyff7559q/f78KCgoUFBSk1q1b65FHHlFUVNRF28TExOjQoUNasmSJzp07p9mzZysrK0vLly/XzTffLEnatWuXli5dqi1btujo0aPy8fGR3W5Xu3bt9NBDD5V6numpU6f05ptvasOGDdq/f78KCwtVq1YttWnTRoMHD1arVq3c1j948KBiY2MlSdu3b1dmZqZef/11paamyuFwyG63KzY2VomJiapSpcpVzTkA/BKSSwDXtOrVq7t%2BPnnypNuy2bNna/DgwVq/fr0CAwMVFRWl4OBgbd68WWPHjtXo0aNVXFzstk1OTo569%2B6thQsXau/evWrRooXat28vPz8/ffbZZxo0aJCSk5MvWc/evXuVmJgoX19ftW/fXpUqVZIk/d///Z/uu%2B8%2Bvffeezp37pxuvvlmRUZGKi8vT%2B%2B8844eeOABbd682W1fhw4d0r333qu5c%2Bdqz549atasmdq3by%2Bn06m1a9fqgQce0OrVqy9Zy9atWzVgwAClp6erWbNmatSokQ4dOqQVK1YoISGhzHMMAFfECQAeKDw83BkeHu5cv379L66XmZnpWnf79u2u8U8//dQZHh7ubNu2rfObb75x2%2Bb//u//nB06dHCGh4c7ly1b5rZs2rRpzvDwcGf37t2dx44dc40XFRU5p0%2Bf7gwPD3fefPPNzry8PLftunbt6gwPD3fGxMQ4X3/99Yvq7NOnjzM8PNz50ksvOYuLi932O3v2bGd4eLjz7rvvdttmwIABzvDwcGfv3r2dR48edY0XFxc7586d6wwPD3e2bNnSuXfvXteyrKws13x06dLFuXjxYmdJSYlr%2BXvvvedavmPHjl%2BaWgC4KiSXAK5pn376qSQpKChIzZs3d42//vrrkqSnn35a7dq1c9umbdu2GjdunCTpzTffdFtmt9t11113acSIEapZs6Zr3NvbW4mJibLZbDp16pS%2B%2B%2B67UuspKSnRE088cdH4jh07JEm9e/eWzfa/P73e3t4aOXKkRo4cqYEDB6qgoECStG3bNm3ZskWS9PLLL8tut7u2sdlsGjFihCIiIlRQUKC///3vpdbSpEkTPf744263aYqLi1NwcLDrOQDAapxzCeCa9fnnn2vRokWSpMcee0w%2BPuf/pB09elTp6emSpNtvv73Ubbt16yYvLy/9%2BOOP2rdvnxo1aiRJevzxxy/5fJUrV1bNmjWVk5OjnJycUtdp3769W/N4QbVq1XTs2DGtW7dOo0aNcltms9k0fPhwt7EvvvhC0vmr5hs3bnzJ15Cenn7R4fQLSjun1MvLS2FhYTp%2B/Lhyc3NL3Q4AzKC5BODRFi1apHfffddtrKCgQD/88IOysrIknU8DH3vsMdfyXbt2uX5%2B5plnLrlvHx8fFRYW6ocffnA1lxf2//nnn%2Bv7779Xdna2Tp48Ked/79p26tQpSecTytLUrl271PFBgwZp1qxZWrBggb744gvdfffdio6OvuTN4vfs2SPpfPp4KTfccIOk8%2Bd5lqZ%2B/fqljvv7%2B0uSCgsLL7lvALhaNJcAPNr27dsvGvP29laNGjUUGxurvn37qnPnzm7LT5w44fp5w4YNl32OCw2jJGVkZGj48OE6ePDgVdUbFBRU6viFQ%2BWLFi1SWlqa0tLSJEkhISHq0aOHBg0apLCwsItqqlat2iWfq2rVqpLON4lnz551XTx0ATeVB1ARaC4BeLRfuon6pVw4x9DX11dpaWll/mrIs2fP6sknn9SPP/6ohg0bKj4%2BXtHR0apRo4Z8fX0l/e%2BWQ5d77tI88cQT6tevn1JSUvT555/rq6%2B%2BUk5Ojv76178qKSlJL7/8su68884yv06n4TswSjsUDwAVgeYSwG/OhdsTFRYWKjc313UBy%2BX861//0o8//igvLy8tXrxYDRo0uGids2fPmqqtWrVq6t27t3r37q3i4mJ99dVXmj9/vlJTUzV%2B/Hi1b99eNWrUcCWgP7%2B9ktGFZZUqVSKlBOAx%2BKgL4DcnPDzc9fPu3bvLvN0PP/wg6fy5iqU1lgcOHNBPP/1kur4LvL29deutt2rFihWqXbu28vPzXacBXDjX0nj%2B6M9dWPZL52UCwK%2BN5hLAb05ISIgiIiIkSe%2B8806p6%2Bzbt09xcXGuWxZJ/zuH8VJfIzl//nzXzz%2B/%2Bfov2bZtm5577jktXbq01OV%2Bfn6qVauWpP8loxfOI921a1epDWZJSYnrNky33nprmWsBgPJGcwngN2nYsGGSpLVr12r58uVu5yfu379fI0eOVEZGhg4fPuwab9asmSTpyJEjSklJcY2fOXNG06ZNU1pamuvrJS91hXZpvL29lZycrDlz5mjjxo0XLV%2B/fr127NghX19ftWnTRpLUokULderUSZL03HPP6fjx4671i4qK9Oc//1mZmZmqWrWq%2BvXrV%2BZaAKC8cc4lgN%2BkO%2B64Q0888YQWL16sF198UStWrNANN9yg3Nxc7dixQ8XFxWrRooXGjh3r2iYyMlKdOnXSl19%2BqYSEBN10003y9/fX999/Lx8fHy1btkwfffSRUlNTtWLFCu3cuVNPPvmk2rZt%2B4u1tGzZUo8%2B%2BqiWLl2qoUOHqm7dumrQoIFsNpsOHjzoOhw/fvx4hYSEuLZ74YUXNGjQIKWlpSkmJkbh4eHy9/fX7t27lZubq0qVKmnWrFmXvP0RAFQEmksAv1ljxoxRhw4d9Le//U3fffedNm/eLH9/f7Vs2VI9e/bUgAEDLroQ5tVXX9XMmTO1YcMGff/997Lb7erevbuGDRum%2BvXrq06dOvrPf/6jrVu3avfu3WW%2BEv3pp59W27Zt9f777%2Bv7779XamqqioqKFBISorvvvlsPPfSQKxW9oHbt2lq9erWWL1%2Bu9evXa/fu3SoqKlLt2rV1xx13aMiQIaWeGwoAFcnLaTxWBAAAAJjAOZcAAACwDM0lAAAALENzCQAAAMvQXAIAAHi4L774Qh06dFBiYuIvrldSUqLZs2crNjZWbdu21ZAhQ5SVleVa7nA4NHr0aHXo0EGdOnXS%2BPHjTX/z2M/RXAIAAHiwJUuWaNq0aWW6O8Rbb72lDz/8UIsXL9Znn32mhg0bavjw4a57/U6cOFFnzpzR2rVrlZycrMzMTM2cOdPSemkuAQAAPJi/v79Wr15dpuYyKSlJgwcPVuPGjRUYGKjExERlZmZq27ZtOnbsmFJSUpSYmKjg4GDVrl1b8fHxSk5OVmFhoWX1cp9LAACAcpadna2cnBy3sZCQENnt9stu%2B/DDD5fpOc6ePas9e/aoRYsWrrHAwEA1aNBAaWlpOnXqlLy9vdW0aVPX8oiICJ0%2BfVp79%2B51GzeD5vJ6V8YbQF93GjWSdu%2BWmjSR9u2r6Go8yqmT3Bq3NF5eUkCAlJ8vcfdgd5UqVXQFnsvHRyoqqugqPJOvbwU%2BeTm8NybNmaN58%2Ba5jY0YMUIJCQmWPceJEyfkdDoVFBTkNh4UFKTc3FxVr15dgYGBbl/%2BcGHd3Nxcy%2BqguQRKU7265O19/l%2BgDLy8/veguURZ8fn%2B%2BtG3b1/FxMS4jRm/7tVKv/T9OL/Gd%2BfQXAIAABjZrL8kxW63l%2BkQuBnVq1eXzWaTw%2BFwG3c4HKpZs6aCg4OVl5en4uJieXt7u5ZJUs2aNS2rgwt6AAAAfgP8/f3VpEkTpaenu8ZOnjypAwcOqHXr1mrevLmcTqcyMjJcy9PS0lStWjU1atTIsjpoLgEAAIxsNusf5eTo0aPq0aOH616W/fv314oVK5SZmam8vDzNnDlTzZs3V6tWrRQcHKzu3bvr1Vdf1fHjx3XkyBHNnz9f999/v3x8rDuYzWFxAAAAD9aqVStJUtF/r/5KSUmRdD51LCws1L59%2B1RQUCBJ6tevn3JycjRw4EDl5%2BcrKirK7UKiKVOmaNKkSYqNjZWvr6/uvvvuy96Y/Up5OX%2BNMzvhuTibvHSRkdLWrVKbNlJqakVX41G4Wrx0Ntv/rhYvKanoajwLV4tfmq%2BvZOHtBX9TKvRqcX9/6/d57pz1%2B/RQJJcAAABG5XgY%2B3rA7AEAAMAyJJcAAABGJJemMHsAAACwDMklAACAEcmlKTSXAAAARjSXpjB7AAAAsAzJJQAAgBHJpSnMHgAAACxDcgkAAGBEcmkKzSUAAIARzaUpzB4AAAAsQ3IJAABgRHJpCrMHAAAAy5BcAgAAGJFcmkJzCQAAYERzaQqzBwAAAMuQXAIAABiRXJrC7AEAAMAyJJcAAABGJJem0FwCAAAY0VyawuwBAADAMiSXAAAARiSXpjB7AAAAsAzJJQAAgBHJpSk0lwAAAEY0l6YwewAAALAMySUAAIARyaUpzB4AAAAsQ3IJAABgRHJpCs0lAACAEc2lKcweAAAALENyCQAAYERyaQrNJQAAgBHNpSnMHgAAACxDcgkAAGBEcmkKswcAAADLkFwCAAAYkVyaQnMJAABgRHNpCrMHAAAAy5BcAgAAGJFcmsLsAQAAwDIklwAAAEYemFweOnRIkydP1rZt21SlShX17NlTY8aMke1ntT766KP697//7TZWVFSk4cOHa8SIERo4cKC2bt3qtl2jRo20Zs0ay2qluQQAADDywOYyISFBERERSklJ0U8//aShQ4eqVq1aeuSRR9zWW7p0qdvvJ0%2BeVM%2BePXX77be7xqZOnarevXuXW62eN3sAAABwSUtLU0ZGhsaOHauqVauqYcOGGjx4sJKSki677auvvqrbb79dTZs2/RUqPY/kEgAAwKgcksvs7Gzl5OS4jYWEhMhut1922/T0dNWtW1dBQUGusYiICO3bt095eXkKDAwsdbv9%2B/fr/fffV0pKitv4unXr9MYbb%2Bjw4cO66aabNGXKFNWvX/8qXlXpSC4BAADKWVJSknr37u32KEvyKEkOh0PVqlVzG7vQaObm5l5yu8WLF%2Bu%2B%2B%2B5TcHCwa6xx48Zq0qSJ3n77bW3YsEHBwcF67LHHVFBQcBWvqnQklwAAAEblkFz27dtXMTExbmMhISFl3t7pdF7R8zkcDn3wwQf6%2BOOP3caff/55t9%2BnTJmiqKgoffvtt4qOjr6i57gUmksAAACjcmgu7XZ7mQ6BlyY4OFgOh8NtzOFwyMvLyy2VNNqwYYMaNWqksLCwX9x3YGCggoKCdPTo0auqrTQcFgcAAPBgLVu21OHDh3X8%2BHHXWFpamm688UYFBASUus2GDRvUsWNHt7G8vDw9//zzbo3k8ePHdfz48cs2oVeC5hIAAMDIZrP%2BYUKLFi3UqlUrzZo1S3l5ecrMzNSyZcvUv39/SVKPHj20ZcsWt2127NihevXquY0FBgZq27ZtmjZtmhwOh06cOKHJkyeradOmioyMNFWjEc0lAACAh5szZ46ys7PVsWNHPfzww%2BrVq5cGDBggSdq3b59Onz7ttn5OTo5q1ap10X7mz58vp9Op7t27q0uXLiosLNTixYsvuhm7GV7OKz1DFL8tXl4VXYFnioyUtm6V2rSRUlMruhqPcuokfzJKY7NJAQFSfr5UUlLR1XiWSpUqugLP5esrFRZWdBWeyde3Ap%2B8e3fr9/nJJ9bv00NxQQ8AAICRB35Dz7WE2QMAAIBlSC4BAACMSC5NYfYAAABgGZJLAAAAI5JLU2guAQAAjGguTWH2AAAAYBmSSwAAACOSS1OYvXIyaNAgvfTSS25j8%2BfPV79%2B/XTo0CENGzZMUVFRatu2rcaNG6e8vDzXemvWrFHPnj0VGRmpmJgYvf32265lc%2BfO1dChQzV69Gi1adPmV3s9AAAAZUFzWU569eqljz76SCWGr%2Br49NNPdc899yg%2BPl6hoaHauHGj/vGPf%2Bjo0aOaMWOGJCkrK0tPP/20JkyYoK1bt2r69OmaOnWqMjIyXPv57rvv1K5dO/373//%2B1V8XAAC/eR723eLXGg6Ll5M77rhDU6ZM0TfffKPo6GhlZWUpMzNTrVq10vTp07Vy5UpVrlxZlStXVkJCgoYMGaIpU6aoXr16%2BvrrrxUUFCRJio6OVs2aNZWenq5mzZpJkry9vdW/f395XeFXN2ZnZysnJ8dtLKRRI9mrV7fmRf%2BW/HeuXf/C5Tr7G1lmF%2BaF%2BQF%2BA/g/sik0l%2BUkICBA3bp105o1axQdHa1PP/1UHTt2VFZWloqLixUVFeW2fnFxsXJzcxUcHKyVK1dq9erVys7OltPpVEFBgQoKClzr1qlT54obS0lKSkrSvHnz3MZGjBqlhFGjru5FXg8MpyTgvICKLsDDVa5c0RXgWlOh36ENlAOay3LUq1cvjRw5UpMnT9b69ev10EMPyd/fX1WqVFFqamqp26xatUqLFy/WggUL1LZtW3l7e6tz585u6/j4XN1/tr59%2ByomJsZtLOSee6Q337yq/f2mNWt2vrEcMEAynJIAKf%2BLrRVdgkey2c43lmfOSIazYSDJz6%2BiK/Bcvr5SYWFFV%2BGZKrTpJrk0heayHEVHRysgIECrVq3S7t27FRsbq6ysLJ0%2BfVpZWVkKCwuTJOXl5amwsFA1atRQWlqabrnlFrVv316SlJOTo%2BzsbEvqsdvtstvt7oP79lmy79%2BsjAzpEh8Erlc0Tr%2BspIQ5AnB9ozUvRzabTffcc49eeeUVxcbGqnLlygoPD1dkZKSmT5%2Bu48eP6%2BTJk5o0aZLGjRsnSapbt6727t2rEydO6NChQ5o2bZp%2B97vf6ejRoxX8agAAuE5wQY8p19errQC9evVSXl6e7rnnHtfYrFmz5HQ6FRsbq9tvv13FxcWu2xb1799fDRo0UOfOnfXEE0/ooYce0kMPPaRly5bprbfeqqiXAQDA9YPm0hQvp9PprOgifsu%2B/vprPffcc0pJSZHNE//HdRUXBl0XIiOlrVulNm04LP4zp07yJ6M0NpsUECDl53NY/OcqVaroCjwX51xeWoWec/ngg9bv8zoKiDjnshxlZ2frhRde0JAhQzyzsQQAABfjPdsUZq%2BcLFq0SHfeeafatm2r/v37V3Q5AAAAvwqSy3IydOhQDR06tKLLAAAAV4rk0hSaSwAAACOaS1OYPQAAAFiG5BIAAMCI5NIUZg8AAACWIbkEAAAwIrk0heYSAADAiObSFGYPAAAAliG5BAAAMCK5NIXmEgAAwIjm0hRmDwAAAJYhuQQAADAiuTSF2QMAAIBlSC4BAACMSC5NobkEAAAwork0hdkDAACAZUguAQAAjEguTWH2AAAAYBmSSwAAACOSS1NoLgEAAIxoLk1h9gAAAGAZkksAAAAjkktTmD0AAABYhuQSAADAyAOTy0OHDmny5Mnatm2bqlSpop49e2rMmDGy/azWuXPnasGCBfLxcW/xPvvsM9WqVUvnzp3T9OnTtXHjRp07d05RUVGaPHmyatSoYVmtnjd7AAAAFclms/5hUkJCgmrXrq2UlBQtW7ZMKSkpevPNN0tdNy4uTmlpaW6PWrVqSZJmz56t9PR0JSUl6ZNPPpHT6dSzzz5ruj4jmksAAAAPlpaWpoyMDI0dO1ZVq1ZVw4YNNXjwYCUlJV3RfoqKirR69WrFx8crNDRU1atX1%2BjRo7Vx40YdPXrUsno5LA4AAGBUDofFs7OzlZOT4zYWEhIiu91%2B2W3T09NVt25dBQUFucYiIiK0b98%2B5eXlKTAw0G39nTt3ql%2B/ftq1a5dCQ0P17LPPqlOnTjpw4IBOnTqliIgI17qNGzdWpUqVlJ6ertq1a5t8lefRXAIAAJSzpKQkzZs3z21sxIgRSkhIuOy2DodD1apVcxu70Gjm5ua6NZd16tRRWFiYxowZI7vdrqSkJA0bNkxr1qyRw%2BGQpIv2Va1aNeXm5l7V6yoNzSUAAIBROSSXffv2VUxMjNtYSEhImbd3Op1lWq9Pnz7q06eP6/fBgwfro48%2B0po1a3Tbbbdd0b6uFs0lAACAUTk0l3a7vUyHwEsTHBzsSh0vcDgc8vLyUnBw8GW3r1u3rrKzs13rOhwOBQQEuJafOHFCNWvWvKraSsMFPQAAAB6sZcuWOnz4sI4fP%2B4aS0tL04033ujWJErSggULtHnzZrexzMxMhYWFKSwsTEFBQUpPT3ct27VrlwoKCtSyZUvL6qW5BAAAMPKwWxG1aNFCrVq10qxZs5SXl6fMzEwtW7ZM/fv3lyT16NFDW7ZskXQ%2BlZw8ebL27t2rc%2BfOaenSpTpw4IDuvfdeeXt764EHHtDChQt1%2BPBh5ebm6pVXXtHtt9/uulWRFTgsDgAA4OHmzJmjiRMnqmPHjgoMDFS/fv00YMAASdK%2Bfft0%2BvRpSdKYMWMknT/X0uFw6MYbb9Ty5ctVp04dSdLIkSOVn5%2BvuLg4FRUVqWvXrnr%2B%2BectrdXLWd5ndcKzeXlVdAWeKTJS2rpVatNGSk2t6Go8yqmT/Mkojc0mBQRI%2BflSSUlFV%2BNZKlWq6Ao8l6%2BvVFhY0VV4Jl/fCnzyF1%2B0fp8W36jck5FcAgAAGHng1z9eS5g9AAAAWIbkEgAAwIjk0hRmDwAAAJYhuQQAADAiuTSF5hIAAMCI5tIUZg8AAACWIbkEAAAwIrk0hdkDAACAZUguAQAAjEguTaG5BAAAMKK5NIXZAwAAgGVILgEAAIxILk1h9gAAAGAZkksAAAAjkktTaC4BAACMaC5NYfYAAABgGZJLAAAAI5JLU2guAQAAjGguTWH2AAAAYBmSSwAAACOSS1OYPQAAAFiG5BIAAMCI5NIUmksAAAAjmktTmD0AAABYhuQSAADAiOTSFGYPAAAAliG5BAAAMCK5NIXm8jp36qSzokvwSDabFCAp/4utKimp6Go8S9VqXhVdgmeKjJS2blXArW2k1NSKrsaj7P%2BBvzOl8fOTQkOlY8ekgoKKrsbzNGhQgU9Oc2kKswcAAADLkFwCAAAYkVyawuwBAADAMiSXAAAARiSXptBcAgAAGNFcmsLsAQAAwDIklwAAAEYkl6YwewAAALAMySUAAIARyaUpNJcAAABGNJemMHsAAACwDMklAACAEcmlKcweAAAALENyCQAAYOSByeWhQ4c0efJkbdu2TVWqVFHPnj01ZswY2UqpdeXKlVq%2BfLmys7NVv359JSQkqFu3bpKkZ555RmvWrJG3t7drfX9/f23ZssWyWmkuAQAAjDywuUxISFBERIRSUlL0008/aejQoapVq5YeeeQRt/U%2B%2BeQTzZo1S4sWLVLr1q31/vvva/To0fr4448VFhYmSXryySeVkJBQbrV63uwBAADAJS0tTRkZGRo7dqyqVq2qhg0bavDgwUpKSrpo3bNnz%2Bqpp57SzTffLF9fX/Xp00cBAQH67rvvfrV6SS4BAACMyiG5zM7OVk5OjttYSEiI7Hb7ZbdNT09X3bp1FRQU5BqLiIjQvn37lJeXp8DAQNd4XFyc27YnT55Ufn6%2Bateu7Rr7%2BuuvtWHDBu3fv1%2BNGzfW888/r5YtW17tS7sIzSUAAEA5S0pK0rx589zGRowYUabD0w6HQ9WqVXMbu9Bo5ubmujWXRk6nUxMmTNBNN92kdu3aSZLCwsJks9k0atQoBQQEaN68eXr00Uf1ySefqEaNGlfz0i5CcwkAAGBUDsll3759FRMT4zYWEhJS5u2dTucVPV9hYaGeeeYZ7dmzRytWrHCNDx8%2B3G29P/7xj1q7dq1SUlLUp0%2BfK3qOS6G5BAAAMCqH5tJut5fpEHhpgoOD5XA43MYcDoe8vLwUHBx80fpnz55VfHy8zpw5o7feeusXE0lvb2%2BFhoYqOzv7qmorDRf0AAAAeLCWLVvq8OHDOn78uGssLS1NN954owICAtzWdTqdSkxMlI%2BPj5YvX%2B7WWDqdTr344ovKyMhwjRUUFOjAgQOuK8mtQHMJAABgZLNZ/zChRYsWatWqlWbNmqW8vDxlZmZq2bJl6t%2B/vySpR48ervtUfvjhh9qzZ49ee%2B01%2Bfv7u%2B3Hy8tLBw8e1OTJk3X06FHl5%2Bdr5syZ8vX1dd0H0wo0lwAAAB5uzpw5ys7OVseOHfXwww%2BrV69eGjBggCRp3759On36tCQpOTlZhw4dUrt27dSqVSvXY8KECZKk6dOnq2HDhurdu7c6dOigHTt26M0331SVKlUsq9XLeaVniOI35dSpiq7AM9lsUkCAlJ8vlZRUdDWepWo1r4ouwTNFRkpbt0pt2kipqRVdjUfZ/wNvM6Xx85NCQ6XDh6WCgoquxvM0aFCBT755s/X7jI62fp8eigt6AAAAjDzwG3quJcweAAAALENyCQAAYERyaQqzBwAAAMuQXAIAABiRXJpCcwkAAGBEc2kKswcAAADLkFwCAAAYkVyaQnMJAABgRHNpCrMHAAAAy5BcAgAAGJFcmsLsAQAAwDIklwAAAEYkl6bQXAIAABjRXJrC7AEAAMAyJJcAAABGJJemMHsAAACwDMklAACAEcmlKTSXAAAARjSXpjB7AAAAsAzJJQAAgBHJpSnMHgAAACxDcgkAAGBEcmlRjEvOAAAgAElEQVQKzSUAAIARzaUpzB4AAAAsQ3IJAABgRHJpCrMHAAAAy5BcAgAAGJFcmkJzCQAAYERzaQqzBwAAAMuQXAIAABiRXJrC7AEAAMAyJJcAAABGJJem0FwCAAAY0VyawuwBAADAMiSXAAAARiSXpjB7AAAAsAzJJQAAgBHJpSk0lwAAAEY0l6YwewAAALAMySUAAIARyaUpzB4AAAAsY1lz2bRpU/3rX/%2ByaneWOHjwoJo2barMzMyr2n7gwIGaOXPmJZd37NhR77777tWWJ0n697//rVatWqmgoMDUfgAAgEVsNusfJh06dEhPPPGEoqKi1LVrV/35z39WSUlJqeuuWLFC3bt3V5s2bdS/f399//33rmXnzp3Tn/70J912222KiorSyJEjlZuba7o%2BI5LLCta2bVulpaXJz8%2BvoksBAACSRzaXCQkJql27tlJSUrRs2TKlpKTozTffvGi9f/7zn5o7d65efvllffXVV%2BratauGDRum06dPS5Jmz56t9PR0JSUl6ZNPPpHT6dSzzz5ruj4jmksAAAAPlpaWpoyMDI0dO1ZVq1ZVw4YNNXjwYCUlJV20blJSknr37q2bbrpJlSpV0mOPPSZJ%2Buyzz1RUVKTVq1crPj5eoaGhql69ukaPHq2NGzfq6NGjltVr6QU9OTk5GjRokFJTU1WvXj29%2BuqrCg8PlyRt2bJFL7/8snbv3q2AgADdd999GjVqlGw2m5555hmdO3dOs2fPlnQ%2Bsm3durVWrFihqKgobdy4UbNmzdLBgwcVEBCguLg4jRkzRjabTQ6HQ9OmTdPXX3%2Bt/Px8tW/fXs8//7xq167tqmvfvn0aN26cdu3apRYtWui1115TnTp1JEkpKSmaM2eODhw4oODgYA0ePFgPP/zwRa%2BtqKhIL774otauXSs/Pz%2BNHDnyiuZm8eLFWrlypY4fP646deooPj5ecXFx%2Buabb/Twww9r%2B/bt%2BvjjjzVx4kTXNk6nU4WFhfrrX/%2Bqdu3a6dChQ5o6dapSU1NVUlKirl276k9/%2BpMCAwPLVEN2drZycnLcxqpUCZHdbr%2Bi13I9uPAhk3O6SxEZWdEVeKZmzdz/hQsHZkrn4%2BP%2BLzxIOfzxL%2B09OCSkbO/B6enpqlu3roKCglxjERER2rdvn/Ly8tz6gPT0dPXs2dP1u81mU/PmzZWWlqbmzZvr1KlTioiIcC1v3LixKlWqpPT0dLfeyQxL/yedlJSkGTNmKCQkRPHx8XrllVe0cOFCHTt2TEOGDNG4cePUp08f7dmzR48//rjsdrsefPDBX9xnYWGhEhMTNX/%2BfEVHR2v//v167LHHFBkZqW7duumZZ56Rj4%2BPPvroI3l7e2vSpEl69tlntXTpUtc%2BVq1apddff10%2BPj4aOHCg3njjDU2YMEEZGRkaNWqUXnvtNXXu3FlbtmzRsGHD1KBBA3Xu3NmtjuTkZP3jH//Q22%2B/rdDQUM2YMUMnTpwo07xs3bpVK1as0DvvvKPQ0FBt2rRJCQkJ6tSpk9t6vXr1Uq9evVy/z5w5U19%2B%2BaV%2B//vfy%2Bl0Kj4%2BXm3atNHs2bN1%2BvRpPfXUU5oxY4amTp1apjqSkpI0b948t7Hhw0do5MiEMm1/PapcuaIr8EBbt1Z0BZ7t7bcrugKPE1rRBXi4kJCKrgC/htLeg0eMGKGEhMu/BzscDlWrVs1t7EKjmZub69ZcOhwOtyb0wrq5ublyOBySdNG%2BqlWrZul5l5Y2l3FxcWrUqJEkKSYmRitXrpQkrV27Vr/73e9cjWSLFi0UFxenjz/%2B%2BLLN5blz53T27FlVqVJFXl5eatiwoT799FPZbDb99NNP%2Buyzz7Ru3TrXRI4dO1ZdunRx%2B3QwYMAA1yeD6Oho7du3T9L5hjE6OlrdunVzLevSpYvWrVt3UXO5fv163XPPPWrcuLEkadSoUaXG0aU5deqUbDabKlWqJC8vL3Xq1EnffvutbDab9uzZU%2Bo2X3zxhVauXKnk5GT5%2Bflp%2B/bt2r17t1auXKnKlSurcuXKSkhI0JAhQzRlyhR5eXldto6%2BffsqJibGbaxKlRDl55fpZVxXbLbzjeWZM9Ilzpe%2BbgXc2qaiS/BMzZqdbywHDJAyMiq6Go9y%2BCM%2BkJTGx%2Bd8Y5mTIxUVVXQ1nie0Aj%2BVOHX599QrVdp7cMgVfLJwOp2WrXsl%2B7oaljaX9erVc/3s7%2B%2BvwsJCSeev2r7QlF3QoEEDffzxx5fdZ2BgoIYPH66HHnpIrVu3VseOHdW7d2%2BFhoYqKytLktzSPkny9vbW4cOHFRwcfFFdlSpVcl2Zfam6tpaSzBw9elRdunRx/R4cHHzRJ4NLiY6OVosWLRQTE6Po6GjddtttiouLU5UqVUpdPycnR08//bQmTZqkhg0bSpKysrJUXFysqKgot3WLi4uVm5vreq2/xG63XxS/nzpF8/RLSkqYn4ukplZ0BZ4tI4M5%2BhluhvHLioqYI09THn/3S3sPLqvg4GBX6niBw%2BGQl5fXRe//NWrUKHXdJk2auNZ1OBwKCAhwLT9x4oRq1qx5VbWVxtLm8lLp2aVus3Op9YuLi91%2BHzFihPr06aOUlBSlpKTojTfe0JtvvqlKlSpJkv71r3%2BpRo0aF%2B3n4MGDv1jvldRVUFCgop99tLzULQB%2Bzs/PTwsXLlRGRoY2bNigt956S0uXLi31NkYlJSX64x//qC5duugPf/iDa9zf319VqlRRKm9aAABcV1q2bKnDhw/r%2BPHjrgYxLS1NN954o1uTeGHd9PR03XvvvZLO91T/%2Bc9/dP/99yssLExBQUGuczgladeuXSooKFDLli0tq/dXuVyhfv362rt3r9vY3r17FRYWJul883XmzBnXsgMHDrit63A4VLt2bT344INatmyZevTooQ8%2B%2BEB169aVzWbTzp07XesWFhaW%2BYqny9VlZLfbdeTIEdfv2dnZOnnyZJmep7CwUHl5eWrWrJmGDx%2Bu999/X15eXvrqq68uWnfhwoXKyclxu7DnQq2nT592pbWSlJeXZ/m9qQAAuN5dOGpl5cOMFi1aqFWrVpo1a5by8vKUmZmpZcuWqX///pKkHj16aMuWLZKk/v376/3339d3332nM2fO6PXXX5efn5%2B6dOkib29vPfDAA1q4cKEOHz6s3NxcvfLKK7r99ttVq1Yts9Pm8qs0l3feeaeysrKUlJSkoqIibd%2B%2BXe%2B9956rq27YsKG2bdumI0eO6NSpU1q6dKm8vb0lSampqbrzzju1fft2OZ1O/fTTT9q3b5/q16%2BvqlWrqmfPnpo5c6aOHDmis2fP6pVXXtGjjz5apvMJ/vCHP2jTpk2uy/O/%2BOILbdy48aLD7JJ06623au3atfrhhx%2BUl5en2bNny9/fv0yvf%2BnSpXr88cddzWlmZqZOnDih%2BvXru623ZcsW/eUvf9Grr76qyj%2B7kiQ8PFyRkZGaPn26jh8/rpMnT2rSpEkaN25cmWoAAADXrjlz5ig7O1sdO3bUww8/rF69emnAgAGSzt8V58J9LG%2B77TY99dRTGj16tNq1a6evvvpKixcvdh3tHTlypG666SbFxcUpNjZWAQEBmj59uqW1/io3QKhbt67mzZun1157TS%2B99JLsdrtGjRrlauLuv/9%2BffXVV%2BrRo4fsdrsmTJiglJQUSVJkZKSefPJJjR49WseOHVP16tV15513ui4EmjhxoqZOnaq77rpLNptNv//977VgwYIyXeByoVmbNWuWnnrqKdWrV08zZ85Uu3btLlp38ODBysrK0gMPPOC6FdG3335bptf/yCOP6Mcff1SvXr109uxZhYaGauzYsWrevLm%2B%2BeYb13rJyck6ffq0evfu7bb9k08%2Bqfj4eM2aNUtTpkxRbGys/Pz8FB0drZdeeqlMNQAAgLLxxHPt69SpoyVLlpS6zHgEVzp/IfOFxvPn/Pz8NGnSJE2aNMnyGi/wcpb3JUPwaKdOVXQFnslmkwICpPx8z/wjU5GqVrP%2BKsrfhMjI87dpatOGC3p%2BZv8PvM2Uxs/v/BXRhw9zQU9pGjSouOc2nKlnmevp1nbcIhoAAACW4XsBLHDLLbfo3Llzl1z%2Bj3/8w3VVFgAA8GwcsTKH5tICF67QAgAA1z6aS3M4LA4AAADLkFwCAAAYkFyaQ3IJAAAAy5BcAgAAGJBcmkNzCQAAYEBzaQ6HxQEAAGAZkksAAAADkktzSC4BAABgGZJLAAAAA5JLc2guAQAADGguzeGwOAAAACxDcgkAAGBAcmkOySUAAAAsQ3IJAABgQHJpDs0lAACAAc2lORwWBwAAgGVILgEAAAxILs0huQQAAIBlSC4BAAAMSC7NobkEAAAwoLk0h8PiAAAAsAzJJQAAgAHJpTkklwAAALAMySUAAIAByaU5NJcAAAAGNJfmcFgcAAAAliG5BAAAMCC5NIfkEgAAAJYhuQQAADAguTSH5hIAAMCA5tIcDosDAADAMiSXAAAABiSX5pBcAgAAwDIklwAAAAYkl%2BbQXAIAABjQXJrDYXEAAABYhuQSAADAgOTSHJJLAAAAWIbmEgAAwKCkxPpHeXI4HBo9erQ6dOigTp06afz48Tp79uwl1//000/1hz/8QZGRkerevbveeecd17K5c%2BeqefPmatWqldvj2LFjZa6Hw%2BIAAAAG19ph8YkTJ6qgoEBr165VYWGhRo0apZkzZ2rChAkXrbt9%2B3aNHTtWr7zyirp06aJNmzZp%2BPDhuuGGG3TLLbdIkuLi4vTSSy9ddT0klwAAANeoY8eOKSUlRYmJiQoODlbt2rUVHx%2Bv5ORkFRYWXrS%2Bw%2BHQ0KFD1a1bN/n4%2BKhz584KDw/Xli1bLKuJ5BIAAMCgPJLL7Oxs5eTkuI2FhITIbreb2u%2BOHTvk7e2tpk2busYiIiJ0%2BvRp7d27121ckm677Tbddtttrt%2BLioqUk5Oj2rVru8Z27typfv36adeuXQoNDdWzzz6rTp06lbkmmksAAACD8mguk5KSNG/ePLexESNGKCEhwdR%2BHQ6HAgMD5eXl5RoLCgqSJOXm5l52%2B5kzZ6pKlSrq2bOnJKlOnToKCwvTmDFjZLfblZSUpGHDhmnNmjW64YYbylQTzSUAAEA569u3r2JiYtzGQkJCyrTtBx98oHHjxpW6LDExUU6n84rrcTqdmjlzptauXasVK1bI399fktSnTx/16dPHtd7gwYP10Ucfac2aNRo9enSZ9k1zCQAAYFAeyaXdbr/qQ%2BBxcXGKi4srddmmTZuUl5en4uJieXt7SzqfZkpSzZo1S92mpKREzz77rLZv366VK1cqLCzsF5%2B/bt26ys7OLnO9XNADAABwjWrevLmcTqcyMjJcY2lpaapWrZoaNWpU6jYvvPCCdu/eXWpjuWDBAm3evNltLDMz87INqBHNJQAAgMG1dJ/L4OBgde/eXa%2B%2B%2BqqOHz%2BuI0eOaP78%2Bbr//vvl43P%2BAPWgQYO0bt06SdK3336rNWvWaPHixapevfpF%2B3M4HJo8ebL27t2rc%2BfOaenSpTpw4IDuvffeMtfEYXEAAACDa%2B0%2Bl1OmTNGkSZMUGxsrX19f3X333UpMTHQtz8rK0okTJyRJycnJOnXqlLp27eq2j7Zt22rp0qUaM2aMpPPnWjocDt14441avny56tSpU%2BZ6vJxXcxYofjNOnaroCjyTzSYFBEj5%2BdfeH5nyVrWa1%2BVXuh5FRkpbt0pt2kipqRVdjUfZ/wNvM6Xx85NCQ6XDh6WCgoquxvM0aFBxz/3JJ9bvs3t36/fpqUguAQAADAgVzOGcSwAAAFiG5BIAAMCA5NIcmksAAAADmktzOCwOAAAAy5BcAgAAGJBcmkNyCQAAAMuQXAIAABiQXJpDcwkAAGBAc2kOh8UBAABgGZLL61ylShVdgWfz86voCjwPX%2BVXOj8/KVTS4Y%2B28lV%2BP9OgIV8ZWqr/fmVo6F18ZWipKvDbqUkuzSG5BAAAgGVILgEAAAxILs2huQQAADCguTSHw%2BIAAACwDMklAACAAcmlOSSXAAAAsAzJJQAAgAHJpTk0lwAAAAY0l%2BZwWBwAAACWIbkEAAAwILk0h%2BQSAAAAliG5BAAAMCC5NIfmEgAAwIDm0hwOiwMAAMAyJJcAAAAGJJfmkFwCAADAMiSXAAAABiSX5tBcAgAAGNBcmsNhcQAAAFiG5BIAAMCA5NIckksAAABYhuQSAADAgOTSHJpLAAAAA5pLczgsDgAAAMuQXAIAABiQXJpDcwkAAGBAc2kOh8UBAABgGZJLAAAAA5JLc0guAQAAYBmSSwAAAAOSS3NILgEAAAxKSqx/lCeHw6HRo0erQ4cO6tSpk8aPH6%2BzZ8%2BWuu67776rZs2aqVWrVm6P7du3//e1l2j27NmKjY1V27ZtNWTIEGVlZV1RPTSXAAAA17CJEyfqzJkzWrt2rZKTk5WZmamZM2decv22bdsqLS3N7dG6dWtJ0ltvvaUPP/xQixcv1meffaaGDRtq%2BPDhcjqdZa6H5hIAAMDgWkoujx07ppSUFCUmJio4OFi1a9dWfHy8kpOTVVhYeMX7S0pK0uDBg9W4cWMFBgYqMTFRmZmZ2rZtW5n3QXMJAABwjdqxY4e8vb3VtGlT11hERIROnz6tvXv3lrrN4cOH9cgjj6ht27aKjY3VBx98IEk6e/as9uzZoxYtWrjWDQwMVIMGDZSWllbmmrigBwAAwKA8ksbs7Gzl5OS4jYWEhMhut5var8PhUGBgoLy8vFxjQUFBkqTc3NyL1g8ODlbDhg311FNP6cYbb9T69es1btw42e123XDDDXI6na7tjfsrbV%2BXQnMJAABgUB7NZVJSkubNm%2Bc2NmLECCUkJFx22w8%2B%2BEDjxo0rdVliYuIVnQ/ZpUsXdenSxfX7XXfdpfXr1%2Bvdd9/V2LFjJemK9lcamksAAIBy1rdvX8XExLiNhYSElGnbuLg4xcXFlbps06ZNysvLU3Fxsby9vSWdTzMlqWbNmmXaf926dfX999%2BrevXqstlsru0vcDgcZd6XRHMJAADgpjySS7vdbvoQeGmaN28up9OpjIwMRURESJLS0tJUrVo1NWrU6KL1V65cqaCgIPXs2dM1lpmZqbCwMPn7%2B6tJkyZKT09Xu3btJEknT57UgQMHXFeTlwUX9AAAAFyjgoOD1b17d7366qs6fvy4jhw5ovnz5%2Bv%2B%2B%2B%2BXj8/5DHHQoEFat26dJKmgoEBTp05VWlqaCgsLtXbtWv3rX/9Sv379JEn9%2B/fXihUrlJmZqby8PM2cOVPNmzdXq1atylwTySUAAIDBtfYNPVOmTNGkSZMUGxsrX19f3X333UpMTHQtz8rK0okTJyRJDz/8sPLz8zVq1Cjl5OSoXr16mj9/vlq2bClJ6tevn3JycjRw4EDl5%2BcrKirqonNFL8fLafasTVzTruIWWNcNX1/mpzQ//ljRFXgmPz8pNFQ6fFgqKKjoajxLg4Zel1/pehQZKW3dKrVpI6WmVnQ1nqcC25Nnn7V%2Bny%2B%2BaP0%2BPRWHxQEAAGAZDosDAAAYXGuHxT0NySUAAAAsQ3IJAABgQHJpDs0lAACAAc2lORwWBwAAgGVILgEAAAxILs0huQQAAIBlSC4BAAAMSC7NobkEAAAwoLk0h8PiAAAAsAzJJQAAgAHJpTkklwAAALAMySUAAIAByaU5NJcAAAAGNJfmcFgcAAAAliG5BAAAMCC5NIfkEgAAAJYhuQQAADAguTSH5hIAAMCA5tIcDosDAADAMiSXAAAABiSX5pBcAgAAwDIklwAAAAYkl%2BZc18nlzJkzNXDgwIouAwAAeJCSEusf15Mrai5jYmIUERGhVq1auR4xMTF68cUXlZ%2BfX141XhM2b96stLS0y66XlJSkpk2b6o033vgVqgIAAPh1XXFyOWHCBKWlpSktLU3bt2/XokWLtGnTJs2YMaM86rtmLF%2B%2BXN9///1l11u1apXuuusuvfvuu79CVQAA4EqRXJpj6rC4l5eXmjRposcff1zr1693jR86dEjDhg1TVFSU2rZtq3HjxikvL0%2BSdObMGT399NOKjo5WZGSk%2BvXr52rK5s6dq8GDB2vBggWKiorSzTffrNdee82135KSEs2fP1%2B33367WrdurXvvvVebN292LY%2BJidGqVav0xBNPKDIyUt26ddOXX37pWv7Pf/5T3bt3V2RkpEaPHq2zZ8%2B6vZ5169YpLi5Ov//97xUbG6ukpCTXsmeeeUZTp07Viy%2B%2BqHbt2ql9%2B/ZasmSJJGnYsGHauHGjpk2bpkGDBl1yvnbu3Kndu3dr/PjxOnLkiFJTU92WHzhwQL1791br1q314IMPau3atWratKlreUZGhgYNGqRbbrlF7du317Rp01RYWHj5/1AAAAC/Eksu6DE2OE6nU/Hx8WrTpo1mz56t06dP66mnntKMGTM0depUvfnmmzp27JjWr18vPz8/LVmyRBMnTtR7770nSdq2bZsiIyP1xRdfKC0tTUOGDFFERIS6deumt956S6tWrdKiRYvUqFEj/e1vf1N8fLxSUlJUs2ZNSdJf/vIXvfzyy2rWrJmef/55vfDCC1q3bp1OnjypxMREjR07Vn379tXmzZs1ZswYNW/eXJKUlpam8ePHa%2B7cuYqOjlZqaqoef/xxNWnSRG3atJEkrV27Vs8884w2bdqkNWvWaOLEiYqLi9PChQsVExOjxx9/XP3797/kPK1atUoxMTGqWbOmunfvrtWrVysyMtK1fMSIEbrhhhv0t7/9Tbt379bYsWNdy86cOaPHHntMAwcO1JIlS3T06FHFx8frL3/5i4YNG1am/07Z2dnKyclxG6tRI0QhIfYybQ9Ikp9fRVfgmXx83P%2BFgeHvHAyaNXP/Fx7jeksarWbqz2BJSYl27typJUuW6J577pF0vknbvXu3Vq5cqcqVK6ty5cpKSEjQkCFDNGXKFJ08eVK%2Bvr6qVKmSfHx8FB8fr/j4eNc%2BbTabhg8fLh8fH918883q1KmTNm7cqG7dumn16tUaMGCAK8179NFH9cYbb2jjxo267777JEldu3ZV69atJUndu3fX%2B%2B%2B/r5KSEn355ZeqUqWKHnzwQdlsNnXu3Fm33HKL61zRd999V126dFGnTp0kSbfccovuvPNOffDBB67msl69err33nslST179tRzzz2nH374QXb75ZuzgoICffjhh67TB%2BLi4hQfH6/x48erSpUqOnr0qHbu3KkZM2aoSpUquummm3TnnXdq0aJFkqSNGzfK6XRq6NChkqSwsDANGTJEixYtKnNzmZSUpHnz5rmNDR8%2BQiNHJpRp%2B%2BuRr29FV%2BB5QkMrugLPFhJS0RV4oK1bK7oCz/b22xVdAX6G5tKcK24up02bphdeeEHS%2BeaycuXKGjhwoIYPHy5JysrKUnFxsaKioty2Ky4uVm5urgYMGKAhQ4aoc%2BfOuvXWW9WtWzfFxsa61qtfv758DB/9f/e73%2BmHH36QJB08eFCNGzd222/9%2BvV16NAh1%2B/16tVz/VypUiUVFxersLBQR44cUWhoqGy2/50J0LBhQ6Wnp0s6f0h68%2BbNatWqlWu50%2Bl0NZs/33flypUl6aJD65eyfv162Ww21/6ioqJUrVo1ffzxx7rvvvuUnZ0tSapbt65rG2MtWVlZ%2Bumnny6qz%2B8KYqS%2BffsqJibGbaxGjRBxZL10vr5ibkpx7FhFV%2BCZfHzON5Y5OVJRUUVX41lC72pT0SV4pmbNzjeWAwZIGRkVXY3n4UPJNeuKm8sJEya4Dv1%2B%2BeWXGj58uOLi4lwNob%2B/v6pUqXLR%2BYQXBAcHa926dfrmm2/0z3/%2BU3/605%2B0Zs0azZkzR9L5JtTI6XTKy8tL0vn0rzQXlktyax6NCgoKLtp3ieGjSaVKldS/f39NnDjxkq/9Uvsui1WrVunEiRNq27ata%2BzcuXNKTk7WfffdJ6fTKUlujbXxdfn7%2B6tJkyb68MMPr7oGu91%2BUcpK84QrdYn/G%2BK/ioqYo4tc4v0A/5WRwRx5GJJLc0xd0NOpUyfFxsZq4sSJruaofv36On36tLKyslzr5eXlKTc3V5KUn5%2Bv4uJidejQQRMmTNCqVav0ySefuJYfPnxYRYaP/T/%2B%2BKNq167t2vfevXtdy4qKirR//36FhYVdtla73a6jR4%2B66pSkzMxM18/169fXzp073bY5cuTIRQ3p1cjKytLXX3%2BtBQsW6P3333c93njjDX377bfat2%2BfgoODJZ1/vRcYb21Uv359ZWVlud3yKTc313WhFAAAsAZXi5tj%2Bibqzz33nDIyMlxXVoeHhysyMlLTp0/X8ePHdfLkSU2aNEnjxo2TJI0cOVIzZsxQXl6eSkpKlJqaqurVqysoKEjS%2BYbxjTfeUEFBgbZs2aJNmza5DuXGxcXp7bffVmZmpgoKCrRw4UIVFxdfdKi3NB06dFBeXp7%2B/ve/q6CgQCkpKdq2bZtr%2Bf3336%2BtW7cqOTlZBQUF2rFjh/r06aNPPvmkTPPg7%2B%2BvAwcO6NSpUxctS05OVnh4uLp06aIGDRq4Hh06dFDLli2VnJysevXqqV69elqyZInOnDmj7du3uz13p06dFBwc7Jq7nJwcjRo1SjNnzixTfQAAAL%2BG/2/v3uNzrv8/jj%2BvzWaZQ7bMYTaVlpXDzGEhho0mpy2UIkWpOSRFWumnVES1Sc4kfZUKTSHyJZVQZCuMfZWvQ7WhzdiwA9d2bb8//Lp%2B23cr870%2B87nG4367ud3m/flc1565Xe322ut9%2BDhcXN5www0aN26c3nzzTaWlpUmS4uLiVFRUpPDwcHXv3l02m03Tp0%2BXJL366qv67bffFBoaqrZt22rZsmWaO3eufco5ICBABQUF6tSpk6Kjo/Xoo4%2BqS5cuki5u4OnRo4cee%2BwxdejQQT/88IPef/991axZ85I569Wrp7i4OC1ZskQhISFau3atBg0aZL/euHFjxcXFafHixWrTpo19E1LPnj3L9e9w33336aOPPtKDDz5YYrywsFCfffaZ%2BvXrV%2Bbr%2Bn8HtuYAACAASURBVPfvr9WrV8tms%2Bntt9/Wnj171K5dO82aNUvR0dH2qXE3NzfNmzdPR44c0Z133qmoqCjdeOONiomJKVc%2BAABQPnQuHWMpKj5PbLLZs2dr27ZtWrlypdlRTFFUVKSCggK5/d8W5VWrVmnWrFn69ttvK%2Bx7subyr7Ghp2zFVm6gGHf3izvpT5xgzeV/anSj5dI3XYuCgy9uWmnVijWXZTGxPImMNP4916wx/j2dFSeyOZGhQ4eqTp06evXVV3Xu3Dl99NFH6ty5s9mxAAC4plxrnUajOTwtDuNMmTJFmZmZ6tixo6KionTLLbeUOEgdAABUPKbFHeNU0%2BK48pj2/WtMi5eNafGyMS3%2B15gW/wtMi/89E8uTXr2Mf8/1641/T2fFtDgAAEAx11qn0WhMiwMAAMAwdC4BAACKoXPpGIpLAACAYipbcZmVlaXJkydr165dcnFxUefOnTVp0iR5eHiUuvd//ud/tOY/zkWy2WyKjIzUtGnT9Nxzz2nt2rVydXW1X69ataoSExPLnYdpcQAAgEps0qRJysvL07p167Rq1SodPnz4L5/gN2XKFO3bt8/%2BZ/fu3br55pvVo0cP%2Bz0jR44scc/lFJYSxSUAAEAJlekoooyMDG3evFlPP/20vLy8VLduXY0aNUqrVq1SfjmOPFm6dKkaNGhg6LnaFJcAAACV1IEDB%2BTq6qomTZrYx5o2barc3FwdOXLkb1979uxZLViwQBMmTCgxvnPnTkVFRSk4OFgDBgzQ/v37LysTay4BAACKqYhOY3p6uk6ePFlirE6dOvLx8XHofbOyslS9enVZLP9/nmytWrUkSZmZmX/72mXLlqlt27YKCAiwj/n5%2BcnFxUVjx46Vp6en5syZo0ceeUQbN25U7dq1y5WJ4hIAAKCYiiguV6xYoTlz5pQYe%2BKJJzRmzJhLvnbNmjV69tlny7z29NNP6795Ho7NZtOHH36ouLi4EuOjR48u8fcJEyZo3bp12rx5s%2B69995yvTfFJQAAQAUbOHCgwsLCSozVqVOnXK%2BNjIxUZGRkmde%2B%2B%2B47ZWdny2az2Xd4Z2VlSZK8vb3/8j0TEhJktVrVpk2bv/3erq6uql%2B/vtLT08uVVaK4BAAAKKEiOpc%2BPj4OT4GX5bbbblNRUZF%2B/vlnNW3aVJK0b98%2B1axZUzfddNNfvu6rr75Su3btVKXK/5eCRUVFmj59uu655x4FBgZKkqxWq37//Xf5%2BfmVOxMbegAAACopLy8vRUREaObMmTp9%2BrT%2B%2BOMPzZ07VwMGDLAXjg8//LC%2B%2BOKLEq87cOCAGjZsWGLMYrEoNTVVL7/8stLS0pSTk6PY2Fi5ubmpW7du5c5EcQkAAFBMZTqKSJJeeeUV1ahRQ%2BHh4erbt69atGihp59%2B2n49JSVFZ86cKfGakydP6oYbbij1XlOnTtWNN96ofv36qUOHDjpw4ICWLl2qatWqlTuPpei/WQWKq0Y5jsC6Zrm58e9TluPHzU7gnNzdpfr1pRMnJKvV7DTOpdGNlkvfdC0KDpZ%2B%2Bklq1UravdvsNM7HxPKkfXvj33PHDuPf01nRuQQAAIBh2NADAABQTGV7trizoXMJAAAAw9C5BAAAKIbOpWMoLgEAAIqhuHQM0%2BIAAAAwDJ1LAACAYuhcOobOJQAAAAxD5xIAAKAYOpeOobgEAAAohuLSMUyLAwAAwDB0LgEAAIqhc%2BkYOpcAAAAwDJ1LAACAYuhcOobiEgAAoBiKS8cwLQ4AAADD0LkEAAAohs6lY%2BhcAgAAwDB0LgEAAIqhc%2BkYiksAAIBiKC4dw7Q4AAAADEPnEgAAoBg6l46huAQAACiG4tIxTIsDAADAMHQuAQAAiqFz6Rg6lwAAADAMnUsAAIBi6Fw6huISAACgGIpLxzAtDgAAAMPQuQQAACiGzqVj6FwCAADAMHQuAQAAiqFz6RiKSwAAgGIoLh3DtDgAAAAMQ%2BcSAACgGDqXjqFzCQAAAMPQuQQAACiGzqVjKC4BAACKobh0DNPiAAAAMAydSwAAgGLoXDqGziUAAAAMQ%2BcSAACgGDqXjqFzCQAAUExhofF/Ktq%2BffvUvXt33XfffZe89/3331dERIRatWqlBx54QPv377dfu3Dhgl588UWFhobqjjvu0JNPPqnMzMzLykJxCQAAUImtXbtWY8aMUaNGjS5579dff63Zs2frjTfe0Pfff6%2BuXbtqxIgRys3NlSS99dZbSk5O1ooVK7Rx40YVFRXp%2Beefv6w8FJcAAADFVLbO5YULF7RixQoFBQVd8t4VK1aoX79%2BCgoKkoeHh4YPHy5J%2Buabb1RQUKD4%2BHiNGjVK9evX1/XXX6%2BnnnpKW7ZsUVpaWrnzUFwCAABUYvfee6/q1q1brnuTk5N1%2B%2B232//u4uKi2267Tfv27dPvv/%2Buc%2BfOqWnTpvbrjRs3loeHh5KTk8udhw09AAAAxVREpzE9PV0nT54sMVanTh35%2BPgY/83%2BRlZWlmrVqlVirFatWsrMzFRWVpYkqWbNmiWu16xZ87LWXVJcXuPc3MxO4JzS09O1YsUKDRw48Ir/j%2B/syrGk55qUnp6u2bMvfmYaNeIzU0JRkdkJnFJ6erpWzJ6tgf/8Jz9nnExFfGRnz16hOXPmlBh74oknNGbMmEu%2Bds2aNXr22WfLvDZt2jT169fvsrIUXeI/8FLXL4XiEijDyZMnNWfOHIWFhfFDH%2BXCZwaXi8/MtWXgwIEKCwsrMVanTp1yvTYyMlKRkZGG5Khdu7a9Q/mnrKwsBQQEyMvLy/53T09P%2B/UzZ87I29u73N%2BD4hIAAKCC%2Bfj4OMUvEc2aNVNycrLuueceSZLNZtO//vUvDRgwQH5%2BfqpVq5aSk5Pl6%2BsrSTp48KCsVquaNWtW7u/Bhh4AAICrWI8ePZSYmChJeuCBB7R69Wrt2bNHeXl5mj9/vtzd3dWlSxe5urrqvvvu04IFC3TixAllZmZqxowZ6t69u2644YZyfz86lwAAAJVYRESEjh8/LpvNpsLCQjVv3lyS9M9//lO%2Bvr46evSo/RzL0NBQjRs3Tk899ZROnTql5s2ba9GiRfLw8JAkPfnkk8rJyVFkZKQKCgrUtWtXTZ48%2BbLyWIocXbUJXIXY0IPLxWcGl4vPDK5WFJcAAAAwDGsuAQAAYBiKSwAAABiG4hIAAACGobgEAACAYSguAQAAYBiKSwAAABiG4hIAAACGobgEAACAYSguAQAAYBiKSwAwSGZmptkR4MRsNpsWLVqknj17qm3btpKknJwcvfLKK7pw4YLJ6QDjUFwCktq0aSOehIr/Rk5Ojl588UW1bNlSnTp1kiRlZWUpOjpap0%2BfNjkdnMn06dO1fv16RUdH24vJ/Px8HT58WNOmTTM5HWAciktAUqdOnbRy5UqzY6ASeuWVV5SSkqLFixfLxeXij1Q3NzdVr15dU6ZMMTkdnMn69es1b948RUZGymKxSJKuv/56xcbGavPmzSanA4xTxewAgDPIy8vTzJkzNXv2bNWrV09VqpT8X2P58uUmJYOz27JlizZs2CAvLy97weDp6amXXnpJERERJqeDM8nPz1e9evVKjV933XXKyckxIRFQMSguAUnNmjVTs2bNzI6BSshisah69eqlxm02G%2BvoUELTpk21ZMkSPfbYY/axvLw8xcbG8vMHVxVLEQvNgL/10UcfadCgQWbHgJMaOXKkfH199cwzz%2BiOO%2B7Q3r17dezYMU2dOlWFhYVasGCB2RHhJH7%2B%2BWcNHz5cknTq1CkFBAQoJSVFXl5emjdvnpo0aWJyQsAYFJfA/zl48KCSk5NltVrtY2lpaXrvvfe0e/duE5PBmR0/flyjRo3SoUOHVFBQIE9PT%2BXm5io4OFixsbFq0KCB2RHhRM6fP69vvvlGKSkp8vDwkL%2B/vzp27FhqKQ5QmVFcApI%2B/vhjvfrqq/L29lZGRobq1q2r9PR0%2Bfr6avDgwRo6dKjZEeHkkpKSlJqaqqpVq8rf318BAQFmRwIAU1BcApK6deumKVOmqF27dmrRooWSkpJ08uRJTZ06VQ8%2B%2BKDatGljdkQ4qcTERAUFBcnNza3UtQULFmjEiBEmpIIzCgwMtG/6%2Bk8Wi0V169ZV586d9cwzz5S5jheoLCguAUnBwcH2qe%2BWLVtq9%2B7dslgsOnbsmEaMGKHPP//c5IRwVoGBgbr99tv19ttvy8/Pr8S1oKAg7d2716RkcDbr16/X22%2B/rbvvvlvNmzeXxWJRUlKSNm3apOjoaNlsNn388ccKCAjg3EtUaizyACQ1aNBAO3fuVLt27VSnTh0lJiaqbdu2qlGjhlJTU82OByfm5uamO%2B%2B8U/369dPkyZPVq1cv%2BzV%2Bd0dxy5cvV2xsrFq0aGEfCw8PV3h4uObMmaNFixapU6dO6tevn4kpAcdRXAKSoqOj9eijj2rnzp3q37%2B/Ro4cqTZt2ujIkSNq3bq12fHgxFxcXDR%2B/HiFhIToueee086dOzVp0iS5u7v/5RQork379u0rc0f4rbfeqoSEBElSzZo1df78%2BSsdDTAUT%2BgBJPXt21cbN25UjRo1NGLECMXExMjHx0cDBgzQW2%2B9ZXY8VAKdOnXS6tWrlZKSov79%2B%2Bvw4cNmR4KTufnmmzVx4kT98ssvys7O1vnz53X48GG9/PLLqlevnmw2myZNmqTg4GCzowIOYc0l8B8yMzNVu3Zts2OgkvhzA9ifioqKNH/%2BfC1ZskR5eXlKTk42MR2cSUpKikaPHq2DBw/au9pFRUVq2LChZs2apdtvv11Dhw7VlClT1LBhQ5PTAv89iktAUk5Ojl5//XWtXbtWBQUF2r9/v7KyshQTE6Np06bJy8vL7IhwUmvWrFFkZGSp8cTERK1atYqNGSglLS1NJ0%2BeVGFhoby9veXr66uioiKWUeCqQXEJSIqJiVF6erpGjx6tRx55RElJScrJydGLL76ooqIizZgxw%2ByIcCL5%2Bfn2o4eKH7pfFnd39ysRCZXUb7/9plWrVmn16tXaunWr2XEAQ7ChB5C0ZcsWbdiwQV5eXvbugaenp1566SVFRESYnA7Opk2bNvYjhlq0aPG3HacDBw5cqVioJM6fP68NGzZo1apV%2BvHHH9W0aVONHDnS7FiAYSguAV08wLisQ4ttNpsuXLhgQiI4s3fffdf%2B9dKlS5nORLns3btX8fHx2rBhg2rUqKGTJ09qyZIlat%2B%2BvdnRAEOxWxzQxYPT33jjjRJHgBw7dkwvvPCCQkJCTEwGZ1T8iU133HGHbrnlFoWEhCgkJES33367zpw5o5o1a/LZgSRpyZIl6t27tx555BEVFBRo7ty5%2Bvrrr%2BXm5sbGHVyVWHMJSDp%2B/LhGjRqlf//737LZbPL09FRubq6Cg4MVFxen%2BvXrmx0RTmrt2rWaPHmyfvrpJ%2BXl5SkqKkqSdObMGU2YMEH9%2B/c3OSHMFhgYqF69eumFF14osTkwODhYa9euLfVkJ6CyY1ockDR%2B/Hjdd999at68uVJSUlS1alX5%2B/srICDA7GhwcvPnz9fs2bMlXdw57u7urtWrV%2BvQoUMaN24cxSX08ssvKz4%2BXuHh4QoLC1NkZKTuvPNOs2MBFYZpcUBSx44dtXLlSg0aNEhr167VhQsX5O/vb3YsVAJ//PGHvVDYunWrevbsKVdXVzVp0kTHjx83OR2cwcCBA/XJJ59o%2BfLl8vLy0oQJExQaGqr8/HwdPXrU7HiA4ZgWB4pJSUnRl19%2BqS%2B//FKHDh1St27d1KdPH3Xo0MHsaHBSYWFh%2Bvjjj%2BXu7q6wsDAtX75cTZo0UVpamqKiorRjxw6zI8LJWK1Wffnll4qPj9fOnTvVpEkT9e/fX0OGDDE7GmAIikugDFarVfHx8ZoxY4ays7Pl6%2Burxx57TPfff7/Z0eBkFi1apA8%2B%2BECurq4KDAzUggULlJ2drccff1xNmjTRSy%2B9ZHZEOLHU1FTFx8drzZo1%2Buabb8yOAxiC4hIoZufOnfr888%2B1adMmeXp6qnfv3oqKilJGRoamTZumkJAQvfDCC2bHhJPZvXu3zp49q/bt28vd3V0FBQVasmSJhg0bZj9s/cSJE2wMw1/iCT24mlBcApJef/11ffHFFzp37py6deumqKgotW/fvsQP%2B/T0dPXq1UsJCQkmJkVlFRQUZD94HQCuZuwWB3TxKSpPP/207rrrLlWrVq3Me3x8fPTYY49d4WS4WvB7PIBrBZ1LALgC6FwCuFZwFBEAAFfAsGHDyhzPzs7WPffcc4XTABWHaXEAACpQcnKy9u3bp4SEBK1cubLUEonff/9dv/76qznhgApAcQkAQAU6d%2B6ctmzZooKCAi1YsKDUdQ8PD40dO9aEZEDFYM0lAFwBrLnEyJEjNX/%2BfLNjABWO4hIAroC2bdtyjBWUkZGhX3/9VefPny91rWPHjiYkAoxHcQkAl2n16tXlvjcqKqoCk6AyeffddzVjxgzZbLZS1ywWiw4cOGBCKsB4FJcAcJn%2Bs8N09uxZ5efnq2bNmioqKtLZs2fl4eGhunXrauPGjSalhLNp3769JkyYoJ49e8rDw8PsOECFYUMPAFym7du327/%2B5JNPlJycrLFjx6p27dqSLj7NaebMmQoODjYrIpxQYWGhIiMj5erqanYUoELRuQQAB3Tu3FkbN24s1YnKzs5Wz549tXXrVpOSwdlMnz5dt912myIjI82OAlQoOpcA4IDz58/rxIkTuummm0qMnzp1ShcuXDApFZxRQUGBpk%2BfrmXLlqlhw4ZycSn5HJO4uDiTkgHGorgEAAf07t1bQ4YMUZ8%2BfdSwYUPZbDadOHFC69evV0REhNnx4ERycnLUpUsXs2MAFY5pcQBwgM1mU3x8vDZv3qw//vhDVqtVPj4%2BCg0N1dChQ%2BXm5mZ2RAC4oiguAQC4Qvbs2aM1a9YoLS1N8%2BbNU2FhoTZt2qQePXqYHQ0wDNPiAHCZZsyYUe57x40bV4FJUJmsXLlS06dP1913361t27ZJkk6ePKnXXntN6enpeuihh0xOCBiD4hIALtPu3bvLdZ/FYqngJKhM3nnnHb3zzjtq3bq1Pv/8c0lS3bp1tXDhQo0dO5biElcNiksAuEwffPCB2RFQCWVkZKhVq1aSSv7iccsttyg9Pd2sWIDhKC4BwEFbt27Vhg0blJqaKovFIn9/f0VFRalNmzZmR4MTadSokXbu3Kn27duXGF%2B3bp0aNGhgUirAeBSXAOCADz74QHFxcerSpYu9K3XkyBENGzZMM2bMUPfu3U1OCGfx%2BOOPa9SoUQoLC1NBQYGmTJmiX375Rbt37%2BaMS1xV2C0OAA4IDw/X1KlT1a5duxLj27ZtU2xsrNasWWNSMjijffv26bPPPtPvv/8uDw8P%2Bfn56d5779XNN99sdjTAMBSXAOCA4OBgJSYmlnpetM1mU0hIiH788UeTkgGAOZgWBwAH%2BPv769tvv1VYWFiJ8e3bt7OODhoyZEi5Tw14//33KzgNcGVQXAKAA8aMGaMnn3xSHTp0UOPGjSVdXHP53XffacqUKSang9latmxp/zovL09r1qxR69atddNNN6mwsFCHDh1SUlKSBg0aZGJKwFhMiwOAg37%2B%2BWd9%2BumnSk1NldVqlb%2B/v/r27VuisADGjRunqKgohYaGlhjfvHmz1q1bp5kzZ5qUDDAWxSUAAFdAq1attGvXLlWpUnLSMD8/XyEhIeU%2BnB9wdkyLA4AD0tLStHjxYh09elRWq7XUddbR4U8%2BPj5asWKFBg8eXGL8008/VZ06dUxKBRiP4hIAHDB27FhlZ2erffv28vDwMDsOnNizzz6rcePGad68eapfv75sNpvS0tJ07ty5y3pePeDsmBYHAAe0aNFC3377rWrXrm12FFQC586d07Zt25SWliar1SofHx916NBBdevWNTsaYBg6lwDggFtvvVWFhYVmx0AlUaNGDfXs2bPUEgqr1Sp3d3eTUgHGonMJAJfp6NGj9q8PHz6s%2BPh4DR48WL6%2BvqXONLzpppuudDw4qe%2B//16vvfaafv31V9lstlLXDxw4YEIqwHgUlwBwmQIDA2WxWPRXPz7/vGaxWCgYYNe9e3eFhITorrvu0nXXXVfqekhIiAmpAONRXALAZTp27Fi57/X19a3AJKhMgoODlZCQUOooIuBqwyccAC5TWQXjqVOndOLECTVr1syERKgMQkJC9PPPP/MZwVWPziUAOCAtLU0TJ07Ud999pypVqmj//v1KT0/Xo48%2Bqnnz5snPz8/siHASn3zyid577z117dpVDRs2lIuLS4nrAwcONCkZYCyKSwBwwOjRo1WtWjWNGzdOERERSkpKUkFBgeLi4nTkyBEtXLjQ7IhwEmFhYX95zWKx6KuvvrqCaYCKQ3EJAA5o3bq1tm7dKk9PTwUFBWnv3r2SpPPnz6tz58764YcfTE4IAFcWay4BwAHXXXddmbvGz5w5U%2BZxM7i2nT59Wt9%2B%2B619U1ijRo3UtWtXVa9e3eRkgHFcLn0LAOCvtGvXThMnTrSffXn27Fnt2rVLY8aMUZcuXcwNB6eyY8cOdevWTbGxsdq%2Bfbu2b9%2BuadOmKTw8XAcPHjQ7HmAYpsUBwAFnzpxRTEyMtmzZIuni2jmLxaKePXtq0qRJqlWrlrkB4TT69eunPn36aNiwYfYxm82m%2BfPnKyEhQUuXLjUxHWAciksAMMDp06eVkpKiqlWrqmHDhkxzopSWLVsqMTGx1DmXVqtVHTt21K5du0xKBhiLaXEAcNBXX30lLy8vBQUFKT8/XzNnztSyZct45jhK8PHx0a%2B//lpqPCUlhV9GcFVhQw8AOCA2NlabNm1SeHi4/vjjDz388MOKiIjQ%2BvXrdezYMcXExJgdEU4iMjJSjz/%2BuAYPHqybb75ZknTkyBF9%2BOGH6tGjh8npAOMwLQ4ADujUqZM%2B/PBD%2Bfv7a968eUpMTNSSJUt06tQp9e/f374WEygqKtKyZcu0atUqpaamymq1yt/fX3379tWjjz4qV1dXsyMChqBzCQAOyM7Olr%2B/vyTpu%2B%2B%2BU69evSRJ3t7eysrKMjManIzFYtGQIUM0ZMgQs6MAFYriEgAc4Ofnp507d6patWpKSkrSW2%2B9JUnat2%2BfvL29TU4HZ/P1119ry5YtSk9PlyTVq1dPYWFhCg0NNTkZYBw29ACAA8aNG6eRI0fqgQceUHR0tHx8fHTmzBlFR0eXOHIGmDVrlsaPH6/MzEw1atRI/v7%2BysjI0NixYzV37lyz4wGGYc0lADiooKBAFy5ckKenp31sz549atmypYmp4Gzatm2rhQsXqlWrViXGExMTNXLkSCUkJJiUDDAW0%2BIA4IC/KwgSEhLUtm3bK5gGzszV1VXNmzcvNR4UFMRmHlxV6FwCgAMCAwPLHK9SpYo8PDyUmJh4hRPBWc2fP182m02jRo2Si8vFVWmFhYVavHix8vPzNXr0aJMTAsaguAQAB1it1hJ/t9ls%2Bu233/Tee%2B%2BpT58%2B6tixo0nJ4GyGDRumvXv3ytXVVX5%2BfiosLNSJEyeUn5%2BvW2%2B9tcS9y5cvNykl4DiKSwCoAOfOndOAAQO0ceNGs6PAScyZM6fc9z7xxBMVmASoWKy5BIAKkJubaz9uBpDKLhjPnDmjWrVqmZAGqDgUlwDggPHjx5cay8vL0969e9nMgxKSk5M1adIkffrpp5KksWPHauPGjapdu7bmzZun4OBgkxMCxqC4BAAHuLu7lxqrXr26hg8frgEDBpiQCM5qypQp6tatmyRp8%2BbN%2BvHHH/X111/rp59%2B0ptvvqmPPvrI5ISAMVhzCQDAFdC6dWv98MMPqlKlip5//nnVqFFDEydOVFFRkUJCQjjnElcNOpcA4KCPP/5YX3zxhY4dOyaLxSJ/f3/dc8896tu3r9nR4ESqVq2q/Px8WSwWbdu2TW%2B%2B%2Baaki%2BtzCwsLTU4HGIfiEgAcMHPmTMXHxysyMlJ9%2BvSRJB0%2BfFhTp05Vbm6u7r//fpMTwlmEhobqySefVJUqVVS9enW1a9dO%2Bfn5euutt0o9tQeozJgWBwAHhIaGauHChbrttttKjCclJSkmJkYbNmwwKRmczfnz5/WPf/xD586d06BBg%2BTr66vc3FyNGTNGU6dOVb169cyOCBiC4hIAHNCqVSvt2rVLVaqUnAiy2WwKCQnRjz/%2BaFIyOLPMzEzVrl3b7BhAhXAxOwAAVGYBAQGKj48vNf7pp5%2BqUaNGJiSCs8rJydGLL76oli1bqlOnTpKkrKwsRUdH6/Tp0yanA4xD5xIAHJCYmKjhw4fL19dXjRs3liQdOXJEKSkpmj17tkJDQ01OCGcRExOj9PR0jR49Wo888oiSkpLsBWdRUZFmzJhhdkTAEBSXAOCgjIwMrVu3TseOHZPVapW/v7/uvvtuNWjQwOxocCJ33HGHNmzYIC8vLwUFBWnv3r2SpLNnzyoiIkI7duwwOSFgDHaLA4CDbrjhBg0dOtTsGHByFotF1atXLzVus9l04cIFExIBFYPiEgAccOjQIc2YMUNHjx6V1Wotdf2rr74yIRWcUXBwsN544w0988wz9rFjx45p6tSpCgkJMTEZYCymxQHAAb1795a3t7e6du0qDw%2BPUtc55xJ/On78uEaNGqVDhw6poKBAnp6eys3NVXBwsOLi4lS/fn2zIwKGoLgEAAcEBQVpx44dqlatmtlRUEkkJSUpNTVVVatWlb%2B/vwICAsyOBBiKaXEAcEBwcLAyMjLk7%2B9vdhRUEi1atFCLFi1KjKWnp8vHx8ekRICx6FwCwGXavn27/ev09HStXLlSUVFR8vX1lcViKXFvx44dr3Q8OJnc3Fy9/vrr2rx5sySpb9%2B%2BmjBhglxcLh41vWLFCsXGxiohIcHMmIBh6FwCwGUaPnx4qbE9e/aUGrNYLDpw4MCViAQnNmvWLP3000%2BKiYmR1WrV4sWL5enpqb59%2B%2BqFF17QwYMHNX78eLNjAoahcwkAQAUKDw/XokWL7IfsHzhwQA899JAKz1Qo4QAAAMBJREFUCgoUFhamiRMnytvb2%2BSUgHHoXAIAUIEyMjLshaUkBQYGKi8vTwsXLtSdd95pYjKgYvBscQAAriCLxSJXV1cKS1y1KC4BAABgGKbFAQCoQDabTStXrlTxLQ5ljQ0cONCMeIDh2NADAEAFCgsLu%2BQ9FouFR4XiqkFxCQAAAMOw5hIAAACGobgEAACAYSguAQAAYBiKSwAAABiG4hIAAACGobgEAACAYSguAQAAYBiKSwAAABiG4hIAAACG%2BV91BxzLfUkqSAAAAABJRU5ErkJggg%3D%3D\" class=\"center-img\">\n",
              "    <img src=\"data:image/png;base64,iVBORw0KGgoAAAANSUhEUgAAApcAAAJNCAYAAABkyV7YAAAABHNCSVQICAgIfAhkiAAAAAlwSFlzAAAPYQAAD2EBqD%2BnaQAAADl0RVh0U29mdHdhcmUAbWF0cGxvdGxpYiB2ZXJzaW9uIDMuMC4zLCBodHRwOi8vbWF0cGxvdGxpYi5vcmcvnQurowAAIABJREFUeJzs3X98z/X%2B//H7fpkfY2y2EZMfNT9maooZThgdP0qTiCmsVDSGRdJJR34lHSK/Koo4lc%2BOdCLp1NbJt5I6yWIti1gZsQ17Y37th/f3D8f7vN72lvF6zd5yu14uu6w9X8/X6/14P8%2Bx92P31/v1envY7Xa7AAAAAAt4VnQBAAAA%2BOOguQQAAIBlaC4BAABgGZpLAAAAWIbmEgAAAJahuQQAAIBlaC4BAABgGZpLAAAAWIbmEgAAAJahuQQAAIBlvCu6AADXn%2B3bt%2Bu9995TWlqa9u3bp1OnTsnX11fBwcFq2bKlevXqpZiYGHl4eFR0qQCAy%2BTBZ4sDuFrsdrtmzJihv//975Ikf39/hYWFyc/PTwUFBdqxY4cKCgokSV26dNH8%2BfNVqVKliiwZAHCZaC4BXDVvv/22pk6dqsqVK2vKlCnq3bu3vLy8HNtPnz6t//u//9OsWbN09uxZPfbYYxo3blwFVgwAuFy85xLAVbNq1SpJ0pAhQ9SnTx%2BnxlKSKleurPj4eD366KOSpLfeekunT5%2B%2B6nUCAK4czSWAq2bv3r2SpKZNm/7uvPj4eL3%2B%2ButKSUlR5cqVJUkTJ05U06ZNNWvWLJ04cUIzZ85UTEyMIiIi1K5dO40aNUo7d%2B686DE3b96sUaNGqWPHjmrZsqXatWun%2BPh4ffDBBxfdx2azae7cuerTp48iIyMVHh6u9u3ba8SIEfrmm29c7hMTE6OmTZvq888/V0pKinr16qWIiAh99913kqQFCxaoadOmmjhxogoLC7VgwQJ1795drVq1UqdOnTRt2jSdPHlSkrRr1y6NHj1aHTp0UEREhHr37q1169a5fNxTp05p6dKluv/%2B%2B3X77berRYsWioqK0kMPPaSUlBSX%2BwwePFhNmzbVqlWrdOLECc2dO9dRS5s2bfToo4/qhx9%2BuOj6AIArNJcArpqAgABJ0vfff3/JeX/6059Uu3btUttOnDih%2BPh4rVq1SrVq1VKbNm1UUlKilJQU9e/f32UzNHfuXMXHxyslJUV%2Bfn6KiopSQECANm/erPHjx2vs2LEqKSlx2icvL099%2B/bVq6%2B%2Bqj179qhFixZq166dKlWqpM8%2B%2B0xDhw7VmjVrLvoc9uzZo6SkJPn4%2BKhdu3aOJtnoySef1LJly1SvXj3dfPPNys3N1VtvvaWnnnpKO3fuVFxcnDIzM9WsWTMFBQVp586devLJJ7Vx40an45w6dUqDBg3S7NmzlZGRoSZNmig6Olr%2B/v766quvNGrUKC1YsOCitRYWFio%2BPl4rVqxQ3bp1FR4erpKSEn3%2B%2BecaPHiw448CACgTOwBcJU899ZQ9LCzM3rRpU/usWbPsOTk5l71v69at7XfffbfTvseOHbP369fPHhYWZu/Xr5/Tfp988ok9LCzM3qZNG/s333zjtO0///mPvX379vawsDD78uXLnbZNnz7dHhYWZu/evbv90KFDjvHi4mL7jBkz7GFhYfbbbrvNXlBQ4LRfly5d7GFhYfaYmBj7K6%2B8Uup5zJ8/3x4WFmbv2LGj/Z577rHn5eU5tqWkpDjWp0ePHvYFCxbYz549a7fb7faSkhL7yJEj7WFhYfZhw4Y5HXP58uX2sLAwe7t27exZWVkutzVv3ty%2Bd%2B9ep20PPvigPSwszN65c2f7oEGD7IcPH3Zsy83NtXfo0MEeFhZmf/7550s9DwC4GJJLAFfN2LFjVbduXdntdr3xxhvq3LmzHnzwQc2bN09fffWVTp06dcljFBQU6LnnnlNwcLBjrHr16po4caKkc7c5%2BuWXXxzbXnnlFUnSU089pbZt2zodq02bNpowYYIkacWKFU7bgoODddddd2nUqFEKDAx0jHt5eSkpKUmenp46fvz4RVPY8xckXUxubq6mTJnilM5269ZNQUFBstvt8vb21siRIx23Y/L09NSAAQMkST/%2B%2BKPTsapVq6bevXtrxIgRatiwodO2oUOHKigoSCUlJdq8ebPLWvLy8vTSSy85kmVJCgoKUu/evSVJ27Ztu%2BjzAIALcZ9LAFdNnTp1tHr1av3tb3/T%2BvXrVVJSom%2B//VbffvutXnnlFfn4%2BCgqKkr33HOP7rrrLnl7l/4VFRwcrNtuu63UeGRkpKpVq6YTJ07o%2B%2B%2B/V8OGDZWTk6OMjAxJ0p133umypm7dusnDw0O//fabsrKy1KhRI0lyXFTkSpUqVRQYGKi8vDzl5eW5nNOuXTt5el787/egoCDdeuutpcbr1aunvLw8denSpdR9PuvVqydJOnr0qNN4//791b9/f5eP4%2BHhofr16/9urW3btlVISEip8QYNGkiS8vPzL/o8AOBCNJcArqqgoCC9%2BOKLmjBhglJSUrR582Zt2bJFhw8fVlFRkb788kt9%2BeWXWrp0qRYvXuxocM4LCwtzeVxPT0/Vq1dPO3fu1L59%2ByTJ6QKf88mmK97e3ioqKtIvv/ziaC6lc%2B9F/H//7//phx9%2BUG5uro4dOyb7f%2B/edvz4cUnnEkpXXDVrRvXr13c5fv6%2BnucbSVfbiouLS207e/asNm3apLS0NOXm5spmszlqy8rK%2Bt1aQ0NDXY77%2BvpKkoqKin7vqQCAE5pLABWidu3aiouLU1xcnKRzF8B88803Wrt2rdLS0rRr1y499thj%2BuCDD%2BTj4%2BPYz9/f/6LHrF69uqRzF/1Izgnfp59%2BesmazjeMkpSZmamRI0c6GtXL9Xt1SnJ6Tley3ei3337TyJEjS50uLytuVA/ASjSXANxC48aN1bhxY8XFxWnFihV6/vnnlZWVpQ0bNig2NtYx7/dONZ9P5s7POX9a2cfHR%2Bnp6WX%2BOMnTp0/r8ccf12%2B//aaGDRsqISFB0dHRqlWrlqPpi4mJ0f79%2By96jKv50ZWjR4/Wjz/%2BqNq1aysxMVF33HGHateu7WgaBw8erP/85z9XrR4A1zeaSwBuZ%2BjQoXrrrbe0d%2B9e7dq1y2nb%2BY%2BHdOX8tvMJZs2aNSWdO62bn5/vdMHK7/n888/122%2B/ycPDQ0uWLNGNN95Yao673Nw9IyND6enpkqTZs2crOjq61Bx3qRXA9YGrxQFcFSkpKfrrX/%2BqJUuWlGn%2B%2BdPK59/3d97PP//scn5JSYkjSTz/HkLj%2BzMvbFJ/z/mrzRs0aOCysdy7d68OHz5c5uOVp19//VWSHPfTvNCJEyd%2B9%2BbyAGA1mksAV0V6erqSk5O1ZMkS/fbbb787NycnR5mZmZJU6orq7Oxs7dixo9Q%2B3333neOTbSIjIyWdu3goPDxckvSPf/zD5WNlZWUpNjbWccsi6X/J55kzZ1zus2jRIsd/X3jz9avNz89P0rm3BLi68OaNN95wJJeuLgQCAKvRXAK4Kh566CEFBQXp%2BPHjGjp0qMuPT7Tb7fr666/1yCOPqKioSLfeeqs6dOjgNKd69eqaNGmSU3Jos9n0wgsvSDp3C6AbbrjBsW3EiBGSpPXr1%2BvNN990XO0tnUv9Ro8erczMTB04cMAx3qxZM0nSwYMHlZqa6hg/deqUpk%2BfrvT0dEcDu2fPniteEyuEhYXJy8tLJSUleueddxzjxcXFeu2115ScnKwuXbpI%2Bt9V4wBQnnjPJYCrolatWlq2bJkSExP1yy%2B/aMiQIQoKClLjxo1VtWpV2Ww27du3z3Evxttuu00LFy4sdQFPTEyMsrOz1bVrV0VERMjHx0fbtm1TQUGB/Pz89Ne//tVp/p///Gc99thjWrJkiWbOnKmVK1eqcePGys/P144dO1RSUqIWLVpo/Pjxjn0iIyPVsWNHffnll0pMTNQtt9wiX19f/fDDD/L29tby5cv14YcfKi0tTStXrtRPP/2kxx9/XG3atCn/hbxAnTp11K9fPyUnJ2vmzJlat26datasqR07dujEiRNauHCh9u3bp88%2B%2B0wff/yxBg8erEGDBqlnz55XvVYA1weaSwBXTVhYmD744AN9%2BOGH%2Bve//63MzExt375dhYWFqly5skJCQhQdHa1evXqpc%2BfOLq%2B49vT01LJly7R48WJ98skn%2Bu2331StWjV1795dSUlJTvepPG/cuHFq37693nrrLX3//ffavHmzfH191bJlS/Xq1UuDBg0qdTueefPmafbs2fr000/1ww8/KDg4WN27d9eIESPUoEED1alTRz/%2B%2BKO2bt2qXbt2XdWrwy80adIk%2Bfv7a/369dq5c6cCAwMVFRWl4cOHq3nz5jp9%2BrS%2B%2BeYbff7559q1a5dTegsAVvOw81sGwDVg4sSJ%2Buc//6l7773XcQocAOB%2BeM8lAAAALENzCQAAAMvQXAIAAMAyNJcAAABu7osvvlD79u2VlJT0u/POnj2ruXPnqmvXrmrTpo2GDRum7Oxsx3abzaaxY8eqffv26tixo5555hnLP8WLC3oAAADc2NKlS/Xuu%2B8qICBAderU0dy5cy869%2B9//7uWL1%2BupUuXKiQkRHPnztW3336rtWvXysPDQ4mJiSosLNTMmTNVVFSkMWPGqGXLlpo0aZJl9ZJcAgAAuDFfX1%2B9%2B%2B67Lj%2BO9kLJycmKj49XkyZN5Ofnp6SkJO3evVvbtm3ToUOHlJqaqqSkJAUEBCgkJEQJCQlas2aNy0/4ulLc5xIAAKCc5ebmOj4k4rygoCAFBwdfct8hQ4aU6TFOnz6tn3/%2BWS1atHCM%2Bfn56cYbb1R6erqOHz8uLy8vNW3a1LE9PDxcJ0%2Be1J49e5zGzaC5vN5V4I2f3VqjRtKuXdLNN0t8ZJ6Tfdm8k8YVLy%2BpTh3p4EGpgj9u3O0EBVV0Be6rUiWpsLCiq3BPvr4V%2BODl8NqYPH%2B%2BFi5c6DQ2atQoJSYmWvYYR48eld1ul7%2B/v9O4v7%2B/8vPzVbNmTfn5%2BTl96MP5ufn5%2BZbVQXMJuFKz5rluoWbNiq4E1whPz3OvR56eNJcoGw%2BP/31x9cMf34ABAxQTE%2BM0FlROf3n93uU0V%2BNSG5pLAAAAI0/rL0kJDg4u0ylwM2rWrClPT0/ZbDancZvNpsDAQAUEBKigoEAlJSXy8vJybJOkwMBAy%2Brggh4AAIA/AF9fX918883KyMhwjB07dkx79%2B5Vq1at1Lx5c9ntdmVmZjq2p6enq0aNGmrUqJFlddBcAgAAGHl6Wv9VTnJyctSjRw/HvSzj4uK0cuVK7d69WwUFBZo9e7aaN2%2BuiIgIBQQEqHv37po3b56OHDmigwcPatGiRerXr5%2B8va07mc1pcQAAADcWEREhSSouLpYkpaamSjqXOhYVFSkrK0uF/70ybODAgcrLy9PgwYN14sQJRUVFOV1INHXqVE2ePFldu3aVj4%2BP7r777kvemP1ycRP16x1Xi7sWGSlt3Sq1bi2lpVV0NW6Fq8Vd8/GRQkKknBzJwtvF/SFwtbhrHh7/u1qcV%2BLSKvRq8fJ48DNnrD%2BmmyK5BAAAMCrH09jXA1YPAAAAliG5BAAAMCK5NIXVAwAAgGVILgEAAIxILk2huQQAADCiuTSF1QMAAIBlSC4BAACMSC5NYfUAAABgGZJLAAAAI5JLU2guAQAAjGguTWH1AAAAYBmSSwAAACOSS1NYPQAAAFiG5BIAAMCI5NIUmksAAAAjmktTWD0AAABYhuQSAADAiOTSFFYPAAAAliG5BAAAMCK5NIXmEgAAwIjm0hRWDwAAAJYhuQQAADAiuTSF1QMAAIBlSC4BAACMSC5NobkEAAAwork0hdUDAACAZUguAQAAjEguTWH1AAAAYBmSSwAAACOSS1NoLgEAAIxoLk1h9QAAAGAZkksAAAAjkktTaC4BAACMaC5NYfUAAABgGZJLAAAAI5JLU1g9AAAAWIbkEgAAwIjk0hSaSwAAACOaS1NYPQAAAFiG5BIAAMCI5NIUVg8AAACWIbkEAAAwcsPkcv/%2B/ZoyZYq2bdumqlWrqlevXho3bpw8L6j14Ycf1rfffus0VlxcrJEjR2rUqFEaPHiwtm7d6rRfo0aNtG7dOstqpbkEAAAwcsPmMjExUeHh4UpNTdXhw4c1fPhw1a5dWw899JDTvGXLljn9fOzYMfXq1Ut33nmnY2zatGnq27dvudXqfqsHAAAAh/T0dGVmZmr8%2BPGqXr26GjZsqPj4eCUnJ19y33nz5unOO%2B9U06ZNr0Kl55BcAgAAGJVDcpmbm6u8vDynsaCgIAUHB19y34yMDNWrV0/%2B/v6OsfDwcGVlZamgoEB%2Bfn4u9/v111/1/vvvKzU11Wl8w4YNev3113XgwAHdcsstmjp1qho0aHAFz8o1kksAAIBylpycrL59%2Bzp9lSV5lCSbzaYaNWo4jZ1vNPPz8y%2B635IlS3TfffcpICDAMdakSRPdfPPNeuedd/Tpp58qICBAjzzyiAoLC6/gWblGcgkAAGBUDsnlgAEDFBMT4zQWFBRU5v3tdvtlPZ7NZtPatWv10UcfOY0/99xzTj9PnTpVUVFR%2Bu677xQdHX1Zj3ExNJcAAABG5dBcBgcHl%2BkUuCsBAQGy2WxOYzabTR4eHk6ppNGnn36qRo0aKTQ09HeP7efnJ39/f%2BXk5FxRba5wWhwAAMCNtWzZUgcOHNCRI0ccY%2Bnp6brppptUrVo1l/t8%2Bumn6tChg9NYQUGBnnvuOadG8siRIzpy5Mglm9DLQXMJAABg5Olp/ZcJLVq0UEREhObMmaOCggLt3r1by5cvV1xcnCSpR48e2rJli9M%2BO3bsUP369Z3G/Pz8tG3bNk2fPl02m01Hjx7VlClT1LRpU0VGRpqq0YjmEgAAwM3Nnz9fubm56tChg4YMGaI%2Bffpo0KBBkqSsrCydPHnSaX5eXp5q165d6jiLFi2S3W5X9%2B7d1blzZxUVFWnJkiWlbsZuhof9ct8hij8WD4%2BKrsA9RUZKW7dKrVtLaWkVXY1b2ZfNrwxXfHykkBApJ0cqKqroatzLZVyzcF3x8JAqVZIKCyVeiUvz9a3AB%2B/e3fpjfvyx9cd0U1zQAwAAYOSGn9BzLWH1AAAAYBmSSwAAACOSS1NYPQAAAFiG5BIAAMCI5NIUmksAAAAjmktTWD0AAABYhuQSAADAiOTSFFavnAwdOlQvvPCC09iiRYs0cOBA7d%2B/XyNGjFBUVJTatGmjCRMmqKCgwDFv3bp16tWrlyIjIxUTE6N33nnHsW3BggUaPny4xo4dq9atW1%2B15wMAAFAWNJflpE%2BfPvrwww919uxZx9gnn3yi3r17KyEhQXXr1tXGjRv1r3/9Szk5OZo1a5YkKTs7W0899ZQmTZqkrVu3asaMGZo2bZoyMzMdx/n%2B%2B%2B/Vtm1bffvtt1f9eQEA8IfnZp8tfq3htHg5%2BfOf/6ypU6fqm2%2B%2BUXR0tLKzs7V7925FRERoxowZWrVqlapUqaIqVaooMTFRw4YN09SpU1W/fn19/fXX8vf3lyRFR0crMDBQGRkZatasmSTJy8tLcXFx8rjMj27Mzc1VXl6e01hQo0YKrlnTmif9R/LftXZ8h4OPT0VX4J68vZ2/43/4lFnXzq8L6%2BOGrrNm0Gr8Giwn1apVU7du3bRu3TpFR0frk08%2BUYcOHZSdna2SkhJFRUU5zS8pKVF%2Bfr4CAgK0atUqvfvuu8rNzZXdbldhYaEKCwsdc%2BvUqXPZjaUkJScna%2BHChU5jo8aMUeKYMVf2JK8Hhrck4JyQii7AzQUGVnQFuNbwBxv%2BaGguy1GfPn00evRoTZkyRSkpKXrwwQfl6%2BurqlWrKi0tzeU%2Bq1ev1pIlS7R48WK1adNGXl5e6tSpk9Mc7yuMRgYMGKCYmBinsaDevaUVK67oeH9ozZqdaywHDZIMb0mAlPPR1oouwS15e59rLA8floqLK7oa91KrVkVX4J48PM41lkVFkt1e0dW4n0qVKvDBSS5NobksR9HR0apWrZpWr16tXbt2qWvXrsrOztbJkyeVnZ2t0NBQSVJBQYGKiopUq1Ytpaen6/bbb1e7du0kSXl5ecrNzbWknuDgYAUHBzsPZmVZcuw/rMxM6SJ/CFyviooqugL3VlzMGl2Ixun32e2sEf5YaM3Lkaenp3r37q2XXnpJXbt2VZUqVRQWFqbIyEjNmDFDR44c0bFjxzR58mRNmDBBklSvXj3t2bNHR48e1f79%2BzV9%2BnTdcMMNysnJqeBnAwDAdYILeky5vp5tBejTp48KCgrUu3dvx9icOXNkt9vVtWtX3XnnnSopKXHctiguLk433nijOnXqpMcee0wPPvigHnzwQS1fvlxvv/12RT0NAACuHzSXpnjY7YTx5enrr7/WX/7yF6WmpsrTHf/PxWWKrkVGSlu3Sq1bc1r8Avuy%2BZXhio%2BPFBIi5eRwWvxCQUEVXYF78vA4977CwkJOi7vi61uBD/7AA9Yf8zoKiHjPZTnKzc3V888/r2HDhrlnYwkAAErjNdsUVq%2BcvPbaa%2BrZs6fatGmjuLi4ii4HAADgqiC5LCfDhw/X8OHDK7oMAABwuUguTaG5BAAAMKK5NIXVAwAAgGVILgEAAIxILk1h9QAAAGAZkksAAAAjkktTaC4BAACMaC5NYfUAAABgGZJLAAAAI5JLU2guAQAAjGguTWH1AAAAYBmSSwAAACOSS1NYPQAAAFiG5BIAAMCI5NIUmksAAAAjmktTWD0AAABYhuQSAADAiOTSFFYPAAAAliG5BAAAMCK5NIXmEgAAwIjm0hRWDwAAAJYhuQQAADAiuTSF1QMAAIBlSC4BAACM3DC53L9/v6ZMmaJt27apatWq6tWrl8aNGyfPC2pdsGCBFi9eLG9v5xbvs88%2BU%2B3atXXmzBnNmDFDGzdu1JkzZxQVFaUpU6aoVq1altXqfqsHAABQkTw9rf8yKTExUSEhIUpNTdXy5cuVmpqqFStWuJwbGxur9PR0p6/atWtLkubOnauMjAwlJyfr448/lt1u19NPP226PiOaSwAAADeWnp6uzMxMjR8/XtWrV1fDhg0VHx%2Bv5OTkyzpOcXGx3n33XSUkJKhu3bqqWbOmxo4dq40bNyonJ8eyejktDgAAYFQOp8Vzc3OVl5fnNBYUFKTg4OBL7puRkaF69erJ39/fMRYeHq6srCwVFBTIz8/Paf5PP/2kgQMHaufOnapbt66efvppdezYUXv37tXx48cVHh7umNukSRNVrlxZGRkZCgkJMfksz6G5BAAAKGfJyclauHCh09ioUaOUmJh4yX1tNptq1KjhNHa%2B0czPz3dqLuvUqaPQ0FCNGzdOwcHBSk5O1ogRI7Ru3TrZbDZJKnWsGjVqKD8//4qelys0lwAAAEblkFwOGDBAMTExTmNBQUFl3t9ut5dpXv/%2B/dW/f3/Hz/Hx8frwww%2B1bt063XHHHZd1rCtFcwkAAGBUDs1lcHBwmU6BuxIQEOBIHc%2Bz2Wzy8PBQQEDAJfevV6%2BecnNzHXNtNpuqVavm2H706FEFBgZeUW2ucEEPAACAG2vZsqUOHDigI0eOOMbS09N10003OTWJkrR48WJt3rzZaWz37t0KDQ1VaGio/P39lZGR4di2c%2BdOFRYWqmXLlpbVS3MJAABg5Ga3ImrRooUiIiI0Z84cFRQUaPfu3Vq%2BfLni4uIkST169NCWLVsknUslp0yZoj179ujMmTNatmyZ9u7dq3vvvVdeXl66//779eqrr%2BrAgQPKz8/XSy%2B9pDvvvNNxqyIrcFocAADAzc2fP1/PPvusOnToID8/Pw0cOFCDBg2SJGVlZenkyZOSpHHjxkk6915Lm82mm266SW%2B%2B%2Babq1KkjSRo9erROnDih2NhYFRcXq0uXLnruuecsrdXDXt7v6oR78/Co6ArcU2SktHWr1Lq1lJZW0dW4lX3Z/MpwxcdHCgmRcnKkoqKKrsa9XMY1C9cVDw%2BpUiWpsFDilbg0X98KfPCZM60/psU3KndnJJcAAABGbvjxj9cSVg8AAACWIbkEAAAwIrk0hdUDAACAZUguAQAAjEguTaG5BAAAMKK5NIXVAwAAgGVILgEAAIxILk1h9QAAAGAZkksAAAAjkktTaC4BAACMaC5NYfUAAABgGZJLAAAAI5JLU1g9AAAAWIbkEgAAwIjk0hSaSwAAACOaS1NYPQAAAFiG5BIAAMCI5NIUmksAAAAjmktTWD0AAABYhuQSAADAiOTSFFYPAAAAliG5BAAAMCK5NIXmEgAAwIjm0hRWDwAAAJYhuQQAADAiuTSF1QMAAIBlSC4BAACMSC5Nobm8zu3Ltld0CW7Jx0cKkZTz0VYVFVV0Ne6lfqhHRZfgniIjpa1bFdKztZSWVtHVuJWcg/yeccXbWwoMlI4fl4qLK7oa9xMSUoEPTnNpCqsHAAAAy5BcAgAAGJFcmsLqAQAAwDIklwAAAEYkl6bQXAIAABjRXJrC6gEAAMAyJJcAAABGJJemsHoAAACwDMklAACAEcmlKTSXAAAARjSXprB6AAAAsAzJJQAAgBHJpSmsHgAAACxDcgkAAGDkhsnl/v37NWXKFG3btk1Vq1ZVr169NG7cOHm6qHXVqlV68803lZubqwYNGigxMVHdunWTJE2cOFHr1q2Tl5eXY76vr6%2B2bNliWa00lwAAAEZu2FwmJiYqPDxcqampOnz4sIYPH67atWvroYcecpr38ccfa86cOXrttdfUqlUrvf/%2B%2Bxo7dqw%2B%2BugjhYaGSpIef/xxJSYmllut7rd6AAAAcEhPT1dmZqbGjx%2Bv6tWrq2HDhoqPj1dycnKpuadPn9YTTzyh2267TT4%2BPurfv7%2BqVaum77///qrVS3IJAABgVA7JZW5urvLy8pzGgoKCFBwcfMl9MzIyVK9ePfn7%2BzvGwsPDlZWVpYKCAvn5%2BTnGY2NjnfY9duyYTpw4oZCQEMfY119/rU8//VS//vqrmjRpoueee04tW7a80qdWCs0lAABAOUtOTtbChQudxkaNGlWm09M2m001atRwGjvfaObn5zs1l0Z2u12TJk3SLbfcorZt20qSQkND5enpqTFjxqhatWpauHChHn74YX388ceqVavWlTy1UmguAQAAjMohuRwwYIBiYmJdxI7gAAAgAElEQVScxoKCgsq8v91uv6zHKyoq0sSJE/Xzzz9r5cqVjvGRI0c6zXvyySe1fv16paamqn///pf1GBdDcwkAAGBUDs1lcHBwmU6BuxIQECCbzeY0ZrPZ5OHhoYCAgFLzT58%2BrYSEBJ06dUpvv/327yaSXl5eqlu3rnJzc6%2BoNle4oAcAAMCNtWzZUgcOHNCRI0ccY%2Bnp6brppptUrVo1p7l2u11JSUny9vbWm2%2B%2B6dRY2u12zZw5U5mZmY6xwsJC7d2713EluRVoLgEAAIw8Pa3/MqFFixaKiIjQnDlzVFBQoN27d2v58uWKi4uTJPXo0cNxn8oPPvhAP//8s15%2B%2BWX5%2Bvo6HcfDw0P79u3TlClTlJOToxMnTmj27Nny8fFx3AfTCjSXAAAAbm7%2B/PnKzc1Vhw4dNGTIEPXp00eDBg2SJGVlZenkyZOSpDVr1mj//v1q27atIiIiHF%2BTJk2SJM2YMUMNGzZU37591b59e%2B3YsUMrVqxQ1apVLavVw3657xDFH8q%2BfRVdgXvy8ZFCQqScHKmoqKKrcS/1Qz0qugT3FBkpbd0qtW4tpaVVdDVuJecgLzOueHtLgYHS4cNScXFFV%2BN%2BDHfOufo2b7b%2BmNHR1h/TTXFBDwAAgJEbfkLPtYTVAwAAgGVILgEAAIxILk1h9QAAAGAZkksAAAAjkktTaC4BAACMaC5NYfUAAABgGZJLAAAAI5JLU2guAQAAjGguTWH1AAAAYBmSSwAAACOSS1NYPQAAAFiG5BIAAMCI5NIUmksAAAAjmktTWD0AAABYhuQSAADAiOTSFFYPAAAAliG5BAAAMCK5NIXmEgAAwIjm0hRWDwAAAJYhuQQAADAiuTSF1QMAAIBlSC4BAACMSC5NobkEAAAwork0hdUDAACAZUguAQAAjEguTWH1AAAAYBmSSwAAACOSS1NoLgEAAIxoLk1h9QAAAGAZkksAAAAjkktTWD0AAABYhuQSAADAiOTSFJpLAAAAI5pLU1g9AAAAWIbkEgAAwIjk0hRWDwAAAJYhuQQAADAiuTSF5hIAAMCI5tIUVg8AAACWIbkEAAAwIrk0hdUDAACAZSxrLps2barPP//cqsNZYt%2B%2BfWratKl27959RfsPHjxYs2fPvuj2Dh066L333rvS8iRJ3377rSIiIlRYWGjqOAAAwCKentZ/mbR//3499thjioqKUpcuXfS3v/1NZ8%2BedTl35cqV6t69u1q3bq24uDj98MMPjm1nzpzRX//6V91xxx2KiorS6NGjlZ%2Bfb7o%2BI5LLCtamTRulp6erUqVKFV0KAACQ3LK5TExMVEhIiFJTU7V8%2BXKlpqZqxYoVpeb9%2B9//1oIFC/Tiiy/qq6%2B%2BUpcuXTRixAidPHlSkjR37lxlZGQoOTlZH3/8sex2u55%2B%2BmnT9RnRXAIAALix9PR0ZWZmavz48apevboaNmyo%2BPh4JScnl5qbnJysvn376pZbblHlypX1yCOPSJI%2B%2B%2BwzFRcX691331VCQoLq1q2rmjVrauzYsdq4caNycnIsq9fSC3ry8vI0dOhQpaWlqX79%2Bpo3b57CwsIkSVu2bNGLL76oXbt2qVq1arrvvvs0ZswYeXp6auLEiTpz5ozmzp0r6Vxk26pVK61cuVJRUVHauHGj5syZo3379qlatWqKjY3VuHHj5OnpKZvNpunTp%2Bvrr7/WiRMn1K5dOz333HMKCQlx1JWVlaUJEyZo586datGihV5%2B%2BWXVqVNHkpSamqr58%2Bdr7969CggIUHx8vIYMGVLquRUXF2vmzJlav369KlWqpNGjR1/W2ixZskSrVq3SkSNHVKdOHSUkJCg2NlbffPONhgwZou3bt%2Bujjz7Ss88%2B69jHbrerqKhIf//739W2bVvt379f06ZNU1pams6ePasuXbror3/9q/z8/MpUQ25urvLy8pzG7PYgBQUFX9ZzuR54ezt/h0FkZEVX4J6aNXP%2BDgf%2BHbnm5eX8HW6kHC7ocfUaHBQUpODgS78GZ2RkqF69evL393eMhYeHKysrSwUFBU59QEZGhnr16uX42dPTU82bN1d6erqaN2%2Bu48ePKzw83LG9SZMmqly5sjIyMpx6JzMs/SefnJysWbNmKSgoSAkJCXrppZf06quv6tChQxo2bJgmTJig/v376%2Beff9ajjz6q4OBgPfDAA797zKKiIiUlJWnRokWKjo7Wr7/%2BqkceeUSRkZHq1q2bJk6cKG9vb3344Yfy8vLS5MmT9fTTT2vZsmWOY6xevVqvvPKKvL29NXjwYL3%2B%2BuuaNGmSMjMzNWbMGL388svq1KmTtmzZohEjRujGG29Up06dnOpYs2aN/vWvf%2Bmdd95R3bp1NWvWLB09erRM67J161atXLlS//jHP1S3bl1t2rRJiYmJ6tixo9O8Pn36qE%2BfPo6fZ8%2BerS%2B//FK33nqr7Ha7EhIS1Lp1a82dO1cnT57UE088oVmzZmnatGllqiM5OVkLFy50Ghs5cpRGj04s0/7Xo8DAiq7ADW3dWtEVuLd33qnoCtwO/4x%2BX82aFV0BrgZXr8GjRo1SYuKlX4NtNptq1KjhNHa%2B0czPz3dqLm02m1MTen5ufn6%2BbDabJJU6Vo0aNSx936WlzWVsbKwaNWokSYqJidGqVaskSevXr9cNN9zgaCRbtGih2NhYffTRR5dsLs%2BcOaPTp0%2BratWq8vDwUMOGDfXJJ5/I09NThw8f1meffaYNGzY4FnL8%2BPHq3Lmz018HgwYNcvxlEB0draysLEnnGsbo6Gh169bNsa1z587asGFDqeYyJSVFvXv3VpMmTSRJY8aMcRlHu3L8%2BHF5enqqcuXK8vDwUMeOHfXdd9/J09NTP//8s8t9vvjiC61atUpr1qxRpUqVtH37du3atUurVq1SlSpVVKVKFSUmJmrYsGGaOnWqPDw8LlnHgAEDFBMT4zRmtwfJwiT8D8Pb%2B1xjefiwVFxc0dW4l5CerSu6BPfUrNm5xnLQICkzs6KrcSuHU/iDxBUvr3ONpc0mlZRUdDXupyL/uLfr0q%2Bpl8vVa3BQUFCZ97fb7ZbNvZxjXQlLm8v69es7/tvX11dFRUWSzl21fb4pO%2B/GG2/URx99dMlj%2Bvn5aeTIkXrwwQfVqlUrdejQQX379lXdunWVnZ0tSU5pnyR5eXnpwIEDCggIKFVX5cqVHVdmX6yurS6SmZycHHXu3Nnxc0BAQKm/DC4mOjpaLVq0UExMjKKjo3XHHXcoNjZWVatWdTk/Ly9PTz31lCZPnqyGDRtKkrKzs1VSUqKoqCinuSUlJcrPz3c8198THBxcKn7ft0/67/9McKG4mPUpJS2toitwb5mZrNEF%2BAPt95WUsEbu5iIXYZvi6jW4rAICAhyp43k2m00eHh6lXv9r1arlcu7NN9/smGuz2VStWjXH9qNHjyrQwm7e0ubyYunZxW6zc7H5JRf8CTdq1Cj1799fqampSk1N1euvv64VK1aocuXKkqTPP/9ctWrVKnWcffv2/W69l1NXYWGhii/413%2BxWwBcqFKlSnr11VeVmZmpTz/9VG%2B//baWLVvm8jZGZ8%2Be1ZNPPqnOnTvrnnvucYz7%2BvqqatWqSuNFCwCA60rLli114MABHTlyxNEgpqen66abbnJqEs/PzcjI0L333ivpXE/1448/ql%2B/fgoNDZW/v7/jPZyStHPnThUWFqply5aW1XtVrhZv0KCB9uzZ4zS2Z88ehYaGSjrXfJ06dcqxbe/evU5zbTabQkJC9MADD2j58uXq0aOH1q5dq3r16snT01M//fSTY25RUVGZr3i6VF1GwcHBOnjwoOPn3NxcHTt2rEyPU1RUpIKCAjVr1kwjR47U%2B%2B%2B/Lw8PD3311Vel5r766qvKy8tzurDnfK0nT550pLWSVFBQYPm9qQAAuN6dPWv9lxktWrRQRESE5syZo4KCAu3evVvLly9XXFycJKlHjx7asmWLJCkuLk7vv/%2B%2Bvv/%2Be506dUqvvPKKKlWqpM6dO8vLy0v333%2B/Xn31VR04cED5%2Bfl66aWXdOedd6p27dpml83hqjSXPXv2VHZ2tpKTk1VcXKzt27frn//8p6OrbtiwobZt26aDBw/q%2BPHjWrZsmbz%2Be/lcWlqaevbsqe3bt8tut%2Bvw4cPKyspSgwYNVL16dfXq1UuzZ8/WwYMHdfr0ab300kt6%2BOGHy/R%2BgnvuuUebNm1yXJ7/xRdfaOPGjaVOs0vSn/70J61fv16//PKLCgoKNHfuXPn6%2Bpbp%2BS9btkyPPvqoozndvXu3jh49qgYNGjjN27Jli9544w3NmzdPVapUcdoWFhamyMhIzZgxQ0eOHNGxY8c0efJkTZgwoUw1AACAa9f8%2BfOVm5urDh06aMiQIerTp48GDRok6dxdcc7fx/KOO%2B7QE088obFjx6pt27b66quvtGTJEsfZ3tGjR%2BuWW25RbGysunbtqmrVqmnGjBmW1npVbhBRr149LVy4UC%2B//LJeeOEFBQcHa8yYMY4mrl%2B/fvrqq6/Uo0cPBQcHa9KkSUpNTZUkRUZG6vHHH9fYsWN16NAh1axZUz179nRcCPTss89q2rRpuuuuu%2BTp6albb71VixcvLtMFLuebtTlz5uiJJ55Q/fr1NXv2bLVt27bU3Pj4eGVnZ%2Bv%2B%2B%2B933Irou%2B%2B%2BK9Pzf%2Bihh/Tbb7%2BpT58%2BOn36tOrWravx48erefPm%2Buabbxzz1qxZo5MnT6pv375O%2Bz/%2B%2BONKSEjQnDlzNHXqVHXt2lWVKlVSdHS0XnjhhTLVAAAAyqY83nNpVp06dbR06VKX24xncKVzFzKfbzwvVKlSJU2ePFmTJ0%2B2vMbzPOzlfckQ3Nol3pZ63fLxkUJCpJwcLui5UP1Q66%2Bi/EOIjDx3m6bWrbmg5wI5B3mZcYW7Uvw%2Bi265eEUM79SzzAUnJP/Q%2BIQeAAAAWIbPTbDA7bffrjNnzlx0%2B7/%2B9S/HVVkAAMC9ueNp8WsJzaUFzl%2BhBQAArn00l%2BZwWhwAAACWIbkEAAAwILk0h%2BQSAAAAliG5BAAAMCC5NIfmEgAAwIDm0hxOiwMAAMAyJJcAAAAGJJfmkFwCAADAMiSXAAAABiSX5tBcAgAAGNBcmsNpcQAAAFiG5BIAAMCA5NIckksAAABYhuQSAADAgOTSHJpLAAAAA5pLczgtDgAAAMuQXAIAABiQXJpDcgkAAADLkFwCAAAYkFyaQ3MJAABgQHNpDqfFAQAAYBmSSwAAAAOSS3NILgEAAGAZkksAAAADkktzaC4BAAAMaC7N4bQ4AAAALENyCQAAYEByaQ7JJQAAACxDcgkAAGBAcmkOzSUAAIABzaU5nBYHAACAZUguAQAADEguzSG5BAAAgGVILgEAAAxILs2huQQAADCguTSH0%2BIAAACwDMklAACAAcmlOSSXAAAAsAzNJQAAgMHZs9Z/lSebzaaxY8eqffv26tixo5555hmdPn36ovM/%2BeQT3XPPPYqMjFT37t31j3/8w7FtwYIFat68uSIiIpy%2BDh06VOZ6OC0OAABgcK2dFn/22WdVWFio9evXq6ioSGPGjNHs2bM1adKkUnO3b9%2Bu8ePH66WXXlLnzp21adMmjRw5Uo0bN9btt98uSYqNjdULL7xwxfWQXAIAAFyjDh06pNTUVCUlJSkgIEAhISFKSEjQmjVrVFRUVGq%2BzWbT8OHD1a1bN3l7e6tTp04KCwvTli1bLKuJ5BIAAMCgPJLL3Nxc5eXlOY0FBQUpODjY1HF37NghLy8vNW3a1DEWHh6ukydPas%2BePU7jknTHHXfojjvucPxcXFysvLw8hYSEOMZ%2B%2BuknDRw4UDt37lTdunX19NNPq2PHjmWuieYSAADAoDyay%2BTkZC1cuNBpbNSoUUpMTDR1XJvNJj8/P3l4eDjG/P39JUn5%2BfmX3H/27NmqWrWqevXqJUmqU6eOQkNDNW7cOAUHBys5OVkjRozQunXr1Lhx4zLVRHMJAABQzgYMGKCYmBinsaCgoDLtu3btWk2YMMHltqSkJNnt9suux263a/bs2Vq/fr1WrlwpX19fSVL//v3Vv39/x7z4%2BHh9%2BOGHWrduncaOHVumY9NcAgAAGJRHchkcHHzFp8BjY2MVGxvrctumTZtUUFCgkpISeXl5STqXZkpSYGCgy33Onj2rp59%2BWtu3b9eqVasUGhr6u49fr1495ebmlrleLugBAAC4RjVv3lx2u12ZmZmOsfT0dNWoUUONGjVyuc/zzz%2BvXbt2uWwsFy9erM2bNzuN7d69%2B5INqBHNJQAAgMG1dJ/LgIAAde/eXfPmzdORI0d08OBBLVq0SP369ZO397kT1EOHDtWGDRskSd99953WrVunJUuWqGbNmqWOZ7PZNGXKFO3Zs0dnzpzRsmXLtHfvXt17771lronT4gAAAAbX2n0up06dqsmTJ6tr167y8fHR3XffraSkJMf27OxsHT16VJK0Zs0aHT9%2BXF26dHE6Rps2bbRs2TKNGzdO0rn3WtpsNt1000168803VadOnTLX42G/kneB4g9j376KrsA9%2BfhIISFSTo7k4jZh17X6oR6XnnQ9ioyUtm6VWreW0tIquhq3knOQlxlXvL2lwEDp8GGpuLiiq3E/hjvjXHUff2z9Mbt3t/6Y7orkEgAAwOBaSy7dDe%2B5BAAAgGVILgEAAAxILs2huQQAADCguTSH0%2BIAAACwDMklAACAAcmlOSSXAAAAsAzJJQAAgAHJpTk0lwAAAAY0l%2BZwWhwAAACWIbm8zgUFVXQF7snjv59wWKuWxAekOuOj/Fzz9pYCJR1O2cpH%2BV0gpA4fGerSfz8yNPBOPjLUpQr85UtyaQ7JJQAAACxDcgkAAGBAcmkOzSUAAIABzaU5nBYHAACAZUguAQAADEguzSG5BAAAgGVILgEAAAxILs2huQQAADCguTSH0%2BIAAACwDMklAACAAcmlOSSXAAAAsAzJJQAAgAHJpTk0lwAAAAY0l%2BZwWhwAAACWIbkEAAAwILk0h%2BQSAAAAliG5BAAAMCC5NIfmEgAAwIDm0hxOiwMAAMAyJJcAAAAGJJfmkFwCAADAMiSXAAAABiSX5tBcAgAAGNBcmsNpcQAAAFiG5BIAAMCA5NIcmksAAAADmktzOC0OAAAAy5BcAgAAGJBcmkNyCQAAAMuQXAIAABiQXJpDcgkAAGBw9qz1X%2BXJZrNp7Nixat%2B%2BvTp27KhnnnlGp0%2Bfdjn3vffeU7NmzRQREeH0tX379v8%2B97OaO3euunbtqjZt2mjYsGHKzs6%2BrHpoLgEAAK5hzz77rE6dOqX169drzZo12r17t2bPnn3R%2BW3atFF6errTV6tWrSRJb7/9tj744AMtWbJEn332mRo2bKiRI0fKbreXuR6aSwAAAINrKbk8dOiQUlNTlZSUpICAAIWEhCghIUFr1qxRUVHRZR8vOTlZ8fHxatKkifz8/JSUlKTdu3dr27ZtZT4GzSUAAMA1aseOHfLy8lLTpk0dY%2BHh4Tp58qT27Nnjcp8DBw7ooYceUps2bdS1a1etXbtWknT69Gn9/PPPatGihWOun5%2BfbrzxRqWnp5e5Ji7oAQAAMCiPpDE3N1d5eXlOY0FBQQoODjZ1XJvNJj8/P3l4eDjG/P39JUn5%2Bfml5gcEBKhhw4Z64okndNNNNyklJUUTJkxQcHCwGjduLLvd7tjfeDxXx7oYmksAAACD8mguk5OTtXDhQqexUaNGKTEx8ZL7rl27VhMmTHC5LSkp6bLeD9m5c2d17tzZ8fNdd92llJQUvffeexo/frwkXdbxXKG5BAAAKGcDBgxQTEyM01hQUFCZ9o2NjVVsbKzLbZs2bVJBQYFKSkrk5eUl6VyaKUmBgYFlOn69evX0ww8/qGbNmvL09HTsf57NZivzsSSaSwAAACflkVwGBwebPgXuSvPmzWW325WZmanw8HBJUnp6umrUqKFGjRqVmr9q1Sr5%2B/urV69ejrHdu3crNDRUvr6%2Buvnmm5WRkaG2bdtKko4dO6a9e/c6riYvCy7oAQAAuEYFBASoe/fumjdvno4cOaKDBw9q0aJF6tevn7y9z2WIQ4cO1YYNGyRJhYWFmjZtmtLT01VUVKT169fr888/18CBAyVJcXFxWrlypXbv3q2CggLNnj1bzZs3V0RERJlrIrkEAAAwuNY%2BoWfq1KmaPHmyunbtKh8fH919991KSkpybM/OztbRo0clSUOGDNGJEyc0ZswY5eXlqX79%2Blq0aJFatmwpSRo4cKDy8vI0ePBgnThxQlFRUaXeK3opHnaz79rENe3MmYquwD15eEiVKkmFhRL/Qpxd8FYc/Je3txQYKB0%2BLBUXV3Q17iWkjselJ12PIiOlrVul1q2ltLSKrsb9VOAv36eftv6YM2daf0x3xWlxAAAAWIbT4gAAAAbX2mlxd0NyCQAAAMuQXAIAABiQXJpDcwkAAGBAc2kOp8UBAABgGZJLAAAAA5JLc0guAQAAYBmSSwAAAAOSS3NoLgEAAAxoLs3htDgAAAAsQ3IJAABgQHJpDsklAAAALENyCQAAYEByaQ7NJQAAgAHNpTmcFgcAAIBlSC4BAAAMSC7NIbkEAACAZUguAQAADEguzaG5BAAAMKC5NIfT4gAAALAMySUAAIAByaU5JJcAAACwDMklAACAAcmlOdd1cjl79mwNHjy4ossAAABu5OxZ67%2BuJ5fVXMbExCg8PFwRERGOr5iYGM2cOVMnTpworxqvCZs3b1Z6evol5yUnJ6tp06Z6/fXXr0JVAAAAV9dlJ5eTJk1Senq60tPTtX37dr322mvatGmTZs2aVR71XTPefPNN/fDDD5ect3r1at1111167733rkJVAADgcpFcmmPqtLiHh4duvvlmPfroo0pJSXGM79%2B/XyNGjFBUVJTatGmjCRMmqKCgQJJ06tQpPfXUU4qOjlZkZKQGDhzoaMoWLFig%2BPh4LV68WFFRUbrtttv08ssvO4579uxZLVq0SHfeeadatWqle%2B%2B9V5s3b3Zsj4mJ0erVq/XYY48pMjJS3bp105dffunY/u9//1vdu3dXZGSkxo4dq9OnTzs9nw0bNig2Nla33nqrunbtquTkZMe2iRMnatq0aZo5c6batm2rdu3aaenSpZKkESNGaOPGjZo%2BfbqGDh160fX66aeftGvXLj3zzDM6ePCg0tLSnLbv3btXffv2VatWrfTAAw9o/fr1atq0qWN7Zmamhg4dqttvv13t2rXT9OnTVVRUdOn/oQAAAK4SSy7oMTY4drtdCQkJat26tebOnauTJ0/qiSee0KxZszRt2jStWLFChw4dUkpKiipVqqSlS5fq2Wef1T//%2BU9J0rZt2xQZGakvvvhC6enpGjZsmMLDw9WtWze9/fbbWr16tV577TU1atRIb731lhISEpSamqrAwEBJ0htvvKEXX3xRzZo103PPPafnn39eGzZs0LFjx5SUlKTx48drwIAB2rx5s8aNG6fmzZtLktLT0/XMM89owYIFio6OVlpamh599FHdfPPNat26tSRp/fr1mjhxojZt2qR169bp2WefVWxsrF599VXFxMTo0UcfVVxc3EXXafXq1YqJiVFgYKC6d%2B%2Bud999V5GRkY7to0aNUuPGjfXWW29p165dGj9%2BvGPbqVOn9Mgjj2jw4MFaunSpcnJylJCQoDfeeEMjRowo0/9Oubm5ysvLcxrz9w9ScHBwmfa/nnh4OH/H/3hzGaBLXl7O32Fg%2BD0Hg2bNnL/DbVxvSaPVTL1MnD17Vj/99JOWLl2q3r17SzrXpO3atUurVq1SlSpVVKVKFSUmJmrYsGGaOnWqjh07Jh8fH1WuXFne3t5KSEhQQkKC45ienp4aOXKkvL29ddttt6ljx47auHGjunXrpnfffVeDBg1ypHkPP/ywXn/9dW3cuFH33XefJKlLly5q1aqVJKl79%2B56//33dfbsWX355ZeqWrWqHnjgAXl6eqpTp066/fbbHe8Vfe%2B999S5c2d17NhRknT77berZ8%2BeWrt2raO5rF%2B/vu69915JUq9evfSXv/xFv/zyS5mas8LCQn3wwQeOtw/ExsYqISFBzzzzjKpWraqcnBz99NNPmjVrlqpWrapbbrlFPXv21GuvvSZJ2rhxo%2Bx2u4YPHy5JCg0N1bBhw/Taa6%2BVublMTk7WwoULncZGjhyl0aMTy7T/9cjHp6IrcD///TsOF1GzZkVX4Ia2bq3oCtzbO%2B9UdAW4AM2lOZfdXE6fPl3PP/%2B8pHPNZZUqVTR48GCNHDlSkpSdna2SkhJFRUU57VdSUqL8/HwNGjRIw4YNU6dOnfSnP/1J3bp1U9euXR3zGjRoIG9DNHLDDTfol19%2BkSTt27dPTZo0cTpugwYNtH//fsfP9evXd/x35cqVVVJSoqKiIh08eFB169aVp%2Bf/3gnQsGFDZWRkSDp3Snrz5s2KiIhwbLfb7Y5m88JjV6lSRZJKnVq/mJSUFHl6ejqOFxUVpRo1auijjz7Sfffdp9zcXElSvXr1HPsYa8nOztbhw4dL1VepUqUyPb4kDRgwQDExMf%2B/vTuPqrrO/zj%2BuqJA4pKYoII4LajlgriQGqKCDqYppJaTjTNaFqmpk2bMWNqmoxWYqbnl2FRmLtCoaQ5lZi6jCW4YP8yfS4kbiwLKIhcu9/eHdX8Qmjj34vdiz8c5noOf7/deXnJutzfvz3LLjdWv30hmc6Wf4jfDZLpSWBYXS1ar0Wmcy6VLRidwTi4uVwrLnBzJYjE6jXNp2KeD0RGcU6tWVwrLYcOkw4eNTuN8%2BKWk2rrh4vKll16yTf3u2LFDY8eOVUREhK0gdHNzU%2B3atSusJ/yZp6enPv/8c3377bfasmWLpk2bpvXr12vu3LmSrhShZVmtVpl%2Bmps0X6MKMpWZuyxbPJZlNpsrPHdpmV9N3N3d9dhjj2nq1KnX/Ldf67krY82aNcrNzVXnzp1tY0VFRYqPj9fgwYNl/amCKVtYl/13ubm5yd/fX5999tl/nSEkxBQAACAASURBVMHLy6tCl7WoiOLp11it/Hx%2BqaTE6ATOzWLhZ1TBNf5/gJ8cPszPyMnQubSPXRt6goODFRYWpqlTp9qKIz8/PxUUFCgtLc12X15enrKzsyVJ%2Bfn5slgs6tatm1566SWtWbNGCQkJtutnz55VSZl35jNnzsjb29v23MePH7ddKykp0Y8//qhmzZpdN6uXl5fS09NtOSXp2LFjtq/9/Pz0/fffl3vMuXPnKhSk/420tDTt3r1bCxYs0Nq1a21/li5dqr179%2BrEiRPy9PSUdOXf%2B7OyRxv5%2BfkpLS2t3JFP2dnZto1SAADAMdgtbh%2B7D1GfMmWKDh8%2BbNtZ3aJFCwUGBmrGjBm6cOGCLl68qJdfflkvvPCCJGn8%2BPF64403lJeXp9LSUu3fv1%2B333676tevL%2BlKwbh06VKZzWYlJSVp586dtqnciIgIrVixQseOHZPZbNaiRYtksVgqTPVeTbdu3ZSXl6eVK1fKbDZr8%2BbNOnjwoO36kCFDtG/fPsXHx8tsNis1NVWPPPKIEhISKvVzcHNz08mTJ3XpKnOG8fHxatGihXr27KnmzZvb/nTr1k1t2rRRfHy8fH195evrq/fee0%2BFhYVKTk4u972Dg4Pl6elp%2B9llZmZqwoQJiomJqVQ%2BAACAm8Hu4vKOO%2B7QxIkT9dZbbyk9PV2SFBsbK6vVqrCwMPXp00cWi0WzZs2SJL3%2B%2Buv68ccfFRISos6dO2v58uV69913bVPO/v7%2BKikpUffu3RUVFaUnn3xSPXv2lHRlA0/fvn311FNPqVu3bvr222/14Ycfql69etfN2bhxY8XGxmrZsmUKCgrS%2BvXrNWzYMNv1u%2B%2B%2BW7GxsVq6dKk6depk24TUr1%2B/Sv0cHn30Ua1YsUJ//OMfy42XlpbqX//6lwYNGnTVxw0ePFhr166VxWLRO%2B%2B8owMHDqhLly6aO3euoqKibFPjtWrV0oIFC3T8%2BHE98MADioyM1O9%2B9ztFR0dXKh8AAKgcOpf2MVmtzrOibN68edq%2BfbtWr15tdBRDWK1WlZSUqNZPW5Tj4%2BM1d%2B5cffPNN1X2PYuKquypqzWTSXJ1lcxm1lz%2BUk6O0QmcU82aV3bSnz/Pmstf8m7MmV5XFRh4ZdNKhw6subwaA998IyIc/5zr1jn%2BOZ0VJ9Y5kREjRqhRo0Z6/fXXdenSJa1YsUI9evQwOhYAAL8pv7VOo6PZPS0Ox5k%2Bfbqys7MVHBysyMhI3XPPPeUOUgcAAFWPaXH7ONW0OG4%2BpsWvjmnxa2Na/OqYFr82psWvgWnxX2fgm2///o5/zo0bHf%2BczoppcQAAgDJ%2Ba51GR2NaHAAAAA5D5xIAAKAMOpf2obgEAAAoo7oVlzk5OXrllVe0Z88e1ahRQz169NDUqVPl7u5e4d6XXnpJ635xLpLFYlFERIRmzpypv/71r1q/fr1cXFxs193c3JSUlFTpPEyLAwAAVGNTp05VYWGhNmzYoPj4eB07duyan%2BA3ffp0HTp0yPZn//79uuuuu9S3b1/bPaNHjy53z40UlhLFJQAAQDnV6SiirKwsbd68Wc8995w8PT3l7e2tMWPGKD4%2BXsXFxdd9/AcffKCmTZs69FxtiksAAIBqKjU1VS4uLmrZsqVtrHXr1iooKNDx48d/9bEXL17UokWLNHny5HLju3fvVmRkpAIDAzVkyBB99913N5SJNZcAAABlVEWnMSMjQ5mZmeXGGjVqJC8vL7ueNycnR3Xq1JHJ9P/nydavX1%2BSlJ2d/auPXb58uTp37ix/f3/bWLNmzVSjRg1NmDBBHh4emj9/vp544gklJCSoQYMGlcpEcQkAAFBGVRSXq1at0vz588uNPfvssxo3btx1H7tu3Tq98MILV7323HPP6b/5PByLxaKPP/5YsbGx5cbHjh1b7u%2BTJ0/Whg0btHnzZj3yyCOVem6KSwAAgCo2dOhQhYaGlhtr1KhRpR4bERGhiIiIq17buXOn8vLyZLFYbDu8c376KLWGDRte8zkTExNlNpvVqVOnX/3eLi4uatKkiTIyMiqVVaK4BAAAKKcqOpdeXl52T4Ffzb333iur1arDhw%2BrdevWkqRDhw6pXr16uvPOO6/5uK%2B%2B%2BkpdunRRzZr/XwparVbNmjVLDz/8sFq1aiVJMpvNOnnypJo1a1bpTGzoAQAAqKY8PT0VHh6uOXPm6MKFCzp37pzeffddDRkyxFY4/vnPf9bnn39e7nGpqany9fUtN2YymXTq1Cm9%2BuqrSk9PV35%2BvmJiYlSrVi317t270pkoLgEAAMqoTkcRSdJrr72munXrKiwsTAMHDlS7du303HPP2a6npaUpNze33GMyMzN1xx13VHiuGTNm6He/%2B50GDRqkbt26KTU1VR988IFq165d6Twm63%2BzChS3jKIioxM4J5NJcnWVzGaJ/0LK%2B2kpD36hZk2pYUPp/HmppMToNM7Fu7Hp%2Bjf9FgUGSvv2SR06SPv3G53G%2BRj45tu1q%2BOfc9cuxz%2Bns6JzCQAAAIdhQw8AAEAZ1e2zxZ0NnUsAAAA4DJ1LAACAMuhc2ofiEgAAoAyKS/swLQ4AAACHoXMJAABQBp1L%2B9C5BAAAgMPQuQQAACiDzqV9KC4BAADKoLi0D9PiAAAAcBg6lwAAAGXQubQPnUsAAAA4DJ1LAACAMuhc2ofiEgAAoAyKS/swLQ4AAACHoXMJAABQBp1L%2B9C5BAAAgMPQuQQAACiDzqV9KC4BAADKoLi0D9PiAAAAcBg6lwAAAGXQubQPxSUAAEAZFJf2YVocAAAADkPnEgAAoAw6l/ahcwkAAACHoXMJAABQBp1L%2B1BcAgAAlEFxaR%2BmxQEAAOAwdC4BAADKoHNpHzqXAAAAcBg6lwAAAGXQubQPxSUAAEAZFJf2YVocAAAADkPnEgAAoAw6l/ahcwkAAACHoXMJAABQBp1L%2B1BcAgAAlEFxaR%2BmxQEAAOAwdC4BAADKoHNpHzqXAAAAcBg6lwAAAGXQubQPnUsAAIAySksd/6eqHTp0SH369NGjjz563Xs//PBDhYeHq0OHDnrsscf03Xff2a4VFRVp2rRpCgkJ0f3336/x48crOzv7hrJQXAIAAFRj69ev17hx49S8efPr3rtlyxbNmzdPb775pv7zn/%2BoV69eeuaZZ1RQUCBJevvtt5WSkqJVq1YpISFBVqtVf/vb324oD8UlAABAGdWtc1lUVKRVq1YpICDguveuWrVKgwYNUkBAgNzd3TVq1ChJ0tdff62SkhLFxcVpzJgxatKkiW6//Xb95S9/0datW5Wenl7pPBSXAAAA1dgjjzwib2/vSt2bkpKi%2B%2B67z/b3GjVq6N5779WhQ4d08uRJXbp0Sa1bt7Zdv/vuu%2BXu7q6UlJRK52FDDwAAQBlV0WnMyMhQZmZmubFGjRrJy8vL8d/sV%2BTk5Kh%2B/frlxurXr6/s7Gzl5ORIkurVq1fuer169W5o3SXF5W%2Bcm5vRCZxTRkaGVq1apaFDh970//CdXSV/Of7NycjI0Lx5V14z3t68ZsqxWo1O4JQyMjK0at48Df33v3mfcTJV8ZKdN2%2BV5s%2BfX27s2Wef1bhx46772HXr1umFF1646rWZM2dq0KBBN5TFep1/4PWuXw/FJXAVmZmZmj9/vkJDQ3nTR6XwmsGN4jXz2zJ06FCFhoaWG2vUqFGlHhsREaGIiAiH5GjQoIGtQ/mznJwc%2Bfv7y9PT0/Z3Dw8P2/Xc3Fw1bNiw0t%2BD4hIAAKCKeXl5OcUvEW3atFFKSooefvhhSZLFYtH//M//aMiQIWrWrJnq16%2BvlJQU%2Bfj4SJKOHDkis9msNm3aVPp7sKEHAADgFta3b18lJSVJkh577DGtXbtWBw4cUGFhoRYuXChXV1f17NlTLi4uevTRR7Vo0SKdPXtW2dnZmj17tvr06aM77rij0t%2BPziUAAEA1Fh4erjNnzshisai0tFRt27aVJP373/%2BWj4%2BPTpw4YTvHMiQkRBMnTtRf/vIXnT9/Xm3bttWSJUvk7u4uSRo/frzy8/MVERGhkpIS9erVS6%2B88soN5TFZ7V21CdyC2NCDG8VrBjeK1wxuVRSXAAAAcBjWXAIAAMBhKC4BAADgMBSXAAAAcBiKSwAAADgMxSUAAAAchuISAAAADkNxCQAAAIehuAQAAIDDUFwCAADAYSguAcBBsrOzjY4AJ2axWLRkyRL169dPnTt3liTl5%2BfrtddeU1FRkcHpAMehuAQkderUSXwSKv4b%2Bfn5mjZtmtq3b6/u3btLknJychQVFaULFy4YnA7OZNasWdq4caOioqJsxWRxcbGOHTummTNnGpwOcByKS0BS9%2B7dtXr1aqNjoBp67bXXlJaWpqVLl6pGjStvqbVq1VKdOnU0ffp0g9PBmWzcuFELFixQRESETCaTJOn2229XTEyMNm/ebHA6wHFqGh0AcAaFhYWaM2eO5s2bp8aNG6tmzfL/aaxcudKgZHB2W7du1aZNm%2BTp6WkrGDw8PPTyyy8rPDzc4HRwJsXFxWrcuHGF8dtuu035%2BfkGJAKqBsUlIKlNmzZq06aN0TFQDZlMJtWpU6fCuMViYR0dymndurWWLVump556yjZWWFiomJgY3n9wSzFZWWgG/KoVK1Zo2LBhRseAkxo9erR8fHz0/PPP6/7779fBgwd1%2BvRpzZgxQ6WlpVq0aJHREeEkDh8%2BrFGjRkmSzp8/L39/f6WlpcnT01MLFixQy5YtDU4IOAbFJfCTI0eOKCUlRWaz2TaWnp6u999/X/v37zcwGZzZmTNnNGbMGB09elQlJSXy8PBQQUGBAgMDFRMTo6ZNmxodEU7k8uXL%2Bvrrr5WWliZ3d3f5%2BfkpODi4wlIcoDqjuAQkffLJJ3r99dfVsGFDZWVlydvbWxkZGfLx8dHjjz%2BuESNGGB0RTi45OVmnTp2Sm5ub/Pz85O/vb3QkADAExSUgqXfv3po%2Bfbq6dOmidu3aKTk5WZmZmZoxY4b%2B%2BMc/qlOnTkZHhJNKSkpSQECAatWqVeHaokWL9MwzzxiQCs6oVatWtk1fv2QymeTt7a0ePXro%2Beefv%2Bo6XqC6oLgEJAUGBtqmvtu3b6/9%2B/fLZDLp9OnTeuaZZ/TZZ58ZnBDOqlWrVrrvvvv0zjvvqFmzZuWuBQQE6ODBgwYlg7PZuHGj3nnnHT344INq27atTCaTkpOT9cUXXygqKkoWi0WffPKJ/P39OfcS1RqLPABJTZs21e7du9WlSxc1atRISUlJ6ty5s%2BrWratTp04ZHQ9OrFatWnrggQc0aNAgvfLKK%2Brfv7/tGr%2B7o6yVK1cqJiZG7dq1s42FhYUpLCxM8%2BfP15IlS9S9e3cNGjTIwJSA/SguAUlRUVF68skntXv3bg0ePFijR49Wp06ddPz4cXXs2NHoeHBiNWrU0KRJkxQUFKS//vWv2r17t6ZOnSpXV9drToHit%2BnQoUNX3RHeokULJSYmSpLq1auny5cv3%2BxogEPxCT2ApIEDByohIUF169bVM888o%2BjoaHl5eWnIkCF6%2B%2B23jY6HaqB79%2B5au3at0tLSNHjwYB07dszoSHAyd911l6ZMmaLvv/9eeXl5unz5so4dO6ZXX31VjRs3lsVi0dSpUxUYGGh0VMAurLkEfiE7O1sNGjQwOgaqiZ83gP3MarVq4cKFWrZsmQoLC5WSkmJgOjiTtLQ0jR07VkeOHLF1ta1Wq3x9fTV37lzdd999GjFihKZPny5fX1%2BD0wL/PYpLQFJ%2Bfr7eeOMNrV%2B/XiUlJfruu%2B%2BUk5Oj6OhozZw5U56enkZHhJNat26dIiIiKownJSUpPj6ejRmoID09XZmZmSotLVXDhg3l4%2BMjq9XKMgrcMiguAUnR0dHKyMjQ2LFj9cQTTyg5OVn5%2BfmaNm2arFarZs%2BebXREOJHi4mLb0UNlD92/GldX15sRCdXUjz/%2BqPj4eK1du1bbtm0zOg7gEGzoASRt3bpVmzZtkqenp6174OHhoZdfflnh4eEGp4Oz6dSpk%2B2IoXbt2v1qxyk1NfVmxUI1cfnyZW3atEnx8fHau3evWrdurdGjRxsdC3AYiktAVw4wvtqhxRaLRUVFRQYkgjP7xz/%2BYfv6gw8%2BYDoTlXLw4EHFxcVp06ZNqlu3rjIzM7Vs2TJ17drV6GiAQ7FbHNCVg9PffPPNckeAnD59Wi%2B%2B%2BKKCgoIMTAZnVPYTm%2B6//37dc889CgoKUlBQkO677z7l5uaqXr16vHYgSVq2bJkeeughPfHEEyopKdG7776rLVu2qFatWmzcwS2JNZeApDNnzmjMmDH63//9X1ksFnl4eKigoECBgYGKjY1VkyZNjI4IJ7V%2B/Xq98sor2rdvnwoLCxUZGSlJys3N1eTJkzV48GCDE8JorVq1Uv/%2B/fXiiy%2BW2xwYGBio9evXV/hkJ6C6Y1ockDRp0iQ9%2Buijatu2rdLS0uTm5iY/Pz/5%2B/sbHQ1ObuHChZo3b56kKzvHXV1dtXbtWh09elQTJ06kuIReffVVxcXFKSwsTKGhoYqIiNADDzxgdCygyjAtDkgKDg7W6tWrNWzYMK1fv15FRUXy8/MzOhaqgXPnztkKhW3btqlfv35ycXFRy5YtdebMGYPTwRkMHTpUa9as0cqVK%2BXp6anJkycrJCRExcXFOnHihNHxAIdjWhwoIy0tTV9%2B%2BaW%2B/PJLHT16VL1799aAAQPUrVs3o6PBSYWGhuqTTz6Rq6urQkNDtXLlSrVs2VLp6emKjIzUrl27jI4IJ2M2m/Xll18qLi5Ou3fvVsuWLTV48GANHz7c6GiAQ1BcAldhNpsVFxen2bNnKy8vTz4%2BPnrqqaf0hz/8wehocDJLlizRRx99JBcXF7Vq1UqLFi1SXl6enn76abVs2VIvv/yy0RHhxE6dOqW4uDitW7dOX3/9tdFxAIeguATK2L17tz777DN98cUX8vDw0EMPPaTIyEhlZWVp5syZCgoK0osvvmh0TDiZ/fv36%2BLFi%2BratatcXV1VUlKiZcuWaeTIkbbD1s%2BePcvGMFwTn9CDWwnFJSDpjTfe0Oeff65Lly6pd%2B/eioyMVNeuXcu92WdkZKh///5KTEw0MCmqq4CAANvB6wBwK2O3OKArn6Ly3HPP6fe//71q16591Xu8vLz01FNP3eRkuFXwezyA3wo6lwBwE9C5BPBbwVFEAADcBCNHjrzqeF5enh5%2B%2BOGbnAaoOkyLAwBQhVJSUnTo0CElJiZq9erVFZZInDx5Uj/88IMx4YAqQHEJAEAVunTpkrZu3aqSkhItWrSownV3d3dNmDDBgGRA1WDNJQDcBKy5xOjRo7Vw4UKjYwBVjuISAG6Czp07c4wVlJWVpR9%2B%2BEGXL1%2BucC04ONiARIDjUVwCwA1au3Ztpe%2BNjIyswiSoTv7xj39o9uzZslgsFa6ZTCalpqYakApwPIpLALhBv%2BwwXbx4UcXFxapXr56sVqsuXrwod3d3eXt7KyEhwaCUcDZdu3bV5MmT1a9fP7m7uxsdB6gybOgBgBu0Y8cO29dr1qxRSkqKJkyYoAYNGki68mlOc%2BbMUWBgoFER4YRKS0sVEREhFxcXo6MAVYrOJQDYoUePHkpISKjQicrLy1O/fv20bds2g5LB2cyaNUv33nuvIiIijI4CVCk6lwBgh8uXL%2Bvs2bO68847y42fP39eRUVFBqWCMyopKdGsWbO0fPly%2Bfr6qkaN8p9jEhsba1AywLEoLgHADg899JCGDx%2BuAQMGyNfXVxaLRWfPntXGjRsVHh5udDw4kfz8fPXs2dPoGECVY1ocAOxgsVgUFxenzZs369y5czKbzfLy8lJISIhGjBihWrVqGR0RAG4qiksAAG6SAwcOaN26dUpPT9eCBQtUWlqqL774Qn379jU6GuAwTIsDwA2aPXt2pe%2BdOHFiFSZBdbJ69WrNmjVLDz74oLZv3y5JyszM1N///ndlZGToT3/6k8EJAceguASAG7R///5K3Wcymao4CaqT9957T%2B%2B99546duyozz77TJLk7e2txYsXa8KECRSXuGVQXALADfroo4%2BMjoBqKCsrSx06dJBU/hePe%2B65RxkZGUbFAhyO4hIA7LRt2zZt2rRJp06dkslkkp%2BfnyIjI9WpUyejo8GJNG/eXLt371bXrl3LjW/YsEFNmzY1KBXgeBSXAGCHjz76SLGxserZs6etK3X8%2BHGNHDlSs2fPVp8%2BfQxOCGfx9NNPa8yYMQoNDVVJSYmmT5%2Bu77//Xvv37%2BeMS9xS2C0OAHYICwvTjBkz1KVLl3Lj27dvV0xMjNatW2dQMjijQ4cO6V//%2BpdOnjwpd3d3NWvWTI888ojuuusuo6MBDkNxCQB2CAwMVFJSUoXPi7ZYLAoKCtLevXsNSgYAxmBaHADs4Ofnp2%2B%2B%2BUahoaHlxnfs2ME6Omj48OGVPjXgww8/rOI0wM1BcQkAdhg3bpzGjx%2Bvbt266e6775Z0Zc3lzp07NX36dIPTwWjt27e3fV1YWKh169apY8eOuvPOO1VaWqqjR48qOTlZw4YNMzAl4FhMiwOAnQ4fPqxPP/1Up06dktlslp%2BfnwYOHFiusAAmTpyoyMhIhYSElBvfvHmzNmzYoDlz5hiUDHAsiksAAG6CDh06aM%2BePapZs/ykYXFxsYKCgip9OD/g7JgWBwA7pKena%2BnSpTpx4oTMZnOF66yjw8%2B8vLy0atUqPf744%2BXGP/30UzVq1MigVIDjUVwCgB0mTJigvLw8de3aVe7u7kbHgRN74YUXNHHiRC1YsEBNmjSRxWJRenq6Ll26dEOfVw84O6bFAcAO7dq10zfffKMGDRoYHQXVwKVLl7R9%2B3alp6fLbDbLy8tL3bp1k7e3t9HRAIehcwkAdmjRooVKS0uNjoFqom7duurXr1%2BFJRRms1murq4GpQIci84lANygEydO2L4%2BduyY4uLi9Pjjj8vHx6fCmYZ33nnnzY4HJ/Wf//xHf//73/XDDz/IYrFUuJ6ammpAKsDxKC4B4Aa1atVKJpNJ13r7/PmayWSiYIBNnz59FBQUpN///ve67bbbKlwPCgoyIBXgeBSXAHCDTp8%2BXel7fXx8qjAJqpPAwEAlJiZWOIoIuNXwCgeAG3S1gvH8%2BfM6e/as2rRpY0AiVAdBQUE6fPgwrxHc8uhcAoAd0tPTNWXKFO3cuVM1a9bUd999p4yMDD355JNasGCBmjVrZnREOIk1a9bo/fffV69eveTr66saNWqUuz506FCDkgGORXEJAHYYO3asateurYkTJyo8PFzJyckqKSlRbGysjh8/rsWLFxsdEU4iNDT0mtdMJpO%2B%2Buqrm5gGqDoUlwBgh44dO2rbtm3y8PBQQECADh48KEm6fPmyevTooW%2B//dbghABwc7HmEgDscNttt11113hubu5Vj5vBb9uFCxf0zTff2DaFNW/eXL169VKdOnUMTgY4To3r3wIAuJYuXbpoypQptrMvL168qD179mjcuHHq2bOnseHgVHbt2qXevXsrJiZGO3bs0I4dOzRz5kyFhYXpyJEjRscDHIZpcQCwQ25urqKjo7V161ZJV9bOmUwm9evXT1OnTlX9%2BvWNDQinMWjQIA0YMEAjR460jVksFi1cuFCJiYn64IMPDEwHOA7FJQA4wIULF5SWliY3Nzf5%2BvoyzYkK2rdvr6SkpArnXJrNZgUHB2vPnj0GJQMci2lxALDTV199JU9PTwUEBKi4uFhz5szR8uXL%2BcxxlOPl5aUffvihwnhaWhq/jOCWwoYeALBDTEyMvvjiC4WFhencuXP685//rPDwcG3cuFGnT59WdHS00RHhJCIiIvT000/r8ccf11133SVJOn78uD7%2B%2BGP17dvX4HSA4zAtDgB26N69uz7%2B%2BGP5%2BflpwYIFSkpK0rJly3T%2B/HkNHjzYthYTsFqtWr58ueLj43Xq1CmZzWb5%2Bflp4MCBevLJJ%2BXi4mJ0RMAh6FwCgB3y8vLk5%2BcnSdq5c6f69%2B8vSWrYsKFycnKMjAYnYzKZNHz4cA0fPtzoKECVorgEADs0a9ZMu3fvVu3atZWcnKy3335bknTo0CE1bNjQ4HRwNlu2bNHWrVuVkZEhSWrcuLFCQ0MVEhJicDLAcdjQAwB2mDhxokaPHq3HHntMUVFR8vLyUm5urqKiosodOQPMnTtXkyZNUnZ2tpo3by4/Pz9lZWVpwoQJevfdd42OBzgMay4BwE4lJSUqKiqSh4eHbezAgQNq3769gangbDp37qzFixerQ4cO5caTkpI0evRoJSYmGpQMcCymxQHADr9WECQmJqpz5843MQ2cmYuLi9q2bVthPCAggM08uKXQuQQAO7Rq1eqq4zVr1pS7u7uSkpJuciI4q4ULF8pisWjMmDGqUePKqrTS0lItXbpUxcXFGjt2rMEJAceguAQAO5jN5nJ/t1gs%2BvHHH/X%2B%2B%2B9rwIABCg4ONigZnM3IkSN18OBBubi4qFmzZiotLdXZs2dVXFysFi1alLt35cqVBqUE7EdxCQBV4NKlSxoyZIgSEhKMjgInMX/%2B/Erf%2B%2Byzz1ZhEqBqseYSAKpAQUGB7bgZQLp6wZibm6v69esbkAaoOhSXAGCHSZMmVRgrLCzUwYMH2cyDclJSUjR16lR9%2BumnkqQJEyYoISFBDRo00IIFCxQYGGhwQsAxKC4BwA6urq4VxurUqaNRo0ZpyJAhBiSCs5o%2Bfbp69%2B4tSdq8ebP27t2rLVu2aN%2B%2BfXrrrbe0YsUKgxMCjsGaSwAAboKOHTvq22%2B/Vc2aNfW3v/1NdevW1ZQpU2S1WhUUFMQ5l7hl0LkEADt98skn%2Bvzzz3X69GmZTCb5%2Bfnp4Ycf1sCBA42OBifi5uam4uJimUwmbd%2B%2BXW%2B99ZakK%2BtzS0tLDU4HOA7FJQDYYc6cOYqLi1NERIQGDBggSTp27JhmzJihgoIC/eEPfzA4IZxFSEiIxo8fr5o1a6pOnTrq0qWLiouL9fbbb1f41B6gOmNaHADsEBISosWLF%2Bvee%2B8tN56ciEM4rAAAA35JREFUnKzo6Ght2rTJoGRwNpcvX9Y///lPXbp0ScOGDZOPj48KCgo0btw4zZgxQ40bNzY6IuAQFJcAYIcOHTpoz549qlmz/ESQxWJRUFCQ9u7da1AyOLPs7Gw1aNDA6BhAlahhdAAAqM78/f0VFxdXYfzTTz9V8%2BbNDUgEZ5Wfn69p06apffv26t69uyQpJydHUVFRunDhgsHpAMehcwkAdkhKStKoUaPk4%2BOju%2B%2B%2BW5J0/PhxpaWlad68eQoJCTE4IZxFdHS0MjIyNHbsWD3xxBNKTk62FZxWq1WzZ882OiLgEBSXAGCnrKwsbdiwQadPn5bZbJafn58efPBBNW3a1OhocCL333%2B/Nm3aJE9PTwUEBOjgwYOSpIsXLyo8PFy7du0yOCHgGOwWBwA73XHHHRoxYoTRMeDkTCaT6tSpU2HcYrGoqKjIgERA1aC4BAA7HD16VLNnz9aJEydkNpsrXP/qq68MSAVnFBgYqDfffFPPP/%2B8bez06dOaMWOGgoKCDEwGOBbT4gBgh4ceekgNGzZUr1695O7uXuE651ziZ2fOnNGYMWN09OhRlZSUyMPDQwUFBQoMDFRsbKyaNGlidETAISguAcAOAQEB2rVrl2rXrm10FFQTycnJOnXqlNzc3OTn5yd/f3%2BjIwEOxbQ4ANghMDBQWVlZ8vPzMzoKqol27dqpXbt25cYyMjLk5eVlUCLAsehcAsAN2rFjh%2B3rjIwMrV69WpGRkfLx8ZHJZCp3b3Bw8M2OBydTUFCgN954Q5s3b5YkDRw4UJMnT1aNGleOml61apViYmKUmJhoZEzAYehcAsANGjVqVIWxAwcOVBgzmUxKTU29GZHgxObOnat9%2B/YpOjpaZrNZS5culYeHhwYOHKgXX3xRR44c0aRJk4yOCTgMnUsAAKpQWFiYlixZYjtkPzU1VX/6059UUlKi0NBQTZkyRQ0bNjQ4JeA4dC4BAKhCWVlZtsJSklq1aqXCwkItXrxYDzzwgIHJgKrBZ4sDAHATmUwmubi4UFjilkVxCQAAAIdhWhwAgCpksVi0evVqld3icLWxoUOHGhEPcDg29AAAUIVCQ0Ove4/JZOKjQnHLoLgEAACAw7DmEgAAAA5DcQkAAACHobgEAACAw1BcAgAAwGEoLgEAAOAwFJcAAABwGIpLAAAAOAzFJQAAAByG4hIAAAAO839gKhmcKGyNnQAAAABJRU5ErkJggg%3D%3D\" class=\"center-img\">\n",
              "</div>\n",
              "    <div class=\"row headerrow highlight\">\n",
              "        <h1>Sample</h1>\n",
              "    </div>\n",
              "    <div class=\"row variablerow\">\n",
              "    <div class=\"col-md-12\" style=\"overflow:scroll; width: 100%%; overflow-y: hidden;\">\n",
              "        <table border=\"1\" class=\"dataframe sample\">\n",
              "  <thead>\n",
              "    <tr style=\"text-align: right;\">\n",
              "      <th></th>\n",
              "      <th>country</th>\n",
              "      <th>year</th>\n",
              "      <th>uniqueid</th>\n",
              "      <th>Has a Bank account</th>\n",
              "      <th>Type of Location</th>\n",
              "      <th>Cell Phone Access</th>\n",
              "      <th>household_size</th>\n",
              "      <th>Respondent Age</th>\n",
              "      <th>gender_of_respondent</th>\n",
              "      <th>The relathip with head</th>\n",
              "      <th>marital_status</th>\n",
              "      <th>Level of Educuation</th>\n",
              "      <th>Type of Job</th>\n",
              "    </tr>\n",
              "  </thead>\n",
              "  <tbody>\n",
              "    <tr>\n",
              "      <th>0</th>\n",
              "      <td>Kenya</td>\n",
              "      <td>2018</td>\n",
              "      <td>uniqueid_1</td>\n",
              "      <td>Yes</td>\n",
              "      <td>Rural</td>\n",
              "      <td>Yes</td>\n",
              "      <td>3.0</td>\n",
              "      <td>24.0</td>\n",
              "      <td>Female</td>\n",
              "      <td>Spouse</td>\n",
              "      <td>Married/Living together</td>\n",
              "      <td>Secondary education</td>\n",
              "      <td>Self employed</td>\n",
              "    </tr>\n",
              "    <tr>\n",
              "      <th>1</th>\n",
              "      <td>Kenya</td>\n",
              "      <td>2018</td>\n",
              "      <td>uniqueid_2</td>\n",
              "      <td>No</td>\n",
              "      <td>Rural</td>\n",
              "      <td>No</td>\n",
              "      <td>5.0</td>\n",
              "      <td>70.0</td>\n",
              "      <td>Female</td>\n",
              "      <td>Head of Household</td>\n",
              "      <td>Widowed</td>\n",
              "      <td>No formal education</td>\n",
              "      <td>Government Dependent</td>\n",
              "    </tr>\n",
              "    <tr>\n",
              "      <th>2</th>\n",
              "      <td>Kenya</td>\n",
              "      <td>2018</td>\n",
              "      <td>uniqueid_3</td>\n",
              "      <td>Yes</td>\n",
              "      <td>Urban</td>\n",
              "      <td>Yes</td>\n",
              "      <td>5.0</td>\n",
              "      <td>26.0</td>\n",
              "      <td>Male</td>\n",
              "      <td>Other relative</td>\n",
              "      <td>Single/Never Married</td>\n",
              "      <td>Vocational/Specialised training</td>\n",
              "      <td>Self employed</td>\n",
              "    </tr>\n",
              "    <tr>\n",
              "      <th>3</th>\n",
              "      <td>Kenya</td>\n",
              "      <td>2018</td>\n",
              "      <td>uniqueid_4</td>\n",
              "      <td>No</td>\n",
              "      <td>Rural</td>\n",
              "      <td>Yes</td>\n",
              "      <td>5.0</td>\n",
              "      <td>34.0</td>\n",
              "      <td>Female</td>\n",
              "      <td>Head of Household</td>\n",
              "      <td>Married/Living together</td>\n",
              "      <td>Primary education</td>\n",
              "      <td>Formally employed Private</td>\n",
              "    </tr>\n",
              "    <tr>\n",
              "      <th>4</th>\n",
              "      <td>Kenya</td>\n",
              "      <td>2018</td>\n",
              "      <td>uniqueid_5</td>\n",
              "      <td>No</td>\n",
              "      <td>Urban</td>\n",
              "      <td>No</td>\n",
              "      <td>8.0</td>\n",
              "      <td>26.0</td>\n",
              "      <td>Male</td>\n",
              "      <td>Child</td>\n",
              "      <td>Single/Never Married</td>\n",
              "      <td>Primary education</td>\n",
              "      <td>Informally employed</td>\n",
              "    </tr>\n",
              "  </tbody>\n",
              "</table>\n",
              "    </div>\n",
              "</div>\n",
              "</div>"
            ],
            "text/plain": [
              "<pandas_profiling.ProfileReport at 0x7fe14f0d49b0>"
            ]
          },
          "metadata": {
            "tags": []
          },
          "execution_count": 7
        }
      ]
    },
    {
      "cell_type": "code",
      "metadata": {
        "id": "dgWHm421hMvW",
        "colab_type": "code",
        "colab": {
          "base_uri": "https://localhost:8080/",
          "height": 105
        },
        "outputId": "fde1ba0c-6aed-46b3-8ebd-2cc035ef03f1"
      },
      "source": [
        "##\n",
        "## Looking at the columns\n",
        "proj.columns"
      ],
      "execution_count": 8,
      "outputs": [
        {
          "output_type": "execute_result",
          "data": {
            "text/plain": [
              "Index(['country', 'year', 'uniqueid', 'Has a Bank account', 'Type of Location',\n",
              "       'Cell Phone Access', 'household_size', 'Respondent Age',\n",
              "       'gender_of_respondent', 'The relathip with head', 'marital_status',\n",
              "       'Level of Educuation', 'Type of Job'],\n",
              "      dtype='object')"
            ]
          },
          "metadata": {
            "tags": []
          },
          "execution_count": 8
        }
      ]
    },
    {
      "cell_type": "code",
      "metadata": {
        "id": "mbdwMCq6hW4Y",
        "colab_type": "code",
        "colab": {
          "base_uri": "https://localhost:8080/",
          "height": 34
        },
        "outputId": "47a829cf-08ae-43f9-cc99-c6d8e2ac0c3c"
      },
      "source": [
        "##\n",
        "## Looking at the unique figure, value or objects in columns\n",
        "proj.country.unique()"
      ],
      "execution_count": 9,
      "outputs": [
        {
          "output_type": "execute_result",
          "data": {
            "text/plain": [
              "array(['Kenya', 'Rwanda', 'Tanzania', nan, 'Uganda'], dtype=object)"
            ]
          },
          "metadata": {
            "tags": []
          },
          "execution_count": 9
        }
      ]
    },
    {
      "cell_type": "code",
      "metadata": {
        "id": "bRWWVN21iGqn",
        "colab_type": "code",
        "colab": {
          "base_uri": "https://localhost:8080/",
          "height": 34
        },
        "outputId": "60da1adc-2cbb-4ecb-e6ca-98bc4cbf9ccf"
      },
      "source": [
        "##\n",
        "proj.year.unique()"
      ],
      "execution_count": 10,
      "outputs": [
        {
          "output_type": "execute_result",
          "data": {
            "text/plain": [
              "array([2018, 2029, 2056, 2016, 2039, 2017])"
            ]
          },
          "metadata": {
            "tags": []
          },
          "execution_count": 10
        }
      ]
    },
    {
      "cell_type": "code",
      "metadata": {
        "id": "_PdmnyVMiNQu",
        "colab_type": "code",
        "colab": {
          "base_uri": "https://localhost:8080/",
          "height": 52
        },
        "outputId": "f2001252-b635-434c-80e2-64bfa3dd687b"
      },
      "source": [
        "##\n",
        "##\n",
        "proj['uniqueid'].unique()"
      ],
      "execution_count": 11,
      "outputs": [
        {
          "output_type": "execute_result",
          "data": {
            "text/plain": [
              "array(['uniqueid_1', 'uniqueid_2', 'uniqueid_3', ..., 'uniqueid_8757',\n",
              "       'uniqueid_8758', 'uniqueid_8759'], dtype=object)"
            ]
          },
          "metadata": {
            "tags": []
          },
          "execution_count": 11
        }
      ]
    },
    {
      "cell_type": "code",
      "metadata": {
        "id": "lVCpjfchicn_",
        "colab_type": "code",
        "colab": {
          "base_uri": "https://localhost:8080/",
          "height": 34
        },
        "outputId": "63d55760-5275-4e7a-e1b5-187c47c8d1ec"
      },
      "source": [
        "##\n",
        "##\n",
        "proj['Has a Bank account'].unique()"
      ],
      "execution_count": 12,
      "outputs": [
        {
          "output_type": "execute_result",
          "data": {
            "text/plain": [
              "array(['Yes', 'No', nan], dtype=object)"
            ]
          },
          "metadata": {
            "tags": []
          },
          "execution_count": 12
        }
      ]
    },
    {
      "cell_type": "code",
      "metadata": {
        "id": "fFZpXQEyjGHK",
        "colab_type": "code",
        "colab": {
          "base_uri": "https://localhost:8080/",
          "height": 34
        },
        "outputId": "d975326a-4d2e-44c6-f48a-b8ac7030f224"
      },
      "source": [
        "##\n",
        "proj['Type of Location'].unique()"
      ],
      "execution_count": 13,
      "outputs": [
        {
          "output_type": "execute_result",
          "data": {
            "text/plain": [
              "array(['Rural', 'Urban', nan], dtype=object)"
            ]
          },
          "metadata": {
            "tags": []
          },
          "execution_count": 13
        }
      ]
    },
    {
      "cell_type": "code",
      "metadata": {
        "id": "kVEgbayHjNMn",
        "colab_type": "code",
        "colab": {
          "base_uri": "https://localhost:8080/",
          "height": 34
        },
        "outputId": "b664aa80-8f35-44b7-cad5-2c235182b572"
      },
      "source": [
        "##\n",
        "proj['Cell Phone Access'].unique()"
      ],
      "execution_count": 14,
      "outputs": [
        {
          "output_type": "execute_result",
          "data": {
            "text/plain": [
              "array(['Yes', 'No', nan], dtype=object)"
            ]
          },
          "metadata": {
            "tags": []
          },
          "execution_count": 14
        }
      ]
    },
    {
      "cell_type": "code",
      "metadata": {
        "id": "q7b7P_8VjljT",
        "colab_type": "code",
        "colab": {
          "base_uri": "https://localhost:8080/",
          "height": 52
        },
        "outputId": "f829f9ae-79da-42a5-ed54-1f0a2e855b69"
      },
      "source": [
        "##\n",
        "proj['household_size'].unique()"
      ],
      "execution_count": 15,
      "outputs": [
        {
          "output_type": "execute_result",
          "data": {
            "text/plain": [
              "array([ 3.,  5.,  8.,  7.,  1.,  6.,  4., 10.,  2., 11.,  9., 12., 16.,\n",
              "       15., 13., 14., 21., nan,  0., 18., 17., 20.])"
            ]
          },
          "metadata": {
            "tags": []
          },
          "execution_count": 15
        }
      ]
    },
    {
      "cell_type": "code",
      "metadata": {
        "id": "6MYlBoruj3Qh",
        "colab_type": "code",
        "colab": {
          "base_uri": "https://localhost:8080/",
          "height": 158
        },
        "outputId": "ae3f1644-634a-4ecd-84ba-8c838ab63c6d"
      },
      "source": [
        "##\n",
        "proj['Respondent Age'].unique()"
      ],
      "execution_count": 16,
      "outputs": [
        {
          "output_type": "execute_result",
          "data": {
            "text/plain": [
              "array([ 24.,  70.,  26.,  34.,  32.,  42.,  54.,  76.,  40.,  69.,  64.,\n",
              "        31.,  38.,  47.,  27.,  48.,  25.,  21.,  18.,  22.,  58.,  55.,\n",
              "        62.,  29.,  35.,  45.,  67.,  19.,  80.,  66.,  50.,  33.,  28.,\n",
              "        51.,  16.,  17.,  30.,  37.,  59.,  65.,  46.,  56.,  52.,  23.,\n",
              "        43.,  49.,  44.,  72.,  53.,  63.,  39.,  81.,  78.,  36.,  20.,\n",
              "        60.,  95.,  71.,  57.,  85.,  68.,  41.,  61.,  75.,  86.,  73.,\n",
              "        nan,  93.,  74.,  88.,  90.,  77.,  84.,  82.,  89.,  79.,  83.,\n",
              "        94.,  87.,  92.,  91.,  98.,  97.,  96.,  99., 100.])"
            ]
          },
          "metadata": {
            "tags": []
          },
          "execution_count": 16
        }
      ]
    },
    {
      "cell_type": "code",
      "metadata": {
        "id": "OFQbgqmekAba",
        "colab_type": "code",
        "colab": {
          "base_uri": "https://localhost:8080/",
          "height": 34
        },
        "outputId": "093ac663-d029-49e2-bbeb-e2f3f876054c"
      },
      "source": [
        "##\n",
        "proj['gender_of_respondent'].unique()"
      ],
      "execution_count": 17,
      "outputs": [
        {
          "output_type": "execute_result",
          "data": {
            "text/plain": [
              "array(['Female', 'Male', nan], dtype=object)"
            ]
          },
          "metadata": {
            "tags": []
          },
          "execution_count": 17
        }
      ]
    },
    {
      "cell_type": "code",
      "metadata": {
        "id": "6Gzxe6zhkbpB",
        "colab_type": "code",
        "colab": {
          "base_uri": "https://localhost:8080/",
          "height": 52
        },
        "outputId": "2be37561-39d8-46be-accf-d99636a97a46"
      },
      "source": [
        "##\n",
        "proj['The relathip with head'].unique()"
      ],
      "execution_count": 18,
      "outputs": [
        {
          "output_type": "execute_result",
          "data": {
            "text/plain": [
              "array(['Spouse', 'Head of Household', 'Other relative', 'Child', 'Parent',\n",
              "       'Other non-relatives', nan], dtype=object)"
            ]
          },
          "metadata": {
            "tags": []
          },
          "execution_count": 18
        }
      ]
    },
    {
      "cell_type": "code",
      "metadata": {
        "id": "vc1vhTQjlvaC",
        "colab_type": "code",
        "colab": {
          "base_uri": "https://localhost:8080/",
          "height": 52
        },
        "outputId": "6458159e-897f-49d7-dc14-5489b0f6d151"
      },
      "source": [
        "##\n",
        "proj['marital_status'].unique()"
      ],
      "execution_count": 19,
      "outputs": [
        {
          "output_type": "execute_result",
          "data": {
            "text/plain": [
              "array(['Married/Living together', 'Widowed', 'Single/Never Married',\n",
              "       'Divorced/Seperated', 'Dont know', nan], dtype=object)"
            ]
          },
          "metadata": {
            "tags": []
          },
          "execution_count": 19
        }
      ]
    },
    {
      "cell_type": "code",
      "metadata": {
        "id": "RHINOnPTl5p9",
        "colab_type": "code",
        "colab": {
          "base_uri": "https://localhost:8080/",
          "height": 87
        },
        "outputId": "fec2aff2-9a0e-47fb-a10f-abb90f7a1413"
      },
      "source": [
        "##\n",
        "proj['Level of Educuation'].unique()"
      ],
      "execution_count": 20,
      "outputs": [
        {
          "output_type": "execute_result",
          "data": {
            "text/plain": [
              "array(['Secondary education', 'No formal education',\n",
              "       'Vocational/Specialised training', 'Primary education',\n",
              "       'Tertiary education', 'Other/Dont know/RTA', '6', nan],\n",
              "      dtype=object)"
            ]
          },
          "metadata": {
            "tags": []
          },
          "execution_count": 20
        }
      ]
    },
    {
      "cell_type": "code",
      "metadata": {
        "id": "e2hkQtk0mPpi",
        "colab_type": "code",
        "colab": {
          "base_uri": "https://localhost:8080/",
          "height": 105
        },
        "outputId": "d7f64310-1e03-4b66-e618-660d77745acc"
      },
      "source": [
        "##'Type of Job'\n",
        "proj['Type of Job'].unique()"
      ],
      "execution_count": 21,
      "outputs": [
        {
          "output_type": "execute_result",
          "data": {
            "text/plain": [
              "array(['Self employed', 'Government Dependent',\n",
              "       'Formally employed Private', 'Informally employed',\n",
              "       'Formally employed Government', 'Farming and Fishing',\n",
              "       'Remittance Dependent', 'Other Income',\n",
              "       'Dont Know/Refuse to answer', nan, 'No Income'], dtype=object)"
            ]
          },
          "metadata": {
            "tags": []
          },
          "execution_count": 21
        }
      ]
    },
    {
      "cell_type": "markdown",
      "metadata": {
        "id": "0KxptU1_dM1D",
        "colab_type": "text"
      },
      "source": [
        "## Tidying the dataset"
      ]
    },
    {
      "cell_type": "code",
      "metadata": {
        "id": "PSp37oJ95Ks1",
        "colab_type": "code",
        "colab": {
          "base_uri": "https://localhost:8080/",
          "height": 34
        },
        "outputId": "b22559ef-2723-438b-89da-0d28209bbb39"
      },
      "source": [
        "## Mean for age\n",
        "proj['Respondent Age'].mean()"
      ],
      "execution_count": 22,
      "outputs": [
        {
          "output_type": "execute_result",
          "data": {
            "text/plain": [
              "38.804299702000854"
            ]
          },
          "metadata": {
            "tags": []
          },
          "execution_count": 22
        }
      ]
    },
    {
      "cell_type": "code",
      "metadata": {
        "id": "RCPlz9Kh5fne",
        "colab_type": "code",
        "colab": {
          "base_uri": "https://localhost:8080/",
          "height": 52
        },
        "outputId": "c25602d6-1393-4c9d-cf50-1f2caead7c6c"
      },
      "source": [
        "##\n",
        "##\n",
        "proj['Respondent Age'].mode()"
      ],
      "execution_count": 23,
      "outputs": [
        {
          "output_type": "execute_result",
          "data": {
            "text/plain": [
              "0    30.0\n",
              "dtype: float64"
            ]
          },
          "metadata": {
            "tags": []
          },
          "execution_count": 23
        }
      ]
    },
    {
      "cell_type": "code",
      "metadata": {
        "id": "P4a-6dP054HT",
        "colab_type": "code",
        "colab": {
          "base_uri": "https://localhost:8080/",
          "height": 52
        },
        "outputId": "05d3155b-878b-46c8-a1ac-8bb188b708b6"
      },
      "source": [
        "##\n",
        "proj['year'].mode()"
      ],
      "execution_count": 24,
      "outputs": [
        {
          "output_type": "execute_result",
          "data": {
            "text/plain": [
              "0    2016\n",
              "dtype: int64"
            ]
          },
          "metadata": {
            "tags": []
          },
          "execution_count": 24
        }
      ]
    },
    {
      "cell_type": "code",
      "metadata": {
        "id": "FjLb6Odg5rQf",
        "colab_type": "code",
        "colab": {
          "base_uri": "https://localhost:8080/",
          "height": 287
        },
        "outputId": "b58cdf14-5a19-41ab-97b0-89fa651bd885"
      },
      "source": [
        "##\n",
        "##\n",
        "proj.describe()"
      ],
      "execution_count": 25,
      "outputs": [
        {
          "output_type": "execute_result",
          "data": {
            "text/html": [
              "<div>\n",
              "<style scoped>\n",
              "    .dataframe tbody tr th:only-of-type {\n",
              "        vertical-align: middle;\n",
              "    }\n",
              "\n",
              "    .dataframe tbody tr th {\n",
              "        vertical-align: top;\n",
              "    }\n",
              "\n",
              "    .dataframe thead th {\n",
              "        text-align: right;\n",
              "    }\n",
              "</style>\n",
              "<table border=\"1\" class=\"dataframe\">\n",
              "  <thead>\n",
              "    <tr style=\"text-align: right;\">\n",
              "      <th></th>\n",
              "      <th>year</th>\n",
              "      <th>household_size</th>\n",
              "      <th>Respondent Age</th>\n",
              "    </tr>\n",
              "  </thead>\n",
              "  <tbody>\n",
              "    <tr>\n",
              "      <th>count</th>\n",
              "      <td>23524.000000</td>\n",
              "      <td>23496.000000</td>\n",
              "      <td>23490.000000</td>\n",
              "    </tr>\n",
              "    <tr>\n",
              "      <th>mean</th>\n",
              "      <td>2016.979000</td>\n",
              "      <td>3.681818</td>\n",
              "      <td>38.804300</td>\n",
              "    </tr>\n",
              "    <tr>\n",
              "      <th>std</th>\n",
              "      <td>0.899669</td>\n",
              "      <td>2.279933</td>\n",
              "      <td>16.519996</td>\n",
              "    </tr>\n",
              "    <tr>\n",
              "      <th>min</th>\n",
              "      <td>2016.000000</td>\n",
              "      <td>0.000000</td>\n",
              "      <td>16.000000</td>\n",
              "    </tr>\n",
              "    <tr>\n",
              "      <th>25%</th>\n",
              "      <td>2016.000000</td>\n",
              "      <td>2.000000</td>\n",
              "      <td>26.000000</td>\n",
              "    </tr>\n",
              "    <tr>\n",
              "      <th>50%</th>\n",
              "      <td>2017.000000</td>\n",
              "      <td>3.000000</td>\n",
              "      <td>35.000000</td>\n",
              "    </tr>\n",
              "    <tr>\n",
              "      <th>75%</th>\n",
              "      <td>2018.000000</td>\n",
              "      <td>5.000000</td>\n",
              "      <td>49.000000</td>\n",
              "    </tr>\n",
              "    <tr>\n",
              "      <th>max</th>\n",
              "      <td>2056.000000</td>\n",
              "      <td>21.000000</td>\n",
              "      <td>100.000000</td>\n",
              "    </tr>\n",
              "  </tbody>\n",
              "</table>\n",
              "</div>"
            ],
            "text/plain": [
              "               year  household_size  Respondent Age\n",
              "count  23524.000000    23496.000000    23490.000000\n",
              "mean    2016.979000        3.681818       38.804300\n",
              "std        0.899669        2.279933       16.519996\n",
              "min     2016.000000        0.000000       16.000000\n",
              "25%     2016.000000        2.000000       26.000000\n",
              "50%     2017.000000        3.000000       35.000000\n",
              "75%     2018.000000        5.000000       49.000000\n",
              "max     2056.000000       21.000000      100.000000"
            ]
          },
          "metadata": {
            "tags": []
          },
          "execution_count": 25
        }
      ]
    },
    {
      "cell_type": "code",
      "metadata": {
        "id": "tFUKQBgJphFJ",
        "colab_type": "code",
        "colab": {
          "base_uri": "https://localhost:8080/",
          "height": 265
        },
        "outputId": "0944e9c7-73af-4dc2-a74b-2d7ef9469bbf"
      },
      "source": [
        "##\n",
        "## Checking missing values\n",
        "proj.isnull().sum()"
      ],
      "execution_count": 26,
      "outputs": [
        {
          "output_type": "execute_result",
          "data": {
            "text/plain": [
              "country                   14\n",
              "year                       0\n",
              "uniqueid                   0\n",
              "Has a Bank account        36\n",
              "Type of Location          15\n",
              "Cell Phone Access         11\n",
              "household_size            28\n",
              "Respondent Age            34\n",
              "gender_of_respondent      34\n",
              "The relathip with head     4\n",
              "marital_status            32\n",
              "Level of Educuation       29\n",
              "Type of Job               30\n",
              "dtype: int64"
            ]
          },
          "metadata": {
            "tags": []
          },
          "execution_count": 26
        }
      ]
    },
    {
      "cell_type": "code",
      "metadata": {
        "id": "tU5ZELO8plFo",
        "colab_type": "code",
        "colab": {}
      },
      "source": [
        "# ##\n",
        "# Sorting null values by dropping null values\n",
        "proj = proj.dropna()"
      ],
      "execution_count": 0,
      "outputs": []
    },
    {
      "cell_type": "code",
      "metadata": {
        "id": "V0_of0X3uLyB",
        "colab_type": "code",
        "colab": {
          "base_uri": "https://localhost:8080/",
          "height": 265
        },
        "outputId": "04ac8c97-172c-41d7-8707-56c8e566a39e"
      },
      "source": [
        "## Checking if there is null values after dropping null values\n",
        "proj.isnull().sum()"
      ],
      "execution_count": 28,
      "outputs": [
        {
          "output_type": "execute_result",
          "data": {
            "text/plain": [
              "country                   0\n",
              "year                      0\n",
              "uniqueid                  0\n",
              "Has a Bank account        0\n",
              "Type of Location          0\n",
              "Cell Phone Access         0\n",
              "household_size            0\n",
              "Respondent Age            0\n",
              "gender_of_respondent      0\n",
              "The relathip with head    0\n",
              "marital_status            0\n",
              "Level of Educuation       0\n",
              "Type of Job               0\n",
              "dtype: int64"
            ]
          },
          "metadata": {
            "tags": []
          },
          "execution_count": 28
        }
      ]
    },
    {
      "cell_type": "code",
      "metadata": {
        "id": "KeawvFvPSMhF",
        "colab_type": "code",
        "colab": {
          "base_uri": "https://localhost:8080/",
          "height": 164
        },
        "outputId": "b7c2b40f-0d46-44e3-a170-520942083459"
      },
      "source": [
        "proj.head(1)"
      ],
      "execution_count": 29,
      "outputs": [
        {
          "output_type": "execute_result",
          "data": {
            "text/html": [
              "<div>\n",
              "<style scoped>\n",
              "    .dataframe tbody tr th:only-of-type {\n",
              "        vertical-align: middle;\n",
              "    }\n",
              "\n",
              "    .dataframe tbody tr th {\n",
              "        vertical-align: top;\n",
              "    }\n",
              "\n",
              "    .dataframe thead th {\n",
              "        text-align: right;\n",
              "    }\n",
              "</style>\n",
              "<table border=\"1\" class=\"dataframe\">\n",
              "  <thead>\n",
              "    <tr style=\"text-align: right;\">\n",
              "      <th></th>\n",
              "      <th>country</th>\n",
              "      <th>year</th>\n",
              "      <th>uniqueid</th>\n",
              "      <th>Has a Bank account</th>\n",
              "      <th>Type of Location</th>\n",
              "      <th>Cell Phone Access</th>\n",
              "      <th>household_size</th>\n",
              "      <th>Respondent Age</th>\n",
              "      <th>gender_of_respondent</th>\n",
              "      <th>The relathip with head</th>\n",
              "      <th>marital_status</th>\n",
              "      <th>Level of Educuation</th>\n",
              "      <th>Type of Job</th>\n",
              "    </tr>\n",
              "  </thead>\n",
              "  <tbody>\n",
              "    <tr>\n",
              "      <th>0</th>\n",
              "      <td>Kenya</td>\n",
              "      <td>2018</td>\n",
              "      <td>uniqueid_1</td>\n",
              "      <td>Yes</td>\n",
              "      <td>Rural</td>\n",
              "      <td>Yes</td>\n",
              "      <td>3.0</td>\n",
              "      <td>24.0</td>\n",
              "      <td>Female</td>\n",
              "      <td>Spouse</td>\n",
              "      <td>Married/Living together</td>\n",
              "      <td>Secondary education</td>\n",
              "      <td>Self employed</td>\n",
              "    </tr>\n",
              "  </tbody>\n",
              "</table>\n",
              "</div>"
            ],
            "text/plain": [
              "  country  year  ...  Level of Educuation    Type of Job\n",
              "0   Kenya  2018  ...  Secondary education  Self employed\n",
              "\n",
              "[1 rows x 13 columns]"
            ]
          },
          "metadata": {
            "tags": []
          },
          "execution_count": 29
        }
      ]
    },
    {
      "cell_type": "markdown",
      "metadata": {
        "id": "0LyMZ-ji6Hxm",
        "colab_type": "text"
      },
      "source": [
        "## Exploratory Analysis"
      ]
    },
    {
      "cell_type": "markdown",
      "metadata": {
        "id": "Q5xgHPGxW76F",
        "colab_type": "text"
      },
      "source": [
        "### Handling Missing Values"
      ]
    },
    {
      "cell_type": "code",
      "metadata": {
        "id": "pPI8V2jkXCIM",
        "colab_type": "code",
        "colab": {
          "base_uri": "https://localhost:8080/",
          "height": 105
        },
        "outputId": "d2a6da1f-e90a-45ea-b77f-1e241c16b7e6"
      },
      "source": [
        "##\n",
        "## Renaming, replacing and writing columns in lower case\n",
        "proj.columns = proj.columns.str.lower().str.replace(' ', '_')\n",
        "proj.columns"
      ],
      "execution_count": 30,
      "outputs": [
        {
          "output_type": "execute_result",
          "data": {
            "text/plain": [
              "Index(['country', 'year', 'uniqueid', 'has_a_bank_account', 'type_of_location',\n",
              "       'cell_phone_access', 'household_size', 'respondent_age',\n",
              "       'gender_of_respondent', 'the_relathip_with_head', 'marital_status',\n",
              "       'level_of_educuation', 'type_of_job'],\n",
              "      dtype='object')"
            ]
          },
          "metadata": {
            "tags": []
          },
          "execution_count": 30
        }
      ]
    },
    {
      "cell_type": "code",
      "metadata": {
        "id": "5O9Pfb1JXnyt",
        "colab_type": "code",
        "colab": {}
      },
      "source": [
        "##\n",
        "## Renaming columns\n",
        "proj.rename(columns = {\"has_bank_account\": \"bank_account\", \"the_relathip_with_head\": \"relationship_with_head\", \"level_of_educuation\": \"level_of_education\"}, inplace = True)\n"
      ],
      "execution_count": 0,
      "outputs": []
    },
    {
      "cell_type": "code",
      "metadata": {
        "id": "8dluBYX5aZsK",
        "colab_type": "code",
        "colab": {
          "base_uri": "https://localhost:8080/",
          "height": 105
        },
        "outputId": "f9f8ab86-0fd5-4911-e141-7b8db1df4e11"
      },
      "source": [
        "proj.columns"
      ],
      "execution_count": 32,
      "outputs": [
        {
          "output_type": "execute_result",
          "data": {
            "text/plain": [
              "Index(['country', 'year', 'uniqueid', 'has_a_bank_account', 'type_of_location',\n",
              "       'cell_phone_access', 'household_size', 'respondent_age',\n",
              "       'gender_of_respondent', 'relationship_with_head', 'marital_status',\n",
              "       'level_of_education', 'type_of_job'],\n",
              "      dtype='object')"
            ]
          },
          "metadata": {
            "tags": []
          },
          "execution_count": 32
        }
      ]
    },
    {
      "cell_type": "code",
      "metadata": {
        "id": "ltYtaghMazAF",
        "colab_type": "code",
        "colab": {}
      },
      "source": [
        "# ##\n",
        "# ## replacing categorical variables with the mode\n",
        "# cols = ['country', 'has_a_bank_account', 'type_of_location', 'cell_phone_access', 'gender_of_respondent', 'relationship_with_head', 'marital_status', 'level_of_education', 'type_of_job']\n",
        "# proj[cols] = proj[cols].fillna(proj.mode().iloc[0])"
      ],
      "execution_count": 0,
      "outputs": []
    },
    {
      "cell_type": "code",
      "metadata": {
        "id": "ovEOavwoeFt8",
        "colab_type": "code",
        "colab": {}
      },
      "source": [
        "# ##\n",
        "# ## Replacing missing values of numerical variables with there means\n",
        "# meme = ['household_size', 'respondent_age', 'year']\n",
        "# proj[meme] = proj[meme].fillna(proj.mean().iloc[0])"
      ],
      "execution_count": 0,
      "outputs": []
    },
    {
      "cell_type": "code",
      "metadata": {
        "id": "xTnupfpXrhNl",
        "colab_type": "code",
        "colab": {}
      },
      "source": [
        "##\n",
        "## drop the uniqueid\n",
        "# proj.drop('uniqueid', axis = 1, inplace = True)"
      ],
      "execution_count": 0,
      "outputs": []
    },
    {
      "cell_type": "code",
      "metadata": {
        "id": "8zWzVQytr3jQ",
        "colab_type": "code",
        "colab": {
          "base_uri": "https://localhost:8080/",
          "height": 105
        },
        "outputId": "cf00357d-d4bb-4494-ebd3-15a5d324c5bf"
      },
      "source": [
        "proj.columns"
      ],
      "execution_count": 36,
      "outputs": [
        {
          "output_type": "execute_result",
          "data": {
            "text/plain": [
              "Index(['country', 'year', 'uniqueid', 'has_a_bank_account', 'type_of_location',\n",
              "       'cell_phone_access', 'household_size', 'respondent_age',\n",
              "       'gender_of_respondent', 'relationship_with_head', 'marital_status',\n",
              "       'level_of_education', 'type_of_job'],\n",
              "      dtype='object')"
            ]
          },
          "metadata": {
            "tags": []
          },
          "execution_count": 36
        }
      ]
    },
    {
      "cell_type": "markdown",
      "metadata": {
        "id": "FOLhrNnsiNwb",
        "colab_type": "text"
      },
      "source": [
        "### Outliers"
      ]
    },
    {
      "cell_type": "code",
      "metadata": {
        "id": "hFF47DXpnjsh",
        "colab_type": "code",
        "colab": {}
      },
      "source": [
        "# Checking for outliers\n",
        "plt.figure(dpi = 90, figsize = (7, 6))\n",
        "sns.set_style('darkgrid')\n",
        "sns.boxplot(proj.year)\n",
        "plt.xticks(rotation = 45)\n",
        "plt.show()"
      ],
      "execution_count": 0,
      "outputs": []
    },
    {
      "cell_type": "code",
      "metadata": {
        "id": "0NaekB-Vg0p8",
        "colab_type": "code",
        "colab": {
          "base_uri": "https://localhost:8080/",
          "height": 34
        },
        "outputId": "75ecc097-f102-4624-a8a6-37d8c0a6f93c"
      },
      "source": [
        "##\n",
        "##\n",
        "## FInding outliers using seaborn for numerical variables\n",
        "sns.boxplot(proj['household_size'], showmeans = True)"
      ],
      "execution_count": 38,
      "outputs": [
        {
          "output_type": "execute_result",
          "data": {
            "text/plain": [
              "<matplotlib.axes._subplots.AxesSubplot at 0x7fe14bf28f98>"
            ]
          },
          "metadata": {
            "tags": []
          },
          "execution_count": 38
        }
      ]
    },
    {
      "cell_type": "markdown",
      "metadata": {
        "id": "js39a5x_0D9r",
        "colab_type": "text"
      },
      "source": [
        ""
      ]
    },
    {
      "cell_type": "code",
      "metadata": {
        "id": "_FiWXyvuhOY6",
        "colab_type": "code",
        "colab": {
          "base_uri": "https://localhost:8080/",
          "height": 34
        },
        "outputId": "f0f39c1d-1856-4283-cc46-9dc2e8b51ec2"
      },
      "source": [
        "## FInding outliers using seaborn for numerical variables\n",
        "##\n",
        "sns.boxplot(proj['respondent_age'], showmeans = True)"
      ],
      "execution_count": 39,
      "outputs": [
        {
          "output_type": "execute_result",
          "data": {
            "text/plain": [
              "<matplotlib.axes._subplots.AxesSubplot at 0x7fe14bf28f98>"
            ]
          },
          "metadata": {
            "tags": []
          },
          "execution_count": 39
        }
      ]
    },
    {
      "cell_type": "markdown",
      "metadata": {
        "id": "ixsWP9ibz5IG",
        "colab_type": "text"
      },
      "source": [
        "I won't drop outliers of respondent age as the maximum is 100"
      ]
    },
    {
      "cell_type": "code",
      "metadata": {
        "id": "btFk_2IOtNoj",
        "colab_type": "code",
        "colab": {}
      },
      "source": [
        "##\n",
        "## Check for outliers\n",
        "# boxplot = df.boxplot(grid=False, rot=45, fontsize=15)\n",
        "boxplot = proj.boxplot([\"household_size\",\"respondent_age\"])\n",
        "plt.show()"
      ],
      "execution_count": 0,
      "outputs": []
    },
    {
      "cell_type": "markdown",
      "metadata": {
        "id": "mpaZDkAGia56",
        "colab_type": "text"
      },
      "source": [
        "### Anomalies"
      ]
    },
    {
      "cell_type": "code",
      "metadata": {
        "id": "0hK9EQh6ifDw",
        "colab_type": "code",
        "colab": {
          "base_uri": "https://localhost:8080/",
          "height": 34
        },
        "outputId": "0661236d-677f-4a96-9666-5e8619fe067f"
      },
      "source": [
        "##\n",
        "# Anomalies detected in household_size size\n",
        "proj[['household_size']].boxplot(figsize=(8,6))"
      ],
      "execution_count": 41,
      "outputs": [
        {
          "output_type": "execute_result",
          "data": {
            "text/plain": [
              "<matplotlib.axes._subplots.AxesSubplot at 0x7fe14bf28f98>"
            ]
          },
          "metadata": {
            "tags": []
          },
          "execution_count": 41
        }
      ]
    },
    {
      "cell_type": "code",
      "metadata": {
        "id": "8bXIpAwvq2YA",
        "colab_type": "code",
        "colab": {}
      },
      "source": [
        ""
      ],
      "execution_count": 0,
      "outputs": []
    },
    {
      "cell_type": "markdown",
      "metadata": {
        "id": "hqzYVWYuq3gZ",
        "colab_type": "text"
      },
      "source": [
        "### Dropping values and columns"
      ]
    },
    {
      "cell_type": "code",
      "metadata": {
        "id": "mjGojcg5q6nd",
        "colab_type": "code",
        "colab": {}
      },
      "source": [
        "# Ensuring that you are dealing with years between 2016 and 2018\n",
        "#\n",
        "l = proj[proj['year']>2019].index\n",
        "\n",
        "proj.drop(l,inplace=True)"
      ],
      "execution_count": 0,
      "outputs": []
    },
    {
      "cell_type": "code",
      "metadata": {
        "id": "5QtKc3kDrAdq",
        "colab_type": "code",
        "colab": {
          "base_uri": "https://localhost:8080/",
          "height": 34
        },
        "outputId": "cafc08bc-2134-4278-a44e-6bd2dce4929a"
      },
      "source": [
        "##\n",
        "#\n",
        "proj.year.unique()"
      ],
      "execution_count": 43,
      "outputs": [
        {
          "output_type": "execute_result",
          "data": {
            "text/plain": [
              "array([2018, 2016, 2017])"
            ]
          },
          "metadata": {
            "tags": []
          },
          "execution_count": 43
        }
      ]
    },
    {
      "cell_type": "code",
      "metadata": {
        "id": "f1hsmsg3rN6_",
        "colab_type": "code",
        "colab": {}
      },
      "source": [
        "# dropping the uniqueid column due to the high cardinality in it's values\n",
        "proj = proj.drop(columns = ['uniqueid'])"
      ],
      "execution_count": 0,
      "outputs": []
    },
    {
      "cell_type": "code",
      "metadata": {
        "id": "A2t3BkJcrTRX",
        "colab_type": "code",
        "colab": {
          "base_uri": "https://localhost:8080/",
          "height": 105
        },
        "outputId": "2025a63c-695a-4279-9575-50b9e6710bbc"
      },
      "source": [
        "proj.columns"
      ],
      "execution_count": 45,
      "outputs": [
        {
          "output_type": "execute_result",
          "data": {
            "text/plain": [
              "Index(['country', 'year', 'has_a_bank_account', 'type_of_location',\n",
              "       'cell_phone_access', 'household_size', 'respondent_age',\n",
              "       'gender_of_respondent', 'relationship_with_head', 'marital_status',\n",
              "       'level_of_education', 'type_of_job'],\n",
              "      dtype='object')"
            ]
          },
          "metadata": {
            "tags": []
          },
          "execution_count": 45
        }
      ]
    },
    {
      "cell_type": "code",
      "metadata": {
        "id": "h3O9gZh3ryCR",
        "colab_type": "code",
        "colab": {
          "base_uri": "https://localhost:8080/",
          "height": 123
        },
        "outputId": "3a1d787a-2c88-4903-8d98-9a057de209ea"
      },
      "source": [
        "##\n",
        "##\n",
        "# Univariate analysis\n",
        "proj.groupby('country').household_size.mean()"
      ],
      "execution_count": 46,
      "outputs": [
        {
          "output_type": "execute_result",
          "data": {
            "text/plain": [
              "country\n",
              "Kenya       3.987133\n",
              "Rwanda      4.482782\n",
              "Tanzania    1.931692\n",
              "Uganda      4.983771\n",
              "Name: household_size, dtype: float64"
            ]
          },
          "metadata": {
            "tags": []
          },
          "execution_count": 46
        }
      ]
    },
    {
      "cell_type": "code",
      "metadata": {
        "id": "48-PR13Vr-Sc",
        "colab_type": "code",
        "colab": {
          "base_uri": "https://localhost:8080/",
          "height": 123
        },
        "outputId": "230038df-8c06-4d25-beb8-80c9a0df5924"
      },
      "source": [
        "proj.groupby('country').household_size.median()"
      ],
      "execution_count": 47,
      "outputs": [
        {
          "output_type": "execute_result",
          "data": {
            "text/plain": [
              "country\n",
              "Kenya       4.0\n",
              "Rwanda      4.0\n",
              "Tanzania    2.0\n",
              "Uganda      5.0\n",
              "Name: household_size, dtype: float64"
            ]
          },
          "metadata": {
            "tags": []
          },
          "execution_count": 47
        }
      ]
    },
    {
      "cell_type": "code",
      "metadata": {
        "id": "4PtMHcLhsGsg",
        "colab_type": "code",
        "colab": {
          "base_uri": "https://localhost:8080/",
          "height": 123
        },
        "outputId": "575bf682-84ad-4e41-df90-cfcc824634a4"
      },
      "source": [
        "proj.groupby('country').household_size.std()"
      ],
      "execution_count": 48,
      "outputs": [
        {
          "output_type": "execute_result",
          "data": {
            "text/plain": [
              "country\n",
              "Kenya       2.334967\n",
              "Rwanda      1.980386\n",
              "Tanzania    1.055155\n",
              "Uganda      2.893811\n",
              "Name: household_size, dtype: float64"
            ]
          },
          "metadata": {
            "tags": []
          },
          "execution_count": 48
        }
      ]
    },
    {
      "cell_type": "code",
      "metadata": {
        "id": "gWxr8Ew1sR2m",
        "colab_type": "code",
        "colab": {
          "base_uri": "https://localhost:8080/",
          "height": 123
        },
        "outputId": "0314f25c-0c6c-47ea-d972-362c77466a71"
      },
      "source": [
        "proj.groupby('country').household_size.count()"
      ],
      "execution_count": 49,
      "outputs": [
        {
          "output_type": "execute_result",
          "data": {
            "text/plain": [
              "country\n",
              "Kenya       6062\n",
              "Rwanda      8683\n",
              "Tanzania    6500\n",
              "Uganda      2095\n",
              "Name: household_size, dtype: int64"
            ]
          },
          "metadata": {
            "tags": []
          },
          "execution_count": 49
        }
      ]
    },
    {
      "cell_type": "code",
      "metadata": {
        "id": "3MAsbnUKuM-U",
        "colab_type": "code",
        "colab": {
          "base_uri": "https://localhost:8080/",
          "height": 176
        },
        "outputId": "4dcba5c4-bd1c-4d4e-9081-22cf1e8e52cf"
      },
      "source": [
        "##\n",
        "proj.groupby('level_of_education').household_size.count()"
      ],
      "execution_count": 50,
      "outputs": [
        {
          "output_type": "execute_result",
          "data": {
            "text/plain": [
              "level_of_education\n",
              "6                                     27\n",
              "No formal education                 4467\n",
              "Other/Dont know/RTA                    8\n",
              "Primary education                  12688\n",
              "Secondary education                 4206\n",
              "Tertiary education                  1143\n",
              "Vocational/Specialised training      801\n",
              "Name: household_size, dtype: int64"
            ]
          },
          "metadata": {
            "tags": []
          },
          "execution_count": 50
        }
      ]
    },
    {
      "cell_type": "markdown",
      "metadata": {
        "id": "Hi2I76016c_F",
        "colab_type": "text"
      },
      "source": [
        "### Plotting Univariate and Bivariate"
      ]
    },
    {
      "cell_type": "code",
      "metadata": {
        "id": "QNopH_F_6iIQ",
        "colab_type": "code",
        "colab": {}
      },
      "source": [
        "# Plot univariate and bivariate summaries recording your observations.\n",
        "x = proj['household_size']\n",
        "age = proj[\"respondent_age\"]\n",
        "plt.bar(x, age)\n",
        "plt.ylabel(\"age\")\n",
        "plt.xlabel(\"houseHold size\")\n",
        "plt.title(\"Financial inclusion\")\n",
        "plt.show()"
      ],
      "execution_count": 0,
      "outputs": []
    },
    {
      "cell_type": "code",
      "metadata": {
        "id": "7k2kxe7u8zQr",
        "colab_type": "code",
        "colab": {
          "base_uri": "https://localhost:8080/",
          "height": 34
        },
        "outputId": "444cfa66-5c24-415c-bbc8-f0e58bc9058e"
      },
      "source": [
        "## check correlation\n",
        "#\n",
        "proj[\"respondent_age\"].corr(proj[\"household_size\"])\n"
      ],
      "execution_count": 52,
      "outputs": [
        {
          "output_type": "execute_result",
          "data": {
            "text/plain": [
              "-0.11967115234154871"
            ]
          },
          "metadata": {
            "tags": []
          },
          "execution_count": 52
        }
      ]
    },
    {
      "cell_type": "code",
      "metadata": {
        "id": "sPb6MViK3muv",
        "colab_type": "code",
        "colab": {
          "base_uri": "https://localhost:8080/",
          "height": 34
        },
        "outputId": "7fa89add-2b0a-4bfc-a42e-76f036b8b568"
      },
      "source": [
        "# Plot the correlation using a heatmap.\n",
        "# The black colour represents that there is no linear relationship between the two variables. \n",
        "# A lighter shade shows that the relationship between the variables is more linear.\n",
        "# ---\n",
        "sns.heatmap(proj.corr())"
      ],
      "execution_count": 53,
      "outputs": [
        {
          "output_type": "execute_result",
          "data": {
            "text/plain": [
              "<matplotlib.axes._subplots.AxesSubplot at 0x7fe14bf28f98>"
            ]
          },
          "metadata": {
            "tags": []
          },
          "execution_count": 53
        }
      ]
    },
    {
      "cell_type": "code",
      "metadata": {
        "id": "dAMPhPFm-ObC",
        "colab_type": "code",
        "colab": {}
      },
      "source": [
        "##\n",
        "##\n",
        "# seeing the relation of countries and the household_size\n",
        "# Defining our data\n",
        "country = proj['country']\n",
        "house =  proj[\"household_size\"]\n",
        "plt.bar(country, house, color='blue')\n",
        "# Labelling our x axis\n",
        "plt.xlabel(\"Country\")\n",
        "# Labelling our y axis\n",
        "plt.ylabel(\"Household Size\")\n",
        "# Giving a title to our Bar chart\n",
        "plt.title(\"Insight of Country and HouseHold\")\n",
        "# Displaying our chart\n",
        "plt.show()"
      ],
      "execution_count": 0,
      "outputs": []
    },
    {
      "cell_type": "code",
      "metadata": {
        "id": "-7VUzJEr_UsP",
        "colab_type": "code",
        "colab": {}
      },
      "source": [
        "##\n",
        "## Pie chart for house hold and education level\n",
        "\n",
        "hls = proj[\"household_size\"].sample(7)\n",
        "edl = proj[\"level_of_education\"].unique().tolist()\n",
        "explode = [0, 0, 0, 0.1, 0, 0, 0]\n",
        "\n",
        "plt.pie(hls, explode=explode, labels=edl, autopct = '%1.1f%%', shadow = True, startangle = 90)\n",
        "plt.axis('equal')\n",
        "plt.title('Pie chart of education level and house hold size')\n",
        "plt.show()"
      ],
      "execution_count": 0,
      "outputs": []
    },
    {
      "cell_type": "markdown",
      "metadata": {
        "id": "c86Lb7Ayy4u2",
        "colab_type": "text"
      },
      "source": [
        "Primary educationl has the highest houusehold size while cocational/specialised training has the lowest in our sample"
      ]
    },
    {
      "cell_type": "code",
      "metadata": {
        "id": "87gteocbsgG3",
        "colab_type": "code",
        "colab": {}
      },
      "source": [
        "# Distribution of household sizes by count with country\n",
        "country = ['Kenya', 'Rwanda', 'Tanzania', 'Uganda']\n",
        "household = [6062, 8683, 6500, 2095]\n",
        "explode = [0, 0.1, 0, 0]\n",
        "# \n",
        "plt.pie(household, labels=country, explode=explode, autopct = '%1.1f%%', shadow = True, startangle = 90)\n",
        "plt.axis('equal')\n",
        "plt.title('% of Household sizes in the different countries')\n",
        "plt.show()"
      ],
      "execution_count": 0,
      "outputs": []
    },
    {
      "cell_type": "markdown",
      "metadata": {
        "id": "8HpxqztCtF0a",
        "colab_type": "text"
      },
      "source": [
        "Rwanda has the largest number of household counts while Uganda has the lowest. I exploded Rwanda with the highest household size"
      ]
    },
    {
      "cell_type": "code",
      "metadata": {
        "id": "R22oOztQA4N6",
        "colab_type": "code",
        "colab": {}
      },
      "source": [
        "# Ploting the univariate summaries and recording our observations\n",
        "#\n",
        "fig, ax = plt.subplots(figsize=(12,8))\n",
        "ax.bar(proj.household_size, proj.respondent_age, color='green')\n",
        "plt.xticks(rotation=90)\n",
        "ax.set_xlabel('Household size')\n",
        "ax.set_ylabel('Respondent Age')\n",
        "plt.title('% Performance in English Vs. State')\n",
        "plt.show()"
      ],
      "execution_count": 0,
      "outputs": []
    },
    {
      "cell_type": "markdown",
      "metadata": {
        "id": "YhBG0u2Y050c",
        "colab_type": "text"
      },
      "source": [
        "### Histogram"
      ]
    },
    {
      "cell_type": "code",
      "metadata": {
        "id": "5Xze4ST-0-Nx",
        "colab_type": "code",
        "colab": {
          "base_uri": "https://localhost:8080/",
          "height": 34
        },
        "outputId": "aba10846-7fe0-417a-e6cf-03856b5f2e42"
      },
      "source": [
        "# Plotting a histogram of the respondent's ages\n",
        "# proj['respondent_age'].hist()\n",
        "#\n",
        "sns.distplot(proj.respondent_age, kde = False)"
      ],
      "execution_count": 58,
      "outputs": [
        {
          "output_type": "execute_result",
          "data": {
            "text/plain": [
              "<matplotlib.axes._subplots.AxesSubplot at 0x7fe13004cbe0>"
            ]
          },
          "metadata": {
            "tags": []
          },
          "execution_count": 58
        }
      ]
    },
    {
      "cell_type": "markdown",
      "metadata": {
        "id": "OuDTPCh21evm",
        "colab_type": "text"
      },
      "source": [
        "As the age increases the count decreases"
      ]
    },
    {
      "cell_type": "code",
      "metadata": {
        "id": "L0OiGQqR1nyG",
        "colab_type": "code",
        "colab": {
          "base_uri": "https://localhost:8080/",
          "height": 34
        },
        "outputId": "25f97be6-742c-4080-c566-874ad7553277"
      },
      "source": [
        "# Plotting a histogram of the respondent's ages\n",
        "# proj['respondent_age'].hist()\n",
        "#\n",
        "sns.distplot(proj.respondent_age, kde = True)"
      ],
      "execution_count": 59,
      "outputs": [
        {
          "output_type": "execute_result",
          "data": {
            "text/plain": [
              "<matplotlib.axes._subplots.AxesSubplot at 0x7fe13004cbe0>"
            ]
          },
          "metadata": {
            "tags": []
          },
          "execution_count": 59
        }
      ]
    },
    {
      "cell_type": "markdown",
      "metadata": {
        "id": "LkAcTbFI1wDV",
        "colab_type": "text"
      },
      "source": [
        "This shows the smooth curve that tell as that as the respondent age increases the frequency decrease"
      ]
    },
    {
      "cell_type": "code",
      "metadata": {
        "id": "WU_7MIPTHCcO",
        "colab_type": "code",
        "colab": {}
      },
      "source": [
        "##\n",
        "# PLotting histogram while dropping values\n",
        "sns.distplot(proj.household_size.dropna());"
      ],
      "execution_count": 0,
      "outputs": []
    },
    {
      "cell_type": "markdown",
      "metadata": {
        "id": "UHkvpiSCF2BL",
        "colab_type": "text"
      },
      "source": [
        "This smooth curve on the histogram shows as that the household size fluctuates with the frequencies but eventually frequency decreases at the end as size increases"
      ]
    },
    {
      "cell_type": "markdown",
      "metadata": {
        "id": "9znprBqJILUK",
        "colab_type": "text"
      },
      "source": [
        ""
      ]
    },
    {
      "cell_type": "code",
      "metadata": {
        "id": "WtVLD4mJ1RWU",
        "colab_type": "code",
        "colab": {
          "base_uri": "https://localhost:8080/",
          "height": 34
        },
        "outputId": "6075d6e3-c38b-45d7-eb7b-1b1fc717f585"
      },
      "source": [
        "# Plotting a histogram of the household size\n",
        "#\n",
        "\n",
        "sns.distplot(proj.household_size, kde = False)"
      ],
      "execution_count": 61,
      "outputs": [
        {
          "output_type": "execute_result",
          "data": {
            "text/plain": [
              "<matplotlib.axes._subplots.AxesSubplot at 0x7fe13004cbe0>"
            ]
          },
          "metadata": {
            "tags": []
          },
          "execution_count": 61
        }
      ]
    },
    {
      "cell_type": "code",
      "metadata": {
        "id": "eA4q7huZ2p3u",
        "colab_type": "code",
        "colab": {
          "base_uri": "https://localhost:8080/",
          "height": 34
        },
        "outputId": "87249e55-6b68-4301-c116-f30d11a757df"
      },
      "source": [
        "##\n",
        "## Scatter plot for household size and the respondent age\n",
        "#\n",
        "proj.plot(x='respondent_age', y='household_size', kind='scatter')"
      ],
      "execution_count": 62,
      "outputs": [
        {
          "output_type": "execute_result",
          "data": {
            "text/plain": [
              "<matplotlib.axes._subplots.AxesSubplot at 0x7fe1230a0240>"
            ]
          },
          "metadata": {
            "tags": []
          },
          "execution_count": 62
        }
      ]
    },
    {
      "cell_type": "markdown",
      "metadata": {
        "id": "6a0-s-iI24By",
        "colab_type": "text"
      },
      "source": [
        "This Has no correlation as the plots are scattered everywhere"
      ]
    },
    {
      "cell_type": "code",
      "metadata": {
        "id": "TZOPxRxe4mZv",
        "colab_type": "code",
        "colab": {
          "base_uri": "https://localhost:8080/",
          "height": 87
        },
        "outputId": "d1cf683f-99fe-4dba-fce3-61a0ef47fd70"
      },
      "source": [
        "project = proj.groupby(['gender_of_respondent'])['gender_of_respondent'].count()\n",
        "project"
      ],
      "execution_count": 63,
      "outputs": [
        {
          "output_type": "execute_result",
          "data": {
            "text/plain": [
              "gender_of_respondent\n",
              "Female    13766\n",
              "Male       9574\n",
              "Name: gender_of_respondent, dtype: int64"
            ]
          },
          "metadata": {
            "tags": []
          },
          "execution_count": 63
        }
      ]
    },
    {
      "cell_type": "code",
      "metadata": {
        "id": "Xvj8ng6L5inC",
        "colab_type": "code",
        "colab": {}
      },
      "source": [
        "project.plot(kind='bar', figsize=(8, 6))\n",
        "plt.show()"
      ],
      "execution_count": 0,
      "outputs": []
    },
    {
      "cell_type": "markdown",
      "metadata": {
        "id": "7Zku8laH5vKN",
        "colab_type": "text"
      },
      "source": [
        "There were more female than male  in the dataset"
      ]
    },
    {
      "cell_type": "code",
      "metadata": {
        "id": "2wFiGtDy7iUV",
        "colab_type": "code",
        "colab": {
          "base_uri": "https://localhost:8080/",
          "height": 34
        },
        "outputId": "55f29e04-563d-4b14-efca-5c35200c0953"
      },
      "source": [
        "# Creating a pairplot to build histograms and scatter plots.\n",
        "# ---\n",
        "sns.pairplot(proj)"
      ],
      "execution_count": 65,
      "outputs": [
        {
          "output_type": "execute_result",
          "data": {
            "text/plain": [
              "<seaborn.axisgrid.PairGrid at 0x7fe13d3e6ac8>"
            ]
          },
          "metadata": {
            "tags": []
          },
          "execution_count": 65
        }
      ]
    },
    {
      "cell_type": "markdown",
      "metadata": {
        "id": "K-9hDoYK8Dyw",
        "colab_type": "text"
      },
      "source": [
        "The pairs plot builds on two basic figures, the histogram and the scatter plot. \n",
        "The histogram on the diagonal allows us to see the distribution of a single variable\n",
        "while the scatter plots on the upper and lower triangles show the relationship (or lack thereof) between two variables."
      ]
    },
    {
      "cell_type": "markdown",
      "metadata": {
        "id": "DxWoQse26RjX",
        "colab_type": "text"
      },
      "source": [
        "### Multivariate Analysis"
      ]
    },
    {
      "cell_type": "code",
      "metadata": {
        "id": "9qciSPeX6h4D",
        "colab_type": "code",
        "colab": {}
      },
      "source": [
        "## Preprocessing\n",
        "##\n",
        "x = proj.drop('has_a_bank_account', 1)\n",
        "y = proj['has_a_bank_account']"
      ],
      "execution_count": 0,
      "outputs": []
    },
    {
      "cell_type": "code",
      "metadata": {
        "id": "JA5Q9V8f7u9L",
        "colab_type": "code",
        "colab": {
          "base_uri": "https://localhost:8080/",
          "height": 251
        },
        "outputId": "90cdf009-4e83-46ef-be57-6f61ab27c2ce"
      },
      "source": [
        "##\n",
        "##\n",
        "# Encoding the categorical columns\n",
        "x = pd.get_dummies(x)\n",
        "x.head()"
      ],
      "execution_count": 67,
      "outputs": [
        {
          "output_type": "execute_result",
          "data": {
            "text/html": [
              "<div>\n",
              "<style scoped>\n",
              "    .dataframe tbody tr th:only-of-type {\n",
              "        vertical-align: middle;\n",
              "    }\n",
              "\n",
              "    .dataframe tbody tr th {\n",
              "        vertical-align: top;\n",
              "    }\n",
              "\n",
              "    .dataframe thead th {\n",
              "        text-align: right;\n",
              "    }\n",
              "</style>\n",
              "<table border=\"1\" class=\"dataframe\">\n",
              "  <thead>\n",
              "    <tr style=\"text-align: right;\">\n",
              "      <th></th>\n",
              "      <th>year</th>\n",
              "      <th>household_size</th>\n",
              "      <th>respondent_age</th>\n",
              "      <th>country_Kenya</th>\n",
              "      <th>country_Rwanda</th>\n",
              "      <th>country_Tanzania</th>\n",
              "      <th>country_Uganda</th>\n",
              "      <th>type_of_location_Rural</th>\n",
              "      <th>type_of_location_Urban</th>\n",
              "      <th>cell_phone_access_No</th>\n",
              "      <th>cell_phone_access_Yes</th>\n",
              "      <th>gender_of_respondent_Female</th>\n",
              "      <th>gender_of_respondent_Male</th>\n",
              "      <th>relationship_with_head_Child</th>\n",
              "      <th>relationship_with_head_Head of Household</th>\n",
              "      <th>relationship_with_head_Other non-relatives</th>\n",
              "      <th>relationship_with_head_Other relative</th>\n",
              "      <th>relationship_with_head_Parent</th>\n",
              "      <th>relationship_with_head_Spouse</th>\n",
              "      <th>marital_status_Divorced/Seperated</th>\n",
              "      <th>marital_status_Dont know</th>\n",
              "      <th>marital_status_Married/Living together</th>\n",
              "      <th>marital_status_Single/Never Married</th>\n",
              "      <th>marital_status_Widowed</th>\n",
              "      <th>level_of_education_6</th>\n",
              "      <th>level_of_education_No formal education</th>\n",
              "      <th>level_of_education_Other/Dont know/RTA</th>\n",
              "      <th>level_of_education_Primary education</th>\n",
              "      <th>level_of_education_Secondary education</th>\n",
              "      <th>level_of_education_Tertiary education</th>\n",
              "      <th>level_of_education_Vocational/Specialised training</th>\n",
              "      <th>type_of_job_Dont Know/Refuse to answer</th>\n",
              "      <th>type_of_job_Farming and Fishing</th>\n",
              "      <th>type_of_job_Formally employed Government</th>\n",
              "      <th>type_of_job_Formally employed Private</th>\n",
              "      <th>type_of_job_Government Dependent</th>\n",
              "      <th>type_of_job_Informally employed</th>\n",
              "      <th>type_of_job_No Income</th>\n",
              "      <th>type_of_job_Other Income</th>\n",
              "      <th>type_of_job_Remittance Dependent</th>\n",
              "      <th>type_of_job_Self employed</th>\n",
              "    </tr>\n",
              "  </thead>\n",
              "  <tbody>\n",
              "    <tr>\n",
              "      <th>0</th>\n",
              "      <td>2018</td>\n",
              "      <td>3.0</td>\n",
              "      <td>24.0</td>\n",
              "      <td>1</td>\n",
              "      <td>0</td>\n",
              "      <td>0</td>\n",
              "      <td>0</td>\n",
              "      <td>1</td>\n",
              "      <td>0</td>\n",
              "      <td>0</td>\n",
              "      <td>1</td>\n",
              "      <td>1</td>\n",
              "      <td>0</td>\n",
              "      <td>0</td>\n",
              "      <td>0</td>\n",
              "      <td>0</td>\n",
              "      <td>0</td>\n",
              "      <td>0</td>\n",
              "      <td>1</td>\n",
              "      <td>0</td>\n",
              "      <td>0</td>\n",
              "      <td>1</td>\n",
              "      <td>0</td>\n",
              "      <td>0</td>\n",
              "      <td>0</td>\n",
              "      <td>0</td>\n",
              "      <td>0</td>\n",
              "      <td>0</td>\n",
              "      <td>1</td>\n",
              "      <td>0</td>\n",
              "      <td>0</td>\n",
              "      <td>0</td>\n",
              "      <td>0</td>\n",
              "      <td>0</td>\n",
              "      <td>0</td>\n",
              "      <td>0</td>\n",
              "      <td>0</td>\n",
              "      <td>0</td>\n",
              "      <td>0</td>\n",
              "      <td>0</td>\n",
              "      <td>1</td>\n",
              "    </tr>\n",
              "    <tr>\n",
              "      <th>1</th>\n",
              "      <td>2018</td>\n",
              "      <td>5.0</td>\n",
              "      <td>70.0</td>\n",
              "      <td>1</td>\n",
              "      <td>0</td>\n",
              "      <td>0</td>\n",
              "      <td>0</td>\n",
              "      <td>1</td>\n",
              "      <td>0</td>\n",
              "      <td>1</td>\n",
              "      <td>0</td>\n",
              "      <td>1</td>\n",
              "      <td>0</td>\n",
              "      <td>0</td>\n",
              "      <td>1</td>\n",
              "      <td>0</td>\n",
              "      <td>0</td>\n",
              "      <td>0</td>\n",
              "      <td>0</td>\n",
              "      <td>0</td>\n",
              "      <td>0</td>\n",
              "      <td>0</td>\n",
              "      <td>0</td>\n",
              "      <td>1</td>\n",
              "      <td>0</td>\n",
              "      <td>1</td>\n",
              "      <td>0</td>\n",
              "      <td>0</td>\n",
              "      <td>0</td>\n",
              "      <td>0</td>\n",
              "      <td>0</td>\n",
              "      <td>0</td>\n",
              "      <td>0</td>\n",
              "      <td>0</td>\n",
              "      <td>0</td>\n",
              "      <td>1</td>\n",
              "      <td>0</td>\n",
              "      <td>0</td>\n",
              "      <td>0</td>\n",
              "      <td>0</td>\n",
              "      <td>0</td>\n",
              "    </tr>\n",
              "    <tr>\n",
              "      <th>2</th>\n",
              "      <td>2018</td>\n",
              "      <td>5.0</td>\n",
              "      <td>26.0</td>\n",
              "      <td>1</td>\n",
              "      <td>0</td>\n",
              "      <td>0</td>\n",
              "      <td>0</td>\n",
              "      <td>0</td>\n",
              "      <td>1</td>\n",
              "      <td>0</td>\n",
              "      <td>1</td>\n",
              "      <td>0</td>\n",
              "      <td>1</td>\n",
              "      <td>0</td>\n",
              "      <td>0</td>\n",
              "      <td>0</td>\n",
              "      <td>1</td>\n",
              "      <td>0</td>\n",
              "      <td>0</td>\n",
              "      <td>0</td>\n",
              "      <td>0</td>\n",
              "      <td>0</td>\n",
              "      <td>1</td>\n",
              "      <td>0</td>\n",
              "      <td>0</td>\n",
              "      <td>0</td>\n",
              "      <td>0</td>\n",
              "      <td>0</td>\n",
              "      <td>0</td>\n",
              "      <td>0</td>\n",
              "      <td>1</td>\n",
              "      <td>0</td>\n",
              "      <td>0</td>\n",
              "      <td>0</td>\n",
              "      <td>0</td>\n",
              "      <td>0</td>\n",
              "      <td>0</td>\n",
              "      <td>0</td>\n",
              "      <td>0</td>\n",
              "      <td>0</td>\n",
              "      <td>1</td>\n",
              "    </tr>\n",
              "    <tr>\n",
              "      <th>3</th>\n",
              "      <td>2018</td>\n",
              "      <td>5.0</td>\n",
              "      <td>34.0</td>\n",
              "      <td>1</td>\n",
              "      <td>0</td>\n",
              "      <td>0</td>\n",
              "      <td>0</td>\n",
              "      <td>1</td>\n",
              "      <td>0</td>\n",
              "      <td>0</td>\n",
              "      <td>1</td>\n",
              "      <td>1</td>\n",
              "      <td>0</td>\n",
              "      <td>0</td>\n",
              "      <td>1</td>\n",
              "      <td>0</td>\n",
              "      <td>0</td>\n",
              "      <td>0</td>\n",
              "      <td>0</td>\n",
              "      <td>0</td>\n",
              "      <td>0</td>\n",
              "      <td>1</td>\n",
              "      <td>0</td>\n",
              "      <td>0</td>\n",
              "      <td>0</td>\n",
              "      <td>0</td>\n",
              "      <td>0</td>\n",
              "      <td>1</td>\n",
              "      <td>0</td>\n",
              "      <td>0</td>\n",
              "      <td>0</td>\n",
              "      <td>0</td>\n",
              "      <td>0</td>\n",
              "      <td>0</td>\n",
              "      <td>1</td>\n",
              "      <td>0</td>\n",
              "      <td>0</td>\n",
              "      <td>0</td>\n",
              "      <td>0</td>\n",
              "      <td>0</td>\n",
              "      <td>0</td>\n",
              "    </tr>\n",
              "    <tr>\n",
              "      <th>4</th>\n",
              "      <td>2018</td>\n",
              "      <td>8.0</td>\n",
              "      <td>26.0</td>\n",
              "      <td>1</td>\n",
              "      <td>0</td>\n",
              "      <td>0</td>\n",
              "      <td>0</td>\n",
              "      <td>0</td>\n",
              "      <td>1</td>\n",
              "      <td>1</td>\n",
              "      <td>0</td>\n",
              "      <td>0</td>\n",
              "      <td>1</td>\n",
              "      <td>1</td>\n",
              "      <td>0</td>\n",
              "      <td>0</td>\n",
              "      <td>0</td>\n",
              "      <td>0</td>\n",
              "      <td>0</td>\n",
              "      <td>0</td>\n",
              "      <td>0</td>\n",
              "      <td>0</td>\n",
              "      <td>1</td>\n",
              "      <td>0</td>\n",
              "      <td>0</td>\n",
              "      <td>0</td>\n",
              "      <td>0</td>\n",
              "      <td>1</td>\n",
              "      <td>0</td>\n",
              "      <td>0</td>\n",
              "      <td>0</td>\n",
              "      <td>0</td>\n",
              "      <td>0</td>\n",
              "      <td>0</td>\n",
              "      <td>0</td>\n",
              "      <td>0</td>\n",
              "      <td>1</td>\n",
              "      <td>0</td>\n",
              "      <td>0</td>\n",
              "      <td>0</td>\n",
              "      <td>0</td>\n",
              "    </tr>\n",
              "  </tbody>\n",
              "</table>\n",
              "</div>"
            ],
            "text/plain": [
              "   year  ...  type_of_job_Self employed\n",
              "0  2018  ...                          1\n",
              "1  2018  ...                          0\n",
              "2  2018  ...                          1\n",
              "3  2018  ...                          0\n",
              "4  2018  ...                          0\n",
              "\n",
              "[5 rows x 41 columns]"
            ]
          },
          "metadata": {
            "tags": []
          },
          "execution_count": 67
        }
      ]
    },
    {
      "cell_type": "code",
      "metadata": {
        "id": "3weKMkuE73BT",
        "colab_type": "code",
        "colab": {}
      },
      "source": [
        "##\n",
        "\n",
        "# Splitting the dataset into the Training set and Test set\n",
        "\n",
        "#\n",
        "from sklearn.model_selection import train_test_split\n",
        "\n",
        "x_train, x_test, y_train, y_test = train_test_split(x, y, test_size=0.2, random_state=0)"
      ],
      "execution_count": 0,
      "outputs": []
    },
    {
      "cell_type": "code",
      "metadata": {
        "id": "lA6jaAcS8CGv",
        "colab_type": "code",
        "colab": {
          "base_uri": "https://localhost:8080/",
          "height": 251
        },
        "outputId": "351fdb5e-2779-48d0-db46-e344ade5676a"
      },
      "source": [
        "x_train.head()"
      ],
      "execution_count": 69,
      "outputs": [
        {
          "output_type": "execute_result",
          "data": {
            "text/html": [
              "<div>\n",
              "<style scoped>\n",
              "    .dataframe tbody tr th:only-of-type {\n",
              "        vertical-align: middle;\n",
              "    }\n",
              "\n",
              "    .dataframe tbody tr th {\n",
              "        vertical-align: top;\n",
              "    }\n",
              "\n",
              "    .dataframe thead th {\n",
              "        text-align: right;\n",
              "    }\n",
              "</style>\n",
              "<table border=\"1\" class=\"dataframe\">\n",
              "  <thead>\n",
              "    <tr style=\"text-align: right;\">\n",
              "      <th></th>\n",
              "      <th>year</th>\n",
              "      <th>household_size</th>\n",
              "      <th>respondent_age</th>\n",
              "      <th>country_Kenya</th>\n",
              "      <th>country_Rwanda</th>\n",
              "      <th>country_Tanzania</th>\n",
              "      <th>country_Uganda</th>\n",
              "      <th>type_of_location_Rural</th>\n",
              "      <th>type_of_location_Urban</th>\n",
              "      <th>cell_phone_access_No</th>\n",
              "      <th>cell_phone_access_Yes</th>\n",
              "      <th>gender_of_respondent_Female</th>\n",
              "      <th>gender_of_respondent_Male</th>\n",
              "      <th>relationship_with_head_Child</th>\n",
              "      <th>relationship_with_head_Head of Household</th>\n",
              "      <th>relationship_with_head_Other non-relatives</th>\n",
              "      <th>relationship_with_head_Other relative</th>\n",
              "      <th>relationship_with_head_Parent</th>\n",
              "      <th>relationship_with_head_Spouse</th>\n",
              "      <th>marital_status_Divorced/Seperated</th>\n",
              "      <th>marital_status_Dont know</th>\n",
              "      <th>marital_status_Married/Living together</th>\n",
              "      <th>marital_status_Single/Never Married</th>\n",
              "      <th>marital_status_Widowed</th>\n",
              "      <th>level_of_education_6</th>\n",
              "      <th>level_of_education_No formal education</th>\n",
              "      <th>level_of_education_Other/Dont know/RTA</th>\n",
              "      <th>level_of_education_Primary education</th>\n",
              "      <th>level_of_education_Secondary education</th>\n",
              "      <th>level_of_education_Tertiary education</th>\n",
              "      <th>level_of_education_Vocational/Specialised training</th>\n",
              "      <th>type_of_job_Dont Know/Refuse to answer</th>\n",
              "      <th>type_of_job_Farming and Fishing</th>\n",
              "      <th>type_of_job_Formally employed Government</th>\n",
              "      <th>type_of_job_Formally employed Private</th>\n",
              "      <th>type_of_job_Government Dependent</th>\n",
              "      <th>type_of_job_Informally employed</th>\n",
              "      <th>type_of_job_No Income</th>\n",
              "      <th>type_of_job_Other Income</th>\n",
              "      <th>type_of_job_Remittance Dependent</th>\n",
              "      <th>type_of_job_Self employed</th>\n",
              "    </tr>\n",
              "  </thead>\n",
              "  <tbody>\n",
              "    <tr>\n",
              "      <th>21308</th>\n",
              "      <td>2017</td>\n",
              "      <td>1.0</td>\n",
              "      <td>45.0</td>\n",
              "      <td>0</td>\n",
              "      <td>0</td>\n",
              "      <td>1</td>\n",
              "      <td>0</td>\n",
              "      <td>1</td>\n",
              "      <td>0</td>\n",
              "      <td>0</td>\n",
              "      <td>1</td>\n",
              "      <td>0</td>\n",
              "      <td>1</td>\n",
              "      <td>0</td>\n",
              "      <td>1</td>\n",
              "      <td>0</td>\n",
              "      <td>0</td>\n",
              "      <td>0</td>\n",
              "      <td>0</td>\n",
              "      <td>0</td>\n",
              "      <td>0</td>\n",
              "      <td>1</td>\n",
              "      <td>0</td>\n",
              "      <td>0</td>\n",
              "      <td>0</td>\n",
              "      <td>0</td>\n",
              "      <td>0</td>\n",
              "      <td>1</td>\n",
              "      <td>0</td>\n",
              "      <td>0</td>\n",
              "      <td>0</td>\n",
              "      <td>0</td>\n",
              "      <td>0</td>\n",
              "      <td>0</td>\n",
              "      <td>0</td>\n",
              "      <td>0</td>\n",
              "      <td>1</td>\n",
              "      <td>0</td>\n",
              "      <td>0</td>\n",
              "      <td>0</td>\n",
              "      <td>0</td>\n",
              "    </tr>\n",
              "    <tr>\n",
              "      <th>19670</th>\n",
              "      <td>2017</td>\n",
              "      <td>2.0</td>\n",
              "      <td>33.0</td>\n",
              "      <td>0</td>\n",
              "      <td>0</td>\n",
              "      <td>1</td>\n",
              "      <td>0</td>\n",
              "      <td>0</td>\n",
              "      <td>1</td>\n",
              "      <td>1</td>\n",
              "      <td>0</td>\n",
              "      <td>1</td>\n",
              "      <td>0</td>\n",
              "      <td>0</td>\n",
              "      <td>0</td>\n",
              "      <td>0</td>\n",
              "      <td>0</td>\n",
              "      <td>0</td>\n",
              "      <td>1</td>\n",
              "      <td>0</td>\n",
              "      <td>0</td>\n",
              "      <td>0</td>\n",
              "      <td>1</td>\n",
              "      <td>0</td>\n",
              "      <td>0</td>\n",
              "      <td>0</td>\n",
              "      <td>0</td>\n",
              "      <td>1</td>\n",
              "      <td>0</td>\n",
              "      <td>0</td>\n",
              "      <td>0</td>\n",
              "      <td>0</td>\n",
              "      <td>0</td>\n",
              "      <td>0</td>\n",
              "      <td>0</td>\n",
              "      <td>0</td>\n",
              "      <td>0</td>\n",
              "      <td>0</td>\n",
              "      <td>0</td>\n",
              "      <td>0</td>\n",
              "      <td>1</td>\n",
              "    </tr>\n",
              "    <tr>\n",
              "      <th>22965</th>\n",
              "      <td>2018</td>\n",
              "      <td>7.0</td>\n",
              "      <td>36.0</td>\n",
              "      <td>0</td>\n",
              "      <td>0</td>\n",
              "      <td>0</td>\n",
              "      <td>1</td>\n",
              "      <td>1</td>\n",
              "      <td>0</td>\n",
              "      <td>0</td>\n",
              "      <td>1</td>\n",
              "      <td>0</td>\n",
              "      <td>1</td>\n",
              "      <td>0</td>\n",
              "      <td>1</td>\n",
              "      <td>0</td>\n",
              "      <td>0</td>\n",
              "      <td>0</td>\n",
              "      <td>0</td>\n",
              "      <td>0</td>\n",
              "      <td>0</td>\n",
              "      <td>1</td>\n",
              "      <td>0</td>\n",
              "      <td>0</td>\n",
              "      <td>0</td>\n",
              "      <td>0</td>\n",
              "      <td>0</td>\n",
              "      <td>1</td>\n",
              "      <td>0</td>\n",
              "      <td>0</td>\n",
              "      <td>0</td>\n",
              "      <td>0</td>\n",
              "      <td>0</td>\n",
              "      <td>0</td>\n",
              "      <td>0</td>\n",
              "      <td>0</td>\n",
              "      <td>0</td>\n",
              "      <td>0</td>\n",
              "      <td>0</td>\n",
              "      <td>0</td>\n",
              "      <td>1</td>\n",
              "    </tr>\n",
              "    <tr>\n",
              "      <th>17830</th>\n",
              "      <td>2017</td>\n",
              "      <td>1.0</td>\n",
              "      <td>16.0</td>\n",
              "      <td>0</td>\n",
              "      <td>0</td>\n",
              "      <td>1</td>\n",
              "      <td>0</td>\n",
              "      <td>0</td>\n",
              "      <td>1</td>\n",
              "      <td>1</td>\n",
              "      <td>0</td>\n",
              "      <td>0</td>\n",
              "      <td>1</td>\n",
              "      <td>0</td>\n",
              "      <td>0</td>\n",
              "      <td>0</td>\n",
              "      <td>0</td>\n",
              "      <td>1</td>\n",
              "      <td>0</td>\n",
              "      <td>1</td>\n",
              "      <td>0</td>\n",
              "      <td>0</td>\n",
              "      <td>0</td>\n",
              "      <td>0</td>\n",
              "      <td>0</td>\n",
              "      <td>0</td>\n",
              "      <td>0</td>\n",
              "      <td>1</td>\n",
              "      <td>0</td>\n",
              "      <td>0</td>\n",
              "      <td>0</td>\n",
              "      <td>0</td>\n",
              "      <td>0</td>\n",
              "      <td>0</td>\n",
              "      <td>0</td>\n",
              "      <td>0</td>\n",
              "      <td>0</td>\n",
              "      <td>1</td>\n",
              "      <td>0</td>\n",
              "      <td>0</td>\n",
              "      <td>0</td>\n",
              "    </tr>\n",
              "    <tr>\n",
              "      <th>22284</th>\n",
              "      <td>2018</td>\n",
              "      <td>8.0</td>\n",
              "      <td>31.0</td>\n",
              "      <td>0</td>\n",
              "      <td>0</td>\n",
              "      <td>0</td>\n",
              "      <td>1</td>\n",
              "      <td>1</td>\n",
              "      <td>0</td>\n",
              "      <td>0</td>\n",
              "      <td>1</td>\n",
              "      <td>1</td>\n",
              "      <td>0</td>\n",
              "      <td>0</td>\n",
              "      <td>1</td>\n",
              "      <td>0</td>\n",
              "      <td>0</td>\n",
              "      <td>0</td>\n",
              "      <td>0</td>\n",
              "      <td>0</td>\n",
              "      <td>0</td>\n",
              "      <td>0</td>\n",
              "      <td>1</td>\n",
              "      <td>0</td>\n",
              "      <td>0</td>\n",
              "      <td>0</td>\n",
              "      <td>0</td>\n",
              "      <td>1</td>\n",
              "      <td>0</td>\n",
              "      <td>0</td>\n",
              "      <td>0</td>\n",
              "      <td>1</td>\n",
              "      <td>0</td>\n",
              "      <td>0</td>\n",
              "      <td>0</td>\n",
              "      <td>0</td>\n",
              "      <td>0</td>\n",
              "      <td>0</td>\n",
              "      <td>0</td>\n",
              "      <td>0</td>\n",
              "      <td>0</td>\n",
              "    </tr>\n",
              "  </tbody>\n",
              "</table>\n",
              "</div>"
            ],
            "text/plain": [
              "       year  ...  type_of_job_Self employed\n",
              "21308  2017  ...                          0\n",
              "19670  2017  ...                          1\n",
              "22965  2018  ...                          1\n",
              "17830  2017  ...                          0\n",
              "22284  2018  ...                          0\n",
              "\n",
              "[5 rows x 41 columns]"
            ]
          },
          "metadata": {
            "tags": []
          },
          "execution_count": 69
        }
      ]
    },
    {
      "cell_type": "code",
      "metadata": {
        "id": "31idrGT38IpT",
        "colab_type": "code",
        "colab": {
          "base_uri": "https://localhost:8080/",
          "height": 251
        },
        "outputId": "55783538-3fd5-4ef3-9c41-baa9a1114c28"
      },
      "source": [
        "x_test.head()"
      ],
      "execution_count": 70,
      "outputs": [
        {
          "output_type": "execute_result",
          "data": {
            "text/html": [
              "<div>\n",
              "<style scoped>\n",
              "    .dataframe tbody tr th:only-of-type {\n",
              "        vertical-align: middle;\n",
              "    }\n",
              "\n",
              "    .dataframe tbody tr th {\n",
              "        vertical-align: top;\n",
              "    }\n",
              "\n",
              "    .dataframe thead th {\n",
              "        text-align: right;\n",
              "    }\n",
              "</style>\n",
              "<table border=\"1\" class=\"dataframe\">\n",
              "  <thead>\n",
              "    <tr style=\"text-align: right;\">\n",
              "      <th></th>\n",
              "      <th>year</th>\n",
              "      <th>household_size</th>\n",
              "      <th>respondent_age</th>\n",
              "      <th>country_Kenya</th>\n",
              "      <th>country_Rwanda</th>\n",
              "      <th>country_Tanzania</th>\n",
              "      <th>country_Uganda</th>\n",
              "      <th>type_of_location_Rural</th>\n",
              "      <th>type_of_location_Urban</th>\n",
              "      <th>cell_phone_access_No</th>\n",
              "      <th>cell_phone_access_Yes</th>\n",
              "      <th>gender_of_respondent_Female</th>\n",
              "      <th>gender_of_respondent_Male</th>\n",
              "      <th>relationship_with_head_Child</th>\n",
              "      <th>relationship_with_head_Head of Household</th>\n",
              "      <th>relationship_with_head_Other non-relatives</th>\n",
              "      <th>relationship_with_head_Other relative</th>\n",
              "      <th>relationship_with_head_Parent</th>\n",
              "      <th>relationship_with_head_Spouse</th>\n",
              "      <th>marital_status_Divorced/Seperated</th>\n",
              "      <th>marital_status_Dont know</th>\n",
              "      <th>marital_status_Married/Living together</th>\n",
              "      <th>marital_status_Single/Never Married</th>\n",
              "      <th>marital_status_Widowed</th>\n",
              "      <th>level_of_education_6</th>\n",
              "      <th>level_of_education_No formal education</th>\n",
              "      <th>level_of_education_Other/Dont know/RTA</th>\n",
              "      <th>level_of_education_Primary education</th>\n",
              "      <th>level_of_education_Secondary education</th>\n",
              "      <th>level_of_education_Tertiary education</th>\n",
              "      <th>level_of_education_Vocational/Specialised training</th>\n",
              "      <th>type_of_job_Dont Know/Refuse to answer</th>\n",
              "      <th>type_of_job_Farming and Fishing</th>\n",
              "      <th>type_of_job_Formally employed Government</th>\n",
              "      <th>type_of_job_Formally employed Private</th>\n",
              "      <th>type_of_job_Government Dependent</th>\n",
              "      <th>type_of_job_Informally employed</th>\n",
              "      <th>type_of_job_No Income</th>\n",
              "      <th>type_of_job_Other Income</th>\n",
              "      <th>type_of_job_Remittance Dependent</th>\n",
              "      <th>type_of_job_Self employed</th>\n",
              "    </tr>\n",
              "  </thead>\n",
              "  <tbody>\n",
              "    <tr>\n",
              "      <th>2631</th>\n",
              "      <td>2018</td>\n",
              "      <td>1.0</td>\n",
              "      <td>33.0</td>\n",
              "      <td>1</td>\n",
              "      <td>0</td>\n",
              "      <td>0</td>\n",
              "      <td>0</td>\n",
              "      <td>1</td>\n",
              "      <td>0</td>\n",
              "      <td>0</td>\n",
              "      <td>1</td>\n",
              "      <td>0</td>\n",
              "      <td>1</td>\n",
              "      <td>0</td>\n",
              "      <td>1</td>\n",
              "      <td>0</td>\n",
              "      <td>0</td>\n",
              "      <td>0</td>\n",
              "      <td>0</td>\n",
              "      <td>1</td>\n",
              "      <td>0</td>\n",
              "      <td>0</td>\n",
              "      <td>0</td>\n",
              "      <td>0</td>\n",
              "      <td>0</td>\n",
              "      <td>0</td>\n",
              "      <td>0</td>\n",
              "      <td>1</td>\n",
              "      <td>0</td>\n",
              "      <td>0</td>\n",
              "      <td>0</td>\n",
              "      <td>0</td>\n",
              "      <td>0</td>\n",
              "      <td>0</td>\n",
              "      <td>0</td>\n",
              "      <td>0</td>\n",
              "      <td>1</td>\n",
              "      <td>0</td>\n",
              "      <td>0</td>\n",
              "      <td>0</td>\n",
              "      <td>0</td>\n",
              "    </tr>\n",
              "    <tr>\n",
              "      <th>8380</th>\n",
              "      <td>2016</td>\n",
              "      <td>6.0</td>\n",
              "      <td>22.0</td>\n",
              "      <td>0</td>\n",
              "      <td>1</td>\n",
              "      <td>0</td>\n",
              "      <td>0</td>\n",
              "      <td>1</td>\n",
              "      <td>0</td>\n",
              "      <td>0</td>\n",
              "      <td>1</td>\n",
              "      <td>0</td>\n",
              "      <td>1</td>\n",
              "      <td>0</td>\n",
              "      <td>0</td>\n",
              "      <td>0</td>\n",
              "      <td>0</td>\n",
              "      <td>1</td>\n",
              "      <td>0</td>\n",
              "      <td>0</td>\n",
              "      <td>0</td>\n",
              "      <td>0</td>\n",
              "      <td>1</td>\n",
              "      <td>0</td>\n",
              "      <td>0</td>\n",
              "      <td>0</td>\n",
              "      <td>0</td>\n",
              "      <td>0</td>\n",
              "      <td>1</td>\n",
              "      <td>0</td>\n",
              "      <td>0</td>\n",
              "      <td>0</td>\n",
              "      <td>1</td>\n",
              "      <td>0</td>\n",
              "      <td>0</td>\n",
              "      <td>0</td>\n",
              "      <td>0</td>\n",
              "      <td>0</td>\n",
              "      <td>0</td>\n",
              "      <td>0</td>\n",
              "      <td>0</td>\n",
              "    </tr>\n",
              "    <tr>\n",
              "      <th>9488</th>\n",
              "      <td>2016</td>\n",
              "      <td>5.0</td>\n",
              "      <td>19.0</td>\n",
              "      <td>0</td>\n",
              "      <td>1</td>\n",
              "      <td>0</td>\n",
              "      <td>0</td>\n",
              "      <td>0</td>\n",
              "      <td>1</td>\n",
              "      <td>0</td>\n",
              "      <td>1</td>\n",
              "      <td>0</td>\n",
              "      <td>1</td>\n",
              "      <td>1</td>\n",
              "      <td>0</td>\n",
              "      <td>0</td>\n",
              "      <td>0</td>\n",
              "      <td>0</td>\n",
              "      <td>0</td>\n",
              "      <td>0</td>\n",
              "      <td>0</td>\n",
              "      <td>0</td>\n",
              "      <td>1</td>\n",
              "      <td>0</td>\n",
              "      <td>0</td>\n",
              "      <td>0</td>\n",
              "      <td>0</td>\n",
              "      <td>0</td>\n",
              "      <td>1</td>\n",
              "      <td>0</td>\n",
              "      <td>0</td>\n",
              "      <td>0</td>\n",
              "      <td>1</td>\n",
              "      <td>0</td>\n",
              "      <td>0</td>\n",
              "      <td>0</td>\n",
              "      <td>0</td>\n",
              "      <td>0</td>\n",
              "      <td>0</td>\n",
              "      <td>0</td>\n",
              "      <td>0</td>\n",
              "    </tr>\n",
              "    <tr>\n",
              "      <th>31</th>\n",
              "      <td>2018</td>\n",
              "      <td>5.0</td>\n",
              "      <td>38.0</td>\n",
              "      <td>1</td>\n",
              "      <td>0</td>\n",
              "      <td>0</td>\n",
              "      <td>0</td>\n",
              "      <td>0</td>\n",
              "      <td>1</td>\n",
              "      <td>0</td>\n",
              "      <td>1</td>\n",
              "      <td>0</td>\n",
              "      <td>1</td>\n",
              "      <td>0</td>\n",
              "      <td>1</td>\n",
              "      <td>0</td>\n",
              "      <td>0</td>\n",
              "      <td>0</td>\n",
              "      <td>0</td>\n",
              "      <td>0</td>\n",
              "      <td>0</td>\n",
              "      <td>1</td>\n",
              "      <td>0</td>\n",
              "      <td>0</td>\n",
              "      <td>0</td>\n",
              "      <td>0</td>\n",
              "      <td>0</td>\n",
              "      <td>0</td>\n",
              "      <td>1</td>\n",
              "      <td>0</td>\n",
              "      <td>0</td>\n",
              "      <td>0</td>\n",
              "      <td>0</td>\n",
              "      <td>0</td>\n",
              "      <td>0</td>\n",
              "      <td>0</td>\n",
              "      <td>0</td>\n",
              "      <td>0</td>\n",
              "      <td>0</td>\n",
              "      <td>0</td>\n",
              "      <td>1</td>\n",
              "    </tr>\n",
              "    <tr>\n",
              "      <th>1186</th>\n",
              "      <td>2018</td>\n",
              "      <td>1.0</td>\n",
              "      <td>48.0</td>\n",
              "      <td>1</td>\n",
              "      <td>0</td>\n",
              "      <td>0</td>\n",
              "      <td>0</td>\n",
              "      <td>0</td>\n",
              "      <td>1</td>\n",
              "      <td>0</td>\n",
              "      <td>1</td>\n",
              "      <td>1</td>\n",
              "      <td>0</td>\n",
              "      <td>0</td>\n",
              "      <td>1</td>\n",
              "      <td>0</td>\n",
              "      <td>0</td>\n",
              "      <td>0</td>\n",
              "      <td>0</td>\n",
              "      <td>0</td>\n",
              "      <td>0</td>\n",
              "      <td>1</td>\n",
              "      <td>0</td>\n",
              "      <td>0</td>\n",
              "      <td>0</td>\n",
              "      <td>0</td>\n",
              "      <td>1</td>\n",
              "      <td>0</td>\n",
              "      <td>0</td>\n",
              "      <td>0</td>\n",
              "      <td>0</td>\n",
              "      <td>0</td>\n",
              "      <td>0</td>\n",
              "      <td>1</td>\n",
              "      <td>0</td>\n",
              "      <td>0</td>\n",
              "      <td>0</td>\n",
              "      <td>0</td>\n",
              "      <td>0</td>\n",
              "      <td>0</td>\n",
              "      <td>0</td>\n",
              "    </tr>\n",
              "  </tbody>\n",
              "</table>\n",
              "</div>"
            ],
            "text/plain": [
              "      year  ...  type_of_job_Self employed\n",
              "2631  2018  ...                          0\n",
              "8380  2016  ...                          0\n",
              "9488  2016  ...                          0\n",
              "31    2018  ...                          1\n",
              "1186  2018  ...                          0\n",
              "\n",
              "[5 rows x 41 columns]"
            ]
          },
          "metadata": {
            "tags": []
          },
          "execution_count": 70
        }
      ]
    },
    {
      "cell_type": "code",
      "metadata": {
        "id": "xsfu7yuf8MsQ",
        "colab_type": "code",
        "colab": {}
      },
      "source": [
        "##\n",
        "# Standardizing\n",
        "# \n",
        "from sklearn.preprocessing import StandardScaler\n",
        "\n",
        "sc = StandardScaler()\n",
        "x_train = sc.fit_transform(x_train)\n",
        "x_test = sc.transform(x_test)"
      ],
      "execution_count": 0,
      "outputs": []
    },
    {
      "cell_type": "code",
      "metadata": {
        "id": "Trf0mcrC8U-h",
        "colab_type": "code",
        "colab": {
          "base_uri": "https://localhost:8080/",
          "height": 247
        },
        "outputId": "d93f929f-2b3c-4fec-8485-6386790d6889"
      },
      "source": [
        "x_test"
      ],
      "execution_count": 72,
      "outputs": [
        {
          "output_type": "execute_result",
          "data": {
            "text/plain": [
              "array([[ 1.20207548, -1.17433718, -0.35120743, ..., -0.22160018,\n",
              "        -0.34761413, -0.61143302],\n",
              "       [-1.15548487,  1.01082455, -1.01769419, ..., -0.22160018,\n",
              "        -0.34761413, -0.61143302],\n",
              "       [-1.15548487,  0.5737922 , -1.19946331, ..., -0.22160018,\n",
              "        -0.34761413, -0.61143302],\n",
              "       ...,\n",
              "       [-1.15548487, -0.30027249, -1.13887361, ..., -0.22160018,\n",
              "        -0.34761413, -0.61143302],\n",
              "       [ 1.20207548,  1.44785689,  1.16353523, ..., -0.22160018,\n",
              "        -0.34761413, -0.61143302],\n",
              "       [ 1.20207548, -1.17433718,  2.61768817, ..., -0.22160018,\n",
              "        -0.34761413, -0.61143302]])"
            ]
          },
          "metadata": {
            "tags": []
          },
          "execution_count": 72
        }
      ]
    },
    {
      "cell_type": "code",
      "metadata": {
        "id": "4atQYaAx8aL3",
        "colab_type": "code",
        "colab": {
          "base_uri": "https://localhost:8080/",
          "height": 247
        },
        "outputId": "6f66691b-26a8-40aa-e92e-4bd291bd53b7"
      },
      "source": [
        "x_train"
      ],
      "execution_count": 73,
      "outputs": [
        {
          "output_type": "execute_result",
          "data": {
            "text/plain": [
              "array([[ 0.0232953 , -1.17433718,  0.37586905, ..., -0.22160018,\n",
              "        -0.34761413, -0.61143302],\n",
              "       [ 0.0232953 , -0.73730484, -0.35120743, ..., -0.22160018,\n",
              "        -0.34761413,  1.63550211],\n",
              "       [ 1.20207548,  1.44785689, -0.16943831, ..., -0.22160018,\n",
              "        -0.34761413,  1.63550211],\n",
              "       ...,\n",
              "       [-1.15548487, -0.73730484,  2.49650876, ...,  4.51263165,\n",
              "        -0.34761413, -0.61143302],\n",
              "       [-1.15548487,  1.44785689,  0.25468963, ...,  4.51263165,\n",
              "        -0.34761413, -0.61143302],\n",
              "       [ 1.20207548,  1.44785689, -0.47238684, ..., -0.22160018,\n",
              "        -0.34761413, -0.61143302]])"
            ]
          },
          "metadata": {
            "tags": []
          },
          "execution_count": 73
        }
      ]
    },
    {
      "cell_type": "code",
      "metadata": {
        "id": "bixyblMX8ubb",
        "colab_type": "code",
        "colab": {
          "base_uri": "https://localhost:8080/",
          "height": 247
        },
        "outputId": "4f56f061-48ea-4060-808f-4eabb7798670"
      },
      "source": [
        "##\n",
        "# Applying PCA\n",
        "from sklearn.decomposition import PCA\n",
        "\n",
        "pca = PCA(.95)\n",
        "x_train = pca.fit_transform(x_train)\n",
        "x_test = pca.transform(x_test)\n",
        "x_train"
      ],
      "execution_count": 74,
      "outputs": [
        {
          "output_type": "execute_result",
          "data": {
            "text/plain": [
              "array([[-0.22482777,  2.13920581,  0.66451616, ..., -0.1137306 ,\n",
              "        -0.01519024,  0.57646328],\n",
              "       [ 3.38531755, -2.69177387,  0.86333899, ..., -0.1587818 ,\n",
              "        -0.06145493,  0.22448762],\n",
              "       [-0.59223634,  1.81241658, -0.88860301, ...,  0.23855451,\n",
              "         0.0321537 , -0.47805148],\n",
              "       ...,\n",
              "       [-1.02698951,  1.1357574 ,  3.72374391, ..., -0.6569727 ,\n",
              "        -0.46770021,  2.56021084],\n",
              "       [-2.63710863, -0.03927488, -0.73283394, ..., -0.1566391 ,\n",
              "        -0.30123859,  0.45754463],\n",
              "       [-1.51501427, -1.52134305, -1.85497273, ..., -0.47471793,\n",
              "         0.11713997,  0.57057795]])"
            ]
          },
          "metadata": {
            "tags": []
          },
          "execution_count": 74
        }
      ]
    },
    {
      "cell_type": "code",
      "metadata": {
        "id": "qxiYyd3U84jr",
        "colab_type": "code",
        "colab": {
          "base_uri": "https://localhost:8080/",
          "height": 123
        },
        "outputId": "d1234ad5-f3ef-49fb-e263-f0acec8d0174"
      },
      "source": [
        "##\n",
        "## Getting the explained variance ratio\n",
        "\n",
        "ex_variance = pca.explained_variance_ratio_\n",
        "ex_variance\n"
      ],
      "execution_count": 75,
      "outputs": [
        {
          "output_type": "execute_result",
          "data": {
            "text/plain": [
              "array([0.10171163, 0.07253785, 0.06972458, 0.06247519, 0.05166259,\n",
              "       0.04624466, 0.04015419, 0.03564433, 0.03487714, 0.03116651,\n",
              "       0.02975091, 0.02710112, 0.02627195, 0.02523953, 0.02503204,\n",
              "       0.02476803, 0.02467043, 0.024296  , 0.02415896, 0.02392125,\n",
              "       0.02372821, 0.02327924, 0.02208826, 0.02111412, 0.01971555,\n",
              "       0.01924303, 0.01542758, 0.01323842])"
            ]
          },
          "metadata": {
            "tags": []
          },
          "execution_count": 75
        }
      ]
    },
    {
      "cell_type": "code",
      "metadata": {
        "id": "8kQQX0Ti8_bi",
        "colab_type": "code",
        "colab": {}
      },
      "source": [
        "# The PCA Projection\n",
        "\n",
        "from sklearn.decomposition import PCA\n",
        "\n",
        "pca = PCA(n_components=23)\n",
        "x_train = pca.fit_transform(x_train)\n",
        "x_test = pca.transform(x_test)"
      ],
      "execution_count": 0,
      "outputs": []
    },
    {
      "cell_type": "code",
      "metadata": {
        "id": "uJEQGzu3-OJy",
        "colab_type": "code",
        "colab": {
          "base_uri": "https://localhost:8080/",
          "height": 72
        },
        "outputId": "fceb553a-9ac4-4790-9ce1-90fe3b58978c"
      },
      "source": [
        "# Training and Making Predictions.\n",
        "# \n",
        "## Our ensemle method is Random Forest as it best with huge data\n",
        "from sklearn.ensemble import RandomForestClassifier\n",
        "\n",
        "clas = RandomForestClassifier(max_depth=2, random_state=0)\n",
        "clas.fit(x_train, y_train)\n",
        "\n",
        "y_pred = clas.predict(x_test)"
      ],
      "execution_count": 77,
      "outputs": [
        {
          "output_type": "stream",
          "text": [
            "/usr/local/lib/python3.6/dist-packages/sklearn/ensemble/forest.py:245: FutureWarning: The default value of n_estimators will change from 10 in version 0.20 to 100 in 0.22.\n",
            "  \"10 in version 0.20 to 100 in 0.22.\", FutureWarning)\n"
          ],
          "name": "stderr"
        }
      ]
    },
    {
      "cell_type": "code",
      "metadata": {
        "id": "9AsW-Mw4-kxQ",
        "colab_type": "code",
        "colab": {
          "base_uri": "https://localhost:8080/",
          "height": 52
        },
        "outputId": "cf394056-2850-4d3a-db7e-770fd010a62f"
      },
      "source": [
        "# Performance Evaluation\n",
        "#  This is by using confusion matrix\n",
        "from sklearn.metrics import confusion_matrix\n",
        "from sklearn.metrics import accuracy_score\n",
        "\n",
        "cons = confusion_matrix(y_test, y_pred)\n",
        "print(cons)"
      ],
      "execution_count": 78,
      "outputs": [
        {
          "output_type": "stream",
          "text": [
            "[[4034    2]\n",
            " [ 610   22]]\n"
          ],
          "name": "stdout"
        }
      ]
    },
    {
      "cell_type": "code",
      "metadata": {
        "id": "htTyPhygWn3z",
        "colab_type": "code",
        "colab": {
          "base_uri": "https://localhost:8080/",
          "height": 34
        },
        "outputId": "967db494-0090-492c-af1e-c1b56ca15a98"
      },
      "source": [
        "y_test.shape"
      ],
      "execution_count": 79,
      "outputs": [
        {
          "output_type": "execute_result",
          "data": {
            "text/plain": [
              "(4668,)"
            ]
          },
          "metadata": {
            "tags": []
          },
          "execution_count": 79
        }
      ]
    },
    {
      "cell_type": "code",
      "metadata": {
        "id": "AVBzqxii_Siz",
        "colab_type": "code",
        "colab": {
          "base_uri": "https://localhost:8080/",
          "height": 34
        },
        "outputId": "fb88270c-fc1f-46f7-d36b-cab5659b2d96"
      },
      "source": [
        "##\n",
        "## This is performance evaluation using  accuracy score\n",
        "print('Accuracy ' + str(accuracy_score(y_test, y_pred)))"
      ],
      "execution_count": 80,
      "outputs": [
        {
          "output_type": "stream",
          "text": [
            "Accuracy 0.8688946015424165\n"
          ],
          "name": "stdout"
        }
      ]
    },
    {
      "cell_type": "markdown",
      "metadata": {
        "id": "zC4VGjO3_n_x",
        "colab_type": "text"
      },
      "source": [
        ""
      ]
    },
    {
      "cell_type": "markdown",
      "metadata": {
        "id": "rMVlfylo_jyL",
        "colab_type": "text"
      },
      "source": [
        "This shows that the accuracy is 0.86889 which is the same as 86% that means the model is predicted around the mean"
      ]
    },
    {
      "cell_type": "code",
      "metadata": {
        "id": "v5LCFbEd_jH9",
        "colab_type": "code",
        "colab": {
          "base_uri": "https://localhost:8080/",
          "height": 125
        },
        "outputId": "c786f8aa-4f34-437a-c3ca-ec0966f5a21b"
      },
      "source": [
        "## Results with two principal components\n",
        "##\n",
        "pc = PCA(n_components=1)\n",
        "x_train = pc.fit_transform(x_train)\n",
        "x_test = pc.transform(x_test)\n",
        "# \n",
        "clas1 = RandomForestClassifier(max_depth=2, random_state=0)\n",
        "clas1.fit(x_train, y_train)\n",
        "\n",
        "y_pred = clas1.predict(x_test)\n",
        "# \n",
        "conf = confusion_matrix(y_test, y_pred)\n",
        "print(conf)\n",
        "print(accuracy_score(y_test, y_pred))"
      ],
      "execution_count": 81,
      "outputs": [
        {
          "output_type": "stream",
          "text": [
            "[[4036    0]\n",
            " [ 632    0]]\n",
            "0.8646101113967438\n"
          ],
          "name": "stdout"
        },
        {
          "output_type": "stream",
          "text": [
            "/usr/local/lib/python3.6/dist-packages/sklearn/ensemble/forest.py:245: FutureWarning: The default value of n_estimators will change from 10 in version 0.20 to 100 in 0.22.\n",
            "  \"10 in version 0.20 to 100 in 0.22.\", FutureWarning)\n"
          ],
          "name": "stderr"
        }
      ]
    },
    {
      "cell_type": "markdown",
      "metadata": {
        "id": "AclnLTNnDgz0",
        "colab_type": "text"
      },
      "source": [
        "There is no significant reduction observed in the classification accuracy using the 1 pricncipal component as compared to and using principal component 2"
      ]
    },
    {
      "cell_type": "code",
      "metadata": {
        "id": "vTE_4KbkD5gu",
        "colab_type": "code",
        "colab": {
          "base_uri": "https://localhost:8080/",
          "height": 34
        },
        "outputId": "b7376f2d-8f52-4cec-af26-57949d71eb90"
      },
      "source": [
        "# Results with Full Feature Set \n",
        "# To do so, we simply remove the PCA part\n",
        "# \n",
        "# OUR CODE GOES HERE\n",
        "from sklearn.metrics import accuracy_score\n",
        "\n",
        "\n",
        "print('Accuracy ' + str(accuracy_score(y_test, y_pred)))"
      ],
      "execution_count": 82,
      "outputs": [
        {
          "output_type": "stream",
          "text": [
            "Accuracy 0.8646101113967438\n"
          ],
          "name": "stdout"
        }
      ]
    },
    {
      "cell_type": "markdown",
      "metadata": {
        "id": "D9Zrn35kEWgN",
        "colab_type": "text"
      },
      "source": [
        "\n",
        "The accuracy received with full feature set should also be 86.889% which is not far apart from 86.46%"
      ]
    },
    {
      "cell_type": "code",
      "metadata": {
        "id": "32ZBLIgASlRs",
        "colab_type": "code",
        "colab": {
          "base_uri": "https://localhost:8080/",
          "height": 105
        },
        "outputId": "70fbc4fe-7e76-4c6e-bd40-b1fc84ac1638"
      },
      "source": [
        "proj.columns"
      ],
      "execution_count": 83,
      "outputs": [
        {
          "output_type": "execute_result",
          "data": {
            "text/plain": [
              "Index(['country', 'year', 'has_a_bank_account', 'type_of_location',\n",
              "       'cell_phone_access', 'household_size', 'respondent_age',\n",
              "       'gender_of_respondent', 'relationship_with_head', 'marital_status',\n",
              "       'level_of_education', 'type_of_job'],\n",
              "      dtype='object')"
            ]
          },
          "metadata": {
            "tags": []
          },
          "execution_count": 83
        }
      ]
    },
    {
      "cell_type": "code",
      "metadata": {
        "id": "eGbsNuL3x2rj",
        "colab_type": "code",
        "colab": {
          "base_uri": "https://localhost:8080/",
          "height": 1000
        },
        "outputId": "f32366c9-b714-4025-bc4c-f60e0f2dc6da"
      },
      "source": [
        "##\n",
        "##\n",
        "proj['bank'] = proj['has_a_bank_account'].map( {'Yes':1, 'No':0} )\n",
        "proj[['bank', 'has_a_bank_account']]"
      ],
      "execution_count": 84,
      "outputs": [
        {
          "output_type": "execute_result",
          "data": {
            "text/html": [
              "<div>\n",
              "<style scoped>\n",
              "    .dataframe tbody tr th:only-of-type {\n",
              "        vertical-align: middle;\n",
              "    }\n",
              "\n",
              "    .dataframe tbody tr th {\n",
              "        vertical-align: top;\n",
              "    }\n",
              "\n",
              "    .dataframe thead th {\n",
              "        text-align: right;\n",
              "    }\n",
              "</style>\n",
              "<table border=\"1\" class=\"dataframe\">\n",
              "  <thead>\n",
              "    <tr style=\"text-align: right;\">\n",
              "      <th></th>\n",
              "      <th>bank</th>\n",
              "      <th>has_a_bank_account</th>\n",
              "    </tr>\n",
              "  </thead>\n",
              "  <tbody>\n",
              "    <tr>\n",
              "      <th>0</th>\n",
              "      <td>1</td>\n",
              "      <td>Yes</td>\n",
              "    </tr>\n",
              "    <tr>\n",
              "      <th>1</th>\n",
              "      <td>0</td>\n",
              "      <td>No</td>\n",
              "    </tr>\n",
              "    <tr>\n",
              "      <th>2</th>\n",
              "      <td>1</td>\n",
              "      <td>Yes</td>\n",
              "    </tr>\n",
              "    <tr>\n",
              "      <th>3</th>\n",
              "      <td>0</td>\n",
              "      <td>No</td>\n",
              "    </tr>\n",
              "    <tr>\n",
              "      <th>4</th>\n",
              "      <td>0</td>\n",
              "      <td>No</td>\n",
              "    </tr>\n",
              "    <tr>\n",
              "      <th>5</th>\n",
              "      <td>0</td>\n",
              "      <td>No</td>\n",
              "    </tr>\n",
              "    <tr>\n",
              "      <th>6</th>\n",
              "      <td>0</td>\n",
              "      <td>No</td>\n",
              "    </tr>\n",
              "    <tr>\n",
              "      <th>7</th>\n",
              "      <td>0</td>\n",
              "      <td>No</td>\n",
              "    </tr>\n",
              "    <tr>\n",
              "      <th>8</th>\n",
              "      <td>1</td>\n",
              "      <td>Yes</td>\n",
              "    </tr>\n",
              "    <tr>\n",
              "      <th>9</th>\n",
              "      <td>0</td>\n",
              "      <td>No</td>\n",
              "    </tr>\n",
              "    <tr>\n",
              "      <th>10</th>\n",
              "      <td>0</td>\n",
              "      <td>No</td>\n",
              "    </tr>\n",
              "    <tr>\n",
              "      <th>11</th>\n",
              "      <td>1</td>\n",
              "      <td>Yes</td>\n",
              "    </tr>\n",
              "    <tr>\n",
              "      <th>12</th>\n",
              "      <td>0</td>\n",
              "      <td>No</td>\n",
              "    </tr>\n",
              "    <tr>\n",
              "      <th>13</th>\n",
              "      <td>0</td>\n",
              "      <td>No</td>\n",
              "    </tr>\n",
              "    <tr>\n",
              "      <th>14</th>\n",
              "      <td>0</td>\n",
              "      <td>No</td>\n",
              "    </tr>\n",
              "    <tr>\n",
              "      <th>15</th>\n",
              "      <td>0</td>\n",
              "      <td>No</td>\n",
              "    </tr>\n",
              "    <tr>\n",
              "      <th>16</th>\n",
              "      <td>0</td>\n",
              "      <td>No</td>\n",
              "    </tr>\n",
              "    <tr>\n",
              "      <th>17</th>\n",
              "      <td>1</td>\n",
              "      <td>Yes</td>\n",
              "    </tr>\n",
              "    <tr>\n",
              "      <th>18</th>\n",
              "      <td>0</td>\n",
              "      <td>No</td>\n",
              "    </tr>\n",
              "    <tr>\n",
              "      <th>19</th>\n",
              "      <td>0</td>\n",
              "      <td>No</td>\n",
              "    </tr>\n",
              "    <tr>\n",
              "      <th>20</th>\n",
              "      <td>0</td>\n",
              "      <td>No</td>\n",
              "    </tr>\n",
              "    <tr>\n",
              "      <th>21</th>\n",
              "      <td>1</td>\n",
              "      <td>Yes</td>\n",
              "    </tr>\n",
              "    <tr>\n",
              "      <th>22</th>\n",
              "      <td>0</td>\n",
              "      <td>No</td>\n",
              "    </tr>\n",
              "    <tr>\n",
              "      <th>23</th>\n",
              "      <td>0</td>\n",
              "      <td>No</td>\n",
              "    </tr>\n",
              "    <tr>\n",
              "      <th>24</th>\n",
              "      <td>0</td>\n",
              "      <td>No</td>\n",
              "    </tr>\n",
              "    <tr>\n",
              "      <th>25</th>\n",
              "      <td>0</td>\n",
              "      <td>No</td>\n",
              "    </tr>\n",
              "    <tr>\n",
              "      <th>26</th>\n",
              "      <td>0</td>\n",
              "      <td>No</td>\n",
              "    </tr>\n",
              "    <tr>\n",
              "      <th>27</th>\n",
              "      <td>0</td>\n",
              "      <td>No</td>\n",
              "    </tr>\n",
              "    <tr>\n",
              "      <th>28</th>\n",
              "      <td>0</td>\n",
              "      <td>No</td>\n",
              "    </tr>\n",
              "    <tr>\n",
              "      <th>29</th>\n",
              "      <td>0</td>\n",
              "      <td>No</td>\n",
              "    </tr>\n",
              "    <tr>\n",
              "      <th>...</th>\n",
              "      <td>...</td>\n",
              "      <td>...</td>\n",
              "    </tr>\n",
              "    <tr>\n",
              "      <th>23488</th>\n",
              "      <td>0</td>\n",
              "      <td>No</td>\n",
              "    </tr>\n",
              "    <tr>\n",
              "      <th>23489</th>\n",
              "      <td>0</td>\n",
              "      <td>No</td>\n",
              "    </tr>\n",
              "    <tr>\n",
              "      <th>23490</th>\n",
              "      <td>0</td>\n",
              "      <td>No</td>\n",
              "    </tr>\n",
              "    <tr>\n",
              "      <th>23491</th>\n",
              "      <td>0</td>\n",
              "      <td>No</td>\n",
              "    </tr>\n",
              "    <tr>\n",
              "      <th>23492</th>\n",
              "      <td>0</td>\n",
              "      <td>No</td>\n",
              "    </tr>\n",
              "    <tr>\n",
              "      <th>23493</th>\n",
              "      <td>0</td>\n",
              "      <td>No</td>\n",
              "    </tr>\n",
              "    <tr>\n",
              "      <th>23494</th>\n",
              "      <td>0</td>\n",
              "      <td>No</td>\n",
              "    </tr>\n",
              "    <tr>\n",
              "      <th>23495</th>\n",
              "      <td>0</td>\n",
              "      <td>No</td>\n",
              "    </tr>\n",
              "    <tr>\n",
              "      <th>23496</th>\n",
              "      <td>0</td>\n",
              "      <td>No</td>\n",
              "    </tr>\n",
              "    <tr>\n",
              "      <th>23497</th>\n",
              "      <td>0</td>\n",
              "      <td>No</td>\n",
              "    </tr>\n",
              "    <tr>\n",
              "      <th>23498</th>\n",
              "      <td>0</td>\n",
              "      <td>No</td>\n",
              "    </tr>\n",
              "    <tr>\n",
              "      <th>23499</th>\n",
              "      <td>0</td>\n",
              "      <td>No</td>\n",
              "    </tr>\n",
              "    <tr>\n",
              "      <th>23500</th>\n",
              "      <td>0</td>\n",
              "      <td>No</td>\n",
              "    </tr>\n",
              "    <tr>\n",
              "      <th>23501</th>\n",
              "      <td>0</td>\n",
              "      <td>No</td>\n",
              "    </tr>\n",
              "    <tr>\n",
              "      <th>23502</th>\n",
              "      <td>0</td>\n",
              "      <td>No</td>\n",
              "    </tr>\n",
              "    <tr>\n",
              "      <th>23503</th>\n",
              "      <td>0</td>\n",
              "      <td>No</td>\n",
              "    </tr>\n",
              "    <tr>\n",
              "      <th>23504</th>\n",
              "      <td>0</td>\n",
              "      <td>No</td>\n",
              "    </tr>\n",
              "    <tr>\n",
              "      <th>23505</th>\n",
              "      <td>0</td>\n",
              "      <td>No</td>\n",
              "    </tr>\n",
              "    <tr>\n",
              "      <th>23506</th>\n",
              "      <td>0</td>\n",
              "      <td>No</td>\n",
              "    </tr>\n",
              "    <tr>\n",
              "      <th>23507</th>\n",
              "      <td>0</td>\n",
              "      <td>No</td>\n",
              "    </tr>\n",
              "    <tr>\n",
              "      <th>23508</th>\n",
              "      <td>0</td>\n",
              "      <td>No</td>\n",
              "    </tr>\n",
              "    <tr>\n",
              "      <th>23509</th>\n",
              "      <td>0</td>\n",
              "      <td>No</td>\n",
              "    </tr>\n",
              "    <tr>\n",
              "      <th>23510</th>\n",
              "      <td>0</td>\n",
              "      <td>No</td>\n",
              "    </tr>\n",
              "    <tr>\n",
              "      <th>23511</th>\n",
              "      <td>0</td>\n",
              "      <td>No</td>\n",
              "    </tr>\n",
              "    <tr>\n",
              "      <th>23512</th>\n",
              "      <td>0</td>\n",
              "      <td>No</td>\n",
              "    </tr>\n",
              "    <tr>\n",
              "      <th>23519</th>\n",
              "      <td>0</td>\n",
              "      <td>No</td>\n",
              "    </tr>\n",
              "    <tr>\n",
              "      <th>23520</th>\n",
              "      <td>0</td>\n",
              "      <td>No</td>\n",
              "    </tr>\n",
              "    <tr>\n",
              "      <th>23521</th>\n",
              "      <td>0</td>\n",
              "      <td>No</td>\n",
              "    </tr>\n",
              "    <tr>\n",
              "      <th>23522</th>\n",
              "      <td>0</td>\n",
              "      <td>No</td>\n",
              "    </tr>\n",
              "    <tr>\n",
              "      <th>23523</th>\n",
              "      <td>0</td>\n",
              "      <td>No</td>\n",
              "    </tr>\n",
              "  </tbody>\n",
              "</table>\n",
              "<p>23340 rows × 2 columns</p>\n",
              "</div>"
            ],
            "text/plain": [
              "       bank has_a_bank_account\n",
              "0         1                Yes\n",
              "1         0                 No\n",
              "2         1                Yes\n",
              "3         0                 No\n",
              "4         0                 No\n",
              "5         0                 No\n",
              "6         0                 No\n",
              "7         0                 No\n",
              "8         1                Yes\n",
              "9         0                 No\n",
              "10        0                 No\n",
              "11        1                Yes\n",
              "12        0                 No\n",
              "13        0                 No\n",
              "14        0                 No\n",
              "15        0                 No\n",
              "16        0                 No\n",
              "17        1                Yes\n",
              "18        0                 No\n",
              "19        0                 No\n",
              "20        0                 No\n",
              "21        1                Yes\n",
              "22        0                 No\n",
              "23        0                 No\n",
              "24        0                 No\n",
              "25        0                 No\n",
              "26        0                 No\n",
              "27        0                 No\n",
              "28        0                 No\n",
              "29        0                 No\n",
              "...     ...                ...\n",
              "23488     0                 No\n",
              "23489     0                 No\n",
              "23490     0                 No\n",
              "23491     0                 No\n",
              "23492     0                 No\n",
              "23493     0                 No\n",
              "23494     0                 No\n",
              "23495     0                 No\n",
              "23496     0                 No\n",
              "23497     0                 No\n",
              "23498     0                 No\n",
              "23499     0                 No\n",
              "23500     0                 No\n",
              "23501     0                 No\n",
              "23502     0                 No\n",
              "23503     0                 No\n",
              "23504     0                 No\n",
              "23505     0                 No\n",
              "23506     0                 No\n",
              "23507     0                 No\n",
              "23508     0                 No\n",
              "23509     0                 No\n",
              "23510     0                 No\n",
              "23511     0                 No\n",
              "23512     0                 No\n",
              "23519     0                 No\n",
              "23520     0                 No\n",
              "23521     0                 No\n",
              "23522     0                 No\n",
              "23523     0                 No\n",
              "\n",
              "[23340 rows x 2 columns]"
            ]
          },
          "metadata": {
            "tags": []
          },
          "execution_count": 84
        }
      ]
    },
    {
      "cell_type": "code",
      "metadata": {
        "id": "SLx6U4RtSZBG",
        "colab_type": "code",
        "colab": {}
      },
      "source": [
        "##\n",
        "##\n",
        "x = proj[['year', 'household_size', 'respondent_age']]\n",
        "y = proj['has_a_bank_account']"
      ],
      "execution_count": 0,
      "outputs": []
    },
    {
      "cell_type": "code",
      "metadata": {
        "id": "0FUpcn2Xl3Zc",
        "colab_type": "code",
        "colab": {}
      },
      "source": [
        "##\n",
        "##\n",
        "def convert(x):\n",
        "  if x == 'Yes':\n",
        "    x = 1\n",
        "  else:\n",
        "      x = 0\n",
        "  return x\n",
        "    "
      ],
      "execution_count": 0,
      "outputs": []
    },
    {
      "cell_type": "code",
      "metadata": {
        "id": "zwgDfTG5pab7",
        "colab_type": "code",
        "colab": {}
      },
      "source": [
        "proj['has_a_bank_account'] = proj['has_a_bank_account'].apply(lambda x: convert(x))"
      ],
      "execution_count": 0,
      "outputs": []
    },
    {
      "cell_type": "code",
      "metadata": {
        "id": "pcRwy0LfZzU8",
        "colab_type": "code",
        "colab": {}
      },
      "source": [
        "y = y.apply(lambda x: convert(x))"
      ],
      "execution_count": 0,
      "outputs": []
    },
    {
      "cell_type": "code",
      "metadata": {
        "id": "eeySv_z0aDyo",
        "colab_type": "code",
        "colab": {
          "base_uri": "https://localhost:8080/",
          "height": 1000
        },
        "outputId": "9e9a78e4-b3a1-438f-c5fe-2f3bf65d8fc0"
      },
      "source": [
        "y"
      ],
      "execution_count": 101,
      "outputs": [
        {
          "output_type": "execute_result",
          "data": {
            "text/plain": [
              "0        1\n",
              "1        0\n",
              "2        1\n",
              "3        0\n",
              "4        0\n",
              "5        0\n",
              "6        0\n",
              "7        0\n",
              "8        1\n",
              "9        0\n",
              "10       0\n",
              "11       1\n",
              "12       0\n",
              "13       0\n",
              "14       0\n",
              "15       0\n",
              "16       0\n",
              "17       1\n",
              "18       0\n",
              "19       0\n",
              "20       0\n",
              "21       1\n",
              "22       0\n",
              "23       0\n",
              "24       0\n",
              "25       0\n",
              "26       0\n",
              "27       0\n",
              "28       0\n",
              "29       0\n",
              "        ..\n",
              "23488    0\n",
              "23489    0\n",
              "23490    0\n",
              "23491    0\n",
              "23492    0\n",
              "23493    0\n",
              "23494    0\n",
              "23495    0\n",
              "23496    0\n",
              "23497    0\n",
              "23498    0\n",
              "23499    0\n",
              "23500    0\n",
              "23501    0\n",
              "23502    0\n",
              "23503    0\n",
              "23504    0\n",
              "23505    0\n",
              "23506    0\n",
              "23507    0\n",
              "23508    0\n",
              "23509    0\n",
              "23510    0\n",
              "23511    0\n",
              "23512    0\n",
              "23519    0\n",
              "23520    0\n",
              "23521    0\n",
              "23522    0\n",
              "23523    0\n",
              "Name: has_a_bank_account, Length: 23340, dtype: int64"
            ]
          },
          "metadata": {
            "tags": []
          },
          "execution_count": 101
        }
      ]
    },
    {
      "cell_type": "code",
      "metadata": {
        "id": "0UX3_akUvR68",
        "colab_type": "code",
        "colab": {}
      },
      "source": [
        "proj.loc[:, proj['has_a_bank_account'] == 1]"
      ],
      "execution_count": 0,
      "outputs": []
    },
    {
      "cell_type": "code",
      "metadata": {
        "id": "aF1pPZxobc71",
        "colab_type": "code",
        "colab": {}
      },
      "source": [
        "y = y.astype(np.int)"
      ],
      "execution_count": 0,
      "outputs": []
    },
    {
      "cell_type": "code",
      "metadata": {
        "id": "syCJNkjlU_48",
        "colab_type": "code",
        "colab": {}
      },
      "source": [
        "##\n",
        "##\n",
        "lm = LinearRegression()\n",
        "results = lm.fit(x_train,y_train)"
      ],
      "execution_count": 0,
      "outputs": []
    },
    {
      "cell_type": "code",
      "metadata": {
        "id": "IvG6cgnGQVpJ",
        "colab_type": "code",
        "colab": {
          "base_uri": "https://localhost:8080/",
          "height": 532
        },
        "outputId": "239422ad-0749-4fc1-a6c9-9a68b09ed3d3"
      },
      "source": [
        "## ## Predicting significant and non significant variables\n",
        "\n",
        "X2 = sm.add_constant(x.values)  \n",
        "model = sm.OLS(y, X2).fit()  \n",
        "print(model.summary())"
      ],
      "execution_count": 109,
      "outputs": [
        {
          "output_type": "stream",
          "text": [
            "                            OLS Regression Results                            \n",
            "==============================================================================\n",
            "Dep. Variable:     has_a_bank_account   R-squared:                       0.013\n",
            "Model:                            OLS   Adj. R-squared:                  0.013\n",
            "Method:                 Least Squares   F-statistic:                     105.4\n",
            "Date:                Tue, 13 Aug 2019   Prob (F-statistic):           8.86e-68\n",
            "Time:                        05:25:23   Log-Likelihood:                -8340.8\n",
            "No. Observations:               23340   AIC:                         1.669e+04\n",
            "Df Residuals:                   23336   BIC:                         1.672e+04\n",
            "Df Model:                           3                                         \n",
            "Covariance Type:            nonrobust                                         \n",
            "==============================================================================\n",
            "                 coef    std err          t      P>|t|      [0.025      0.975]\n",
            "------------------------------------------------------------------------------\n",
            "const        -92.6933      5.388    -17.203      0.000    -103.255     -82.132\n",
            "x1             0.0460      0.003     17.229      0.000       0.041       0.051\n",
            "x2            -0.0023      0.001     -2.254      0.024      -0.004      -0.000\n",
            "x3             0.0004      0.000      3.040      0.002       0.000       0.001\n",
            "==============================================================================\n",
            "Omnibus:                     8164.403   Durbin-Watson:                   1.957\n",
            "Prob(Omnibus):                  0.000   Jarque-Bera (JB):            20577.845\n",
            "Skew:                           2.021   Prob(JB):                         0.00\n",
            "Kurtosis:                       5.195   Cond. No.                     4.80e+06\n",
            "==============================================================================\n",
            "\n",
            "Warnings:\n",
            "[1] Standard Errors assume that the covariance matrix of the errors is correctly specified.\n",
            "[2] The condition number is large, 4.8e+06. This might indicate that there are\n",
            "strong multicollinearity or other numerical problems.\n"
          ],
          "name": "stdout"
        }
      ]
    },
    {
      "cell_type": "markdown",
      "metadata": {
        "id": "J9rPQgtgceA9",
        "colab_type": "text"
      },
      "source": [
        "From the output above, we can see that the predictor (independent) variables x1 and x3 are signinficant because all of their p-values are 0.000 and 0.002\n",
        "However, the p-value for x2 is greater than 0.05 which indicates that it is not statistically significant. \n",
        "Typically you use coefficient p-values to determine which terms to keep in the regression model."
      ]
    }
  ]
}