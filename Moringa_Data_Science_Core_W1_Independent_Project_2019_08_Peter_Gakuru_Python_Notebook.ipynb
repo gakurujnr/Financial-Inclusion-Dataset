{
  "nbformat": 4,
  "nbformat_minor": 0,
  "metadata": {
    "colab": {
      "name": "Moringa_Data_Science_Core_W1_Independent_Project_2019_08_Peter_Gakuru_Python_Notebook",
      "version": "0.3.2",
      "provenance": [],
      "collapsed_sections": [],
      "include_colab_link": true
    },
    "kernelspec": {
      "name": "python3",
      "display_name": "Python 3"
    }
  },
  "cells": [
    {
      "cell_type": "markdown",
      "metadata": {
        "id": "view-in-github",
        "colab_type": "text"
      },
      "source": [
        "<a href=\"https://colab.research.google.com/github/gakurujnr/Financial-Inclusion-Dataset/blob/master/Moringa_Data_Science_Core_W1_Independent_Project_2019_08_Peter_Gakuru_Python_Notebook.ipynb\" target=\"_parent\"><img src=\"https://colab.research.google.com/assets/colab-badge.svg\" alt=\"Open In Colab\"/></a>"
      ]
    },
    {
      "cell_type": "markdown",
      "metadata": {
        "id": "zEKRFQUeWC7y",
        "colab_type": "text"
      },
      "source": [
        "## All Imports"
      ]
    },
    {
      "cell_type": "code",
      "metadata": {
        "id": "laK2kiaUWSlN",
        "colab_type": "code",
        "colab": {}
      },
      "source": [
        "##\n",
        "###\n",
        "# All imports\n",
        "# Importing Numpy\n",
        "import numpy as np\n",
        "\n",
        "# Importing Pandas\n",
        "import pandas as pd\n",
        "\n",
        "# Importing Matplotlib\n",
        "import matplotlib.pyplot as plt\n",
        "%matplotlib inline\n",
        "\n",
        "# Importing Seaborn\n",
        "import seaborn as sns\n",
        "\n",
        "import pandas_profiling\n"
      ],
      "execution_count": 0,
      "outputs": []
    },
    {
      "cell_type": "markdown",
      "metadata": {
        "id": "_z3JEBSeWrbx",
        "colab_type": "text"
      },
      "source": [
        "## Reading the Dataset"
      ]
    },
    {
      "cell_type": "code",
      "metadata": {
        "id": "xy4O9bYZWvkx",
        "colab_type": "code",
        "colab": {
          "base_uri": "https://localhost:8080/",
          "height": 367
        },
        "outputId": "408a75d3-ceaa-4094-d2a0-959715440524"
      },
      "source": [
        "##\n",
        "## \n",
        "# Loading the Data from the source \n",
        "# ---\n",
        "# Dataset: http://bit.ly/FinancialDataset\n",
        "# ---\n",
        "proj = pd.read_csv(\"http://bit.ly/FinancialDataset\")\n",
        "proj.head()"
      ],
      "execution_count": 100,
      "outputs": [
        {
          "output_type": "execute_result",
          "data": {
            "text/html": [
              "<div>\n",
              "<style scoped>\n",
              "    .dataframe tbody tr th:only-of-type {\n",
              "        vertical-align: middle;\n",
              "    }\n",
              "\n",
              "    .dataframe tbody tr th {\n",
              "        vertical-align: top;\n",
              "    }\n",
              "\n",
              "    .dataframe thead th {\n",
              "        text-align: right;\n",
              "    }\n",
              "</style>\n",
              "<table border=\"1\" class=\"dataframe\">\n",
              "  <thead>\n",
              "    <tr style=\"text-align: right;\">\n",
              "      <th></th>\n",
              "      <th>country</th>\n",
              "      <th>year</th>\n",
              "      <th>uniqueid</th>\n",
              "      <th>Has a Bank account</th>\n",
              "      <th>Type of Location</th>\n",
              "      <th>Cell Phone Access</th>\n",
              "      <th>household_size</th>\n",
              "      <th>Respondent Age</th>\n",
              "      <th>gender_of_respondent</th>\n",
              "      <th>The relathip with head</th>\n",
              "      <th>marital_status</th>\n",
              "      <th>Level of Educuation</th>\n",
              "      <th>Type of Job</th>\n",
              "    </tr>\n",
              "  </thead>\n",
              "  <tbody>\n",
              "    <tr>\n",
              "      <th>0</th>\n",
              "      <td>Kenya</td>\n",
              "      <td>2018</td>\n",
              "      <td>uniqueid_1</td>\n",
              "      <td>Yes</td>\n",
              "      <td>Rural</td>\n",
              "      <td>Yes</td>\n",
              "      <td>3.0</td>\n",
              "      <td>24.0</td>\n",
              "      <td>Female</td>\n",
              "      <td>Spouse</td>\n",
              "      <td>Married/Living together</td>\n",
              "      <td>Secondary education</td>\n",
              "      <td>Self employed</td>\n",
              "    </tr>\n",
              "    <tr>\n",
              "      <th>1</th>\n",
              "      <td>Kenya</td>\n",
              "      <td>2018</td>\n",
              "      <td>uniqueid_2</td>\n",
              "      <td>No</td>\n",
              "      <td>Rural</td>\n",
              "      <td>No</td>\n",
              "      <td>5.0</td>\n",
              "      <td>70.0</td>\n",
              "      <td>Female</td>\n",
              "      <td>Head of Household</td>\n",
              "      <td>Widowed</td>\n",
              "      <td>No formal education</td>\n",
              "      <td>Government Dependent</td>\n",
              "    </tr>\n",
              "    <tr>\n",
              "      <th>2</th>\n",
              "      <td>Kenya</td>\n",
              "      <td>2018</td>\n",
              "      <td>uniqueid_3</td>\n",
              "      <td>Yes</td>\n",
              "      <td>Urban</td>\n",
              "      <td>Yes</td>\n",
              "      <td>5.0</td>\n",
              "      <td>26.0</td>\n",
              "      <td>Male</td>\n",
              "      <td>Other relative</td>\n",
              "      <td>Single/Never Married</td>\n",
              "      <td>Vocational/Specialised training</td>\n",
              "      <td>Self employed</td>\n",
              "    </tr>\n",
              "    <tr>\n",
              "      <th>3</th>\n",
              "      <td>Kenya</td>\n",
              "      <td>2018</td>\n",
              "      <td>uniqueid_4</td>\n",
              "      <td>No</td>\n",
              "      <td>Rural</td>\n",
              "      <td>Yes</td>\n",
              "      <td>5.0</td>\n",
              "      <td>34.0</td>\n",
              "      <td>Female</td>\n",
              "      <td>Head of Household</td>\n",
              "      <td>Married/Living together</td>\n",
              "      <td>Primary education</td>\n",
              "      <td>Formally employed Private</td>\n",
              "    </tr>\n",
              "    <tr>\n",
              "      <th>4</th>\n",
              "      <td>Kenya</td>\n",
              "      <td>2018</td>\n",
              "      <td>uniqueid_5</td>\n",
              "      <td>No</td>\n",
              "      <td>Urban</td>\n",
              "      <td>No</td>\n",
              "      <td>8.0</td>\n",
              "      <td>26.0</td>\n",
              "      <td>Male</td>\n",
              "      <td>Child</td>\n",
              "      <td>Single/Never Married</td>\n",
              "      <td>Primary education</td>\n",
              "      <td>Informally employed</td>\n",
              "    </tr>\n",
              "  </tbody>\n",
              "</table>\n",
              "</div>"
            ],
            "text/plain": [
              "  country  year  ...              Level of Educuation                Type of Job\n",
              "0   Kenya  2018  ...              Secondary education              Self employed\n",
              "1   Kenya  2018  ...              No formal education       Government Dependent\n",
              "2   Kenya  2018  ...  Vocational/Specialised training              Self employed\n",
              "3   Kenya  2018  ...                Primary education  Formally employed Private\n",
              "4   Kenya  2018  ...                Primary education        Informally employed\n",
              "\n",
              "[5 rows x 13 columns]"
            ]
          },
          "metadata": {
            "tags": []
          },
          "execution_count": 100
        }
      ]
    },
    {
      "cell_type": "markdown",
      "metadata": {
        "id": "AzuXQ8rTaIsu",
        "colab_type": "text"
      },
      "source": [
        "## Checking Data"
      ]
    },
    {
      "cell_type": "code",
      "metadata": {
        "id": "4idTGgMsaNQH",
        "colab_type": "code",
        "colab": {
          "base_uri": "https://localhost:8080/",
          "height": 34
        },
        "outputId": "490a28d0-5e7b-418e-d19b-384364eb842e"
      },
      "source": [
        "##\n",
        "## Determining the no. of records in our dataset\n",
        "proj.shape"
      ],
      "execution_count": 101,
      "outputs": [
        {
          "output_type": "execute_result",
          "data": {
            "text/plain": [
              "(23524, 13)"
            ]
          },
          "metadata": {
            "tags": []
          },
          "execution_count": 101
        }
      ]
    },
    {
      "cell_type": "code",
      "metadata": {
        "id": "QVE9PAFyckJq",
        "colab_type": "code",
        "colab": {
          "base_uri": "https://localhost:8080/",
          "height": 34
        },
        "outputId": "46704381-2bf4-418b-eaf9-cc4d47a8fe2d"
      },
      "source": [
        "##\n",
        "## no of records\n",
        "len(proj)"
      ],
      "execution_count": 102,
      "outputs": [
        {
          "output_type": "execute_result",
          "data": {
            "text/plain": [
              "23524"
            ]
          },
          "metadata": {
            "tags": []
          },
          "execution_count": 102
        }
      ]
    },
    {
      "cell_type": "code",
      "metadata": {
        "id": "HPrljOK8apOU",
        "colab_type": "code",
        "colab": {
          "base_uri": "https://localhost:8080/",
          "height": 265
        },
        "outputId": "8e71bee1-8542-4790-ee47-248360565641"
      },
      "source": [
        "##\n",
        "## Checking whether each column has an appropriate datatype\n",
        "proj.dtypes"
      ],
      "execution_count": 103,
      "outputs": [
        {
          "output_type": "execute_result",
          "data": {
            "text/plain": [
              "country                    object\n",
              "year                        int64\n",
              "uniqueid                   object\n",
              "Has a Bank account         object\n",
              "Type of Location           object\n",
              "Cell Phone Access          object\n",
              "household_size            float64\n",
              "Respondent Age            float64\n",
              "gender_of_respondent       object\n",
              "The relathip with head     object\n",
              "marital_status             object\n",
              "Level of Educuation        object\n",
              "Type of Job                object\n",
              "dtype: object"
            ]
          },
          "metadata": {
            "tags": []
          },
          "execution_count": 103
        }
      ]
    },
    {
      "cell_type": "code",
      "metadata": {
        "id": "SWmfdVFWa0E3",
        "colab_type": "code",
        "colab": {
          "base_uri": "https://localhost:8080/",
          "height": 336
        },
        "outputId": "868f21cd-22b5-487a-cf19-b1ea26b51666"
      },
      "source": [
        "##\n",
        "## Checking the information of our dataset\n",
        "proj.info()"
      ],
      "execution_count": 104,
      "outputs": [
        {
          "output_type": "stream",
          "text": [
            "<class 'pandas.core.frame.DataFrame'>\n",
            "RangeIndex: 23524 entries, 0 to 23523\n",
            "Data columns (total 13 columns):\n",
            "country                   23510 non-null object\n",
            "year                      23524 non-null int64\n",
            "uniqueid                  23524 non-null object\n",
            "Has a Bank account        23488 non-null object\n",
            "Type of Location          23509 non-null object\n",
            "Cell Phone Access         23513 non-null object\n",
            "household_size            23496 non-null float64\n",
            "Respondent Age            23490 non-null float64\n",
            "gender_of_respondent      23490 non-null object\n",
            "The relathip with head    23520 non-null object\n",
            "marital_status            23492 non-null object\n",
            "Level of Educuation       23495 non-null object\n",
            "Type of Job               23494 non-null object\n",
            "dtypes: float64(2), int64(1), object(10)\n",
            "memory usage: 2.3+ MB\n"
          ],
          "name": "stdout"
        }
      ]
    },
    {
      "cell_type": "code",
      "metadata": {
        "id": "T7_b8_3Lfdau",
        "colab_type": "code",
        "colab": {
          "base_uri": "https://localhost:8080/",
          "height": 1000
        },
        "outputId": "9f898747-d323-4274-fe0d-4c84fd57cff0"
      },
      "source": [
        "##\n",
        "## Pandas profiling \n",
        "import pandas_profiling\n",
        "pandas_profiling.ProfileReport(proj)"
      ],
      "execution_count": 105,
      "outputs": [
        {
          "output_type": "execute_result",
          "data": {
            "text/html": [
              "<meta charset=\"UTF-8\">\n",
              "\n",
              "<style>\n",
              "\n",
              "        .variablerow {\n",
              "            border: 1px solid #e1e1e8;\n",
              "            border-top: hidden;\n",
              "            padding-top: 2em;\n",
              "            padding-bottom: 2em;\n",
              "            padding-left: 1em;\n",
              "            padding-right: 1em;\n",
              "        }\n",
              "\n",
              "        .headerrow {\n",
              "            border: 1px solid #e1e1e8;\n",
              "            background-color: #f5f5f5;\n",
              "            padding: 2em;\n",
              "        }\n",
              "        .namecol {\n",
              "            margin-top: -1em;\n",
              "            overflow-x: auto;\n",
              "        }\n",
              "\n",
              "        .dl-horizontal dt {\n",
              "            text-align: left;\n",
              "            padding-right: 1em;\n",
              "            white-space: normal;\n",
              "        }\n",
              "\n",
              "        .dl-horizontal dd {\n",
              "            margin-left: 0;\n",
              "        }\n",
              "\n",
              "        .ignore {\n",
              "            opacity: 0.4;\n",
              "        }\n",
              "\n",
              "        .container.pandas-profiling {\n",
              "            max-width:975px;\n",
              "        }\n",
              "\n",
              "        .col-md-12 {\n",
              "            padding-left: 2em;\n",
              "        }\n",
              "\n",
              "        .indent {\n",
              "            margin-left: 1em;\n",
              "        }\n",
              "\n",
              "        .center-img {\n",
              "            margin-left: auto !important;\n",
              "            margin-right: auto !important;\n",
              "            display: block;\n",
              "        }\n",
              "\n",
              "        /* Table example_values */\n",
              "            table.example_values {\n",
              "                border: 0;\n",
              "            }\n",
              "\n",
              "            .example_values th {\n",
              "                border: 0;\n",
              "                padding: 0 ;\n",
              "                color: #555;\n",
              "                font-weight: 600;\n",
              "            }\n",
              "\n",
              "            .example_values tr, .example_values td{\n",
              "                border: 0;\n",
              "                padding: 0;\n",
              "                color: #555;\n",
              "            }\n",
              "\n",
              "        /* STATS */\n",
              "            table.stats {\n",
              "                border: 0;\n",
              "            }\n",
              "\n",
              "            .stats th {\n",
              "                border: 0;\n",
              "                padding: 0 2em 0 0;\n",
              "                color: #555;\n",
              "                font-weight: 600;\n",
              "            }\n",
              "\n",
              "            .stats tr {\n",
              "                border: 0;\n",
              "            }\n",
              "\n",
              "            .stats td{\n",
              "                color: #555;\n",
              "                padding: 1px;\n",
              "                border: 0;\n",
              "            }\n",
              "\n",
              "\n",
              "        /* Sample table */\n",
              "            table.sample {\n",
              "                border: 0;\n",
              "                margin-bottom: 2em;\n",
              "                margin-left:1em;\n",
              "            }\n",
              "            .sample tr {\n",
              "                border:0;\n",
              "            }\n",
              "            .sample td, .sample th{\n",
              "                padding: 0.5em;\n",
              "                white-space: nowrap;\n",
              "                border: none;\n",
              "\n",
              "            }\n",
              "\n",
              "            .sample thead {\n",
              "                border-top: 0;\n",
              "                border-bottom: 2px solid #ddd;\n",
              "            }\n",
              "\n",
              "            .sample td {\n",
              "                width:100%;\n",
              "            }\n",
              "\n",
              "\n",
              "        /* There is no good solution available to make the divs equal height and then center ... */\n",
              "            .histogram {\n",
              "                margin-top: 3em;\n",
              "            }\n",
              "        /* Freq table */\n",
              "\n",
              "            table.freq {\n",
              "                margin-bottom: 2em;\n",
              "                border: 0;\n",
              "            }\n",
              "            table.freq th, table.freq tr, table.freq td {\n",
              "                border: 0;\n",
              "                padding: 0;\n",
              "            }\n",
              "\n",
              "            .freq thead {\n",
              "                font-weight: 600;\n",
              "                white-space: nowrap;\n",
              "                overflow: hidden;\n",
              "                text-overflow: ellipsis;\n",
              "\n",
              "            }\n",
              "\n",
              "            td.fillremaining{\n",
              "                width:auto;\n",
              "                max-width: none;\n",
              "            }\n",
              "\n",
              "            td.number, th.number {\n",
              "                text-align:right ;\n",
              "            }\n",
              "\n",
              "        /* Freq mini */\n",
              "            .freq.mini td{\n",
              "                width: 50%;\n",
              "                padding: 1px;\n",
              "                font-size: 12px;\n",
              "\n",
              "            }\n",
              "            table.freq.mini {\n",
              "                 width:100%;\n",
              "            }\n",
              "            .freq.mini th {\n",
              "                overflow: hidden;\n",
              "                text-overflow: ellipsis;\n",
              "                white-space: nowrap;\n",
              "                max-width: 5em;\n",
              "                font-weight: 400;\n",
              "                text-align:right;\n",
              "                padding-right: 0.5em;\n",
              "            }\n",
              "\n",
              "            .missing {\n",
              "                color: #a94442;\n",
              "            }\n",
              "            .alert, .alert > th, .alert > td {\n",
              "                color: #a94442;\n",
              "            }\n",
              "\n",
              "\n",
              "        /* Bars in tables */\n",
              "            .freq .bar{\n",
              "                float: left;\n",
              "                width: 0;\n",
              "                height: 100%;\n",
              "                line-height: 20px;\n",
              "                color: #fff;\n",
              "                text-align: center;\n",
              "                background-color: #337ab7;\n",
              "                border-radius: 3px;\n",
              "                margin-right: 4px;\n",
              "            }\n",
              "            .other .bar {\n",
              "                background-color: #999;\n",
              "            }\n",
              "            .missing .bar{\n",
              "                background-color: #a94442;\n",
              "            }\n",
              "            .tooltip-inner {\n",
              "                width: 100%;\n",
              "                white-space: nowrap;\n",
              "                text-align:left;\n",
              "            }\n",
              "\n",
              "            .extrapadding{\n",
              "                padding: 2em;\n",
              "            }\n",
              "\n",
              "            .pp-anchor{\n",
              "\n",
              "            }\n",
              "\n",
              "</style>\n",
              "\n",
              "<div class=\"container pandas-profiling\">\n",
              "    <div class=\"row headerrow highlight\">\n",
              "        <h1>Overview</h1>\n",
              "    </div>\n",
              "    <div class=\"row variablerow\">\n",
              "    <div class=\"col-md-6 namecol\">\n",
              "        <p class=\"h4\">Dataset info</p>\n",
              "        <table class=\"stats\" style=\"margin-left: 1em;\">\n",
              "            <tbody>\n",
              "            <tr>\n",
              "                <th>Number of variables</th>\n",
              "                <td>13 </td>\n",
              "            </tr>\n",
              "            <tr>\n",
              "                <th>Number of observations</th>\n",
              "                <td>23524 </td>\n",
              "            </tr>\n",
              "            <tr>\n",
              "                <th>Total Missing (%)</th>\n",
              "                <td>0.1% </td>\n",
              "            </tr>\n",
              "            <tr>\n",
              "                <th>Total size in memory</th>\n",
              "                <td>2.3 MiB </td>\n",
              "            </tr>\n",
              "            <tr>\n",
              "                <th>Average record size in memory</th>\n",
              "                <td>104.0 B </td>\n",
              "            </tr>\n",
              "            </tbody>\n",
              "        </table>\n",
              "    </div>\n",
              "    <div class=\"col-md-6 namecol\">\n",
              "        <p class=\"h4\">Variables types</p>\n",
              "        <table class=\"stats\" style=\"margin-left: 1em;\">\n",
              "            <tbody>\n",
              "            <tr>\n",
              "                <th>Numeric</th>\n",
              "                <td>3 </td>\n",
              "            </tr>\n",
              "            <tr>\n",
              "                <th>Categorical</th>\n",
              "                <td>10 </td>\n",
              "            </tr>\n",
              "            <tr>\n",
              "                <th>Boolean</th>\n",
              "                <td>0 </td>\n",
              "            </tr>\n",
              "            <tr>\n",
              "                <th>Date</th>\n",
              "                <td>0 </td>\n",
              "            </tr>\n",
              "            <tr>\n",
              "                <th>Text (Unique)</th>\n",
              "                <td>0 </td>\n",
              "            </tr>\n",
              "            <tr>\n",
              "                <th>Rejected</th>\n",
              "                <td>0 </td>\n",
              "            </tr>\n",
              "            <tr>\n",
              "                <th>Unsupported</th>\n",
              "                <td>0 </td>\n",
              "            </tr>\n",
              "            </tbody>\n",
              "        </table>\n",
              "    </div>\n",
              "    <div class=\"col-md-12\" style=\"padding-left: 1em;\">\n",
              "        \n",
              "        <p class=\"h4\">Warnings</p>\n",
              "        <ul class=\"list-unstyled\"><li><a href=\"#pp_var_uniqueid\"><code>uniqueid</code></a> has a high cardinality: 8735 distinct values  <span class=\"label label-warning\">Warning</span></li> </ul>\n",
              "    </div>\n",
              "</div>\n",
              "    <div class=\"row headerrow highlight\">\n",
              "        <h1>Variables</h1>\n",
              "    </div>\n",
              "    <div class=\"row variablerow\">\n",
              "    <div class=\"col-md-3 namecol\">\n",
              "        <p class=\"h4 pp-anchor\" id=\"pp_var_Cell Phone Access\">Cell Phone Access<br/>\n",
              "            <small>Categorical</small>\n",
              "        </p>\n",
              "    </div><div class=\"col-md-3\">\n",
              "    <table class=\"stats \">\n",
              "        <tr class=\"\">\n",
              "            <th>Distinct count</th>\n",
              "            <td>3</td>\n",
              "        </tr>\n",
              "        <tr>\n",
              "            <th>Unique (%)</th>\n",
              "            <td>0.0%</td>\n",
              "        </tr>\n",
              "        <tr class=\"ignore\">\n",
              "            <th>Missing (%)</th>\n",
              "            <td>0.0%</td>\n",
              "        </tr>\n",
              "        <tr class=\"ignore\">\n",
              "            <th>Missing (n)</th>\n",
              "            <td>11</td>\n",
              "        </tr>\n",
              "    </table>\n",
              "</div>\n",
              "<div class=\"col-md-6 collapse in\" id=\"minifreqtable-3658092697018622905\">\n",
              "    <table class=\"mini freq\">\n",
              "        <tr class=\"\">\n",
              "    <th>Yes</th>\n",
              "    <td>\n",
              "        <div class=\"bar\" style=\"width:100%\" data-toggle=\"tooltip\" data-placement=\"right\" data-html=\"true\"\n",
              "             data-delay=500 title=\"Percentage: 74.2%\">\n",
              "            17449\n",
              "        </div>\n",
              "        \n",
              "    </td>\n",
              "</tr><tr class=\"\">\n",
              "    <th>No</th>\n",
              "    <td>\n",
              "        <div class=\"bar\" style=\"width:35%\" data-toggle=\"tooltip\" data-placement=\"right\" data-html=\"true\"\n",
              "             data-delay=500 title=\"Percentage: 25.8%\">\n",
              "            6064\n",
              "        </div>\n",
              "        \n",
              "    </td>\n",
              "</tr><tr class=\"missing\">\n",
              "    <th>(Missing)</th>\n",
              "    <td>\n",
              "        <div class=\"bar\" style=\"width:1%\" data-toggle=\"tooltip\" data-placement=\"right\" data-html=\"true\"\n",
              "             data-delay=500 title=\"Percentage: 0.0%\">\n",
              "            &nbsp;\n",
              "        </div>\n",
              "        11\n",
              "    </td>\n",
              "</tr>\n",
              "    </table>\n",
              "</div>\n",
              "<div class=\"col-md-12 text-right\">\n",
              "    <a role=\"button\" data-toggle=\"collapse\" data-target=\"#freqtable-3658092697018622905, #minifreqtable-3658092697018622905\"\n",
              "       aria-expanded=\"true\" aria-controls=\"collapseExample\">\n",
              "        Toggle details\n",
              "    </a>\n",
              "</div>\n",
              "<div class=\"col-md-12 extrapadding collapse\" id=\"freqtable-3658092697018622905\">\n",
              "    \n",
              "<table class=\"freq table table-hover\">\n",
              "    <thead>\n",
              "    <tr>\n",
              "        <td class=\"fillremaining\">Value</td>\n",
              "        <td class=\"number\">Count</td>\n",
              "        <td class=\"number\">Frequency (%)</td>\n",
              "        <td style=\"min-width:200px\">&nbsp;</td>\n",
              "    </tr>\n",
              "    </thead>\n",
              "    <tr class=\"\">\n",
              "        <td class=\"fillremaining\">Yes</td>\n",
              "        <td class=\"number\">17449</td>\n",
              "        <td class=\"number\">74.2%</td>\n",
              "        <td>\n",
              "            <div class=\"bar\" style=\"width:100%\">&nbsp;</div>\n",
              "        </td>\n",
              "</tr><tr class=\"\">\n",
              "        <td class=\"fillremaining\">No</td>\n",
              "        <td class=\"number\">6064</td>\n",
              "        <td class=\"number\">25.8%</td>\n",
              "        <td>\n",
              "            <div class=\"bar\" style=\"width:35%\">&nbsp;</div>\n",
              "        </td>\n",
              "</tr><tr class=\"missing\">\n",
              "        <td class=\"fillremaining\">(Missing)</td>\n",
              "        <td class=\"number\">11</td>\n",
              "        <td class=\"number\">0.0%</td>\n",
              "        <td>\n",
              "            <div class=\"bar\" style=\"width:1%\">&nbsp;</div>\n",
              "        </td>\n",
              "</tr>\n",
              "</table>\n",
              "</div>\n",
              "</div><div class=\"row variablerow\">\n",
              "    <div class=\"col-md-3 namecol\">\n",
              "        <p class=\"h4 pp-anchor\" id=\"pp_var_Has a Bank account\">Has a Bank account<br/>\n",
              "            <small>Categorical</small>\n",
              "        </p>\n",
              "    </div><div class=\"col-md-3\">\n",
              "    <table class=\"stats \">\n",
              "        <tr class=\"\">\n",
              "            <th>Distinct count</th>\n",
              "            <td>3</td>\n",
              "        </tr>\n",
              "        <tr>\n",
              "            <th>Unique (%)</th>\n",
              "            <td>0.0%</td>\n",
              "        </tr>\n",
              "        <tr class=\"ignore\">\n",
              "            <th>Missing (%)</th>\n",
              "            <td>0.2%</td>\n",
              "        </tr>\n",
              "        <tr class=\"ignore\">\n",
              "            <th>Missing (n)</th>\n",
              "            <td>36</td>\n",
              "        </tr>\n",
              "    </table>\n",
              "</div>\n",
              "<div class=\"col-md-6 collapse in\" id=\"minifreqtable3396215253870083079\">\n",
              "    <table class=\"mini freq\">\n",
              "        <tr class=\"\">\n",
              "    <th>No</th>\n",
              "    <td>\n",
              "        <div class=\"bar\" style=\"width:100%\" data-toggle=\"tooltip\" data-placement=\"right\" data-html=\"true\"\n",
              "             data-delay=500 title=\"Percentage: 85.8%\">\n",
              "            20179\n",
              "        </div>\n",
              "        \n",
              "    </td>\n",
              "</tr><tr class=\"\">\n",
              "    <th>Yes</th>\n",
              "    <td>\n",
              "        <div class=\"bar\" style=\"width:17%\" data-toggle=\"tooltip\" data-placement=\"right\" data-html=\"true\"\n",
              "             data-delay=500 title=\"Percentage: 14.1%\">\n",
              "            &nbsp;\n",
              "        </div>\n",
              "        3309\n",
              "    </td>\n",
              "</tr><tr class=\"missing\">\n",
              "    <th>(Missing)</th>\n",
              "    <td>\n",
              "        <div class=\"bar\" style=\"width:1%\" data-toggle=\"tooltip\" data-placement=\"right\" data-html=\"true\"\n",
              "             data-delay=500 title=\"Percentage: 0.2%\">\n",
              "            &nbsp;\n",
              "        </div>\n",
              "        36\n",
              "    </td>\n",
              "</tr>\n",
              "    </table>\n",
              "</div>\n",
              "<div class=\"col-md-12 text-right\">\n",
              "    <a role=\"button\" data-toggle=\"collapse\" data-target=\"#freqtable3396215253870083079, #minifreqtable3396215253870083079\"\n",
              "       aria-expanded=\"true\" aria-controls=\"collapseExample\">\n",
              "        Toggle details\n",
              "    </a>\n",
              "</div>\n",
              "<div class=\"col-md-12 extrapadding collapse\" id=\"freqtable3396215253870083079\">\n",
              "    \n",
              "<table class=\"freq table table-hover\">\n",
              "    <thead>\n",
              "    <tr>\n",
              "        <td class=\"fillremaining\">Value</td>\n",
              "        <td class=\"number\">Count</td>\n",
              "        <td class=\"number\">Frequency (%)</td>\n",
              "        <td style=\"min-width:200px\">&nbsp;</td>\n",
              "    </tr>\n",
              "    </thead>\n",
              "    <tr class=\"\">\n",
              "        <td class=\"fillremaining\">No</td>\n",
              "        <td class=\"number\">20179</td>\n",
              "        <td class=\"number\">85.8%</td>\n",
              "        <td>\n",
              "            <div class=\"bar\" style=\"width:100%\">&nbsp;</div>\n",
              "        </td>\n",
              "</tr><tr class=\"\">\n",
              "        <td class=\"fillremaining\">Yes</td>\n",
              "        <td class=\"number\">3309</td>\n",
              "        <td class=\"number\">14.1%</td>\n",
              "        <td>\n",
              "            <div class=\"bar\" style=\"width:17%\">&nbsp;</div>\n",
              "        </td>\n",
              "</tr><tr class=\"missing\">\n",
              "        <td class=\"fillremaining\">(Missing)</td>\n",
              "        <td class=\"number\">36</td>\n",
              "        <td class=\"number\">0.2%</td>\n",
              "        <td>\n",
              "            <div class=\"bar\" style=\"width:1%\">&nbsp;</div>\n",
              "        </td>\n",
              "</tr>\n",
              "</table>\n",
              "</div>\n",
              "</div><div class=\"row variablerow\">\n",
              "    <div class=\"col-md-3 namecol\">\n",
              "        <p class=\"h4 pp-anchor\" id=\"pp_var_Level of Educuation\">Level of Educuation<br/>\n",
              "            <small>Categorical</small>\n",
              "        </p>\n",
              "    </div><div class=\"col-md-3\">\n",
              "    <table class=\"stats \">\n",
              "        <tr class=\"\">\n",
              "            <th>Distinct count</th>\n",
              "            <td>8</td>\n",
              "        </tr>\n",
              "        <tr>\n",
              "            <th>Unique (%)</th>\n",
              "            <td>0.0%</td>\n",
              "        </tr>\n",
              "        <tr class=\"ignore\">\n",
              "            <th>Missing (%)</th>\n",
              "            <td>0.1%</td>\n",
              "        </tr>\n",
              "        <tr class=\"ignore\">\n",
              "            <th>Missing (n)</th>\n",
              "            <td>29</td>\n",
              "        </tr>\n",
              "    </table>\n",
              "</div>\n",
              "<div class=\"col-md-6 collapse in\" id=\"minifreqtable6374682674512947892\">\n",
              "    <table class=\"mini freq\">\n",
              "        <tr class=\"\">\n",
              "    <th>Primary education</th>\n",
              "    <td>\n",
              "        <div class=\"bar\" style=\"width:100%\" data-toggle=\"tooltip\" data-placement=\"right\" data-html=\"true\"\n",
              "             data-delay=500 title=\"Percentage: 54.3%\">\n",
              "            12775\n",
              "        </div>\n",
              "        \n",
              "    </td>\n",
              "</tr><tr class=\"\">\n",
              "    <th>No formal education</th>\n",
              "    <td>\n",
              "        <div class=\"bar\" style=\"width:35%\" data-toggle=\"tooltip\" data-placement=\"right\" data-html=\"true\"\n",
              "             data-delay=500 title=\"Percentage: 19.2%\">\n",
              "            4506\n",
              "        </div>\n",
              "        \n",
              "    </td>\n",
              "</tr><tr class=\"\">\n",
              "    <th>Secondary education</th>\n",
              "    <td>\n",
              "        <div class=\"bar\" style=\"width:33%\" data-toggle=\"tooltip\" data-placement=\"right\" data-html=\"true\"\n",
              "             data-delay=500 title=\"Percentage: 17.9%\">\n",
              "            4220\n",
              "        </div>\n",
              "        \n",
              "    </td>\n",
              "</tr><tr class=\"other\">\n",
              "    <th>Other values (4)</th>\n",
              "    <td>\n",
              "        <div class=\"bar\" style=\"width:16%\" data-toggle=\"tooltip\" data-placement=\"right\" data-html=\"true\"\n",
              "             data-delay=500 title=\"Percentage: 8.5%\">\n",
              "            &nbsp;\n",
              "        </div>\n",
              "        1994\n",
              "    </td>\n",
              "</tr>\n",
              "    </table>\n",
              "</div>\n",
              "<div class=\"col-md-12 text-right\">\n",
              "    <a role=\"button\" data-toggle=\"collapse\" data-target=\"#freqtable6374682674512947892, #minifreqtable6374682674512947892\"\n",
              "       aria-expanded=\"true\" aria-controls=\"collapseExample\">\n",
              "        Toggle details\n",
              "    </a>\n",
              "</div>\n",
              "<div class=\"col-md-12 extrapadding collapse\" id=\"freqtable6374682674512947892\">\n",
              "    \n",
              "<table class=\"freq table table-hover\">\n",
              "    <thead>\n",
              "    <tr>\n",
              "        <td class=\"fillremaining\">Value</td>\n",
              "        <td class=\"number\">Count</td>\n",
              "        <td class=\"number\">Frequency (%)</td>\n",
              "        <td style=\"min-width:200px\">&nbsp;</td>\n",
              "    </tr>\n",
              "    </thead>\n",
              "    <tr class=\"\">\n",
              "        <td class=\"fillremaining\">Primary education</td>\n",
              "        <td class=\"number\">12775</td>\n",
              "        <td class=\"number\">54.3%</td>\n",
              "        <td>\n",
              "            <div class=\"bar\" style=\"width:100%\">&nbsp;</div>\n",
              "        </td>\n",
              "</tr><tr class=\"\">\n",
              "        <td class=\"fillremaining\">No formal education</td>\n",
              "        <td class=\"number\">4506</td>\n",
              "        <td class=\"number\">19.2%</td>\n",
              "        <td>\n",
              "            <div class=\"bar\" style=\"width:35%\">&nbsp;</div>\n",
              "        </td>\n",
              "</tr><tr class=\"\">\n",
              "        <td class=\"fillremaining\">Secondary education</td>\n",
              "        <td class=\"number\">4220</td>\n",
              "        <td class=\"number\">17.9%</td>\n",
              "        <td>\n",
              "            <div class=\"bar\" style=\"width:33%\">&nbsp;</div>\n",
              "        </td>\n",
              "</tr><tr class=\"\">\n",
              "        <td class=\"fillremaining\">Tertiary education</td>\n",
              "        <td class=\"number\">1156</td>\n",
              "        <td class=\"number\">4.9%</td>\n",
              "        <td>\n",
              "            <div class=\"bar\" style=\"width:9%\">&nbsp;</div>\n",
              "        </td>\n",
              "</tr><tr class=\"\">\n",
              "        <td class=\"fillremaining\">Vocational/Specialised training</td>\n",
              "        <td class=\"number\">803</td>\n",
              "        <td class=\"number\">3.4%</td>\n",
              "        <td>\n",
              "            <div class=\"bar\" style=\"width:7%\">&nbsp;</div>\n",
              "        </td>\n",
              "</tr><tr class=\"\">\n",
              "        <td class=\"fillremaining\">6</td>\n",
              "        <td class=\"number\">27</td>\n",
              "        <td class=\"number\">0.1%</td>\n",
              "        <td>\n",
              "            <div class=\"bar\" style=\"width:1%\">&nbsp;</div>\n",
              "        </td>\n",
              "</tr><tr class=\"\">\n",
              "        <td class=\"fillremaining\">Other/Dont know/RTA</td>\n",
              "        <td class=\"number\">8</td>\n",
              "        <td class=\"number\">0.0%</td>\n",
              "        <td>\n",
              "            <div class=\"bar\" style=\"width:1%\">&nbsp;</div>\n",
              "        </td>\n",
              "</tr><tr class=\"missing\">\n",
              "        <td class=\"fillremaining\">(Missing)</td>\n",
              "        <td class=\"number\">29</td>\n",
              "        <td class=\"number\">0.1%</td>\n",
              "        <td>\n",
              "            <div class=\"bar\" style=\"width:1%\">&nbsp;</div>\n",
              "        </td>\n",
              "</tr>\n",
              "</table>\n",
              "</div>\n",
              "</div><div class=\"row variablerow\">\n",
              "    <div class=\"col-md-3 namecol\">\n",
              "        <p class=\"h4 pp-anchor\" id=\"pp_var_Respondent Age\">Respondent Age<br/>\n",
              "            <small>Numeric</small>\n",
              "        </p>\n",
              "    </div><div class=\"col-md-6\">\n",
              "    <div class=\"row\">\n",
              "        <div class=\"col-sm-6\">\n",
              "            <table class=\"stats \">\n",
              "                <tr>\n",
              "                    <th>Distinct count</th>\n",
              "                    <td>86</td>\n",
              "                </tr>\n",
              "                <tr>\n",
              "                    <th>Unique (%)</th>\n",
              "                    <td>0.4%</td>\n",
              "                </tr>\n",
              "                <tr class=\"ignore\">\n",
              "                    <th>Missing (%)</th>\n",
              "                    <td>0.1%</td>\n",
              "                </tr>\n",
              "                <tr class=\"ignore\">\n",
              "                    <th>Missing (n)</th>\n",
              "                    <td>34</td>\n",
              "                </tr>\n",
              "                <tr class=\"ignore\">\n",
              "                    <th>Infinite (%)</th>\n",
              "                    <td>0.0%</td>\n",
              "                </tr>\n",
              "                <tr class=\"ignore\">\n",
              "                    <th>Infinite (n)</th>\n",
              "                    <td>0</td>\n",
              "                </tr>\n",
              "            </table>\n",
              "\n",
              "        </div>\n",
              "        <div class=\"col-sm-6\">\n",
              "            <table class=\"stats \">\n",
              "\n",
              "                <tr>\n",
              "                    <th>Mean</th>\n",
              "                    <td>38.804</td>\n",
              "                </tr>\n",
              "                <tr>\n",
              "                    <th>Minimum</th>\n",
              "                    <td>16</td>\n",
              "                </tr>\n",
              "                <tr>\n",
              "                    <th>Maximum</th>\n",
              "                    <td>100</td>\n",
              "                </tr>\n",
              "                <tr class=\"ignore\">\n",
              "                    <th>Zeros (%)</th>\n",
              "                    <td>0.0%</td>\n",
              "                </tr>\n",
              "            </table>\n",
              "        </div>\n",
              "    </div>\n",
              "</div>\n",
              "<div class=\"col-md-3 collapse in\" id=\"minihistogram-5165274202694997097\">\n",
              "    <img src=\"data:image/png;base64,iVBORw0KGgoAAAANSUhEUgAAAMgAAABLCAYAAAA1fMjoAAAABHNCSVQICAgIfAhkiAAAAAlwSFlzAAAPYQAAD2EBqD%2BnaQAAADl0RVh0U29mdHdhcmUAbWF0cGxvdGxpYiB2ZXJzaW9uIDMuMC4zLCBodHRwOi8vbWF0cGxvdGxpYi5vcmcvnQurowAAATVJREFUeJzt3MFtAjEQQNEQUVKKSE8501OKSE9OA9HXgmLW7L53R/LlaxgjcxljjDfgT%2B97HwBWdt37AP/h4%2Bv77s/83D4nnISjMUEgCASCQCAIBIJAICx3i/XIjRTMslwgz%2BJqmC18xYIgEAgCgSAQCAKBIBAIAoEgEAgCgSAQCAKBIBAIAoEgEAgCgXDa9yCPuPcNifcjr88EgSAQCAKBIBAIlvSJ/DHE6zNBIAgEgkAg2EEWY29ZiwkCQSAQBAJBIBAEAkEgEFzzHoB3KvOYIBBMkBPyY%2BR2JggEgUAQCAQ7CJucdW8RCNMcIarLGGPsfQhYlR0EgkAgCASCQCAIBIJAIAgEgkAgCASCQCAIBIJAIAgEgkAgCASCQCAIBIJAIAgEgkAgCASCQCAIBIJAIAgEwi//BiUIUBDyowAAAABJRU5ErkJggg%3D%3D\">\n",
              "\n",
              "</div>\n",
              "<div class=\"col-md-12 text-right\">\n",
              "    <a role=\"button\" data-toggle=\"collapse\" data-target=\"#descriptives-5165274202694997097,#minihistogram-5165274202694997097\"\n",
              "       aria-expanded=\"false\" aria-controls=\"collapseExample\">\n",
              "        Toggle details\n",
              "    </a>\n",
              "</div>\n",
              "<div class=\"row collapse col-md-12\" id=\"descriptives-5165274202694997097\">\n",
              "    <ul class=\"nav nav-tabs\" role=\"tablist\">\n",
              "        <li role=\"presentation\" class=\"active\"><a href=\"#quantiles-5165274202694997097\"\n",
              "                                                  aria-controls=\"quantiles-5165274202694997097\" role=\"tab\"\n",
              "                                                  data-toggle=\"tab\">Statistics</a></li>\n",
              "        <li role=\"presentation\"><a href=\"#histogram-5165274202694997097\" aria-controls=\"histogram-5165274202694997097\"\n",
              "                                   role=\"tab\" data-toggle=\"tab\">Histogram</a></li>\n",
              "        <li role=\"presentation\"><a href=\"#common-5165274202694997097\" aria-controls=\"common-5165274202694997097\"\n",
              "                                   role=\"tab\" data-toggle=\"tab\">Common Values</a></li>\n",
              "        <li role=\"presentation\"><a href=\"#extreme-5165274202694997097\" aria-controls=\"extreme-5165274202694997097\"\n",
              "                                   role=\"tab\" data-toggle=\"tab\">Extreme Values</a></li>\n",
              "\n",
              "    </ul>\n",
              "\n",
              "    <div class=\"tab-content\">\n",
              "        <div role=\"tabpanel\" class=\"tab-pane active row\" id=\"quantiles-5165274202694997097\">\n",
              "            <div class=\"col-md-4 col-md-offset-1\">\n",
              "                <p class=\"h4\">Quantile statistics</p>\n",
              "                <table class=\"stats indent\">\n",
              "                    <tr>\n",
              "                        <th>Minimum</th>\n",
              "                        <td>16</td>\n",
              "                    </tr>\n",
              "                    <tr>\n",
              "                        <th>5-th percentile</th>\n",
              "                        <td>18</td>\n",
              "                    </tr>\n",
              "                    <tr>\n",
              "                        <th>Q1</th>\n",
              "                        <td>26</td>\n",
              "                    </tr>\n",
              "                    <tr>\n",
              "                        <th>Median</th>\n",
              "                        <td>35</td>\n",
              "                    </tr>\n",
              "                    <tr>\n",
              "                        <th>Q3</th>\n",
              "                        <td>49</td>\n",
              "                    </tr>\n",
              "                    <tr>\n",
              "                        <th>95-th percentile</th>\n",
              "                        <td>71</td>\n",
              "                    </tr>\n",
              "                    <tr>\n",
              "                        <th>Maximum</th>\n",
              "                        <td>100</td>\n",
              "                    </tr>\n",
              "                    <tr>\n",
              "                        <th>Range</th>\n",
              "                        <td>84</td>\n",
              "                    </tr>\n",
              "                    <tr>\n",
              "                        <th>Interquartile range</th>\n",
              "                        <td>23</td>\n",
              "                    </tr>\n",
              "                </table>\n",
              "            </div>\n",
              "            <div class=\"col-md-4 col-md-offset-2\">\n",
              "                <p class=\"h4\">Descriptive statistics</p>\n",
              "                <table class=\"stats indent\">\n",
              "                    <tr>\n",
              "                        <th>Standard deviation</th>\n",
              "                        <td>16.52</td>\n",
              "                    </tr>\n",
              "                    <tr>\n",
              "                        <th>Coef of variation</th>\n",
              "                        <td>0.42573</td>\n",
              "                    </tr>\n",
              "                    <tr>\n",
              "                        <th>Kurtosis</th>\n",
              "                        <td>0.10111</td>\n",
              "                    </tr>\n",
              "                    <tr>\n",
              "                        <th>Mean</th>\n",
              "                        <td>38.804</td>\n",
              "                    </tr>\n",
              "                    <tr>\n",
              "                        <th>MAD</th>\n",
              "                        <td>13.39</td>\n",
              "                    </tr>\n",
              "                    <tr class=\"\">\n",
              "                        <th>Skewness</th>\n",
              "                        <td>0.8418</td>\n",
              "                    </tr>\n",
              "                    <tr>\n",
              "                        <th>Sum</th>\n",
              "                        <td>911510</td>\n",
              "                    </tr>\n",
              "                    <tr>\n",
              "                        <th>Variance</th>\n",
              "                        <td>272.91</td>\n",
              "                    </tr>\n",
              "                    <tr>\n",
              "                        <th>Memory size</th>\n",
              "                        <td>183.9 KiB</td>\n",
              "                    </tr>\n",
              "                </table>\n",
              "            </div>\n",
              "        </div>\n",
              "        <div role=\"tabpanel\" class=\"tab-pane col-md-8 col-md-offset-2\" id=\"histogram-5165274202694997097\">\n",
              "            <img src=\"data:image/png;base64,iVBORw0KGgoAAAANSUhEUgAAAlgAAAGQCAYAAAByNR6YAAAABHNCSVQICAgIfAhkiAAAAAlwSFlzAAAPYQAAD2EBqD%2BnaQAAADl0RVh0U29mdHdhcmUAbWF0cGxvdGxpYiB2ZXJzaW9uIDMuMC4zLCBodHRwOi8vbWF0cGxvdGxpYi5vcmcvnQurowAAIABJREFUeJzt3X9YlHW%2B//EXMIkJ8ksFW7Nw/bUgSFnKLlokZmaGJRFK2yl31U2luCTdo2mmlRu2atrBLo3dq84xO6dZ2E5qaXrKH/1i99p%2BGYxWK%2BmmXCqkMyIEKDDfP/o2uxP9wPxwzww%2BH9flhX4%2B99zzvn2LvOZz33NPkNvtdgsAAADGBPu6AAAAgM6GgAUAAGAYAQsAAMAwAhYAAIBhBCwAAADDCFgAAACGEbAAAAAMI2ABAAAYRsACAAAwjIAFAABgGAELAADAMAIWAACAYQQsAAAAwwhYAAAAhhGwAAAADCNgAQAAGEbAAgAAMIyABQAAYBgBCwAAwDACFgAAgGEELAAAAMMIWAAAAIYRsAAAAAwjYAEAABhGwAIAADCMgAUAAGAYAQsAAMAwAhYAAIBhBCwAAADDCFgAAACGEbAAAAAMI2ABAAAYRsACAAAwjIAFAABgGAELAADAMAIWAACAYQQsAAAAwwhYAAAAhhGwAAAADLP5uoALRU3NaV%2BX0C7BwUGKiQnTyZP1am11%2B7oc/At649/oj3%2BjP/6tI/vTq1d3o/trL1aw4CU4OEhBQUEKDg7ydSn4Bnrj3%2BiPf6M//q0z9oeABQAAYBgBCwAAwDACFgAAgGEELAAAAMMIWAAAAIYRsAAAAAwjYAEAABhGwAIAADCMgAUAAGAYAQsAAMAwAhYAAIBhBCwAAADDCFgAAACG2XxdAC4c49e87esSzsm2OSN9XQIAIECxggUAAGAYAQsAAMAwAhYAAIBhBCwAAADDCFgAAACGEbAAAAAMI2ABAAAYRsACAAAwjIAFAABgGAELAADAMAIWAACAYQQsAAAAwwhYAAAAhhGwAAAADCNgAQAAGEbAAgAAMIyABQAAYBgBCwAAwDACFgAAgGEELAAAAMMIWAAAAIYFbMAaPHiwkpKSlJyc7Pn16KOPSpLKysqUnZ2tYcOGacKECdq8ebPXYzds2KBx48Zp2LBhys3NVUVFhWeuqalJDz30kK699lqlpqYqPz9fTqfT0mMDAACBzebrAs7Hq6%2B%2BqksvvdRrrLq6WrNnz9aiRYuUmZmp9957T7NmzVK/fv2UnJysnTt3qqioSH/84x81ePBgbdiwQTNnztSOHTvUrVs3rV69Wg6HQ3a7XRdffLEWL16sBx54QOvXr/fRUQIAgEATsCtY32XLli2Kj49Xdna2QkNDlZaWpoyMDJWUlEiS7Ha7srKylJKSoq5du2r69OmSpF27dqm5uVmlpaWaPXu2LrnkEkVFRWnOnDnavXu3jh8/7svDAgAAASSgV7BWrVqlDz74QHV1dRo/frwWLFggh8OhxMREr%2B0SExO1bds2SZLD4dBNN93kmQsODlZCQoLKy8uVkJCg06dPa8iQIZ75/v37q2vXrnI4HIqLi2tXXdXV1aqpqfEas9m6KTY29sceqmVCQoK9vl7IbDb/%2BjugN/6N/vg3%2BuPfOmN/AjZgXXHFFUpLS9Pjjz%2Buw4cPa86cOXr44YflcrnaBKGoqCjPdVQul0uRkZFe85GRkXI6nXK5XJKkiIgIr/mIiIhzug7Lbrdr7dq1XmN5eXnKz89v9z58LSLiYl%2BX4HPR0WG%2BLuFb0Rv/Rn/8G/3xb52pPwEbsOx2u%2Bf3/fv317x58zRr1ixdddVVP/hYt9t9XvM/ZPLkycrIyPAas9m6yemsP6/9WiEkJFgRERertrZBLS2tvi7Hp/ytX/TGv9Ef/0Z//FtH9sdXL5YDNmB906WXXqqWlhYFBwd7VqK%2B5nQ6FRMTI0mKjo5uM%2B9yuTRw4EDPNi6XS2Fh/2zIqVOn1KNHj3bXEhsb2%2BZ0YE3NaTU3B843dUtLa0DV2xH89fjpjX%2BjP/6N/vi3ztSfgDzZuW/fPi1fvtxrrLKyUl26dFF6errXbRckqaKiQikpKZKkpKQkORwOz1xLS4v27dunlJQU9e3bV5GRkV7zn376qc6cOaOkpKQOPCIAANCZBGTA6tGjh%2Bx2u4qLi3XmzBkdPHhQTz75pCZPnqxbbrlFVVVVKikpUVNTk/bs2aM9e/YoJydHkpSbm6uXXnpJH374oRoaGrRu3Tp16dJF1113nUJCQpSTk6P169fr6NGjcjqdeuKJJzR27Fj17NnTx0cNAAACRUCeIoyLi1NxcbFWrVrlCUiTJk1SQUGBQkND9fTTT2vZsmV6%2BOGH1adPH61YsUI/%2B9nPJEnXXnut7r//fs2ZM0cnTpxQcnKyiouL1bVrV0lSfn6%2B6uvrdcstt6i5uVmjR4/W0qVLfXi0AAAg0AS5z/eKbrRLTc1pX5fQLjZbsKKjw%2BR01hs/Dz5%2BzdtG99fRts0Z6esSvHRkb3D%2B6I9/oz/%2BrSP706tXd6P7a6%2BAPEUIAADgzwhYAAAAhhGwAAAADCNgAQAAGEbAAgAAMCwgb9OAfwq0d%2BYBAHAhYAULAADAMAIWAACAYQQsAAAAwwhYAAAAhnGRO/AdAu0NBP720T4AcCFjBQsAAMAwAhYAAIBhBCwAAADDCFgAAACGEbAAAAAMI2ABAAAYRsACAAAwjIAFAABgGAELAADAMAIWAACAYQQsAAAAwwhYAAAAhhGwAAAADCNgAQAAGEbAAgAAMIyABQAAYBgBCwAAwDACFgAAgGEELAAAAMMIWAAAAIYRsAAAAAwjYAEAABhGwAIAADCMgAUAAGAYAQsAAMAwAhYAAIBhBCwAAADDCFgAAACGEbAAAAAMI2ABAAAYRsACAAAwjIAFAABgGAELAADAMAIWAACAYZ0iYD322GMaPHiw589lZWXKzs7WsGHDNGHCBG3evNlr%2Bw0bNmjcuHEaNmyYcnNzVVFR4ZlramrSQw89pGuvvVapqanKz8%2BX0%2Bm07FgAAEDgC/iAtX//fm3atMnz5%2Brqas2ePVtTpkxRWVmZFi1apMWLF6u8vFyStHPnThUVFen3v/%2B93nnnHY0ePVozZ87Ul19%2BKUlavXq1HA6H7Ha7tm/fLrfbrQceeMAnxwYAAAJTQAes1tZWLVmyRFOnTvWMbdmyRfHx8crOzlZoaKjS0tKUkZGhkpISSZLdbldWVpZSUlLUtWtXTZ8%2BXZK0a9cuNTc3q7S0VLNnz9Yll1yiqKgozZkzR7t379bx48d9cYgAACAA2XxdwPl44YUXFBoaqszMTK1Zs0aS5HA4lJiY6LVdYmKitm3b5pm/6aabPHPBwcFKSEhQeXm5EhISdPr0aQ0ZMsQz379/f3Xt2lUOh0NxcXHtqqu6ulo1NTVeYzZbN8XGxv6o4wTaw2YL6NdLAS8kJNjrK/wL/fFvnbE/ARuwvvjiCxUVFem5557zGne5XG2CUFRUlOc6KpfLpcjISK/5yMhIOZ1OuVwuSVJERITXfERExDldh2W327V27Vqvsby8POXn57d7H8C5io4O83UJkBQRcbGvS8D3oD/%2BrTP1J2ADVmFhobKysjRgwAAdOXLknB7rdrvPa/6HTJ48WRkZGV5jNls3OZ3157Vf4Pvw78u3QkKCFRFxsWprG9TS0urrcvAN9Me/dWR/fPXiMyADVllZmT744AO9/PLLbeaio6M9K1FfczqdiomJ%2Bc55l8ulgQMHerZxuVwKC/tnQ06dOqUePXq0u77Y2Ng2pwNrak6ruZlvanQc/n35h5aWVnrhx%2BiPf%2BtM/QnIk52bN2/WiRMnNHr0aKWmpiorK0uSlJqaqkGDBnnddkGSKioqlJKSIklKSkqSw%2BHwzLW0tGjfvn1KSUlR3759FRkZ6TX/6aef6syZM0pKSrLgyAAAQGcQkAFrwYIF2r59uzZt2qRNmzapuLhYkrRp0yZlZmaqqqpKJSUlampq0p49e7Rnzx7l5ORIknJzc/XSSy/pww8/VENDg9atW6cuXbrouuuuU0hIiHJycrR%2B/XodPXpUTqdTTzzxhMaOHauePXv68pABAEAACchThJGRkV4Xqjc3N0uSevfuLUl6%2BumntWzZMj388MPq06ePVqxYoZ/97GeSpGuvvVb333%2B/5syZoxMnTig5OVnFxcXq2rWrJCk/P1/19fW65ZZb1NzcrNGjR2vp0qXWHiAAAAhoQe7zvaIb7VJTc7pD9jt%2Bzdsdsl8Enm1zRvq6hAuazRas6OgwOZ31neYaks6E/vi3juxPr17dje6vvQLyFCEAAIA/I2ABAAAYRsACAAAwjIAFAABgGAELAADAMAIWAACAYQQsAAAAwwhYAAAAhhGwAAAADCNgAQAAGEbAAgAAMIyABQAAYBgBCwAAwDACFgAAgGEELAAAAMMIWAAAAIYRsAAAAAwjYAEAABhGwAIAADCMgAUAAGAYAQsAAMAwAhYAAIBhBCwAAADDLA9YGRkZWrt2rY4ePWr1UwMAAFjC8oB12223aevWrbr%2B%2Bus1ffp07dixQ83NzVaXAQAA0GEsD1h5eXnaunWr/vSnP2ngwIF67LHHlJ6erhUrVujgwYNWlwMAAGCcz67BGjJkiObPn69du3Zp4cKF%2BtOf/qSbbrpJ06ZN00cffeSrsgAAAM6bzwLW2bNntXXrVs2YMUPz589XXFycHnjgASUkJGjq1KnasmWLr0oDAAA4Lzarn7CyslKlpaV66aWXVF9fr3Hjxum//uu/dNVVV3m2GT58uJYuXarMzEyrywMAADhvlgesCRMmqF%2B/frrnnnt06623Kioqqs026enpOnnypNWlAQAAGGF5wNqwYYNGjBjxg9vt3bvXgmoAAADMs/warMGDB2vmzJl67bXXPGP/%2BZ//qRkzZsjlclldDgAAgHGWB6zCwkKdPn1aAwYM8Ixdd911am1t1fLly60uBwAAwDjLTxG%2B9dZb2rJli6Kjoz1j8fHxWrlypW6%2B%2BWarywEAADDO8hWsxsZGhYaGti0kOFgNDQ1WlwMAAGCc5QFr%2BPDhWr58uU6dOuUZO378uB5%2B%2BGGvWzUAAAAEKstPES5cuFC//vWv9Ytf/ELh4eFqbW1VfX29%2Bvbtq%2Beee87qcgAAAIyzPGD17dtXr7zyit544w19/vnnCg4OVr9%2B/TRq1CiFhIRYXQ4AAIBxlgcsSerSpYuuv/56Xzw1AABAh7M8YB0%2BfFirVq3S3//%2BdzU2NraZf/31160uCQAAwCifXINVXV2tUaNGqVu3blY/PQAAQIezPGBVVFTo9ddfV0xMjNVPDQAAYAnLb9PQo0cPVq4AAECnZnnAuueee7R27Vq53W6rnxoAAMASlp8ifOONN/T%2B%2B%2B/rxRdf1KWXXqrgYO%2BM98ILL7RrPx9//LEKCwtVUVGh0NBQjRgxQosWLVKvXr1UVlamVatW6bPPPtMll1yie%2B65RxMnTvQ8dsOGDXr%2B%2BedVU1OjwYMHa9GiRUpKSpIkNTU16Xe/%2B512796tpqYmpaam6uGHH/b6aB8AAIDvY/kKVnh4uK699lqlp6erf//%2B6tevn9ev9jhz5ox%2B/etfa8SIESorK9PLL7%2BsEydOaOnSpaqurtbs2bM1ZcoUlZWVadGiRVq8eLHKy8slSTt37lRRUZF%2B//vf65133tHo0aM1c%2BZMffnll5Kk1atXy%2BFwyG63a/v27XK73XrggQc67O8DAAB0PpavYBUWFp73PhoaGlRQUKBJkybJZrMpJiZGY8eO1caNG7VlyxbFx8crOztbkpSWlqaMjAyVlJQoOTlZdrtdWVlZSklJkSRNnz5dGzZs0K5duzRu3DiVlpbq8ccf1yWXXCJJmjNnjiZMmKDjx48rLi7uvGsHAACdn%2BUrWJL02WefqaioyGtl6IMPPmj34yMjI3X77bfLZrN59ve///u/Gj9%2BvBwOhxITE722T0xMVEVFhSS1mQ8ODlZCQoLKy8v1%2Beef6/Tp0xoyZIhnvn///uratascDsePOlYAAHDhsXwFq6ysTDNmzFC/fv106NAhFRYW6vDhw7rrrru0Zs0ajRkzpt37qqqq0rhx49Tc3KycnBzl5%2BdrxowZbVaaoqKi5HQ6JUkul0uRkZFe85GRkXI6nXK5XJKkiIgIr/mIiAjP49ujurpaNTU1XmM2WzfFxsa2ex/AubLZfPJ6Cf9fSEiw11f4F/rj3zpjfywPWKtXr9Zvf/tb3X333Ro6dKikrz6fcPny5XrqqafOKWD16dNH5eXl%2Bsc//qGHHnpI//7v/96ux/3QOxjP9x2Odrtda9eu9RrLy8tTfn7%2Bee0X%2BD7R0WG%2BLgGSIiIu9nUJ%2BB70x791pv5YHrA%2B/fRTbdy4UZIUFBTkGb/xxhu1cOHCc95fUFCQ4uPjVVBQoClTpig9Pd2zEvU1p9PpubFpdHR0m3mXy6WBAwd6tnG5XAoL%2B%2BcPq1OnTqlHjx7trmny5MnKyMjwGrPZusnprD%2BnYwPOBf%2B%2BfCskJFgRERertrZBLS2tvi4H30B//FtH9sdXLz4tD1jdu3dXY2OjunTp4jVeXV3dZuy7lJWVaenSpdq2bZvnNg9ffx06dKi2b9/utX1FRYXnovakpCQ5HA5NmjRJktTS0qJ9%2B/YpOztbffv2VWRkpBwOh/r06SPpq0B45swZz20c2iM2NrbN6cCamtNqbuabGh2Hf1/%2BoaWllV74Mfrj3zpTfyw/2Tls2DA99thjqqur84wdPHhQ8%2BfP1y9%2B8Yt27SMpKUl1dXVasWKFGhoadPLkSRUVFenqq69Wbm6uqqqqVFJSoqamJu3Zs0d79uxRTk6OJCk3N1cvvfSSPvzwQzU0NGjdunXq0qWLrrvuOoWEhCgnJ0fr16/X0aNH5XQ69cQTT2js2LHq2bNnh/x9AACAzifIbfEt1Y8dO6a7775bR44cUUtLi7p166aGhgYNHDhQ69ev109%2B8pN27eeTTz7RsmXL9NFHH6lbt276%2Bc9/rgULFiguLk5/%2B9vftGzZMlVWVqpPnz6aO3eubrjhBs9j//u//1vFxcU6ceKEkpOTtXTpUg0aNEjSV/fYKiws1CuvvKLm5maNHj1aS5cuVffu3c/ruGtqTp/X47/L%2BDVvd8h%2BEXi2zRnp6xIuaDZbsKKjw%2BR01neaV%2BCdCf3xbx3Zn169zu/n949lecCSpLNnz2rPnj06ePCgunbtqn79%2BmnkyJFe12R1NgQsdDQClm/xA9y/0R//1hkDluXXYEnSRRddpOuvv94XTw0AANDhLA9YGRkZ37tS9frrr1tYDQAAgHmWB6ybbrrJK2C1tLTo4MGDKi8v19133211OQAAAMZZHrDmzZv3rePbt2/XX//6V4urAQAAMM9v7kl//fXX65VXXvF1GQAAAOfNbwLWvn37zvsjagAAAPyB5acIp0yZ0masoaFBlZWVXveqAnBuAumWHdxSAkBnZ3nAio%2BPb/MuwtDQUGVnZ%2Bv222%2B3uhwAAADjLA9Yy5cvt/opAQAALGV5wHrppZfave2tt97agZUAAAB0DMsD1qJFi9Ta2trmgvagoCCvsaCgIAIWAAAISJYHrD/%2B8Y965plnNHPmTA0ePFhut1uffPKJ/vCHP%2BjOO%2B9Uamqq1SUBAAAY5ZNrsIqLixUXF%2BcZu/rqq9W3b19NmzZNL7/8stUlAQAAGGX5fbAOHTqkyMjINuMRERGqqqqyuhwAAADjLA9Yffr00fLly%2BV0Oj1jtbW1WrVqlS677DKrywEAADDO8lOECxcu1Ny5c2W32xUWFqbg4GDV1dWpa9eueuqpp6wuBwAAwDjLA9aoUaO0e/du7dmzR8eOHZPb7VZcXJyuueYade/e3epyAAAAjLM8YEnSxRdfrDFjxujYsWPq27evL0oAAADoMJZfg9XY2Kj58%2Bfryiuv1Pjx4yV9dQ3W9OnTVVtba3U5AAAAxlkesFasWKH9%2B/dr5cqVCg7%2B59O3tLRo5cqVVpcDAABgnOUBa/v27fqP//gP3XjjjZ4PfY6IiFBhYaF27NhhdTkAAADGWR6w6uvrFR8f32Y8JiZGX375pdXlAAAAGGd5wLrsssv017/%2BVZK8Pnvw1Vdf1U9%2B8hOrywEAADDO8ncR3nHHHbrvvvt02223qbW1Vc8%2B%2B6wqKiq0fft2LVq0yOpyAAAAjLM8YE2ePFk2m00bN25USEiI1q9fr379%2BmnlypW68cYbrS4HAADAOMsD1smTJ3Xbbbfptttus/qpAQAALGH5NVhjxozxuvYKAACgs7E8YKWmpmrbtm1WPy0AAIBlLD9FeMkll%2Bh3v/udiouLddlll%2Bmiiy7yml%2B1apXVJQEAABhlecA6cOCAfvrTn0qSnE6n1U8PAADQ4SwLWAUFBVq9erWee%2B45z9hTTz2lvLw8q0oAAACwhGXXYO3cubPNWHFxsVVPDwAAYBnLAta3vXOQdxMCAIDOyLKA9fUHO//QGAAAQKCz/DYNAAAAnR0BCwAAwDDL3kV49uxZzZ079wfHuA8WAAAIdJYFrKuuukrV1dU/OAYAABDoLAtY/3r/KwAAgM6Ma7AAAAAMI2ABAAAYZvlnEQLA%2BDVv%2B7qEc7JtzkhflwAgwLCCBQAAYBgBCwAAwDACFgAAgGEBG7CqqqqUl5en1NRUpaWlacGCBaqtrZUk7d%2B/X3feeaeuuuoq3XDDDXrmmWe8Hrt161ZlZmbqyiuvVFZWlt566y3PXGtrq1avXq0xY8Zo%2BPDhmjZtmg4fPmzpsQEAgMAWsAFr5syZioiI0M6dO/Xiiy/q73//ux5//HE1Njbqnnvu0c9//nO9%2BeabWr16tZ5%2B%2Bmnt2LFD0lfha/78%2BZo3b57%2B8pe/aOrUqbr33nt17NgxSdLzzz%2BvLVu2qLi4WLt27VJ8fLzy8vLkdrt9ebgAACCABGTAqq2tVVJSkubOnauwsDD17t1bkyZN0rvvvqvdu3fr7NmzmjVrlrp166YhQ4bo9ttvl91ulySVlJQoPT1d6enpCg0N1cSJEzVo0CBt3rxZkmS32zV16lT1799f4eHhKigoUGVlpfbu3evLQwYAAAEkIANWRESECgsL1bNnT8/Y0aNHFRsbK4fDocGDByskJMQzl5iYqIqKCkmSw%2BFQYmKi1/4SExNVXl6uxsZGHThwwGs%2BPDxcl19%2BucrLyzv4qAAAQGfRKe6DVV5ero0bN2rdunXatm2bIiIivOajoqLkcrnU2toql8ulyMhIr/nIyEgdOHBAp06dktvt/tZ5p9PZ7nqqq6tVU1PjNWazdVNsbOw5HhkAf2Cz/fBr0ZCQYK%2Bv8C/0x791xv4EfMB67733NGvWLM2dO1dpaWnatm3bt24XFBTk%2Bf0PXU91vtdb2e12rV271mssLy9P%2Bfn557VfAL4RHR3W7m0jIi7uwEpwvuiPf%2BtM/QnogLVz50799re/1eLFi3XrrbdKkmJiYnTo0CGv7Vwul6KiohQcHKzo6Gi5XK428zExMZ5tvm2%2BR48e7a5r8uTJysjI8Bqz2brJ6aw/h6MD4C/a870bEhKsiIiLVVvboJaWVguqwrmgP/6tI/tzLi%2BQTArYgPX%2B%2B%2B9r/vz5evLJJzVq1CjPeFJSkv7nf/5Hzc3Nstm%2BOrzy8nKlpKR45r%2B%2BHutr5eXlmjBhgkJDQzVw4EA5HA6NGDFC0lcX1H/%2B%2BecaOnRou2uLjY1tczqwpua0mpv5pgYC0bl877a0tPK97sfoj3/rTP0JyJOdzc3NevDBBzVv3jyvcCVJ6enpCg8P17p169TQ0KC9e/eqtLRUubm5kqScnBy988472r17t5qamlRaWqpDhw5p4sSJkqTc3Fxt2LBBlZWVqqur08qVK5WQkKDk5GTLjxMAAASmIHcA3uDp3Xff1S9/%2BUt16dKlzdyrr76q%2Bvp6LVmyRBUVFerZs6dmzJihO%2B64w7PNjh07tGrVKlVVVWnAgAFatGiRhg8fLumr66%2BKior0wgsvqL6%2BXqmpqXrkkUfUu3fv86q5pub0eT3%2BuwTah%2BYCgag9H/ZsswUrOjpMTmd9p3kF3pnQH//Wkf3p1au70f21V0AGrEBEwAICFwEr8NEf/9YZA1ZAniIEAADwZwQsAAAAwwhYAAAAhhGwAAAADCNgAQAAGEbAAgAAMIyABQAAYBgBCwAAwDACFgAAgGEB%2B2HPAGCVQPvEhPbceR5Ax2IFCwAAwDACFgAAgGEELAAAAMMIWAAAAIYRsAAAAAwjYAEAABhGwAIAADCMgAUAAGAYAQsAAMAwAhYAAIBhBCwAAADDCFgAAACGEbAAAAAMI2ABAAAYRsACAAAwjIAFAABgGAELAADAMAIWAACAYQQsAAAAwwhYAAAAhhGwAAAADCNgAQAAGEbAAgAAMIyABQAAYBgBCwAAwDACFgAAgGEELAAAAMMIWAAAAIYRsAAAAAwjYAEAABhGwAIAADCMgAUAAGAYAQsAAMAwAhYAAIBhBCwAAADDAjpgvfnmm0pLS1NBQUGbua1btyozM1NXXnmlsrKy9NZbb3nmWltbtXr1ao0ZM0bDhw/XtGnTdPjwYc%2B8y%2BXSnDlzlJaWplGjRmnRokVqbGy05JgAAEDgC9iA9Yc//EHLli3T5Zdf3mZu//79mj9/vubNm6e//OUvmjp1qu69914dO3ZMkvT8889ry5YtKi4u1q5duxQfH6%2B8vDy53W5J0uLFi9XQ0KCXX35Zf/7zn1VZWamVK1daenwAACBwBWzACg0NVWlp6bcGrJKSEqWnpys9PV2hoaGaOHGiBg0apM2bN0uS7Ha7pk6dqv79%2Bys8PFwFBQWqrKzU3r179cUXX%2Bi1115TQUGBYmJiFBcXp9mzZ%2BvPf/6zzp49a/VhAgCAAGTzdQE/1l133fWdcw6HQ%2Bnp6V5jiYmJKi8vV2Njow4cOKDExETPXHh4uC6//HKVl5fr9OnTCgkJ0eDBgz3zQ4YM0ZdffqnPPvvMa/y7VFdXq6amxmvMZuum2NjY9h4eAPxoNlvAvnbuMCEhwV5f4V86Y38CNmB9H5fLpcjISK%2BxyMhIHThwQKdOnZLb7f7WeafTqaioKIWHhysoKMhrTpKcTme7nt9ut2vt2rVeY3l5ecrPz/8xhwMA5yQ6OszXJfitiIiLfV0Cvkdn6k%2B/aukmAAAMnklEQVSnDFiSPNdT/Zj5H3rsD5k8ebIyMjK8xmy2bnI6689rvwDQHvxf01ZISLAiIi5WbW2DWlpafV0OvqEj%2B%2BOrFxydMmBFR0fL5XJ5jblcLsXExCgqKkrBwcHfOt%2BjRw/FxMSorq5OLS0tCgkJ8cxJUo8ePdr1/LGxsW1OB9bUnFZzM9/UADre2JVv%2BrqEdts2Z6Slz9fS0sr/xX6sM/Wn85zs/BdJSUmqqKjwGisvL1dKSopCQ0M1cOBAORwOz1xtba0%2B//xzDR06VAkJCXK73fr444%2B9HhsREaF%2B/fpZdgwAACBwdcqAlZOTo3feeUe7d%2B9WU1OTSktLdejQIU2cOFGSlJubqw0bNqiyslJ1dXVauXKlEhISlJycrJiYGI0bN05r1qzRyZMndezYMT311FPKzs6WzdYpF/wAAIBhAZsYkpOTJUnNzc2SpNdee03SV6tNgwYN0sqVK1VYWKiqqioNGDBATz/9tHr16iVJmjJlimpqavRv//Zvqq%2BvV2pqqtdF6Y888oiWLFmiMWPG6KKLLtLNN9/8rTczBQAA%2BDZB7vO9ohvtUlNzukP2O37N2x2yXwCwglXXYNlswYqODpPTWd9prvHpTDqyP716dTe6v/bqlKcIAQAAfImABQAAYBgBCwAAwDACFgAAgGEELAAAAMMIWAAAAIYRsAAAAAwjYAEAABhGwAIAADCMgAUAAGAYAQsAAMAwAhYAAIBhBCwAAADDbL4uAABw4Rq/5m1fl3BOts0Z6esSECBYwQIAADCMgAUAAGAYAQsAAMAwAhYAAIBhBCwAAADDCFgAAACGEbAAAAAMI2ABAAAYRsACAAAwjIAFAABgGAELAADAMAIWAACAYQQsAAAAwwhYAAAAhhGwAAAADCNgAQAAGEbAAgAAMIyABQAAYBgBCwAAwDACFgAAgGEELAAAAMMIWAAAAIYRsAAAAAwjYAEAABhm83UBAAAEivFr3vZ1Cedk25yRvi7hgsUKFgAAgGEELAAAAMMIWAAAAIYRsAAAAAwjYAEAABhGwAIAADCMgPUtqqqq9Jvf/EapqakaPXq0VqxYodbWVl%2BXBQAAAgT3wfoW9913n4YMGaLXXntNJ06c0D333KOePXvqV7/6la9LAwCg3QLpvl3v/u5GX5dgFCtY31BeXq6PP/5Y8%2BbNU/fu3RUfH6%2BpU6fKbrf7ujQAABAgWMH6BofDoT59%2BigyMtIzNmTIEB08eFB1dXUKDw//wX1UV1erpqbGa8xm66bY2Fjj9QIA0FmEhHSedR8C1je4XC5FRER4jX0dtpxOZ7sClt1u19q1a73G7r33Xt13333mCv3/TC%2BpVldXy263a/LkyQRCP0Nv/Bv98W/0x79VV1erqKioU/Wn80RFg9xu93k9fvLkyXrxxRe9fk2ePNlQdR2rpqZGa9eubbMCB9%2BjN/6N/vg3%2BuPfOmN/WMH6hpiYGLlcLq8xl8uloKAgxcTEtGsfsbGxnSaBAwCAc8cK1jckJSXp6NGjOnnypGesvLxcAwYMUFhYmA8rAwAAgYKA9Q2JiYlKTk7WqlWrVFdXp8rKSj377LPKzc31dWkAACBAhCxdunSpr4vwN9dcc41efvllPfroo3rllVeUnZ2tadOmKSgoyNelWSIsLEwjRoxgxc4P0Rv/Rn/8G/3xb52tP0Hu872iGwAAAF44RQgAAGAYAQsAAMAwAhYAAIBhBCwAAADDCFgAAACGEbAAAAAMI2ABAAAYRsACAAAwjIAFAABgGAHrAlZVVaW8vDylpqYqLS1NCxYsUG1trSRp//79uvPOO3XVVVfphhtu0DPPPOPjai9cjz32mAYPHuz5c1lZmbKzszVs2DBNmDBBmzdv9mF1F65169Zp1KhRuuKKKzR16lQdOXJEEv3xB/v27dNdd92lq6%2B%2BWiNHjtS8efN08uRJSfTHV958802lpaWpoKCgzdzWrVuVmZmpK6%2B8UllZWXrrrbc8c62trVq9erXGjBmj4cOHa9q0aTp8%2BLCVpf94blywbr75ZveCBQvcdXV17qNHj7qzsrLcCxcudDc0NLivueYad1FRkbu%2Bvt5dUVHhHjFihHv79u2%2BLvmCs2/fPveIESPcgwYNcrvdbvfx48fdV1xxhbukpMTd2Njofvvtt91Dhw51f/TRRz6u9MKyceNG94033uiurKx0nz592v3oo4%2B6H330UfrjB86ePeseOXKke9WqVe6mpib3yZMn3b/61a/c9913H/3xkeLiYvcNN9zgnjJlinvOnDlec/v27XMnJSW5d%2B/e7W5sbHRv2rTJnZKS4j569Kjb7Xa7N2zY4B49erT7wIED7tOnT7sfeeQRd2Zmpru1tdUXh3JOWMG6QNXW1iopKUlz585VWFiYevfurUmTJundd9/V7t27dfbsWc2aNUvdunXTkCFDdPvtt8tut/u67AtKa2urlixZoqlTp3rGtmzZovj4eGVnZys0NFRpaWnKyMhQSUmJ7wq9AD3zzDMqKCjQT3/6U4WHh%2BvBBx/Ugw8%2BSH/8QE1NjWpqanTLLbeoS5cuio6O1tixY7V//3764yOhoaEqLS3V5Zdf3maupKRE6enpSk9PV2hoqCZOnKhBgwZ5VhbtdrumTp2q/v37Kzw8XAUFBaqsrNTevXutPoxzRsC6QEVERKiwsFA9e/b0jB09elSxsbFyOBwaPHiwQkJCPHOJiYmqqKjwRakXrBdeeEGhoaHKzMz0jDkcDiUmJnptR2%2Bsdfz4cR05ckSnTp3STTfdpNTUVOXn5%2BvkyZP0xw/ExcUpISFBdrtd9fX1OnHihHbs2KHrrruO/vjIXXfdpe7du3/r3Hf1pLy8XI2NjTpw4IDXfHh4uC6//HKVl5d3aM0mELAgSSovL9fGjRs1a9YsuVwuRUREeM1HRUXJ5XKptbXVRxVeWL744gsVFRVpyZIlXuPf1Run02lleRe0Y8eOSZJeffVVPfvss9q0aZOOHTumBx98kP74geDgYBUVFen111/XsGHDlJaWpubmZs2dO5f%2B%2BCGXy6XIyEivscjISDmdTp06dUput/s75/0dAQt67733NG3aNM2dO1dpaWnfuV1QUJCFVV3YCgsLlZWVpQEDBvi6FHyD2%2B2WJE2fPl1xcXHq3bu37rvvPu3cudPHlUGSzpw5o5kzZ%2BrGG2/Uu%2B%2B%2BqzfeeEPdu3fXvHnzfF0avsPX31M/dt5fEbAucDt37tRvfvMbLVy4UHfddZckKSYmps2rA5fLpaioKAUH80%2Bmo5WVlemDDz5QXl5em7no6Gi5XC6vMafTqZiYGKvKu%2BB9fVr9X1dC%2BvTpI7fbrbNnz9IfHysrK9ORI0d0//33q3v37oqLi1N%2Bfr7%2B7//%2BT8HBwfTHz3zb/2kul0sxMTGenznfNt%2BjRw8ry/xR%2BGl5AXv//fc1f/58Pfnkk7r11ls940lJSfrkk0/U3NzsGSsvL1dKSoovyrzgbN68WSdOnNDo0aOVmpqqrKwsSVJqaqoGDRrU5nqRiooKemOh3r17Kzw8XPv37/eMVVVV6aKLLlJ6ejr98bGWlha1trZ6rXqcOXNGkpSWlkZ//ExSUlKbnnz98yY0NFQDBw6Uw%2BHwzNXW1urzzz/X0KFDrS71nBGwLlDNzc168MEHNW/ePI0aNcprLj09XeHh4Vq3bp0aGhq0d%2B9elZaWKjc310fVXlgWLFig7du3a9OmTdq0aZOKi4slSZs2bVJmZqaqqqpUUlKipqYm7dmzR3v27FFOTo6Pq75w2Gw2ZWdna/369frHP/6hEydO6KmnnlJmZqYmTZpEf3zsyiuvVLdu3VRUVKSGhgY5nU6tW7dOw4cP1y233EJ//ExOTo7eeecd7d69W01NTSotLdWhQ4c0ceJESVJubq42bNigyspK1dXVaeXKlUpISFBycrKPK/9hQe5APbmJ8/Luu%2B/ql7/8pbp06dJm7tVXX1V9fb2WLFmiiooK9ezZUzNmzNAdd9zhg0px5MgRjRkzRp988okk6W9/%2B5uWLVumyspK9enTR3PnztUNN9zg4yovLGfOnFFhYaFeeeUVnT17VuPGjdPixYsVFhZGf/xARUWFHn/8cX388cfq0qWLRowYoQULFiguLo7%2B%2BMDXYejrsyI2m02SPO8E3LFjh1atWqWqqioNGDBAixYt0vDhwyV9df1VUVGRXnjhBdXX1ys1NVWPPPKIevfu7YMjOTcELAAAAMM4RQgAAGAYAQsAAMAwAhYAAIBhBCwAAADDCFgAAACGEbAAAAAMI2ABAAAYRsACAAAwjIAFAABgGAELAADAMAIWAACAYQQsAAAAwwhYAAAAhv0/9RHD9jUUK7IAAAAASUVORK5CYII%3D\"/>\n",
              "        </div>\n",
              "        <div role=\"tabpanel\" class=\"tab-pane col-md-12\" id=\"common-5165274202694997097\">\n",
              "            \n",
              "<table class=\"freq table table-hover\">\n",
              "    <thead>\n",
              "    <tr>\n",
              "        <td class=\"fillremaining\">Value</td>\n",
              "        <td class=\"number\">Count</td>\n",
              "        <td class=\"number\">Frequency (%)</td>\n",
              "        <td style=\"min-width:200px\">&nbsp;</td>\n",
              "    </tr>\n",
              "    </thead>\n",
              "    <tr class=\"\">\n",
              "        <td class=\"fillremaining\">30.0</td>\n",
              "        <td class=\"number\">1052</td>\n",
              "        <td class=\"number\">4.5%</td>\n",
              "        <td>\n",
              "            <div class=\"bar\" style=\"width:7%\">&nbsp;</div>\n",
              "        </td>\n",
              "</tr><tr class=\"\">\n",
              "        <td class=\"fillremaining\">35.0</td>\n",
              "        <td class=\"number\">834</td>\n",
              "        <td class=\"number\">3.5%</td>\n",
              "        <td>\n",
              "            <div class=\"bar\" style=\"width:6%\">&nbsp;</div>\n",
              "        </td>\n",
              "</tr><tr class=\"\">\n",
              "        <td class=\"fillremaining\">25.0</td>\n",
              "        <td class=\"number\">790</td>\n",
              "        <td class=\"number\">3.4%</td>\n",
              "        <td>\n",
              "            <div class=\"bar\" style=\"width:5%\">&nbsp;</div>\n",
              "        </td>\n",
              "</tr><tr class=\"\">\n",
              "        <td class=\"fillremaining\">28.0</td>\n",
              "        <td class=\"number\">747</td>\n",
              "        <td class=\"number\">3.2%</td>\n",
              "        <td>\n",
              "            <div class=\"bar\" style=\"width:5%\">&nbsp;</div>\n",
              "        </td>\n",
              "</tr><tr class=\"\">\n",
              "        <td class=\"fillremaining\">32.0</td>\n",
              "        <td class=\"number\">714</td>\n",
              "        <td class=\"number\">3.0%</td>\n",
              "        <td>\n",
              "            <div class=\"bar\" style=\"width:5%\">&nbsp;</div>\n",
              "        </td>\n",
              "</tr><tr class=\"\">\n",
              "        <td class=\"fillremaining\">40.0</td>\n",
              "        <td class=\"number\">685</td>\n",
              "        <td class=\"number\">2.9%</td>\n",
              "        <td>\n",
              "            <div class=\"bar\" style=\"width:5%\">&nbsp;</div>\n",
              "        </td>\n",
              "</tr><tr class=\"\">\n",
              "        <td class=\"fillremaining\">20.0</td>\n",
              "        <td class=\"number\">625</td>\n",
              "        <td class=\"number\">2.7%</td>\n",
              "        <td>\n",
              "            <div class=\"bar\" style=\"width:4%\">&nbsp;</div>\n",
              "        </td>\n",
              "</tr><tr class=\"\">\n",
              "        <td class=\"fillremaining\">26.0</td>\n",
              "        <td class=\"number\">614</td>\n",
              "        <td class=\"number\">2.6%</td>\n",
              "        <td>\n",
              "            <div class=\"bar\" style=\"width:4%\">&nbsp;</div>\n",
              "        </td>\n",
              "</tr><tr class=\"\">\n",
              "        <td class=\"fillremaining\">23.0</td>\n",
              "        <td class=\"number\">586</td>\n",
              "        <td class=\"number\">2.5%</td>\n",
              "        <td>\n",
              "            <div class=\"bar\" style=\"width:4%\">&nbsp;</div>\n",
              "        </td>\n",
              "</tr><tr class=\"\">\n",
              "        <td class=\"fillremaining\">18.0</td>\n",
              "        <td class=\"number\">584</td>\n",
              "        <td class=\"number\">2.5%</td>\n",
              "        <td>\n",
              "            <div class=\"bar\" style=\"width:4%\">&nbsp;</div>\n",
              "        </td>\n",
              "</tr><tr class=\"other\">\n",
              "        <td class=\"fillremaining\">Other values (75)</td>\n",
              "        <td class=\"number\">16259</td>\n",
              "        <td class=\"number\">69.1%</td>\n",
              "        <td>\n",
              "            <div class=\"bar\" style=\"width:100%\">&nbsp;</div>\n",
              "        </td>\n",
              "</tr>\n",
              "</table>\n",
              "        </div>\n",
              "        <div role=\"tabpanel\" class=\"tab-pane col-md-12\"  id=\"extreme-5165274202694997097\">\n",
              "            <p class=\"h4\">Minimum 5 values</p>\n",
              "            \n",
              "<table class=\"freq table table-hover\">\n",
              "    <thead>\n",
              "    <tr>\n",
              "        <td class=\"fillremaining\">Value</td>\n",
              "        <td class=\"number\">Count</td>\n",
              "        <td class=\"number\">Frequency (%)</td>\n",
              "        <td style=\"min-width:200px\">&nbsp;</td>\n",
              "    </tr>\n",
              "    </thead>\n",
              "    <tr class=\"\">\n",
              "        <td class=\"fillremaining\">16.0</td>\n",
              "        <td class=\"number\">462</td>\n",
              "        <td class=\"number\">2.0%</td>\n",
              "        <td>\n",
              "            <div class=\"bar\" style=\"width:74%\">&nbsp;</div>\n",
              "        </td>\n",
              "</tr><tr class=\"\">\n",
              "        <td class=\"fillremaining\">17.0</td>\n",
              "        <td class=\"number\">477</td>\n",
              "        <td class=\"number\">2.0%</td>\n",
              "        <td>\n",
              "            <div class=\"bar\" style=\"width:76%\">&nbsp;</div>\n",
              "        </td>\n",
              "</tr><tr class=\"\">\n",
              "        <td class=\"fillremaining\">18.0</td>\n",
              "        <td class=\"number\">584</td>\n",
              "        <td class=\"number\">2.5%</td>\n",
              "        <td>\n",
              "            <div class=\"bar\" style=\"width:93%\">&nbsp;</div>\n",
              "        </td>\n",
              "</tr><tr class=\"\">\n",
              "        <td class=\"fillremaining\">19.0</td>\n",
              "        <td class=\"number\">469</td>\n",
              "        <td class=\"number\">2.0%</td>\n",
              "        <td>\n",
              "            <div class=\"bar\" style=\"width:75%\">&nbsp;</div>\n",
              "        </td>\n",
              "</tr><tr class=\"\">\n",
              "        <td class=\"fillremaining\">20.0</td>\n",
              "        <td class=\"number\">625</td>\n",
              "        <td class=\"number\">2.7%</td>\n",
              "        <td>\n",
              "            <div class=\"bar\" style=\"width:100%\">&nbsp;</div>\n",
              "        </td>\n",
              "</tr>\n",
              "</table>\n",
              "            <p class=\"h4\">Maximum 5 values</p>\n",
              "            \n",
              "<table class=\"freq table table-hover\">\n",
              "    <thead>\n",
              "    <tr>\n",
              "        <td class=\"fillremaining\">Value</td>\n",
              "        <td class=\"number\">Count</td>\n",
              "        <td class=\"number\">Frequency (%)</td>\n",
              "        <td style=\"min-width:200px\">&nbsp;</td>\n",
              "    </tr>\n",
              "    </thead>\n",
              "    <tr class=\"\">\n",
              "        <td class=\"fillremaining\">96.0</td>\n",
              "        <td class=\"number\">3</td>\n",
              "        <td class=\"number\">0.0%</td>\n",
              "        <td>\n",
              "            <div class=\"bar\" style=\"width:50%\">&nbsp;</div>\n",
              "        </td>\n",
              "</tr><tr class=\"\">\n",
              "        <td class=\"fillremaining\">97.0</td>\n",
              "        <td class=\"number\">1</td>\n",
              "        <td class=\"number\">0.0%</td>\n",
              "        <td>\n",
              "            <div class=\"bar\" style=\"width:17%\">&nbsp;</div>\n",
              "        </td>\n",
              "</tr><tr class=\"\">\n",
              "        <td class=\"fillremaining\">98.0</td>\n",
              "        <td class=\"number\">6</td>\n",
              "        <td class=\"number\">0.0%</td>\n",
              "        <td>\n",
              "            <div class=\"bar\" style=\"width:100%\">&nbsp;</div>\n",
              "        </td>\n",
              "</tr><tr class=\"\">\n",
              "        <td class=\"fillremaining\">99.0</td>\n",
              "        <td class=\"number\">2</td>\n",
              "        <td class=\"number\">0.0%</td>\n",
              "        <td>\n",
              "            <div class=\"bar\" style=\"width:34%\">&nbsp;</div>\n",
              "        </td>\n",
              "</tr><tr class=\"\">\n",
              "        <td class=\"fillremaining\">100.0</td>\n",
              "        <td class=\"number\">5</td>\n",
              "        <td class=\"number\">0.0%</td>\n",
              "        <td>\n",
              "            <div class=\"bar\" style=\"width:83%\">&nbsp;</div>\n",
              "        </td>\n",
              "</tr>\n",
              "</table>\n",
              "        </div>\n",
              "    </div>\n",
              "</div>\n",
              "</div><div class=\"row variablerow\">\n",
              "    <div class=\"col-md-3 namecol\">\n",
              "        <p class=\"h4 pp-anchor\" id=\"pp_var_The relathip with head\">The relathip with head<br/>\n",
              "            <small>Categorical</small>\n",
              "        </p>\n",
              "    </div><div class=\"col-md-3\">\n",
              "    <table class=\"stats \">\n",
              "        <tr class=\"\">\n",
              "            <th>Distinct count</th>\n",
              "            <td>7</td>\n",
              "        </tr>\n",
              "        <tr>\n",
              "            <th>Unique (%)</th>\n",
              "            <td>0.0%</td>\n",
              "        </tr>\n",
              "        <tr class=\"ignore\">\n",
              "            <th>Missing (%)</th>\n",
              "            <td>0.0%</td>\n",
              "        </tr>\n",
              "        <tr class=\"ignore\">\n",
              "            <th>Missing (n)</th>\n",
              "            <td>4</td>\n",
              "        </tr>\n",
              "    </table>\n",
              "</div>\n",
              "<div class=\"col-md-6 collapse in\" id=\"minifreqtable-7129545301516133902\">\n",
              "    <table class=\"mini freq\">\n",
              "        <tr class=\"\">\n",
              "    <th>Head of Household</th>\n",
              "    <td>\n",
              "        <div class=\"bar\" style=\"width:100%\" data-toggle=\"tooltip\" data-placement=\"right\" data-html=\"true\"\n",
              "             data-delay=500 title=\"Percentage: 54.5%\">\n",
              "            12829\n",
              "        </div>\n",
              "        \n",
              "    </td>\n",
              "</tr><tr class=\"\">\n",
              "    <th>Spouse</th>\n",
              "    <td>\n",
              "        <div class=\"bar\" style=\"width:51%\" data-toggle=\"tooltip\" data-placement=\"right\" data-html=\"true\"\n",
              "             data-delay=500 title=\"Percentage: 27.7%\">\n",
              "            6518\n",
              "        </div>\n",
              "        \n",
              "    </td>\n",
              "</tr><tr class=\"\">\n",
              "    <th>Child</th>\n",
              "    <td>\n",
              "        <div class=\"bar\" style=\"width:18%\" data-toggle=\"tooltip\" data-placement=\"right\" data-html=\"true\"\n",
              "             data-delay=500 title=\"Percentage: 9.5%\">\n",
              "            &nbsp;\n",
              "        </div>\n",
              "        2229\n",
              "    </td>\n",
              "</tr><tr class=\"other\">\n",
              "    <th>Other values (3)</th>\n",
              "    <td>\n",
              "        <div class=\"bar\" style=\"width:16%\" data-toggle=\"tooltip\" data-placement=\"right\" data-html=\"true\"\n",
              "             data-delay=500 title=\"Percentage: 8.3%\">\n",
              "            &nbsp;\n",
              "        </div>\n",
              "        1944\n",
              "    </td>\n",
              "</tr>\n",
              "    </table>\n",
              "</div>\n",
              "<div class=\"col-md-12 text-right\">\n",
              "    <a role=\"button\" data-toggle=\"collapse\" data-target=\"#freqtable-7129545301516133902, #minifreqtable-7129545301516133902\"\n",
              "       aria-expanded=\"true\" aria-controls=\"collapseExample\">\n",
              "        Toggle details\n",
              "    </a>\n",
              "</div>\n",
              "<div class=\"col-md-12 extrapadding collapse\" id=\"freqtable-7129545301516133902\">\n",
              "    \n",
              "<table class=\"freq table table-hover\">\n",
              "    <thead>\n",
              "    <tr>\n",
              "        <td class=\"fillremaining\">Value</td>\n",
              "        <td class=\"number\">Count</td>\n",
              "        <td class=\"number\">Frequency (%)</td>\n",
              "        <td style=\"min-width:200px\">&nbsp;</td>\n",
              "    </tr>\n",
              "    </thead>\n",
              "    <tr class=\"\">\n",
              "        <td class=\"fillremaining\">Head of Household</td>\n",
              "        <td class=\"number\">12829</td>\n",
              "        <td class=\"number\">54.5%</td>\n",
              "        <td>\n",
              "            <div class=\"bar\" style=\"width:100%\">&nbsp;</div>\n",
              "        </td>\n",
              "</tr><tr class=\"\">\n",
              "        <td class=\"fillremaining\">Spouse</td>\n",
              "        <td class=\"number\">6518</td>\n",
              "        <td class=\"number\">27.7%</td>\n",
              "        <td>\n",
              "            <div class=\"bar\" style=\"width:51%\">&nbsp;</div>\n",
              "        </td>\n",
              "</tr><tr class=\"\">\n",
              "        <td class=\"fillremaining\">Child</td>\n",
              "        <td class=\"number\">2229</td>\n",
              "        <td class=\"number\">9.5%</td>\n",
              "        <td>\n",
              "            <div class=\"bar\" style=\"width:18%\">&nbsp;</div>\n",
              "        </td>\n",
              "</tr><tr class=\"\">\n",
              "        <td class=\"fillremaining\">Parent</td>\n",
              "        <td class=\"number\">1086</td>\n",
              "        <td class=\"number\">4.6%</td>\n",
              "        <td>\n",
              "            <div class=\"bar\" style=\"width:9%\">&nbsp;</div>\n",
              "        </td>\n",
              "</tr><tr class=\"\">\n",
              "        <td class=\"fillremaining\">Other relative</td>\n",
              "        <td class=\"number\">668</td>\n",
              "        <td class=\"number\">2.8%</td>\n",
              "        <td>\n",
              "            <div class=\"bar\" style=\"width:6%\">&nbsp;</div>\n",
              "        </td>\n",
              "</tr><tr class=\"\">\n",
              "        <td class=\"fillremaining\">Other non-relatives</td>\n",
              "        <td class=\"number\">190</td>\n",
              "        <td class=\"number\">0.8%</td>\n",
              "        <td>\n",
              "            <div class=\"bar\" style=\"width:2%\">&nbsp;</div>\n",
              "        </td>\n",
              "</tr><tr class=\"missing\">\n",
              "        <td class=\"fillremaining\">(Missing)</td>\n",
              "        <td class=\"number\">4</td>\n",
              "        <td class=\"number\">0.0%</td>\n",
              "        <td>\n",
              "            <div class=\"bar\" style=\"width:1%\">&nbsp;</div>\n",
              "        </td>\n",
              "</tr>\n",
              "</table>\n",
              "</div>\n",
              "</div><div class=\"row variablerow\">\n",
              "    <div class=\"col-md-3 namecol\">\n",
              "        <p class=\"h4 pp-anchor\" id=\"pp_var_Type of Job\">Type of Job<br/>\n",
              "            <small>Categorical</small>\n",
              "        </p>\n",
              "    </div><div class=\"col-md-3\">\n",
              "    <table class=\"stats \">\n",
              "        <tr class=\"\">\n",
              "            <th>Distinct count</th>\n",
              "            <td>11</td>\n",
              "        </tr>\n",
              "        <tr>\n",
              "            <th>Unique (%)</th>\n",
              "            <td>0.0%</td>\n",
              "        </tr>\n",
              "        <tr class=\"ignore\">\n",
              "            <th>Missing (%)</th>\n",
              "            <td>0.1%</td>\n",
              "        </tr>\n",
              "        <tr class=\"ignore\">\n",
              "            <th>Missing (n)</th>\n",
              "            <td>30</td>\n",
              "        </tr>\n",
              "    </table>\n",
              "</div>\n",
              "<div class=\"col-md-6 collapse in\" id=\"minifreqtable-6780204877679815821\">\n",
              "    <table class=\"mini freq\">\n",
              "        <tr class=\"\">\n",
              "    <th>Self employed</th>\n",
              "    <td>\n",
              "        <div class=\"bar\" style=\"width:100%\" data-toggle=\"tooltip\" data-placement=\"right\" data-html=\"true\"\n",
              "             data-delay=500 title=\"Percentage: 27.3%\">\n",
              "            6428\n",
              "        </div>\n",
              "        \n",
              "    </td>\n",
              "</tr><tr class=\"\">\n",
              "    <th>Informally employed</th>\n",
              "    <td>\n",
              "        <div class=\"bar\" style=\"width:87%\" data-toggle=\"tooltip\" data-placement=\"right\" data-html=\"true\"\n",
              "             data-delay=500 title=\"Percentage: 23.8%\">\n",
              "            5587\n",
              "        </div>\n",
              "        \n",
              "    </td>\n",
              "</tr><tr class=\"\">\n",
              "    <th>Farming and Fishing</th>\n",
              "    <td>\n",
              "        <div class=\"bar\" style=\"width:84%\" data-toggle=\"tooltip\" data-placement=\"right\" data-html=\"true\"\n",
              "             data-delay=500 title=\"Percentage: 23.1%\">\n",
              "            5433\n",
              "        </div>\n",
              "        \n",
              "    </td>\n",
              "</tr><tr class=\"other\">\n",
              "    <th>Other values (7)</th>\n",
              "    <td>\n",
              "        <div class=\"bar\" style=\"width:94%\" data-toggle=\"tooltip\" data-placement=\"right\" data-html=\"true\"\n",
              "             data-delay=500 title=\"Percentage: 25.7%\">\n",
              "            6046\n",
              "        </div>\n",
              "        \n",
              "    </td>\n",
              "</tr>\n",
              "    </table>\n",
              "</div>\n",
              "<div class=\"col-md-12 text-right\">\n",
              "    <a role=\"button\" data-toggle=\"collapse\" data-target=\"#freqtable-6780204877679815821, #minifreqtable-6780204877679815821\"\n",
              "       aria-expanded=\"true\" aria-controls=\"collapseExample\">\n",
              "        Toggle details\n",
              "    </a>\n",
              "</div>\n",
              "<div class=\"col-md-12 extrapadding collapse\" id=\"freqtable-6780204877679815821\">\n",
              "    \n",
              "<table class=\"freq table table-hover\">\n",
              "    <thead>\n",
              "    <tr>\n",
              "        <td class=\"fillremaining\">Value</td>\n",
              "        <td class=\"number\">Count</td>\n",
              "        <td class=\"number\">Frequency (%)</td>\n",
              "        <td style=\"min-width:200px\">&nbsp;</td>\n",
              "    </tr>\n",
              "    </thead>\n",
              "    <tr class=\"\">\n",
              "        <td class=\"fillremaining\">Self employed</td>\n",
              "        <td class=\"number\">6428</td>\n",
              "        <td class=\"number\">27.3%</td>\n",
              "        <td>\n",
              "            <div class=\"bar\" style=\"width:100%\">&nbsp;</div>\n",
              "        </td>\n",
              "</tr><tr class=\"\">\n",
              "        <td class=\"fillremaining\">Informally employed</td>\n",
              "        <td class=\"number\">5587</td>\n",
              "        <td class=\"number\">23.8%</td>\n",
              "        <td>\n",
              "            <div class=\"bar\" style=\"width:87%\">&nbsp;</div>\n",
              "        </td>\n",
              "</tr><tr class=\"\">\n",
              "        <td class=\"fillremaining\">Farming and Fishing</td>\n",
              "        <td class=\"number\">5433</td>\n",
              "        <td class=\"number\">23.1%</td>\n",
              "        <td>\n",
              "            <div class=\"bar\" style=\"width:84%\">&nbsp;</div>\n",
              "        </td>\n",
              "</tr><tr class=\"\">\n",
              "        <td class=\"fillremaining\">Remittance Dependent</td>\n",
              "        <td class=\"number\">2524</td>\n",
              "        <td class=\"number\">10.7%</td>\n",
              "        <td>\n",
              "            <div class=\"bar\" style=\"width:39%\">&nbsp;</div>\n",
              "        </td>\n",
              "</tr><tr class=\"\">\n",
              "        <td class=\"fillremaining\">Other Income</td>\n",
              "        <td class=\"number\">1080</td>\n",
              "        <td class=\"number\">4.6%</td>\n",
              "        <td>\n",
              "            <div class=\"bar\" style=\"width:17%\">&nbsp;</div>\n",
              "        </td>\n",
              "</tr><tr class=\"\">\n",
              "        <td class=\"fillremaining\">Formally employed Private</td>\n",
              "        <td class=\"number\">1055</td>\n",
              "        <td class=\"number\">4.5%</td>\n",
              "        <td>\n",
              "            <div class=\"bar\" style=\"width:17%\">&nbsp;</div>\n",
              "        </td>\n",
              "</tr><tr class=\"\">\n",
              "        <td class=\"fillremaining\">No Income</td>\n",
              "        <td class=\"number\">627</td>\n",
              "        <td class=\"number\">2.7%</td>\n",
              "        <td>\n",
              "            <div class=\"bar\" style=\"width:10%\">&nbsp;</div>\n",
              "        </td>\n",
              "</tr><tr class=\"\">\n",
              "        <td class=\"fillremaining\">Formally employed Government</td>\n",
              "        <td class=\"number\">387</td>\n",
              "        <td class=\"number\">1.6%</td>\n",
              "        <td>\n",
              "            <div class=\"bar\" style=\"width:6%\">&nbsp;</div>\n",
              "        </td>\n",
              "</tr><tr class=\"\">\n",
              "        <td class=\"fillremaining\">Government Dependent</td>\n",
              "        <td class=\"number\">247</td>\n",
              "        <td class=\"number\">1.0%</td>\n",
              "        <td>\n",
              "            <div class=\"bar\" style=\"width:4%\">&nbsp;</div>\n",
              "        </td>\n",
              "</tr><tr class=\"\">\n",
              "        <td class=\"fillremaining\">Dont Know/Refuse to answer</td>\n",
              "        <td class=\"number\">126</td>\n",
              "        <td class=\"number\">0.5%</td>\n",
              "        <td>\n",
              "            <div class=\"bar\" style=\"width:2%\">&nbsp;</div>\n",
              "        </td>\n",
              "</tr><tr class=\"missing\">\n",
              "        <td class=\"fillremaining\">(Missing)</td>\n",
              "        <td class=\"number\">30</td>\n",
              "        <td class=\"number\">0.1%</td>\n",
              "        <td>\n",
              "            <div class=\"bar\" style=\"width:1%\">&nbsp;</div>\n",
              "        </td>\n",
              "</tr>\n",
              "</table>\n",
              "</div>\n",
              "</div><div class=\"row variablerow\">\n",
              "    <div class=\"col-md-3 namecol\">\n",
              "        <p class=\"h4 pp-anchor\" id=\"pp_var_Type of Location\">Type of Location<br/>\n",
              "            <small>Categorical</small>\n",
              "        </p>\n",
              "    </div><div class=\"col-md-3\">\n",
              "    <table class=\"stats \">\n",
              "        <tr class=\"\">\n",
              "            <th>Distinct count</th>\n",
              "            <td>3</td>\n",
              "        </tr>\n",
              "        <tr>\n",
              "            <th>Unique (%)</th>\n",
              "            <td>0.0%</td>\n",
              "        </tr>\n",
              "        <tr class=\"ignore\">\n",
              "            <th>Missing (%)</th>\n",
              "            <td>0.1%</td>\n",
              "        </tr>\n",
              "        <tr class=\"ignore\">\n",
              "            <th>Missing (n)</th>\n",
              "            <td>15</td>\n",
              "        </tr>\n",
              "    </table>\n",
              "</div>\n",
              "<div class=\"col-md-6 collapse in\" id=\"minifreqtable-838536528840226871\">\n",
              "    <table class=\"mini freq\">\n",
              "        <tr class=\"\">\n",
              "    <th>Rural</th>\n",
              "    <td>\n",
              "        <div class=\"bar\" style=\"width:100%\" data-toggle=\"tooltip\" data-placement=\"right\" data-html=\"true\"\n",
              "             data-delay=500 title=\"Percentage: 61.0%\">\n",
              "            14338\n",
              "        </div>\n",
              "        \n",
              "    </td>\n",
              "</tr><tr class=\"\">\n",
              "    <th>Urban</th>\n",
              "    <td>\n",
              "        <div class=\"bar\" style=\"width:64%\" data-toggle=\"tooltip\" data-placement=\"right\" data-html=\"true\"\n",
              "             data-delay=500 title=\"Percentage: 39.0%\">\n",
              "            9171\n",
              "        </div>\n",
              "        \n",
              "    </td>\n",
              "</tr><tr class=\"missing\">\n",
              "    <th>(Missing)</th>\n",
              "    <td>\n",
              "        <div class=\"bar\" style=\"width:1%\" data-toggle=\"tooltip\" data-placement=\"right\" data-html=\"true\"\n",
              "             data-delay=500 title=\"Percentage: 0.1%\">\n",
              "            &nbsp;\n",
              "        </div>\n",
              "        15\n",
              "    </td>\n",
              "</tr>\n",
              "    </table>\n",
              "</div>\n",
              "<div class=\"col-md-12 text-right\">\n",
              "    <a role=\"button\" data-toggle=\"collapse\" data-target=\"#freqtable-838536528840226871, #minifreqtable-838536528840226871\"\n",
              "       aria-expanded=\"true\" aria-controls=\"collapseExample\">\n",
              "        Toggle details\n",
              "    </a>\n",
              "</div>\n",
              "<div class=\"col-md-12 extrapadding collapse\" id=\"freqtable-838536528840226871\">\n",
              "    \n",
              "<table class=\"freq table table-hover\">\n",
              "    <thead>\n",
              "    <tr>\n",
              "        <td class=\"fillremaining\">Value</td>\n",
              "        <td class=\"number\">Count</td>\n",
              "        <td class=\"number\">Frequency (%)</td>\n",
              "        <td style=\"min-width:200px\">&nbsp;</td>\n",
              "    </tr>\n",
              "    </thead>\n",
              "    <tr class=\"\">\n",
              "        <td class=\"fillremaining\">Rural</td>\n",
              "        <td class=\"number\">14338</td>\n",
              "        <td class=\"number\">61.0%</td>\n",
              "        <td>\n",
              "            <div class=\"bar\" style=\"width:100%\">&nbsp;</div>\n",
              "        </td>\n",
              "</tr><tr class=\"\">\n",
              "        <td class=\"fillremaining\">Urban</td>\n",
              "        <td class=\"number\">9171</td>\n",
              "        <td class=\"number\">39.0%</td>\n",
              "        <td>\n",
              "            <div class=\"bar\" style=\"width:64%\">&nbsp;</div>\n",
              "        </td>\n",
              "</tr><tr class=\"missing\">\n",
              "        <td class=\"fillremaining\">(Missing)</td>\n",
              "        <td class=\"number\">15</td>\n",
              "        <td class=\"number\">0.1%</td>\n",
              "        <td>\n",
              "            <div class=\"bar\" style=\"width:1%\">&nbsp;</div>\n",
              "        </td>\n",
              "</tr>\n",
              "</table>\n",
              "</div>\n",
              "</div><div class=\"row variablerow\">\n",
              "    <div class=\"col-md-3 namecol\">\n",
              "        <p class=\"h4 pp-anchor\" id=\"pp_var_country\">country<br/>\n",
              "            <small>Categorical</small>\n",
              "        </p>\n",
              "    </div><div class=\"col-md-3\">\n",
              "    <table class=\"stats \">\n",
              "        <tr class=\"\">\n",
              "            <th>Distinct count</th>\n",
              "            <td>5</td>\n",
              "        </tr>\n",
              "        <tr>\n",
              "            <th>Unique (%)</th>\n",
              "            <td>0.0%</td>\n",
              "        </tr>\n",
              "        <tr class=\"ignore\">\n",
              "            <th>Missing (%)</th>\n",
              "            <td>0.1%</td>\n",
              "        </tr>\n",
              "        <tr class=\"ignore\">\n",
              "            <th>Missing (n)</th>\n",
              "            <td>14</td>\n",
              "        </tr>\n",
              "    </table>\n",
              "</div>\n",
              "<div class=\"col-md-6 collapse in\" id=\"minifreqtable1402030208488249874\">\n",
              "    <table class=\"mini freq\">\n",
              "        <tr class=\"\">\n",
              "    <th>Rwanda</th>\n",
              "    <td>\n",
              "        <div class=\"bar\" style=\"width:100%\" data-toggle=\"tooltip\" data-placement=\"right\" data-html=\"true\"\n",
              "             data-delay=500 title=\"Percentage: 37.1%\">\n",
              "            8735\n",
              "        </div>\n",
              "        \n",
              "    </td>\n",
              "</tr><tr class=\"\">\n",
              "    <th>Tanzania</th>\n",
              "    <td>\n",
              "        <div class=\"bar\" style=\"width:75%\" data-toggle=\"tooltip\" data-placement=\"right\" data-html=\"true\"\n",
              "             data-delay=500 title=\"Percentage: 28.1%\">\n",
              "            6606\n",
              "        </div>\n",
              "        \n",
              "    </td>\n",
              "</tr><tr class=\"\">\n",
              "    <th>Kenya</th>\n",
              "    <td>\n",
              "        <div class=\"bar\" style=\"width:69%\" data-toggle=\"tooltip\" data-placement=\"right\" data-html=\"true\"\n",
              "             data-delay=500 title=\"Percentage: 25.8%\">\n",
              "            6068\n",
              "        </div>\n",
              "        \n",
              "    </td>\n",
              "</tr>\n",
              "    </table>\n",
              "</div>\n",
              "<div class=\"col-md-12 text-right\">\n",
              "    <a role=\"button\" data-toggle=\"collapse\" data-target=\"#freqtable1402030208488249874, #minifreqtable1402030208488249874\"\n",
              "       aria-expanded=\"true\" aria-controls=\"collapseExample\">\n",
              "        Toggle details\n",
              "    </a>\n",
              "</div>\n",
              "<div class=\"col-md-12 extrapadding collapse\" id=\"freqtable1402030208488249874\">\n",
              "    \n",
              "<table class=\"freq table table-hover\">\n",
              "    <thead>\n",
              "    <tr>\n",
              "        <td class=\"fillremaining\">Value</td>\n",
              "        <td class=\"number\">Count</td>\n",
              "        <td class=\"number\">Frequency (%)</td>\n",
              "        <td style=\"min-width:200px\">&nbsp;</td>\n",
              "    </tr>\n",
              "    </thead>\n",
              "    <tr class=\"\">\n",
              "        <td class=\"fillremaining\">Rwanda</td>\n",
              "        <td class=\"number\">8735</td>\n",
              "        <td class=\"number\">37.1%</td>\n",
              "        <td>\n",
              "            <div class=\"bar\" style=\"width:100%\">&nbsp;</div>\n",
              "        </td>\n",
              "</tr><tr class=\"\">\n",
              "        <td class=\"fillremaining\">Tanzania</td>\n",
              "        <td class=\"number\">6606</td>\n",
              "        <td class=\"number\">28.1%</td>\n",
              "        <td>\n",
              "            <div class=\"bar\" style=\"width:75%\">&nbsp;</div>\n",
              "        </td>\n",
              "</tr><tr class=\"\">\n",
              "        <td class=\"fillremaining\">Kenya</td>\n",
              "        <td class=\"number\">6068</td>\n",
              "        <td class=\"number\">25.8%</td>\n",
              "        <td>\n",
              "            <div class=\"bar\" style=\"width:69%\">&nbsp;</div>\n",
              "        </td>\n",
              "</tr><tr class=\"\">\n",
              "        <td class=\"fillremaining\">Uganda</td>\n",
              "        <td class=\"number\">2101</td>\n",
              "        <td class=\"number\">8.9%</td>\n",
              "        <td>\n",
              "            <div class=\"bar\" style=\"width:24%\">&nbsp;</div>\n",
              "        </td>\n",
              "</tr><tr class=\"missing\">\n",
              "        <td class=\"fillremaining\">(Missing)</td>\n",
              "        <td class=\"number\">14</td>\n",
              "        <td class=\"number\">0.1%</td>\n",
              "        <td>\n",
              "            <div class=\"bar\" style=\"width:1%\">&nbsp;</div>\n",
              "        </td>\n",
              "</tr>\n",
              "</table>\n",
              "</div>\n",
              "</div><div class=\"row variablerow\">\n",
              "    <div class=\"col-md-3 namecol\">\n",
              "        <p class=\"h4 pp-anchor\" id=\"pp_var_gender_of_respondent\">gender_of_respondent<br/>\n",
              "            <small>Categorical</small>\n",
              "        </p>\n",
              "    </div><div class=\"col-md-3\">\n",
              "    <table class=\"stats \">\n",
              "        <tr class=\"\">\n",
              "            <th>Distinct count</th>\n",
              "            <td>3</td>\n",
              "        </tr>\n",
              "        <tr>\n",
              "            <th>Unique (%)</th>\n",
              "            <td>0.0%</td>\n",
              "        </tr>\n",
              "        <tr class=\"ignore\">\n",
              "            <th>Missing (%)</th>\n",
              "            <td>0.1%</td>\n",
              "        </tr>\n",
              "        <tr class=\"ignore\">\n",
              "            <th>Missing (n)</th>\n",
              "            <td>34</td>\n",
              "        </tr>\n",
              "    </table>\n",
              "</div>\n",
              "<div class=\"col-md-6 collapse in\" id=\"minifreqtable-49577438308357100\">\n",
              "    <table class=\"mini freq\">\n",
              "        <tr class=\"\">\n",
              "    <th>Female</th>\n",
              "    <td>\n",
              "        <div class=\"bar\" style=\"width:100%\" data-toggle=\"tooltip\" data-placement=\"right\" data-html=\"true\"\n",
              "             data-delay=500 title=\"Percentage: 58.9%\">\n",
              "            13859\n",
              "        </div>\n",
              "        \n",
              "    </td>\n",
              "</tr><tr class=\"\">\n",
              "    <th>Male</th>\n",
              "    <td>\n",
              "        <div class=\"bar\" style=\"width:69%\" data-toggle=\"tooltip\" data-placement=\"right\" data-html=\"true\"\n",
              "             data-delay=500 title=\"Percentage: 40.9%\">\n",
              "            9631\n",
              "        </div>\n",
              "        \n",
              "    </td>\n",
              "</tr><tr class=\"missing\">\n",
              "    <th>(Missing)</th>\n",
              "    <td>\n",
              "        <div class=\"bar\" style=\"width:1%\" data-toggle=\"tooltip\" data-placement=\"right\" data-html=\"true\"\n",
              "             data-delay=500 title=\"Percentage: 0.1%\">\n",
              "            &nbsp;\n",
              "        </div>\n",
              "        34\n",
              "    </td>\n",
              "</tr>\n",
              "    </table>\n",
              "</div>\n",
              "<div class=\"col-md-12 text-right\">\n",
              "    <a role=\"button\" data-toggle=\"collapse\" data-target=\"#freqtable-49577438308357100, #minifreqtable-49577438308357100\"\n",
              "       aria-expanded=\"true\" aria-controls=\"collapseExample\">\n",
              "        Toggle details\n",
              "    </a>\n",
              "</div>\n",
              "<div class=\"col-md-12 extrapadding collapse\" id=\"freqtable-49577438308357100\">\n",
              "    \n",
              "<table class=\"freq table table-hover\">\n",
              "    <thead>\n",
              "    <tr>\n",
              "        <td class=\"fillremaining\">Value</td>\n",
              "        <td class=\"number\">Count</td>\n",
              "        <td class=\"number\">Frequency (%)</td>\n",
              "        <td style=\"min-width:200px\">&nbsp;</td>\n",
              "    </tr>\n",
              "    </thead>\n",
              "    <tr class=\"\">\n",
              "        <td class=\"fillremaining\">Female</td>\n",
              "        <td class=\"number\">13859</td>\n",
              "        <td class=\"number\">58.9%</td>\n",
              "        <td>\n",
              "            <div class=\"bar\" style=\"width:100%\">&nbsp;</div>\n",
              "        </td>\n",
              "</tr><tr class=\"\">\n",
              "        <td class=\"fillremaining\">Male</td>\n",
              "        <td class=\"number\">9631</td>\n",
              "        <td class=\"number\">40.9%</td>\n",
              "        <td>\n",
              "            <div class=\"bar\" style=\"width:69%\">&nbsp;</div>\n",
              "        </td>\n",
              "</tr><tr class=\"missing\">\n",
              "        <td class=\"fillremaining\">(Missing)</td>\n",
              "        <td class=\"number\">34</td>\n",
              "        <td class=\"number\">0.1%</td>\n",
              "        <td>\n",
              "            <div class=\"bar\" style=\"width:1%\">&nbsp;</div>\n",
              "        </td>\n",
              "</tr>\n",
              "</table>\n",
              "</div>\n",
              "</div><div class=\"row variablerow\">\n",
              "    <div class=\"col-md-3 namecol\">\n",
              "        <p class=\"h4 pp-anchor\" id=\"pp_var_household_size\">household_size<br/>\n",
              "            <small>Numeric</small>\n",
              "        </p>\n",
              "    </div><div class=\"col-md-6\">\n",
              "    <div class=\"row\">\n",
              "        <div class=\"col-sm-6\">\n",
              "            <table class=\"stats \">\n",
              "                <tr>\n",
              "                    <th>Distinct count</th>\n",
              "                    <td>22</td>\n",
              "                </tr>\n",
              "                <tr>\n",
              "                    <th>Unique (%)</th>\n",
              "                    <td>0.1%</td>\n",
              "                </tr>\n",
              "                <tr class=\"ignore\">\n",
              "                    <th>Missing (%)</th>\n",
              "                    <td>0.1%</td>\n",
              "                </tr>\n",
              "                <tr class=\"ignore\">\n",
              "                    <th>Missing (n)</th>\n",
              "                    <td>28</td>\n",
              "                </tr>\n",
              "                <tr class=\"ignore\">\n",
              "                    <th>Infinite (%)</th>\n",
              "                    <td>0.0%</td>\n",
              "                </tr>\n",
              "                <tr class=\"ignore\">\n",
              "                    <th>Infinite (n)</th>\n",
              "                    <td>0</td>\n",
              "                </tr>\n",
              "            </table>\n",
              "\n",
              "        </div>\n",
              "        <div class=\"col-sm-6\">\n",
              "            <table class=\"stats \">\n",
              "\n",
              "                <tr>\n",
              "                    <th>Mean</th>\n",
              "                    <td>3.6818</td>\n",
              "                </tr>\n",
              "                <tr>\n",
              "                    <th>Minimum</th>\n",
              "                    <td>0</td>\n",
              "                </tr>\n",
              "                <tr>\n",
              "                    <th>Maximum</th>\n",
              "                    <td>21</td>\n",
              "                </tr>\n",
              "                <tr class=\"ignore\">\n",
              "                    <th>Zeros (%)</th>\n",
              "                    <td>0.2%</td>\n",
              "                </tr>\n",
              "            </table>\n",
              "        </div>\n",
              "    </div>\n",
              "</div>\n",
              "<div class=\"col-md-3 collapse in\" id=\"minihistogram-5373361503933475749\">\n",
              "    <img src=\"data:image/png;base64,iVBORw0KGgoAAAANSUhEUgAAAMgAAABLCAYAAAA1fMjoAAAABHNCSVQICAgIfAhkiAAAAAlwSFlzAAAPYQAAD2EBqD%2BnaQAAADl0RVh0U29mdHdhcmUAbWF0cGxvdGxpYiB2ZXJzaW9uIDMuMC4zLCBodHRwOi8vbWF0cGxvdGxpYi5vcmcvnQurowAAAR9JREFUeJzt3MEJwkAQQFEVS7IIe/JsTxZhT%2Btd5KOBkFXfuwfm8plAhuzHGGMHvHTYegCY2XHrAZ6dLrePn7lfzytMAjYIJIFAEAgEgUAQCASBQBAIBIFAEAgEgUAQCITpbrGWcL/FWmwQCAKBIBAIAoEgEAgCgSAQCAKBIBAIAoHwE6cmSzhP4R02CASBQBAIBIFAEAgEgUAQCASBQBAIBIFAEAgEgUD422PFJT49cHTc%2BP1sEAgCgSAQCAKBIBAIAoEgEAi%2Bg6zIjyG%2Bnw0CwQaZjK0zl/0YY2w9BMzKKxYEgUAQCASBQBAIBIFAEAgEgUAQCASBQBAIBIFAEAgEgUAQCASBQBAIBIFAEAgEgUAQCASBQBAIBIFAEAiEB/cWGpkyyCZpAAAAAElFTkSuQmCC\">\n",
              "\n",
              "</div>\n",
              "<div class=\"col-md-12 text-right\">\n",
              "    <a role=\"button\" data-toggle=\"collapse\" data-target=\"#descriptives-5373361503933475749,#minihistogram-5373361503933475749\"\n",
              "       aria-expanded=\"false\" aria-controls=\"collapseExample\">\n",
              "        Toggle details\n",
              "    </a>\n",
              "</div>\n",
              "<div class=\"row collapse col-md-12\" id=\"descriptives-5373361503933475749\">\n",
              "    <ul class=\"nav nav-tabs\" role=\"tablist\">\n",
              "        <li role=\"presentation\" class=\"active\"><a href=\"#quantiles-5373361503933475749\"\n",
              "                                                  aria-controls=\"quantiles-5373361503933475749\" role=\"tab\"\n",
              "                                                  data-toggle=\"tab\">Statistics</a></li>\n",
              "        <li role=\"presentation\"><a href=\"#histogram-5373361503933475749\" aria-controls=\"histogram-5373361503933475749\"\n",
              "                                   role=\"tab\" data-toggle=\"tab\">Histogram</a></li>\n",
              "        <li role=\"presentation\"><a href=\"#common-5373361503933475749\" aria-controls=\"common-5373361503933475749\"\n",
              "                                   role=\"tab\" data-toggle=\"tab\">Common Values</a></li>\n",
              "        <li role=\"presentation\"><a href=\"#extreme-5373361503933475749\" aria-controls=\"extreme-5373361503933475749\"\n",
              "                                   role=\"tab\" data-toggle=\"tab\">Extreme Values</a></li>\n",
              "\n",
              "    </ul>\n",
              "\n",
              "    <div class=\"tab-content\">\n",
              "        <div role=\"tabpanel\" class=\"tab-pane active row\" id=\"quantiles-5373361503933475749\">\n",
              "            <div class=\"col-md-4 col-md-offset-1\">\n",
              "                <p class=\"h4\">Quantile statistics</p>\n",
              "                <table class=\"stats indent\">\n",
              "                    <tr>\n",
              "                        <th>Minimum</th>\n",
              "                        <td>0</td>\n",
              "                    </tr>\n",
              "                    <tr>\n",
              "                        <th>5-th percentile</th>\n",
              "                        <td>1</td>\n",
              "                    </tr>\n",
              "                    <tr>\n",
              "                        <th>Q1</th>\n",
              "                        <td>2</td>\n",
              "                    </tr>\n",
              "                    <tr>\n",
              "                        <th>Median</th>\n",
              "                        <td>3</td>\n",
              "                    </tr>\n",
              "                    <tr>\n",
              "                        <th>Q3</th>\n",
              "                        <td>5</td>\n",
              "                    </tr>\n",
              "                    <tr>\n",
              "                        <th>95-th percentile</th>\n",
              "                        <td>8</td>\n",
              "                    </tr>\n",
              "                    <tr>\n",
              "                        <th>Maximum</th>\n",
              "                        <td>21</td>\n",
              "                    </tr>\n",
              "                    <tr>\n",
              "                        <th>Range</th>\n",
              "                        <td>21</td>\n",
              "                    </tr>\n",
              "                    <tr>\n",
              "                        <th>Interquartile range</th>\n",
              "                        <td>3</td>\n",
              "                    </tr>\n",
              "                </table>\n",
              "            </div>\n",
              "            <div class=\"col-md-4 col-md-offset-2\">\n",
              "                <p class=\"h4\">Descriptive statistics</p>\n",
              "                <table class=\"stats indent\">\n",
              "                    <tr>\n",
              "                        <th>Standard deviation</th>\n",
              "                        <td>2.2799</td>\n",
              "                    </tr>\n",
              "                    <tr>\n",
              "                        <th>Coef of variation</th>\n",
              "                        <td>0.61924</td>\n",
              "                    </tr>\n",
              "                    <tr>\n",
              "                        <th>Kurtosis</th>\n",
              "                        <td>1.1582</td>\n",
              "                    </tr>\n",
              "                    <tr>\n",
              "                        <th>Mean</th>\n",
              "                        <td>3.6818</td>\n",
              "                    </tr>\n",
              "                    <tr>\n",
              "                        <th>MAD</th>\n",
              "                        <td>1.8567</td>\n",
              "                    </tr>\n",
              "                    <tr class=\"\">\n",
              "                        <th>Skewness</th>\n",
              "                        <td>0.97765</td>\n",
              "                    </tr>\n",
              "                    <tr>\n",
              "                        <th>Sum</th>\n",
              "                        <td>86508</td>\n",
              "                    </tr>\n",
              "                    <tr>\n",
              "                        <th>Variance</th>\n",
              "                        <td>5.1981</td>\n",
              "                    </tr>\n",
              "                    <tr>\n",
              "                        <th>Memory size</th>\n",
              "                        <td>183.9 KiB</td>\n",
              "                    </tr>\n",
              "                </table>\n",
              "            </div>\n",
              "        </div>\n",
              "        <div role=\"tabpanel\" class=\"tab-pane col-md-8 col-md-offset-2\" id=\"histogram-5373361503933475749\">\n",
              "            <img src=\"data:image/png;base64,iVBORw0KGgoAAAANSUhEUgAAAlgAAAGQCAYAAAByNR6YAAAABHNCSVQICAgIfAhkiAAAAAlwSFlzAAAPYQAAD2EBqD%2BnaQAAADl0RVh0U29mdHdhcmUAbWF0cGxvdGxpYiB2ZXJzaW9uIDMuMC4zLCBodHRwOi8vbWF0cGxvdGxpYi5vcmcvnQurowAAIABJREFUeJzt3Xt01PWd//FXkjEJJExuGHBjFAVEQmgkFWMBE0hlUViI0EBIu0dZixUBs%2BHSw3KzsGsFBaQ2YYPoesH2HKfhuNzK7ddy8ULq1m1lk4H1kuKy5ABJYYZADAlJ5veHy9gRCoF8%2BH5nyPNxjufo9zv5znv8ZA7PfL9fJmE%2Bn88nAAAAGBNu9wAAAAA3GgILAADAMAILAADAMAILAADAMAILAADAMAILAADAMAILAADAMAILAADAMAILAADAMAILAADAMAILAADAMAILAADAMAILAADAMAILAADAMAILAADAMAILAADAMAILAADAMAILAADAMAILAADAMAILAADAMAILAADAMAILAADAMAILAADAMAILAADAMAILAADAMAILAADAMAILAADAMAILAADAMAILAADAMAILAADAMAILAADAMAILAADAMAILAADAMAILAADAMAILAADAMAILAADAMAILAADAMAILAADAMAILAADAMIfdA3QWdXVnjB8zPDxMiYkxOnWqQW1tPuPHR8ewPsGN9QlurE/wCrW1ufnmbrY8L2ewQlh4eJjCwsIUHh5m9yi4BNYnuLE%2BwY31CV6sTfsQWAAAAIYRWAAAAIYRWAAAAIYRWAAAAIYRWAAAAIYRWAAAAIYRWAAAAIYRWAAAAIYRWAAAAIYRWAAAAIYRWAAAAIYRWAAAAIYRWAAAAIY57B4AHXPvwh12j9Bu24uH2j0CAACW4AwWAACAYQQWAACAYQQWAACAYQQWAACAYQQWAACAYQQWAACAYQQWAACAYQQWAACAYQQWAACAYQQWAACAYQQWAACAYQQWAACAYQQWAACAYQQWAACAYQQWAACAYQQWAACAYQQWAACAYQQWAACAYQQWAACAYQQWAACAYQQWAACAYQQWAACAYQQWAACAYQQWAACAYQQWAACAYQQWAACAYQQWAACAYQQWAACAYQQWAACAYQQWAACAYQQWAACAYQQWAACAYQQWAACAYSEbWAcPHtSjjz6qe%2B%2B9V0OHDtXcuXN16tQpSVJFRYXy8/OVmZmpMWPGaPPmzQFfu379eo0aNUqZmZkqLCxUVVWVf19TU5OeeeYZZWdnKysrS0VFRfJ4PJa%2BNgAAENpCMrBaWlr0ox/9SPfcc4/279%2BvrVu36tSpU1qyZIlqa2s1ffp0TZ48WRUVFVq4cKEWL16syspKSdLu3btVUlKiF154Qfv379eIESM0bdo0ffnll5Kk1atXy%2B12y%2BVyaefOnfL5fJo/f76dLxcAAISYkAysuro61dXVKS8vT5GRkUpISNDIkSN16NAhbdmyRb169VJ%2Bfr6ioqI0ZMgQ5ebmqry8XJLkcrk0YcIEZWRkKDo6WlOnTpUk7dmzRy0tLdqwYYOmT5%2BuW265RfHx8SouLtbevXt14sQJO18yAAAIIQ67B7gWPXr0UP/%2B/eVyufSP//iPOnfunHbt2qXhw4fL7XYrLS0t4PFpaWnavn27JMntdmv06NH%2BfeHh4erfv78qKyvVv39/nTlzRgMGDPDv7927t6Kjo%2BV2u9WjR492zVdbW6u6urqAbQ5HVyUnJ1/rS76kiIjQ6mOHI7Tm7agL6xNq69RZsD7BjfUJXqxN%2B4RkYIWHh6ukpERTpkzRm2%2B%2BKUm67777NGfOHE2fPv2iEIqPj/ffR%2BX1ehUXFxewPy4uTh6PR16vV5LkdDoD9judzqu6D8vlcqm0tDRg24wZM1RUVNTuY9yIEhJi7B7BFk5nF7tHwGWwPsGN9QlerM3lhWRgNTc3a9q0aXrooYf8908tXbpUc%2BfObdfX%2B3y%2BDu2/koKCAuXm5gZsczi6yuNp6NBxvynUfnow/fqDXUREuJzOLqqvb1Rra5vd4%2BAbWJ/gxvoEr1BbG7t%2BuA/JwKqoqNDRo0c1e/ZsRUREqFu3bioqKlJeXp4eeOAB/5moCzwejxITEyVJCQkJF%2B33er3q27ev/zFer1cxMV8vyOnTp5WUlNTu%2BZKTky%2B6HFhXd0YtLcH/jXg9ddbX39ra1mlfeyhgfYIb6xO8WJvLC61TIP%2BntbVVbW1tAWeampubJUlDhgwJ%2BNgFSaqqqlJGRoYkKT09XW63O%2BBYBw8eVEZGhlJTUxUXFxew/9NPP1Vzc7PS09Ov50sCAAA3kJAMrEGDBqlr164qKSlRY2OjPB6PysrKNHjwYOXl5ammpkbl5eVqamrSvn37tG/fPk2aNEmSVFhYqI0bN%2Brjjz9WY2OjysrKFBkZqeHDhysiIkKTJk3S2rVrdezYMXk8Hr344osaOXKkunfvbvOrBgAAoSIkLxEmJCTo3/7t3/T8888rOztbkZGRuu%2B%2B%2B7RkyRIlJSXp5Zdf1rPPPqulS5cqJSVFK1as0N133y1Jys7O1uzZs1VcXKyTJ09q4MCBWrdunaKjoyVJRUVFamhoUF5enlpaWjRixAgtWbLExlcLAABCTZivo3d0o13q6s4YP6bDEa6RK98zftzrZXvxULtHsJTDEa6EhBh5PA3cpxCEWJ/gxvoEr1Bbm5tv7mbL84bkJUIAAIBgRmABAAAYRmABAAAYRmABAAAYRmABAAAYRmABAAAYRmABAAAYRmABAAAYRmABAAAYRmABAAAYRmABAAAYRmABAAAYRmABAAAYRmABAAAYRmABAAAYRmABAAAYRmABAAAYRmABAAAYRmABAAAYRmABAAAYRmABAAAYRmABAAAYRmABAAAYRmABAAAYRmABAAAYRmABAAAYRmABAAAYRmABAAAYRmABAAAYRmABAAAYRmABAAAYRmABAAAYRmABAAAYRmABAAAYRmABAAAY5rB7AHQeD//sA7tHuCrbi4faPQIAIERxBgsAAMAwAgsAAMAwAgsAAMAwAgsAAMAwAgsAAMAwAgsAAMAwAgsAAMAwAgsAAMAwAgsAAMAwAgsAAMAwAgsAAMAwAgsAAMAwAgsAAMAwAgsAAMAwAgsAAMAwAgsAAMAwAgsAAMAwAgsAAMAwAgsAAMCwkA6ssrIyDRs2TPfcc4%2BmTJmio0ePSpIqKiqUn5%2BvzMxMjRkzRps3bw74uvXr12vUqFHKzMxUYWGhqqqq/Puampr0zDPPKDs7W1lZWSoqKpLH47H0dQEAgNAWsoH1y1/%2BUps3b9b69ev1/vvvq0%2BfPnrjjTdUW1ur6dOna/LkyaqoqNDChQu1ePFiVVZWSpJ2796tkpISvfDCC9q/f79GjBihadOm6csvv5QkrV69Wm63Wy6XSzt37pTP59P8%2BfPtfKkAACDEhGxgvfbaa5o1a5buvPNOxcbGatGiRVq0aJG2bNmiXr16KT8/X1FRURoyZIhyc3NVXl4uSXK5XJowYYIyMjIUHR2tqVOnSpL27NmjlpYWbdiwQdOnT9ctt9yi%2BPh4FRcXa%2B/evTpx4oSdLxcAAISQkAysEydO6OjRozp9%2BrRGjx7tv5R36tQpud1upaWlBTw%2BLS3Nfxnwm/vDw8PVv39/VVZW6siRIzpz5owGDBjg39%2B7d29FR0fL7XZb8%2BIAAEDIc9g9wLU4fvy4JGnHjh16/fXX5fP5VFRUpEWLFuncuXPq0aNHwOPj4%2BP991F5vV7FxcUF7I%2BLi5PH45HX65UkOZ3OgP1Op/Oq7sOqra1VXV1dwDaHo6uSk5PbfYz2iIgIyT4OGQ5Hx/7/Xlgf1ik4sT7BjfUJXqxN%2B4RkYPl8PknS1KlT/TH19NNP64knntCQIUPa/fXXuv9KXC6XSktLA7bNmDFDRUVFHTourJWQEGPkOE5nFyPHwfXB%2BgQ31id4sTaXF5KB1b17d0mBZ5pSUlLk8/l0/vx5/5moCzwejxITEyVJCQkJF%2B33er3q27ev/zFer1cxMV//4Xr69GklJSW1e76CggLl5uYGbHM4usrjaWj3MdqDnx6ur46uV0REuJzOLqqvb1Rra5uhqWAK6xPcWJ/gFWprY%2BqH5asVkoHVs2dPxcbG6tChQ/77pWpqanTTTTcpJydHmzZtCnh8VVWVMjIyJEnp6elyu90aP368JKm1tVUHDx5Ufn6%2BUlNTFRcXJ7fbrZSUFEnSp59%2BqubmZqWnp7d7vuTk5IsuB9bVnVFLS/B/I%2BJrptartbWNtQ9irE9wY32CF2tzeSF5CsThcCg/P19r167V//zP/%2BjkyZNas2aNxo4dq/Hjx6umpkbl5eVqamrSvn37tG/fPk2aNEmSVFhYqI0bN%2Brjjz9WY2OjysrKFBkZqeHDhysiIkKTJk3S2rVrdezYMXk8Hr344osaOXKk/6wZAADAlYTkGSxJmjNnjpqbmzVx4kSdP39eo0aN0qJFixQTE6OXX35Zzz77rJYuXaqUlBStWLFCd999tyQpOztbs2fPVnFxsU6ePKmBAwdq3bp1io6OliQVFRWpoaFBeXl5amlp0YgRI7RkyRIbXykAAAg1Yb6O3tGNdqmrO2P8mA5HuEaufM/4cfGV7cVDO/T1Dke4EhJi5PE0cBo9CLE%2BwY31CV6htjY339zNlucNyUuEAAAAwczywMrNzVVpaamOHTtm9VMDAABYwvLA%2Bt73vqdt27bpwQcf1NSpU7Vr1y61tLRYPQYAAMB1Y3lgzZgxQ9u2bdOvfvUr9e3bV88995xycnK0YsUKHT582OpxAAAAjLPtHqwBAwZo3rx52rNnjxYsWKBf/epXGj16tH74wx/qv/7rv%2BwaCwAAoMNsC6zz589r27ZteuKJJzRv3jz16NFD8%2BfPV//%2B/TVlyhRt2bLFrtEAAAA6xPLPwaqurtaGDRu0ceNGNTQ0aNSoUXrzzTf17W9/2/%2BYwYMHa8mSJRo7dqzV4wEAAHSY5YE1ZswY3XHHHXryySf1yCOPKD4%2B/qLH5OTk6NSpU1aPBgAAYITlgbV%2B/Xrdd999V3zcgQMHLJgGAADAPMvvwerXr5%2BmTZum3/zmN/5tb7zxhp544gl5vV6rxwEAADDO8sBatmyZzpw5oz59%2Bvi3DR8%2BXG1tbVq%2BfLnV4wAAABhn%2BSXC999/X1u2bFFCQoJ/W69evbRy5Ur93d/9ndXjAAAAGGf5Gaxz584pKirq4kHCw9XY2Gj1OAAAAMZZHliDBw/W8uXLdfr0af%2B2EydOaOnSpQEf1QAAABCqLL9EuGDBAj3%2B%2BOP6zne%2Bo9jYWLW1tamhoUGpqal66623rB4HAADAOMsDKzU1Vb/%2B9a/17rvv6siRIwoPD9cdd9yhYcOGKSIiwupxAAAAjLM8sCQpMjJSDz74oB1PDQAAcN1ZHlj/%2B7//q1WrVumzzz7TuXPnLtr/29/%2B1uqRAAAAjLLlHqza2loNGzZMXbt2tfrpAQAArjvLA6uqqkq//e1vlZiYaPVTAwAAWMLyj2lISkrizBUAALihWR5YTz75pEpLS%2BXz%2Bax%2BagAAAEtYfonw3Xff1R/%2B8Ae98847uvXWWxUeHth4b7/9ttUjAQAAGGV5YMXGxio7O9vqpwUAALCM5YG1bNkyq58SAADAUpbfgyVJf/rTn1RSUqL58%2Bf7t/3xj3%2B0YxQAAADjLA%2BsiooKjRs3Trt27dLWrVslffXho48%2B%2BigfMgoAAG4IlgfW6tWr9eMf/1hbtmxRWFiYpK9%2BP%2BHy5cu1Zs0aq8cBAAAwzvLA%2BvTTT1VYWChJ/sCSpIceekjV1dVWjwMAAGCc5YHVrVu3S/4OwtraWkVGRlo9DgAAgHGWB1ZmZqaee%2B45nT171r/t8OHDmjdvnr7zne9YPQ4AAIBxln9Mw/z58/XYY48pKytLra2tyszMVGNjo/r27avly5dbPQ4AAIBxlgdWz549tXXrVu3bt0%2BHDx9WdHS07rjjDg0dOjTgniwAAIBQZXlgSdJNN92kBx980I6nBgAAuO4sD6zc3NzLnqnis7AAAECoszywRo8eHRBYra2tOnz4sCorK/XYY49ZPQ7wVz38sw/sHuGqbC8eavcIAID/Y3lgzZ0795Lbd%2B7cqQ8//NDiaQAAAMyz5XcRXsqDDz6oX//613aPAQAA0GFBE1gHDx6Uz%2BezewwAAIAOs/wS4eTJky/a1tjYqOrqav3t3/6t1eMAAAAYZ3lg9erV66K/RRgVFaX8/HxNnDjR6nEAAACMszyw%2BLR2AABwo7M8sDZu3Njuxz7yyCPXcRIAAIDrw/LAWrhwodra2i66oT0sLCxgW1hYGIEFAABCkuWB9eqrr%2Bq1117TtGnT1K9fP/l8Pn3yySd65ZVX9Pd///fKysqyeiQAAACjbLkHa926derRo4d/27333qvU1FT98Ic/1NatW60eCQAAwCjLPwfriy%2B%2BUFxc3EXbnU6nampqrB4HAADAOMsDKyUlRcuXL5fH4/Fvq6%2Bv16pVq3TbbbdZPQ4AAIBxll8iXLBggebMmSOXy6WYmBiFh4fr7Nmzio6O1po1a6weBwAAwDjLA2vYsGHau3ev9u3bp%2BPHj8vn86lHjx564IEH1K1bN6vHAQAAMM7ywJKkLl266Lvf/a6OHz%2Bu1NRUO0YAAAC4biy/B%2BvcuXOaN2%2BeBg0apIcffljSV/dgTZ06VfX19VaPAwAAYJzlgbVixQodOnRIK1euVHj410/f2tqqlStXWj0OAACAcZYH1s6dO/Xzn/9cDz30kP%2BXPjudTi1btky7du2yehwAAADjLA%2BshoYG9erV66LtiYmJ%2BvLLL60eBwAAwDjLA%2Bu2227Thx9%2BKEkBv3twx44d%2Bpu/%2BRurxwEAADDO8sD6/ve/r6efflrPP/%2B82tra9Prrr2vOnDlasGCBHnvssWs65nPPPad%2B/fr5/7uiokL5%2BfnKzMzUmDFjtHnz5oDHr1%2B/XqNGjVJmZqYKCwtVVVXl39fU1KRnnnlG2dnZysrKUlFRUcCHogIAAFyJ5YFVUFCgefPm6Xe/%2B50iIiK0du1a1dTUaOXKlSosLLzq4x06dEibNm3y/3dtba2mT5%2BuyZMnq6KiQgsXLtTixYtVWVkpSdq9e7dKSkr0wgsvaP/%2B/RoxYoSmTZvmvzy5evVqud1uuVwu7dy5Uz6fT/Pnzzfz4gEAQKdgeWCdOnVK3/ve9/Tv//7vOnDggD788EO9/fbbeuihh676WG1tbfrJT36iKVOm%2BLdt2bJFvXr1Un5%2BvqKiojRkyBDl5uaqvLxckuRyuTRhwgRlZGQoOjpaU6dOlSTt2bNHLS0t2rBhg6ZPn65bbrlF8fHxKi4u1t69e3XixAkjrx8AANz4LA%2Bs7373uwH3XnXE22%2B/raioKI0dO9a/ze12Ky0tLeBxaWlp/suA39wfHh6u/v37q7KyUkeOHNGZM2c0YMAA//7evXsrOjpabrfbyMwAAODGZ/knuWdlZWn79u0aPXp0h47z5z//WSUlJXrrrbcCtnu9XvXo0SNgW3x8vP8%2BKq/Xq7i4uID9cXFx8ng88nq9kr762Ii/5HQ6r%2Bo%2BrNraWtXV1QVsczi6Kjk5ud3HaI%2BICMv7GEHM4eD74WpceP/wPgpOrE/wYm3ax/LAuuWWW/TTn/5U69at02233aabbropYP%2BqVavadZxly5ZpwoQJ6tOnj44ePXpVM1zpDFpHz7C5XC6VlpYGbJsxY4aKioo6dFzgchISYuweISQ5nV3sHgGXwfoEL9bm8iwPrM8//1x33nmnJF3z386rqKjQH//4R23duvWifQkJCf4zURd4PB4lJib%2B1f1er1d9%2B/b1P8br9Som5us/rE6fPq2kpKR2z1dQUKDc3NyAbQ5HV3k8De0%2BRnvw0wP%2BkunvrxtdRES4nM4uqq9vVGtrm93j4BtYn%2BAVamtj1w%2BflgXWrFmztHr16oBLemvWrNGMGTOu%2BlibN2/WyZMnNWLECElfn3HKysrS448/flF4VVVVKSMjQ5KUnp4ut9ut8ePHS/rqV/QcPHhQ%2Bfn5Sk1NVVxcnNxut1JSUiRJn376qZqbm5Went7u%2BZKTky%2B6HFhXd0YtLcH/jYjQxffXtWltbeP/XRBjfYIXa3N5lp0C2b1790Xb1q1bd03H%2Bqd/%2Bift3LlTmzZt0qZNm/zH2bRpk8aOHauamhqVl5erqalJ%2B/bt0759%2BzRp0iRJUmFhoTZu3KiPP/5YjY2NKisrU2RkpIYPH66IiAhNmjRJa9eu1bFjx%2BTxePTiiy9q5MiR6t69%2B7W/eAAA0KlYdgbrUvc1Xeu9TnFxcQE3qre0tEiSevbsKUl6%2BeWX9eyzz2rp0qVKSUnRihUrdPfdd0uSsrOzNXv2bBUXF%2BvkyZMaOHCg1q1bp%2BjoaElSUVGRGhoalJeXp5aWFo0YMUJLliy5pjkBAEDnFOYz9ZkJV5CRkaEDBw5ccduNqq7ujPFjOhzhGrnyPePHRWjaXjzU7hFCisMRroSEGHk8DVzmCEKsT/AKtbW5%2BeZutjwvd0kDAAAYRmABAAAYZtk9WOfPn9ecOXOuuK29n4MFAAAQrCwLrG9/%2B9uqra294jYAAIBQZ1lgffNX2gAAANyouAcLAADAMAILAADAMAILAADAMAILAADAMAILAADAMAILAADAMAILAADAMAILAADAMAILAADAMAILAADAMAILAADAMAILAADAMAILAADAMAILAADAMAILAADAMAILAADAMAILAADAMAILAADAMAILAADAMAILAADAMAILAADAMAILAADAMAILAADAMAILAADAMAILAADAMAILAADAMAILAADAMAILAADAMAILAADAMAILAADAMAILAADAMAILAADAMAILAADAMAILAADAMAILAADAMAILAADAMAILAADAMAILAADAMAILAADAMAILAADAMAILAADAMAILAADAMAILAADAMAILAADAMAILAADAMAILAADAMAILAADAMAILAADAMAILAADAMAILAADAMAILAADAMIfdA1yrmpoaPffcc/roo48UERGh7OxsLViwQE6nU4cOHdJPf/pTHTp0SElJSZo8ebIef/xx/9du27ZNZWVlOnr0qO644w7Nnj1bw4YNkyS1tbXppZde0tatW1VfX69vfetbWrJkiVJTU%2B16qUC7PPyzD%2Bweod22Fw%2B1ewQAuK5C9gzWtGnT5HQ6tXv3br3zzjv67LPP9Pzzz%2BvcuXN68skndf/99%2Bu9997T6tWr9fLLL2vXrl2SpEOHDmnevHmaO3eufve732nKlCmaOXOmjh8/Lkn65S9/qS1btmjdunXas2ePevXqpRkzZsjn89n5cgEAQAgJycCqr69Xenq65syZo5iYGPXs2VPjx4/XRx99pL179%2Br8%2BfN66qmn1LVrVw0YMEATJ06Uy%2BWSJJWXlysnJ0c5OTmKiorSuHHjdNddd2nz5s2SJJfLpSlTpqh3796KjY3VrFmzVF1drQMHDtj5kgEAQAgJyUuETqdTy5YtC9h27NgxJScny%2B12q1%2B/foqIiPDvS0tLU3l5uSTJ7XYrJycn4GvT0tJUWVmpc%2BfO6fPPP1daWpp/X2xsrG6//XZVVlbqnnvuadd8tbW1qqurC9jmcHRVcnLyVb3OK4mICMk%2BBuRw2P%2B9e%2BH9w/soOLE%2BwYu1aZ%2BQDKxvqqys1C9%2B8QuVlZVp%2B/btcjqdAfvj4%2BPl9XrV1tYmr9eruLi4gP1xcXH6/PPPdfr0afl8vkvu93g87Z7H5XKptLQ0YNuMGTNUVFR0la8MuDElJMTYPYKf09nF7hFwGaxP8GJtLi/kA%2Bs///M/9dRTT2nOnDkaMmSItm/ffsnHhYWF%2Bf/9SvdTdfR%2Bq4KCAuXm5gZsczi6yuNp6NBxv4mfHhCqTL8XrkVERLiczi6qr29Ua2ub3ePgG1if4BVqa2PXD3QhHVi7d%2B/Wj3/8Yy1evFiPPPKIJCkxMVFffPFFwOO8Xq/i4%2BMVHh6uhIQEeb3ei/YnJib6H3Op/UlJSe2eKzk5%2BaLLgXV1Z9TSEvzfiIAVgum90NraFlTzIBDrE7xYm8sL2VMgf/jDHzRv3jy99NJL/riSpPT0dH3yySdqaWnxb6usrFRGRoZ/f1VVVcCxLuyPiopS37595Xa7/fvq6%2Bt15MgRfetb37rOrwgAANwoQjKwWlpatGjRIs2dO9f/%2BVUX5OTkKDY2VmVlZWpsbNSBAwe0YcMGFRYWSpImTZqk/fv3a%2B/evWpqatKGDRv0xRdfaNy4cZKkwsJCrV%2B/XtXV1Tp79qxWrlyp/v37a%2BDAgZa/TgAAEJrCfCH4AU8fffSRfvCDHygyMvKifTt27FBDQ4N%2B8pOfqKqqSt27d9cTTzyh73//%2B/7H7Nq1S6tWrVJNTY369OmjhQsXavDgwZK%2Buv%2BqpKREb7/9thoaGpSVlaV//ud/Vs%2BePTs0c13dmQ59/aU4HOEaufI948cFrrdg%2BKBRhyNcCQkx8ngauMwRhFif4BVqa3Pzzd1sed6QDKxQRGABXyOwcCWsT/AKtbWxK7BC8hIhAABAMCOwAAAADCOwAAAADCOwAAAADCOwAAAADCOwAAAADCOwAAAADCOwAAAADCOwAAAADCOwAAAADCOwAAAADCOwAAAADCOwAAAADCOwAAAADCOwAAAADCOwAAAADCOwAAAADCOwAAAADCOwAAAADCOwAAAADCOwAAAADCOwAAAADCOwAAAADCOwAAAADCOwAAAADCOwAAAADCOwAAAADCOwAAAADCOwAAAADCOwAAAADCOwAAAADCOwAAAADCOwAAAADCOwAAAADCOwAAAADCOwAAAADCOwAAAADCOwAAAADCOwAAAADCOwAAAADCOwAAAADCOwAAAADHPYPQCAzufhn31g9whXZXvxULtHABBiOIMFAABgGIEFAABgGIEFAABgGIEFAABgGIEFAABgGIEFAABgGIEFAABgGIEFAABgGIEFAABgGIEFAABgGIEFAABgGIEFAABgGIEFAABgmMPuAQAg2D38sw/sHuGqbC8eavcIQKfHGSwAAADDCCwAAADDuER4HdTW1qquri5gm8PRVcnJyUafJyKCPgZwsVC7pBlK/t/cB%2BwewXYX/uzhz6DLI7CuA5fLpdLS0oCjH5UQAAAGDklEQVRtM2fO1NNPP230eWpra/VYz89UUFBgPN7QcbW1tXK5XKxPkGJ9ghvrE7xqa2v15puvsjZXQH5eBwUFBXrnnXcC/ikoKDD%2BPHV1dSotLb3obBmCA%2BsT3Fif4Mb6BC/Wpn04g3UdJCcnU/UAAHRinMECAAAwjMACAAAwLGLJkiVL7B4C1y4mJkb33XefYmJi7B4Fl8D6BDfWJ7ixPsGLtbmyMJ/P57N7CAAAgBsJlwgBAAAMI7AAAAAMI7AAAAAMI7AAAAAMI7AAAAAMI7AAAAAMI7AAAAAMI7AAAAAMI7AAAAAMI7BuADU1NfrRj36krKwsjRgxQitWrFBbW5vdY3Va/fr1U3p6ugYOHOj/51/%2B5V/sHqtTe%2B%2B99zRkyBDNmjXron3btm3T2LFjNWjQIE2YMEHvv/%2B%2BDRN2bn9tfUpKStS/f/%2BA99LAgQP15z//2aZJO5/S0lI9/PDDGjRokHJzc1VaWmr3SCHDYfcA6Linn35aAwYM0G9%2B8xudPHlSTz75pLp3765/%2BId/sHu0TmvHjh269dZb7R4Dkl555RVt2LBBt99%2B%2B0X7Dh06pHnz5qm0tFT333%2B/du7cqZkzZ2rHjh3q2bOnDdN2PpdbH0nKy8vT8uXLLZ4KkvT73/9e//qv/6qFCxcqLy9Pb7zxhl599VWlpqYqLy/P7vGCHmewQlxlZaX%2B%2B7//W3PnzlW3bt3Uq1cvTZkyRS6Xy%2B7RgKAQFRX1V/8ALy8vV05OjnJychQVFaVx48bprrvu0ubNm22YtHO63PrAXq%2B88oruvfde/eAHP1BsbKxmzpypqKgoLVy40O7RQgKBFeLcbrdSUlIUFxfn3zZgwAAdPnxYZ8%2BetXGyzm3VqlUaPny47r33Xi1evFgNDQ12j9RpPfroo%2BrWrdsl97ndbqWlpQVsS0tLU2VlpRWjQZdfH0n65JNPNHnyZGVmZmrMmDF69913LZyuczt9%2BrTuv//%2BgG0xMTE6f/68TROFFgIrxHm9XjmdzoBtF2LL4/HYMVKnd88992jIkCHatWuXXC6XPv74Yy1dutTusXAJXq834IcT6av3D%2B%2Bd4NCzZ0%2Blpqbq%2Beef1wcffKCJEyfqqaeeUnV1td2jdQrffH%2B89dZbamho0J133mnjVKGDwLoB%2BHw%2Bu0fAX3C5XJo4caIiIyPVu3dvzZ07V1u3blVzc7Pdo%2BESeP8Er4kTJ%2BrnP/%2B5br/9dnXp0kVTpkxRWlqatmzZYvdoncaF98cvfvELvfTSS7rrrruUlJRk81ShgcAKcYmJifJ6vQHbvF6vwsLClJiYaNNU%2BEu33nqrWltbdfLkSbtHwTckJCRc8v3Deyd4paSkqLa21u4xOoUL74/Vq1dr7dq1Wr9%2Bve68807eH%2B1EYIW49PR0HTt2TKdOnfJvq6ysVJ8%2BfRQTE2PjZJ3TwYMHL/obT9XV1YqMjFRycrJNU%2BGvSU9PV1VVVcC2yspKZWRk2DQR/lJZWZkqKioCtlVXVys1NdWmiTqX9PR0vfbaa9q6datcLpf//kTeH%2B1DYIW4tLQ0DRw4UKtWrdLZs2dVXV2t119/XYWFhXaP1iklJSXJ5XJp3bp1am5u1uHDh/XSSy%2BpoKBAERERdo%2BHb5g0aZL279%2BvvXv3qqmpSRs2bNAXX3yhcePG2T0aJNXX12vp0qX605/%2BpKamJr322ms6cuSIxo8fb/donUJ%2Bfr5aWlr06KOPqnv37rw/rlKYjxsQQt7x48e1ePFi/cd//IdiY2M1efJkzZw5U2FhYXaP1in9/ve/16pVq/TJJ58oMjJS48eP16xZsxQVFWX3aJ3SwIEDJUktLS2SJIfjq4//u/A3BXft2qVVq1appqZGffr00cKFCzV48GB7hu2ELrc%2Bzc3NWrlypXbs2CGv16s%2Bffpo8eLFGjRokG3zdiZr1qxRSUmJf03Onz%2BvsLAw3X777dq5c6fN0wU/AgsAAMAwLhECAAAYRmABAAAYRmABAAAYRmABAAAYRmABAAAYRmABAAAYRmABAAAYRmABAAAYRmABAAAYRmABAAAYRmABAAAYRmABAAAYRmABAAAY9v8BfakT38YD2iwAAAAASUVORK5CYII%3D\"/>\n",
              "        </div>\n",
              "        <div role=\"tabpanel\" class=\"tab-pane col-md-12\" id=\"common-5373361503933475749\">\n",
              "            \n",
              "<table class=\"freq table table-hover\">\n",
              "    <thead>\n",
              "    <tr>\n",
              "        <td class=\"fillremaining\">Value</td>\n",
              "        <td class=\"number\">Count</td>\n",
              "        <td class=\"number\">Frequency (%)</td>\n",
              "        <td style=\"min-width:200px\">&nbsp;</td>\n",
              "    </tr>\n",
              "    </thead>\n",
              "    <tr class=\"\">\n",
              "        <td class=\"fillremaining\">2.0</td>\n",
              "        <td class=\"number\">5132</td>\n",
              "        <td class=\"number\">21.8%</td>\n",
              "        <td>\n",
              "            <div class=\"bar\" style=\"width:100%\">&nbsp;</div>\n",
              "        </td>\n",
              "</tr><tr class=\"\">\n",
              "        <td class=\"fillremaining\">1.0</td>\n",
              "        <td class=\"number\">3967</td>\n",
              "        <td class=\"number\">16.9%</td>\n",
              "        <td>\n",
              "            <div class=\"bar\" style=\"width:77%\">&nbsp;</div>\n",
              "        </td>\n",
              "</tr><tr class=\"\">\n",
              "        <td class=\"fillremaining\">3.0</td>\n",
              "        <td class=\"number\">3535</td>\n",
              "        <td class=\"number\">15.0%</td>\n",
              "        <td>\n",
              "            <div class=\"bar\" style=\"width:69%\">&nbsp;</div>\n",
              "        </td>\n",
              "</tr><tr class=\"\">\n",
              "        <td class=\"fillremaining\">4.0</td>\n",
              "        <td class=\"number\">3211</td>\n",
              "        <td class=\"number\">13.6%</td>\n",
              "        <td>\n",
              "            <div class=\"bar\" style=\"width:62%\">&nbsp;</div>\n",
              "        </td>\n",
              "</tr><tr class=\"\">\n",
              "        <td class=\"fillremaining\">5.0</td>\n",
              "        <td class=\"number\">2727</td>\n",
              "        <td class=\"number\">11.6%</td>\n",
              "        <td>\n",
              "            <div class=\"bar\" style=\"width:53%\">&nbsp;</div>\n",
              "        </td>\n",
              "</tr><tr class=\"\">\n",
              "        <td class=\"fillremaining\">6.0</td>\n",
              "        <td class=\"number\">2031</td>\n",
              "        <td class=\"number\">8.6%</td>\n",
              "        <td>\n",
              "            <div class=\"bar\" style=\"width:40%\">&nbsp;</div>\n",
              "        </td>\n",
              "</tr><tr class=\"\">\n",
              "        <td class=\"fillremaining\">7.0</td>\n",
              "        <td class=\"number\">1383</td>\n",
              "        <td class=\"number\">5.9%</td>\n",
              "        <td>\n",
              "            <div class=\"bar\" style=\"width:27%\">&nbsp;</div>\n",
              "        </td>\n",
              "</tr><tr class=\"\">\n",
              "        <td class=\"fillremaining\">8.0</td>\n",
              "        <td class=\"number\">741</td>\n",
              "        <td class=\"number\">3.1%</td>\n",
              "        <td>\n",
              "            <div class=\"bar\" style=\"width:15%\">&nbsp;</div>\n",
              "        </td>\n",
              "</tr><tr class=\"\">\n",
              "        <td class=\"fillremaining\">9.0</td>\n",
              "        <td class=\"number\">356</td>\n",
              "        <td class=\"number\">1.5%</td>\n",
              "        <td>\n",
              "            <div class=\"bar\" style=\"width:7%\">&nbsp;</div>\n",
              "        </td>\n",
              "</tr><tr class=\"\">\n",
              "        <td class=\"fillremaining\">10.0</td>\n",
              "        <td class=\"number\">192</td>\n",
              "        <td class=\"number\">0.8%</td>\n",
              "        <td>\n",
              "            <div class=\"bar\" style=\"width:4%\">&nbsp;</div>\n",
              "        </td>\n",
              "</tr><tr class=\"other\">\n",
              "        <td class=\"fillremaining\">Other values (11)</td>\n",
              "        <td class=\"number\">221</td>\n",
              "        <td class=\"number\">0.9%</td>\n",
              "        <td>\n",
              "            <div class=\"bar\" style=\"width:5%\">&nbsp;</div>\n",
              "        </td>\n",
              "</tr>\n",
              "</table>\n",
              "        </div>\n",
              "        <div role=\"tabpanel\" class=\"tab-pane col-md-12\"  id=\"extreme-5373361503933475749\">\n",
              "            <p class=\"h4\">Minimum 5 values</p>\n",
              "            \n",
              "<table class=\"freq table table-hover\">\n",
              "    <thead>\n",
              "    <tr>\n",
              "        <td class=\"fillremaining\">Value</td>\n",
              "        <td class=\"number\">Count</td>\n",
              "        <td class=\"number\">Frequency (%)</td>\n",
              "        <td style=\"min-width:200px\">&nbsp;</td>\n",
              "    </tr>\n",
              "    </thead>\n",
              "    <tr class=\"\">\n",
              "        <td class=\"fillremaining\">0.0</td>\n",
              "        <td class=\"number\">36</td>\n",
              "        <td class=\"number\">0.2%</td>\n",
              "        <td>\n",
              "            <div class=\"bar\" style=\"width:1%\">&nbsp;</div>\n",
              "        </td>\n",
              "</tr><tr class=\"\">\n",
              "        <td class=\"fillremaining\">1.0</td>\n",
              "        <td class=\"number\">3967</td>\n",
              "        <td class=\"number\">16.9%</td>\n",
              "        <td>\n",
              "            <div class=\"bar\" style=\"width:77%\">&nbsp;</div>\n",
              "        </td>\n",
              "</tr><tr class=\"\">\n",
              "        <td class=\"fillremaining\">2.0</td>\n",
              "        <td class=\"number\">5132</td>\n",
              "        <td class=\"number\">21.8%</td>\n",
              "        <td>\n",
              "            <div class=\"bar\" style=\"width:100%\">&nbsp;</div>\n",
              "        </td>\n",
              "</tr><tr class=\"\">\n",
              "        <td class=\"fillremaining\">3.0</td>\n",
              "        <td class=\"number\">3535</td>\n",
              "        <td class=\"number\">15.0%</td>\n",
              "        <td>\n",
              "            <div class=\"bar\" style=\"width:69%\">&nbsp;</div>\n",
              "        </td>\n",
              "</tr><tr class=\"\">\n",
              "        <td class=\"fillremaining\">4.0</td>\n",
              "        <td class=\"number\">3211</td>\n",
              "        <td class=\"number\">13.6%</td>\n",
              "        <td>\n",
              "            <div class=\"bar\" style=\"width:62%\">&nbsp;</div>\n",
              "        </td>\n",
              "</tr>\n",
              "</table>\n",
              "            <p class=\"h4\">Maximum 5 values</p>\n",
              "            \n",
              "<table class=\"freq table table-hover\">\n",
              "    <thead>\n",
              "    <tr>\n",
              "        <td class=\"fillremaining\">Value</td>\n",
              "        <td class=\"number\">Count</td>\n",
              "        <td class=\"number\">Frequency (%)</td>\n",
              "        <td style=\"min-width:200px\">&nbsp;</td>\n",
              "    </tr>\n",
              "    </thead>\n",
              "    <tr class=\"\">\n",
              "        <td class=\"fillremaining\">16.0</td>\n",
              "        <td class=\"number\">4</td>\n",
              "        <td class=\"number\">0.0%</td>\n",
              "        <td>\n",
              "            <div class=\"bar\" style=\"width:100%\">&nbsp;</div>\n",
              "        </td>\n",
              "</tr><tr class=\"\">\n",
              "        <td class=\"fillremaining\">17.0</td>\n",
              "        <td class=\"number\">1</td>\n",
              "        <td class=\"number\">0.0%</td>\n",
              "        <td>\n",
              "            <div class=\"bar\" style=\"width:25%\">&nbsp;</div>\n",
              "        </td>\n",
              "</tr><tr class=\"\">\n",
              "        <td class=\"fillremaining\">18.0</td>\n",
              "        <td class=\"number\">1</td>\n",
              "        <td class=\"number\">0.0%</td>\n",
              "        <td>\n",
              "            <div class=\"bar\" style=\"width:25%\">&nbsp;</div>\n",
              "        </td>\n",
              "</tr><tr class=\"\">\n",
              "        <td class=\"fillremaining\">20.0</td>\n",
              "        <td class=\"number\">1</td>\n",
              "        <td class=\"number\">0.0%</td>\n",
              "        <td>\n",
              "            <div class=\"bar\" style=\"width:25%\">&nbsp;</div>\n",
              "        </td>\n",
              "</tr><tr class=\"\">\n",
              "        <td class=\"fillremaining\">21.0</td>\n",
              "        <td class=\"number\">1</td>\n",
              "        <td class=\"number\">0.0%</td>\n",
              "        <td>\n",
              "            <div class=\"bar\" style=\"width:25%\">&nbsp;</div>\n",
              "        </td>\n",
              "</tr>\n",
              "</table>\n",
              "        </div>\n",
              "    </div>\n",
              "</div>\n",
              "</div><div class=\"row variablerow\">\n",
              "    <div class=\"col-md-3 namecol\">\n",
              "        <p class=\"h4 pp-anchor\" id=\"pp_var_marital_status\">marital_status<br/>\n",
              "            <small>Categorical</small>\n",
              "        </p>\n",
              "    </div><div class=\"col-md-3\">\n",
              "    <table class=\"stats \">\n",
              "        <tr class=\"\">\n",
              "            <th>Distinct count</th>\n",
              "            <td>6</td>\n",
              "        </tr>\n",
              "        <tr>\n",
              "            <th>Unique (%)</th>\n",
              "            <td>0.0%</td>\n",
              "        </tr>\n",
              "        <tr class=\"ignore\">\n",
              "            <th>Missing (%)</th>\n",
              "            <td>0.1%</td>\n",
              "        </tr>\n",
              "        <tr class=\"ignore\">\n",
              "            <th>Missing (n)</th>\n",
              "            <td>32</td>\n",
              "        </tr>\n",
              "    </table>\n",
              "</div>\n",
              "<div class=\"col-md-6 collapse in\" id=\"minifreqtable1251190444613047520\">\n",
              "    <table class=\"mini freq\">\n",
              "        <tr class=\"\">\n",
              "    <th>Married/Living together</th>\n",
              "    <td>\n",
              "        <div class=\"bar\" style=\"width:100%\" data-toggle=\"tooltip\" data-placement=\"right\" data-html=\"true\"\n",
              "             data-delay=500 title=\"Percentage: 45.7%\">\n",
              "            10739\n",
              "        </div>\n",
              "        \n",
              "    </td>\n",
              "</tr><tr class=\"\">\n",
              "    <th>Single/Never Married</th>\n",
              "    <td>\n",
              "        <div class=\"bar\" style=\"width:74%\" data-toggle=\"tooltip\" data-placement=\"right\" data-html=\"true\"\n",
              "             data-delay=500 title=\"Percentage: 33.9%\">\n",
              "            7971\n",
              "        </div>\n",
              "        \n",
              "    </td>\n",
              "</tr><tr class=\"\">\n",
              "    <th>Widowed</th>\n",
              "    <td>\n",
              "        <div class=\"bar\" style=\"width:25%\" data-toggle=\"tooltip\" data-placement=\"right\" data-html=\"true\"\n",
              "             data-delay=500 title=\"Percentage: 11.5%\">\n",
              "            2702\n",
              "        </div>\n",
              "        \n",
              "    </td>\n",
              "</tr><tr class=\"other\">\n",
              "    <th>Other values (2)</th>\n",
              "    <td>\n",
              "        <div class=\"bar\" style=\"width:20%\" data-toggle=\"tooltip\" data-placement=\"right\" data-html=\"true\"\n",
              "             data-delay=500 title=\"Percentage: 8.8%\">\n",
              "            &nbsp;\n",
              "        </div>\n",
              "        2080\n",
              "    </td>\n",
              "</tr>\n",
              "    </table>\n",
              "</div>\n",
              "<div class=\"col-md-12 text-right\">\n",
              "    <a role=\"button\" data-toggle=\"collapse\" data-target=\"#freqtable1251190444613047520, #minifreqtable1251190444613047520\"\n",
              "       aria-expanded=\"true\" aria-controls=\"collapseExample\">\n",
              "        Toggle details\n",
              "    </a>\n",
              "</div>\n",
              "<div class=\"col-md-12 extrapadding collapse\" id=\"freqtable1251190444613047520\">\n",
              "    \n",
              "<table class=\"freq table table-hover\">\n",
              "    <thead>\n",
              "    <tr>\n",
              "        <td class=\"fillremaining\">Value</td>\n",
              "        <td class=\"number\">Count</td>\n",
              "        <td class=\"number\">Frequency (%)</td>\n",
              "        <td style=\"min-width:200px\">&nbsp;</td>\n",
              "    </tr>\n",
              "    </thead>\n",
              "    <tr class=\"\">\n",
              "        <td class=\"fillremaining\">Married/Living together</td>\n",
              "        <td class=\"number\">10739</td>\n",
              "        <td class=\"number\">45.7%</td>\n",
              "        <td>\n",
              "            <div class=\"bar\" style=\"width:100%\">&nbsp;</div>\n",
              "        </td>\n",
              "</tr><tr class=\"\">\n",
              "        <td class=\"fillremaining\">Single/Never Married</td>\n",
              "        <td class=\"number\">7971</td>\n",
              "        <td class=\"number\">33.9%</td>\n",
              "        <td>\n",
              "            <div class=\"bar\" style=\"width:74%\">&nbsp;</div>\n",
              "        </td>\n",
              "</tr><tr class=\"\">\n",
              "        <td class=\"fillremaining\">Widowed</td>\n",
              "        <td class=\"number\">2702</td>\n",
              "        <td class=\"number\">11.5%</td>\n",
              "        <td>\n",
              "            <div class=\"bar\" style=\"width:25%\">&nbsp;</div>\n",
              "        </td>\n",
              "</tr><tr class=\"\">\n",
              "        <td class=\"fillremaining\">Divorced/Seperated</td>\n",
              "        <td class=\"number\">2072</td>\n",
              "        <td class=\"number\">8.8%</td>\n",
              "        <td>\n",
              "            <div class=\"bar\" style=\"width:20%\">&nbsp;</div>\n",
              "        </td>\n",
              "</tr><tr class=\"\">\n",
              "        <td class=\"fillremaining\">Dont know</td>\n",
              "        <td class=\"number\">8</td>\n",
              "        <td class=\"number\">0.0%</td>\n",
              "        <td>\n",
              "            <div class=\"bar\" style=\"width:1%\">&nbsp;</div>\n",
              "        </td>\n",
              "</tr><tr class=\"missing\">\n",
              "        <td class=\"fillremaining\">(Missing)</td>\n",
              "        <td class=\"number\">32</td>\n",
              "        <td class=\"number\">0.1%</td>\n",
              "        <td>\n",
              "            <div class=\"bar\" style=\"width:1%\">&nbsp;</div>\n",
              "        </td>\n",
              "</tr>\n",
              "</table>\n",
              "</div>\n",
              "</div><div class=\"row variablerow\">\n",
              "    <div class=\"col-md-3 namecol\">\n",
              "        <p class=\"h4 pp-anchor\" id=\"pp_var_uniqueid\">uniqueid<br/>\n",
              "            <small>Categorical</small>\n",
              "        </p>\n",
              "    </div><div class=\"col-md-3\">\n",
              "    <table class=\"stats \">\n",
              "        <tr class=\"alert\">\n",
              "            <th>Distinct count</th>\n",
              "            <td>8735</td>\n",
              "        </tr>\n",
              "        <tr>\n",
              "            <th>Unique (%)</th>\n",
              "            <td>37.1%</td>\n",
              "        </tr>\n",
              "        <tr class=\"ignore\">\n",
              "            <th>Missing (%)</th>\n",
              "            <td>0.0%</td>\n",
              "        </tr>\n",
              "        <tr class=\"ignore\">\n",
              "            <th>Missing (n)</th>\n",
              "            <td>0</td>\n",
              "        </tr>\n",
              "    </table>\n",
              "</div>\n",
              "<div class=\"col-md-6 collapse in\" id=\"minifreqtable-3938127681706057304\">\n",
              "    <table class=\"mini freq\">\n",
              "        <tr class=\"\">\n",
              "    <th>uniqueid_86</th>\n",
              "    <td>\n",
              "        <div class=\"bar\" style=\"width:1%\" data-toggle=\"tooltip\" data-placement=\"right\" data-html=\"true\"\n",
              "             data-delay=500 title=\"Percentage: 0.0%\">\n",
              "            &nbsp;\n",
              "        </div>\n",
              "        4\n",
              "    </td>\n",
              "</tr><tr class=\"\">\n",
              "    <th>uniqueid_705</th>\n",
              "    <td>\n",
              "        <div class=\"bar\" style=\"width:1%\" data-toggle=\"tooltip\" data-placement=\"right\" data-html=\"true\"\n",
              "             data-delay=500 title=\"Percentage: 0.0%\">\n",
              "            &nbsp;\n",
              "        </div>\n",
              "        4\n",
              "    </td>\n",
              "</tr><tr class=\"\">\n",
              "    <th>uniqueid_1276</th>\n",
              "    <td>\n",
              "        <div class=\"bar\" style=\"width:1%\" data-toggle=\"tooltip\" data-placement=\"right\" data-html=\"true\"\n",
              "             data-delay=500 title=\"Percentage: 0.0%\">\n",
              "            &nbsp;\n",
              "        </div>\n",
              "        4\n",
              "    </td>\n",
              "</tr><tr class=\"other\">\n",
              "    <th>Other values (8732)</th>\n",
              "    <td>\n",
              "        <div class=\"bar\" style=\"width:100%\" data-toggle=\"tooltip\" data-placement=\"right\" data-html=\"true\"\n",
              "             data-delay=500 title=\"Percentage: 99.9%\">\n",
              "            23512\n",
              "        </div>\n",
              "        \n",
              "    </td>\n",
              "</tr>\n",
              "    </table>\n",
              "</div>\n",
              "<div class=\"col-md-12 text-right\">\n",
              "    <a role=\"button\" data-toggle=\"collapse\" data-target=\"#freqtable-3938127681706057304, #minifreqtable-3938127681706057304\"\n",
              "       aria-expanded=\"true\" aria-controls=\"collapseExample\">\n",
              "        Toggle details\n",
              "    </a>\n",
              "</div>\n",
              "<div class=\"col-md-12 extrapadding collapse\" id=\"freqtable-3938127681706057304\">\n",
              "    \n",
              "<table class=\"freq table table-hover\">\n",
              "    <thead>\n",
              "    <tr>\n",
              "        <td class=\"fillremaining\">Value</td>\n",
              "        <td class=\"number\">Count</td>\n",
              "        <td class=\"number\">Frequency (%)</td>\n",
              "        <td style=\"min-width:200px\">&nbsp;</td>\n",
              "    </tr>\n",
              "    </thead>\n",
              "    <tr class=\"\">\n",
              "        <td class=\"fillremaining\">uniqueid_86</td>\n",
              "        <td class=\"number\">4</td>\n",
              "        <td class=\"number\">0.0%</td>\n",
              "        <td>\n",
              "            <div class=\"bar\" style=\"width:1%\">&nbsp;</div>\n",
              "        </td>\n",
              "</tr><tr class=\"\">\n",
              "        <td class=\"fillremaining\">uniqueid_705</td>\n",
              "        <td class=\"number\">4</td>\n",
              "        <td class=\"number\">0.0%</td>\n",
              "        <td>\n",
              "            <div class=\"bar\" style=\"width:1%\">&nbsp;</div>\n",
              "        </td>\n",
              "</tr><tr class=\"\">\n",
              "        <td class=\"fillremaining\">uniqueid_1276</td>\n",
              "        <td class=\"number\">4</td>\n",
              "        <td class=\"number\">0.0%</td>\n",
              "        <td>\n",
              "            <div class=\"bar\" style=\"width:1%\">&nbsp;</div>\n",
              "        </td>\n",
              "</tr><tr class=\"\">\n",
              "        <td class=\"fillremaining\">uniqueid_1812</td>\n",
              "        <td class=\"number\">4</td>\n",
              "        <td class=\"number\">0.0%</td>\n",
              "        <td>\n",
              "            <div class=\"bar\" style=\"width:1%\">&nbsp;</div>\n",
              "        </td>\n",
              "</tr><tr class=\"\">\n",
              "        <td class=\"fillremaining\">uniqueid_1420</td>\n",
              "        <td class=\"number\">4</td>\n",
              "        <td class=\"number\">0.0%</td>\n",
              "        <td>\n",
              "            <div class=\"bar\" style=\"width:1%\">&nbsp;</div>\n",
              "        </td>\n",
              "</tr><tr class=\"\">\n",
              "        <td class=\"fillremaining\">uniqueid_696</td>\n",
              "        <td class=\"number\">4</td>\n",
              "        <td class=\"number\">0.0%</td>\n",
              "        <td>\n",
              "            <div class=\"bar\" style=\"width:1%\">&nbsp;</div>\n",
              "        </td>\n",
              "</tr><tr class=\"\">\n",
              "        <td class=\"fillremaining\">uniqueid_1771</td>\n",
              "        <td class=\"number\">4</td>\n",
              "        <td class=\"number\">0.0%</td>\n",
              "        <td>\n",
              "            <div class=\"bar\" style=\"width:1%\">&nbsp;</div>\n",
              "        </td>\n",
              "</tr><tr class=\"\">\n",
              "        <td class=\"fillremaining\">uniqueid_1612</td>\n",
              "        <td class=\"number\">4</td>\n",
              "        <td class=\"number\">0.0%</td>\n",
              "        <td>\n",
              "            <div class=\"bar\" style=\"width:1%\">&nbsp;</div>\n",
              "        </td>\n",
              "</tr><tr class=\"\">\n",
              "        <td class=\"fillremaining\">uniqueid_1135</td>\n",
              "        <td class=\"number\">4</td>\n",
              "        <td class=\"number\">0.0%</td>\n",
              "        <td>\n",
              "            <div class=\"bar\" style=\"width:1%\">&nbsp;</div>\n",
              "        </td>\n",
              "</tr><tr class=\"\">\n",
              "        <td class=\"fillremaining\">uniqueid_1302</td>\n",
              "        <td class=\"number\">4</td>\n",
              "        <td class=\"number\">0.0%</td>\n",
              "        <td>\n",
              "            <div class=\"bar\" style=\"width:1%\">&nbsp;</div>\n",
              "        </td>\n",
              "</tr><tr class=\"other\">\n",
              "        <td class=\"fillremaining\">Other values (8725)</td>\n",
              "        <td class=\"number\">23484</td>\n",
              "        <td class=\"number\">99.8%</td>\n",
              "        <td>\n",
              "            <div class=\"bar\" style=\"width:100%\">&nbsp;</div>\n",
              "        </td>\n",
              "</tr>\n",
              "</table>\n",
              "</div>\n",
              "</div><div class=\"row variablerow\">\n",
              "    <div class=\"col-md-3 namecol\">\n",
              "        <p class=\"h4 pp-anchor\" id=\"pp_var_year\">year<br/>\n",
              "            <small>Numeric</small>\n",
              "        </p>\n",
              "    </div><div class=\"col-md-6\">\n",
              "    <div class=\"row\">\n",
              "        <div class=\"col-sm-6\">\n",
              "            <table class=\"stats \">\n",
              "                <tr>\n",
              "                    <th>Distinct count</th>\n",
              "                    <td>6</td>\n",
              "                </tr>\n",
              "                <tr>\n",
              "                    <th>Unique (%)</th>\n",
              "                    <td>0.0%</td>\n",
              "                </tr>\n",
              "                <tr class=\"ignore\">\n",
              "                    <th>Missing (%)</th>\n",
              "                    <td>0.0%</td>\n",
              "                </tr>\n",
              "                <tr class=\"ignore\">\n",
              "                    <th>Missing (n)</th>\n",
              "                    <td>0</td>\n",
              "                </tr>\n",
              "                <tr class=\"ignore\">\n",
              "                    <th>Infinite (%)</th>\n",
              "                    <td>0.0%</td>\n",
              "                </tr>\n",
              "                <tr class=\"ignore\">\n",
              "                    <th>Infinite (n)</th>\n",
              "                    <td>0</td>\n",
              "                </tr>\n",
              "            </table>\n",
              "\n",
              "        </div>\n",
              "        <div class=\"col-sm-6\">\n",
              "            <table class=\"stats \">\n",
              "\n",
              "                <tr>\n",
              "                    <th>Mean</th>\n",
              "                    <td>2017</td>\n",
              "                </tr>\n",
              "                <tr>\n",
              "                    <th>Minimum</th>\n",
              "                    <td>2016</td>\n",
              "                </tr>\n",
              "                <tr>\n",
              "                    <th>Maximum</th>\n",
              "                    <td>2056</td>\n",
              "                </tr>\n",
              "                <tr class=\"ignore\">\n",
              "                    <th>Zeros (%)</th>\n",
              "                    <td>0.0%</td>\n",
              "                </tr>\n",
              "            </table>\n",
              "        </div>\n",
              "    </div>\n",
              "</div>\n",
              "<div class=\"col-md-3 collapse in\" id=\"minihistogram-8123370520380219461\">\n",
              "    <img src=\"data:image/png;base64,iVBORw0KGgoAAAANSUhEUgAAAMgAAABLCAYAAAA1fMjoAAAABHNCSVQICAgIfAhkiAAAAAlwSFlzAAAPYQAAD2EBqD%2BnaQAAADl0RVh0U29mdHdhcmUAbWF0cGxvdGxpYiB2ZXJzaW9uIDMuMC4zLCBodHRwOi8vbWF0cGxvdGxpYi5vcmcvnQurowAAAPtJREFUeJzt1bEJAlEQRVFXLGmLsCdje7IIexpzkQsbyN/gnHzgJZfZZmYuwE/X1QPgzG6rB3zbH6/DN%2B/n/Q9LwAeBJBAIAoEgEAgCgSAQCAKBIBAIAoEgEAgCgSAQCAKBIBAIAoEgEAgCgSAQCAKBIBAIAoEgEAgCgSAQCAKBIBAIAoEgEAgCgSAQCAKBIBAIAoEgEAgCgSAQCAKBIBAIAoEgEAgCgSAQCAKBIBAIAoEgEAjbzMzqEXBWPggEgUAQCASBQBAIBIFAEAgEgUAQCASBQBAIBIFAEAgEgUAQCASBQBAIBIFAEAgEgUAQCASBQBAIBIFAEAiED9obC49m6JdFAAAAAElFTkSuQmCC\">\n",
              "\n",
              "</div>\n",
              "<div class=\"col-md-12 text-right\">\n",
              "    <a role=\"button\" data-toggle=\"collapse\" data-target=\"#descriptives-8123370520380219461,#minihistogram-8123370520380219461\"\n",
              "       aria-expanded=\"false\" aria-controls=\"collapseExample\">\n",
              "        Toggle details\n",
              "    </a>\n",
              "</div>\n",
              "<div class=\"row collapse col-md-12\" id=\"descriptives-8123370520380219461\">\n",
              "    <ul class=\"nav nav-tabs\" role=\"tablist\">\n",
              "        <li role=\"presentation\" class=\"active\"><a href=\"#quantiles-8123370520380219461\"\n",
              "                                                  aria-controls=\"quantiles-8123370520380219461\" role=\"tab\"\n",
              "                                                  data-toggle=\"tab\">Statistics</a></li>\n",
              "        <li role=\"presentation\"><a href=\"#histogram-8123370520380219461\" aria-controls=\"histogram-8123370520380219461\"\n",
              "                                   role=\"tab\" data-toggle=\"tab\">Histogram</a></li>\n",
              "        <li role=\"presentation\"><a href=\"#common-8123370520380219461\" aria-controls=\"common-8123370520380219461\"\n",
              "                                   role=\"tab\" data-toggle=\"tab\">Common Values</a></li>\n",
              "        <li role=\"presentation\"><a href=\"#extreme-8123370520380219461\" aria-controls=\"extreme-8123370520380219461\"\n",
              "                                   role=\"tab\" data-toggle=\"tab\">Extreme Values</a></li>\n",
              "\n",
              "    </ul>\n",
              "\n",
              "    <div class=\"tab-content\">\n",
              "        <div role=\"tabpanel\" class=\"tab-pane active row\" id=\"quantiles-8123370520380219461\">\n",
              "            <div class=\"col-md-4 col-md-offset-1\">\n",
              "                <p class=\"h4\">Quantile statistics</p>\n",
              "                <table class=\"stats indent\">\n",
              "                    <tr>\n",
              "                        <th>Minimum</th>\n",
              "                        <td>2016</td>\n",
              "                    </tr>\n",
              "                    <tr>\n",
              "                        <th>5-th percentile</th>\n",
              "                        <td>2016</td>\n",
              "                    </tr>\n",
              "                    <tr>\n",
              "                        <th>Q1</th>\n",
              "                        <td>2016</td>\n",
              "                    </tr>\n",
              "                    <tr>\n",
              "                        <th>Median</th>\n",
              "                        <td>2017</td>\n",
              "                    </tr>\n",
              "                    <tr>\n",
              "                        <th>Q3</th>\n",
              "                        <td>2018</td>\n",
              "                    </tr>\n",
              "                    <tr>\n",
              "                        <th>95-th percentile</th>\n",
              "                        <td>2018</td>\n",
              "                    </tr>\n",
              "                    <tr>\n",
              "                        <th>Maximum</th>\n",
              "                        <td>2056</td>\n",
              "                    </tr>\n",
              "                    <tr>\n",
              "                        <th>Range</th>\n",
              "                        <td>40</td>\n",
              "                    </tr>\n",
              "                    <tr>\n",
              "                        <th>Interquartile range</th>\n",
              "                        <td>2</td>\n",
              "                    </tr>\n",
              "                </table>\n",
              "            </div>\n",
              "            <div class=\"col-md-4 col-md-offset-2\">\n",
              "                <p class=\"h4\">Descriptive statistics</p>\n",
              "                <table class=\"stats indent\">\n",
              "                    <tr>\n",
              "                        <th>Standard deviation</th>\n",
              "                        <td>0.89967</td>\n",
              "                    </tr>\n",
              "                    <tr>\n",
              "                        <th>Coef of variation</th>\n",
              "                        <td>0.00044605</td>\n",
              "                    </tr>\n",
              "                    <tr>\n",
              "                        <th>Kurtosis</th>\n",
              "                        <td>165.2</td>\n",
              "                    </tr>\n",
              "                    <tr>\n",
              "                        <th>Mean</th>\n",
              "                        <td>2017</td>\n",
              "                    </tr>\n",
              "                    <tr>\n",
              "                        <th>MAD</th>\n",
              "                        <td>0.72697</td>\n",
              "                    </tr>\n",
              "                    <tr class=\"\">\n",
              "                        <th>Skewness</th>\n",
              "                        <td>4.2228</td>\n",
              "                    </tr>\n",
              "                    <tr>\n",
              "                        <th>Sum</th>\n",
              "                        <td>47447414</td>\n",
              "                    </tr>\n",
              "                    <tr>\n",
              "                        <th>Variance</th>\n",
              "                        <td>0.8094</td>\n",
              "                    </tr>\n",
              "                    <tr>\n",
              "                        <th>Memory size</th>\n",
              "                        <td>183.9 KiB</td>\n",
              "                    </tr>\n",
              "                </table>\n",
              "            </div>\n",
              "        </div>\n",
              "        <div role=\"tabpanel\" class=\"tab-pane col-md-8 col-md-offset-2\" id=\"histogram-8123370520380219461\">\n",
              "            <img src=\"data:image/png;base64,iVBORw0KGgoAAAANSUhEUgAAAlgAAAGQCAYAAAByNR6YAAAABHNCSVQICAgIfAhkiAAAAAlwSFlzAAAPYQAAD2EBqD%2BnaQAAADl0RVh0U29mdHdhcmUAbWF0cGxvdGxpYiB2ZXJzaW9uIDMuMC4zLCBodHRwOi8vbWF0cGxvdGxpYi5vcmcvnQurowAAIABJREFUeJzt3Xl0FGWi/vEnC4QlJKHBgBcQkCVkRZYYzaBhUVAQRPZ40UHRQYgyRFAQhh8RZfEYblRgkOg4I6NghsBVNhGRxWV0rrjEJIJKhAOHCyZI2pCQQJb6/eGh77SAaeAN6S6/n3NymKm3qt56%2Bg2cx6pOx8%2ByLEsAAAAwxr%2B%2BLwAAAMBuKFgAAACGUbAAAAAMo2ABAAAYRsECAAAwjIIFAABgGAULAADAMAoWAACAYRQsAAAAwyhYAAAAhlGwAAAADKNgAQAAGEbBAgAAMIyCBQAAYBgFCwAAwDAKFgAAgGEULAAAAMMoWAAAAIZRsAAAAAyjYAEAABhGwQIAADCMggUAAGAYBQsAAMAwChYAAIBhFCwAAADDKFgAAACGUbAAAAAMo2ABAAAYRsECAAAwjIIFAABgGAULAADAMAoWAACAYRQsAAAAwyhYAAAAhlGwAAAADKNgAQAAGEbBAgAAMIyCBQAAYBgFCwAAwLDA%2Br6A34qiopMe7efv7yeHo6lOnChTTY1Vx1d15dg1l0Q2X2TXXJJ9s9k1l2TfbN6S66qrmtXLvNzB8jL%2B/n7y8/OTv79ffV%2BKUXbNJZHNF9k1l2TfbHbNJdk3m11zeYqCBQAAYBgFCwAAwDAKFgAAgGEULAAAAMMoWAAAAIZRsAAAAAyjYAEAABhGwQIAADCMggUAAGAYBQsAAMAwChYAAIBhFCwAAADDKFgAAACGBdb3BeDy3P7cR/V9CR7bs%2BC2%2Br4EAACuCO5gAQAAGEbBAgAAMIyCBQAAYBgFCwAAwDAKFgAAgGEULAAAAMMoWAAAAIZRsAAAAAyjYAEAABhGwQIAADCMggUAAGAYBQsAAMAwChYAAIBhFCwAAADDKFgAAACGUbAAAAAMo2ABAAAYRsECAAAwjIIFAABgGAULAADAMAoWAACAYRQsAAAAwyhYAAAAhlGwAAAADKNgAQAAGEbBAgAAMIyCBQAAYBgFCwAAwDAKFgAAgGEULAAAAMMoWAAAAIZRsAAAAAyjYAEAABhGwQIAADCMggUAAGAYBQsAAMAwChYAAIBhFCwAAADDKFgAAACGUbAAAAAM89qCdeTIEaWkpCghIUGJiYmaNWuWSkpKJEl79%2B7V%2BPHj1atXLw0cOFCvvPKK27FbtmzR0KFD1aNHD40YMUIffviha6ympkYZGRkaMGCA4uPjNXHiRB0%2BfNg17nQ6NW3aNCUmJqpPnz6aM2eOKioqrkxoAABgC15bsB566CGFhIRox44dWr9%2Bvb777js988wzqqio0KRJk3TDDTfogw8%2BUEZGhlauXKlt27ZJ%2Brl8zZw5UzNmzNAnn3yiCRMm6OGHH9axY8ckSa%2B//ro2btyozMxM7dy5Ux06dFBKSoosy5IkzZ07V%2BXl5dq0aZPWrVungoICpaen19vrAAAAfI9XFqySkhLFxMRo%2BvTpatq0qVq3bq277rpLe/bs0a5du1RZWanJkyerSZMmio6O1ujRo5WVlSVJWrt2rZKSkpSUlKSgoCANGzZMXbt21YYNGyRJWVlZmjBhgjp16qTg4GClpqaqoKBAOTk5On78uLZv367U1FQ5HA61atVKU6ZM0bp161RZWVmfLwkAAPAhXlmwQkJCtGjRIrVs2dK17ejRowoPD1d%2Bfr4iIiIUEBDgGouKilJeXp4kKT8/X1FRUW7ni4qKUm5urioqKrR//3638eDgYLVv3165ubnau3evAgICFBER4RqPjo7WqVOn9P3339dVXAAAYDOB9X0BnsjNzdVrr72mFStW6O2331ZISIjbeFhYmJxOp2pqauR0OhUaGuo2Hhoaqv379%2Bunn36SZVnnHS8uLlZYWJiCg4Pl5%2BfnNiZJxcXFHl9vYWGhioqK3LYFBjZReHh4rccGBPi7/Wk3dsxl5zWzaza75pLsm82uuST7ZrNrLk95fcH67LPPNHnyZE2fPl2JiYl6%2B%2B23z7vfv5eis%2B%2BnupBfG6/tWE9kZWVp2bJlbttSUlI0depUj88REtL4sq/DG9k1l0Q2X2TXXJJ9s9k1l2TfbHbNVRuvLlg7duzQY489prlz52r48OGSJIfDoYMHD7rt53Q6FRYWJn9/fzVv3lxOp/OccYfD4drnfOMtWrSQw%2BFQaWmpqqurXY8gz%2B7bokULj6977Nix6t%2B/v9u2wMAmKi4uq/XYgAB/hYQ0VklJuaqrazye01fYMZed18yu2eyaS7JvNrvmkuybzVtyNW/etF7m9dqC9fnnn2vmzJl6/vnn1adPH9f2mJgYrVmzRlVVVQoM/Pnyc3Nz1b17d9f42fdjnZWbm6shQ4YoKChIXbp0UX5%2Bvq6//npJP7%2Bh/tChQ4qLi1ObNm1kWZb27dun6Oho17EhISHq2LGjx9ceHh5%2BzuPAoqKTqqry/Busurrmovb3FXbNJZHNF9k1l2TfbHbNJdk3m11z1cYrH4xWVVXpT3/6k2bMmOFWriQpKSlJwcHBWrFihcrLy5WTk6Ps7GwlJydLksaMGaN//vOf2rVrl06fPq3s7GwdPHhQw4YNkyQlJydr1apVKigoUGlpqdLT0xUZGanY2Fg5HA4NGjRIzz33nE6cOKFjx45p%2BfLlGjVqlKvMAQAA1MYrW8OXX36pgoICPf3003r66afdxrZu3aoXX3xR8%2BbNU2Zmplq2bKnU1FT17dtXktS1a1elp6dr0aJFOnLkiDp37qyVK1fqqquukiSNGzdORUVFuueee1RWVqaEhAS390vNnz9f8%2BbN04ABA9SgQQPdcccdSk1NvWLZAQCA7/OzTLyrG7UqKjrp0X6Bgf5q3rypiovLPLqlevtzH13upV0xexbc5nEuX3Kxa%2BZL7JrNrrkk%2B2azay7Jvtm8JddVVzWrl3m98hEhAACAL6NgAQAAGEbBAgAAMIyCBQAAYBgFCwAAwDAKFgAAgGEULAAAAMMoWAAAAIZRsAAAAAyjYAEAABhGwQIAADCMggUAAGAYBQsAAMAwChYAAIBhFCwAAADDKFgAAACGUbAAAAAMo2ABAAAYRsECAAAwjIIFAABgGAULAADAMAoWAACAYRQsAAAAwyhYAAAAhlGwAAAADKNgAQAAGEbBAgAAMIyCBQAAYBgFCwAAwDAKFgAAgGEULAAAAMMoWAAAAIZRsAAAAAyjYAEAABhGwQIAADCMggUAAGAYBQsAAMAwChYAAIBhFCwAAADDKFgAAACGUbAAAAAMo2ABAAAYRsECAAAwjIIFAABgGAULAADAMAoWAACAYRQsAAAAwyhYAAAAhlGwAAAADKNgAQAAGEbBAgAAMIyCBQAAYBgFCwAAwDAKFgAAgGFeXbA%2B%2BOADJSYmKjU11W37%2BvXr1a1bN8XGxrp9ffXVV5KkmpoaZWRkaMCAAYqPj9fEiRN1%2BPBh1/FOp1PTpk1TYmKi%2BvTpozlz5qiiosI1vnfvXo0fP169evXSwIED9corr1yZwAAAwBa8tmC99NJLevrpp9W%2BffvzjsfHxys3N9ftKy4uTpL0%2Buuva%2BPGjcrMzNTOnTvVoUMHpaSkyLIsSdLcuXNVXl6uTZs2ad26dSooKFB6erokqaKiQpMmTdINN9ygDz74QBkZGVq5cqW2bdt2ZYIDAACf57UFKygoSNnZ2RcsWL8mKytLEyZMUKdOnRQcHKzU1FQVFBQoJydHx48f1/bt25WamiqHw6FWrVppypQpWrdunSorK7Vr1y5VVlZq8uTJatKkiaKjozV69GhlZWXVQUoAAGBHXluw7r33XjVr1uyC40ePHtV9992n%2BPh4DRgwQG%2B99Zakn%2B9A7d%2B/X1FRUa59g4OD1b59e%2BXm5mrv3r0KCAhQRESEazw6OlqnTp3S999/r/z8fEVERCggIMA1HhUVpby8vDpICQAA7Ciwvi/gUjgcDnXo0EGPPvqoOnfurHfffVePP/64wsPDde2118qyLIWGhrodExoaquLiYoWFhSk4OFh%2Bfn5uY5JUXFwsp9OpkJAQt2PDwsLkdDpVU1Mjf//aO2lhYaGKiorctgUGNlF4eHitxwYE%2BLv9aTd2zGXnNbNrNrvmkuybza65JPtms2suT/lkwerbt6/69u3r%2Bv9DhgzRu%2B%2B%2Bq/Xr12vGjBmS5Hq/1fn82tiF/Hshq01WVpaWLVvmti0lJUVTp071%2BBwhIY093teX2DWXRDZfZNdckn2z2TWXZN9sds1VG%2BMFq3///hoxYoRGjhypq6%2B%2B2vTpL6hNmzbKy8tTWFiY/P395XQ63cadTqdatGghh8Oh0tJSVVdXux4Dnt337PjBgwfPOfbseT0xduxY9e/f321bYGATFReX1XpsQIC/QkIaq6SkXNXVNR7N50vsmMvOa2bXbHbNJdk3m11zSfbN5i25mjdvWi/zGi9YI0eO1ObNm7VixQrdeOONGjNmjPr376/AQHNTrVmzRqGhoRo8eLBrW0FBgdq1a6egoCB16dJF%2Bfn5uv766yVJJSUlOnTokOLi4tSmTRtZlqV9%2B/YpOjpakpSbm6uQkBB17NhRMTExWrNmjaqqqlzXnJubq%2B7du3t8feHh4ec8DiwqOqmqKs%2B/waqray5qf19h11wS2XyRXXNJ9s1m11ySfbPZNVdtjD8YTUlJ0ZYtW/SPf/xDXbp00cKFC5WUlKRnn31WBw4cMDLHmTNn9NRTTyk3N1eVlZXatGmT3n//fY0bN06SlJycrFWrVqmgoEClpaVKT09XZGSkYmNj5XA4NGjQID333HM6ceKEjh07puXLl2vUqFEKDAxUUlKSgoODtWLFCpWXlysnJ0fZ2dlKTk42cu0AAMD%2B/KxLeUPSRbAsS1u2bFFaWppKS0uVmJioP/7xj67PrLqQ2NhYSVJVVZUkud1NsixLK1asUHZ2toqKitS2bVs9/vjj6tevn2vOpUuX6o033lBZWZkSEhI0f/58tW7dWpJ08uRJzZs3Tzt37lSDBg10xx13aNasWWrYsKEk6dtvv9W8efOUl5enli1b6sEHH9Tdd999Wa9DUdFJj/YLDPRX8%2BZNVVxc5lHjv/25jy7ruq6kPQtu8ziXL7nYNfMlds1m11ySfbPZNZdk32zekuuqqy78iQR1qc4KVmVlpeuN55988ok6dOigMWPGqLCwUKtXr9aTTz6poUOH1sXUXomCRcHyRXbNZtdckn2z2TWXZN9s3pKrvgqW8fdgFRQUKDs7W2%2B%2B%2BabKyso0aNAgvfrqq%2BrVq5drn/j4eKWlpf2mChYAAPjtMF6whgwZoo4dO2rSpEkaPny4wsLCztknKSlJJ06cMD01AACAVzBesFatWuX66b1fk5OTY3pqAAAAr2D8pwgjIiL00EMPafv27a5tf/vb3/Tggw%2Be89lUAAAAdmS8YC1atEgnT55U586dXdv69u2rmpoaLV682PR0AAAAXsf4I8IPP/xQGzduVPPmzV3bOnTooPT0dN1xxx2mpwMAAPA6xu9gVVRUKCgo6NyJ/P1VXl5uejoAAACvY7xgxcfHa/Hixfrpp59c23744Qc9%2BeSTbh/VAAAAYFfGHxHOnj1b999/v2688UYFBwerpqZGZWVlateunf7%2B97%2Bbng4AAMDrGC9Y7dq10%2BbNm/X%2B%2B%2B/r0KFD8vf3V8eOHdWnTx8FBASYng4AAMDrGC9YktSwYUPdcsstdXFqAAAAr2e8YB0%2BfFhLlizRd999p4qKinPG33vvPdNTAgAAeJU6eQ9WYWGh%2BvTpoyZNmpg%2BPQAAgNczXrDy8vL03nvvyeFwmD41AACATzD%2BMQ0tWrTgzhUAAPhNM16wJk2apGXLlsmyLNOnBgAA8AnGHxG%2B//77%2Bvzzz7V%2B/Xq1bdtW/v7uHe6NN94wPSUAAIBXMV6wgoODdfPNN5s%2BLQAAgM8wXrAWLVpk%2BpQAAAA%2Bxfh7sCTp%2B%2B%2B/19KlS/XEE0%2B4tn3xxRd1MRUAAIDXMV6wPv74Yw0bNkzbtm3Tpk2bJP384aP33nsvHzIKAAB%2BE4wXrIyMDD322GPauHGj/Pz8JP38%2BwkXL16s5cuXm54OAADA6xgvWN9%2B%2B62Sk5MlyVWwJOm2225TQUGB6ekAAAC8jvGC1axZs/P%2BDsLCwkI1bNjQ9HQAAABex3jB6tmzpxYuXKjS0lLXtgMHDmjmzJm68cYbTU8HAADgdYx/TMMTTzyh3//%2B90pISFB1dbV69uyp8vJydenSRYsXLzY9HQAAgNcxXrBat26tTZs2affu3Tpw4IAaNWqkjh076ne/%2B53be7IAAADsynjBkqQGDRrolltuqYtTAwAAeD3jBat///6/eqeKz8ICAAB2Z7xgDR482K1gVVdX68CBA8rNzdXvf/9709MBAAB4HeMFa8aMGefd/s477%2Bhf//qX6ekAAAC8Tp38LsLzueWWW7R58%2BYrNR0AAEC9uWIF6%2Buvv5ZlWVdqOgAAgHpj/BHhuHHjztlWXl6ugoICDRw40PR0AAAAXsd4werQocM5P0UYFBSkUaNGafTo0aanAwAA8DrGCxaf1g4AAH7rjBesN9980%2BN9hw8fbnp6AACAeme8YM2ZM0c1NTXnvKHdz8/PbZufnx8FCwAA2JLxgvXyyy/rlVde0UMPPaSIiAhZlqVvvvlGL730ksaPH6%2BEhATTUwIAAHiVOnkPVmZmplq1auXa1rt3b7Vr104TJ07Upk2bTE8JAADgVYx/DtbBgwcVGhp6zvaQkBAdOXLE9HQAAABex3jBatOmjRYvXqzi4mLXtpKSEi1ZskTXXHON6ekAAAC8jvFHhLNnz9b06dOVlZWlpk2byt/fX6WlpWrUqJGWL19uejoAAACvY7xg9enTR7t27dLu3bt17NgxWZalVq1a6aabblKzZs1MTwcAAOB1jBcsSWrcuLEGDBigY8eOqV27dnUxBQAAgNcy/h6siooKzZw5Uz169NDtt98u6ef3YD3wwAMqKSkxPR0AAIDXMV6wnn32We3du1fp6eny9/%2B/01dXVys9Pd30dAAAAF7HeMF655139MILL%2Bi2225z/dLnkJAQLVq0SNu2bTM9HQAAgNcxXrDKysrUoUOHc7Y7HA6dOnXK9HQAAABex3jBuuaaa/Svf/1Lktx%2B9%2BDWrVv1H//xH6anAwAA8DrGf4rw7rvv1iOPPKKRI0eqpqZGf/3rX5WXl6d33nlHc%2BbMMT0dAACA1zFesMaOHavAwEC99tprCggI0IsvvqiOHTsqPT1dt912m%2BnpAAAAvI7xgnXixAmNHDlSI0eONH1qAAAAn2D8PVgDBgxwe%2B8VAADAb43xgpWQkKC3337byLk%2B%2BOADJSYmKjU19ZyxLVu2aOjQoerRo4dGjBihDz/80DVWU1OjjIwMDRgwQPHx8Zo4caIOHz7sGnc6nZo2bZoSExPVp08fzZkzRxUVFa7xvXv3avz48erVq5cGDhyoV155xUgeAADw22D8EeHVV1%2BtBQsWKDMzU9dcc40aNGjgNr5kyRKPzvPSSy8pOztb7du3P2ds7969mjlzppYtW6YbbrhB77zzjh5%2B%2BGFt3bpVrVu31uuvv66NGzfqpZdeUqtWrZSRkaGUlBS99dZb8vPz09y5c3XmzBlt2rRJlZWV%2BuMf/6j09HT96U9/UkVFhSZNmqQxY8YoMzNTBw4c0P3336%2B2bdtq4MCBRl4jAABgb8bvYO3fv1/XXnutmjVrpuLiYhUWFrp9eSooKOiCBWvt2rVKSkpSUlKSgoKCNGzYMHXt2lUbNmyQJGVlZWnChAnq1KmTgoODlZqaqoKCAuXk5Oj48ePavn27UlNT5XA41KpVK02ZMkXr1q1TZWWldu3apcrKSk2ePFlNmjRRdHS0Ro8eraysLGOvEQAAsDdjd7BSU1OVkZGhv//9765ty5cvV0pKyiWd7957773gWH5%2BvpKSkty2RUVFKTc3VxUVFdq/f7%2BioqJcY8HBwWrfvr1yc3N18uRJBQQEKCIiwjUeHR2tU6dO6fvvv1d%2Bfr4iIiIUEBDgdu61a9d6fO2FhYUqKipy2xYY2ETh4eG1HhsQ4O/2p93YMZed18yu2eyaS7JvNrvmkuybza65PGWsYO3YseOcbZmZmZdcsH6N0%2BlUaGio27bQ0FDt379fP/30kyzLOu94cXGxwsLCFBwc7Po1PmfHJKm4uFhOp1MhISFux4aFhcnpdKqmpsbt9yteSFZWlpYtW%2Ba2LSUlRVOnTvU4Y0hIY4/39SV2zSWRzRfZNZdk32x2zSXZN5tdc9XGWME6308O1uVPE9Z27l8bv5Tr%2BvdCVpuxY8eqf//%2BbtsCA5uouLis1mMDAvwVEtJYJSXlqq6uuejr9HZ2zGXnNbNrNrvmkuybza65JPtm85ZczZs3rZd5jRWs8xWQiyklF6N58%2BZyOp1u25xOpxwOh8LCwuTv73/e8RYtWsjhcKi0tFTV1dWux4Bn9z07fvDgwXOOPXteT4SHh5/zOLCo6KSqqjz/Bquurrmo/X2FXXNJZPNFds0l2TebXXNJ9s1m11y18ckHozExMcrLy3Pblpubq%2B7duysoKEhdunRRfn6%2Ba6ykpESHDh1SXFycIiMjZVmW9u3b53ZsSEiIOnbsqJiYGH3zzTeqqqo659wAAACe8MmCNWbMGP3zn//Url27dPr0aWVnZ%2BvgwYMaNmyYJCk5OVmrVq1SQUGBSktLlZ6ersjISMXGxsrhcGjQoEF67rnndOLECR07dkzLly/XqFGjFBgYqKSkJAUHB2vFihUqLy9XTk6OsrOzlZycXM%2BpAQCArzD2iLCyslLTp0%2BvdZunn4MVGxsrSa47Sdu3b5f0892krl27Kj09XYsWLdKRI0fUuXNnrVy5UldddZUkady4cSoqKtI999yjsrIyJSQkuL3pfP78%2BZo3b54GDBigBg0a6I477nB9mGnDhg314osvat68ecrMzFTLli2Vmpqqvn37XvyLAgAAfpP8LEPvRL/nnns82u/fP8bht6So6KRH%2BwUG%2Bqt586YqLi7z6Jn17c99dLmXdsXsWXCbx7l8ycWumS%2Bxaza75pLsm82uuST7ZvOWXFdd1axe5jV2B%2Bu3WpwAAAB%2BySffgwUAAODNKFgAAACGUbAAAAAMo2ABAAAYRsECAAAwjIIFAABgGAULAADAMAoWAACAYRQsAAAAwyhYAAAAhlGwAAAADKNgAQAAGEbBAgAAMIyCBQAAYBgFCwAAwDAKFgAAgGEULAAAAMMoWAAAAIZRsAAAAAyjYAEAABhGwQIAADCMggUAAGAYBQsAAMAwChYAAIBhFCwAAADDKFgAAACGUbAAAAAMo2ABAAAYRsECAAAwjIIFAABgGAULAADAMAoWAACAYRQsAAAAwyhYAAAAhlGwAAAADKNgAQAAGEbBAgAAMIyCBQAAYBgFCwAAwDAKFgAAgGEULAAAAMMoWAAAAIZRsAAAAAyjYAEAABhGwQIAADCMggUAAGAYBQsAAMAwChYAAIBhFCwAAADDKFgAAACGUbAAAAAMo2ABAAAYRsECAAAwzJYFKyIiQjExMYqNjXV9PfXUU5Kkjz/%2BWKNGjVLPnj01ZMgQbdiwwe3YVatWadCgQerZs6eSk5OVl5fnGjt9%2BrT%2B3//7f7r55puVkJCgqVOnqri4%2BIpmAwAA3i%2Bwvi%2BgrmzdulVt27Z121ZYWKgpU6Zozpw5Gjp0qD777DNNnjxZHTt2VGxsrHbs2KGlS5fq5ZdfVkREhFatWqWHHnpI27ZtU5MmTZSRkaH8/HxlZWWpcePGmjt3rp544gm9%2BOKL9ZQSAAB4I1vewbqQjRs3qkOHDho1apSCgoKUmJio/v37a%2B3atZKkrKwsjRgxQt27d1ejRo30wAMPSJJ27typqqoqZWdna8qUKbr66qsVFhamadOmadeuXfrhhx/qMxYAAPAytr2DtWTJEn3xxRcqLS3V7bffrlmzZik/P19RUVFu%2B0VFRentt9%2BWJOXn52vw4MGuMX9/f0VGRio3N1eRkZE6efKkoqOjXeOdOnVSo0aNlJ%2Bfr1atWrm2FxYWqqioyG2ewMAmCg8Pr/W6AwL83f60GzvmsvOa2TWbXXNJ9s1m11ySfbPZNZenbFmwrrvuOiUmJuqZZ57R4cOHNW3aND355JNyOp1uRUiSwsLCXO%2BjcjqdCg0NdRsPDQ1VcXGxnE6nJCkkJMRtPCQk5Jz3YWVlZWnZsmVu21JSUjR16lSPM4SENPZ4X19i11wS2XyRXXNJ9s1m11ySfbPZNVdtbFmwsrKyXP%2B7U6dOmjFjhiZPnqxevXrVeqxlWZc1Lkljx45V//793bYFBjZRcXFZrccGBPgrJKSxSkrKVV1dU%2Bv%2BvsaOuey8ZnbNZtdckn2z2TWXZN9s3pKrefOm9TKvLQvWL7Vt21bV1dXy9/d33Yk6q7i4WA6HQ5LUvHnzc8adTqe6dOni2sfpdKpp0/9brJ9%2B%2BkktWrRwOyY8PPycx4FFRSdVVeX5N1h1dc1F7e8r7JpLIpsvsmsuyb7Z7JpLsm82u%2Baqje0ejH799ddavHix27aCggI1bNhQSUlJbh%2B7IEl5eXnq3r27JCkmJkb5%2Bfmuserqan399dfq3r272rVrp9DQULfxb7/9VmfOnFFMTEwdJgIAAL7GdgWrRYsWysrKUmZmps6cOaMDBw7o%2Beef19ixY3XnnXfqyJEjWrt2rU6fPq3du3dr9%2B7dGjNmjCQpOTlZb775pr788kuVl5drxYoVatiwofr27auAgACNGTNGL774oo4ePari4mL913/9l2699Va1bNmynlMDAABvYrtHhK1atVJmZqaWLFniKkh33XWXUlNTFRQUpJUrV%2Brpp5/Wk08%2BqTZt2ujZZ59Vt27dJEk333yzHn30UU2bNk0//vijYmNjlZmZqUaNGkmSpk6dqrKyMt15552qqqpSv379lJaWVo9pAQCAN/KzPHnXNi5bUdFJj/YLDPRX8%2BZNVVxc5tEz69uf%2B%2BhyL%2B2K2bPgNo9z%2BZKLXTNfYtdsds0l2TebXXNJ9s3mLbmuuqpZvcxru0fcj2hTAAAO3UlEQVSEAAAA9Y2CBQAAYBgFCwAAwDAKFgAAgGEULAAAAMMoWAAAAIZRsAAAAAyjYAEAABhGwQIAADCMggUAAGAYBQsAAMAwChYAAIBhFCwAAADDKFgAAACGUbAAAAAMo2ABAAAYRsECAAAwjIIFAABgGAULAADAMAoWAACAYRQsAAAAwyhYAAAAhlGwAAAADKNgAQAAGEbBAgAAMIyCBQAAYBgFCwAAwDAKFgAAgGEULAAAAMMoWAAAAIZRsAAAAAyjYAEAABhGwQIAADCMggUAAGAYBQsAAMAwChYAAIBhFCwAAADDKFgAAACGUbAAAAAMo2ABAAAYRsECAAAwjIIFAABgGAULAADAMAoWAACAYRQsAAAAwyhYAAAAhlGwAAAADKNgAQAAGEbBAgAAMIyCBQAAYBgFCwAAwDAKFgAAgGEULAAAAMMoWAAAAIZRsM7jyJEj%2BsMf/qCEhAT169dPzz77rGpqaur7sgAAgI8IrO8L8EaPPPKIoqOjtX37dv3444%2BaNGmSWrZsqfvuu6%2B%2BLw0AAPgA7mD9Qm5urvbt26cZM2aoWbNm6tChgyZMmKCsrKz6vjQAAOAjuIP1C/n5%2BWrTpo1CQ0Nd26Kjo3XgwAGVlpYqODi41nMUFhaqqKjIbVtgYBOFh4fXemxAgL/bn3Zjx1x2XjO7ZrNrLsm%2B2eyaS7JvNrvm8hQF6xecTqdCQkLctp0tW8XFxR4VrKysLC1btsxt28MPP6xHHnmk1mMLCwv16qsva%2BzYsR4Vsj0Lbqt1H29QWFiopUuXepzLl1zsmvkSu2azay7Jvtnsmkuybza75vLUb7NW1sKyrMs6fuzYsVq/fr3b19ixYz06tqioSMuWLTvnDpivs2suiWy%2ByK65JPtms2suyb7Z7JrLU9zB%2BgWHwyGn0%2Bm2zel0ys/PTw6Hw6NzhIeH/ybbOgAA%2BBl3sH4hJiZGR48e1YkTJ1zbcnNz1blzZzVt2rQerwwAAPgKCtYvREVFKTY2VkuWLFFpaakKCgr017/%2BVcnJyfV9aQAAwEcEpKWlpdX3RXibm266SZs2bdJTTz2lzZs3a9SoUZo4caL8/PyuyPxNmzbV9ddfb7s7ZnbNJZHNF9k1l2TfbHbNJdk3m11zecLPutx3dAMAAMANjwgBAAAMo2ABAAAYRsECAAAwjIIFAABgGAULAADAMAoWAACAYRQsAAAAwyhYAAAAhlGwAAAADKNg1aEjR44oJSVFCQkJSkxM1KxZs1RSUiJJ2rt3r8aPH69evXpp4MCBeuWVV9yOrays1DPPPKNu3brp/fffdxu75557FB0drdjYWNfXsGHDrlgu6fKybdu2TcOGDVOPHj00aNAg/eMf/3AbX7VqlQYNGqSePXsqOTlZeXl5Pp9r6dKlioyMdFuz2NhYHT9%2B3Ceyvf766xo0aJCuu%2B463XrrrfrLX/7iGqupqVFGRoYGDBig%2BPh4TZw4UYcPH/b5XLNmzXL9btKzX717975iuS4321llZWXq27evZs2a5dpW32v2P//zPxo7dqx69uyp/v37q1u3bm7X5w2v/aW61DVbv369unXrds6/EV999ZWk%2Bl%2Bzusrly2tdKwt15o477rBmzZpllZaWWkePHrVGjBhhzZ492yovL7duuukma%2BnSpVZZWZmVl5dnXX/99dY777xjWZZllZWVWaNGjbJmzZplde3a1dq9e7fbecePH2%2BtW7euPiK5XGq2nJwcKzY21nr33XetyspKa9euXVZ0dLT16aefWpZlWe%2B9957Vu3dv68svv7TKy8utlStXWr/73e%2BssrIyn871wgsvWDNnzrwiGS7kUrO9%2B%2B671vXXX2/l5ORY1dXV1qeffurKalmWtWrVKqtfv37W/v37rZMnT1rz58%2B3hg4datXU1Ph0rpkzZ1ovvPDCFclwIZea7d8tWrTI6tWrl9v3X32u2ZEjR6zrrrvOWr16tXXmzBlr/PjxVq9evazIyEjXPt7w2l%2BqS12zdevWWePHj7/geX3171ltuXx5rWvDHaw6UlJSopiYGE2fPl1NmzZV69atddddd2nPnj3atWuXKisrNXnyZDVp0kTR0dEaPXq0srKyJEmnTp3SyJEjtWjRonpOcX6Xk83pdGrSpEm65ZZbFBgYqKSkJHXt2lV79uyRJGVlZWnEiBHq3r27GjVqpAceeECStHPnTp/OVd8uJ1t4eLgyMjIUFxcnf39/9e7dW506ddJ3330n6ec1mzBhgjp16qTg4GClpqaqoKBAOTk5Pp2rvl1OtrP27dunTZs26a677nLbXp9rdvz4cY0aNUrJyckqKCjQgQMHFBMToxtuuKHO565rJtbsQnz179lvGQWrjoSEhGjRokVq2bKla9vRo0cVHh6u/Px8RUREKCAgwDUWFRXlehTWsmVLjRs37lfPv2XLFg0ePFg9evTQhAkTdOjQoboJch6Xk%2B3mm29WSkqKa6yqqkpFRUVq1aqVJCk/P19RUVGucX9/f0VGRio3N7euY9VpLkn65ptvNG7cOPXs2VNDhgzRhx9%2BWOeZzrqcbHFxcUpMTJT086Prt99%2BW4cPH1a/fv1UUVGh/fv3u61ZcHCw2rdv7/Vr9mu5zvrkk080fPhw9ejRQ6NGjbqij6svJ5skWZaltLQ0paamKiQkxLW9vtcsLi5Oc%2BbMcbu%2BsrIyffTRR2771edrf6kud82OHj2q%2B%2B67T/Hx8RowYIDeeustSfW/ZnWV6yxfXGtPULCukNzcXL322muaPHmynE6n2z94khQWFian06mamppaz9WpUyd16dJFq1ev1nvvvSeHw6EHHnhAZ86cqavL/1WXky09PV1NmjTR4MGDJf18Jyg0NNRtn9DQUBUXF9ddgAswmat169Zq166dnnnmGX300UcaPXq0HnroIX3//fdXJMsvXUq2P//5z4qLi9P8%2BfO1ePFidevWTT/99JMsy/LpNTtfLklq166d2rdvr5UrV%2BqDDz5Q7969df/999dLLunis2VlZcnPz08jRoxw289b1uzs9Z06dUqHDh3STTfd5Brzttf%2BUl3MmjkcDnXo0EGPPfaYPvroIz366KOaPXu2Pv74Y69Zs7NM5ZLss9bnQ8G6Aj777DNNnDhR06dPd/0X8/n4%2Bfl5dL60tDTNnDlTYWFhcjgcmj9/vo4cOaLPPvvM1CV77FKzWZalZ599Vps2bdKKFSsUFBTkNlbfTOcaPXq0XnjhBbVv316NGzfWhAkTFBkZqQ0bNtRpjvO51GxTpkxRTk6OFixYoDlz5mj37t2uMV9eswvlSklJ0cKFC9WqVSsFBwfrscceU8OGDbV9%2B/Y6zXE%2BF5vtxx9/1PPPP6%2B0tLQL/rtSn2t29voGDx6s559/XlFRUW53R7zptb9UF7tmffv21csvv6yoqCg1bNhQQ4YM0a233qr169e79vXFv2e15bLDWl8IBauO7dixQ3/4wx80e/Zs3XvvvZIkh8NxTjt3Op0KCwuTv//FL0lwcLBCQ0P1ww8/GLlmT11qtpqaGs2aNUs7duzQmjVrdO2117r2bd68uZxO5znHOxyOOk7zf%2Boi1/m0adNGhYWFdRPiAi73%2B7Fhw4bq37%2B/Bg0apNWrV7v2Od%2BatWjRom7D/BvTuc4nICBAV199tU%2Bs2eLFizV8%2BHBFRESccz5vWLPFixdr6NChWrlypVatWqWePXv%2B6v719dpfKlP/7p/9N8Ib1kwyn%2Bt8fG2tfw0Fqw59/vnnmjlzpp5//nkNHz7ctT0mJkbffPONqqqqXNtyc3PVvXv3Ws9ZWlqqtLQ0tzJ14sQJnThxQu3atTMb4FdcTraFCxfqu%2B%2B%2B05o1a8655piYGOXn57v%2Bf3V1tb7%2B%2BmuPXhsT6irXn//8Z9ct8bMKCgp8Ys3S0tKUnp7udi4/Pz8FBgYqKChIXbp0cVuzkpISHTp0SHFxcXWc6Gd1kcuyLC1atEj79u1zjZ05c0aHDh3yiTXbsGGDsrOzlZCQoISEBL388svavHmzEhISvGLNNmzYoFdffVVFRUW677773K7PW177S3Wpa7ZmzRpt2bLF7Vxn/43whjWri1y%2Bvta1qo8fXfwtqKystG6//XbrjTfeOGfs9OnTVr9%2B/awXXnjBOnXqlPXll19avXv3tnbu3HnOvuf7mIbhw4dbDz/8sFVcXGw5nU5r6tSp1rBhw6zq6uq6iuPmcrLt2bPHio%2BPt4qKis577t27d1u9evWyvvjiC%2BvUqVPW0qVLraSkJKu8vLwuI1mWVbe5FixYYA0aNMgqKCiwKioqrL/85S9WXFycdfTo0bqM5HI52TZv3mz16NHD%2BuSTT6yqqirrs88%2Bs3r16mWtXbvWsizLWr16tdW3b1/Xj4/PnTvXGjlypM/nmjJlijVu3Djr2LFjVmlpqbVgwYIr%2BpEhl5Pt6NGjbl8LFy60pk6d6vp%2Bq881O3TokNW1a1fr008/veD11fdrf6kuZ83%2B9re/WTfccIP11VdfWWfOnLE2btxoRUZGWrm5uZZl%2Be7fs9py%2Bepae8LPsrzgoa4N7dmzR//5n/%2Bphg0bnjO2detWlZWVad68ecrLy1PLli314IMP6u6775Ykvfnmm5o7d66kn9t8gwYN5OfnpzvvvFNPP/20/vd//1cLFy7Up59%2BqjNnzujGG2/UvHnz3H5izVuzzZ49W//93/%2BtwMBAt%2BPi4%2BNdH063evVqZWZm6scff1RsbKzS0tLUtWtXn851%2BvRpLVmyRFu3bpXT6VTnzp01d%2B5c9ejRo85zXW426ef/Cn3ppZd0/PhxtW7dWmPGjHF9hIZlWVq6dKneeOMNlZWVKSEhQfPnz1fr1q19OpfT6dQzzzyj999/X6WlpYqLi1NaWpo6depU57lMZPt3S5cu1ZEjR7R48WJJ9btmy5cv19KlS9WgQQO37ZZluX56rL5f%2B0t1OWtmWZZWrFih7OxsFRUVqW3btnr88cddP9Xqq3/Pasvlq2vtCQoWAACAYbwHCwAAwDAKFgAAgGEULAAAAMMoWAAAAIZRsAAAAAyjYAEAABhGwQIAADCMggUAAGAYBQsAAMAwChYAAIBhFCwAAADDKFgAAACGUbAAAAAM%2B/9NDErEt13NJgAAAABJRU5ErkJggg%3D%3D\"/>\n",
              "        </div>\n",
              "        <div role=\"tabpanel\" class=\"tab-pane col-md-12\" id=\"common-8123370520380219461\">\n",
              "            \n",
              "<table class=\"freq table table-hover\">\n",
              "    <thead>\n",
              "    <tr>\n",
              "        <td class=\"fillremaining\">Value</td>\n",
              "        <td class=\"number\">Count</td>\n",
              "        <td class=\"number\">Frequency (%)</td>\n",
              "        <td style=\"min-width:200px\">&nbsp;</td>\n",
              "    </tr>\n",
              "    </thead>\n",
              "    <tr class=\"\">\n",
              "        <td class=\"fillremaining\">2016</td>\n",
              "        <td class=\"number\">8734</td>\n",
              "        <td class=\"number\">37.1%</td>\n",
              "        <td>\n",
              "            <div class=\"bar\" style=\"width:100%\">&nbsp;</div>\n",
              "        </td>\n",
              "</tr><tr class=\"\">\n",
              "        <td class=\"fillremaining\">2018</td>\n",
              "        <td class=\"number\">8167</td>\n",
              "        <td class=\"number\">34.7%</td>\n",
              "        <td>\n",
              "            <div class=\"bar\" style=\"width:93%\">&nbsp;</div>\n",
              "        </td>\n",
              "</tr><tr class=\"\">\n",
              "        <td class=\"fillremaining\">2017</td>\n",
              "        <td class=\"number\">6620</td>\n",
              "        <td class=\"number\">28.1%</td>\n",
              "        <td>\n",
              "            <div class=\"bar\" style=\"width:76%\">&nbsp;</div>\n",
              "        </td>\n",
              "</tr><tr class=\"\">\n",
              "        <td class=\"fillremaining\">2029</td>\n",
              "        <td class=\"number\">1</td>\n",
              "        <td class=\"number\">0.0%</td>\n",
              "        <td>\n",
              "            <div class=\"bar\" style=\"width:1%\">&nbsp;</div>\n",
              "        </td>\n",
              "</tr><tr class=\"\">\n",
              "        <td class=\"fillremaining\">2056</td>\n",
              "        <td class=\"number\">1</td>\n",
              "        <td class=\"number\">0.0%</td>\n",
              "        <td>\n",
              "            <div class=\"bar\" style=\"width:1%\">&nbsp;</div>\n",
              "        </td>\n",
              "</tr><tr class=\"\">\n",
              "        <td class=\"fillremaining\">2039</td>\n",
              "        <td class=\"number\">1</td>\n",
              "        <td class=\"number\">0.0%</td>\n",
              "        <td>\n",
              "            <div class=\"bar\" style=\"width:1%\">&nbsp;</div>\n",
              "        </td>\n",
              "</tr>\n",
              "</table>\n",
              "        </div>\n",
              "        <div role=\"tabpanel\" class=\"tab-pane col-md-12\"  id=\"extreme-8123370520380219461\">\n",
              "            <p class=\"h4\">Minimum 5 values</p>\n",
              "            \n",
              "<table class=\"freq table table-hover\">\n",
              "    <thead>\n",
              "    <tr>\n",
              "        <td class=\"fillremaining\">Value</td>\n",
              "        <td class=\"number\">Count</td>\n",
              "        <td class=\"number\">Frequency (%)</td>\n",
              "        <td style=\"min-width:200px\">&nbsp;</td>\n",
              "    </tr>\n",
              "    </thead>\n",
              "    <tr class=\"\">\n",
              "        <td class=\"fillremaining\">2016</td>\n",
              "        <td class=\"number\">8734</td>\n",
              "        <td class=\"number\">37.1%</td>\n",
              "        <td>\n",
              "            <div class=\"bar\" style=\"width:100%\">&nbsp;</div>\n",
              "        </td>\n",
              "</tr><tr class=\"\">\n",
              "        <td class=\"fillremaining\">2017</td>\n",
              "        <td class=\"number\">6620</td>\n",
              "        <td class=\"number\">28.1%</td>\n",
              "        <td>\n",
              "            <div class=\"bar\" style=\"width:76%\">&nbsp;</div>\n",
              "        </td>\n",
              "</tr><tr class=\"\">\n",
              "        <td class=\"fillremaining\">2018</td>\n",
              "        <td class=\"number\">8167</td>\n",
              "        <td class=\"number\">34.7%</td>\n",
              "        <td>\n",
              "            <div class=\"bar\" style=\"width:93%\">&nbsp;</div>\n",
              "        </td>\n",
              "</tr><tr class=\"\">\n",
              "        <td class=\"fillremaining\">2029</td>\n",
              "        <td class=\"number\">1</td>\n",
              "        <td class=\"number\">0.0%</td>\n",
              "        <td>\n",
              "            <div class=\"bar\" style=\"width:1%\">&nbsp;</div>\n",
              "        </td>\n",
              "</tr><tr class=\"\">\n",
              "        <td class=\"fillremaining\">2039</td>\n",
              "        <td class=\"number\">1</td>\n",
              "        <td class=\"number\">0.0%</td>\n",
              "        <td>\n",
              "            <div class=\"bar\" style=\"width:1%\">&nbsp;</div>\n",
              "        </td>\n",
              "</tr>\n",
              "</table>\n",
              "            <p class=\"h4\">Maximum 5 values</p>\n",
              "            \n",
              "<table class=\"freq table table-hover\">\n",
              "    <thead>\n",
              "    <tr>\n",
              "        <td class=\"fillremaining\">Value</td>\n",
              "        <td class=\"number\">Count</td>\n",
              "        <td class=\"number\">Frequency (%)</td>\n",
              "        <td style=\"min-width:200px\">&nbsp;</td>\n",
              "    </tr>\n",
              "    </thead>\n",
              "    <tr class=\"\">\n",
              "        <td class=\"fillremaining\">2017</td>\n",
              "        <td class=\"number\">6620</td>\n",
              "        <td class=\"number\">28.1%</td>\n",
              "        <td>\n",
              "            <div class=\"bar\" style=\"width:81%\">&nbsp;</div>\n",
              "        </td>\n",
              "</tr><tr class=\"\">\n",
              "        <td class=\"fillremaining\">2018</td>\n",
              "        <td class=\"number\">8167</td>\n",
              "        <td class=\"number\">34.7%</td>\n",
              "        <td>\n",
              "            <div class=\"bar\" style=\"width:100%\">&nbsp;</div>\n",
              "        </td>\n",
              "</tr><tr class=\"\">\n",
              "        <td class=\"fillremaining\">2029</td>\n",
              "        <td class=\"number\">1</td>\n",
              "        <td class=\"number\">0.0%</td>\n",
              "        <td>\n",
              "            <div class=\"bar\" style=\"width:1%\">&nbsp;</div>\n",
              "        </td>\n",
              "</tr><tr class=\"\">\n",
              "        <td class=\"fillremaining\">2039</td>\n",
              "        <td class=\"number\">1</td>\n",
              "        <td class=\"number\">0.0%</td>\n",
              "        <td>\n",
              "            <div class=\"bar\" style=\"width:1%\">&nbsp;</div>\n",
              "        </td>\n",
              "</tr><tr class=\"\">\n",
              "        <td class=\"fillremaining\">2056</td>\n",
              "        <td class=\"number\">1</td>\n",
              "        <td class=\"number\">0.0%</td>\n",
              "        <td>\n",
              "            <div class=\"bar\" style=\"width:1%\">&nbsp;</div>\n",
              "        </td>\n",
              "</tr>\n",
              "</table>\n",
              "        </div>\n",
              "    </div>\n",
              "</div>\n",
              "</div>\n",
              "    <div class=\"row headerrow highlight\">\n",
              "        <h1>Correlations</h1>\n",
              "    </div>\n",
              "    <div class=\"row variablerow\">\n",
              "    <img src=\"data:image/png;base64,iVBORw0KGgoAAAANSUhEUgAAApcAAAJNCAYAAABkyV7YAAAABHNCSVQICAgIfAhkiAAAAAlwSFlzAAAPYQAAD2EBqD%2BnaQAAADl0RVh0U29mdHdhcmUAbWF0cGxvdGxpYiB2ZXJzaW9uIDMuMC4zLCBodHRwOi8vbWF0cGxvdGxpYi5vcmcvnQurowAAIABJREFUeJzs3X18z/X%2Bx/HnvrvCxhj7ssNcJHMxdKaYobApUp1JyUWJUtEYFkcXOHJV6ZBylYsOck45i3Uh6ZQ56ZTU78hi7ZiLESNssi82F7v6/v5wfM/nm8n4fNa%2B8rjfbt%2Bb7f25%2BL6%2B787Z9/V9fi6%2BXk6n0ykAAADAAraKLgAAAAC/HTSXAAAAsAzNJQAAACxDcwkAAADL0FwCAADAMjSXAAAAsAzNJQAAACxDcwkAAADL0FwCAADAMjSXAAAAsIxPRRcAAKVp2rTpJZf5%2BvqqevXqatmypXr16qXu3bvLy8vrV6wOAHApXny3OABPdKG5bN26tUJCQtyWnTt3Tnv37tWPP/4oSeratavmzJkjPz%2B/X71OAIA7mksAHulCczl//nx169at1HVSUlL0xz/%2BUadPn9ajjz6qp59%2B%2BtcsEQBQCs65BHDN6tatm8aMGSNJWrlypc6dO1fBFQEAOOcSwDXtjjvu0NSpU3XmzBn95z//UWRkpNvyzZs366233tJ3330nh8OhwMBANWvWTPfdd5/uueeeUvfpcDi0bNkyff7559q/f78KCgoUFBSk1q1b65FHHlFUVNRF28TExOjQoUNasmSJzp07p9mzZysrK0vLly/XzTffLEnatWuXli5dqi1btujo0aPy8fGR3W5Xu3bt9NBDD5V6numpU6f05ptvasOGDdq/f78KCwtVq1YttWnTRoMHD1arVq3c1j948KBiY2MlSdu3b1dmZqZef/11paamyuFwyG63KzY2VomJiapSpcpVzTkA/BKSSwDXtOrVq7t%2BPnnypNuy2bNna/DgwVq/fr0CAwMVFRWl4OBgbd68WWPHjtXo0aNVXFzstk1OTo569%2B6thQsXau/evWrRooXat28vPz8/ffbZZxo0aJCSk5MvWc/evXuVmJgoX19ftW/fXpUqVZIk/d///Z/uu%2B8%2Bvffeezp37pxuvvlmRUZGKi8vT%2B%2B8844eeOABbd682W1fhw4d0r333qu5c%2Bdqz549atasmdq3by%2Bn06m1a9fqgQce0OrVqy9Zy9atWzVgwAClp6erWbNmatSokQ4dOqQVK1YoISGhzHMMAFfECQAeKDw83BkeHu5cv379L66XmZnpWnf79u2u8U8//dQZHh7ubNu2rfObb75x2%2Bb//u//nB06dHCGh4c7ly1b5rZs2rRpzvDwcGf37t2dx44dc40XFRU5p0%2Bf7gwPD3fefPPNzry8PLftunbt6gwPD3fGxMQ4X3/99Yvq7NOnjzM8PNz50ksvOYuLi932O3v2bGd4eLjz7rvvdttmwIABzvDwcGfv3r2dR48edY0XFxc7586d6wwPD3e2bNnSuXfvXteyrKws13x06dLFuXjxYmdJSYlr%2BXvvvedavmPHjl%2BaWgC4KiSXAK5pn376qSQpKChIzZs3d42//vrrkqSnn35a7dq1c9umbdu2GjdunCTpzTffdFtmt9t11113acSIEapZs6Zr3NvbW4mJibLZbDp16pS%2B%2B%2B67UuspKSnRE088cdH4jh07JEm9e/eWzfa/P73e3t4aOXKkRo4cqYEDB6qgoECStG3bNm3ZskWS9PLLL8tut7u2sdlsGjFihCIiIlRQUKC///3vpdbSpEkTPf744263aYqLi1NwcLDrOQDAapxzCeCa9fnnn2vRokWSpMcee0w%2BPuf/pB09elTp6emSpNtvv73Ubbt16yYvLy/9%2BOOP2rdvnxo1aiRJevzxxy/5fJUrV1bNmjWVk5OjnJycUtdp3769W/N4QbVq1XTs2DGtW7dOo0aNcltms9k0fPhwt7EvvvhC0vmr5hs3bnzJ15Cenn7R4fQLSjun1MvLS2FhYTp%2B/Lhyc3NL3Q4AzKC5BODRFi1apHfffddtrKCgQD/88IOysrIknU8DH3vsMdfyXbt2uX5%2B5plnLrlvHx8fFRYW6ocffnA1lxf2//nnn%2Bv7779Xdna2Tp48Ked/79p26tQpSecTytLUrl271PFBgwZp1qxZWrBggb744gvdfffdio6OvuTN4vfs2SPpfPp4KTfccIOk8%2Bd5lqZ%2B/fqljvv7%2B0uSCgsLL7lvALhaNJcAPNr27dsvGvP29laNGjUUGxurvn37qnPnzm7LT5w44fp5w4YNl32OCw2jJGVkZGj48OE6ePDgVdUbFBRU6viFQ%2BWLFi1SWlqa0tLSJEkhISHq0aOHBg0apLCwsItqqlat2iWfq2rVqpLON4lnz551XTx0ATeVB1ARaC4BeLRfuon6pVw4x9DX11dpaWll/mrIs2fP6sknn9SPP/6ohg0bKj4%2BXtHR0apRo4Z8fX0l/e%2BWQ5d77tI88cQT6tevn1JSUvT555/rq6%2B%2BUk5Ojv76178qKSlJL7/8su68884yv06n4TswSjsUDwAVgeYSwG/OhdsTFRYWKjc313UBy%2BX861//0o8//igvLy8tXrxYDRo0uGids2fPmqqtWrVq6t27t3r37q3i4mJ99dVXmj9/vlJTUzV%2B/Hi1b99eNWrUcCWgP7%2B9ktGFZZUqVSKlBOAx%2BKgL4DcnPDzc9fPu3bvLvN0PP/wg6fy5iqU1lgcOHNBPP/1kur4LvL29deutt2rFihWqXbu28vPzXacBXDjX0nj%2B6M9dWPZL52UCwK%2BN5hLAb05ISIgiIiIkSe%2B8806p6%2Bzbt09xcXGuWxZJ/zuH8VJfIzl//nzXzz%2B/%2Bfov2bZtm5577jktXbq01OV%2Bfn6qVauWpP8loxfOI921a1epDWZJSYnrNky33nprmWsBgPJGcwngN2nYsGGSpLVr12r58uVu5yfu379fI0eOVEZGhg4fPuwab9asmSTpyJEjSklJcY2fOXNG06ZNU1pamuvrJS91hXZpvL29lZycrDlz5mjjxo0XLV%2B/fr127NghX19ftWnTRpLUokULderUSZL03HPP6fjx4671i4qK9Oc//1mZmZmqWrWq%2BvXrV%2BZaAKC8cc4lgN%2BkO%2B64Q0888YQWL16sF198UStWrNANN9yg3Nxc7dixQ8XFxWrRooXGjh3r2iYyMlKdOnXSl19%2BqYSEBN10003y9/fX999/Lx8fHy1btkwfffSRUlNTtWLFCu3cuVNPPvmk2rZt%2B4u1tGzZUo8%2B%2BqiWLl2qoUOHqm7dumrQoIFsNpsOHjzoOhw/fvx4hYSEuLZ74YUXNGjQIKWlpSkmJkbh4eHy9/fX7t27lZubq0qVKmnWrFmXvP0RAFQEmksAv1ljxoxRhw4d9Le//U3fffedNm/eLH9/f7Vs2VI9e/bUgAEDLroQ5tVXX9XMmTO1YcMGff/997Lb7erevbuGDRum%2BvXrq06dOvrPf/6jrVu3avfu3WW%2BEv3pp59W27Zt9f777%2Bv7779XamqqioqKFBISorvvvlsPPfSQKxW9oHbt2lq9erWWL1%2Bu9evXa/fu3SoqKlLt2rV1xx13aMiQIaWeGwoAFcnLaTxWBAAAAJjAOZcAAACwDM0lAAAALENzCQAAAMvQXAIAAHi4L774Qh06dFBiYuIvrldSUqLZs2crNjZWbdu21ZAhQ5SVleVa7nA4NHr0aHXo0EGdOnXS%2BPHjTX/z2M/RXAIAAHiwJUuWaNq0aWW6O8Rbb72lDz/8UIsXL9Znn32mhg0bavjw4a57/U6cOFFnzpzR2rVrlZycrMzMTM2cOdPSemkuAQAAPJi/v79Wr15dpuYyKSlJgwcPVuPGjRUYGKjExERlZmZq27ZtOnbsmFJSUpSYmKjg4GDVrl1b8fHxSk5OVmFhoWX1cp9LAACAcpadna2cnBy3sZCQENnt9stu%2B/DDD5fpOc6ePas9e/aoRYsWrrHAwEA1aNBAaWlpOnXqlLy9vdW0aVPX8oiICJ0%2BfVp79%2B51GzeD5vJ6V8YbQF93GjWSdu%2BWmjSR9u2r6Go8yqmT3Bq3NF5eUkCAlJ8vcfdgd5UqVXQFnsvHRyoqqugqPJOvbwU%2BeTm8NybNmaN58%2Ba5jY0YMUIJCQmWPceJEyfkdDoVFBTkNh4UFKTc3FxVr15dgYGBbl/%2BcGHd3Nxcy%2BqguQRKU7265O19/l%2BgDLy8/veguURZ8fn%2B%2BtG3b1/FxMS4jRm/7tVKv/T9OL/Gd%2BfQXAIAABjZrL8kxW63l%2BkQuBnVq1eXzWaTw%2BFwG3c4HKpZs6aCg4OVl5en4uJieXt7u5ZJUs2aNS2rgwt6AAAAfgP8/f3VpEkTpaenu8ZOnjypAwcOqHXr1mrevLmcTqcyMjJcy9PS0lStWjU1atTIsjpoLgEAAIxsNusf5eTo0aPq0aOH616W/fv314oVK5SZmam8vDzNnDlTzZs3V6tWrRQcHKzu3bvr1Vdf1fHjx3XkyBHNnz9f999/v3x8rDuYzWFxAAAAD9aqVStJUtF/r/5KSUmRdD51LCws1L59%2B1RQUCBJ6tevn3JycjRw4EDl5%2BcrKirK7UKiKVOmaNKkSYqNjZWvr6/uvvvuy96Y/Up5OX%2BNMzvhuTibvHSRkdLWrVKbNlJqakVX41G4Wrx0Ntv/rhYvKanoajwLV4tfmq%2BvZOHtBX9TKvRqcX9/6/d57pz1%2B/RQJJcAAABG5XgY%2B3rA7AEAAMAyJJcAAABGJJemMHsAAACwDMklAACAEcmlKTSXAAAARjSXpjB7AAAAsAzJJQAAgBHJpSnMHgAAACxDcgkAAGBEcmkKzSUAAIARzaUpzB4AAAAsQ3IJAABgRHJpCrMHAAAAy5BcAgAAGJFcmkJzCQAAYERzaQqzBwAAAMuQXAIAABiRXJrC7AEAAMAyJJcAAABGJJem0FwCAAAY0VyawuwBAADAMiSXAAAARiSXpjB7AAAAsAzJJQAAgBHJpSk0lwAAAEY0l6YwewAAALAMySUAAIARyaUpzB4AAAAsQ3IJAABgRHJpCs0lAACAEc2lKcweAAAALENyCQAAYERyaQrNJQAAgBHNpSnMHgAAACxDcgkAAGBEcmkKswcAAADLkFwCAAAYkVyaQnMJAABgRHNpCrMHAAAAy5BcAgAAGJFcmsLsAQAAwDIklwAAAEYemFweOnRIkydP1rZt21SlShX17NlTY8aMke1ntT766KP697//7TZWVFSk4cOHa8SIERo4cKC2bt3qtl2jRo20Zs0ay2qluQQAADDywOYyISFBERERSklJ0U8//aShQ4eqVq1aeuSRR9zWW7p0qdvvJ0%2BeVM%2BePXX77be7xqZOnarevXuXW62eN3sAAABwSUtLU0ZGhsaOHauqVauqYcOGGjx4sJKSki677auvvqrbb79dTZs2/RUqPY/kEgAAwKgcksvs7Gzl5OS4jYWEhMhut1922/T0dNWtW1dBQUGusYiICO3bt095eXkKDAwsdbv9%2B/fr/fffV0pKitv4unXr9MYbb%2Bjw4cO66aabNGXKFNWvX/8qXlXpSC4BAADKWVJSknr37u32KEvyKEkOh0PVqlVzG7vQaObm5l5yu8WLF%2Bu%2B%2B%2B5TcHCwa6xx48Zq0qSJ3n77bW3YsEHBwcF67LHHVFBQcBWvqnQklwAAAEblkFz27dtXMTExbmMhISFl3t7pdF7R8zkcDn3wwQf6%2BOOP3caff/55t9%2BnTJmiqKgoffvtt4qOjr6i57gUmksAAACjcmgu7XZ7mQ6BlyY4OFgOh8NtzOFwyMvLyy2VNNqwYYMaNWqksLCwX9x3YGCggoKCdPTo0auqrTQcFgcAAPBgLVu21OHDh3X8%2BHHXWFpamm688UYFBASUus2GDRvUsWNHt7G8vDw9//zzbo3k8ePHdfz48cs2oVeC5hIAAMDIZrP%2BYUKLFi3UqlUrzZo1S3l5ecrMzNSyZcvUv39/SVKPHj20ZcsWt2127NihevXquY0FBgZq27ZtmjZtmhwOh06cOKHJkyeradOmioyMNFWjEc0lAACAh5szZ46ys7PVsWNHPfzww%2BrVq5cGDBggSdq3b59Onz7ttn5OTo5q1ap10X7mz58vp9Op7t27q0uXLiosLNTixYsvuhm7GV7OKz1DFL8tXl4VXYFnioyUtm6V2rSRUlMruhqPcuokfzJKY7NJAQFSfr5UUlLR1XiWSpUqugLP5esrFRZWdBWeyde3Ap%2B8e3fr9/nJJ9bv00NxQQ8AAICRB35Dz7WE2QMAAIBlSC4BAACMSC5NYfYAAABgGZJLAAAAI5JLU2guAQAAjGguTWH2AAAAYBmSSwAAACOSS1OYvXIyaNAgvfTSS25j8%2BfPV79%2B/XTo0CENGzZMUVFRatu2rcaNG6e8vDzXemvWrFHPnj0VGRmpmJgYvf32265lc%2BfO1dChQzV69Gi1adPmV3s9AAAAZUFzWU569eqljz76SCWGr%2Br49NNPdc899yg%2BPl6hoaHauHGj/vGPf%2Bjo0aOaMWOGJCkrK0tPP/20JkyYoK1bt2r69OmaOnWqMjIyXPv57rvv1K5dO/373//%2B1V8XAAC/eR723eLXGg6Ll5M77rhDU6ZM0TfffKPo6GhlZWUpMzNTrVq10vTp07Vy5UpVrlxZlStXVkJCgoYMGaIpU6aoXr16%2BvrrrxUUFCRJio6OVs2aNZWenq5mzZpJkry9vdW/f395XeFXN2ZnZysnJ8dtLKRRI9mrV7fmRf%2BW/HeuXf/C5Tr7G1lmF%2BaF%2BQF%2BA/g/sik0l%2BUkICBA3bp105o1axQdHa1PP/1UHTt2VFZWloqLixUVFeW2fnFxsXJzcxUcHKyVK1dq9erVys7OltPpVEFBgQoKClzr1qlT54obS0lKSkrSvHnz3MZGjBqlhFGjru5FXg8MpyTgvICKLsDDVa5c0RXgWlOh36ENlAOay3LUq1cvjRw5UpMnT9b69ev10EMPyd/fX1WqVFFqamqp26xatUqLFy/WggUL1LZtW3l7e6tz585u6/j4XN1/tr59%2ByomJsZtLOSee6Q337yq/f2mNWt2vrEcMEAynJIAKf%2BLrRVdgkey2c43lmfOSIazYSDJz6%2BiK/Bcvr5SYWFFV%2BGZKrTpJrk0heayHEVHRysgIECrVq3S7t27FRsbq6ysLJ0%2BfVpZWVkKCwuTJOXl5amwsFA1atRQWlqabrnlFrVv316SlJOTo%2BzsbEvqsdvtstvt7oP79lmy79%2BsjAzpEh8Erlc0Tr%2BspIQ5AnB9ozUvRzabTffcc49eeeUVxcbGqnLlygoPD1dkZKSmT5%2Bu48eP6%2BTJk5o0aZLGjRsnSapbt6727t2rEydO6NChQ5o2bZp%2B97vf6ejRoxX8agAAuE5wQY8p19errQC9evVSXl6e7rnnHtfYrFmz5HQ6FRsbq9tvv13FxcWu2xb1799fDRo0UOfOnfXEE0/ooYce0kMPPaRly5bprbfeqqiXAQDA9YPm0hQvp9PprOgifsu%2B/vprPffcc0pJSZHNE//HdRUXBl0XIiOlrVulNm04LP4zp07yJ6M0NpsUECDl53NY/OcqVaroCjwX51xeWoWec/ngg9bv8zoKiDjnshxlZ2frhRde0JAhQzyzsQQAABfjPdsUZq%2BcLFq0SHfeeafatm2r/v37V3Q5AAAAvwqSy3IydOhQDR06tKLLAAAAV4rk0hSaSwAAACOaS1OYPQAAAFiG5BIAAMCI5NIUZg8AAACWIbkEAAAwIrk0heYSAADAiObSFGYPAAAAliG5BAAAMCK5NIXmEgAAwIjm0hRmDwAAAJYhuQQAADAiuTSF2QMAAIBlSC4BAACMSC5NobkEAAAwork0hdkDAACAZUguAQAAjEguTWH2AAAAYBmSSwAAACOSS1NoLgEAAIxoLk1h9gAAAGAZkksAAAAjkktTmD0AAABYhuQSAADAyAOTy0OHDmny5Mnatm2bqlSpop49e2rMmDGy/azWuXPnasGCBfLxcW/xPvvsM9WqVUvnzp3T9OnTtXHjRp07d05RUVGaPHmyatSoYVmtnjd7AAAAFclms/5hUkJCgmrXrq2UlBQtW7ZMKSkpevPNN0tdNy4uTmlpaW6PWrVqSZJmz56t9PR0JSUl6ZNPPpHT6dSzzz5ruj4jmksAAAAPlpaWpoyMDI0dO1ZVq1ZVw4YNNXjwYCUlJV3RfoqKirR69WrFx8crNDRU1atX1%2BjRo7Vx40YdPXrUsno5LA4AAGBUDofFs7OzlZOT4zYWEhIiu91%2B2W3T09NVt25dBQUFucYiIiK0b98%2B5eXlKTAw0G39nTt3ql%2B/ftq1a5dCQ0P17LPPqlOnTjpw4IBOnTqliIgI17qNGzdWpUqVlJ6ertq1a5t8lefRXAIAAJSzpKQkzZs3z21sxIgRSkhIuOy2DodD1apVcxu70Gjm5ua6NZd16tRRWFiYxowZI7vdrqSkJA0bNkxr1qyRw%2BGQpIv2Va1aNeXm5l7V6yoNzSUAAIBROSSXffv2VUxMjNtYSEhImbd3Op1lWq9Pnz7q06eP6/fBgwfro48%2B0po1a3Tbbbdd0b6uFs0lAACAUTk0l3a7vUyHwEsTHBzsSh0vcDgc8vLyUnBw8GW3r1u3rrKzs13rOhwOBQQEuJafOHFCNWvWvKraSsMFPQAAAB6sZcuWOnz4sI4fP%2B4aS0tL04033ujWJErSggULtHnzZrexzMxMhYWFKSwsTEFBQUpPT3ct27VrlwoKCtSyZUvL6qW5BAAAMPKwWxG1aNFCrVq10qxZs5SXl6fMzEwtW7ZM/fv3lyT16NFDW7ZskXQ%2BlZw8ebL27t2rc%2BfOaenSpTpw4IDuvfdeeXt764EHHtDChQt1%2BPBh5ebm6pVXXtHtt9/uulWRFTgsDgAA4OHmzJmjiRMnqmPHjgoMDFS/fv00YMAASdK%2Bfft0%2BvRpSdKYMWMknT/X0uFw6MYbb9Ty5ctVp04dSdLIkSOVn5%2BvuLg4FRUVqWvXrnr%2B%2BectrdXLWd5ndcKzeXlVdAWeKTJS2rpVatNGSk2t6Go8yqmT/Mkojc0mBQRI%2BflSSUlFV%2BNZKlWq6Ao8l6%2BvVFhY0VV4Jl/fCnzyF1%2B0fp8W36jck5FcAgAAGHng1z9eS5g9AAAAWIbkEgAAwIjk0hRmDwAAAJYhuQQAADAiuTSF5hIAAMCI5tIUZg8AAACWIbkEAAAwIrk0hdkDAACAZUguAQAAjEguTaG5BAAAMKK5NIXZAwAAgGVILgEAAIxILk1h9gAAAGAZkksAAAAjkktTaC4BAACMaC5NYfYAAABgGZJLAAAAI5JLU2guAQAAjGguTWH2AAAAYBmSSwAAACOSS1OYPQAAAFiG5BIAAMCI5NIUmksAAAAjmktTmD0AAABYhuQSAADAiOTSFGYPAAAAliG5BAAAMCK5NIXm8jp36qSzokvwSDabFCAp/4utKimp6Go8S9VqXhVdgmeKjJS2blXArW2k1NSKrsaj7P%2BBvzOl8fOTQkOlY8ekgoKKrsbzNGhQgU9Oc2kKswcAAADLkFwCAAAYkVyawuwBAADAMiSXAAAARiSXptBcAgAAGNFcmsLsAQAAwDIklwAAAEYkl6YwewAAALAMySUAAIARyaUpNJcAAABGNJemMHsAAACwDMklAACAEcmlKcweAAAALENyCQAAYOSByeWhQ4c0efJkbdu2TVWqVFHPnj01ZswY2UqpdeXKlVq%2BfLmys7NVv359JSQkqFu3bpKkZ555RmvWrJG3t7drfX9/f23ZssWyWmkuAQAAjDywuUxISFBERIRSUlL0008/aejQoapVq5YeeeQRt/U%2B%2BeQTzZo1S4sWLVLr1q31/vvva/To0fr4448VFhYmSXryySeVkJBQbrV63uwBAADAJS0tTRkZGRo7dqyqVq2qhg0bavDgwUpKSrpo3bNnz%2Bqpp57SzTffLF9fX/Xp00cBAQH67rvvfrV6SS4BAACMyiG5zM7OVk5OjttYSEiI7Hb7ZbdNT09X3bp1FRQU5BqLiIjQvn37lJeXp8DAQNd4XFyc27YnT55Ufn6%2Bateu7Rr7%2BuuvtWHDBu3fv1%2BNGzfW888/r5YtW17tS7sIzSUAAEA5S0pK0rx589zGRowYUabD0w6HQ9WqVXMbu9Bo5ubmujWXRk6nUxMmTNBNN92kdu3aSZLCwsJks9k0atQoBQQEaN68eXr00Uf1ySefqEaNGlfz0i5CcwkAAGBUDsll3759FRMT4zYWEhJS5u2dTucVPV9hYaGeeeYZ7dmzRytWrHCNDx8%2B3G29P/7xj1q7dq1SUlLUp0%2BfK3qOS6G5BAAAMCqH5tJut5fpEHhpgoOD5XA43MYcDoe8vLwUHBx80fpnz55VfHy8zpw5o7feeusXE0lvb2%2BFhoYqOzv7qmorDRf0AAAAeLCWLVvq8OHDOn78uGssLS1NN954owICAtzWdTqdSkxMlI%2BPj5YvX%2B7WWDqdTr344ovKyMhwjRUUFOjAgQOuK8mtQHMJAABgZLNZ/zChRYsWatWqlWbNmqW8vDxlZmZq2bJl6t%2B/vySpR48ervtUfvjhh9qzZ49ee%2B01%2Bfv7u%2B3Hy8tLBw8e1OTJk3X06FHl5%2Bdr5syZ8vX1dd0H0wo0lwAAAB5uzpw5ys7OVseOHfXwww%2BrV69eGjBggCRp3759On36tCQpOTlZhw4dUrt27dSqVSvXY8KECZKk6dOnq2HDhurdu7c6dOigHTt26M0331SVKlUsq9XLeaVniOI35dSpiq7AM9lsUkCAlJ8vlZRUdDWepWo1r4ouwTNFRkpbt0pt2kipqRVdjUfZ/wNvM6Xx85NCQ6XDh6WCgoquxvM0aFCBT755s/X7jI62fp8eigt6AAAAjDzwG3quJcweAAAALENyCQAAYERyaQqzBwAAAMuQXAIAABiRXJpCcwkAAGBEc2kKswcAAADLkFwCAAAYkVyaQnMJAABgRHNpCrMHAAAAy5BcAgAAGJFcmsLsAQAAwDIklwAAAEYkl6bQXAIAABjRXJrC7AEAAMAyJJcAAABGJJemMHsAAACwDMklAACAEcmlKTSXAAAARjSXpjB7AAAAsAzJJQAAgBHJpSnMHgAAACxDcgkAAGBEcmlRjEvOAAAgAElEQVQKzSUAAIARzaUpzB4AAAAsQ3IJAABgRHJpCrMHAAAAy5BcAgAAGJFcmkJzCQAAYERzaQqzBwAAAMuQXAIAABiRXJrC7AEAAMAyJJcAAABGJJem0FwCAAAY0VyawuwBAADAMiSXAAAARiSXpjB7AAAAsAzJJQAAgBHJpSk0lwAAAEY0l6YwewAAALAMySUAAIARyaUpzB4AAAAsY1lz2bRpU/3rX/%2ByaneWOHjwoJo2barMzMyr2n7gwIGaOXPmJZd37NhR77777tWWJ0n697//rVatWqmgoMDUfgAAgEVsNusfJh06dEhPPPGEoqKi1LVrV/35z39WSUlJqeuuWLFC3bt3V5s2bdS/f399//33rmXnzp3Tn/70J912222KiorSyJEjlZuba7o%2BI5LLCta2bVulpaXJz8%2BvoksBAACSRzaXCQkJql27tlJSUrRs2TKlpKTozTffvGi9f/7zn5o7d65efvllffXVV%2BratauGDRum06dPS5Jmz56t9PR0JSUl6ZNPPpHT6dSzzz5ruj4jmksAAAAPlpaWpoyMDI0dO1ZVq1ZVw4YNNXjwYCUlJV20blJSknr37q2bbrpJlSpV0mOPPSZJ%2Buyzz1RUVKTVq1crPj5eoaGhql69ukaPHq2NGzfq6NGjltVr6QU9OTk5GjRokFJTU1WvXj29%2BuqrCg8PlyRt2bJFL7/8snbv3q2AgADdd999GjVqlGw2m5555hmdO3dOs2fPlnQ%2Bsm3durVWrFihqKgobdy4UbNmzdLBgwcVEBCguLg4jRkzRjabTQ6HQ9OmTdPXX3%2Bt/Px8tW/fXs8//7xq167tqmvfvn0aN26cdu3apRYtWui1115TnTp1JEkpKSmaM2eODhw4oODgYA0ePFgPP/zwRa%2BtqKhIL774otauXSs/Pz%2BNHDnyiuZm8eLFWrlypY4fP646deooPj5ecXFx%2Buabb/Twww9r%2B/bt%2BvjjjzVx4kTXNk6nU4WFhfrrX/%2Bqdu3a6dChQ5o6dapSU1NVUlKirl276k9/%2BpMCAwPLVEN2drZycnLcxqpUCZHdbr%2Bi13I9uPAhk3O6SxEZWdEVeKZmzdz/hQsHZkrn4%2BP%2BLzxIOfzxL%2B09OCSkbO/B6enpqlu3roKCglxjERER2rdvn/Ly8tz6gPT0dPXs2dP1u81mU/PmzZWWlqbmzZvr1KlTioiIcC1v3LixKlWqpPT0dLfeyQxL/yedlJSkGTNmKCQkRPHx8XrllVe0cOFCHTt2TEOGDNG4cePUp08f7dmzR48//rjsdrsefPDBX9xnYWGhEhMTNX/%2BfEVHR2v//v167LHHFBkZqW7duumZZ56Rj4%2BPPvroI3l7e2vSpEl69tlntXTpUtc%2BVq1apddff10%2BPj4aOHCg3njjDU2YMEEZGRkaNWqUXnvtNXXu3FlbtmzRsGHD1KBBA3Xu3NmtjuTkZP3jH//Q22%2B/rdDQUM2YMUMnTpwo07xs3bpVK1as0DvvvKPQ0FBt2rRJCQkJ6tSpk9t6vXr1Uq9evVy/z5w5U19%2B%2BaV%2B//vfy%2Bl0Kj4%2BXm3atNHs2bN1%2BvRpPfXUU5oxY4amTp1apjqSkpI0b948t7Hhw0do5MiEMm1/PapcuaIr8EBbt1Z0BZ7t7bcrugKPE1rRBXi4kJCKrgC/htLeg0eMGKGEhMu/BzscDlWrVs1t7EKjmZub69ZcOhwOtyb0wrq5ublyOBySdNG%2BqlWrZul5l5Y2l3FxcWrUqJEkKSYmRitXrpQkrV27Vr/73e9cjWSLFi0UFxenjz/%2B%2BLLN5blz53T27FlVqVJFXl5eatiwoT799FPZbDb99NNP%2Buyzz7Ru3TrXRI4dO1ZdunRx%2B3QwYMAA1yeD6Oho7du3T9L5hjE6OlrdunVzLevSpYvWrVt3UXO5fv163XPPPWrcuLEkadSoUaXG0aU5deqUbDabKlWqJC8vL3Xq1EnffvutbDab9uzZU%2Bo2X3zxhVauXKnk5GT5%2Bflp%2B/bt2r17t1auXKnKlSurcuXKSkhI0JAhQzRlyhR5eXldto6%2BffsqJibGbaxKlRDl55fpZVxXbLbzjeWZM9Ilzpe%2BbgXc2qaiS/BMzZqdbywHDJAyMiq6Go9y%2BCM%2BkJTGx%2Bd8Y5mTIxUVVXQ1nie0Aj%2BVOHX599QrVdp7cMgVfLJwOp2WrXsl%2B7oaljaX9erVc/3s7%2B%2BvwsJCSeev2r7QlF3QoEEDffzxx5fdZ2BgoIYPH66HHnpIrVu3VseOHdW7d2%2BFhoYqKytLktzSPkny9vbW4cOHFRwcfFFdlSpVcl2Zfam6tpaSzBw9elRdunRx/R4cHHzRJ4NLiY6OVosWLRQTE6Po6GjddtttiouLU5UqVUpdPycnR08//bQmTZqkhg0bSpKysrJUXFysqKgot3WLi4uVm5vreq2/xG63XxS/nzpF8/RLSkqYn4ukplZ0BZ4tI4M5%2BhluhvHLioqYI09THn/3S3sPLqvg4GBX6niBw%2BGQl5fXRe//NWrUKHXdJk2auNZ1OBwKCAhwLT9x4oRq1qx5VbWVxtLm8lLp2aVus3Op9YuLi91%2BHzFihPr06aOUlBSlpKTojTfe0JtvvqlKlSpJkv71r3%2BpRo0aF%2B3n4MGDv1jvldRVUFCgop99tLzULQB%2Bzs/PTwsXLlRGRoY2bNigt956S0uXLi31NkYlJSX64x//qC5duugPf/iDa9zf319VqlRRKm9aAABcV1q2bKnDhw/r%2BPHjrgYxLS1NN954o1uTeGHd9PR03XvvvZLO91T/%2Bc9/dP/99yssLExBQUGuczgladeuXSooKFDLli0tq/dXuVyhfv362rt3r9vY3r17FRYWJul883XmzBnXsgMHDrit63A4VLt2bT344INatmyZevTooQ8%2B%2BEB169aVzWbTzp07XesWFhaW%2BYqny9VlZLfbdeTIEdfv2dnZOnnyZJmep7CwUHl5eWrWrJmGDx%2Bu999/X15eXvrqq68uWnfhwoXKyclxu7DnQq2nT592pbWSlJeXZ/m9qQAAuN5dOGpl5cOMFi1aqFWrVpo1a5by8vKUmZmpZcuWqX///pKkHj16aMuWLZKk/v376/3339d3332nM2fO6PXXX5efn5%2B6dOkib29vPfDAA1q4cKEOHz6s3NxcvfLKK7r99ttVq1Yts9Pm8qs0l3feeaeysrKUlJSkoqIibd%2B%2BXe%2B9956rq27YsKG2bdumI0eO6NSpU1q6dKm8vb0lSampqbrzzju1fft2OZ1O/fTTT9q3b5/q16%2BvqlWrqmfPnpo5c6aOHDmis2fP6pVXXtGjjz5apvMJ/vCHP2jTpk2uy/O/%2BOILbdy48aLD7JJ06623au3atfrhhx%2BUl5en2bNny9/fv0yvf%2BnSpXr88cddzWlmZqZOnDih%2BvXru623ZcsW/eUvf9Grr76qyj%2B7kiQ8PFyRkZGaPn26jh8/rpMnT2rSpEkaN25cmWoAAADXrjlz5ig7O1sdO3bUww8/rF69emnAgAGSzt8V58J9LG%2B77TY99dRTGj16tNq1a6evvvpKixcvdh3tHTlypG666SbFxcUpNjZWAQEBmj59uqW1/io3QKhbt67mzZun1157TS%2B99JLsdrtGjRrlauLuv/9%2BffXVV%2BrRo4fsdrsmTJiglJQUSVJkZKSefPJJjR49WseOHVP16tV15513ui4EmjhxoqZOnaq77rpLNptNv//977VgwYIyXeByoVmbNWuWnnrqKdWrV08zZ85Uu3btLlp38ODBysrK0gMPPOC6FdG3335bptf/yCOP6Mcff1SvXr109uxZhYaGauzYsWrevLm%2B%2BeYb13rJyck6ffq0evfu7bb9k08%2Bqfj4eM2aNUtTpkxRbGys/Pz8FB0drZdeeqlMNQAAgLLxxHPt69SpoyVLlpS6zHgEVzp/IfOFxvPn/Pz8NGnSJE2aNMnyGi/wcpb3JUPwaKdOVXQFnslmkwICpPx8z/wjU5GqVrP%2BKsrfhMjI87dpatOGC3p%2BZv8PvM2Uxs/v/BXRhw9zQU9pGjSouOc2nKlnmevp1nbcIhoAAACW4XsBLHDLLbfo3Llzl1z%2Bj3/8w3VVFgAA8GwcsTKH5tICF67QAgAA1z6aS3M4LA4AAADLkFwCAAAYkFyaQ3IJAAAAy5BcAgAAGJBcmkNzCQAAYEBzaQ6HxQEAAGAZkksAAAADkktzSC4BAABgGZJLAAAAA5JLc2guAQAADGguzeGwOAAAACxDcgkAAGBAcmkOySUAAAAsQ3IJAABgQHJpDs0lAACAAc2lORwWBwAAgGVILgEAAAxILs0huQQAAIBlSC4BAAAMSC7NobkEAAAwoLk0h8PiAAAAsAzJJQAAgAHJpTkklwAAALAMySUAAIAByaU5NJcAAAAGNJfmcFgcAAAAliG5BAAAMCC5NIfkEgAAAJYhuQQAADAguTSH5hIAAMCA5tIcDosDAADAMiSXAAAABiSX5pBcAgAAwDIklwAAAAYkl%2BbQXAIAABjQXJrDYXEAAABYhuQSAADAgOTSHJJLAAAAWIbmEgAAwKCkxPpHeXI4HBo9erQ6dOigTp06afz48Tp79uwl1//000/1hz/8QZGRkerevbveeecd17K5c%2BeqefPmatWqldvj2LFjZa6Hw%2BIAAAAG19ph8YkTJ6qgoEBr165VYWGhRo0apZkzZ2rChAkXrbt9%2B3aNHTtWr7zyirp06aJNmzZp%2BPDhuuGGG3TLLbdIkuLi4vTSSy9ddT0klwAAANeoY8eOKSUlRYmJiQoODlbt2rUVHx%2Bv5ORkFRYWXrS%2Bw%2BHQ0KFD1a1bN/n4%2BKhz584KDw/Xli1bLKuJ5BIAAMCgPJLL7Oxs5eTkuI2FhITIbreb2u%2BOHTvk7e2tpk2busYiIiJ0%2BvRp7d27121ckm677Tbddtttrt%2BLioqUk5Oj2rVru8Z27typfv36adeuXQoNDdWzzz6rTp06lbkmmksAAACD8mguk5KSNG/ePLexESNGKCEhwdR%2BHQ6HAgMD5eXl5RoLCgqSJOXm5l52%2B5kzZ6pKlSrq2bOnJKlOnToKCwvTmDFjZLfblZSUpGHDhmnNmjW64YYbylQTzSUAAEA569u3r2JiYtzGQkJCyrTtBx98oHHjxpW6LDExUU6n84rrcTqdmjlzptauXasVK1bI399fktSnTx/16dPHtd7gwYP10Ucfac2aNRo9enSZ9k1zCQAAYFAeyaXdbr/qQ%2BBxcXGKi4srddmmTZuUl5en4uJieXt7SzqfZkpSzZo1S92mpKREzz77rLZv366VK1cqLCzsF5%2B/bt26ys7OLnO9XNADAABwjWrevLmcTqcyMjJcY2lpaapWrZoaNWpU6jYvvPCCdu/eXWpjuWDBAm3evNltLDMz87INqBHNJQAAgMG1dJ/L4OBgde/eXa%2B%2B%2BqqOHz%2BuI0eOaP78%2Bbr//vvl43P%2BAPWgQYO0bt06SdK3336rNWvWaPHixapevfpF%2B3M4HJo8ebL27t2rc%2BfOaenSpTpw4IDuvffeMtfEYXEAAACDa%2B0%2Bl1OmTNGkSZMUGxsrX19f3X333UpMTHQtz8rK0okTJyRJycnJOnXqlLp27eq2j7Zt22rp0qUaM2aMpPPnWjocDt14441avny56tSpU%2BZ6vJxXcxYofjNOnaroCjyTzSYFBEj5%2BdfeH5nyVrWa1%2BVXuh5FRkpbt0pt2kipqRVdjUfZ/wNvM6Xx85NCQ6XDh6WCgoquxvM0aFBxz/3JJ9bvs3t36/fpqUguAQAADAgVzOGcSwAAAFiG5BIAAMCA5NIcmksAAAADmktzOCwOAAAAy5BcAgAAGJBcmkNyCQAAAMuQXAIAABiQXJpDcwkAAGBAc2kOh8UBAABgGZLL61ylShVdgWfz86voCjwPX%2BVXOj8/KVTS4Y%2B28lV%2BP9OgIV8ZWqr/fmVo6F18ZWipKvDbqUkuzSG5BAAAgGVILgEAAAxILs2huQQAADCguTSHw%2BIAAACwDMklAACAAcmlOSSXAAAAsAzJJQAAgAHJpTk0lwAAAAY0l%2BZwWBwAAACWIbkEAAAwILk0h%2BQSAAAAliG5BAAAMCC5NIfmEgAAwIDm0hwOiwMAAMAyJJcAAAAGJJfmkFwCAADAMiSXAAAABiSX5tBcAgAAGNBcmsNhcQAAAFiG5BIAAMCA5NIckksAAABYhuQSAADAgOTSHJpLAAAAA5pLczgsDgAAAMuQXAIAABiQXJpDcwkAAGBAc2kOh8UBAABgGZJLAAAAA5JLc0guAQAAYBmSSwAAAAOSS3NILgEAAAxKSqx/lCeHw6HRo0erQ4cO6tSpk8aPH6%2BzZ8%2BWuu67776rZs2aqVWrVm6P7du3//e1l2j27NmKjY1V27ZtNWTIEGVlZV1RPTSXAAAA17CJEyfqzJkzWrt2rZKTk5WZmamZM2decv22bdsqLS3N7dG6dWtJ0ltvvaUPP/xQixcv1meffaaGDRtq%2BPDhcjqdZa6H5hIAAMDgWkoujx07ppSUFCUmJio4OFi1a9dWfHy8kpOTVVhYeMX7S0pK0uDBg9W4cWMFBgYqMTFRmZmZ2rZtW5n3QXMJAABwjdqxY4e8vb3VtGlT11hERIROnz6tvXv3lrrN4cOH9cgjj6ht27aKjY3VBx98IEk6e/as9uzZoxYtWrjWDQwMVIMGDZSWllbmmrigBwAAwKA8ksbs7Gzl5OS4jYWEhMhut5var8PhUGBgoLy8vFxjQUFBkqTc3NyL1g8ODlbDhg311FNP6cYbb9T69es1btw42e123XDDDXI6na7tjfsrbV%2BXQnMJAABgUB7NZVJSkubNm%2Bc2NmLECCUkJFx22w8%2B%2BEDjxo0rdVliYuIVnQ/ZpUsXdenSxfX7XXfdpfXr1%2Bvdd9/V2LFjJemK9lcamksAAIBy1rdvX8XExLiNhYSElGnbuLg4xcXFlbps06ZNysvLU3Fxsby9vSWdTzMlqWbNmmXaf926dfX999%2BrevXqstlsru0vcDgcZd6XRHMJAADgpjySS7vdbvoQeGmaN28up9OpjIwMRURESJLS0tJUrVo1NWrU6KL1V65cqaCgIPXs2dM1lpmZqbCwMPn7%2B6tJkyZKT09Xu3btJEknT57UgQMHXFeTlwUX9AAAAFyjgoOD1b17d7366qs6fvy4jhw5ovnz5%2Bv%2B%2B%2B%2BXj8/5DHHQoEFat26dJKmgoEBTp05VWlqaCgsLtXbtWv3rX/9Sv379JEn9%2B/fXihUrlJmZqby8PM2cOVPNmzdXq1atylwTySUAAIDBtfYNPVOmTNGkSZMUGxsrX19f3X333UpMTHQtz8rK0okTJyRJDz/8sPLz8zVq1Cjl5OSoXr16mj9/vlq2bClJ6tevn3JycjRw4EDl5%2BcrKirqonNFL8fLafasTVzTruIWWNcNX1/mpzQ//ljRFXgmPz8pNFQ6fFgqKKjoajxLg4Zel1/pehQZKW3dKrVpI6WmVnQ1nqcC25Nnn7V%2Bny%2B%2BaP0%2BPRWHxQEAAGAZDosDAAAYXGuHxT0NySUAAAAsQ3IJAABgQHJpDs0lAACAAc2lORwWBwAAgGVILgEAAAxILs0huQQAAIBlSC4BAAAMSC7NobkEAAAwoLk0h8PiAAAAsAzJJQAAgAHJpTkklwAAALAMySUAAIAByaU5NJcAAAAGNJfmcFgcAAAAliG5BAAAMCC5NIfkEgAAAJYhuQQAADAguTSH5hIAAMCA5tIcDosDAADAMiSXAAAABiSX5pBcAgAAwDIklwAAAAYkl%2BZc18nlzJkzNXDgwIouAwAAeJCSEusf15Mrai5jYmIUERGhVq1auR4xMTF68cUXlZ%2BfX141XhM2b96stLS0y66XlJSkpk2b6o033vgVqgIAAPh1XXFyOWHCBKWlpSktLU3bt2/XokWLtGnTJs2YMaM86rtmLF%2B%2BXN9///1l11u1apXuuusuvfvuu79CVQAA4EqRXJpj6rC4l5eXmjRposcff1zr1693jR86dEjDhg1TVFSU2rZtq3HjxikvL0%2BSdObMGT399NOKjo5WZGSk%2BvXr52rK5s6dq8GDB2vBggWKiorSzTffrNdee82135KSEs2fP1%2B33367WrdurXvvvVebN292LY%2BJidGqVav0xBNPKDIyUt26ddOXX37pWv7Pf/5T3bt3V2RkpEaPHq2zZ8%2B6vZ5169YpLi5Ov//97xUbG6ukpCTXsmeeeUZTp07Viy%2B%2BqHbt2ql9%2B/ZasmSJJGnYsGHauHGjpk2bpkGDBl1yvnbu3Kndu3dr/PjxOnLkiFJTU92WHzhwQL1791br1q314IMPau3atWratKlreUZGhgYNGqRbbrlF7du317Rp01RYWHj5/1AAAAC/Eksu6DE2OE6nU/Hx8WrTpo1mz56t06dP66mnntKMGTM0depUvfnmmzp27JjWr18vPz8/LVmyRBMnTtR7770nSdq2bZsiIyP1xRdfKC0tTUOGDFFERIS6deumt956S6tWrdKiRYvUqFEj/e1vf1N8fLxSUlJUs2ZNSdJf/vIXvfzyy2rWrJmef/55vfDCC1q3bp1OnjypxMREjR07Vn379tXmzZs1ZswYNW/eXJKUlpam8ePHa%2B7cuYqOjlZqaqoef/xxNWnSRG3atJEkrV27Vs8884w2bdqkNWvWaOLEiYqLi9PChQsVExOjxx9/XP3797/kPK1atUoxMTGqWbOmunfvrtWrVysyMtK1fMSIEbrhhhv0t7/9Tbt379bYsWNdy86cOaPHHntMAwcO1JIlS3T06FHFx8frL3/5i4YNG1am/07Z2dnKyclxG6tRI0QhIfYybQ9Ikp9fRVfgmXx83P%2BFgeHvHAyaNXP/Fx7jeksarWbqz2BJSYl27typJUuW6J577pF0vknbvXu3Vq5cqcqVK6ty5cpKSEjQkCFDNGXKFJ08eVK%2Bvr6qVKmSfHx8FB8fr/j4eNc%2BbTabhg8fLh8fH918883q1KmTNm7cqG7dumn16tUaMGCAK8179NFH9cYbb2jjxo267777JEldu3ZV69atJUndu3fX%2B%2B%2B/r5KSEn355ZeqUqWKHnzwQdlsNnXu3Fm33HKL61zRd999V126dFGnTp0kSbfccovuvPNOffDBB67msl69err33nslST179tRzzz2nH374QXb75ZuzgoICffjhh67TB%2BLi4hQfH6/x48erSpUqOnr0qHbu3KkZM2aoSpUquummm3TnnXdq0aJFkqSNGzfK6XRq6NChkqSwsDANGTJEixYtKnNzmZSUpHnz5rmNDR8%2BQiNHJpRp%2B%2BuRr29FV%2BB5QkMrugLPFhJS0RV4oK1bK7oCz/b22xVdAX6G5tKcK24up02bphdeeEHS%2BeaycuXKGjhwoIYPHy5JysrKUnFxsaKioty2Ky4uVm5urgYMGKAhQ4aoc%2BfOuvXWW9WtWzfFxsa61qtfv758DB/9f/e73%2BmHH36QJB08eFCNGzd222/9%2BvV16NAh1%2B/16tVz/VypUiUVFxersLBQR44cUWhoqGy2/50J0LBhQ6Wnp0s6f0h68%2BbNatWqlWu50%2Bl0NZs/33flypUl6aJD65eyfv162Ww21/6ioqJUrVo1ffzxx7rvvvuUnZ0tSapbt65rG2MtWVlZ%2Bumnny6qz%2B8KYqS%2BffsqJibGbaxGjRBxZL10vr5ibkpx7FhFV%2BCZfHzON5Y5OVJRUUVX41lC72pT0SV4pmbNzjeWAwZIGRkVXY3n4UPJNeuKm8sJEya4Dv1%2B%2BeWXGj58uOLi4lwNob%2B/v6pUqXLR%2BYQXBAcHa926dfrmm2/0z3/%2BU3/605%2B0Zs0azZkzR9L5JtTI6XTKy8tL0vn0rzQXlktyax6NCgoKLtp3ieGjSaVKldS/f39NnDjxkq/9Uvsui1WrVunEiRNq27ata%2BzcuXNKTk7WfffdJ6fTKUlujbXxdfn7%2B6tJkyb68MMPr7oGu91%2BUcpK84QrdYn/G%2BK/ioqYo4tc4v0A/5WRwRx5GJJLc0xd0NOpUyfFxsZq4sSJruaofv36On36tLKyslzr5eXlKTc3V5KUn5%2Bv4uJidejQQRMmTNCqVav0ySefuJYfPnxYRYaP/T/%2B%2BKNq167t2vfevXtdy4qKirR//36FhYVdtla73a6jR4%2B66pSkzMxM18/169fXzp073bY5cuTIRQ3p1cjKytLXX3%2BtBQsW6P3333c93njjDX377bfat2%2BfgoODJZ1/vRcYb21Uv359ZWVlud3yKTc313WhFAAAsAZXi5tj%2Bibqzz33nDIyMlxXVoeHhysyMlLTp0/X8ePHdfLkSU2aNEnjxo2TJI0cOVIzZsxQXl6eSkpKlJqaqurVqysoKEjS%2BYbxjTfeUEFBgbZs2aJNmza5DuXGxcXp7bffVmZmpgoKCrRw4UIVFxdfdKi3NB06dFBeXp7%2B/ve/q6CgQCkpKdq2bZtr%2Bf3336%2BtW7cqOTlZBQUF2rFjh/r06aNPPvmkTPPg7%2B%2BvAwcO6NSpUxctS05OVnh4uLp06aIGDRq4Hh06dFDLli2VnJysevXqqV69elqyZInOnDmj7du3uz13p06dFBwc7Jq7nJwcjRo1SjNnzixTfQAAAL%2BG/2/v3uNzrv8/jj%2BvzWaZQ7bMYTaVlpXDzGEhho0mpy2UIkWpOSRFWumnVES1Sc4kfZUKTSHyJZVQZCuMfZWvQ7WhzdiwA9d2bb8//Lp%2B23cr870%2B87nG4367ud3m/flc1565Xe322ut9%2BDhcXN5www0aN26c3nzzTaWlpUmS4uLiVFRUpPDwcHXv3l02m03Tp0%2BXJL366qv67bffFBoaqrZt22rZsmWaO3eufco5ICBABQUF6tSpk6Kjo/Xoo4%2BqS5cuki5u4OnRo4cee%2BwxdejQQT/88IPef/991axZ85I569Wrp7i4OC1ZskQhISFau3atBg0aZL/euHFjxcXFafHixWrTpo19E1LPnj3L9e9w33336aOPPtKDDz5YYrywsFCfffaZ%2BvXrV%2Bbr%2Bn8HtuYAACAASURBVPfvr9WrV8tms%2Bntt9/Wnj171K5dO82aNUvR0dH2qXE3NzfNmzdPR44c0Z133qmoqCjdeOONiomJKVc%2BAABQPnQuHWMpKj5PbLLZs2dr27ZtWrlypdlRTFFUVKSCggK5/d8W5VWrVmnWrFn69ttvK%2Bx7subyr7Ghp2zFVm6gGHf3izvpT5xgzeV/anSj5dI3XYuCgy9uWmnVijWXZTGxPImMNP4916wx/j2dFSeyOZGhQ4eqTp06evXVV3Xu3Dl99NFH6ty5s9mxAAC4plxrnUajOTwtDuNMmTJFmZmZ6tixo6KionTLLbeUOEgdAABUPKbFHeNU0%2BK48pj2/WtMi5eNafGyMS3%2B15gW/wtMi/89E8uTXr2Mf8/1641/T2fFtDgAAEAx11qn0WhMiwMAAMAwdC4BAACKoXPpGIpLAACAYipbcZmVlaXJkydr165dcnFxUefOnTVp0iR5eHiUuvd//ud/tOY/zkWy2WyKjIzUtGnT9Nxzz2nt2rVydXW1X69ataoSExPLnYdpcQAAgEps0qRJysvL07p167Rq1SodPnz4L5/gN2XKFO3bt8/%2BZ/fu3br55pvVo0cP%2Bz0jR44scc/lFJYSxSUAAEAJlekoooyMDG3evFlPP/20vLy8VLduXY0aNUqrVq1SfjmOPFm6dKkaNGhg6LnaFJcAAACV1IEDB%2BTq6qomTZrYx5o2barc3FwdOXLkb1979uxZLViwQBMmTCgxvnPnTkVFRSk4OFgDBgzQ/v37LysTay4BAACKqYhOY3p6uk6ePFlirE6dOvLx8XHofbOyslS9enVZLP9/nmytWrUkSZmZmX/72mXLlqlt27YKCAiwj/n5%2BcnFxUVjx46Vp6en5syZo0ceeUQbN25U7dq1y5WJ4hIAAKCYiiguV6xYoTlz5pQYe%2BKJJzRmzJhLvnbNmjV69tlny7z29NNP6795Ho7NZtOHH36ouLi4EuOjR48u8fcJEyZo3bp12rx5s%2B69995yvTfFJQAAQAUbOHCgwsLCSozVqVOnXK%2BNjIxUZGRkmde%2B%2B%2B47ZWdny2az2Xd4Z2VlSZK8vb3/8j0TEhJktVrVpk2bv/3erq6uql%2B/vtLT08uVVaK4BAAAKKEiOpc%2BPj4OT4GX5bbbblNRUZF%2B/vlnNW3aVJK0b98%2B1axZUzfddNNfvu6rr75Su3btVKXK/5eCRUVFmj59uu655x4FBgZKkqxWq37//Xf5%2BfmVOxMbegAAACopLy8vRUREaObMmTp9%2BrT%2B%2BOMPzZ07VwMGDLAXjg8//LC%2B%2BOKLEq87cOCAGjZsWGLMYrEoNTVVL7/8stLS0pSTk6PY2Fi5ubmpW7du5c5EcQkAAFBMZTqKSJJeeeUV1ahRQ%2BHh4erbt69atGihp59%2B2n49JSVFZ86cKfGakydP6oYbbij1XlOnTtWNN96ofv36qUOHDjpw4ICWLl2qatWqlTuPpei/WQWKq0Y5jsC6Zrm58e9TluPHzU7gnNzdpfr1pRMnJKvV7DTOpdGNlkvfdC0KDpZ%2B%2Bklq1UravdvsNM7HxPKkfXvj33PHDuPf01nRuQQAAIBh2NADAABQTGV7trizoXMJAAAAw9C5BAAAKIbOpWMoLgEAAIqhuHQM0%2BIAAAAwDJ1LAACAYuhcOobOJQAAAAxD5xIAAKAYOpeOobgEAAAohuLSMUyLAwAAwDB0LgEAAIqhc%2BkYOpcAAAAwDJ1LAACAYuhcOobiEgAAoBiKS8cwLQ4AAADD0LkEAAAohs6lY%2BhcAgAAwDB0LgEAAIqhc%2BkYiksAAIBiKC4dw7Q4AAAADEPnEgAAoBg6l46huAQAACiG4tIxTIsDAADAMHQuAQAAiqFz6Rg6lwAAADAMnUsAAIBi6Fw6huISAACgGIpLxzAtDgAAAMPQuQQAACiGzqVj6FwCAADAMHQuAQAAiqFz6RiKSwAAgGIoLh3DtDgAAAAMQ%2BcSAACgGDqXjqFzCQAAAMPQuQQAACiGzqVjKC4BAACKobh0DNPiAAAAMAydSwAAgGLoXDqGziUAAAAMQ%2BcSAACgGDqXjqFzCQAAUExhofF/Ktq%2BffvUvXt33XfffZe89/3331dERIRatWqlBx54QPv377dfu3Dhgl588UWFhobqjjvu0JNPPqnMzMzLykJxCQAAUImtXbtWY8aMUaNGjS5579dff63Zs2frjTfe0Pfff6%2BuXbtqxIgRys3NlSS99dZbSk5O1ooVK7Rx40YVFRXp%2Beefv6w8FJcAAADFVLbO5YULF7RixQoFBQVd8t4VK1aoX79%2BCgoKkoeHh4YPHy5J%2Buabb1RQUKD4%2BHiNGjVK9evX1/XXX6%2BnnnpKW7ZsUVpaWrnzUFwCAABUYvfee6/q1q1brnuTk5N1%2B%2B232//u4uKi2267Tfv27dPvv/%2Buc%2BfOqWnTpvbrjRs3loeHh5KTk8udhw09AAAAxVREpzE9PV0nT54sMVanTh35%2BPgY/83%2BRlZWlmrVqlVirFatWsrMzFRWVpYkqWbNmiWu16xZ87LWXVJcXuPc3MxO4JzS09O1YsUKDRw48Ir/j%2B/syrGk55qUnp6u2bMvfmYaNeIzU0JRkdkJnFJ6erpWzJ6tgf/8Jz9nnExFfGRnz16hOXPmlBh74oknNGbMmEu%2Bds2aNXr22WfLvDZt2jT169fvsrIUXeI/8FLXL4XiEijDyZMnNWfOHIWFhfFDH%2BXCZwaXi8/MtWXgwIEKCwsrMVanTp1yvTYyMlKRkZGG5Khdu7a9Q/mnrKwsBQQEyMvLy/53T09P%2B/UzZ87I29u73N%2BD4hIAAKCC%2Bfj4OMUvEc2aNVNycrLuueceSZLNZtO//vUvDRgwQH5%2BfqpVq5aSk5Pl6%2BsrSTp48KCsVquaNWtW7u/Bhh4AAICrWI8ePZSYmChJeuCBB7R69Wrt2bNHeXl5mj9/vtzd3dWlSxe5urrqvvvu04IFC3TixAllZmZqxowZ6t69u2644YZyfz86lwAAAJVYRESEjh8/LpvNpsLCQjVv3lyS9M9//lO%2Bvr46evSo/RzL0NBQjRs3Tk899ZROnTql5s2ba9GiRfLw8JAkPfnkk8rJyVFkZKQKCgrUtWtXTZ48%2BbLyWIocXbUJXIXY0IPLxWcGl4vPDK5WFJcAAAAwDGsuAQAAYBiKSwAAABiG4hIAAACGobgEAACAYSguAQAAYBiKSwAAABiG4hIAAACGobgEAACAYSguAQAAYBiKSwAwSGZmptkR4MRsNpsWLVqknj17qm3btpKknJwcvfLKK7pw4YLJ6QDjUFwCktq0aSOehIr/Rk5Ojl588UW1bNlSnTp1kiRlZWUpOjpap0%2BfNjkdnMn06dO1fv16RUdH24vJ/Px8HT58WNOmTTM5HWAciktAUqdOnbRy5UqzY6ASeuWVV5SSkqLFixfLxeXij1Q3NzdVr15dU6ZMMTkdnMn69es1b948RUZGymKxSJKuv/56xcbGavPmzSanA4xTxewAgDPIy8vTzJkzNXv2bNWrV09VqpT8X2P58uUmJYOz27JlizZs2CAvLy97weDp6amXXnpJERERJqeDM8nPz1e9evVKjV933XXKyckxIRFQMSguAUnNmjVTs2bNzI6BSshisah69eqlxm02G%2BvoUELTpk21ZMkSPfbYY/axvLw8xcbG8vMHVxVLEQvNgL/10UcfadCgQWbHgJMaOXKkfH199cwzz%2BiOO%2B7Q3r17dezYMU2dOlWFhYVasGCB2RHhJH7%2B%2BWcNHz5cknTq1CkFBAQoJSVFXl5emjdvnpo0aWJyQsAYFJfA/zl48KCSk5NltVrtY2lpaXrvvfe0e/duE5PBmR0/flyjRo3SoUOHVFBQIE9PT%2BXm5io4OFixsbFq0KCB2RHhRM6fP69vvvlGKSkp8vDwkL%2B/vzp27FhqKQ5QmVFcApI%2B/vhjvfrqq/L29lZGRobq1q2r9PR0%2Bfr6avDgwRo6dKjZEeHkkpKSlJqaqqpVq8rf318BAQFmRwIAU1BcApK6deumKVOmqF27dmrRooWSkpJ08uRJTZ06VQ8%2B%2BKDatGljdkQ4qcTERAUFBcnNza3UtQULFmjEiBEmpIIzCgwMtG/6%2Bk8Wi0V169ZV586d9cwzz5S5jheoLCguAUnBwcH2qe%2BWLVtq9%2B7dslgsOnbsmEaMGKHPP//c5IRwVoGBgbr99tv19ttvy8/Pr8S1oKAg7d2716RkcDbr16/X22%2B/rbvvvlvNmzeXxWJRUlKSNm3apOjoaNlsNn388ccKCAjg3EtUaizyACQ1aNBAO3fuVLt27VSnTh0lJiaqbdu2qlGjhlJTU82OByfm5uamO%2B%2B8U/369dPkyZPVq1cv%2BzV%2Bd0dxy5cvV2xsrFq0aGEfCw8PV3h4uObMmaNFixapU6dO6tevn4kpAcdRXAKSoqOj9eijj2rnzp3q37%2B/Ro4cqTZt2ujIkSNq3bq12fHgxFxcXDR%2B/HiFhIToueee086dOzVp0iS5u7v/5RQork379u0rc0f4rbfeqoSEBElSzZo1df78%2BSsdDTAUT%2BgBJPXt21cbN25UjRo1NGLECMXExMjHx0cDBgzQW2%2B9ZXY8VAKdOnXS6tWrlZKSov79%2B%2Bvw4cNmR4KTufnmmzVx4kT98ssvys7O1vnz53X48GG9/PLLqlevnmw2myZNmqTg4GCzowIOYc0l8B8yMzNVu3Zts2OgkvhzA9ifioqKNH/%2BfC1ZskR5eXlKTk42MR2cSUpKikaPHq2DBw/au9pFRUVq2LChZs2apdtvv11Dhw7VlClT1LBhQ5PTAv89iktAUk5Ojl5//XWtXbtWBQUF2r9/v7KyshQTE6Np06bJy8vL7IhwUmvWrFFkZGSp8cTERK1atYqNGSglLS1NJ0%2BeVGFhoby9veXr66uioiKWUeCqQXEJSIqJiVF6erpGjx6tRx55RElJScrJydGLL76ooqIizZgxw%2ByIcCL5%2Bfn2o4eKH7pfFnd39ysRCZXUb7/9plWrVmn16tXaunWr2XEAQ7ChB5C0ZcsWbdiwQV5eXvbugaenp1566SVFRESYnA7Opk2bNvYjhlq0aPG3HacDBw5cqVioJM6fP68NGzZo1apV%2BvHHH9W0aVONHDnS7FiAYSguAV08wLisQ4ttNpsuXLhgQiI4s3fffdf%2B9dKlS5nORLns3btX8fHx2rBhg2rUqKGTJ09qyZIlat%2B%2BvdnRAEOxWxzQxYPT33jjjRJHgBw7dkwvvPCCQkJCTEwGZ1T8iU133HGHbrnlFoWEhCgkJES33367zpw5o5o1a/LZgSRpyZIl6t27tx555BEVFBRo7ty5%2Bvrrr%2BXm5sbGHVyVWHMJSDp%2B/LhGjRqlf//737LZbPL09FRubq6Cg4MVFxen%2BvXrmx0RTmrt2rWaPHmyfvrpJ%2BXl5SkqKkqSdObMGU2YMEH9%2B/c3OSHMFhgYqF69eumFF14osTkwODhYa9euLfVkJ6CyY1ockDR%2B/Hjdd999at68uVJSUlS1alX5%2B/srICDA7GhwcvPnz9fs2bMlXdw57u7urtWrV%2BvQoUMaN24cxSX08ssvKz4%2BXuHh4QoLC1NkZKTuvPNOs2MBFYZpcUBSx44dtXLlSg0aNEhr167VhQsX5O/vb3YsVAJ//PGHvVDYunWrevbsKVdXVzVp0kTHjx83OR2cwcCBA/XJJ59o%2BfLl8vLy0oQJExQaGqr8/HwdPXrU7HiA4ZgWB4pJSUnRl19%2BqS%2B//FKHDh1St27d1KdPH3Xo0MHsaHBSYWFh%2Bvjjj%2BXu7q6wsDAtX75cTZo0UVpamqKiorRjxw6zI8LJWK1Wffnll4qPj9fOnTvVpEkT9e/fX0OGDDE7GmAIikugDFarVfHx8ZoxY4ays7Pl6%2Burxx57TPfff7/Z0eBkFi1apA8%2B%2BECurq4KDAzUggULlJ2drccff1xNmjTRSy%2B9ZHZEOLHU1FTFx8drzZo1%2Buabb8yOAxiC4hIoZufOnfr888%2B1adMmeXp6qnfv3oqKilJGRoamTZumkJAQvfDCC2bHhJPZvXu3zp49q/bt28vd3V0FBQVasmSJhg0bZj9s/cSJE2wMw1/iCT24mlBcApJef/11ffHFFzp37py6deumqKgotW/fvsQP%2B/T0dPXq1UsJCQkmJkVlFRQUZD94HQCuZuwWB3TxKSpPP/207rrrLlWrVq3Me3x8fPTYY49d4WS4WvB7PIBrBZ1LALgC6FwCuFZwFBEAAFfAsGHDyhzPzs7WPffcc4XTABWHaXEAACpQcnKy9u3bp4SEBK1cubLUEonff/9dv/76qznhgApAcQkAQAU6d%2B6ctmzZooKCAi1YsKDUdQ8PD40dO9aEZEDFYM0lAFwBrLnEyJEjNX/%2BfLNjABWO4hIAroC2bdtyjBWUkZGhX3/9VefPny91rWPHjiYkAoxHcQkAl2n16tXlvjcqKqoCk6AyeffddzVjxgzZbLZS1ywWiw4cOGBCKsB4FJcAcJn%2Bs8N09uxZ5efnq2bNmioqKtLZs2fl4eGhunXrauPGjSalhLNp3769JkyYoJ49e8rDw8PsOECFYUMPAFym7du327/%2B5JNPlJycrLFjx6p27dqSLj7NaebMmQoODjYrIpxQYWGhIiMj5erqanYUoELRuQQAB3Tu3FkbN24s1YnKzs5Wz549tXXrVpOSwdlMnz5dt912myIjI82OAlQoOpcA4IDz58/rxIkTuummm0qMnzp1ShcuXDApFZxRQUGBpk%2BfrmXLlqlhw4ZycSn5HJO4uDiTkgHGorgEAAf07t1bQ4YMUZ8%2BfdSwYUPZbDadOHFC69evV0REhNnx4ERycnLUpUsXs2MAFY5pcQBwgM1mU3x8vDZv3qw//vhDVqtVPj4%2BCg0N1dChQ%2BXm5mZ2RAC4oiguAQC4Qvbs2aM1a9YoLS1N8%2BbNU2FhoTZt2qQePXqYHQ0wDNPiAHCZZsyYUe57x40bV4FJUJmsXLlS06dP1913361t27ZJkk6ePKnXXntN6enpeuihh0xOCBiD4hIALtPu3bvLdZ/FYqngJKhM3nnnHb3zzjtq3bq1Pv/8c0lS3bp1tXDhQo0dO5biElcNiksAuEwffPCB2RFQCWVkZKhVq1aSSv7iccsttyg9Pd2sWIDhKC4BwEFbt27Vhg0blJqaKovFIn9/f0VFRalNmzZmR4MTadSokXbu3Kn27duXGF%2B3bp0aNGhgUirAeBSXAOCADz74QHFxcerSpYu9K3XkyBENGzZMM2bMUPfu3U1OCGfx%2BOOPa9SoUQoLC1NBQYGmTJmiX375Rbt37%2BaMS1xV2C0OAA4IDw/X1KlT1a5duxLj27ZtU2xsrNasWWNSMjijffv26bPPPtPvv/8uDw8P%2Bfn56d5779XNN99sdjTAMBSXAOCA4OBgJSYmlnpetM1mU0hIiH788UeTkgGAOZgWBwAH%2BPv769tvv1VYWFiJ8e3bt7OODhoyZEi5Tw14//33KzgNcGVQXAKAA8aMGaMnn3xSHTp0UOPGjSVdXHP53XffacqUKSang9latmxp/zovL09r1qxR69atddNNN6mwsFCHDh1SUlKSBg0aZGJKwFhMiwOAg37%2B%2BWd9%2BumnSk1NldVqlb%2B/v/r27VuisADGjRunqKgohYaGlhjfvHmz1q1bp5kzZ5qUDDAWxSUAAFdAq1attGvXLlWpUnLSMD8/XyEhIeU%2BnB9wdkyLA4AD0tLStHjxYh09elRWq7XUddbR4U8%2BPj5asWKFBg8eXGL8008/VZ06dUxKBRiP4hIAHDB27FhlZ2erffv28vDwMDsOnNizzz6rcePGad68eapfv75sNpvS0tJ07ty5y3pePeDsmBYHAAe0aNFC3377rWrXrm12FFQC586d07Zt25SWliar1SofHx916NBBdevWNTsaYBg6lwDggFtvvVWFhYVmx0AlUaNGDfXs2bPUEgqr1Sp3d3eTUgHGonMJAJfp6NGj9q8PHz6s%2BPh4DR48WL6%2BvqXONLzpppuudDw4qe%2B//16vvfaafv31V9lstlLXDxw4YEIqwHgUlwBwmQIDA2WxWPRXPz7/vGaxWCgYYNe9e3eFhITorrvu0nXXXVfqekhIiAmpAONRXALAZTp27Fi57/X19a3AJKhMgoODlZCQUOooIuBqwyccAC5TWQXjqVOndOLECTVr1syERKgMQkJC9PPPP/MZwVWPziUAOCAtLU0TJ07Ud999pypVqmj//v1KT0/Xo48%2Bqnnz5snPz8/siHASn3zyid577z117dpVDRs2lIuLS4nrAwcONCkZYCyKSwBwwOjRo1WtWjWNGzdOERERSkpKUkFBgeLi4nTkyBEtXLjQ7IhwEmFhYX95zWKx6KuvvrqCaYCKQ3EJAA5o3bq1tm7dKk9PTwUFBWnv3r2SpPPnz6tz58764YcfTE4IAFcWay4BwAHXXXddmbvGz5w5U%2BZxM7i2nT59Wt9%2B%2B619U1ijRo3UtWtXVa9e3eRkgHFcLn0LAOCvtGvXThMnTrSffXn27Fnt2rVLY8aMUZcuXcwNB6eyY8cOdevWTbGxsdq%2Bfbu2b9%2BuadOmKTw8XAcPHjQ7HmAYpsUBwAFnzpxRTEyMtmzZIuni2jmLxaKePXtq0qRJqlWrlrkB4TT69eunPn36aNiwYfYxm82m%2BfPnKyEhQUuXLjUxHWAciksAMMDp06eVkpKiqlWrqmHDhkxzopSWLVsqMTGx1DmXVqtVHTt21K5du0xKBhiLaXEAcNBXX30lLy8vBQUFKT8/XzNnztSyZct45jhK8PHx0a%2B//lpqPCUlhV9GcFVhQw8AOCA2NlabNm1SeHi4/vjjDz388MOKiIjQ%2BvXrdezYMcXExJgdEU4iMjJSjz/%2BuAYPHqybb75ZknTkyBF9%2BOGH6tGjh8npAOMwLQ4ADujUqZM%2B/PBD%2Bfv7a968eUpMTNSSJUt06tQp9e/f374WEygqKtKyZcu0atUqpaamymq1yt/fX3379tWjjz4qV1dXsyMChqBzCQAOyM7Olr%2B/vyTpu%2B%2B%2BU69evSRJ3t7eysrKMjManIzFYtGQIUM0ZMgQs6MAFYriEgAc4Ofnp507d6patWpKSkrSW2%2B9JUnat2%2BfvL29TU4HZ/P1119ry5YtSk9PlyTVq1dPYWFhCg0NNTkZYBw29ACAA8aNG6eRI0fqgQceUHR0tHx8fHTmzBlFR0eXOHIGmDVrlsaPH6/MzEw1atRI/v7%2BysjI0NixYzV37lyz4wGGYc0lADiooKBAFy5ckKenp31sz549atmypYmp4Gzatm2rhQsXqlWrViXGExMTNXLkSCUkJJiUDDAW0%2BIA4IC/KwgSEhLUtm3bK5gGzszV1VXNmzcvNR4UFMRmHlxV6FwCgAMCAwPLHK9SpYo8PDyUmJh4hRPBWc2fP182m02jRo2Si8vFVWmFhYVavHix8vPzNXr0aJMTAsaguAQAB1it1hJ/t9ls%2Bu233/Tee%2B%2BpT58%2B6tixo0nJ4GyGDRumvXv3ytXVVX5%2BfiosLNSJEyeUn5%2BvW2%2B9tcS9y5cvNykl4DiKSwCoAOfOndOAAQO0ceNGs6PAScyZM6fc9z7xxBMVmASoWKy5BIAKkJubaz9uBpDKLhjPnDmjWrVqmZAGqDgUlwDggPHjx5cay8vL0969e9nMgxKSk5M1adIkffrpp5KksWPHauPGjapdu7bmzZun4OBgkxMCxqC4BAAHuLu7lxqrXr26hg8frgEDBpiQCM5qypQp6tatmyRp8%2BbN%2BvHHH/X111/rp59%2B0ptvvqmPPvrI5ISAMVhzCQDAFdC6dWv98MMPqlKlip5//nnVqFFDEydOVFFRkUJCQjjnElcNOpcA4KCPP/5YX3zxhY4dOyaLxSJ/f3/dc8896tu3r9nR4ESqVq2q/Px8WSwWbdu2TW%2B%2B%2Baaki%2BtzCwsLTU4HGIfiEgAcMHPmTMXHxysyMlJ9%2BvSRJB0%2BfFhTp05Vbm6u7r//fpMTwlmEhobqySefVJUqVVS9enW1a9dO%2Bfn5euutt0o9tQeozJgWBwAHhIaGauHChbrttttKjCclJSkmJkYbNmwwKRmczfnz5/WPf/xD586d06BBg%2BTr66vc3FyNGTNGU6dOVb169cyOCBiC4hIAHNCqVSvt2rVLVaqUnAiy2WwKCQnRjz/%2BaFIyOLPMzEzVrl3b7BhAhXAxOwAAVGYBAQGKj48vNf7pp5%2BqUaNGJiSCs8rJydGLL76oli1bqlOnTpKkrKwsRUdH6/Tp0yanA4xD5xIAHJCYmKjhw4fL19dXjRs3liQdOXJEKSkpmj17tkJDQ01OCGcRExOj9PR0jR49Wo888oiSkpLsBWdRUZFmzJhhdkTAEBSXAOCgjIwMrVu3TseOHZPVapW/v7/uvvtuNWjQwOxocCJ33HGHNmzYIC8vLwUFBWnv3r2SpLNnzyoiIkI7duwwOSFgDHaLA4CDbrjhBg0dOtTsGHByFotF1atXLzVus9l04cIFExIBFYPiEgAccOjQIc2YMUNHjx6V1Wotdf2rr74yIRWcUXBwsN544w0988wz9rFjx45p6tSpCgkJMTEZYCymxQHAAb1795a3t7e6du0qDw%2BPUtc55xJ/On78uEaNGqVDhw6poKBAnp6eys3NVXBwsOLi4lS/fn2zIwKGoLgEAAcEBQVpx44dqlatmtlRUEkkJSUpNTVVVatWlb%2B/vwICAsyOBBiKaXEAcEBwcLAyMjLk7%2B9vdhRUEi1atFCLFi1KjKWnp8vHx8ekRICx6FwCwGXavn27/ev09HStXLlSUVFR8vX1lcViKXFvx44dr3Q8OJnc3Fy9/vrr2rx5sySpb9%2B%2BmjBhglxcLh41vWLFCsXGxiohIcHMmIBh6FwCwGUaPnx4qbE9e/aUGrNYLDpw4MCViAQnNmvWLP3000%2BKiYmR1WrV4sWL5enpqb59%2B%2BqFF17QwYMHNX78eLNjAoahcwkAQAUKDw/XokWL7IfsHzhwQA899JAKz1Qo4QAAAMBJREFUCgoUFhamiRMnytvb2%2BSUgHHoXAIAUIEyMjLshaUkBQYGKi8vTwsXLtSdd95pYjKgYvBscQAAriCLxSJXV1cKS1y1KC4BAABgGKbFAQCoQDabTStXrlTxLQ5ljQ0cONCMeIDh2NADAEAFCgsLu%2BQ9FouFR4XiqkFxCQAAAMOw5hIAAACGobgEAACAYSguAQAAYBiKSwAAABiG4hIAAACGobgEAACAYSguAQAAYBiKSwAAABiG4hIAAACG%2BV91BxzLfUkqSAAAAABJRU5ErkJggg%3D%3D\" class=\"center-img\">\n",
              "    <img src=\"data:image/png;base64,iVBORw0KGgoAAAANSUhEUgAAApcAAAJNCAYAAABkyV7YAAAABHNCSVQICAgIfAhkiAAAAAlwSFlzAAAPYQAAD2EBqD%2BnaQAAADl0RVh0U29mdHdhcmUAbWF0cGxvdGxpYiB2ZXJzaW9uIDMuMC4zLCBodHRwOi8vbWF0cGxvdGxpYi5vcmcvnQurowAAIABJREFUeJzs3X98z/X%2B//H7fpkfY2y2EZMfNT9maooZThgdP0qTiCmsVDSGRdJJR34lHSK/Koo4lc%2BOdCLp1NbJt5I6yWIti1gZsQ17Y37th/f3D8f7vN72lvF6zd5yu14uu6w9X8/X6/14P8%2Bx92P31/v1envY7Xa7AAAAAAt4VnQBAAAA%2BOOguQQAAIBlaC4BAABgGZpLAAAAWIbmEgAAAJahuQQAAIBlaC4BAABgGZpLAAAAWIbmEgAAAJahuQQAAIBlvCu6AADXn%2B3bt%2Bu9995TWlqa9u3bp1OnTsnX11fBwcFq2bKlevXqpZiYGHl4eFR0qQCAy%2BTBZ4sDuFrsdrtmzJihv//975Ikf39/hYWFyc/PTwUFBdqxY4cKCgokSV26dNH8%2BfNVqVKliiwZAHCZaC4BXDVvv/22pk6dqsqVK2vKlCnq3bu3vLy8HNtPnz6t//u//9OsWbN09uxZPfbYYxo3blwFVgwAuFy85xLAVbNq1SpJ0pAhQ9SnTx%2BnxlKSKleurPj4eD366KOSpLfeekunT5%2B%2B6nUCAK4czSWAq2bv3r2SpKZNm/7uvPj4eL3%2B%2ButKSUlR5cqVJUkTJ05U06ZNNWvWLJ04cUIzZ85UTEyMIiIi1K5dO40aNUo7d%2B686DE3b96sUaNGqWPHjmrZsqXatWun%2BPh4ffDBBxfdx2azae7cuerTp48iIyMVHh6u9u3ba8SIEfrmm29c7hMTE6OmTZvq888/V0pKinr16qWIiAh99913kqQFCxaoadOmmjhxogoLC7VgwQJ1795drVq1UqdOnTRt2jSdPHlSkrRr1y6NHj1aHTp0UEREhHr37q1169a5fNxTp05p6dKluv/%2B%2B3X77berRYsWioqK0kMPPaSUlBSX%2BwwePFhNmzbVqlWrdOLECc2dO9dRS5s2bfToo4/qhx9%2BuOj6AIArNJcArpqAgABJ0vfff3/JeX/6059Uu3btUttOnDih%2BPh4rVq1SrVq1VKbNm1UUlKilJQU9e/f32UzNHfuXMXHxyslJUV%2Bfn6KiopSQECANm/erPHjx2vs2LEqKSlx2icvL099%2B/bVq6%2B%2Bqj179qhFixZq166dKlWqpM8%2B%2B0xDhw7VmjVrLvoc9uzZo6SkJPn4%2BKhdu3aOJtnoySef1LJly1SvXj3dfPPNys3N1VtvvaWnnnpKO3fuVFxcnDIzM9WsWTMFBQVp586devLJJ7Vx40an45w6dUqDBg3S7NmzlZGRoSZNmig6Olr%2B/v766quvNGrUKC1YsOCitRYWFio%2BPl4rVqxQ3bp1FR4erpKSEn3%2B%2BecaPHiw448CACgTOwBcJU899ZQ9LCzM3rRpU/usWbPsOTk5l71v69at7XfffbfTvseOHbP369fPHhYWZu/Xr5/Tfp988ok9LCzM3qZNG/s333zjtO0///mPvX379vawsDD78uXLnbZNnz7dHhYWZu/evbv90KFDjvHi4mL7jBkz7GFhYfbbbrvNXlBQ4LRfly5d7GFhYfaYmBj7K6%2B8Uup5zJ8/3x4WFmbv2LGj/Z577rHn5eU5tqWkpDjWp0ePHvYFCxbYz549a7fb7faSkhL7yJEj7WFhYfZhw4Y5HXP58uX2sLAwe7t27exZWVkutzVv3ty%2Bd%2B9ep20PPvigPSwszN65c2f7oEGD7IcPH3Zsy83NtXfo0MEeFhZmf/7550s9DwC4GJJLAFfN2LFjVbduXdntdr3xxhvq3LmzHnzwQc2bN09fffWVTp06dcljFBQU6LnnnlNwcLBjrHr16po4caKkc7c5%2BuWXXxzbXnnlFUnSU089pbZt2zodq02bNpowYYIkacWKFU7bgoODddddd2nUqFEKDAx0jHt5eSkpKUmenp46fvz4RVPY8xckXUxubq6mTJnilM5269ZNQUFBstvt8vb21siRIx23Y/L09NSAAQMkST/%2B%2BKPTsapVq6bevXtrxIgRatiwodO2oUOHKigoSCUlJdq8ebPLWvLy8vTSSy85kmVJCgoKUu/evSVJ27Ztu%2BjzAIALcZ9LAFdNnTp1tHr1av3tb3/T%2BvXrVVJSom%2B//VbffvutXnnlFfn4%2BCgqKkr33HOP7rrrLnl7l/4VFRwcrNtuu63UeGRkpKpVq6YTJ07o%2B%2B%2B/V8OGDZWTk6OMjAxJ0p133umypm7dusnDw0O//fabsrKy1KhRI0lyXFTkSpUqVRQYGKi8vDzl5eW5nNOuXTt5el787/egoCDdeuutpcbr1aunvLw8denSpdR9PuvVqydJOnr0qNN4//791b9/f5eP4%2BHhofr16/9urW3btlVISEip8QYNGkiS8vPzL/o8AOBCNJcArqqgoCC9%2BOKLmjBhglJSUrR582Zt2bJFhw8fVlFRkb788kt9%2BeWXWrp0qRYvXuxocM4LCwtzeVxPT0/Vq1dPO3fu1L59%2ByTJ6QKf88mmK97e3ioqKtIvv/ziaC6lc%2B9F/H//7//phx9%2BUG5uro4dOyb7f%2B/edvz4cUnnEkpXXDVrRvXr13c5fv6%2BnucbSVfbiouLS207e/asNm3apLS0NOXm5spmszlqy8rK%2Bt1aQ0NDXY77%2BvpKkoqKin7vqQCAE5pLABWidu3aiouLU1xcnKRzF8B88803Wrt2rdLS0rRr1y499thj%2BuCDD%2BTj4%2BPYz9/f/6LHrF69uqRzF/1Izgnfp59%2BesmazjeMkpSZmamRI0c6GtXL9Xt1SnJ6Tley3ei3337TyJEjS50uLytuVA/ASjSXANxC48aN1bhxY8XFxWnFihV6/vnnlZWVpQ0bNig2NtYx7/dONZ9P5s7POX9a2cfHR%2Bnp6WX%2BOMnTp0/r8ccf12%2B//aaGDRsqISFB0dHRqlWrlqPpi4mJ0f79%2By96jKv50ZWjR4/Wjz/%2BqNq1aysxMVF33HGHateu7WgaBw8erP/85z9XrR4A1zeaSwBuZ%2BjQoXrrrbe0d%2B9e7dq1y2nb%2BY%2BHdOX8tvMJZs2aNSWdO62bn5/vdMHK7/n888/122%2B/ycPDQ0uWLNGNN95Yao673Nw9IyND6enpkqTZs2crOjq61Bx3qRXA9YGrxQFcFSkpKfrrX/%2BqJUuWlGn%2B%2BdPK59/3d97PP//scn5JSYkjSTz/HkLj%2BzMvbFJ/z/mrzRs0aOCysdy7d68OHz5c5uOVp19//VWSHPfTvNCJEyd%2B9%2BbyAGA1mksAV0V6erqSk5O1ZMkS/fbbb787NycnR5mZmZJU6orq7Oxs7dixo9Q%2B3333neOTbSIjIyWdu3goPDxckvSPf/zD5WNlZWUpNjbWccsi6X/J55kzZ1zus2jRIsd/X3jz9avNz89P0rm3BLi68OaNN95wJJeuLgQCAKvRXAK4Kh566CEFBQXp%2BPHjGjp0qMuPT7Tb7fr666/1yCOPqKioSLfeeqs6dOjgNKd69eqaNGmSU3Jos9n0wgsvSDp3C6AbbrjBsW3EiBGSpPXr1%2BvNN990XO0tnUv9Ro8erczMTB04cMAx3qxZM0nSwYMHlZqa6hg/deqUpk%2BfrvT0dEcDu2fPniteEyuEhYXJy8tLJSUleueddxzjxcXFeu2115ScnKwuXbpI%2Bt9V4wBQnnjPJYCrolatWlq2bJkSExP1yy%2B/aMiQIQoKClLjxo1VtWpV2Ww27du3z3Evxttuu00LFy4sdQFPTEyMsrOz1bVrV0VERMjHx0fbtm1TQUGB/Pz89Ne//tVp/p///Gc99thjWrJkiWbOnKmVK1eqcePGys/P144dO1RSUqIWLVpo/Pjxjn0iIyPVsWNHffnll0pMTNQtt9wiX19f/fDDD/L29tby5cv14YcfKi0tTStXrtRPP/2kxx9/XG3atCn/hbxAnTp11K9fPyUnJ2vmzJlat26datasqR07dujEiRNauHCh9u3bp88%2B%2B0wff/yxBg8erEGDBqlnz55XvVYA1weaSwBXTVhYmD744AN9%2BOGH%2Bve//63MzExt375dhYWFqly5skJCQhQdHa1evXqpc%2BfOLq%2B49vT01LJly7R48WJ98skn%2Bu2331StWjV1795dSUlJTvepPG/cuHFq37693nrrLX3//ffavHmzfH191bJlS/Xq1UuDBg0qdTueefPmafbs2fr000/1ww8/KDg4WN27d9eIESPUoEED1alTRz/%2B%2BKO2bt2qXbt2XdWrwy80adIk%2Bfv7a/369dq5c6cCAwMVFRWl4cOHq3nz5jp9%2BrS%2B%2BeYbff7559q1a5dTegsAVvOw81sGwDVg4sSJ%2Buc//6l7773XcQocAOB%2BeM8lAAAALENzCQAAAMvQXAIAAMAyNJcAAABu7osvvlD79u2VlJT0u/POnj2ruXPnqmvXrmrTpo2GDRum7Oxsx3abzaaxY8eqffv26tixo5555hnLP8WLC3oAAADc2NKlS/Xuu%2B8qICBAderU0dy5cy869%2B9//7uWL1%2BupUuXKiQkRHPnztW3336rtWvXysPDQ4mJiSosLNTMmTNVVFSkMWPGqGXLlpo0aZJl9ZJcAgAAuDFfX1%2B9%2B%2B67Lj%2BO9kLJycmKj49XkyZN5Ofnp6SkJO3evVvbtm3ToUOHlJqaqqSkJAUEBCgkJEQJCQlas2aNy0/4ulLc5xIAAKCc5ebmOj4k4rygoCAFBwdfct8hQ4aU6TFOnz6tn3/%2BWS1atHCM%2Bfn56cYbb1R6erqOHz8uLy8vNW3a1LE9PDxcJ0%2Be1J49e5zGzaC5vN5V4I2f3VqjRtKuXdLNN0t8ZJ6Tfdm8k8YVLy%2BpTh3p4EGpgj9u3O0EBVV0Be6rUiWpsLCiq3BPvr4V%2BODl8NqYPH%2B%2BFi5c6DQ2atQoJSYmWvYYR48eld1ul7%2B/v9O4v7%2B/8vPzVbNmTfn5%2BTl96MP5ufn5%2BZbVQXMJuFKz5rluoWbNiq4E1whPz3OvR56eNJcoGw%2BP/31x9cMf34ABAxQTE%2BM0FlROf3n93uU0V%2BNSG5pLAAAAI0/rL0kJDg4u0ylwM2rWrClPT0/ZbDancZvNpsDAQAUEBKigoEAlJSXy8vJybJOkwMBAy%2Brggh4AAIA/AF9fX918883KyMhwjB07dkx79%2B5Vq1at1Lx5c9ntdmVmZjq2p6enq0aNGmrUqJFlddBcAgAAGHl6Wv9VTnJyctSjRw/HvSzj4uK0cuVK7d69WwUFBZo9e7aaN2%2BuiIgIBQQEqHv37po3b56OHDmigwcPatGiRerXr5%2B8va07mc1pcQAAADcWEREhSSouLpYkpaamSjqXOhYVFSkrK0uF/70ybODAgcrLy9PgwYN14sQJRUVFOV1INHXqVE2ePFldu3aVj4%2BP7r777kvemP1ycRP16x1Xi7sWGSlt3Sq1bi2lpVV0NW6Fq8Vd8/GRQkKknBzJwtvF/SFwtbhrHh7/u1qcV%2BLSKvRq8fJ48DNnrD%2BmmyK5BAAAMCrH09jXA1YPAAAAliG5BAAAMCK5NIXVAwAAgGVILgEAAIxILk2huQQAADCiuTSF1QMAAIBlSC4BAACMSC5NYfUAAABgGZJLAAAAI5JLU2guAQAAjGguTWH1AAAAYBmSSwAAACOSS1NYPQAAAFiG5BIAAMCI5NIUmksAAAAjmktTWD0AAABYhuQSAADAiOTSFFYPAAAAliG5BAAAMCK5NIXmEgAAwIjm0hRWDwAAAJYhuQQAADAiuTSF1QMAAIBlSC4BAACMSC5NobkEAAAwork0hdUDAACAZUguAQAAjEguTWH1AAAAYBmSSwAAACOSS1NoLgEAAIxoLk1h9QAAAGAZkksAAAAjkktTaC4BAACMaC5NYfUAAABgGZJLAAAAI5JLU1g9AAAAWIbkEgAAwIjk0hSaSwAAACOaS1NYPQAAAFiG5BIAAMCI5NIUVg8AAACWIbkEAAAwcsPkcv/%2B/ZoyZYq2bdumqlWrqlevXho3bpw8L6j14Ycf1rfffus0VlxcrJEjR2rUqFEaPHiwtm7d6rRfo0aNtG7dOstqpbkEAAAwcsPmMjExUeHh4UpNTdXhw4c1fPhw1a5dWw899JDTvGXLljn9fOzYMfXq1Ut33nmnY2zatGnq27dvudXqfqsHAAAAh/T0dGVmZmr8%2BPGqXr26GjZsqPj4eCUnJ19y33nz5unOO%2B9U06ZNr0Kl55BcAgAAGJVDcpmbm6u8vDynsaCgIAUHB19y34yMDNWrV0/%2B/v6OsfDwcGVlZamgoEB%2Bfn4u9/v111/1/vvvKzU11Wl8w4YNev3113XgwAHdcsstmjp1qho0aHAFz8o1kksAAIBylpycrL59%2Bzp9lSV5lCSbzaYaNWo4jZ1vNPPz8y%2B635IlS3TfffcpICDAMdakSRPdfPPNeuedd/Tpp58qICBAjzzyiAoLC6/gWblGcgkAAGBUDsnlgAEDFBMT4zQWFBRU5v3tdvtlPZ7NZtPatWv10UcfOY0/99xzTj9PnTpVUVFR%2Bu677xQdHX1Zj3ExNJcAAABG5dBcBgcHl%2BkUuCsBAQGy2WxOYzabTR4eHk6ppNGnn36qRo0aKTQ09HeP7efnJ39/f%2BXk5FxRba5wWhwAAMCNtWzZUgcOHNCRI0ccY%2Bnp6brppptUrVo1l/t8%2Bumn6tChg9NYQUGBnnvuOadG8siRIzpy5Mglm9DLQXMJAABg5Olp/ZcJLVq0UEREhObMmaOCggLt3r1by5cvV1xcnCSpR48e2rJli9M%2BO3bsUP369Z3G/Pz8tG3bNk2fPl02m01Hjx7VlClT1LRpU0VGRpqq0YjmEgAAwM3Nnz9fubm56tChg4YMGaI%2Bffpo0KBBkqSsrCydPHnSaX5eXp5q165d6jiLFi2S3W5X9%2B7d1blzZxUVFWnJkiWlbsZuhof9ct8hij8WD4%2BKrsA9RUZKW7dKrVtLaWkVXY1b2ZfNrwxXfHykkBApJ0cqKqroatzLZVyzcF3x8JAqVZIKCyVeiUvz9a3AB%2B/e3fpjfvyx9cd0U1zQAwAAYOSGn9BzLWH1AAAAYBmSSwAAACOSS1NYPQAAAFiG5BIAAMCI5NIUmksAAAAjmktTWD0AAABYhuQSAADAiOTSFFavnAwdOlQvvPCC09iiRYs0cOBA7d%2B/XyNGjFBUVJTatGmjCRMmqKCgwDFv3bp16tWrlyIjIxUTE6N33nnHsW3BggUaPny4xo4dq9atW1%2B15wMAAFAWNJflpE%2BfPvrwww919uxZx9gnn3yi3r17KyEhQXXr1tXGjRv1r3/9Szk5OZo1a5YkKTs7W0899ZQmTZqkrVu3asaMGZo2bZoyMzMdx/n%2B%2B%2B/Vtm1bffvtt1f9eQEA8IfnZp8tfq3htHg5%2BfOf/6ypU6fqm2%2B%2BUXR0tLKzs7V7925FRERoxowZWrVqlapUqaIqVaooMTFRw4YN09SpU1W/fn19/fXX8vf3lyRFR0crMDBQGRkZatasmSTJy8tLcXFx8rjMj27Mzc1VXl6e01hQo0YKrlnTmif9R/LftXZ8h4OPT0VX4J68vZ2/43/4lFnXzq8L6%2BOGrrNm0Gr8Giwn1apVU7du3bRu3TpFR0frk08%2BUYcOHZSdna2SkhJFRUU5zS8pKVF%2Bfr4CAgK0atUqvfvuu8rNzZXdbldhYaEKCwsdc%2BvUqXPZjaUkJScna%2BHChU5jo8aMUeKYMVf2JK8Hhrck4JyQii7AzQUGVnQFuNbwBxv%2BaGguy1GfPn00evRoTZkyRSkpKXrwwQfl6%2BurqlWrKi0tzeU%2Bq1ev1pIlS7R48WK1adNGXl5e6tSpk9Mc7yuMRgYMGKCYmBinsaDevaUVK67oeH9ozZqdaywHDZIMb0mAlPPR1oouwS15e59rLA8floqLK7oa91KrVkVX4J48PM41lkVFkt1e0dW4n0qVKvDBSS5NobksR9HR0apWrZpWr16tXbt2qWvXrsrOztbJkyeVnZ2t0NBQSVJBQYGKiopUq1Ytpaen6/bbb1e7du0kSXl5ecrNzbWknuDgYAUHBzsPZmVZcuw/rMxM6SJ/CFyviooqugL3VlzMGl2Ixun32e2sEf5YaM3Lkaenp3r37q2XXnpJXbt2VZUqVRQWFqbIyEjNmDFDR44c0bFjxzR58mRNmDBBklSvXj3t2bNHR48e1f79%2BzV9%2BnTdcMMNysnJqeBnAwDAdYILeky5vp5tBejTp48KCgrUu3dvx9icOXNkt9vVtWtX3XnnnSopKXHctiguLk433nijOnXqpMcee0wPPvigHnzwQS1fvlxvv/12RT0NAACuHzSXpnjY7YTx5enrr7/WX/7yF6WmpsrTHf/PxWWKrkVGSlu3Sq1bc1r8Avuy%2BZXhio%2BPFBIi5eRwWvxCQUEVXYF78vA4977CwkJOi7vi61uBD/7AA9Yf8zoKiHjPZTnKzc3V888/r2HDhrlnYwkAAErjNdsUVq%2BcvPbaa%2BrZs6fatGmjuLi4ii4HAADgqiC5LCfDhw/X8OHDK7oMAABwuUguTaG5BAAAMKK5NIXVAwAAgGVILgEAAIxILk1h9QAAAGAZkksAAAAjkktTaC4BAACMaC5NYfUAAABgGZJLAAAAI5JLU2guAQAAjGguTWH1AAAAYBmSSwAAACOSS1NYPQAAAFiG5BIAAMCI5NIUmksAAAAjmktTWD0AAABYhuQSAADAiOTSFFYPAAAAliG5BAAAMCK5NIXmEgAAwIjm0hRWDwAAAJYhuQQAADAiuTSF1QMAAIBlSC4BAACM3DC53L9/v6ZMmaJt27apatWq6tWrl8aNGyfPC2pdsGCBFi9eLG9v5xbvs88%2BU%2B3atXXmzBnNmDFDGzdu1JkzZxQVFaUpU6aoVq1altXqfqsHAABQkTw9rf8yKTExUSEhIUpNTdXy5cuVmpqqFStWuJwbGxur9PR0p6/atWtLkubOnauMjAwlJyfr448/lt1u19NPP226PiOaSwAAADeWnp6uzMxMjR8/XtWrV1fDhg0VHx%2Bv5OTkyzpOcXGx3n33XSUkJKhu3bqqWbOmxo4dq40bNyonJ8eyejktDgAAYFQOp8Vzc3OVl5fnNBYUFKTg4OBL7puRkaF69erJ39/fMRYeHq6srCwVFBTIz8/Paf5PP/2kgQMHaufOnapbt66efvppdezYUXv37tXx48cVHh7umNukSRNVrlxZGRkZCgkJMfksz6G5BAAAKGfJyclauHCh09ioUaOUmJh4yX1tNptq1KjhNHa%2B0czPz3dqLuvUqaPQ0FCNGzdOwcHBSk5O1ogRI7Ru3TrZbDZJKnWsGjVqKD8//4qelys0lwAAAEblkFwOGDBAMTExTmNBQUFl3t9ut5dpXv/%2B/dW/f3/Hz/Hx8frwww%2B1bt063XHHHZd1rCtFcwkAAGBUDs1lcHBwmU6BuxIQEOBIHc%2Bz2Wzy8PBQQEDAJfevV6%2BecnNzHXNtNpuqVavm2H706FEFBgZeUW2ucEEPAACAG2vZsqUOHDigI0eOOMbS09N10003OTWJkrR48WJt3rzZaWz37t0KDQ1VaGio/P39lZGR4di2c%2BdOFRYWqmXLlpbVS3MJAABg5Ga3ImrRooUiIiI0Z84cFRQUaPfu3Vq%2BfLni4uIkST169NCWLVsknUslp0yZoj179ujMmTNatmyZ9u7dq3vvvVdeXl66//779eqrr%2BrAgQPKz8/XSy%2B9pDvvvNNxqyIrcFocAADAzc2fP1/PPvusOnToID8/Pw0cOFCDBg2SJGVlZenkyZOSpHHjxkk6915Lm82mm266SW%2B%2B%2Babq1KkjSRo9erROnDih2NhYFRcXq0uXLnruuecsrdXDXt7v6oR78/Co6ArcU2SktHWr1Lq1lJZW0dW4lX3Z/MpwxcdHCgmRcnKkoqKKrsa9XMY1C9cVDw%2BpUiWpsFDilbg0X98KfPCZM60/psU3KndnJJcAAABGbvjxj9cSVg8AAACWIbkEAAAwIrk0hdUDAACAZUguAQAAjEguTaG5BAAAMKK5NIXVAwAAgGVILgEAAIxILk1h9QAAAGAZkksAAAAjkktTaC4BAACMaC5NYfUAAABgGZJLAAAAI5JLU1g9AAAAWIbkEgAAwIjk0hSaSwAAACOaS1NYPQAAAFiG5BIAAMCI5NIUmksAAAAjmktTWD0AAABYhuQSAADAiOTSFFYPAAAAliG5BAAAMCK5NIXmEgAAwIjm0hRWDwAAAJYhuQQAADAiuTSF1QMAAIBlSC4BAACMSC5Nobm8zu3Ltld0CW7Jx0cKkZTz0VYVFVV0Ne6lfqhHRZfgniIjpa1bFdKztZSWVtHVuJWcg/yeccXbWwoMlI4fl4qLK7oa9xMSUoEPTnNpCqsHAAAAy5BcAgAAGJFcmsLqAQAAwDIklwAAAEYkl6bQXAIAABjRXJrC6gEAAMAyJJcAAABGJJemsHoAAACwDMklAACAEcmlKTSXAAAARjSXprB6AAAAsAzJJQAAgBHJpSmsHgAAACxDcgkAAGDkhsnl/v37NWXKFG3btk1Vq1ZVr169NG7cOHm6qHXVqlV68803lZubqwYNGigxMVHdunWTJE2cOFHr1q2Tl5eXY76vr6%2B2bNliWa00lwAAAEZu2FwmJiYqPDxcqampOnz4sIYPH67atWvroYcecpr38ccfa86cOXrttdfUqlUrvf/%2B%2Bxo7dqw%2B%2BugjhYaGSpIef/xxJSYmllut7rd6AAAAcEhPT1dmZqbGjx%2Bv6tWrq2HDhoqPj1dycnKpuadPn9YTTzyh2267TT4%2BPurfv7%2BqVaum77///qrVS3IJAABgVA7JZW5urvLy8pzGgoKCFBwcfMl9MzIyVK9ePfn7%2BzvGwsPDlZWVpYKCAvn5%2BTnGY2NjnfY9duyYTpw4oZCQEMfY119/rU8//VS//vqrmjRpoueee04tW7a80qdWCs0lAABAOUtOTtbChQudxkaNGlWm09M2m001atRwGjvfaObn5zs1l0Z2u12TJk3SLbfcorZt20qSQkND5enpqTFjxqhatWpauHChHn74YX388ceqVavWlTy1UmguAQAAjMohuRwwYIBiYmJdxI7gAAAgAElEQVScxoKCgsq8v91uv6zHKyoq0sSJE/Xzzz9r5cqVjvGRI0c6zXvyySe1fv16paamqn///pf1GBdDcwkAAGBUDs1lcHBwmU6BuxIQECCbzeY0ZrPZ5OHhoYCAgFLzT58%2BrYSEBJ06dUpvv/327yaSXl5eqlu3rnJzc6%2BoNle4oAcAAMCNtWzZUgcOHNCRI0ccY%2Bnp6brppptUrVo1p7l2u11JSUny9vbWm2%2B%2B6dRY2u12zZw5U5mZmY6xwsJC7d2713EluRVoLgEAAIw8Pa3/MqFFixaKiIjQnDlzVFBQoN27d2v58uWKi4uTJPXo0cNxn8oPPvhAP//8s15%2B%2BWX5%2Bvo6HcfDw0P79u3TlClTlJOToxMnTmj27Nny8fFx3AfTCjSXAAAAbm7%2B/PnKzc1Vhw4dNGTIEPXp00eDBg2SJGVlZenkyZOSpDVr1mj//v1q27atIiIiHF%2BTJk2SJM2YMUMNGzZU37591b59e%2B3YsUMrVqxQ1apVLavVw3657xDFH8q%2BfRVdgXvy8ZFCQqScHKmoqKKrcS/1Qz0qugT3FBkpbd0qtW4tpaVVdDVuJecgLzOueHtLgYHS4cNScXFFV%2BN%2BDHfOufo2b7b%2BmNHR1h/TTXFBDwAAgJEbfkLPtYTVAwAAgGVILgEAAIxILk1h9QAAAGAZkksAAAAjkktTaC4BAACMaC5NYfUAAABgGZJLAAAAI5JLU2guAQAAjGguTWH1AAAAYBmSSwAAACOSS1NYPQAAAFiG5BIAAMCI5NIUmksAAAAjmktTWD0AAABYhuQSAADAiOTSFFYPAAAAliG5BAAAMCK5NIXmEgAAwIjm0hRWDwAAAJYhuQQAADAiuTSF1QMAAIBlSC4BAACMSC5NobkEAAAwork0hdUDAACAZUguAQAAjEguTWH1AAAAYBmSSwAAACOSS1NoLgEAAIxoLk1h9QAAAGAZkksAAAAjkktTWD0AAABYhuQSAADAiOTSFJpLAAAAI5pLU1g9AAAAWIbkEgAAwIjk0hRWDwAAAJYhuQQAADAiuTSF5hIAAMCI5tIUVg8AAACWIbkEAAAwIrk0hdUDAACAZSxrLps2barPP//cqsNZYt%2B%2BfWratKl27959RfsPHjxYs2fPvuj2Dh066L333rvS8iRJ3377rSIiIlRYWGjqOAAAwCKentZ/mbR//3499thjioqKUpcuXfS3v/1NZ8%2BedTl35cqV6t69u1q3bq24uDj98MMPjm1nzpzRX//6V91xxx2KiorS6NGjlZ%2Bfb7o%2BI5LLCtamTRulp6erUqVKFV0KAACQ3LK5TExMVEhIiFJTU7V8%2BXKlpqZqxYoVpeb9%2B9//1oIFC/Tiiy/qq6%2B%2BUpcuXTRixAidPHlSkjR37lxlZGQoOTlZH3/8sex2u55%2B%2BmnT9RnRXAIAALix9PR0ZWZmavz48apevboaNmyo%2BPh4JScnl5qbnJysvn376pZbblHlypX1yCOPSJI%2B%2B%2BwzFRcX691331VCQoLq1q2rmjVrauzYsdq4caNycnIsq9fSC3ry8vI0dOhQpaWlqX79%2Bpo3b57CwsIkSVu2bNGLL76oXbt2qVq1arrvvvs0ZswYeXp6auLEiTpz5ozmzp0r6Vxk26pVK61cuVJRUVHauHGj5syZo3379qlatWqKjY3VuHHj5OnpKZvNpunTp%2Bvrr7/WiRMn1K5dOz333HMKCQlx1JWVlaUJEyZo586datGihV5%2B%2BWXVqVNHkpSamqr58%2Bdr7969CggIUHx8vIYMGVLquRUXF2vmzJlav369KlWqpNGjR1/W2ixZskSrVq3SkSNHVKdOHSUkJCg2NlbffPONhgwZou3bt%2Bujjz7Ss88%2B69jHbrerqKhIf//739W2bVvt379f06ZNU1pams6ePasuXbror3/9q/z8/MpUQ25urvLy8pzG7PYgBQUFX9ZzuR54ezt/h0FkZEVX4J6aNXP%2BDgf%2BHbnm5eX8HW6kHC7ocfUaHBQUpODgS78GZ2RkqF69evL393eMhYeHKysrSwUFBU59QEZGhnr16uX42dPTU82bN1d6erqaN2%2Bu48ePKzw83LG9SZMmqly5sjIyMpx6JzMs/SefnJysWbNmKSgoSAkJCXrppZf06quv6tChQxo2bJgmTJig/v376%2Beff9ajjz6q4OBgPfDAA797zKKiIiUlJWnRokWKjo7Wr7/%2BqkceeUSRkZHq1q2bJk6cKG9vb3344Yfy8vLS5MmT9fTTT2vZsmWOY6xevVqvvPKKvL29NXjwYL3%2B%2BuuaNGmSMjMzNWbMGL388svq1KmTtmzZohEjRujGG29Up06dnOpYs2aN/vWvf%2Bmdd95R3bp1NWvWLB09erRM67J161atXLlS//jHP1S3bl1t2rRJiYmJ6tixo9O8Pn36qE%2BfPo6fZ8%2BerS%2B//FK33nqr7Ha7EhIS1Lp1a82dO1cnT57UE088oVmzZmnatGllqiM5OVkLFy50Ghs5cpRGj04s0/7Xo8DAiq7ADW3dWtEVuLd33qnoCtwO/4x%2BX82aFV0BrgZXr8GjRo1SYuKlX4NtNptq1KjhNHa%2B0czPz3dqLm02m1MTen5ufn6%2BbDabJJU6Vo0aNSx936WlzWVsbKwaNWokSYqJidGqVaskSevXr9cNN9zgaCRbtGih2NhYffTRR5dsLs%2BcOaPTp0%2BratWq8vDwUMOGDfXJJ5/I09NThw8f1meffaYNGzY4FnL8%2BPHq3Lmz018HgwYNcvxlEB0draysLEnnGsbo6Gh169bNsa1z587asGFDqeYyJSVFvXv3VpMmTSRJY8aMcRlHu3L8%2BHF5enqqcuXK8vDwUMeOHfXdd9/J09NTP//8s8t9vvjiC61atUpr1qxRpUqVtH37du3atUurVq1SlSpVVKVKFSUmJmrYsGGaOnWqPDw8LlnHgAEDFBMT4zRmtwfJwiT8D8Pb%2B1xjefiwVFxc0dW4l5CerSu6BPfUrNm5xnLQICkzs6KrcSuHU/iDxBUvr3ONpc0mlZRUdDXupyL/uLfr0q%2Bpl8vVa3BQUFCZ97fb7ZbNvZxjXQlLm8v69es7/tvX11dFRUWSzl21fb4pO%2B/GG2/URx99dMlj%2Bvn5aeTIkXrwwQfVqlUrdejQQX379lXdunWVnZ0tSU5pnyR5eXnpwIEDCggIKFVX5cqVHVdmX6yurS6SmZycHHXu3Nnxc0BAQKm/DC4mOjpaLVq0UExMjKKjo3XHHXcoNjZWVatWdTk/Ly9PTz31lCZPnqyGDRtKkrKzs1VSUqKoqCinuSUlJcrPz3c8198THBxcKn7ft0/67/9McKG4mPUpJS2toitwb5mZrNEF%2BAPt95WUsEbu5iIXYZvi6jW4rAICAhyp43k2m00eHh6lXv9r1arlcu7NN9/smGuz2VStWjXH9qNHjyrQwm7e0ubyYunZxW6zc7H5JRf8CTdq1Cj1799fqampSk1N1euvv64VK1aocuXKkqTPP/9ctWrVKnWcffv2/W69l1NXYWGhii/413%2BxWwBcqFKlSnr11VeVmZmpTz/9VG%2B//baWLVvm8jZGZ8%2Be1ZNPPqnOnTvrnnvucYz7%2BvqqatWqSuNFCwCA60rLli114MABHTlyxNEgpqen66abbnJqEs/PzcjI0L333ivpXE/1448/ql%2B/fgoNDZW/v7/jPZyStHPnThUWFqply5aW1XtVrhZv0KCB9uzZ4zS2Z88ehYaGSjrXfJ06dcqxbe/evU5zbTabQkJC9MADD2j58uXq0aOH1q5dq3r16snT01M//fSTY25RUVGZr3i6VF1GwcHBOnjwoOPn3NxcHTt2rEyPU1RUpIKCAjVr1kwjR47U%2B%2B%2B/Lw8PD3311Vel5r766qvKy8tzurDnfK0nT550pLWSVFBQYPm9qQAAuN6dPWv9lxktWrRQRESE5syZo4KCAu3evVvLly9XXFycJKlHjx7asmWLJCkuLk7vv/%2B%2Bvv/%2Be506dUqvvPKKKlWqpM6dO8vLy0v333%2B/Xn31VR04cED5%2Bfl66aWXdOedd6p27dpml83hqjSXPXv2VHZ2tpKTk1VcXKzt27frn//8p6OrbtiwobZt26aDBw/q%2BPHjWrZsmbz%2Be/lcWlqaevbsqe3bt8tut%2Bvw4cPKyspSgwYNVL16dfXq1UuzZ8/WwYMHdfr0ab300kt6%2BOGHy/R%2BgnvuuUebNm1yXJ7/xRdfaOPGjaVOs0vSn/70J61fv16//PKLCgoKNHfuXPn6%2Bpbp%2BS9btkyPPvqoozndvXu3jh49qgYNGjjN27Jli9544w3NmzdPVapUcdoWFhamyMhIzZgxQ0eOHNGxY8c0efJkTZgwoUw1AACAa9f8%2BfOVm5urDh06aMiQIerTp48GDRok6dxdcc7fx/KOO%2B7QE088obFjx6pt27b66quvtGTJEsfZ3tGjR%2BuWW25RbGysunbtqmrVqmnGjBmW1npVbhBRr149LVy4UC%2B//LJeeOEFBQcHa8yYMY4mrl%2B/fvrqq6/Uo0cPBQcHa9KkSUpNTZUkRUZG6vHHH9fYsWN16NAh1axZUz179nRcCPTss89q2rRpuuuuu%2BTp6albb71VixcvLtMFLuebtTlz5uiJJ55Q/fr1NXv2bLVt27bU3Pj4eGVnZ%2Bv%2B%2B%2B933Irou%2B%2B%2BK9Pzf%2Bihh/Tbb7%2BpT58%2BOn36tOrWravx48erefPm%2Buabbxzz1qxZo5MnT6pv375O%2Bz/%2B%2BONKSEjQnDlzNHXqVHXt2lWVKlVSdHS0XnjhhTLVAAAAyqY83nNpVp06dbR06VKX24xncKVzFzKfbzwvVKlSJU2ePFmTJ0%2B2vMbzPOzlfckQ3Nol3pZ63fLxkUJCpJwcLui5UP1Q66%2Bi/EOIjDx3m6bWrbmg5wI5B3mZcYW7Uvw%2Bi265eEUM79SzzAUnJP/Q%2BIQeAAAAWIbPTbDA7bffrjNnzlx0%2B7/%2B9S/HVVkAAMC9ueNp8WsJzaUFzl%2BhBQAArn00l%2BZwWhwAAACWIbkEAAAwILk0h%2BQSAAAAliG5BAAAMCC5NIfmEgAAwIDm0hxOiwMAAMAyJJcAAAAGJJfmkFwCAADAMiSXAAAABiSX5tBcAgAAGNBcmsNpcQAAAFiG5BIAAMCA5NIckksAAABYhuQSAADAgOTSHJpLAAAAA5pLczgtDgAAAMuQXAIAABiQXJpDcgkAAADLkFwCAAAYkFyaQ3MJAABgQHNpDqfFAQAAYBmSSwAAAAOSS3NILgEAAGAZkksAAAADkktzaC4BAAAMaC7N4bQ4AAAALENyCQAAYEByaQ7JJQAAACxDcgkAAGBAcmkOzSUAAIABzaU5nBYHAACAZUguAQAADEguzSG5BAAAgGVILgEAAAxILs2huQQAADCguTSH0%2BIAAACwDMklAACAAcmlOSSXAAAAsAzNJQAAgMHZs9Z/lSebzaaxY8eqffv26tixo5555hmdPn36ovM/%2BeQT3XPPPYqMjFT37t31j3/8w7FtwYIFat68uSIiIpy%2BDh06VOZ6OC0OAABgcK2dFn/22WdVWFio9evXq6ioSGPGjNHs2bM1adKkUnO3b9%2Bu8ePH66WXXlLnzp21adMmjRw5Uo0bN9btt98uSYqNjdULL7xwxfWQXAIAAFyjDh06pNTUVCUlJSkgIEAhISFKSEjQmjVrVFRUVGq%2BzWbT8OHD1a1bN3l7e6tTp04KCwvTli1bLKuJ5BIAAMCgPJLL3Nxc5eXlOY0FBQUpODjY1HF37NghLy8vNW3a1DEWHh6ukydPas%2BePU7jknTHHXfojjvucPxcXFysvLw8hYSEOMZ%2B%2BuknDRw4UDt37lTdunX19NNPq2PHjmWuieYSAADAoDyay%2BTkZC1cuNBpbNSoUUpMTDR1XJvNJj8/P3l4eDjG/P39JUn5%2BfmX3H/27NmqWrWqevXqJUmqU6eOQkNDNW7cOAUHBys5OVkjRozQunXr1Lhx4zLVRHMJAABQzgYMGKCYmBinsaCgoDLtu3btWk2YMMHltqSkJNnt9suux263a/bs2Vq/fr1WrlwpX19fSVL//v3Vv39/x7z4%2BHh9%2BOGHWrduncaOHVumY9NcAgAAGJRHchkcHHzFp8BjY2MVGxvrctumTZtUUFCgkpISeXl5STqXZkpSYGCgy33Onj2rp59%2BWtu3b9eqVasUGhr6u49fr1495ebmlrleLugBAAC4RjVv3lx2u12ZmZmOsfT0dNWoUUONGjVyuc/zzz%2BvXbt2uWwsFy9erM2bNzuN7d69%2B5INqBHNJQAAgMG1dJ/LgIAAde/eXfPmzdORI0d08OBBLVq0SP369ZO397kT1EOHDtWGDRskSd99953WrVunJUuWqGbNmqWOZ7PZNGXKFO3Zs0dnzpzRsmXLtHfvXt17771lronT4gAAAAbX2n0up06dqsmTJ6tr167y8fHR3XffraSkJMf27OxsHT16VJK0Zs0aHT9%2BXF26dHE6Rps2bbRs2TKNGzdO0rn3WtpsNt1000168803VadOnTLX42G/kneB4g9j376KrsA9%2BfhIISFSTo7k4jZh17X6oR6XnnQ9ioyUtm6VWreW0tIquhq3knOQlxlXvL2lwEDp8GGpuLiiq3E/hjvjXHUff2z9Mbt3t/6Y7orkEgAAwOBaSy7dDe%2B5BAAAgGVILgEAAAxILs2huQQAADCguTSH0%2BIAAACwDMklAACAAcmlOSSXAAAAsAzJJQAAgAHJpTk0lwAAAAY0l%2BZwWhwAAACWIbm8zgUFVXQF7snjv59wWKuWxAekOuOj/Fzz9pYCJR1O2cpH%2BV0gpA4fGerSfz8yNPBOPjLUpQr85UtyaQ7JJQAAACxDcgkAAGBAcmkOzSUAAIABzaU5nBYHAACAZUguAQAADEguzSG5BAAAgGVILgEAAAxILs2huQQAADCguTSH0%2BIAAACwDMklAACAAcmlOSSXAAAAsAzJJQAAgAHJpTk0lwAAAAY0l%2BZwWhwAAACWIbkEAAAwILk0h%2BQSAAAAliG5BAAAMCC5NIfmEgAAwIDm0hxOiwMAAMAyJJcAAAAGJJfmkFwCAADAMiSXAAAABiSX5tBcAgAAGNBcmsNpcQAAAFiG5BIAAMCA5NIcmksAAAADmktzOC0OAAAAy5BcAgAAGJBcmkNyCQAAAMuQXAIAABiQXJpDcgkAAGBw9qz1X%2BXJZrNp7Nixat%2B%2BvTp27KhnnnlGp0%2Bfdjn3vffeU7NmzRQREeH0tX379v8%2B97OaO3euunbtqjZt2mjYsGHKzs6%2BrHpoLgEAAK5hzz77rE6dOqX169drzZo12r17t2bPnn3R%2BW3atFF6errTV6tWrSRJb7/9tj744AMtWbJEn332mRo2bKiRI0fKbreXuR6aSwAAAINrKbk8dOiQUlNTlZSUpICAAIWEhCghIUFr1qxRUVHRZR8vOTlZ8fHxatKkifz8/JSUlKTdu3dr27ZtZT4GzSUAAMA1aseOHfLy8lLTpk0dY%2BHh4Tp58qT27Nnjcp8DBw7ooYceUps2bdS1a1etXbtWknT69Gn9/PPPatGihWOun5%2BfbrzxRqWnp5e5Ji7oAQAAMCiPpDE3N1d5eXlOY0FBQQoODjZ1XJvNJj8/P3l4eDjG/P39JUn5%2Bfml5gcEBKhhw4Z64okndNNNNyklJUUTJkxQcHCwGjduLLvd7tjfeDxXx7oYmksAAACD8mguk5OTtXDhQqexUaNGKTEx8ZL7rl27VhMmTHC5LSkp6bLeD9m5c2d17tzZ8fNdd92llJQUvffeexo/frwkXdbxXKG5BAAAKGcDBgxQTEyM01hQUFCZ9o2NjVVsbKzLbZs2bVJBQYFKSkrk5eUl6VyaKUmBgYFlOn69evX0ww8/qGbNmvL09HTsf57NZivzsSSaSwAAACflkVwGBwebPgXuSvPmzWW325WZmanw8HBJUnp6umrUqKFGjRqVmr9q1Sr5%2B/urV69ejrHdu3crNDRUvr6%2Buvnmm5WRkaG2bdtKko4dO6a9e/c6riYvCy7oAQAAuEYFBASoe/fumjdvno4cOaKDBw9q0aJF6tevn7y9z2WIQ4cO1YYNGyRJhYWFmjZtmtLT01VUVKT169fr888/18CBAyVJcXFxWrlypXbv3q2CggLNnj1bzZs3V0RERJlrIrkEAAAwuNY%2BoWfq1KmaPHmyunbtKh8fH919991KSkpybM/OztbRo0clSUOGDNGJEyc0ZswY5eXlqX79%2Blq0aJFatmwpSRo4cKDy8vI0ePBgnThxQlFRUaXeK3opHnaz79rENe3MmYquwD15eEiVKkmFhRL/Qpxd8FYc/Je3txQYKB0%2BLBUXV3Q17iWkjselJ12PIiOlrVul1q2ltLSKrsb9VOAv36eftv6YM2daf0x3xWlxAAAAWIbT4gAAAAbX2mlxd0NyCQAAAMuQXAIAABiQXJpDcwkAAGBAc2kOp8UBAABgGZJLAAAAA5JLc0guAQAAYBmSSwAAAAOSS3NoLgEAAAxoLs3htDgAAAAsQ3IJAABgQHJpDsklAAAALENyCQAAYEByaQ7NJQAAgAHNpTmcFgcAAIBlSC4BAAAMSC7NIbkEAACAZUguAQAADEguzaG5BAAAMKC5NIfT4gAAALAMySUAAIAByaU5JJcAAACwDMklAACAAcmlOdd1cjl79mwNHjy4ossAAABu5OxZ67%2BuJ5fVXMbExCg8PFwRERGOr5iYGM2cOVMnTpworxqvCZs3b1Z6evol5yUnJ6tp06Z6/fXXr0JVAAAAV9dlJ5eTJk1Senq60tPTtX37dr322mvatGmTZs2aVR71XTPefPNN/fDDD5ect3r1at1111167733rkJVAADgcpFcmmPqtLiHh4duvvlmPfroo0pJSXGM79%2B/XyNGjFBUVJTatGmjCRMmqKCgQJJ06tQpPfXUU4qOjlZkZKQGDhzoaMoWLFig%2BPh4LV68WFFRUbrtttv08ssvO4579uxZLVq0SHfeeadatWqle%2B%2B9V5s3b3Zsj4mJ0erVq/XYY48pMjJS3bp105dffunY/u9//1vdu3dXZGSkxo4dq9OnTzs9nw0bNig2Nla33nqrunbtquTkZMe2iRMnatq0aZo5c6batm2rdu3aaenSpZKkESNGaOPGjZo%2BfbqGDh160fX66aeftGvXLj3zzDM6ePCg0tLSnLbv3btXffv2VatWrfTAAw9o/fr1atq0qWN7Zmamhg4dqttvv13t2rXT9OnTVVRUdOn/oQAAAK4SSy7oMTY4drtdCQkJat26tebOnauTJ0/qiSee0KxZszRt2jStWLFChw4dUkpKiipVqqSlS5fq2Wef1T//%2BU9J0rZt2xQZGakvvvhC6enpGjZsmMLDw9WtWze9/fbbWr16tV577TU1atRIb731lhISEpSamqrAwEBJ0htvvKEXX3xRzZo103PPPafnn39eGzZs0LFjx5SUlKTx48drwIAB2rx5s8aNG6fmzZtLktLT0/XMM89owYIFio6OVlpamh599FHdfPPNat26tSRp/fr1mjhxojZt2qR169bp2WefVWxsrF599VXFxMTo0UcfVVxc3EXXafXq1YqJiVFgYKC6d%2B%2Bud999V5GRkY7to0aNUuPGjfXWW29p165dGj9%2BvGPbqVOn9Mgjj2jw4MFaunSpcnJylJCQoDfeeEMjRowo0/9Oubm5ysvLcxrz9w9ScHBwmfa/nnh4OH/H/3hzGaBLXl7O32Fg%2BD0Hg2bNnL/DbVxvSaPVTL1MnD17Vj/99JOWLl2q3r17SzrXpO3atUurVq1SlSpVVKVKFSUmJmrYsGGaOnWqjh07Jh8fH1WuXFne3t5KSEhQQkKC45ienp4aOXKkvL29ddttt6ljx47auHGjunXrpnfffVeDBg1ypHkPP/ywXn/9dW3cuFH33XefJKlLly5q1aqVJKl79%2B56//33dfbsWX355ZeqWrWqHnjgAXl6eqpTp066/fbbHe8Vfe%2B999S5c2d17NhRknT77berZ8%2BeWrt2raO5rF%2B/vu69915JUq9evfSXv/xFv/zyS5mas8LCQn3wwQeOtw/ExsYqISFBzzzzjKpWraqcnBz99NNPmjVrlqpWrapbbrlFPXv21GuvvSZJ2rhxo%2Bx2u4YPHy5JCg0N1bBhw/Taa6%2BVublMTk7WwoULncZGjhyl0aMTy7T/9cjHp6IrcD///TsOF1GzZkVX4Ia2bq3oCtzbO%2B9UdAW4AM2lOZfdXE6fPl3PP/%2B8pHPNZZUqVTR48GCNHDlSkpSdna2SkhJFRUU57VdSUqL8/HwNGjRIw4YNU6dOnfSnP/1J3bp1U9euXR3zGjRoIG9DNHLDDTfol19%2BkSTt27dPTZo0cTpugwYNtH//fsfP9evXd/x35cqVVVJSoqKiIh08eFB169aVp%2Bf/3gnQsGFDZWRkSDp3Snrz5s2KiIhwbLfb7Y5m88JjV6lSRZJKnVq/mJSUFHl6ejqOFxUVpRo1auijjz7Sfffdp9zcXElSvXr1HPsYa8nOztbhw4dL1VepUqUyPb4kDRgwQDExMf%2B/vTuPqrrO/zj%2BuqJA4pKYoII4LajlgriQGqKCDqYppJaTjTNaFqmpk2bMWNqmoxWYqbnl2FRmLtCoaQ5lZi6jCW4YP8yfS4kbiwLKIhcu9/eHdX8Qmjj34vdiz8c5noOf7/deXnJutzfvz3LLjdWv30hmc6Wf4jfDZLpSWBYXS1ar0Wmcy6VLRidwTi4uVwrLnBzJYjE6jXNp2KeD0RGcU6tWVwrLYcOkw4eNTuN8%2BKWk2rrh4vKll16yTf3u2LFDY8eOVUREhK0gdHNzU%2B3atSusJ/yZp6enPv/8c3377bfasmWLpk2bpvXr12vu3LmSrhShZVmtVpl%2Bmps0X6MKMpWZuyxbPJZlNpsrPHdpmV9N3N3d9dhjj2nq1KnX/Ldf67krY82aNcrNzVXnzp1tY0VFRYqPj9fgwYNl/amCKVtYl/13ubm5yd/fX5999tl/nSEkxBQAACAASURBVMHLy6tCl7WoiOLp11it/Hx%2BqaTE6ATOzWLhZ1TBNf5/gJ8cPszPyMnQubSPXRt6goODFRYWpqlTp9qKIz8/PxUUFCgtLc12X15enrKzsyVJ%2Bfn5slgs6tatm1566SWtWbNGCQkJtutnz55VSZl35jNnzsjb29v23MePH7ddKykp0Y8//qhmzZpdN6uXl5fS09NtOSXp2LFjtq/9/Pz0/fffl3vMuXPnKhSk/420tDTt3r1bCxYs0Nq1a21/li5dqr179%2BrEiRPy9PSUdOXf%2B7OyRxv5%2BfkpLS2t3JFP2dnZto1SAADAMdgtbh%2B7D1GfMmWKDh8%2BbNtZ3aJFCwUGBmrGjBm6cOGCLl68qJdfflkvvPCCJGn8%2BPF64403lJeXp9LSUu3fv1%2B333676tevL%2BlKwbh06VKZzWYlJSVp586dtqnciIgIrVixQseOHZPZbNaiRYtksVgqTPVeTbdu3ZSXl6eVK1fKbDZr8%2BbNOnjwoO36kCFDtG/fPsXHx8tsNis1NVWPPPKIEhISKvVzcHNz08mTJ3XpKnOG8fHxatGihXr27KnmzZvb/nTr1k1t2rRRfHy8fH195evrq/fee0%2BFhYVKTk4u972Dg4Pl6elp%2B9llZmZqwoQJiomJqVQ%2BAACAm8Hu4vKOO%2B7QxIkT9dZbbyk9PV2SFBsbK6vVqrCwMPXp00cWi0WzZs2SJL3%2B%2Buv68ccfFRISos6dO2v58uV69913bVPO/v7%2BKikpUffu3RUVFaUnn3xSPXv2lHRlA0/fvn311FNPqVu3bvr222/14Ycfql69etfN2bhxY8XGxmrZsmUKCgrS%2BvXrNWzYMNv1u%2B%2B%2BW7GxsVq6dKk6depk24TUr1%2B/Sv0cHn30Ua1YsUJ//OMfy42XlpbqX//6lwYNGnTVxw0ePFhr166VxWLRO%2B%2B8owMHDqhLly6aO3euoqKibFPjtWrV0oIFC3T8%2BHE98MADioyM1O9%2B9ztFR0dXKh8AAKgcOpf2MVmtzrOibN68edq%2BfbtWr15tdBRDWK1WlZSUqNZPW5Tj4%2BM1d%2B5cffPNN1X2PYuKquypqzWTSXJ1lcxm1lz%2BUk6O0QmcU82aV3bSnz/Pmstf8m7MmV5XFRh4ZdNKhw6subwaA998IyIc/5zr1jn%2BOZ0VJ9Y5kREjRqhRo0Z6/fXXdenSJa1YsUI9evQwOhYAAL8pv7VOo6PZPS0Ox5k%2Bfbqys7MVHBysyMhI3XPPPeUOUgcAAFWPaXH7ONW0OG4%2BpsWvjmnxa2Na/OqYFr82psWvgWnxX2fgm2///o5/zo0bHf%2BczoppcQAAgDJ%2Ba51GR2NaHAAAAA5D5xIAAKAMOpf2obgEAAAoo7oVlzk5OXrllVe0Z88e1ahRQz169NDUqVPl7u5e4d6XXnpJ635xLpLFYlFERIRmzpypv/71r1q/fr1cXFxs193c3JSUlFTpPEyLAwAAVGNTp05VYWGhNmzYoPj4eB07duyan%2BA3ffp0HTp0yPZn//79uuuuu9S3b1/bPaNHjy53z40UlhLFJQAAQDnV6SiirKwsbd68Wc8995w8PT3l7e2tMWPGKD4%2BXsXFxdd9/AcffKCmTZs69FxtiksAAIBqKjU1VS4uLmrZsqVtrHXr1iooKNDx48d/9bEXL17UokWLNHny5HLju3fvVmRkpAIDAzVkyBB99913N5SJNZcAAABlVEWnMSMjQ5mZmeXGGjVqJC8vL7ueNycnR3Xq1JHJ9P/nydavX1%2BSlJ2d/auPXb58uTp37ix/f3/bWLNmzVSjRg1NmDBBHh4emj9/vp544gklJCSoQYMGlcpEcQkAAFBGVRSXq1at0vz588uNPfvssxo3btx1H7tu3Tq98MILV7323HPP6b/5PByLxaKPP/5YsbGx5cbHjh1b7u%2BTJ0/Whg0btHnzZj3yyCOVem6KSwAAgCo2dOhQhYaGlhtr1KhRpR4bERGhiIiIq17buXOn8vLyZLFYbDu8c376KLWGDRte8zkTExNlNpvVqVOnX/3eLi4uatKkiTIyMiqVVaK4BAAAKKcqOpdeXl52T4Ffzb333iur1arDhw%2BrdevWkqRDhw6pXr16uvPOO6/5uK%2B%2B%2BkpdunRRzZr/XwparVbNmjVLDz/8sFq1aiVJMpvNOnnypJo1a1bpTGzoAQAAqKY8PT0VHh6uOXPm6MKFCzp37pzeffddDRkyxFY4/vnPf9bnn39e7nGpqany9fUtN2YymXTq1Cm9%2BuqrSk9PV35%2BvmJiYlSrVi317t270pkoLgEAAMqoTkcRSdJrr72munXrKiwsTAMHDlS7du303HPP2a6npaUpNze33GMyMzN1xx13VHiuGTNm6He/%2B50GDRqkbt26KTU1VR988IFq165d6Twm63%2BzChS3jKIioxM4J5NJcnWVzGaJ/0LK%2B2kpD36hZk2pYUPp/HmppMToNM7Fu7Hp%2Bjf9FgUGSvv2SR06SPv3G53G%2BRj45tu1q%2BOfc9cuxz%2Bns6JzCQAAAIdhQw8AAEAZ1e2zxZ0NnUsAAAA4DJ1LAACAMuhc2ofiEgAAoAyKS/swLQ4AAACHoXMJAABQBp1L%2B9C5BAAAgMPQuQQAACiDzqV9KC4BAADKoLi0D9PiAAAAcBg6lwAAAGXQubQPnUsAAAA4DJ1LAACAMuhc2ofiEgAAoAyKS/swLQ4AAACHoXMJAABQBp1L%2B9C5BAAAgMPQuQQAACiDzqV9KC4BAADKoLi0D9PiAAAAcBg6lwAAAGXQubQPxSUAAEAZFJf2YVocAAAADkPnEgAAoAw6l/ahcwkAAACHoXMJAABQBp1L%2B1BcAgAAlEFxaR%2BmxQEAAOAwdC4BAADKoHNpHzqXAAAAcBg6lwAAAGXQubQPxSUAAEAZFJf2YVocAAAADkPnEgAAoAw6l/ahcwkAAACHoXMJAABQBp1L%2B1BcAgAAlEFxaR%2BmxQEAAOAwdC4BAADKoHNpHzqXAAAAcBg6lwAAAGXQubQPnUsAAIAySksd/6eqHTp0SH369NGjjz563Xs//PBDhYeHq0OHDnrsscf03Xff2a4VFRVp2rRpCgkJ0f3336/x48crOzv7hrJQXAIAAFRj69ev17hx49S8efPr3rtlyxbNmzdPb775pv7zn/%2BoV69eeuaZZ1RQUCBJevvtt5WSkqJVq1YpISFBVqtVf/vb324oD8UlAABAGdWtc1lUVKRVq1YpICDguveuWrVKgwYNUkBAgNzd3TVq1ChJ0tdff62SkhLFxcVpzJgxatKkiW6//Xb95S9/0datW5Wenl7pPBSXAAAA1dgjjzwib2/vSt2bkpKi%2B%2B67z/b3GjVq6N5779WhQ4d08uRJXbp0Sa1bt7Zdv/vuu%2BXu7q6UlJRK52FDDwAAQBlV0WnMyMhQZmZmubFGjRrJy8vL8d/sV%2BTk5Kh%2B/frlxurXr6/s7Gzl5ORIkurVq1fuer169W5o3SXF5W%2Bcm5vRCZxTRkaGVq1apaFDh970//CdXSV/Of7NycjI0Lx5V14z3t68ZsqxWo1O4JQyMjK0at48Df33v3mfcTJV8ZKdN2%2BV5s%2BfX27s2Wef1bhx46772HXr1umFF1646rWZM2dq0KBBN5TFep1/4PWuXw/FJXAVmZmZmj9/vkJDQ3nTR6XwmsGN4jXz2zJ06FCFhoaWG2vUqFGlHhsREaGIiAiH5GjQoIGtQ/mznJwc%2Bfv7y9PT0/Z3Dw8P2/Xc3Fw1bNiw0t%2BD4hIAAKCKeXl5OcUvEW3atFFKSooefvhhSZLFYtH//M//aMiQIWrWrJnq16%2BvlJQU%2Bfj4SJKOHDkis9msNm3aVPp7sKEHAADgFta3b18lJSVJkh577DGtXbtWBw4cUGFhoRYuXChXV1f17NlTLi4uevTRR7Vo0SKdPXtW2dnZmj17tvr06aM77rij0t%2BPziUAAEA1Fh4erjNnzshisai0tFRt27aVJP373/%2BWj4%2BPTpw4YTvHMiQkRBMnTtRf/vIXnT9/Xm3bttWSJUvk7u4uSRo/frzy8/MVERGhkpIS9erVS6%2B88soN5TFZ7V21CdyC2NCDG8VrBjeK1wxuVRSXAAAAcBjWXAIAAMBhKC4BAADgMBSXAAAAcBiKSwAAADgMxSUAAAAchuISAAAADkNxCQAAAIehuAQAAIDDUFwCAADAYSguAcBBsrOzjY4AJ2axWLRkyRL169dPnTt3liTl5%2BfrtddeU1FRkcHpAMehuAQkderUSXwSKv4b%2Bfn5mjZtmtq3b6/u3btLknJychQVFaULFy4YnA7OZNasWdq4caOioqJsxWRxcbGOHTummTNnGpwOcByKS0BS9%2B7dtXr1aqNjoBp67bXXlJaWpqVLl6pGjStvqbVq1VKdOnU0ffp0g9PBmWzcuFELFixQRESETCaTJOn2229XTEyMNm/ebHA6wHFqGh0AcAaFhYWaM2eO5s2bp8aNG6tmzfL/aaxcudKgZHB2W7du1aZNm%2BTp6WkrGDw8PPTyyy8rPDzc4HRwJsXFxWrcuHGF8dtuu035%2BfkGJAKqBsUlIKlNmzZq06aN0TFQDZlMJtWpU6fCuMViYR0dymndurWWLVump556yjZWWFiomJgY3n9wSzFZWWgG/KoVK1Zo2LBhRseAkxo9erR8fHz0/PPP6/7779fBgwd1%2BvRpzZgxQ6WlpVq0aJHREeEkDh8%2BrFGjRkmSzp8/L39/f6WlpcnT01MLFixQy5YtDU4IOAbFJfCTI0eOKCUlRWaz2TaWnp6u999/X/v37zcwGZzZmTNnNGbMGB09elQlJSXy8PBQQUGBAgMDFRMTo6ZNmxodEU7k8uXL%2Bvrrr5WWliZ3d3f5%2BfkpODi4wlIcoDqjuAQkffLJJ3r99dfVsGFDZWVlydvbWxkZGfLx8dHjjz%2BuESNGGB0RTi45OVmnTp2Sm5ub/Pz85O/vb3QkADAExSUgqXfv3po%2Bfbq6dOmidu3aKTk5WZmZmZoxY4b%2B%2BMc/qlOnTkZHhJNKSkpSQECAatWqVeHaokWL9MwzzxiQCs6oVatWtk1fv2QymeTt7a0ePXro%2Beefv%2Bo6XqC6oLgEJAUGBtqmvtu3b6/9%2B/fLZDLp9OnTeuaZZ/TZZ58ZnBDOqlWrVrrvvvv0zjvvqFmzZuWuBQQE6ODBgwYlg7PZuHGj3nnnHT344INq27atTCaTkpOT9cUXXygqKkoWi0WffPKJ/P39OfcS1RqLPABJTZs21e7du9WlSxc1atRISUlJ6ty5s%2BrWratTp04ZHQ9OrFatWnrggQc0aNAgvfLKK%2Brfv7/tGr%2B7o6yVK1cqJiZG7dq1s42FhYUpLCxM8%2BfP15IlS9S9e3cNGjTIwJSA/SguAUlRUVF68skntXv3bg0ePFijR49Wp06ddPz4cXXs2NHoeHBiNWrU0KRJkxQUFKS//vWv2r17t6ZOnSpXV9drToHit%2BnQoUNX3RHeokULJSYmSpLq1auny5cv3%2BxogEPxCT2ApIEDByohIUF169bVM888o%2BjoaHl5eWnIkCF6%2B%2B23jY6HaqB79%2B5au3at0tLSNHjwYB07dszoSHAyd911l6ZMmaLvv/9eeXl5unz5so4dO6ZXX31VjRs3lsVi0dSpUxUYGGh0VMAurLkEfiE7O1sNGjQwOgaqiZ83gP3MarVq4cKFWrZsmQoLC5WSkmJgOjiTtLQ0jR07VkeOHLF1ta1Wq3x9fTV37lzdd999GjFihKZPny5fX1%2BD0wL/PYpLQFJ%2Bfr7eeOMNrV%2B/XiUlJfruu%2B%2BUk5Oj6OhozZw5U56enkZHhJNat26dIiIiKownJSUpPj6ejRmoID09XZmZmSotLVXDhg3l4%2BMjq9XKMgrcMiguAUnR0dHKyMjQ2LFj9cQTTyg5OVn5%2BfmaNm2arFarZs%2BebXREOJHi4mLb0UNlD92/GldX15sRCdXUjz/%2BqPj4eK1du1bbtm0zOg7gEGzoASRt3bpVmzZtkqenp6174OHhoZdfflnh4eEGp4Oz6dSpk%2B2IoXbt2v1qxyk1NfVmxUI1cfnyZW3atEnx8fHau3evWrdurdGjRxsdC3AYiktAVw4wvtqhxRaLRUVFRQYkgjP7xz/%2BYfv6gw8%2BYDoTlXLw4EHFxcVp06ZNqlu3rjIzM7Vs2TJ17drV6GiAQ7FbHNCVg9PffPPNckeAnD59Wi%2B%2B%2BKKCgoIMTAZnVPYTm%2B6//37dc889CgoKUlBQkO677z7l5uaqXr16vHYgSVq2bJkeeughPfHEEyopKdG7776rLVu2qFatWmzcwS2JNZeApDNnzmjMmDH63//9X1ksFnl4eKigoECBgYGKjY1VkyZNjI4IJ7V%2B/Xq98sor2rdvnwoLCxUZGSlJys3N1eTJkzV48GCDE8JorVq1Uv/%2B/fXiiy%2BW2xwYGBio9evXV/hkJ6C6Y1ockDRp0iQ9%2Buijatu2rdLS0uTm5iY/Pz/5%2B/sbHQ1ObuHChZo3b56kKzvHXV1dtXbtWh09elQTJ06kuIReffVVxcXFKSwsTKGhoYqIiNADDzxgdCygyjAtDkgKDg7W6tWrNWzYMK1fv15FRUXy8/MzOhaqgXPnztkKhW3btqlfv35ycXFRy5YtdebMGYPTwRkMHTpUa9as0cqVK%2BXp6anJkycrJCRExcXFOnHihNHxAIdjWhwoIy0tTV9%2B%2BaW%2B/PJLHT16VL1799aAAQPUrVs3o6PBSYWGhuqTTz6Rq6urQkNDtXLlSrVs2VLp6emKjIzUrl27jI4IJ2M2m/Xll18qLi5Ou3fvVsuWLTV48GANHz7c6GiAQ1BcAldhNpsVFxen2bNnKy8vTz4%2BPnrqqaf0hz/8wehocDJLlizRRx99JBcXF7Vq1UqLFi1SXl6enn76abVs2VIvv/yy0RHhxE6dOqW4uDitW7dOX3/9tdFxAIeguATK2L17tz777DN98cUX8vDw0EMPPaTIyEhlZWVp5syZCgoK0osvvmh0TDiZ/fv36%2BLFi%2BratatcXV1VUlKiZcuWaeTIkbbD1s%2BePcvGMFwTn9CDWwnFJSDpjTfe0Oeff65Lly6pd%2B/eioyMVNeuXcu92WdkZKh///5KTEw0MCmqq4CAANvB6wBwK2O3OKArn6Ly3HPP6fe//71q16591Xu8vLz01FNP3eRkuFXwezyA3wo6lwBwE9C5BPBbwVFEAADcBCNHjrzqeF5enh5%2B%2BOGbnAaoOkyLAwBQhVJSUnTo0CElJiZq9erVFZZInDx5Uj/88IMx4YAqQHEJAEAVunTpkrZu3aqSkhItWrSownV3d3dNmDDBgGRA1WDNJQDcBKy5xOjRo7Vw4UKjYwBVjuISAG6Czp07c4wVlJWVpR9%2B%2BEGXL1%2BucC04ONiARIDjUVwCwA1au3Ztpe%2BNjIyswiSoTv7xj39o9uzZslgsFa6ZTCalpqYakApwPIpLALhBv%2BwwXbx4UcXFxapXr56sVqsuXrwod3d3eXt7KyEhwaCUcDZdu3bV5MmT1a9fP7m7uxsdB6gybOgBgBu0Y8cO29dr1qxRSkqKJkyYoAYNGki68mlOc%2BbMUWBgoFER4YRKS0sVEREhFxcXo6MAVYrOJQDYoUePHkpISKjQicrLy1O/fv20bds2g5LB2cyaNUv33nuvIiIijI4CVCk6lwBgh8uXL%2Bvs2bO68847y42fP39eRUVFBqWCMyopKdGsWbO0fPly%2Bfr6qkaN8p9jEhsba1AywLEoLgHADg899JCGDx%2BuAQMGyNfXVxaLRWfPntXGjRsVHh5udDw4kfz8fPXs2dPoGECVY1ocAOxgsVgUFxenzZs369y5czKbzfLy8lJISIhGjBihWrVqGR0RAG4qiksAAG6SAwcOaN26dUpPT9eCBQtUWlqqL774Qn379jU6GuAwTIsDwA2aPXt2pe%2BdOHFiFSZBdbJ69WrNmjVLDz74oLZv3y5JyszM1N///ndlZGToT3/6k8EJAceguASAG7R///5K3Wcymao4CaqT9957T%2B%2B99546duyozz77TJLk7e2txYsXa8KECRSXuGVQXALADfroo4%2BMjoBqKCsrSx06dJBU/hePe%2B65RxkZGUbFAhyO4hIA7LRt2zZt2rRJp06dkslkkp%2BfnyIjI9WpUyejo8GJNG/eXLt371bXrl3LjW/YsEFNmzY1KBXgeBSXAGCHjz76SLGxserZs6etK3X8%2BHGNHDlSs2fPVp8%2BfQxOCGfx9NNPa8yYMQoNDVVJSYmmT5%2Bu77//Xvv37%2BeMS9xS2C0OAHYICwvTjBkz1KVLl3Lj27dvV0xMjNatW2dQMjijQ4cO6V//%2BpdOnjwpd3d3NWvWTI888ojuuusuo6MBDkNxCQB2CAwMVFJSUoXPi7ZYLAoKCtLevXsNSgYAxmBaHADs4Ofnp2%2B%2B%2BUahoaHlxnfs2ME6Omj48OGVPjXgww8/rOI0wM1BcQkAdhg3bpzGjx%2Bvbt266e6775Z0Zc3lzp07NX36dIPTwWjt27e3fV1YWKh169apY8eOuvPOO1VaWqqjR48qOTlZw4YNMzAl4FhMiwOAnQ4fPqxPP/1Up06dktlslp%2BfnwYOHFiusAAmTpyoyMhIhYSElBvfvHmzNmzYoDlz5hiUDHAsiksAAG6CDh06aM%2BePapZs/ykYXFxsYKCgip9OD/g7JgWBwA7pKena%2BnSpTpx4oTMZnOF66yjw8%2B8vLy0atUqPf744%2BXGP/30UzVq1MigVIDjUVwCgB0mTJigvLw8de3aVe7u7kbHgRN74YUXNHHiRC1YsEBNmjSRxWJRenq6Ll26dEOfVw84O6bFAcAO7dq10zfffKMGDRoYHQXVwKVLl7R9%2B3alp6fLbDbLy8tL3bp1k7e3t9HRAIehcwkAdmjRooVKS0uNjoFqom7duurXr1%2BFJRRms1murq4GpQIci84lANygEydO2L4%2BduyY4uLi9Pjjj8vHx6fCmYZ33nnnzY4HJ/Wf//xHf//73/XDDz/IYrFUuJ6ammpAKsDxKC4B4Aa1atVKJpNJ13r7/PmayWSiYIBNnz59FBQUpN///ve67bbbKlwPCgoyIBXgeBSXAHCDTp8%2BXel7fXx8qjAJqpPAwEAlJiZWOIoIuNXwCgeAG3S1gvH8%2BfM6e/as2rRpY0AiVAdBQUE6fPgwrxHc8uhcAoAd0tPTNWXKFO3cuVM1a9bUd999p4yMDD355JNasGCBmjVrZnREOIk1a9bo/fffV69eveTr66saNWqUuz506FCDkgGORXEJAHYYO3asateurYkTJyo8PFzJyckqKSlRbGysjh8/rsWLFxsdEU4iNDT0mtdMJpO%2B%2Buqrm5gGqDoUlwBgh44dO2rbtm3y8PBQQECADh48KEm6fPmyevTooW%2B//dbghABwc7HmEgDscNttt11113hubu5Vj5vBb9uFCxf0zTff2DaFNW/eXL169VKdOnUMTgY4To3r3wIAuJYuXbpoypQptrMvL168qD179mjcuHHq2bOnseHgVHbt2qXevXsrJiZGO3bs0I4dOzRz5kyFhYXpyJEjRscDHIZpcQCwQ25urqKjo7V161ZJV9bOmUwm9evXT1OnTlX9%2BvWNDQinMWjQIA0YMEAjR460jVksFi1cuFCJiYn64IMPDEwHOA7FJQA4wIULF5SWliY3Nzf5%2BvoyzYkK2rdvr6SkpArnXJrNZgUHB2vPnj0GJQMci2lxALDTV199JU9PTwUEBKi4uFhz5szR8uXL%2BcxxlOPl5aUffvihwnhaWhq/jOCWwoYeALBDTEyMvvjiC4WFhencuXP685//rPDwcG3cuFGnT59WdHS00RHhJCIiIvT000/r8ccf11133SVJOn78uD7%2B%2BGP17dvX4HSA4zAtDgB26N69uz7%2B%2BGP5%2BflpwYIFSkpK0rJly3T%2B/HkNHjzYthYTsFqtWr58ueLj43Xq1CmZzWb5%2Bflp4MCBevLJJ%2BXi4mJ0RMAh6FwCgB3y8vLk5%2BcnSdq5c6f69%2B8vSWrYsKFycnKMjAYnYzKZNHz4cA0fPtzoKECVorgEADs0a9ZMu3fvVu3atZWcnKy3335bknTo0CE1bNjQ4HRwNlu2bNHWrVuVkZEhSWrcuLFCQ0MVEhJicDLAcdjQAwB2mDhxokaPHq3HHntMUVFR8vLyUm5urqKiosodOQPMnTtXkyZNUnZ2tpo3by4/Pz9lZWVpwoQJevfdd42OBzgMay4BwE4lJSUqKiqSh4eHbezAgQNq3769gangbDp37qzFixerQ4cO5caTkpI0evRoJSYmGpQMcCymxQHADr9WECQmJqpz5843MQ2cmYuLi9q2bVthPCAggM08uKXQuQQAO7Rq1eqq4zVr1pS7u7uSkpJuciI4q4ULF8pisWjMmDGqUePKqrTS0lItXbpUxcXFGjt2rMEJAceguAQAO5jN5nJ/t1gs%2BvHHH/X%2B%2B%2B9rwIABCg4ONigZnM3IkSN18OBBubi4qFmzZiotLdXZs2dVXFysFi1alLt35cqVBqUE7EdxCQBV4NKlSxoyZIgSEhKMjgInMX/%2B/Erf%2B%2Byzz1ZhEqBqseYSAKpAQUGB7bgZQLp6wZibm6v69esbkAaoOhSXAGCHSZMmVRgrLCzUwYMH2cyDclJSUjR16lR9%2BumnkqQJEyYoISFBDRo00IIFCxQYGGhwQsAxKC4BwA6urq4VxurUqaNRo0ZpyJAhBiSCs5o%2Bfbp69%2B4tSdq8ebP27t2rLVu2aN%2B%2BfXrrrbe0YsUKgxMCjsGaSwAAboKOHTvq22%2B/Vc2aNfW3v/1NdevW1ZQpU2S1WhUUFMQ5l7hl0LkEADt98skn%2Bvzzz3X69GmZTCb5%2Bfnp4Ycf1sCBA42OBifi5uam4uJimUwmbd%2B%2BXW%2B99ZakK%2BtzS0tLDU4HOA7FJQDYYc6cOYqLi1NERIQGDBggSTp27JhmzJihgoIC/eEPfzA4IZxFSEiIxo8fr5o1a6pOnTrq0qWLiouL9fbbb1f41B6gOmNaHADsEBISosWLF%2Bvee%2B8tN56ciEM4rAAAA35JREFUnKzo6Ght2rTJoGRwNpcvX9Y///lPXbp0ScOGDZOPj48KCgo0btw4zZgxQ40bNzY6IuAQFJcAYIcOHTpoz549qlmz/ESQxWJRUFCQ9u7da1AyOLPs7Gw1aNDA6BhAlahhdAAAqM78/f0VFxdXYfzTTz9V8%2BbNDUgEZ5Wfn69p06apffv26t69uyQpJydHUVFRunDhgsHpAMehcwkAdkhKStKoUaPk4%2BOju%2B%2B%2BW5J0/PhxpaWlad68eQoJCTE4IZxFdHS0MjIyNHbsWD3xxBNKTk62FZxWq1WzZ882OiLgEBSXAGCnrKwsbdiwQadPn5bZbJafn58efPBBNW3a1OhocCL333%2B/Nm3aJE9PTwUEBOjgwYOSpIsXLyo8PFy7du0yOCHgGOwWBwA73XHHHRoxYoTRMeDkTCaT6tSpU2HcYrGoqKjIgERA1aC4BAA7HD16VLNnz9aJEydkNpsrXP/qq68MSAVnFBgYqDfffFPPP/%2B8bez06dOaMWOGgoKCDEwGOBbT4gBgh4ceekgNGzZUr1695O7uXuE651ziZ2fOnNGYMWN09OhRlZSUyMPDQwUFBQoMDFRsbKyaNGlidETAISguAcAOAQEB2rVrl2rXrm10FFQTycnJOnXqlNzc3OTn5yd/f3%2BjIwEOxbQ4ANghMDBQWVlZ8vPzMzoKqol27dqpXbt25cYyMjLk5eVlUCLAsehcAsAN2rFjh%2B3rjIwMrV69WpGRkfLx8ZHJZCp3b3Bw8M2OBydTUFCgN954Q5s3b5YkDRw4UJMnT1aNGleOml61apViYmKUmJhoZEzAYehcAsANGjVqVIWxAwcOVBgzmUxKTU29GZHgxObOnat9%2B/YpOjpaZrNZS5culYeHhwYOHKgXX3xRR44c0aRJk4yOCTgMnUsAAKpQWFiYlixZYjtkPzU1VX/6059UUlKi0NBQTZkyRQ0bNjQ4JeA4dC4BAKhCWVlZtsJSklq1aqXCwkItXrxYDzzwgIHJgKrBZ4sDAHATmUwmubi4UFjilkVxCQAAAIdhWhwAgCpksVi0evVqld3icLWxoUOHGhEPcDg29AAAUIVCQ0Ove4/JZOKjQnHLoLgEAACAw7DmEgAAAA5DcQkAAACHobgEAACAw1BcAgAAwGEoLgEAAOAwFJcAAABwGIpLAAAAOAzFJQAAAByG4hIAAAAO839gKhmcKGyNnQAAAABJRU5ErkJggg%3D%3D\" class=\"center-img\">\n",
              "</div>\n",
              "    <div class=\"row headerrow highlight\">\n",
              "        <h1>Sample</h1>\n",
              "    </div>\n",
              "    <div class=\"row variablerow\">\n",
              "    <div class=\"col-md-12\" style=\"overflow:scroll; width: 100%%; overflow-y: hidden;\">\n",
              "        <table border=\"1\" class=\"dataframe sample\">\n",
              "  <thead>\n",
              "    <tr style=\"text-align: right;\">\n",
              "      <th></th>\n",
              "      <th>country</th>\n",
              "      <th>year</th>\n",
              "      <th>uniqueid</th>\n",
              "      <th>Has a Bank account</th>\n",
              "      <th>Type of Location</th>\n",
              "      <th>Cell Phone Access</th>\n",
              "      <th>household_size</th>\n",
              "      <th>Respondent Age</th>\n",
              "      <th>gender_of_respondent</th>\n",
              "      <th>The relathip with head</th>\n",
              "      <th>marital_status</th>\n",
              "      <th>Level of Educuation</th>\n",
              "      <th>Type of Job</th>\n",
              "    </tr>\n",
              "  </thead>\n",
              "  <tbody>\n",
              "    <tr>\n",
              "      <th>0</th>\n",
              "      <td>Kenya</td>\n",
              "      <td>2018</td>\n",
              "      <td>uniqueid_1</td>\n",
              "      <td>Yes</td>\n",
              "      <td>Rural</td>\n",
              "      <td>Yes</td>\n",
              "      <td>3.0</td>\n",
              "      <td>24.0</td>\n",
              "      <td>Female</td>\n",
              "      <td>Spouse</td>\n",
              "      <td>Married/Living together</td>\n",
              "      <td>Secondary education</td>\n",
              "      <td>Self employed</td>\n",
              "    </tr>\n",
              "    <tr>\n",
              "      <th>1</th>\n",
              "      <td>Kenya</td>\n",
              "      <td>2018</td>\n",
              "      <td>uniqueid_2</td>\n",
              "      <td>No</td>\n",
              "      <td>Rural</td>\n",
              "      <td>No</td>\n",
              "      <td>5.0</td>\n",
              "      <td>70.0</td>\n",
              "      <td>Female</td>\n",
              "      <td>Head of Household</td>\n",
              "      <td>Widowed</td>\n",
              "      <td>No formal education</td>\n",
              "      <td>Government Dependent</td>\n",
              "    </tr>\n",
              "    <tr>\n",
              "      <th>2</th>\n",
              "      <td>Kenya</td>\n",
              "      <td>2018</td>\n",
              "      <td>uniqueid_3</td>\n",
              "      <td>Yes</td>\n",
              "      <td>Urban</td>\n",
              "      <td>Yes</td>\n",
              "      <td>5.0</td>\n",
              "      <td>26.0</td>\n",
              "      <td>Male</td>\n",
              "      <td>Other relative</td>\n",
              "      <td>Single/Never Married</td>\n",
              "      <td>Vocational/Specialised training</td>\n",
              "      <td>Self employed</td>\n",
              "    </tr>\n",
              "    <tr>\n",
              "      <th>3</th>\n",
              "      <td>Kenya</td>\n",
              "      <td>2018</td>\n",
              "      <td>uniqueid_4</td>\n",
              "      <td>No</td>\n",
              "      <td>Rural</td>\n",
              "      <td>Yes</td>\n",
              "      <td>5.0</td>\n",
              "      <td>34.0</td>\n",
              "      <td>Female</td>\n",
              "      <td>Head of Household</td>\n",
              "      <td>Married/Living together</td>\n",
              "      <td>Primary education</td>\n",
              "      <td>Formally employed Private</td>\n",
              "    </tr>\n",
              "    <tr>\n",
              "      <th>4</th>\n",
              "      <td>Kenya</td>\n",
              "      <td>2018</td>\n",
              "      <td>uniqueid_5</td>\n",
              "      <td>No</td>\n",
              "      <td>Urban</td>\n",
              "      <td>No</td>\n",
              "      <td>8.0</td>\n",
              "      <td>26.0</td>\n",
              "      <td>Male</td>\n",
              "      <td>Child</td>\n",
              "      <td>Single/Never Married</td>\n",
              "      <td>Primary education</td>\n",
              "      <td>Informally employed</td>\n",
              "    </tr>\n",
              "  </tbody>\n",
              "</table>\n",
              "    </div>\n",
              "</div>\n",
              "</div>"
            ],
            "text/plain": [
              "<pandas_profiling.ProfileReport at 0x7f0e3c19b2e8>"
            ]
          },
          "metadata": {
            "tags": []
          },
          "execution_count": 105
        }
      ]
    },
    {
      "cell_type": "code",
      "metadata": {
        "id": "dgWHm421hMvW",
        "colab_type": "code",
        "colab": {
          "base_uri": "https://localhost:8080/",
          "height": 105
        },
        "outputId": "6df41faa-e9fd-45da-ce1a-b5ddb11213c7"
      },
      "source": [
        "##\n",
        "## Looking at the columns\n",
        "proj.columns"
      ],
      "execution_count": 106,
      "outputs": [
        {
          "output_type": "execute_result",
          "data": {
            "text/plain": [
              "Index(['country', 'year', 'uniqueid', 'Has a Bank account', 'Type of Location',\n",
              "       'Cell Phone Access', 'household_size', 'Respondent Age',\n",
              "       'gender_of_respondent', 'The relathip with head', 'marital_status',\n",
              "       'Level of Educuation', 'Type of Job'],\n",
              "      dtype='object')"
            ]
          },
          "metadata": {
            "tags": []
          },
          "execution_count": 106
        }
      ]
    },
    {
      "cell_type": "code",
      "metadata": {
        "id": "mbdwMCq6hW4Y",
        "colab_type": "code",
        "colab": {
          "base_uri": "https://localhost:8080/",
          "height": 34
        },
        "outputId": "01a678a5-5b40-431f-9a1d-5eee4f94020a"
      },
      "source": [
        "##\n",
        "## Looking at the unique figure, value or objects in columns\n",
        "proj.country.unique()"
      ],
      "execution_count": 107,
      "outputs": [
        {
          "output_type": "execute_result",
          "data": {
            "text/plain": [
              "array(['Kenya', 'Rwanda', 'Tanzania', nan, 'Uganda'], dtype=object)"
            ]
          },
          "metadata": {
            "tags": []
          },
          "execution_count": 107
        }
      ]
    },
    {
      "cell_type": "code",
      "metadata": {
        "id": "bRWWVN21iGqn",
        "colab_type": "code",
        "colab": {
          "base_uri": "https://localhost:8080/",
          "height": 34
        },
        "outputId": "e19859da-5d8e-4644-ecf3-775ced1d2d6d"
      },
      "source": [
        "##\n",
        "proj.year.unique()"
      ],
      "execution_count": 108,
      "outputs": [
        {
          "output_type": "execute_result",
          "data": {
            "text/plain": [
              "array([2018, 2029, 2056, 2016, 2039, 2017])"
            ]
          },
          "metadata": {
            "tags": []
          },
          "execution_count": 108
        }
      ]
    },
    {
      "cell_type": "code",
      "metadata": {
        "id": "_PdmnyVMiNQu",
        "colab_type": "code",
        "colab": {
          "base_uri": "https://localhost:8080/",
          "height": 52
        },
        "outputId": "dc0424a2-6aed-43c3-8219-ede0c496f985"
      },
      "source": [
        "##\n",
        "##\n",
        "proj['uniqueid'].unique()"
      ],
      "execution_count": 109,
      "outputs": [
        {
          "output_type": "execute_result",
          "data": {
            "text/plain": [
              "array(['uniqueid_1', 'uniqueid_2', 'uniqueid_3', ..., 'uniqueid_8757',\n",
              "       'uniqueid_8758', 'uniqueid_8759'], dtype=object)"
            ]
          },
          "metadata": {
            "tags": []
          },
          "execution_count": 109
        }
      ]
    },
    {
      "cell_type": "code",
      "metadata": {
        "id": "lVCpjfchicn_",
        "colab_type": "code",
        "colab": {
          "base_uri": "https://localhost:8080/",
          "height": 34
        },
        "outputId": "b3e435c0-8b7a-4c1d-d6d4-b921181155ca"
      },
      "source": [
        "##\n",
        "##\n",
        "proj['Has a Bank account'].unique()"
      ],
      "execution_count": 110,
      "outputs": [
        {
          "output_type": "execute_result",
          "data": {
            "text/plain": [
              "array(['Yes', 'No', nan], dtype=object)"
            ]
          },
          "metadata": {
            "tags": []
          },
          "execution_count": 110
        }
      ]
    },
    {
      "cell_type": "code",
      "metadata": {
        "id": "fFZpXQEyjGHK",
        "colab_type": "code",
        "colab": {
          "base_uri": "https://localhost:8080/",
          "height": 34
        },
        "outputId": "3ce25971-df84-4943-d8b0-4107b80612b7"
      },
      "source": [
        "##\n",
        "proj['Type of Location'].unique()"
      ],
      "execution_count": 111,
      "outputs": [
        {
          "output_type": "execute_result",
          "data": {
            "text/plain": [
              "array(['Rural', 'Urban', nan], dtype=object)"
            ]
          },
          "metadata": {
            "tags": []
          },
          "execution_count": 111
        }
      ]
    },
    {
      "cell_type": "code",
      "metadata": {
        "id": "kVEgbayHjNMn",
        "colab_type": "code",
        "colab": {
          "base_uri": "https://localhost:8080/",
          "height": 34
        },
        "outputId": "fc14be34-61f6-4eac-8f12-a8a20b8638e1"
      },
      "source": [
        "##\n",
        "proj['Cell Phone Access'].unique()"
      ],
      "execution_count": 112,
      "outputs": [
        {
          "output_type": "execute_result",
          "data": {
            "text/plain": [
              "array(['Yes', 'No', nan], dtype=object)"
            ]
          },
          "metadata": {
            "tags": []
          },
          "execution_count": 112
        }
      ]
    },
    {
      "cell_type": "code",
      "metadata": {
        "id": "q7b7P_8VjljT",
        "colab_type": "code",
        "colab": {
          "base_uri": "https://localhost:8080/",
          "height": 52
        },
        "outputId": "bf162ab0-6b2a-4381-ba7b-e4591099112f"
      },
      "source": [
        "##\n",
        "proj['household_size'].unique()"
      ],
      "execution_count": 113,
      "outputs": [
        {
          "output_type": "execute_result",
          "data": {
            "text/plain": [
              "array([ 3.,  5.,  8.,  7.,  1.,  6.,  4., 10.,  2., 11.,  9., 12., 16.,\n",
              "       15., 13., 14., 21., nan,  0., 18., 17., 20.])"
            ]
          },
          "metadata": {
            "tags": []
          },
          "execution_count": 113
        }
      ]
    },
    {
      "cell_type": "code",
      "metadata": {
        "id": "6MYlBoruj3Qh",
        "colab_type": "code",
        "colab": {
          "base_uri": "https://localhost:8080/",
          "height": 158
        },
        "outputId": "f8959dbd-4e52-4d89-e531-20d0994e3de7"
      },
      "source": [
        "##\n",
        "proj['Respondent Age'].unique()"
      ],
      "execution_count": 114,
      "outputs": [
        {
          "output_type": "execute_result",
          "data": {
            "text/plain": [
              "array([ 24.,  70.,  26.,  34.,  32.,  42.,  54.,  76.,  40.,  69.,  64.,\n",
              "        31.,  38.,  47.,  27.,  48.,  25.,  21.,  18.,  22.,  58.,  55.,\n",
              "        62.,  29.,  35.,  45.,  67.,  19.,  80.,  66.,  50.,  33.,  28.,\n",
              "        51.,  16.,  17.,  30.,  37.,  59.,  65.,  46.,  56.,  52.,  23.,\n",
              "        43.,  49.,  44.,  72.,  53.,  63.,  39.,  81.,  78.,  36.,  20.,\n",
              "        60.,  95.,  71.,  57.,  85.,  68.,  41.,  61.,  75.,  86.,  73.,\n",
              "        nan,  93.,  74.,  88.,  90.,  77.,  84.,  82.,  89.,  79.,  83.,\n",
              "        94.,  87.,  92.,  91.,  98.,  97.,  96.,  99., 100.])"
            ]
          },
          "metadata": {
            "tags": []
          },
          "execution_count": 114
        }
      ]
    },
    {
      "cell_type": "code",
      "metadata": {
        "id": "OFQbgqmekAba",
        "colab_type": "code",
        "colab": {
          "base_uri": "https://localhost:8080/",
          "height": 34
        },
        "outputId": "dae38e2a-e380-4478-8dc2-624aac7d6667"
      },
      "source": [
        "##\n",
        "proj['gender_of_respondent'].unique()"
      ],
      "execution_count": 115,
      "outputs": [
        {
          "output_type": "execute_result",
          "data": {
            "text/plain": [
              "array(['Female', 'Male', nan], dtype=object)"
            ]
          },
          "metadata": {
            "tags": []
          },
          "execution_count": 115
        }
      ]
    },
    {
      "cell_type": "code",
      "metadata": {
        "id": "6Gzxe6zhkbpB",
        "colab_type": "code",
        "colab": {
          "base_uri": "https://localhost:8080/",
          "height": 52
        },
        "outputId": "4ab52d5d-d0a7-4a74-99d9-335b6ffa0c81"
      },
      "source": [
        "##\n",
        "proj['The relathip with head'].unique()"
      ],
      "execution_count": 116,
      "outputs": [
        {
          "output_type": "execute_result",
          "data": {
            "text/plain": [
              "array(['Spouse', 'Head of Household', 'Other relative', 'Child', 'Parent',\n",
              "       'Other non-relatives', nan], dtype=object)"
            ]
          },
          "metadata": {
            "tags": []
          },
          "execution_count": 116
        }
      ]
    },
    {
      "cell_type": "code",
      "metadata": {
        "id": "vc1vhTQjlvaC",
        "colab_type": "code",
        "colab": {
          "base_uri": "https://localhost:8080/",
          "height": 52
        },
        "outputId": "a5ca7ea2-3f39-43ff-dfc0-a87317ff2022"
      },
      "source": [
        "##\n",
        "proj['marital_status'].unique()"
      ],
      "execution_count": 117,
      "outputs": [
        {
          "output_type": "execute_result",
          "data": {
            "text/plain": [
              "array(['Married/Living together', 'Widowed', 'Single/Never Married',\n",
              "       'Divorced/Seperated', 'Dont know', nan], dtype=object)"
            ]
          },
          "metadata": {
            "tags": []
          },
          "execution_count": 117
        }
      ]
    },
    {
      "cell_type": "code",
      "metadata": {
        "id": "RHINOnPTl5p9",
        "colab_type": "code",
        "colab": {
          "base_uri": "https://localhost:8080/",
          "height": 87
        },
        "outputId": "16ade36f-308d-4cfe-86ae-cb180a67e80b"
      },
      "source": [
        "##\n",
        "proj['Level of Educuation'].unique()"
      ],
      "execution_count": 118,
      "outputs": [
        {
          "output_type": "execute_result",
          "data": {
            "text/plain": [
              "array(['Secondary education', 'No formal education',\n",
              "       'Vocational/Specialised training', 'Primary education',\n",
              "       'Tertiary education', 'Other/Dont know/RTA', '6', nan],\n",
              "      dtype=object)"
            ]
          },
          "metadata": {
            "tags": []
          },
          "execution_count": 118
        }
      ]
    },
    {
      "cell_type": "code",
      "metadata": {
        "id": "e2hkQtk0mPpi",
        "colab_type": "code",
        "colab": {
          "base_uri": "https://localhost:8080/",
          "height": 105
        },
        "outputId": "4eede8ea-e9bc-4995-abce-cad83c725222"
      },
      "source": [
        "##'Type of Job'\n",
        "proj['Type of Job'].unique()"
      ],
      "execution_count": 119,
      "outputs": [
        {
          "output_type": "execute_result",
          "data": {
            "text/plain": [
              "array(['Self employed', 'Government Dependent',\n",
              "       'Formally employed Private', 'Informally employed',\n",
              "       'Formally employed Government', 'Farming and Fishing',\n",
              "       'Remittance Dependent', 'Other Income',\n",
              "       'Dont Know/Refuse to answer', nan, 'No Income'], dtype=object)"
            ]
          },
          "metadata": {
            "tags": []
          },
          "execution_count": 119
        }
      ]
    },
    {
      "cell_type": "markdown",
      "metadata": {
        "id": "0KxptU1_dM1D",
        "colab_type": "text"
      },
      "source": [
        "## Tidying the dataset"
      ]
    },
    {
      "cell_type": "code",
      "metadata": {
        "id": "PSp37oJ95Ks1",
        "colab_type": "code",
        "colab": {
          "base_uri": "https://localhost:8080/",
          "height": 34
        },
        "outputId": "f68f214d-7230-4711-80c8-3a5bd24f3d5d"
      },
      "source": [
        "## Mean for age\n",
        "proj['Respondent Age'].mean()"
      ],
      "execution_count": 120,
      "outputs": [
        {
          "output_type": "execute_result",
          "data": {
            "text/plain": [
              "38.804299702000854"
            ]
          },
          "metadata": {
            "tags": []
          },
          "execution_count": 120
        }
      ]
    },
    {
      "cell_type": "code",
      "metadata": {
        "id": "RCPlz9Kh5fne",
        "colab_type": "code",
        "colab": {
          "base_uri": "https://localhost:8080/",
          "height": 52
        },
        "outputId": "c28bbecd-99ba-4e17-e731-e709f82fd2c9"
      },
      "source": [
        "##\n",
        "##\n",
        "proj['Respondent Age'].mode()"
      ],
      "execution_count": 121,
      "outputs": [
        {
          "output_type": "execute_result",
          "data": {
            "text/plain": [
              "0    30.0\n",
              "dtype: float64"
            ]
          },
          "metadata": {
            "tags": []
          },
          "execution_count": 121
        }
      ]
    },
    {
      "cell_type": "code",
      "metadata": {
        "id": "P4a-6dP054HT",
        "colab_type": "code",
        "colab": {
          "base_uri": "https://localhost:8080/",
          "height": 52
        },
        "outputId": "ac689c6b-c9cc-4f59-e9d2-838e22d100bb"
      },
      "source": [
        "##\n",
        "proj['year'].mode()"
      ],
      "execution_count": 122,
      "outputs": [
        {
          "output_type": "execute_result",
          "data": {
            "text/plain": [
              "0    2016\n",
              "dtype: int64"
            ]
          },
          "metadata": {
            "tags": []
          },
          "execution_count": 122
        }
      ]
    },
    {
      "cell_type": "code",
      "metadata": {
        "id": "FjLb6Odg5rQf",
        "colab_type": "code",
        "colab": {
          "base_uri": "https://localhost:8080/",
          "height": 287
        },
        "outputId": "100da854-b49a-446f-805b-2a86eaff5630"
      },
      "source": [
        "##\n",
        "##\n",
        "proj.describe()"
      ],
      "execution_count": 123,
      "outputs": [
        {
          "output_type": "execute_result",
          "data": {
            "text/html": [
              "<div>\n",
              "<style scoped>\n",
              "    .dataframe tbody tr th:only-of-type {\n",
              "        vertical-align: middle;\n",
              "    }\n",
              "\n",
              "    .dataframe tbody tr th {\n",
              "        vertical-align: top;\n",
              "    }\n",
              "\n",
              "    .dataframe thead th {\n",
              "        text-align: right;\n",
              "    }\n",
              "</style>\n",
              "<table border=\"1\" class=\"dataframe\">\n",
              "  <thead>\n",
              "    <tr style=\"text-align: right;\">\n",
              "      <th></th>\n",
              "      <th>year</th>\n",
              "      <th>household_size</th>\n",
              "      <th>Respondent Age</th>\n",
              "    </tr>\n",
              "  </thead>\n",
              "  <tbody>\n",
              "    <tr>\n",
              "      <th>count</th>\n",
              "      <td>23524.000000</td>\n",
              "      <td>23496.000000</td>\n",
              "      <td>23490.000000</td>\n",
              "    </tr>\n",
              "    <tr>\n",
              "      <th>mean</th>\n",
              "      <td>2016.979000</td>\n",
              "      <td>3.681818</td>\n",
              "      <td>38.804300</td>\n",
              "    </tr>\n",
              "    <tr>\n",
              "      <th>std</th>\n",
              "      <td>0.899669</td>\n",
              "      <td>2.279933</td>\n",
              "      <td>16.519996</td>\n",
              "    </tr>\n",
              "    <tr>\n",
              "      <th>min</th>\n",
              "      <td>2016.000000</td>\n",
              "      <td>0.000000</td>\n",
              "      <td>16.000000</td>\n",
              "    </tr>\n",
              "    <tr>\n",
              "      <th>25%</th>\n",
              "      <td>2016.000000</td>\n",
              "      <td>2.000000</td>\n",
              "      <td>26.000000</td>\n",
              "    </tr>\n",
              "    <tr>\n",
              "      <th>50%</th>\n",
              "      <td>2017.000000</td>\n",
              "      <td>3.000000</td>\n",
              "      <td>35.000000</td>\n",
              "    </tr>\n",
              "    <tr>\n",
              "      <th>75%</th>\n",
              "      <td>2018.000000</td>\n",
              "      <td>5.000000</td>\n",
              "      <td>49.000000</td>\n",
              "    </tr>\n",
              "    <tr>\n",
              "      <th>max</th>\n",
              "      <td>2056.000000</td>\n",
              "      <td>21.000000</td>\n",
              "      <td>100.000000</td>\n",
              "    </tr>\n",
              "  </tbody>\n",
              "</table>\n",
              "</div>"
            ],
            "text/plain": [
              "               year  household_size  Respondent Age\n",
              "count  23524.000000    23496.000000    23490.000000\n",
              "mean    2016.979000        3.681818       38.804300\n",
              "std        0.899669        2.279933       16.519996\n",
              "min     2016.000000        0.000000       16.000000\n",
              "25%     2016.000000        2.000000       26.000000\n",
              "50%     2017.000000        3.000000       35.000000\n",
              "75%     2018.000000        5.000000       49.000000\n",
              "max     2056.000000       21.000000      100.000000"
            ]
          },
          "metadata": {
            "tags": []
          },
          "execution_count": 123
        }
      ]
    },
    {
      "cell_type": "code",
      "metadata": {
        "id": "tFUKQBgJphFJ",
        "colab_type": "code",
        "colab": {
          "base_uri": "https://localhost:8080/",
          "height": 265
        },
        "outputId": "f903f5c2-a474-4538-8fa0-04c0909cc54a"
      },
      "source": [
        "##\n",
        "## Checking missing values\n",
        "proj.isnull().sum()"
      ],
      "execution_count": 124,
      "outputs": [
        {
          "output_type": "execute_result",
          "data": {
            "text/plain": [
              "country                   14\n",
              "year                       0\n",
              "uniqueid                   0\n",
              "Has a Bank account        36\n",
              "Type of Location          15\n",
              "Cell Phone Access         11\n",
              "household_size            28\n",
              "Respondent Age            34\n",
              "gender_of_respondent      34\n",
              "The relathip with head     4\n",
              "marital_status            32\n",
              "Level of Educuation       29\n",
              "Type of Job               30\n",
              "dtype: int64"
            ]
          },
          "metadata": {
            "tags": []
          },
          "execution_count": 124
        }
      ]
    },
    {
      "cell_type": "code",
      "metadata": {
        "id": "tU5ZELO8plFo",
        "colab_type": "code",
        "colab": {}
      },
      "source": [
        "# ##\n",
        "# Sorting null values by dropping null values\n",
        "proj = proj.dropna()"
      ],
      "execution_count": 0,
      "outputs": []
    },
    {
      "cell_type": "code",
      "metadata": {
        "id": "V0_of0X3uLyB",
        "colab_type": "code",
        "colab": {
          "base_uri": "https://localhost:8080/",
          "height": 265
        },
        "outputId": "0c662d79-6c86-48dc-8cbb-a67de01193f0"
      },
      "source": [
        "## Checking if there is null values after dropping null values\n",
        "proj.isnull().sum()"
      ],
      "execution_count": 126,
      "outputs": [
        {
          "output_type": "execute_result",
          "data": {
            "text/plain": [
              "country                   0\n",
              "year                      0\n",
              "uniqueid                  0\n",
              "Has a Bank account        0\n",
              "Type of Location          0\n",
              "Cell Phone Access         0\n",
              "household_size            0\n",
              "Respondent Age            0\n",
              "gender_of_respondent      0\n",
              "The relathip with head    0\n",
              "marital_status            0\n",
              "Level of Educuation       0\n",
              "Type of Job               0\n",
              "dtype: int64"
            ]
          },
          "metadata": {
            "tags": []
          },
          "execution_count": 126
        }
      ]
    },
    {
      "cell_type": "code",
      "metadata": {
        "id": "KeawvFvPSMhF",
        "colab_type": "code",
        "colab": {
          "base_uri": "https://localhost:8080/",
          "height": 164
        },
        "outputId": "8b777270-7260-4777-e103-05c50c52afae"
      },
      "source": [
        "proj.head(1)"
      ],
      "execution_count": 129,
      "outputs": [
        {
          "output_type": "execute_result",
          "data": {
            "text/html": [
              "<div>\n",
              "<style scoped>\n",
              "    .dataframe tbody tr th:only-of-type {\n",
              "        vertical-align: middle;\n",
              "    }\n",
              "\n",
              "    .dataframe tbody tr th {\n",
              "        vertical-align: top;\n",
              "    }\n",
              "\n",
              "    .dataframe thead th {\n",
              "        text-align: right;\n",
              "    }\n",
              "</style>\n",
              "<table border=\"1\" class=\"dataframe\">\n",
              "  <thead>\n",
              "    <tr style=\"text-align: right;\">\n",
              "      <th></th>\n",
              "      <th>country</th>\n",
              "      <th>year</th>\n",
              "      <th>uniqueid</th>\n",
              "      <th>Has a Bank account</th>\n",
              "      <th>Type of Location</th>\n",
              "      <th>Cell Phone Access</th>\n",
              "      <th>household_size</th>\n",
              "      <th>Respondent Age</th>\n",
              "      <th>gender_of_respondent</th>\n",
              "      <th>The relathip with head</th>\n",
              "      <th>marital_status</th>\n",
              "      <th>Level of Educuation</th>\n",
              "      <th>Type of Job</th>\n",
              "    </tr>\n",
              "  </thead>\n",
              "  <tbody>\n",
              "    <tr>\n",
              "      <th>0</th>\n",
              "      <td>Kenya</td>\n",
              "      <td>2018</td>\n",
              "      <td>uniqueid_1</td>\n",
              "      <td>Yes</td>\n",
              "      <td>Rural</td>\n",
              "      <td>Yes</td>\n",
              "      <td>3.0</td>\n",
              "      <td>24.0</td>\n",
              "      <td>Female</td>\n",
              "      <td>Spouse</td>\n",
              "      <td>Married/Living together</td>\n",
              "      <td>Secondary education</td>\n",
              "      <td>Self employed</td>\n",
              "    </tr>\n",
              "  </tbody>\n",
              "</table>\n",
              "</div>"
            ],
            "text/plain": [
              "  country  year  ...  Level of Educuation    Type of Job\n",
              "0   Kenya  2018  ...  Secondary education  Self employed\n",
              "\n",
              "[1 rows x 13 columns]"
            ]
          },
          "metadata": {
            "tags": []
          },
          "execution_count": 129
        }
      ]
    },
    {
      "cell_type": "markdown",
      "metadata": {
        "id": "0LyMZ-ji6Hxm",
        "colab_type": "text"
      },
      "source": [
        "## Exploratory Analysis"
      ]
    },
    {
      "cell_type": "markdown",
      "metadata": {
        "id": "Q5xgHPGxW76F",
        "colab_type": "text"
      },
      "source": [
        "### Handling Missing Values"
      ]
    },
    {
      "cell_type": "code",
      "metadata": {
        "id": "pPI8V2jkXCIM",
        "colab_type": "code",
        "colab": {
          "base_uri": "https://localhost:8080/",
          "height": 105
        },
        "outputId": "e1679103-21fa-43e9-bf7f-471fa6e8c4d7"
      },
      "source": [
        "##\n",
        "## Renaming, replacing and writing columns in lower case\n",
        "proj.columns = proj.columns.str.lower().str.replace(' ', '_')\n",
        "proj.columns"
      ],
      "execution_count": 130,
      "outputs": [
        {
          "output_type": "execute_result",
          "data": {
            "text/plain": [
              "Index(['country', 'year', 'uniqueid', 'has_a_bank_account', 'type_of_location',\n",
              "       'cell_phone_access', 'household_size', 'respondent_age',\n",
              "       'gender_of_respondent', 'the_relathip_with_head', 'marital_status',\n",
              "       'level_of_educuation', 'type_of_job'],\n",
              "      dtype='object')"
            ]
          },
          "metadata": {
            "tags": []
          },
          "execution_count": 130
        }
      ]
    },
    {
      "cell_type": "code",
      "metadata": {
        "id": "5O9Pfb1JXnyt",
        "colab_type": "code",
        "colab": {}
      },
      "source": [
        "##\n",
        "## Renaming columns\n",
        "proj.rename(columns = {\"has_bank_account\": \"bank_account\", \"the_relathip_with_head\": \"relationship_with_head\", \"level_of_educuation\": \"level_of_education\"}, inplace = True)\n"
      ],
      "execution_count": 0,
      "outputs": []
    },
    {
      "cell_type": "code",
      "metadata": {
        "id": "8dluBYX5aZsK",
        "colab_type": "code",
        "colab": {
          "base_uri": "https://localhost:8080/",
          "height": 105
        },
        "outputId": "97c456e2-77db-46d9-fe6b-dd2e6245b93a"
      },
      "source": [
        "proj.columns"
      ],
      "execution_count": 132,
      "outputs": [
        {
          "output_type": "execute_result",
          "data": {
            "text/plain": [
              "Index(['country', 'year', 'uniqueid', 'has_a_bank_account', 'type_of_location',\n",
              "       'cell_phone_access', 'household_size', 'respondent_age',\n",
              "       'gender_of_respondent', 'relationship_with_head', 'marital_status',\n",
              "       'level_of_education', 'type_of_job'],\n",
              "      dtype='object')"
            ]
          },
          "metadata": {
            "tags": []
          },
          "execution_count": 132
        }
      ]
    },
    {
      "cell_type": "code",
      "metadata": {
        "id": "ltYtaghMazAF",
        "colab_type": "code",
        "colab": {}
      },
      "source": [
        "# ##\n",
        "# ## replacing categorical variables with the mode\n",
        "# cols = ['country', 'has_a_bank_account', 'type_of_location', 'cell_phone_access', 'gender_of_respondent', 'relationship_with_head', 'marital_status', 'level_of_education', 'type_of_job']\n",
        "# proj[cols] = proj[cols].fillna(proj.mode().iloc[0])"
      ],
      "execution_count": 0,
      "outputs": []
    },
    {
      "cell_type": "code",
      "metadata": {
        "id": "ovEOavwoeFt8",
        "colab_type": "code",
        "colab": {}
      },
      "source": [
        "# ##\n",
        "# ## Replacing missing values of numerical variables with there means\n",
        "# meme = ['household_size', 'respondent_age', 'year']\n",
        "# proj[meme] = proj[meme].fillna(proj.mean().iloc[0])"
      ],
      "execution_count": 0,
      "outputs": []
    },
    {
      "cell_type": "code",
      "metadata": {
        "id": "xTnupfpXrhNl",
        "colab_type": "code",
        "colab": {}
      },
      "source": [
        "##\n",
        "## drop the uniqueid\n",
        "# proj.drop('uniqueid', axis = 1, inplace = True)"
      ],
      "execution_count": 0,
      "outputs": []
    },
    {
      "cell_type": "code",
      "metadata": {
        "id": "8zWzVQytr3jQ",
        "colab_type": "code",
        "colab": {
          "base_uri": "https://localhost:8080/",
          "height": 105
        },
        "outputId": "d2207610-80b8-4114-8442-798209cba183"
      },
      "source": [
        "proj.columns"
      ],
      "execution_count": 136,
      "outputs": [
        {
          "output_type": "execute_result",
          "data": {
            "text/plain": [
              "Index(['country', 'year', 'uniqueid', 'has_a_bank_account', 'type_of_location',\n",
              "       'cell_phone_access', 'household_size', 'respondent_age',\n",
              "       'gender_of_respondent', 'relationship_with_head', 'marital_status',\n",
              "       'level_of_education', 'type_of_job'],\n",
              "      dtype='object')"
            ]
          },
          "metadata": {
            "tags": []
          },
          "execution_count": 136
        }
      ]
    },
    {
      "cell_type": "markdown",
      "metadata": {
        "id": "FOLhrNnsiNwb",
        "colab_type": "text"
      },
      "source": [
        "### Outliers"
      ]
    },
    {
      "cell_type": "code",
      "metadata": {
        "id": "hFF47DXpnjsh",
        "colab_type": "code",
        "colab": {
          "base_uri": "https://localhost:8080/",
          "height": 517
        },
        "outputId": "0f5bdedb-9baf-4133-c958-058e8c86b2c3"
      },
      "source": [
        "# Checking for outliers\n",
        "plt.figure(dpi = 90, figsize = (7, 6))\n",
        "sns.set_style('darkgrid')\n",
        "sns.boxplot(proj.year)\n",
        "plt.xticks(rotation = 45)\n",
        "plt.show()"
      ],
      "execution_count": 137,
      "outputs": [
        {
          "output_type": "display_data",
          "data": {
            "image/png": "[encoded data removed]",
            "text/plain": [
              "<Figure size 630x540 with 1 Axes>"
            ]
          },
          "metadata": {
            "tags": []
          }
        }
      ]
    },
    {
      "cell_type": "code",
      "metadata": {
        "id": "0NaekB-Vg0p8",
        "colab_type": "code",
        "colab": {
          "base_uri": "https://localhost:8080/",
          "height": 531
        },
        "outputId": "c69c65e0-f1fc-439f-8936-39e1a65a47f7"
      },
      "source": [
        "##\n",
        "##\n",
        "## FInding outliers using seaborn for numerical variables\n",
        "sns.boxplot(proj['household_size'], showmeans = True)"
      ],
      "execution_count": 138,
      "outputs": [
        {
          "output_type": "execute_result",
          "data": {
            "text/plain": [
              "<matplotlib.axes._subplots.AxesSubplot at 0x7f0e3c1065f8>"
            ]
          },
          "metadata": {
            "tags": []
          },
          "execution_count": 138
        },
        {
          "output_type": "display_data",
          "data": {
            "image/png": "[encoded data removed]",
            "text/plain": [
              "<Figure size 800x550 with 1 Axes>"
            ]
          },
          "metadata": {
            "tags": []
          }
        }
      ]
    },
    {
      "cell_type": "markdown",
      "metadata": {
        "id": "js39a5x_0D9r",
        "colab_type": "text"
      },
      "source": [
        ""
      ]
    },
    {
      "cell_type": "code",
      "metadata": {
        "id": "_FiWXyvuhOY6",
        "colab_type": "code",
        "colab": {
          "base_uri": "https://localhost:8080/",
          "height": 531
        },
        "outputId": "c8204fb4-5254-4bb5-c647-393ec9845424"
      },
      "source": [
        "## FInding outliers using seaborn for numerical variables\n",
        "##\n",
        "sns.boxplot(proj['respondent_age'], showmeans = True)"
      ],
      "execution_count": 139,
      "outputs": [
        {
          "output_type": "execute_result",
          "data": {
            "text/plain": [
              "<matplotlib.axes._subplots.AxesSubplot at 0x7f0e3b5fb470>"
            ]
          },
          "metadata": {
            "tags": []
          },
          "execution_count": 139
        },
        {
          "output_type": "display_data",
          "data": {
            "image/png": "[encoded data removed]",
            "text/plain": [
              "<Figure size 800x550 with 1 Axes>"
            ]
          },
          "metadata": {
            "tags": []
          }
        }
      ]
    },
    {
      "cell_type": "markdown",
      "metadata": {
        "id": "ixsWP9ibz5IG",
        "colab_type": "text"
      },
      "source": [
        "I won't drop outliers of respondent age as the maximum is 100"
      ]
    },
    {
      "cell_type": "code",
      "metadata": {
        "id": "btFk_2IOtNoj",
        "colab_type": "code",
        "colab": {
          "base_uri": "https://localhost:8080/",
          "height": 491
        },
        "outputId": "7da47254-d0d5-465d-f703-f6a0d2600e6b"
      },
      "source": [
        "##\n",
        "## Check for outliers\n",
        "# boxplot = df.boxplot(grid=False, rot=45, fontsize=15)\n",
        "boxplot = proj.boxplot([\"household_size\",\"respondent_age\"])\n",
        "plt.show()"
      ],
      "execution_count": 140,
      "outputs": [
        {
          "output_type": "display_data",
          "data": {
            "image/png": "[encoded data removed]",
            "text/plain": [
              "<Figure size 800x550 with 1 Axes>"
            ]
          },
          "metadata": {
            "tags": []
          }
        }
      ]
    },
    {
      "cell_type": "markdown",
      "metadata": {
        "id": "mpaZDkAGia56",
        "colab_type": "text"
      },
      "source": [
        "### Anomalies"
      ]
    },
    {
      "cell_type": "code",
      "metadata": {
        "id": "0hK9EQh6ifDw",
        "colab_type": "code",
        "colab": {
          "base_uri": "https://localhost:8080/",
          "height": 548
        },
        "outputId": "2d99780d-2662-4d13-9dee-e24b595e1827"
      },
      "source": [
        "##\n",
        "# Anomalies detected in household_size size\n",
        "proj[['household_size']].boxplot(figsize=(8,6))"
      ],
      "execution_count": 141,
      "outputs": [
        {
          "output_type": "execute_result",
          "data": {
            "text/plain": [
              "<matplotlib.axes._subplots.AxesSubplot at 0x7f0e3b307978>"
            ]
          },
          "metadata": {
            "tags": []
          },
          "execution_count": 141
        },
        {
          "output_type": "display_data",
          "data": {
            "image/png": "[encoded data removed]",
            "text/plain": [
              "<Figure size 800x600 with 1 Axes>"
            ]
          },
          "metadata": {
            "tags": []
          }
        }
      ]
    },
    {
      "cell_type": "code",
      "metadata": {
        "id": "8bXIpAwvq2YA",
        "colab_type": "code",
        "colab": {}
      },
      "source": [
        ""
      ],
      "execution_count": 0,
      "outputs": []
    },
    {
      "cell_type": "markdown",
      "metadata": {
        "id": "hqzYVWYuq3gZ",
        "colab_type": "text"
      },
      "source": [
        "### Dropping values and columns"
      ]
    },
    {
      "cell_type": "code",
      "metadata": {
        "id": "mjGojcg5q6nd",
        "colab_type": "code",
        "colab": {}
      },
      "source": [
        "# Ensuring that you are dealing with years between 2016 and 2018\n",
        "#\n",
        "l = proj[proj['year']>2019].index\n",
        "\n",
        "proj.drop(l,inplace=True)"
      ],
      "execution_count": 0,
      "outputs": []
    },
    {
      "cell_type": "code",
      "metadata": {
        "id": "5QtKc3kDrAdq",
        "colab_type": "code",
        "colab": {
          "base_uri": "https://localhost:8080/",
          "height": 34
        },
        "outputId": "18fdfce1-498e-49bc-8429-22ec3a808db6"
      },
      "source": [
        "##\n",
        "#\n",
        "proj.year.unique()"
      ],
      "execution_count": 152,
      "outputs": [
        {
          "output_type": "execute_result",
          "data": {
            "text/plain": [
              "array([2018, 2016, 2017])"
            ]
          },
          "metadata": {
            "tags": []
          },
          "execution_count": 152
        }
      ]
    },
    {
      "cell_type": "code",
      "metadata": {
        "id": "f1hsmsg3rN6_",
        "colab_type": "code",
        "colab": {}
      },
      "source": [
        "# dropping the uniqueid column due to the high cardinality in it's values\n",
        "proj = proj.drop(columns = ['uniqueid'])"
      ],
      "execution_count": 0,
      "outputs": []
    },
    {
      "cell_type": "code",
      "metadata": {
        "id": "A2t3BkJcrTRX",
        "colab_type": "code",
        "colab": {}
      },
      "source": [
        "proj.columns"
      ],
      "execution_count": 0,
      "outputs": []
    },
    {
      "cell_type": "code",
      "metadata": {
        "id": "h3O9gZh3ryCR",
        "colab_type": "code",
        "colab": {
          "base_uri": "https://localhost:8080/",
          "height": 123
        },
        "outputId": "530595c7-6a0e-4251-bb33-964d753e57eb"
      },
      "source": [
        "##\n",
        "##\n",
        "# Univariate analysis\n",
        "proj.groupby('country').household_size.mean()"
      ],
      "execution_count": 153,
      "outputs": [
        {
          "output_type": "execute_result",
          "data": {
            "text/plain": [
              "country\n",
              "Kenya       3.987133\n",
              "Rwanda      4.482782\n",
              "Tanzania    1.931692\n",
              "Uganda      4.983771\n",
              "Name: household_size, dtype: float64"
            ]
          },
          "metadata": {
            "tags": []
          },
          "execution_count": 153
        }
      ]
    },
    {
      "cell_type": "code",
      "metadata": {
        "id": "48-PR13Vr-Sc",
        "colab_type": "code",
        "colab": {
          "base_uri": "https://localhost:8080/",
          "height": 123
        },
        "outputId": "8d4d8e60-e602-42de-a023-e8e0efafa24c"
      },
      "source": [
        "proj.groupby('country').household_size.median()"
      ],
      "execution_count": 154,
      "outputs": [
        {
          "output_type": "execute_result",
          "data": {
            "text/plain": [
              "country\n",
              "Kenya       4.0\n",
              "Rwanda      4.0\n",
              "Tanzania    2.0\n",
              "Uganda      5.0\n",
              "Name: household_size, dtype: float64"
            ]
          },
          "metadata": {
            "tags": []
          },
          "execution_count": 154
        }
      ]
    },
    {
      "cell_type": "code",
      "metadata": {
        "id": "4PtMHcLhsGsg",
        "colab_type": "code",
        "colab": {
          "base_uri": "https://localhost:8080/",
          "height": 123
        },
        "outputId": "e9d85978-cedf-4d3e-c643-4fd6c9a903c8"
      },
      "source": [
        "proj.groupby('country').household_size.std()"
      ],
      "execution_count": 155,
      "outputs": [
        {
          "output_type": "execute_result",
          "data": {
            "text/plain": [
              "country\n",
              "Kenya       2.334967\n",
              "Rwanda      1.980386\n",
              "Tanzania    1.055155\n",
              "Uganda      2.893811\n",
              "Name: household_size, dtype: float64"
            ]
          },
          "metadata": {
            "tags": []
          },
          "execution_count": 155
        }
      ]
    },
    {
      "cell_type": "code",
      "metadata": {
        "id": "gWxr8Ew1sR2m",
        "colab_type": "code",
        "colab": {
          "base_uri": "https://localhost:8080/",
          "height": 123
        },
        "outputId": "58af4423-3ec8-4f9b-a52b-3a5cbd4bd302"
      },
      "source": [
        "proj.groupby('country').household_size.count()"
      ],
      "execution_count": 156,
      "outputs": [
        {
          "output_type": "execute_result",
          "data": {
            "text/plain": [
              "country\n",
              "Kenya       6062\n",
              "Rwanda      8683\n",
              "Tanzania    6500\n",
              "Uganda      2095\n",
              "Name: household_size, dtype: int64"
            ]
          },
          "metadata": {
            "tags": []
          },
          "execution_count": 156
        }
      ]
    },
    {
      "cell_type": "code",
      "metadata": {
        "id": "3MAsbnUKuM-U",
        "colab_type": "code",
        "colab": {
          "base_uri": "https://localhost:8080/",
          "height": 176
        },
        "outputId": "94fa0209-49b5-4d57-d2e0-b6b44c14c58d"
      },
      "source": [
        "##\n",
        "proj.groupby('level_of_education').household_size.count()"
      ],
      "execution_count": 161,
      "outputs": [
        {
          "output_type": "execute_result",
          "data": {
            "text/plain": [
              "level_of_education\n",
              "6                                     27\n",
              "No formal education                 4467\n",
              "Other/Dont know/RTA                    8\n",
              "Primary education                  12688\n",
              "Secondary education                 4206\n",
              "Tertiary education                  1143\n",
              "Vocational/Specialised training      801\n",
              "Name: household_size, dtype: int64"
            ]
          },
          "metadata": {
            "tags": []
          },
          "execution_count": 161
        }
      ]
    },
    {
      "cell_type": "markdown",
      "metadata": {
        "id": "Hi2I76016c_F",
        "colab_type": "text"
      },
      "source": [
        "### Plotting Univariate and Bivariate"
      ]
    },
    {
      "cell_type": "code",
      "metadata": {
        "id": "QNopH_F_6iIQ",
        "colab_type": "code",
        "colab": {
          "base_uri": "https://localhost:8080/",
          "height": 531
        },
        "outputId": "0687bf04-e6c9-4a31-b8e8-94511f5716cf"
      },
      "source": [
        "# Plot univariate and bivariate summaries recording your observations.\n",
        "x = proj['household_size']\n",
        "age = proj[\"respondent_age\"]\n",
        "plt.bar(x, age)\n",
        "plt.ylabel(\"age\")\n",
        "plt.xlabel(\"houseHold size\")\n",
        "plt.title(\"Financial inclusion\")\n",
        "plt.show()"
      ],
      "execution_count": 142,
      "outputs": [
        {
          "output_type": "display_data",
          "data": {
            "image/png": "[encoded data removed]",
            "text/plain": [
              "<Figure size 800x550 with 1 Axes>"
            ]
          },
          "metadata": {
            "tags": []
          }
        }
      ]
    },
    {
      "cell_type": "code",
      "metadata": {
        "id": "7k2kxe7u8zQr",
        "colab_type": "code",
        "colab": {
          "base_uri": "https://localhost:8080/",
          "height": 34
        },
        "outputId": "258bcd78-2cb2-4637-deb8-62f4c09c5b55"
      },
      "source": [
        "## check correlation\n",
        "#\n",
        "proj[\"respondent_age\"].corr(proj[\"household_size\"])\n"
      ],
      "execution_count": 143,
      "outputs": [
        {
          "output_type": "execute_result",
          "data": {
            "text/plain": [
              "-0.11970919507762415"
            ]
          },
          "metadata": {
            "tags": []
          },
          "execution_count": 143
        }
      ]
    },
    {
      "cell_type": "code",
      "metadata": {
        "id": "dAMPhPFm-ObC",
        "colab_type": "code",
        "colab": {
          "base_uri": "https://localhost:8080/",
          "height": 531
        },
        "outputId": "306b26e0-d005-4706-afac-5628eb2bdfb9"
      },
      "source": [
        "##\n",
        "##\n",
        "# seeing the relation of countries and the household_size\n",
        "# Defining our data\n",
        "country = proj['country']\n",
        "house =  proj[\"household_size\"]\n",
        "plt.bar(country, house, color='blue')\n",
        "# Labelling our x axis\n",
        "plt.xlabel(\"Country\")\n",
        "# Labelling our y axis\n",
        "plt.ylabel(\"Household Size\")\n",
        "# Giving a title to our Bar chart\n",
        "plt.title(\"Insight of Country and HouseHold\")\n",
        "# Displaying our chart\n",
        "plt.show()"
      ],
      "execution_count": 144,
      "outputs": [
        {
          "output_type": "display_data",
          "data": {
            "image/png": "[encoded data removed]",
            "text/plain": [
              "<Figure size 800x550 with 1 Axes>"
            ]
          },
          "metadata": {
            "tags": []
          }
        }
      ]
    },
    {
      "cell_type": "code",
      "metadata": {
        "id": "-7VUzJEr_UsP",
        "colab_type": "code",
        "colab": {
          "base_uri": "https://localhost:8080/",
          "height": 485
        },
        "outputId": "b49e3f0b-3b50-4ca3-af57-ae103cc94a8f"
      },
      "source": [
        "##\n",
        "## Pie chart for house hold and education level\n",
        "\n",
        "hls = proj[\"household_size\"].sample(7)\n",
        "edl = proj[\"level_of_education\"].unique().tolist()\n",
        "explode = [0, 0, 0, 0.1, 0, 0, 0]\n",
        "\n",
        "plt.pie(hls, explode=explode, labels=edl, autopct = '%1.1f%%', shadow = True, startangle = 90)\n",
        "plt.axis('equal')\n",
        "plt.title('Pie chart of education level and house hold size')\n",
        "plt.show()"
      ],
      "execution_count": 182,
      "outputs": [
        {
          "output_type": "display_data",
          "data": {
            "image/png": "[encoded data removed]",
            "text/plain": [
              "<Figure size 800x550 with 1 Axes>"
            ]
          },
          "metadata": {
            "tags": []
          }
        }
      ]
    },
    {
      "cell_type": "markdown",
      "metadata": {
        "id": "c86Lb7Ayy4u2",
        "colab_type": "text"
      },
      "source": [
        "Primary educationl has the highest houusehold size while cocational/specialised training has the lowest in our sample"
      ]
    },
    {
      "cell_type": "code",
      "metadata": {
        "id": "87gteocbsgG3",
        "colab_type": "code",
        "colab": {
          "base_uri": "https://localhost:8080/",
          "height": 485
        },
        "outputId": "389fdbc3-5079-4b6d-c27a-036d55de7449"
      },
      "source": [
        "# Distribution of household sizes by count with country\n",
        "country = ['Kenya', 'Rwanda', 'Tanzania', 'Uganda']\n",
        "household = [6062, 8683, 6500, 2095]\n",
        "explode = [0, 0.1, 0, 0]\n",
        "# \n",
        "plt.pie(household, labels=country, explode=explode, autopct = '%1.1f%%', shadow = True, startangle = 90)\n",
        "plt.axis('equal')\n",
        "plt.title('% of Household sizes in the different countries')\n",
        "plt.show()"
      ],
      "execution_count": 158,
      "outputs": [
        {
          "output_type": "display_data",
          "data": {
            "image/png": "[encoded data removed]",
            "text/plain": [
              "<Figure size 800x550 with 1 Axes>"
            ]
          },
          "metadata": {
            "tags": []
          }
        }
      ]
    },
    {
      "cell_type": "markdown",
      "metadata": {
        "id": "8HpxqztCtF0a",
        "colab_type": "text"
      },
      "source": [
        "Rwanda has the largest number of household counts while Uganda has the lowest. I exploded Rwanda with the highest household size"
      ]
    },
    {
      "cell_type": "code",
      "metadata": {
        "id": "R22oOztQA4N6",
        "colab_type": "code",
        "colab": {
          "base_uri": "https://localhost:8080/",
          "height": 1000
        },
        "outputId": "5e3b244d-9244-49b5-eeb5-3f2d37864d97"
      },
      "source": [
        "# Ploting the univariate summaries and recording our observations\n",
        "#\n",
        "fig, ax = plt.subplots(figsize=(12,8))\n",
        "ax.bar(proj.household_size, proj.respondent_age, color='green')\n",
        "plt.xticks(rotation=90)\n",
        "ax.set_xlabel('Household size')\n",
        "ax.set_ylabel('Respondent Age')\n",
        "plt.title('% Performance in English Vs. State')\n",
        "plt.show()"
      ],
      "execution_count": 146,
      "outputs": [
        {
          "output_type": "display_data",
          "data": {
            "image/png": "[encoded data removed]",
            "text/plain": [
              "<Figure size 1200x800 with 1 Axes>"
            ]
          },
          "metadata": {
            "tags": []
          }
        },
        {
          "output_type": "display_data",
          "data": {
            "image/png": "[encoded data removed]",
            "text/plain": [
              "<Figure size 1200x800 with 1 Axes>"
            ]
          },
          "metadata": {
            "tags": []
          }
        }
      ]
    },
    {
      "cell_type": "markdown",
      "metadata": {
        "id": "YhBG0u2Y050c",
        "colab_type": "text"
      },
      "source": [
        "### Histogram"
      ]
    },
    {
      "cell_type": "code",
      "metadata": {
        "id": "5Xze4ST-0-Nx",
        "colab_type": "code",
        "colab": {
          "base_uri": "https://localhost:8080/",
          "height": 531
        },
        "outputId": "68d0cf21-6c76-4197-c7b3-a34b749bb91d"
      },
      "source": [
        "# Plotting a histogram of the respondent's ages\n",
        "# proj['respondent_age'].hist()\n",
        "#\n",
        "sns.distplot(proj.respondent_age, kde = False)"
      ],
      "execution_count": 183,
      "outputs": [
        {
          "output_type": "execute_result",
          "data": {
            "text/plain": [
              "<matplotlib.axes._subplots.AxesSubplot at 0x7f0e44751240>"
            ]
          },
          "metadata": {
            "tags": []
          },
          "execution_count": 183
        },
        {
          "output_type": "display_data",
          "data": {
            "image/png": "[encoded data removed]",
            "text/plain": [
              "<Figure size 800x550 with 1 Axes>"
            ]
          },
          "metadata": {
            "tags": []
          }
        }
      ]
    },
    {
      "cell_type": "markdown",
      "metadata": {
        "id": "OuDTPCh21evm",
        "colab_type": "text"
      },
      "source": [
        "As the age increases the count decreases"
      ]
    },
    {
      "cell_type": "code",
      "metadata": {
        "id": "L0OiGQqR1nyG",
        "colab_type": "code",
        "colab": {
          "base_uri": "https://localhost:8080/",
          "height": 531
        },
        "outputId": "7b24b021-b764-4b23-edd3-bc9464b73422"
      },
      "source": [
        "# Plotting a histogram of the respondent's ages\n",
        "# proj['respondent_age'].hist()\n",
        "#\n",
        "sns.distplot(proj.respondent_age, kde = True)"
      ],
      "execution_count": 185,
      "outputs": [
        {
          "output_type": "execute_result",
          "data": {
            "text/plain": [
              "<matplotlib.axes._subplots.AxesSubplot at 0x7f0e452f7a90>"
            ]
          },
          "metadata": {
            "tags": []
          },
          "execution_count": 185
        },
        {
          "output_type": "display_data",
          "data": {
            "image/png": "[encoded data removed]",
            "text/plain": [
              "<Figure size 800x550 with 1 Axes>"
            ]
          },
          "metadata": {
            "tags": []
          }
        }
      ]
    },
    {
      "cell_type": "markdown",
      "metadata": {
        "id": "LkAcTbFI1wDV",
        "colab_type": "text"
      },
      "source": [
        "This shows the smooth curve that tell as that as the respondent age increases the frequency decrease"
      ]
    },
    {
      "cell_type": "code",
      "metadata": {
        "id": "WtVLD4mJ1RWU",
        "colab_type": "code",
        "colab": {
          "base_uri": "https://localhost:8080/",
          "height": 531
        },
        "outputId": "6b5c1e72-0c8b-4b71-bb86-4a82c07c4706"
      },
      "source": [
        "# Plotting a histogram of the household size\n",
        "#\n",
        "\n",
        "sns.distplot(proj.household_size, kde = False)"
      ],
      "execution_count": 184,
      "outputs": [
        {
          "output_type": "execute_result",
          "data": {
            "text/plain": [
              "<matplotlib.axes._subplots.AxesSubplot at 0x7f0e3f69c710>"
            ]
          },
          "metadata": {
            "tags": []
          },
          "execution_count": 184
        },
        {
          "output_type": "display_data",
          "data": {
            "image/png": "[encoded data removed]",
            "text/plain": [
              "<Figure size 800x550 with 1 Axes>"
            ]
          },
          "metadata": {
            "tags": []
          }
        }
      ]
    },
    {
      "cell_type": "code",
      "metadata": {
        "id": "4X3SsiTn2Dhj",
        "colab_type": "code",
        "colab": {
          "base_uri": "https://localhost:8080/",
          "height": 531
        },
        "outputId": "f95213c9-e648-49b1-afa1-1972942c6446"
      },
      "source": [
        "# Plotting a histogram of the household size\n",
        "#\n",
        "\n",
        "sns.distplot(proj.household_size, kde = True)"
      ],
      "execution_count": 186,
      "outputs": [
        {
          "output_type": "execute_result",
          "data": {
            "text/plain": [
              "<matplotlib.axes._subplots.AxesSubplot at 0x7f0e33bff6d8>"
            ]
          },
          "metadata": {
            "tags": []
          },
          "execution_count": 186
        },
        {
          "output_type": "display_data",
          "data": {
            "image/png": "[encoded data removed]",
            "text/plain": [
              "<Figure size 800x550 with 1 Axes>"
            ]
          },
          "metadata": {
            "tags": []
          }
        }
      ]
    },
    {
      "cell_type": "markdown",
      "metadata": {
        "id": "dWxm6gj-2HZt",
        "colab_type": "text"
      },
      "source": [
        "This smooth curve on the histogram shows as that the household size fluctuates with the frequencies but eventually frequency decreases at the end as size increases"
      ]
    },
    {
      "cell_type": "code",
      "metadata": {
        "id": "eA4q7huZ2p3u",
        "colab_type": "code",
        "colab": {
          "base_uri": "https://localhost:8080/",
          "height": 531
        },
        "outputId": "ed76618d-53b2-46e4-84cd-67ce7e2c30a5"
      },
      "source": [
        "##\n",
        "## Scatter plot for household size and the respondent age\n",
        "#\n",
        "proj.plot(x='respondent_age', y='household_size', kind='scatter')"
      ],
      "execution_count": 187,
      "outputs": [
        {
          "output_type": "execute_result",
          "data": {
            "text/plain": [
              "<matplotlib.axes._subplots.AxesSubplot at 0x7f0e379cddd8>"
            ]
          },
          "metadata": {
            "tags": []
          },
          "execution_count": 187
        },
        {
          "output_type": "display_data",
          "data": {
            "image/png": "[encoded data removed]",
            "text/plain": [
              "<Figure size 800x550 with 1 Axes>"
            ]
          },
          "metadata": {
            "tags": []
          }
        }
      ]
    },
    {
      "cell_type": "markdown",
      "metadata": {
        "id": "6a0-s-iI24By",
        "colab_type": "text"
      },
      "source": [
        "This Has no correlation as the plots are scattered everywhere"
      ]
    },
    {
      "cell_type": "code",
      "metadata": {
        "id": "TZOPxRxe4mZv",
        "colab_type": "code",
        "colab": {
          "base_uri": "https://localhost:8080/",
          "height": 87
        },
        "outputId": "747f77b0-6397-49e1-f3ed-d86fc3a7dda6"
      },
      "source": [
        "project = proj.groupby(['gender_of_respondent'])['gender_of_respondent'].count()\n",
        "project"
      ],
      "execution_count": 188,
      "outputs": [
        {
          "output_type": "execute_result",
          "data": {
            "text/plain": [
              "gender_of_respondent\n",
              "Female    13766\n",
              "Male       9574\n",
              "Name: gender_of_respondent, dtype: int64"
            ]
          },
          "metadata": {
            "tags": []
          },
          "execution_count": 188
        }
      ]
    },
    {
      "cell_type": "code",
      "metadata": {
        "id": "Xvj8ng6L5inC",
        "colab_type": "code",
        "colab": {
          "base_uri": "https://localhost:8080/",
          "height": 588
        },
        "outputId": "4ef7bb9e-66b9-4885-a7df-2fc30088d7ba"
      },
      "source": [
        "project.plot(kind='bar', figsize=(8, 6))\n",
        "plt.show()"
      ],
      "execution_count": 189,
      "outputs": [
        {
          "output_type": "display_data",
          "data": {
            "image/png": "[encoded data removed]",
            "text/plain": [
              "<Figure size 800x600 with 1 Axes>"
            ]
          },
          "metadata": {
            "tags": []
          }
        }
      ]
    },
    {
      "cell_type": "markdown",
      "metadata": {
        "id": "7Zku8laH5vKN",
        "colab_type": "text"
      },
      "source": [
        "There were more female than male  in the dataset"
      ]
    },
    {
      "cell_type": "markdown",
      "metadata": {
        "id": "DxWoQse26RjX",
        "colab_type": "text"
      },
      "source": [
        "### Multivariate Analysis"
      ]
    },
    {
      "cell_type": "code",
      "metadata": {
        "id": "9qciSPeX6h4D",
        "colab_type": "code",
        "colab": {}
      },
      "source": [
        "## Preprocessing\n",
        "##\n",
        "x = proj.drop('has_a_bank_account', 1)\n",
        "y = proj['has_a_bank_account']"
      ],
      "execution_count": 0,
      "outputs": []
    },
    {
      "cell_type": "code",
      "metadata": {
        "id": "JA5Q9V8f7u9L",
        "colab_type": "code",
        "colab": {
          "base_uri": "https://localhost:8080/",
          "height": 251
        },
        "outputId": "0b5dc781-943f-49f9-cb89-56eac168ed82"
      },
      "source": [
        "##\n",
        "##\n",
        "# Encoding the categorical columns\n",
        "x = pd.get_dummies(x)\n",
        "x.head()"
      ],
      "execution_count": 192,
      "outputs": [
        {
          "output_type": "execute_result",
          "data": {
            "text/html": [
              "<div>\n",
              "<style scoped>\n",
              "    .dataframe tbody tr th:only-of-type {\n",
              "        vertical-align: middle;\n",
              "    }\n",
              "\n",
              "    .dataframe tbody tr th {\n",
              "        vertical-align: top;\n",
              "    }\n",
              "\n",
              "    .dataframe thead th {\n",
              "        text-align: right;\n",
              "    }\n",
              "</style>\n",
              "<table border=\"1\" class=\"dataframe\">\n",
              "  <thead>\n",
              "    <tr style=\"text-align: right;\">\n",
              "      <th></th>\n",
              "      <th>year</th>\n",
              "      <th>household_size</th>\n",
              "      <th>respondent_age</th>\n",
              "      <th>country_Kenya</th>\n",
              "      <th>country_Rwanda</th>\n",
              "      <th>country_Tanzania</th>\n",
              "      <th>country_Uganda</th>\n",
              "      <th>type_of_location_Rural</th>\n",
              "      <th>type_of_location_Urban</th>\n",
              "      <th>cell_phone_access_No</th>\n",
              "      <th>cell_phone_access_Yes</th>\n",
              "      <th>gender_of_respondent_Female</th>\n",
              "      <th>gender_of_respondent_Male</th>\n",
              "      <th>relationship_with_head_Child</th>\n",
              "      <th>relationship_with_head_Head of Household</th>\n",
              "      <th>relationship_with_head_Other non-relatives</th>\n",
              "      <th>relationship_with_head_Other relative</th>\n",
              "      <th>relationship_with_head_Parent</th>\n",
              "      <th>relationship_with_head_Spouse</th>\n",
              "      <th>marital_status_Divorced/Seperated</th>\n",
              "      <th>marital_status_Dont know</th>\n",
              "      <th>marital_status_Married/Living together</th>\n",
              "      <th>marital_status_Single/Never Married</th>\n",
              "      <th>marital_status_Widowed</th>\n",
              "      <th>level_of_education_6</th>\n",
              "      <th>level_of_education_No formal education</th>\n",
              "      <th>level_of_education_Other/Dont know/RTA</th>\n",
              "      <th>level_of_education_Primary education</th>\n",
              "      <th>level_of_education_Secondary education</th>\n",
              "      <th>level_of_education_Tertiary education</th>\n",
              "      <th>level_of_education_Vocational/Specialised training</th>\n",
              "      <th>type_of_job_Dont Know/Refuse to answer</th>\n",
              "      <th>type_of_job_Farming and Fishing</th>\n",
              "      <th>type_of_job_Formally employed Government</th>\n",
              "      <th>type_of_job_Formally employed Private</th>\n",
              "      <th>type_of_job_Government Dependent</th>\n",
              "      <th>type_of_job_Informally employed</th>\n",
              "      <th>type_of_job_No Income</th>\n",
              "      <th>type_of_job_Other Income</th>\n",
              "      <th>type_of_job_Remittance Dependent</th>\n",
              "      <th>type_of_job_Self employed</th>\n",
              "    </tr>\n",
              "  </thead>\n",
              "  <tbody>\n",
              "    <tr>\n",
              "      <th>0</th>\n",
              "      <td>2018</td>\n",
              "      <td>3.0</td>\n",
              "      <td>24.0</td>\n",
              "      <td>1</td>\n",
              "      <td>0</td>\n",
              "      <td>0</td>\n",
              "      <td>0</td>\n",
              "      <td>1</td>\n",
              "      <td>0</td>\n",
              "      <td>0</td>\n",
              "      <td>1</td>\n",
              "      <td>1</td>\n",
              "      <td>0</td>\n",
              "      <td>0</td>\n",
              "      <td>0</td>\n",
              "      <td>0</td>\n",
              "      <td>0</td>\n",
              "      <td>0</td>\n",
              "      <td>1</td>\n",
              "      <td>0</td>\n",
              "      <td>0</td>\n",
              "      <td>1</td>\n",
              "      <td>0</td>\n",
              "      <td>0</td>\n",
              "      <td>0</td>\n",
              "      <td>0</td>\n",
              "      <td>0</td>\n",
              "      <td>0</td>\n",
              "      <td>1</td>\n",
              "      <td>0</td>\n",
              "      <td>0</td>\n",
              "      <td>0</td>\n",
              "      <td>0</td>\n",
              "      <td>0</td>\n",
              "      <td>0</td>\n",
              "      <td>0</td>\n",
              "      <td>0</td>\n",
              "      <td>0</td>\n",
              "      <td>0</td>\n",
              "      <td>0</td>\n",
              "      <td>1</td>\n",
              "    </tr>\n",
              "    <tr>\n",
              "      <th>1</th>\n",
              "      <td>2018</td>\n",
              "      <td>5.0</td>\n",
              "      <td>70.0</td>\n",
              "      <td>1</td>\n",
              "      <td>0</td>\n",
              "      <td>0</td>\n",
              "      <td>0</td>\n",
              "      <td>1</td>\n",
              "      <td>0</td>\n",
              "      <td>1</td>\n",
              "      <td>0</td>\n",
              "      <td>1</td>\n",
              "      <td>0</td>\n",
              "      <td>0</td>\n",
              "      <td>1</td>\n",
              "      <td>0</td>\n",
              "      <td>0</td>\n",
              "      <td>0</td>\n",
              "      <td>0</td>\n",
              "      <td>0</td>\n",
              "      <td>0</td>\n",
              "      <td>0</td>\n",
              "      <td>0</td>\n",
              "      <td>1</td>\n",
              "      <td>0</td>\n",
              "      <td>1</td>\n",
              "      <td>0</td>\n",
              "      <td>0</td>\n",
              "      <td>0</td>\n",
              "      <td>0</td>\n",
              "      <td>0</td>\n",
              "      <td>0</td>\n",
              "      <td>0</td>\n",
              "      <td>0</td>\n",
              "      <td>0</td>\n",
              "      <td>1</td>\n",
              "      <td>0</td>\n",
              "      <td>0</td>\n",
              "      <td>0</td>\n",
              "      <td>0</td>\n",
              "      <td>0</td>\n",
              "    </tr>\n",
              "    <tr>\n",
              "      <th>2</th>\n",
              "      <td>2018</td>\n",
              "      <td>5.0</td>\n",
              "      <td>26.0</td>\n",
              "      <td>1</td>\n",
              "      <td>0</td>\n",
              "      <td>0</td>\n",
              "      <td>0</td>\n",
              "      <td>0</td>\n",
              "      <td>1</td>\n",
              "      <td>0</td>\n",
              "      <td>1</td>\n",
              "      <td>0</td>\n",
              "      <td>1</td>\n",
              "      <td>0</td>\n",
              "      <td>0</td>\n",
              "      <td>0</td>\n",
              "      <td>1</td>\n",
              "      <td>0</td>\n",
              "      <td>0</td>\n",
              "      <td>0</td>\n",
              "      <td>0</td>\n",
              "      <td>0</td>\n",
              "      <td>1</td>\n",
              "      <td>0</td>\n",
              "      <td>0</td>\n",
              "      <td>0</td>\n",
              "      <td>0</td>\n",
              "      <td>0</td>\n",
              "      <td>0</td>\n",
              "      <td>0</td>\n",
              "      <td>1</td>\n",
              "      <td>0</td>\n",
              "      <td>0</td>\n",
              "      <td>0</td>\n",
              "      <td>0</td>\n",
              "      <td>0</td>\n",
              "      <td>0</td>\n",
              "      <td>0</td>\n",
              "      <td>0</td>\n",
              "      <td>0</td>\n",
              "      <td>1</td>\n",
              "    </tr>\n",
              "    <tr>\n",
              "      <th>3</th>\n",
              "      <td>2018</td>\n",
              "      <td>5.0</td>\n",
              "      <td>34.0</td>\n",
              "      <td>1</td>\n",
              "      <td>0</td>\n",
              "      <td>0</td>\n",
              "      <td>0</td>\n",
              "      <td>1</td>\n",
              "      <td>0</td>\n",
              "      <td>0</td>\n",
              "      <td>1</td>\n",
              "      <td>1</td>\n",
              "      <td>0</td>\n",
              "      <td>0</td>\n",
              "      <td>1</td>\n",
              "      <td>0</td>\n",
              "      <td>0</td>\n",
              "      <td>0</td>\n",
              "      <td>0</td>\n",
              "      <td>0</td>\n",
              "      <td>0</td>\n",
              "      <td>1</td>\n",
              "      <td>0</td>\n",
              "      <td>0</td>\n",
              "      <td>0</td>\n",
              "      <td>0</td>\n",
              "      <td>0</td>\n",
              "      <td>1</td>\n",
              "      <td>0</td>\n",
              "      <td>0</td>\n",
              "      <td>0</td>\n",
              "      <td>0</td>\n",
              "      <td>0</td>\n",
              "      <td>0</td>\n",
              "      <td>1</td>\n",
              "      <td>0</td>\n",
              "      <td>0</td>\n",
              "      <td>0</td>\n",
              "      <td>0</td>\n",
              "      <td>0</td>\n",
              "      <td>0</td>\n",
              "    </tr>\n",
              "    <tr>\n",
              "      <th>4</th>\n",
              "      <td>2018</td>\n",
              "      <td>8.0</td>\n",
              "      <td>26.0</td>\n",
              "      <td>1</td>\n",
              "      <td>0</td>\n",
              "      <td>0</td>\n",
              "      <td>0</td>\n",
              "      <td>0</td>\n",
              "      <td>1</td>\n",
              "      <td>1</td>\n",
              "      <td>0</td>\n",
              "      <td>0</td>\n",
              "      <td>1</td>\n",
              "      <td>1</td>\n",
              "      <td>0</td>\n",
              "      <td>0</td>\n",
              "      <td>0</td>\n",
              "      <td>0</td>\n",
              "      <td>0</td>\n",
              "      <td>0</td>\n",
              "      <td>0</td>\n",
              "      <td>0</td>\n",
              "      <td>1</td>\n",
              "      <td>0</td>\n",
              "      <td>0</td>\n",
              "      <td>0</td>\n",
              "      <td>0</td>\n",
              "      <td>1</td>\n",
              "      <td>0</td>\n",
              "      <td>0</td>\n",
              "      <td>0</td>\n",
              "      <td>0</td>\n",
              "      <td>0</td>\n",
              "      <td>0</td>\n",
              "      <td>0</td>\n",
              "      <td>0</td>\n",
              "      <td>1</td>\n",
              "      <td>0</td>\n",
              "      <td>0</td>\n",
              "      <td>0</td>\n",
              "      <td>0</td>\n",
              "    </tr>\n",
              "  </tbody>\n",
              "</table>\n",
              "</div>"
            ],
            "text/plain": [
              "   year  ...  type_of_job_Self employed\n",
              "0  2018  ...                          1\n",
              "1  2018  ...                          0\n",
              "2  2018  ...                          1\n",
              "3  2018  ...                          0\n",
              "4  2018  ...                          0\n",
              "\n",
              "[5 rows x 41 columns]"
            ]
          },
          "metadata": {
            "tags": []
          },
          "execution_count": 192
        }
      ]
    },
    {
      "cell_type": "code",
      "metadata": {
        "id": "3weKMkuE73BT",
        "colab_type": "code",
        "colab": {}
      },
      "source": [
        "##\n",
        "\n",
        "# Splitting the dataset into the Training set and Test set\n",
        "\n",
        "#\n",
        "from sklearn.model_selection import train_test_split\n",
        "\n",
        "x_train, x_test, y_train, y_test = train_test_split(x, y, test_size=0.2, random_state=0)"
      ],
      "execution_count": 0,
      "outputs": []
    },
    {
      "cell_type": "code",
      "metadata": {
        "id": "lA6jaAcS8CGv",
        "colab_type": "code",
        "colab": {
          "base_uri": "https://localhost:8080/",
          "height": 251
        },
        "outputId": "45b73633-6961-4b39-a112-80f12fe96093"
      },
      "source": [
        "x_train.head()"
      ],
      "execution_count": 195,
      "outputs": [
        {
          "output_type": "execute_result",
          "data": {
            "text/html": [
              "<div>\n",
              "<style scoped>\n",
              "    .dataframe tbody tr th:only-of-type {\n",
              "        vertical-align: middle;\n",
              "    }\n",
              "\n",
              "    .dataframe tbody tr th {\n",
              "        vertical-align: top;\n",
              "    }\n",
              "\n",
              "    .dataframe thead th {\n",
              "        text-align: right;\n",
              "    }\n",
              "</style>\n",
              "<table border=\"1\" class=\"dataframe\">\n",
              "  <thead>\n",
              "    <tr style=\"text-align: right;\">\n",
              "      <th></th>\n",
              "      <th>year</th>\n",
              "      <th>household_size</th>\n",
              "      <th>respondent_age</th>\n",
              "      <th>country_Kenya</th>\n",
              "      <th>country_Rwanda</th>\n",
              "      <th>country_Tanzania</th>\n",
              "      <th>country_Uganda</th>\n",
              "      <th>type_of_location_Rural</th>\n",
              "      <th>type_of_location_Urban</th>\n",
              "      <th>cell_phone_access_No</th>\n",
              "      <th>cell_phone_access_Yes</th>\n",
              "      <th>gender_of_respondent_Female</th>\n",
              "      <th>gender_of_respondent_Male</th>\n",
              "      <th>relationship_with_head_Child</th>\n",
              "      <th>relationship_with_head_Head of Household</th>\n",
              "      <th>relationship_with_head_Other non-relatives</th>\n",
              "      <th>relationship_with_head_Other relative</th>\n",
              "      <th>relationship_with_head_Parent</th>\n",
              "      <th>relationship_with_head_Spouse</th>\n",
              "      <th>marital_status_Divorced/Seperated</th>\n",
              "      <th>marital_status_Dont know</th>\n",
              "      <th>marital_status_Married/Living together</th>\n",
              "      <th>marital_status_Single/Never Married</th>\n",
              "      <th>marital_status_Widowed</th>\n",
              "      <th>level_of_education_6</th>\n",
              "      <th>level_of_education_No formal education</th>\n",
              "      <th>level_of_education_Other/Dont know/RTA</th>\n",
              "      <th>level_of_education_Primary education</th>\n",
              "      <th>level_of_education_Secondary education</th>\n",
              "      <th>level_of_education_Tertiary education</th>\n",
              "      <th>level_of_education_Vocational/Specialised training</th>\n",
              "      <th>type_of_job_Dont Know/Refuse to answer</th>\n",
              "      <th>type_of_job_Farming and Fishing</th>\n",
              "      <th>type_of_job_Formally employed Government</th>\n",
              "      <th>type_of_job_Formally employed Private</th>\n",
              "      <th>type_of_job_Government Dependent</th>\n",
              "      <th>type_of_job_Informally employed</th>\n",
              "      <th>type_of_job_No Income</th>\n",
              "      <th>type_of_job_Other Income</th>\n",
              "      <th>type_of_job_Remittance Dependent</th>\n",
              "      <th>type_of_job_Self employed</th>\n",
              "    </tr>\n",
              "  </thead>\n",
              "  <tbody>\n",
              "    <tr>\n",
              "      <th>21308</th>\n",
              "      <td>2017</td>\n",
              "      <td>1.0</td>\n",
              "      <td>45.0</td>\n",
              "      <td>0</td>\n",
              "      <td>0</td>\n",
              "      <td>1</td>\n",
              "      <td>0</td>\n",
              "      <td>1</td>\n",
              "      <td>0</td>\n",
              "      <td>0</td>\n",
              "      <td>1</td>\n",
              "      <td>0</td>\n",
              "      <td>1</td>\n",
              "      <td>0</td>\n",
              "      <td>1</td>\n",
              "      <td>0</td>\n",
              "      <td>0</td>\n",
              "      <td>0</td>\n",
              "      <td>0</td>\n",
              "      <td>0</td>\n",
              "      <td>0</td>\n",
              "      <td>1</td>\n",
              "      <td>0</td>\n",
              "      <td>0</td>\n",
              "      <td>0</td>\n",
              "      <td>0</td>\n",
              "      <td>0</td>\n",
              "      <td>1</td>\n",
              "      <td>0</td>\n",
              "      <td>0</td>\n",
              "      <td>0</td>\n",
              "      <td>0</td>\n",
              "      <td>0</td>\n",
              "      <td>0</td>\n",
              "      <td>0</td>\n",
              "      <td>0</td>\n",
              "      <td>1</td>\n",
              "      <td>0</td>\n",
              "      <td>0</td>\n",
              "      <td>0</td>\n",
              "      <td>0</td>\n",
              "    </tr>\n",
              "    <tr>\n",
              "      <th>19670</th>\n",
              "      <td>2017</td>\n",
              "      <td>2.0</td>\n",
              "      <td>33.0</td>\n",
              "      <td>0</td>\n",
              "      <td>0</td>\n",
              "      <td>1</td>\n",
              "      <td>0</td>\n",
              "      <td>0</td>\n",
              "      <td>1</td>\n",
              "      <td>1</td>\n",
              "      <td>0</td>\n",
              "      <td>1</td>\n",
              "      <td>0</td>\n",
              "      <td>0</td>\n",
              "      <td>0</td>\n",
              "      <td>0</td>\n",
              "      <td>0</td>\n",
              "      <td>0</td>\n",
              "      <td>1</td>\n",
              "      <td>0</td>\n",
              "      <td>0</td>\n",
              "      <td>0</td>\n",
              "      <td>1</td>\n",
              "      <td>0</td>\n",
              "      <td>0</td>\n",
              "      <td>0</td>\n",
              "      <td>0</td>\n",
              "      <td>1</td>\n",
              "      <td>0</td>\n",
              "      <td>0</td>\n",
              "      <td>0</td>\n",
              "      <td>0</td>\n",
              "      <td>0</td>\n",
              "      <td>0</td>\n",
              "      <td>0</td>\n",
              "      <td>0</td>\n",
              "      <td>0</td>\n",
              "      <td>0</td>\n",
              "      <td>0</td>\n",
              "      <td>0</td>\n",
              "      <td>1</td>\n",
              "    </tr>\n",
              "    <tr>\n",
              "      <th>22965</th>\n",
              "      <td>2018</td>\n",
              "      <td>7.0</td>\n",
              "      <td>36.0</td>\n",
              "      <td>0</td>\n",
              "      <td>0</td>\n",
              "      <td>0</td>\n",
              "      <td>1</td>\n",
              "      <td>1</td>\n",
              "      <td>0</td>\n",
              "      <td>0</td>\n",
              "      <td>1</td>\n",
              "      <td>0</td>\n",
              "      <td>1</td>\n",
              "      <td>0</td>\n",
              "      <td>1</td>\n",
              "      <td>0</td>\n",
              "      <td>0</td>\n",
              "      <td>0</td>\n",
              "      <td>0</td>\n",
              "      <td>0</td>\n",
              "      <td>0</td>\n",
              "      <td>1</td>\n",
              "      <td>0</td>\n",
              "      <td>0</td>\n",
              "      <td>0</td>\n",
              "      <td>0</td>\n",
              "      <td>0</td>\n",
              "      <td>1</td>\n",
              "      <td>0</td>\n",
              "      <td>0</td>\n",
              "      <td>0</td>\n",
              "      <td>0</td>\n",
              "      <td>0</td>\n",
              "      <td>0</td>\n",
              "      <td>0</td>\n",
              "      <td>0</td>\n",
              "      <td>0</td>\n",
              "      <td>0</td>\n",
              "      <td>0</td>\n",
              "      <td>0</td>\n",
              "      <td>1</td>\n",
              "    </tr>\n",
              "    <tr>\n",
              "      <th>17830</th>\n",
              "      <td>2017</td>\n",
              "      <td>1.0</td>\n",
              "      <td>16.0</td>\n",
              "      <td>0</td>\n",
              "      <td>0</td>\n",
              "      <td>1</td>\n",
              "      <td>0</td>\n",
              "      <td>0</td>\n",
              "      <td>1</td>\n",
              "      <td>1</td>\n",
              "      <td>0</td>\n",
              "      <td>0</td>\n",
              "      <td>1</td>\n",
              "      <td>0</td>\n",
              "      <td>0</td>\n",
              "      <td>0</td>\n",
              "      <td>0</td>\n",
              "      <td>1</td>\n",
              "      <td>0</td>\n",
              "      <td>1</td>\n",
              "      <td>0</td>\n",
              "      <td>0</td>\n",
              "      <td>0</td>\n",
              "      <td>0</td>\n",
              "      <td>0</td>\n",
              "      <td>0</td>\n",
              "      <td>0</td>\n",
              "      <td>1</td>\n",
              "      <td>0</td>\n",
              "      <td>0</td>\n",
              "      <td>0</td>\n",
              "      <td>0</td>\n",
              "      <td>0</td>\n",
              "      <td>0</td>\n",
              "      <td>0</td>\n",
              "      <td>0</td>\n",
              "      <td>0</td>\n",
              "      <td>1</td>\n",
              "      <td>0</td>\n",
              "      <td>0</td>\n",
              "      <td>0</td>\n",
              "    </tr>\n",
              "    <tr>\n",
              "      <th>22284</th>\n",
              "      <td>2018</td>\n",
              "      <td>8.0</td>\n",
              "      <td>31.0</td>\n",
              "      <td>0</td>\n",
              "      <td>0</td>\n",
              "      <td>0</td>\n",
              "      <td>1</td>\n",
              "      <td>1</td>\n",
              "      <td>0</td>\n",
              "      <td>0</td>\n",
              "      <td>1</td>\n",
              "      <td>1</td>\n",
              "      <td>0</td>\n",
              "      <td>0</td>\n",
              "      <td>1</td>\n",
              "      <td>0</td>\n",
              "      <td>0</td>\n",
              "      <td>0</td>\n",
              "      <td>0</td>\n",
              "      <td>0</td>\n",
              "      <td>0</td>\n",
              "      <td>0</td>\n",
              "      <td>1</td>\n",
              "      <td>0</td>\n",
              "      <td>0</td>\n",
              "      <td>0</td>\n",
              "      <td>0</td>\n",
              "      <td>1</td>\n",
              "      <td>0</td>\n",
              "      <td>0</td>\n",
              "      <td>0</td>\n",
              "      <td>1</td>\n",
              "      <td>0</td>\n",
              "      <td>0</td>\n",
              "      <td>0</td>\n",
              "      <td>0</td>\n",
              "      <td>0</td>\n",
              "      <td>0</td>\n",
              "      <td>0</td>\n",
              "      <td>0</td>\n",
              "      <td>0</td>\n",
              "    </tr>\n",
              "  </tbody>\n",
              "</table>\n",
              "</div>"
            ],
            "text/plain": [
              "       year  ...  type_of_job_Self employed\n",
              "21308  2017  ...                          0\n",
              "19670  2017  ...                          1\n",
              "22965  2018  ...                          1\n",
              "17830  2017  ...                          0\n",
              "22284  2018  ...                          0\n",
              "\n",
              "[5 rows x 41 columns]"
            ]
          },
          "metadata": {
            "tags": []
          },
          "execution_count": 195
        }
      ]
    },
    {
      "cell_type": "code",
      "metadata": {
        "id": "31idrGT38IpT",
        "colab_type": "code",
        "colab": {}
      },
      "source": [
        "x_test.head()"
      ],
      "execution_count": 0,
      "outputs": []
    },
    {
      "cell_type": "code",
      "metadata": {
        "id": "xsfu7yuf8MsQ",
        "colab_type": "code",
        "colab": {}
      },
      "source": [
        "##\n",
        "# Standardizing\n",
        "# \n",
        "from sklearn.preprocessing import StandardScaler\n",
        "\n",
        "sc = StandardScaler()\n",
        "x_train = sc.fit_transform(x_train)\n",
        "x_test = sc.transform(x_test)"
      ],
      "execution_count": 0,
      "outputs": []
    },
    {
      "cell_type": "code",
      "metadata": {
        "id": "Trf0mcrC8U-h",
        "colab_type": "code",
        "colab": {
          "base_uri": "https://localhost:8080/",
          "height": 247
        },
        "outputId": "f76b8d75-a1ba-4253-ffb8-33fd3984d707"
      },
      "source": [
        "x_test"
      ],
      "execution_count": 198,
      "outputs": [
        {
          "output_type": "execute_result",
          "data": {
            "text/plain": [
              "array([[ 1.20207548, -1.17433718, -0.35120743, ..., -0.22160018,\n",
              "        -0.34761413, -0.61143302],\n",
              "       [-1.15548487,  1.01082455, -1.01769419, ..., -0.22160018,\n",
              "        -0.34761413, -0.61143302],\n",
              "       [-1.15548487,  0.5737922 , -1.19946331, ..., -0.22160018,\n",
              "        -0.34761413, -0.61143302],\n",
              "       ...,\n",
              "       [-1.15548487, -0.30027249, -1.13887361, ..., -0.22160018,\n",
              "        -0.34761413, -0.61143302],\n",
              "       [ 1.20207548,  1.44785689,  1.16353523, ..., -0.22160018,\n",
              "        -0.34761413, -0.61143302],\n",
              "       [ 1.20207548, -1.17433718,  2.61768817, ..., -0.22160018,\n",
              "        -0.34761413, -0.61143302]])"
            ]
          },
          "metadata": {
            "tags": []
          },
          "execution_count": 198
        }
      ]
    },
    {
      "cell_type": "code",
      "metadata": {
        "id": "4atQYaAx8aL3",
        "colab_type": "code",
        "colab": {
          "base_uri": "https://localhost:8080/",
          "height": 247
        },
        "outputId": "e79752a5-fcdb-490d-c3ab-754c23a33eb4"
      },
      "source": [
        "x_train"
      ],
      "execution_count": 199,
      "outputs": [
        {
          "output_type": "execute_result",
          "data": {
            "text/plain": [
              "array([[ 0.0232953 , -1.17433718,  0.37586905, ..., -0.22160018,\n",
              "        -0.34761413, -0.61143302],\n",
              "       [ 0.0232953 , -0.73730484, -0.35120743, ..., -0.22160018,\n",
              "        -0.34761413,  1.63550211],\n",
              "       [ 1.20207548,  1.44785689, -0.16943831, ..., -0.22160018,\n",
              "        -0.34761413,  1.63550211],\n",
              "       ...,\n",
              "       [-1.15548487, -0.73730484,  2.49650876, ...,  4.51263165,\n",
              "        -0.34761413, -0.61143302],\n",
              "       [-1.15548487,  1.44785689,  0.25468963, ...,  4.51263165,\n",
              "        -0.34761413, -0.61143302],\n",
              "       [ 1.20207548,  1.44785689, -0.47238684, ..., -0.22160018,\n",
              "        -0.34761413, -0.61143302]])"
            ]
          },
          "metadata": {
            "tags": []
          },
          "execution_count": 199
        }
      ]
    },
    {
      "cell_type": "code",
      "metadata": {
        "id": "bixyblMX8ubb",
        "colab_type": "code",
        "colab": {
          "base_uri": "https://localhost:8080/",
          "height": 247
        },
        "outputId": "ec91fd50-ad19-4603-9897-ecfb14824ef7"
      },
      "source": [
        "##\n",
        "# Applying PCA\n",
        "from sklearn.decomposition import PCA\n",
        "\n",
        "pca = PCA(.95)\n",
        "x_train = pca.fit_transform(x_train)\n",
        "x_test = pca.transform(x_test)\n",
        "x_train#"
      ],
      "execution_count": 200,
      "outputs": [
        {
          "output_type": "execute_result",
          "data": {
            "text/plain": [
              "array([[-0.22482777,  2.13920581,  0.66451616, ..., -0.1137306 ,\n",
              "        -0.01519024,  0.57646328],\n",
              "       [ 3.38531755, -2.69177387,  0.86333899, ..., -0.1587818 ,\n",
              "        -0.06145493,  0.22448762],\n",
              "       [-0.59223634,  1.81241658, -0.88860301, ...,  0.23855451,\n",
              "         0.0321537 , -0.47805148],\n",
              "       ...,\n",
              "       [-1.02698951,  1.1357574 ,  3.72374391, ..., -0.6569727 ,\n",
              "        -0.46770021,  2.56021084],\n",
              "       [-2.63710863, -0.03927488, -0.73283394, ..., -0.1566391 ,\n",
              "        -0.30123859,  0.45754463],\n",
              "       [-1.51501427, -1.52134305, -1.85497273, ..., -0.47471793,\n",
              "         0.11713997,  0.57057795]])"
            ]
          },
          "metadata": {
            "tags": []
          },
          "execution_count": 200
        }
      ]
    },
    {
      "cell_type": "code",
      "metadata": {
        "id": "qxiYyd3U84jr",
        "colab_type": "code",
        "colab": {
          "base_uri": "https://localhost:8080/",
          "height": 123
        },
        "outputId": "eb783011-909e-435d-8cb1-fea355ac9aa4"
      },
      "source": [
        "##\n",
        "## Getting the explained variance ratio\n",
        "\n",
        "ex_variance = pca.explained_variance_ratio_\n",
        "ex_variance\n"
      ],
      "execution_count": 201,
      "outputs": [
        {
          "output_type": "execute_result",
          "data": {
            "text/plain": [
              "array([0.10171163, 0.07253785, 0.06972458, 0.06247519, 0.05166259,\n",
              "       0.04624466, 0.04015419, 0.03564433, 0.03487714, 0.03116651,\n",
              "       0.02975091, 0.02710112, 0.02627195, 0.02523953, 0.02503204,\n",
              "       0.02476803, 0.02467043, 0.024296  , 0.02415896, 0.02392125,\n",
              "       0.02372821, 0.02327924, 0.02208826, 0.02111412, 0.01971555,\n",
              "       0.01924303, 0.01542758, 0.01323842])"
            ]
          },
          "metadata": {
            "tags": []
          },
          "execution_count": 201
        }
      ]
    },
    {
      "cell_type": "code",
      "metadata": {
        "id": "8kQQX0Ti8_bi",
        "colab_type": "code",
        "colab": {}
      },
      "source": [
        "# The PCA Projection\n",
        "\n",
        "from sklearn.decomposition import PCA\n",
        "\n",
        "pca = PCA(n_components=23)\n",
        "x_train = pca.fit_transform(x_train)\n",
        "x_test = pca.transform(x_test)"
      ],
      "execution_count": 0,
      "outputs": []
    },
    {
      "cell_type": "code",
      "metadata": {
        "id": "uJEQGzu3-OJy",
        "colab_type": "code",
        "colab": {
          "base_uri": "https://localhost:8080/",
          "height": 72
        },
        "outputId": "6a29419d-50e0-4853-ed16-0336dbccbaec"
      },
      "source": [
        "# Training and Making Predictions.\n",
        "# \n",
        "## Our ensemle method is Random Forest as it best with huge data\n",
        "from sklearn.ensemble import RandomForestClassifier\n",
        "\n",
        "clas = RandomForestClassifier(max_depth=2, random_state=0)\n",
        "clas.fit(x_train, y_train)\n",
        "\n",
        "y_pred = clas.predict(x_test)"
      ],
      "execution_count": 203,
      "outputs": [
        {
          "output_type": "stream",
          "text": [
            "/usr/local/lib/python3.6/dist-packages/sklearn/ensemble/forest.py:245: FutureWarning: The default value of n_estimators will change from 10 in version 0.20 to 100 in 0.22.\n",
            "  \"10 in version 0.20 to 100 in 0.22.\", FutureWarning)\n"
          ],
          "name": "stderr"
        }
      ]
    },
    {
      "cell_type": "code",
      "metadata": {
        "id": "9AsW-Mw4-kxQ",
        "colab_type": "code",
        "colab": {
          "base_uri": "https://localhost:8080/",
          "height": 52
        },
        "outputId": "64e03a3a-4a69-46af-d11c-cc478962283a"
      },
      "source": [
        "# Performance Evaluation\n",
        "#  This is by using confusion matrix\n",
        "from sklearn.metrics import confusion_matrix\n",
        "from sklearn.metrics import accuracy_score\n",
        "\n",
        "cons = confusion_matrix(y_test, y_pred)\n",
        "print(cons)"
      ],
      "execution_count": 204,
      "outputs": [
        {
          "output_type": "stream",
          "text": [
            "[[4034    2]\n",
            " [ 610   22]]\n"
          ],
          "name": "stdout"
        }
      ]
    },
    {
      "cell_type": "code",
      "metadata": {
        "id": "AVBzqxii_Siz",
        "colab_type": "code",
        "colab": {
          "base_uri": "https://localhost:8080/",
          "height": 34
        },
        "outputId": "4b54e2d8-ae2b-4c89-c7d3-22c6750825a3"
      },
      "source": [
        "##\n",
        "## This is performance evaluation using  accuracy score\n",
        "print('Accuracy ' + str(accuracy_score(y_test, y_pred)))"
      ],
      "execution_count": 206,
      "outputs": [
        {
          "output_type": "stream",
          "text": [
            "Accuracy 0.8688946015424165\n"
          ],
          "name": "stdout"
        }
      ]
    },
    {
      "cell_type": "markdown",
      "metadata": {
        "id": "zC4VGjO3_n_x",
        "colab_type": "text"
      },
      "source": [
        ""
      ]
    },
    {
      "cell_type": "markdown",
      "metadata": {
        "id": "rMVlfylo_jyL",
        "colab_type": "text"
      },
      "source": [
        "This shows that the accuracy is 0.86889 which is the same as 86% that means the model is predicted around the mean"
      ]
    },
    {
      "cell_type": "code",
      "metadata": {
        "id": "v5LCFbEd_jH9",
        "colab_type": "code",
        "colab": {
          "base_uri": "https://localhost:8080/",
          "height": 125
        },
        "outputId": "08eb51d5-796a-4f94-98fd-fd64c008cb03"
      },
      "source": [
        "## Results with two principal components\n",
        "##\n",
        "pc = PCA(n_components=1)\n",
        "x_train = pc.fit_transform(x_train)\n",
        "x_test = pc.transform(x_test)\n",
        "# \n",
        "clas1 = RandomForestClassifier(max_depth=2, random_state=0)\n",
        "clas1.fit(x_train, y_train)\n",
        "\n",
        "y_pred = clas1.predict(x_test)\n",
        "# \n",
        "conf = confusion_matrix(y_test, y_pred)\n",
        "print(conf)\n",
        "print(accuracy_score(y_test, y_pred))"
      ],
      "execution_count": 208,
      "outputs": [
        {
          "output_type": "stream",
          "text": [
            "[[4036    0]\n",
            " [ 632    0]]\n",
            "0.8646101113967438\n"
          ],
          "name": "stdout"
        },
        {
          "output_type": "stream",
          "text": [
            "/usr/local/lib/python3.6/dist-packages/sklearn/ensemble/forest.py:245: FutureWarning: The default value of n_estimators will change from 10 in version 0.20 to 100 in 0.22.\n",
            "  \"10 in version 0.20 to 100 in 0.22.\", FutureWarning)\n"
          ],
          "name": "stderr"
        }
      ]
    },
    {
      "cell_type": "markdown",
      "metadata": {
        "id": "AclnLTNnDgz0",
        "colab_type": "text"
      },
      "source": [
        "There is no significant reduction observed in the classification accuracy using the 1 pricncipal component as compared to and using principal component 2"
      ]
    },
    {
      "cell_type": "code",
      "metadata": {
        "id": "vTE_4KbkD5gu",
        "colab_type": "code",
        "colab": {
          "base_uri": "https://localhost:8080/",
          "height": 34
        },
        "outputId": "a36dfce7-9306-463b-f2d1-344d1e1e9f4f"
      },
      "source": [
        "# Results with Full Feature Set \n",
        "# To do so, we simply remove the PCA part\n",
        "# \n",
        "# OUR CODE GOES HERE\n",
        "from sklearn.metrics import accuracy_score\n",
        "\n",
        "\n",
        "print('Accuracy ' + str(accuracy_score(y_test, y_pred)))"
      ],
      "execution_count": 209,
      "outputs": [
        {
          "output_type": "stream",
          "text": [
            "Accuracy 0.8646101113967438\n"
          ],
          "name": "stdout"
        }
      ]
    },
    {
      "cell_type": "markdown",
      "metadata": {
        "id": "D9Zrn35kEWgN",
        "colab_type": "text"
      },
      "source": [
        "\n",
        "The accuracy received with full feature set should also be 86.889% which is not far apart from 86.46%"
      ]
    }
  ]
}